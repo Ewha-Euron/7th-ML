{
  "nbformat": 4,
  "nbformat_minor": 0,
  "metadata": {
    "colab": {
      "provenance": []
    },
    "kernelspec": {
      "name": "python3",
      "display_name": "Python 3"
    },
    "language_info": {
      "name": "python"
    }
  },
  "cells": [
    {
      "cell_type": "markdown",
      "source": [
        "# **1️⃣ 문제 1**"
      ],
      "metadata": {
        "id": "CQ65qquK86VB"
      }
    },
    {
      "cell_type": "markdown",
      "source": [
        "## **1-1. 제시문에 따라 전력 사용량을 입력 받고 적절한 작업을 수행해 주세요.(8점)**\n",
        "- 아파트 (주택용 저압)을 기준으로, kWh당 전력량요금(원/kWh)은 다음과 같이 계산됩니다.\n",
        "  - 300kWh이하 사용: 120.0  \n",
        "  - 300 초과 450 이하 사용: 214.6  \n",
        "  - 450 초과 사용: 307.3  \n",
        "\n",
        "\n",
        "- 전력량요금은 계단식으로 적용됩니다.  \n",
        " - ex) 480kWh 사용 시  \n",
        " 전력량요금 = $300 \\times 120.0 + 150 \\times 214.6 + (480 - 450) \\times 307.3 = 77409.0$(원)\n",
        "\n",
        "- 위의 내용을 기반으로 전력 사용량을 입력받으면 전력량요금을 계산하는 코드를 작성해 주세요.\n",
        "  - 전력 사용량은 `electric`에, 전력량요금은 `cost`라는 이름의 변수에 저장해 주세요.\n",
        "\n"
      ],
      "metadata": {
        "id": "5Td6izaQwZCK"
      }
    },
    {
      "cell_type": "markdown",
      "source": [
        "**📌조건**\n",
        "- `if`문 사용\n",
        "\n"
      ],
      "metadata": {
        "id": "zC-TXgx8Z0EE"
      }
    },
    {
      "cell_type": "markdown",
      "source": [
        "**💚 Test Case**  \n",
        "- [입력 예시 1]  \n",
        "  480\n",
        "  \n",
        "- [출력 예시 1]  \n",
        "  77409.0\n"
      ],
      "metadata": {
        "id": "HGluGfGtZ0EQ"
      }
    },
    {
      "cell_type": "code",
      "source": [
        "### 답안 작성 ###\n",
        "electric = float(input())\n",
        "\n",
        "if electric <= 300:\n",
        "  cost = electric*120.0\n",
        "elif electric <= 450:\n",
        "  cost = 300*120.0 + (electric - 300)*214.6\n",
        "else:\n",
        "  cost = 300*120.0 + 150*214.6 + (electric - 450)*307.3\n",
        "\n",
        "print(cost)"
      ],
      "metadata": {
        "colab": {
          "base_uri": "https://localhost:8080/"
        },
        "outputId": "d1e36b4e-b096-43b0-b2ed-682909c139d5",
        "id": "Kuh3zfdSeAgK"
      },
      "execution_count": null,
      "outputs": [
        {
          "output_type": "stream",
          "name": "stdout",
          "text": [
            "480\n",
            "77409.0\n"
          ]
        }
      ]
    },
    {
      "cell_type": "markdown",
      "source": [
        "## **1-2. 제시문에 따라 정수를 입력받고 이진수로 바꾸는 코드를 작성하세요.(10점)**\n",
        "- 십진수를 계속 2로 나누어 그 나머지를 역순으로 나열하면 이진수로 바꿀 수 있습니다.\n",
        "\n",
        "  - ex)  \n",
        "  $14 \\div 2 = 7 ⋯0$  \n",
        "  $7 \\div 2 = 3 ⋯1$  \n",
        "  $3 \\div 2 = 1 ⋯1$  \n",
        "  $1 \\div 2 = 0 ⋯1$  \n",
        "  → 위의 과정을 거쳐 나머지로 나온 0, 1, 1, 1을 역순으로 이어붙이면 14를 이진수 1110로 바꿀 수 있습니다!  \n",
        "\n",
        "- 십진수(0 이상의 정수)를 입력받고 수를 이진수로 바꿔주는 코드를 작성해 주세요.\n",
        "  - 입력값은 모두 0 이상의 정수라고 가정합니다.  \n",
        "- 입력받은 값은 `num10` 변수에 저장, 이진수로 바꾼 결과 값은 `result` 변수에 저장해주세요.   "
      ],
      "metadata": {
        "id": "9N1rMm87Hg-U"
      }
    },
    {
      "cell_type": "markdown",
      "source": [
        "**📌조건**\n",
        "- While문 사용\n",
        "- 내장함수는 `input`, `int`, `str`만 사용 가능\n",
        "- `bin`과 같은 이진수 변환 함수 사용 불가 (사용시 0점 처리)\n",
        "\n"
      ],
      "metadata": {
        "id": "3BbbCDt3XAJh"
      }
    },
    {
      "cell_type": "markdown",
      "source": [
        "**💚 Test Case**  \n",
        "- [입력 예시 1]  \n",
        "  14\n",
        "  \n",
        "- [출력 예시 1]  \n",
        "  1110"
      ],
      "metadata": {
        "id": "7Pq69Z_wWgPG"
      }
    },
    {
      "cell_type": "code",
      "source": [
        "# 입력 받기\n",
        "num10 = int(input())\n",
        "\n",
        "### 답안 작성 ###\n",
        "# 초기 저장값 설정\n",
        "result = \"0\" if num10 == 0 else \"\"\n",
        "\n",
        "while num10 != 0:\n",
        "  result = str(num10%2) + result\n",
        "  num10 = num10//2\n",
        "\n",
        "print(result)"
      ],
      "metadata": {
        "colab": {
          "base_uri": "https://localhost:8080/"
        },
        "outputId": "22b03103-01ed-45af-d036-c7d02943a19f",
        "id": "20dTM2HjeO5p"
      },
      "execution_count": null,
      "outputs": [
        {
          "output_type": "stream",
          "name": "stdout",
          "text": [
            "14\n",
            "1110\n"
          ]
        }
      ]
    },
    {
      "cell_type": "markdown",
      "source": [
        "## **1-3. 조건에 따라 입력받은 자연수가 소수인지 판별해주세요.(12점)**\n",
        "- 소수: 1과 자기 자신 만을 약수로 가지는 수\n",
        "- 입력받은 자연수는 2 이상이라고 가정하고, `mynum`에 저장해주세요.\n",
        "  "
      ],
      "metadata": {
        "id": "qNUvK0m286VL"
      }
    },
    {
      "cell_type": "markdown",
      "source": [
        "**📌조건**\n",
        "- 작성 시 `break`, `continue` 사용\n",
        "\n"
      ],
      "metadata": {
        "id": "575gz9yNZVtx"
      }
    },
    {
      "cell_type": "markdown",
      "source": [
        "**💚 Test Case**  \n",
        "- [입력 예시 1]  \n",
        "  35\n",
        "  \n",
        "- [출력 예시 1]  \n",
        "  소수가 아닙니다\n",
        "\n",
        "- [입력 예시 2]  \n",
        "  17  \n",
        "\n",
        "- [출력 예시 2]  \n",
        "  소수입니다!\n",
        "\n"
      ],
      "metadata": {
        "id": "BSAUES3NZVt7"
      }
    },
    {
      "cell_type": "code",
      "source": [
        "### 답안 작성 ###\n",
        "mynum = int(input())\n",
        "\n",
        "for i in range(2, mynum+1):\n",
        "  if mynum==2 or i==mynum:\n",
        "    print(\"소수입니다!\")\n",
        "  elif mynum%i == 0:\n",
        "    print(\"소수가 아닙니다\")\n",
        "    break\n",
        "  else:\n",
        "    continue"
      ],
      "metadata": {
        "colab": {
          "base_uri": "https://localhost:8080/"
        },
        "outputId": "96698480-9b08-4a23-d094-5eed530201f4",
        "id": "TBKizPdReduz"
      },
      "execution_count": null,
      "outputs": [
        {
          "output_type": "stream",
          "name": "stdout",
          "text": [
            "35\n",
            "소수가 아닙니다\n"
          ]
        }
      ]
    },
    {
      "cell_type": "code",
      "source": [
        "### 답안 작성 ###\n",
        "mynum = int(input())\n",
        "\n",
        "for i in range(2, mynum+1):\n",
        "  if mynum==2 or i==mynum:\n",
        "    print(\"소수입니다!\")\n",
        "  elif mynum%i == 0:\n",
        "    print(\"소수가 아닙니다\")\n",
        "    break\n",
        "  else:\n",
        "    continue"
      ],
      "metadata": {
        "colab": {
          "base_uri": "https://localhost:8080/"
        },
        "id": "bOjnNQz_Mu_z",
        "outputId": "e99df2ff-b93f-45c7-f553-915686c30ae2"
      },
      "execution_count": null,
      "outputs": [
        {
          "output_type": "stream",
          "name": "stdout",
          "text": [
            "17\n",
            "소수입니다!\n"
          ]
        }
      ]
    },
    {
      "cell_type": "markdown",
      "source": [
        "# **2️⃣ 문제 2**"
      ],
      "metadata": {
        "id": "JoDpQvdEsI2u"
      }
    },
    {
      "cell_type": "markdown",
      "source": [
        "## **2-1. 조건에 따라 문제를 해결해 주세요.(10점)**\n",
        "- 최대 50개의 정수를 차례로 입력받아 `numbers`라는 리스트에 저장하세요.\n",
        "- 0이 입력되면 입력을 중단하고 0을 제외한 마지막 세 개의 정수가 출력되는 프로그램을 작셍하세요.\n",
        "  - 단, 입력받은 정수가 3개 미만일 경우에는 모두 출력하세요."
      ],
      "metadata": {
        "id": "_8P5BRCmo3Wl"
      }
    },
    {
      "cell_type": "markdown",
      "source": [
        "**💚 Test Case**\n",
        "- [입력 예시 1]  \n",
        "15  \n",
        "35  \n",
        "55  \n",
        "75  \n",
        "95  \n",
        "0  \n",
        "\n",
        "- [출력 예시 1]  \n",
        "55  \n",
        "75  \n",
        "95  "
      ],
      "metadata": {
        "id": "DlUdVQDWr54t"
      }
    },
    {
      "cell_type": "code",
      "source": [
        "### 예시 답안\n",
        "# 정수를 저장할 리스트 생성하기\n",
        "numbers = []\n",
        "\n",
        "# 최대 50개의 정수를 입력받는 부분\n",
        "for n in range(50):\n",
        "    num = int(input())\n",
        "    if num == 0:\n",
        "        break\n",
        "    numbers.append(num)"
      ],
      "metadata": {
        "id": "g21PKaY_siin",
        "colab": {
          "base_uri": "https://localhost:8080/"
        },
        "outputId": "67b49c4f-254b-4a4e-e379-cba3b8b30c7f"
      },
      "execution_count": null,
      "outputs": [
        {
          "name": "stdout",
          "output_type": "stream",
          "text": [
            "15\n",
            "35\n",
            "55\n",
            "75\n",
            "95\n",
            "0\n"
          ]
        }
      ]
    },
    {
      "cell_type": "code",
      "source": [
        "# 마지막 세 개의 정수를 출력하는 부분\n",
        "if len(numbers) >= 3:\n",
        "    result = numbers[-3:]\n",
        "else:\n",
        "    result = numbers\n",
        "\n",
        "for num in result:\n",
        "    print(num)"
      ],
      "metadata": {
        "id": "J6qt_dv0pCPj",
        "colab": {
          "base_uri": "https://localhost:8080/"
        },
        "outputId": "43be40c1-e318-4109-b9f7-2a49bd9f4ce9"
      },
      "execution_count": null,
      "outputs": [
        {
          "output_type": "stream",
          "name": "stdout",
          "text": [
            "55\n",
            "75\n",
            "95\n"
          ]
        }
      ]
    },
    {
      "cell_type": "markdown",
      "source": [
        "## **2-2. 제시문에 따라 리스트를 만들고 적절한 작업을 수행해 주세요. (10점)**\n",
        "- 사용자로부터 정수 하나를 입력받아 변수 `n`에 저장하세요.\n",
        "- 이후 사용자에게 **n개**의 단어를 입력받은 후 리스트를 역순으로 바꾸고, 짝수 번째 단어들을 하나의 문자열로 묶어서 출력하세요.\n",
        "  - 이때, 짝수/홀수 번째의 기준은 역순으로 바뀐 후가 기준이 됩니다."
      ],
      "metadata": {
        "id": "za8XT5QJpCX6"
      }
    },
    {
      "cell_type": "markdown",
      "source": [
        "**💚 Test Case**  \n",
        "- [입력 예시 1]  \n",
        "4  \n",
        "first  \n",
        "second  \n",
        "third  \n",
        "fourth  \n",
        "\n",
        "- [출력 예시 1]  \n",
        "'thirdfirst'"
      ],
      "metadata": {
        "id": "xgJMqYXDsApF"
      }
    },
    {
      "cell_type": "code",
      "source": [
        "### 예시 답안\n",
        "\n",
        "words = [] # 단어를 저장할 리스트\n",
        "\n",
        "## 입력 부분\n",
        "# 사용자로부터 변수 n을 입력받는 부분\n",
        "n = int(input())\n",
        "\n",
        "# 사용자로부터 n개의 단어를 입력받는 부분\n",
        "for i in range(n):\n",
        "    word = input()\n",
        "    words.append(word)"
      ],
      "metadata": {
        "id": "D42rJhETpEqC",
        "colab": {
          "base_uri": "https://localhost:8080/"
        },
        "outputId": "502250e7-b849-4561-bc2f-110f7fe9181c"
      },
      "execution_count": null,
      "outputs": [
        {
          "name": "stdout",
          "output_type": "stream",
          "text": [
            "4\n",
            "first\n",
            "second\n",
            "third\n",
            "fourth\n"
          ]
        }
      ]
    },
    {
      "cell_type": "code",
      "source": [
        "# 사용자로부터 입력받은 단어를 역순으로 바꾸는 부분\n",
        "reversed_words = words[::-1]\n",
        "\n",
        "## 출력 부분\n",
        "# 리스트를 역순으로 바꾸고 짝수 번째 단어들을 하나의 문자열로 묶는 부분\n",
        "even_words = []\n",
        "for word in reversed_words[1::2]:\n",
        "    even_words.append(word)\n",
        "\n",
        "''.join(even_words)"
      ],
      "metadata": {
        "id": "rR1HacUasFgT",
        "colab": {
          "base_uri": "https://localhost:8080/",
          "height": 35
        },
        "outputId": "3f3d8483-8546-4980-a85b-fcb8291e2145"
      },
      "execution_count": null,
      "outputs": [
        {
          "output_type": "execute_result",
          "data": {
            "text/plain": [
              "'thirdfirst'"
            ],
            "application/vnd.google.colaboratory.intrinsic+json": {
              "type": "string"
            }
          },
          "metadata": {},
          "execution_count": 7
        }
      ]
    },
    {
      "cell_type": "markdown",
      "source": [
        "## **2-3. 조건에 따라 알맞은 리스트들을 생성하고, 작업을 수행하세요. (10점)**\n",
        "- 1부터 100까지의 홀수가 들어있는 리스트 `odd_numbers`를 생성하고, 사용자로부터 *3 이상의 정수*를 입력받아 변수 `input_num`에 저장하세요.\n",
        "- 그리고 `input_num`으로 나누었을 때 나머지가 2가 되는 정수들만으로 구성된 부분 리스트 `result_list`의 원소의 평균값을 출력하는 프로그램을 작성하세요.\n",
        "  - 이때, 사용자는 3 이상의 정수만을 입력한다고 가정합니다."
      ],
      "metadata": {
        "id": "dRrluCTnpEyx"
      }
    },
    {
      "cell_type": "markdown",
      "source": [
        "**💚 Test Case**  \n",
        "- [입력 예시 1]  \n",
        "  5\n",
        "\n",
        "- [출력 예시 1]  \n",
        "  52.0"
      ],
      "metadata": {
        "id": "OHnF4kMEsIU9"
      }
    },
    {
      "cell_type": "code",
      "source": [
        "### 예시 답안\n",
        "# 1부터 100까지의 홀수가 들어있는 odd_numbers 리스트 생성하기\n",
        "odd_numbers = list(range(1, 100, 2))\n",
        "\n",
        "## 입력 부분\n",
        "# 사용자로부터 정수를 입력받는 부분\n",
        "input_num = int(input())\n",
        "\n",
        "# 부분 리스트 result_list를 정의해주세요.\n",
        "result_list = [num for num in odd_numbers if num % input_num == 2]\n",
        "\n",
        "## 출력 부분\n",
        "# result_list의 원소의 평균값을 출력하는 부분\n",
        "print(sum(result_list)/len(result_list))"
      ],
      "metadata": {
        "id": "y6ukOth8pHTO",
        "colab": {
          "base_uri": "https://localhost:8080/"
        },
        "outputId": "c1a72856-ae87-4206-bcdb-e8f710707284"
      },
      "execution_count": null,
      "outputs": [
        {
          "output_type": "stream",
          "name": "stdout",
          "text": [
            "5\n",
            "52.0\n"
          ]
        }
      ]
    },
    {
      "cell_type": "markdown",
      "source": [
        "## **2-4. 지시문에 따라 작업을 완료해 주세요. (10점)**  \n",
        "- 사용자로부터 문자열(단어) 1개를 입력받아 해당 문자열을 구성하는 문자들을 리스트에 저장하세요.\n",
        "- 그 후, 사용자로부터 문자 한 개를 입력받아 리스트에서의 위치를 출력하는 프로그램을 작성하세요.\n",
        "  - 첫 번째 위치는 0번이며 배열에 없는 문자가 입력되면 \"None\"이라는 메시지를 출력하세요.\n",
        "- 단, 문자열(단어)의 글자 수는 2개 이상이라고 가정합니다."
      ],
      "metadata": {
        "id": "UTKQKNP3pHY7"
      }
    },
    {
      "cell_type": "markdown",
      "source": [
        "**💚 Test Case**  \n",
        "- [입력 예시 1]  \n",
        "문자열을 입력하세요: euron  \n",
        "찾고자 하는 문자를 입력하세요: r  \n",
        "- [출력 예시 1]  \n",
        "r의 위치: 2  "
      ],
      "metadata": {
        "id": "znpJalNe-YD9"
      }
    },
    {
      "cell_type": "code",
      "source": [
        "### 예시 답안\n",
        "# 사용자로부터 문자열 입력 받는 부분\n",
        "word = input(\"문자열을 입력하세요: \")\n",
        "\n",
        "# 문자열을 문자 리스트로 변환\n",
        "char_list = list(word)\n",
        "\n",
        "# 사용자로부터 찾고자 하는 문자 입력 받는 부분\n",
        "char = input(\"찾고자 하는 문자를 입력하세요: \")"
      ],
      "metadata": {
        "id": "yIOExb0--anI",
        "colab": {
          "base_uri": "https://localhost:8080/"
        },
        "outputId": "8bca56c7-004a-403e-9452-d43ff2db3740"
      },
      "execution_count": null,
      "outputs": [
        {
          "name": "stdout",
          "output_type": "stream",
          "text": [
            "문자열을 입력하세요: euron\n",
            "찾고자 하는 문자를 입력하세요: r\n"
          ]
        }
      ]
    },
    {
      "cell_type": "code",
      "source": [
        "# 리스트에서 문자의 위치(인덱스) 찾기\n",
        "if char in char_list:\n",
        "    index = char_list.index(char)\n",
        "    print(f\"{char}의 위치: {index}\")\n",
        "else:\n",
        "    print(\"None\")"
      ],
      "metadata": {
        "id": "JAVntv8qpJnA",
        "colab": {
          "base_uri": "https://localhost:8080/"
        },
        "outputId": "cf0a18de-272f-4be0-f3fd-bba26dc240c5"
      },
      "execution_count": null,
      "outputs": [
        {
          "output_type": "stream",
          "name": "stdout",
          "text": [
            "r의 위치: 2\n"
          ]
        }
      ]
    },
    {
      "cell_type": "markdown",
      "source": [
        "# **3️⃣ 문제 3**"
      ],
      "metadata": {
        "id": "VDNNMnR5uKXs"
      }
    },
    {
      "cell_type": "markdown",
      "source": [
        "### **3-1. 조건에 맞게 미니 계산기를 만들어 주세요. (5점)**\n",
        "- `self` 옆에는 함수에 필요한 파라미터들이 모두 비워져 있습니다.\n",
        "  - 적절한 파라미터를 받을 수 있도록 코드를 작성해 주세요.\n",
        "- 함수 구현부는 모두 \"pass\"로 작성되어 있습니다.\n",
        "  - 함수 구현부를 완성하여 함수가 알맞게 작동할 수 있도록 해주세요.\n",
        "\n",
        "\n"
      ],
      "metadata": {
        "id": "h7rPef_muKXt"
      }
    },
    {
      "cell_type": "markdown",
      "source": [
        "**📌조건**\n",
        "- 아래 주어진 클래스 `Calculator`는 계산기를 위한 기본 구조로 제공된 것입니다.\n",
        "  - 여러분이 집중해야 할 부분은 **클래스 내부의 함수들을 완성하는 것**입니다. 각 함수는 다음의 연산을 수행해야 합니다:\n",
        "    - **더하기(add)**\n",
        "    - **빼기(subtract)**\n",
        "    - **곱하기(multiply)**\n",
        "    - **나누기(divide)**\n",
        "  \n",
        "  - 클래스나 객체지향 프로그래밍에 대한 깊은 이해가 없어도 괜찮습니다.  \n",
        "  클래스는 **문제를 풀기 위한 틀**로 제공된 것일 뿐이며, 각 연산을 수행하는 **함수 구현**에 집중해 주세요.\n",
        "\n"
      ],
      "metadata": {
        "id": "WLw1DvLxq9PL"
      }
    },
    {
      "cell_type": "markdown",
      "source": [
        "**💚 Test Case**  \n",
        "- [입력 예시 1]  \n",
        "  8 4\n",
        "  \n",
        "- [출력 예시 1]  \n",
        "  더하기:  12  \n",
        "  빼기:  4  \n",
        "  곱하기:  32    \n",
        "  나누기:  2\n",
        "\n",
        "- [입력 예시 2]  \n",
        "  3 7\n",
        "  \n",
        "- [출력 예시 2]  \n",
        "  더하기:  10  \n",
        "  빼기:  -4  \n",
        "  곱하기:  21    \n",
        "  나누기:  2\n"
      ],
      "metadata": {
        "id": "_v1RMw2bIKWw"
      }
    },
    {
      "cell_type": "markdown",
      "source": [
        "**🔍힌트**\n",
        "- 클래스 내의 함수를 호출할 때는 다음과 같이 호출합니다.\n",
        "  - `myCalc.add()`: myCalc(계산기) 내에 정의된 기능 중 더하기 기능을 사용하겠다."
      ],
      "metadata": {
        "id": "Dt74u_AxIMYF"
      }
    },
    {
      "cell_type": "code",
      "source": [
        "### 클래스 및 함수 정의\n",
        "\n",
        "class Calculator:\n",
        "  ### 예시 답안\n",
        "  def add(self, num1, num2):\n",
        "    return num1 + num2\n",
        "\n",
        "  ### 예시 답안\n",
        "  def subtract(self, num1, num2):\n",
        "    return num1 - num2\n",
        "\n",
        "  ### 예시 답안\n",
        "  def multiply(self, num1, num2):\n",
        "    return num1 * num2\n",
        "\n",
        "  ### 예시 답안\n",
        "  def divide(self, num1, num2):\n",
        "    if num1 > num2:\n",
        "      return num1 // num2\n",
        "    else:\n",
        "      return num2 // num1"
      ],
      "metadata": {
        "id": "Jsmgdte0kHs3"
      },
      "execution_count": null,
      "outputs": []
    },
    {
      "cell_type": "code",
      "source": [
        "### 함수 호출 및 실행\n",
        "## 예시답안\n",
        "\n",
        "## 계산기 선언\n",
        "myCalc = Calculator() # 계산기 객체 생성\n",
        "\n",
        "## 연산을 할 두 수 입력받기\n",
        "num1, num2 = map(int, input('두 수를 공백을 기준으로 입력해 주세요: ').split())\n",
        "\n",
        "## 사칙연산 수행\n",
        "# 더하기\n",
        "ans_add = myCalc.add(num1, num2)\n",
        "print(\"더하기: \", ans_add)\n",
        "\n",
        "# 빼기\n",
        "ans_sub = myCalc.subtract(num1, num2)\n",
        "print(\"빼기: \", ans_sub)\n",
        "\n",
        "# 곱하기\n",
        "ans_mul = myCalc.multiply(num1, num2)\n",
        "print(\"곱하기: \", ans_mul)\n",
        "\n",
        "# 나누기\n",
        "ans_div = myCalc.divide(num1, num2)\n",
        "print(\"나누기: \", ans_div)"
      ],
      "metadata": {
        "colab": {
          "base_uri": "https://localhost:8080/"
        },
        "id": "1ZCVUPh8mM8b",
        "outputId": "dad5ebbd-be77-4f6c-8157-e9a9cd7970cf"
      },
      "execution_count": null,
      "outputs": [
        {
          "output_type": "stream",
          "name": "stdout",
          "text": [
            "두 수를 공백을 기준으로 입력해 주세요: 3 7\n",
            "더하기:  10\n",
            "빼기:  -4\n",
            "곱하기:  21\n",
            "나누기:  2\n"
          ]
        }
      ]
    },
    {
      "cell_type": "markdown",
      "source": [
        "## **3-2. 제시문에 따라 문제를 해결해 주세요(10점)**"
      ],
      "metadata": {
        "id": "z9CI7viQuKXw"
      }
    },
    {
      "cell_type": "markdown",
      "source": [
        "### **제시문**\n",
        "- 아래 정의된 함수는 가로(w)와 세로(h)의 길이를 입력받아 직사각형의 넓이를 반환해 주는 함수입니다.\n",
        "  ```python\n",
        "  ### 함수 정의\n",
        "  def calculate_square(w, h):\n",
        "      area = w * h\n",
        "      return\n",
        "  ```\n",
        "\n",
        "- 이제, 입력을 받아 직사각형의 넓이를 계산해 봅시다.\n",
        "  ```python\n",
        "  ### 함수 호출 및 실행\n",
        "  # 실행해 주세요!\n",
        "  area = 0\n",
        "  w, h = map(int, input('가로(w)와 세로(h)를 공백을 기준으로 입력하세요: ').split())\n",
        "  calculate_square(w, h)\n",
        "  print('직사각형의 넓이: ', area)\n",
        "  ```\n",
        "\n",
        "  ```\n",
        "  가로(w)와 세로(h)를 공백을 기준으로 입력하세요: 3 4\n",
        "  직사각형의 넓이:  0\n",
        "  ```\n",
        "\n",
        "  이런,, 넓이가 0이 나와버렸네요 😭\n"
      ],
      "metadata": {
        "id": "YvooUD08pzSN"
      }
    },
    {
      "cell_type": "markdown",
      "source": [
        "### **3-2-1.(6점)**\n",
        "- 아래 셀에서 정의된 함수를 수정하여 함수가 정상적으로 동작할 수 있도록 해주세요.  \n",
        "\n",
        "**📌조건**\n",
        "- 함수 \"정의\" 부분만 수정하셔야 합니다.\n",
        "  - `호출 및 실행` 부분을 수정하시면 안됩니다.\n",
        "\n",
        "**💚 Test Case**  \n",
        "- [입력 예시 1]  \n",
        "  - 3 4\n",
        "  \n",
        "- [출력 예시 1]  \n",
        "  - 12"
      ],
      "metadata": {
        "id": "_C37e5KmbzJb"
      }
    },
    {
      "cell_type": "code",
      "source": [
        "### 함수 정의\n",
        "\n",
        "def calculate_square(w, h):\n",
        "    # 해당 부분을 수정해 주세요!\n",
        "\n",
        "    global area ### 예시답안 ###\n",
        "    area = w * h\n",
        "    return"
      ],
      "metadata": {
        "id": "nLKa3_LdbMU4"
      },
      "execution_count": null,
      "outputs": []
    },
    {
      "cell_type": "code",
      "source": [
        "### 함수 호출 및 실행\n",
        "# 해당 부분은 수정하시면 안됩니다.\n",
        "\n",
        "# 실행해 주세요!\n",
        "\n",
        "area = 0\n",
        "w, h = map(int, input('가로(w)와 세로(h)를 공백을 기준으로 입력하세요: ').split())\n",
        "calculate_square(w, h)\n",
        "print('직사각형의 넓이: ', area)"
      ],
      "metadata": {
        "colab": {
          "base_uri": "https://localhost:8080/"
        },
        "id": "kE9PoQCEc0Cr",
        "outputId": "40afa8e1-ec3f-431e-cfb6-10f722920890"
      },
      "execution_count": null,
      "outputs": [
        {
          "output_type": "stream",
          "name": "stdout",
          "text": [
            "가로(w)와 세로(h)를 공백을 기준으로 입력하세요: 3 4\n",
            "직사각형의 넓이:  12\n"
          ]
        }
      ]
    },
    {
      "cell_type": "markdown",
      "source": [
        "### **3-2-2.(4점)**\n",
        "- 함수 구현을 위와 같이 수정하신 이유를 2~3줄 정도로 간단히 설명해 주세요."
      ],
      "metadata": {
        "id": "SCh6yrR9dNFD"
      }
    },
    {
      "cell_type": "markdown",
      "source": [
        "**예시답안**  \n",
        "- 함수에는 변수 종류가 두 가지 있습니다.\n",
        "  - 지역 변수는 함수 내에서 선언되는 변수로, 함수 내세어만 사용됩니다. 따라서, 함수 종료 시 사라지는 변수입니다.\n",
        "  - 반면, 전역 변수는 함수 외부에서 선언되는 변수로, 어디서나 접근이 가능한 변수입니다.\n",
        "- 파이썬의 경우 함수 안에서 단순히 전역 변수의 값을 변경하려고 하면, 함수 외부에서는 값이 변경되지 않은 채 그대로 유지됩니다. 따라서, `global`을 사용하여 전역 변수에 값을 저장한다고 알려주어야 합니다."
      ],
      "metadata": {
        "id": "nlnubsXNdfE2"
      }
    },
    {
      "cell_type": "markdown",
      "source": [
        "## **3-3. 제시문에 따라 문제를 해결해 주세요. (15점)**\n",
        "- 여러분은 특정 규칙에 따라 숫자를 변환하는 프로그램을 작성하려고 합니다. 이 프로그램은 주어진 숫자를 변환하는 두 가지 함수를 제공합니다:\n",
        "  1. **자리수 뒤집기**: 주어진 숫자의 자리수를 뒤집는 함수 (`reverse_digits()`).\n",
        "  2. **자리수 합 계산**: 주어진 숫자의 모든 자리수의 합을 구하는 함수 (`sum_of_digits()`).\n",
        "\n",
        "- 또한, 이 두 함수를 활용하여 주어진 숫자를 변환하는 세 번째 함수를 작성해야 합니다:\n",
        "\n",
        "  3. **숫자 변환**: 주어진 숫자에 대해 다음과 같은 규칙을 따르는 변환을 수행하는 함수 (`transform_number()`):\n",
        "      - **짝수**일 경우: 숫자의 자리수를 뒤집은 값을 반환합니다.\n",
        "      - **홀수**일 경우: 숫자의 모든 자리수의 합을 반환합니다.\n",
        "      - 결과값이 한 자리 숫자가 아닐 경우, 위 규칙을 반복적으로 적용하여 한 자리 숫자가 될 때까지 변환을 수행합니다."
      ],
      "metadata": {
        "id": "js-AbVZkGnlF"
      }
    },
    {
      "cell_type": "markdown",
      "source": [
        "**📌 조건**:\n",
        "- 세 번째 함수 `transform_number`는 첫 번째 함수 `reverse_digits`와 두 번째 함수 `sum_of_digits`를 반드시 호출하여 변환을 수행해야 합니다.\n",
        "  - 예를 들어, 주어진 숫자가 1324라면:\n",
        "    - 1324는 짝수이므로 자리수를 뒤집어 4231로 변환합니다.\n",
        "    - 4231은 홀수이므로 자리수의 합을 구하여 10(4+2+3+1)을 얻습니다.\n",
        "    - 10은 짝수이므로 다시 자리수를 뒤집어 1이 됩니다.\n",
        "    - 1은 한 자리 숫자이므로 최종 결과는 1입니다.\n",
        "- 또한, 세 번째 함수는 \"재귀 호출\" 방식으로 구현해야 합니다.\n",
        "- 아래 제시한 3개의 test 케이스에 대해서만 통과되도록 코드를 완성하시면 됩니다.\n",
        "  - 일부 다른 테스트 케이스를 넣는 경우 무한 loop가 발생할 수 있기에 추가된 조건입니다."
      ],
      "metadata": {
        "id": "_Agw-vYBOekl"
      }
    },
    {
      "cell_type": "markdown",
      "source": [
        "**💚 Test Case**\n",
        "- [입력 예시 1]  \n",
        "  `transform_number(1324)`  \n",
        "- [출력 예시 1]  \n",
        "  1\n",
        "  \n",
        "- [입력 예시 2]  \n",
        "  `transform_number(9876)`  \n",
        "- [출력 예시 2]  \n",
        "  3\n",
        "  \n",
        "- [입력 예시 3]  \n",
        "  `transform_number(5)`  \n",
        "- [출력 예시 3]  \n",
        "  5"
      ],
      "metadata": {
        "id": "4RcqQKDKOf-6"
      }
    },
    {
      "cell_type": "markdown",
      "source": [
        "**🔍 힌트**:\n",
        "- `reverse_digits()`: 문자열 변환\n",
        "- `sum_of_digits()`: 숫자를 문자열로 변환\n",
        "- `transform_number()`: 재귀 호출"
      ],
      "metadata": {
        "id": "WHkOQUuCPBVq"
      }
    },
    {
      "cell_type": "code",
      "source": [
        "### 예시답안\n",
        "\n",
        "def reverse_digits(num):\n",
        "  # 숫자를 문자열로 변환하여 뒤집은 후 다시 정수로 변환\n",
        "  return int(str(num)[::-1])"
      ],
      "metadata": {
        "id": "l4CA1cPKIzC4"
      },
      "execution_count": null,
      "outputs": []
    },
    {
      "cell_type": "code",
      "source": [
        "### 예시답안\n",
        "\n",
        "def sum_of_digits(num):\n",
        "  # 숫자를 문자열로 변환하여 각 자리수를 더한 후 반환\n",
        "  return sum(int(digit) for digit in str(num))"
      ],
      "metadata": {
        "id": "9Z2sLSwvPYWo"
      },
      "execution_count": null,
      "outputs": []
    },
    {
      "cell_type": "code",
      "source": [
        "### 예시답안\n",
        "\n",
        "def transform_number(num):\n",
        "  ## 한 자리 숫자가 되면 종료\n",
        "  if num < 10:\n",
        "    return num\n",
        "  ## 짝수인지 홀수인지 판단하여 해당 함수 호출\n",
        "  # 짝수인 경우\n",
        "  if num % 2 == 0:\n",
        "    transformed_num = reverse_digits(num)\n",
        "  # 홀수인 경우\n",
        "  else:\n",
        "    transformed_num = sum_of_digits(num)\n",
        "\n",
        "  # 한 자리 숫자가 될 때까지 재귀 호출\n",
        "  return transform_number(transformed_num)"
      ],
      "metadata": {
        "id": "1Ki0fNRDPgZI"
      },
      "execution_count": null,
      "outputs": []
    },
    {
      "cell_type": "code",
      "source": [
        "### Testing\n",
        "# 문제에서 제시한 3가지 케이스에 대해 테스트 해주세요!\n",
        "\n",
        "print(transform_number(1324))  # 출력: 1\n",
        "print(transform_number(9876))  # 출력: 3\n",
        "print(transform_number(5))     # 출력: 5"
      ],
      "metadata": {
        "colab": {
          "base_uri": "https://localhost:8080/"
        },
        "id": "FyXCYTXRQCFC",
        "outputId": "2f0728b2-a534-4a09-8280-188adf3b88b2"
      },
      "execution_count": null,
      "outputs": [
        {
          "output_type": "stream",
          "name": "stdout",
          "text": [
            "1\n",
            "3\n",
            "5\n"
          ]
        }
      ]
    },
    {
      "cell_type": "markdown",
      "source": [
        "# **4️⃣ 문제 4**"
      ],
      "metadata": {
        "id": "WkLuH3mBsnt5"
      }
    },
    {
      "cell_type": "markdown",
      "source": [
        "## **4-1. 넘파이(5점)**\n",
        "- 10부터 49까지의 범위를 가지는 넘파이 벡터를 생성한 후, 저장된 값들을 역순으로 돌려주세요."
      ],
      "metadata": {
        "id": "Tp5PlDxAqK_c"
      }
    },
    {
      "cell_type": "markdown",
      "source": [
        "**📌 조건**  \n",
        "-  numpy 내장 함수를 활용해 주세요.\n",
        "- vec 변수의 type은 `numpy.ndarray`여야 합니다."
      ],
      "metadata": {
        "id": "cZH3faJHwXKM"
      }
    },
    {
      "cell_type": "code",
      "source": [
        "import numpy as np # 넘파이 모듈 호출\n",
        "\n",
        "# 10부터 49까지의 범위를 가지는 벡터 생성\n",
        "vec = np.arange(10,50)\n",
        "\n",
        "# 역순으로 돌려주기\n",
        "reversed_vec = vec[::-1] # 답안 2) np.flip(vec, axis = p)\n",
        "\n",
        "# 결과 출력\n",
        "print(reversed_vec)"
      ],
      "metadata": {
        "id": "KvOXG5NMqNYf",
        "colab": {
          "base_uri": "https://localhost:8080/"
        },
        "outputId": "721a217b-68ed-447a-9e34-a13e736b4ce9"
      },
      "execution_count": null,
      "outputs": [
        {
          "output_type": "stream",
          "name": "stdout",
          "text": [
            "[49 48 47 46 45 44 43 42 41 40 39 38 37 36 35 34 33 32 31 30 29 28 27 26\n",
            " 25 24 23 22 21 20 19 18 17 16 15 14 13 12 11 10]\n"
          ]
        }
      ]
    },
    {
      "cell_type": "code",
      "execution_count": null,
      "metadata": {
        "colab": {
          "base_uri": "https://localhost:8080/"
        },
        "id": "u857R7tgHoNK",
        "outputId": "5720beff-9e1d-48f9-ad9b-4ec35e4e441e"
      },
      "outputs": [
        {
          "data": {
            "text/plain": [
              "numpy.ndarray"
            ]
          },
          "execution_count": 10,
          "metadata": {},
          "output_type": "execute_result"
        }
      ],
      "source": [
        "### 채점용 코드\n",
        "\n",
        "type(vec) # 풀이는 다르게 하셔도 괜찮으나 ndarray 안나오면 다 오답 처리"
      ]
    },
    {
      "cell_type": "markdown",
      "source": [
        "## **4-2. 판다스(5점)**\n",
        "- 제시문에 따라 문제를 해결해 주세요"
      ],
      "metadata": {
        "id": "GRCKutcPqNpY"
      }
    },
    {
      "cell_type": "markdown",
      "source": [
        "### **제시문**\n",
        "- 판다스 모듈을 import하고, 데이터 분석에 활용할 데이터 프레임을 생성하겠습니다."
      ],
      "metadata": {
        "id": "tuktjw2ZqVvs"
      }
    },
    {
      "cell_type": "code",
      "source": [
        "### 실행해 주세요!\n",
        "\n",
        "import pandas as pd # 판다스 모듈 호출\n",
        "\n",
        "electronics = {'company': ['samsung', 'apple', 'lg', 'apple', 'samsung', 'apple', 'samsung', 'apple'],\n",
        "               'price': [1000000, 1500000, 1200000, 600000, 650000, 1000000, 180000, 270000],\n",
        "               'product': ['Galaxy', 'MacBook', 'Gram', 'Watch', 'Z-Flip', 'IPad', 'Buds', 'Airpods']}\n",
        "\n",
        "electronics = pd.DataFrame(electronics)\n",
        "electronics"
      ],
      "metadata": {
        "colab": {
          "base_uri": "https://localhost:8080/",
          "height": 300
        },
        "id": "tonJl-WNxNf7",
        "outputId": "4299242a-2f78-4130-cc16-744552bbd553"
      },
      "execution_count": null,
      "outputs": [
        {
          "output_type": "execute_result",
          "data": {
            "text/plain": [
              "   company    price  product\n",
              "0  samsung  1000000   Galaxy\n",
              "1    apple  1500000  MacBook\n",
              "2       lg  1200000     Gram\n",
              "3    apple   600000    Watch\n",
              "4  samsung   650000   Z-Flip\n",
              "5    apple  1000000     IPad\n",
              "6  samsung   180000     Buds\n",
              "7    apple   270000  Airpods"
            ],
            "text/html": [
              "\n",
              "  <div id=\"df-5a33b52f-1310-447b-af9e-29d3a6cb6056\" class=\"colab-df-container\">\n",
              "    <div>\n",
              "<style scoped>\n",
              "    .dataframe tbody tr th:only-of-type {\n",
              "        vertical-align: middle;\n",
              "    }\n",
              "\n",
              "    .dataframe tbody tr th {\n",
              "        vertical-align: top;\n",
              "    }\n",
              "\n",
              "    .dataframe thead th {\n",
              "        text-align: right;\n",
              "    }\n",
              "</style>\n",
              "<table border=\"1\" class=\"dataframe\">\n",
              "  <thead>\n",
              "    <tr style=\"text-align: right;\">\n",
              "      <th></th>\n",
              "      <th>company</th>\n",
              "      <th>price</th>\n",
              "      <th>product</th>\n",
              "    </tr>\n",
              "  </thead>\n",
              "  <tbody>\n",
              "    <tr>\n",
              "      <th>0</th>\n",
              "      <td>samsung</td>\n",
              "      <td>1000000</td>\n",
              "      <td>Galaxy</td>\n",
              "    </tr>\n",
              "    <tr>\n",
              "      <th>1</th>\n",
              "      <td>apple</td>\n",
              "      <td>1500000</td>\n",
              "      <td>MacBook</td>\n",
              "    </tr>\n",
              "    <tr>\n",
              "      <th>2</th>\n",
              "      <td>lg</td>\n",
              "      <td>1200000</td>\n",
              "      <td>Gram</td>\n",
              "    </tr>\n",
              "    <tr>\n",
              "      <th>3</th>\n",
              "      <td>apple</td>\n",
              "      <td>600000</td>\n",
              "      <td>Watch</td>\n",
              "    </tr>\n",
              "    <tr>\n",
              "      <th>4</th>\n",
              "      <td>samsung</td>\n",
              "      <td>650000</td>\n",
              "      <td>Z-Flip</td>\n",
              "    </tr>\n",
              "    <tr>\n",
              "      <th>5</th>\n",
              "      <td>apple</td>\n",
              "      <td>1000000</td>\n",
              "      <td>IPad</td>\n",
              "    </tr>\n",
              "    <tr>\n",
              "      <th>6</th>\n",
              "      <td>samsung</td>\n",
              "      <td>180000</td>\n",
              "      <td>Buds</td>\n",
              "    </tr>\n",
              "    <tr>\n",
              "      <th>7</th>\n",
              "      <td>apple</td>\n",
              "      <td>270000</td>\n",
              "      <td>Airpods</td>\n",
              "    </tr>\n",
              "  </tbody>\n",
              "</table>\n",
              "</div>\n",
              "    <div class=\"colab-df-buttons\">\n",
              "\n",
              "  <div class=\"colab-df-container\">\n",
              "    <button class=\"colab-df-convert\" onclick=\"convertToInteractive('df-5a33b52f-1310-447b-af9e-29d3a6cb6056')\"\n",
              "            title=\"Convert this dataframe to an interactive table.\"\n",
              "            style=\"display:none;\">\n",
              "\n",
              "  <svg xmlns=\"http://www.w3.org/2000/svg\" height=\"24px\" viewBox=\"0 -960 960 960\">\n",
              "    <path d=\"M120-120v-720h720v720H120Zm60-500h600v-160H180v160Zm220 220h160v-160H400v160Zm0 220h160v-160H400v160ZM180-400h160v-160H180v160Zm440 0h160v-160H620v160ZM180-180h160v-160H180v160Zm440 0h160v-160H620v160Z\"/>\n",
              "  </svg>\n",
              "    </button>\n",
              "\n",
              "  <style>\n",
              "    .colab-df-container {\n",
              "      display:flex;\n",
              "      gap: 12px;\n",
              "    }\n",
              "\n",
              "    .colab-df-convert {\n",
              "      background-color: #E8F0FE;\n",
              "      border: none;\n",
              "      border-radius: 50%;\n",
              "      cursor: pointer;\n",
              "      display: none;\n",
              "      fill: #1967D2;\n",
              "      height: 32px;\n",
              "      padding: 0 0 0 0;\n",
              "      width: 32px;\n",
              "    }\n",
              "\n",
              "    .colab-df-convert:hover {\n",
              "      background-color: #E2EBFA;\n",
              "      box-shadow: 0px 1px 2px rgba(60, 64, 67, 0.3), 0px 1px 3px 1px rgba(60, 64, 67, 0.15);\n",
              "      fill: #174EA6;\n",
              "    }\n",
              "\n",
              "    .colab-df-buttons div {\n",
              "      margin-bottom: 4px;\n",
              "    }\n",
              "\n",
              "    [theme=dark] .colab-df-convert {\n",
              "      background-color: #3B4455;\n",
              "      fill: #D2E3FC;\n",
              "    }\n",
              "\n",
              "    [theme=dark] .colab-df-convert:hover {\n",
              "      background-color: #434B5C;\n",
              "      box-shadow: 0px 1px 3px 1px rgba(0, 0, 0, 0.15);\n",
              "      filter: drop-shadow(0px 1px 2px rgba(0, 0, 0, 0.3));\n",
              "      fill: #FFFFFF;\n",
              "    }\n",
              "  </style>\n",
              "\n",
              "    <script>\n",
              "      const buttonEl =\n",
              "        document.querySelector('#df-5a33b52f-1310-447b-af9e-29d3a6cb6056 button.colab-df-convert');\n",
              "      buttonEl.style.display =\n",
              "        google.colab.kernel.accessAllowed ? 'block' : 'none';\n",
              "\n",
              "      async function convertToInteractive(key) {\n",
              "        const element = document.querySelector('#df-5a33b52f-1310-447b-af9e-29d3a6cb6056');\n",
              "        const dataTable =\n",
              "          await google.colab.kernel.invokeFunction('convertToInteractive',\n",
              "                                                    [key], {});\n",
              "        if (!dataTable) return;\n",
              "\n",
              "        const docLinkHtml = 'Like what you see? Visit the ' +\n",
              "          '<a target=\"_blank\" href=https://colab.research.google.com/notebooks/data_table.ipynb>data table notebook</a>'\n",
              "          + ' to learn more about interactive tables.';\n",
              "        element.innerHTML = '';\n",
              "        dataTable['output_type'] = 'display_data';\n",
              "        await google.colab.output.renderOutput(dataTable, element);\n",
              "        const docLink = document.createElement('div');\n",
              "        docLink.innerHTML = docLinkHtml;\n",
              "        element.appendChild(docLink);\n",
              "      }\n",
              "    </script>\n",
              "  </div>\n",
              "\n",
              "\n",
              "<div id=\"df-cc4e9e50-567e-420a-8b45-5eb4c973695d\">\n",
              "  <button class=\"colab-df-quickchart\" onclick=\"quickchart('df-cc4e9e50-567e-420a-8b45-5eb4c973695d')\"\n",
              "            title=\"Suggest charts\"\n",
              "            style=\"display:none;\">\n",
              "\n",
              "<svg xmlns=\"http://www.w3.org/2000/svg\" height=\"24px\"viewBox=\"0 0 24 24\"\n",
              "     width=\"24px\">\n",
              "    <g>\n",
              "        <path d=\"M19 3H5c-1.1 0-2 .9-2 2v14c0 1.1.9 2 2 2h14c1.1 0 2-.9 2-2V5c0-1.1-.9-2-2-2zM9 17H7v-7h2v7zm4 0h-2V7h2v10zm4 0h-2v-4h2v4z\"/>\n",
              "    </g>\n",
              "</svg>\n",
              "  </button>\n",
              "\n",
              "<style>\n",
              "  .colab-df-quickchart {\n",
              "      --bg-color: #E8F0FE;\n",
              "      --fill-color: #1967D2;\n",
              "      --hover-bg-color: #E2EBFA;\n",
              "      --hover-fill-color: #174EA6;\n",
              "      --disabled-fill-color: #AAA;\n",
              "      --disabled-bg-color: #DDD;\n",
              "  }\n",
              "\n",
              "  [theme=dark] .colab-df-quickchart {\n",
              "      --bg-color: #3B4455;\n",
              "      --fill-color: #D2E3FC;\n",
              "      --hover-bg-color: #434B5C;\n",
              "      --hover-fill-color: #FFFFFF;\n",
              "      --disabled-bg-color: #3B4455;\n",
              "      --disabled-fill-color: #666;\n",
              "  }\n",
              "\n",
              "  .colab-df-quickchart {\n",
              "    background-color: var(--bg-color);\n",
              "    border: none;\n",
              "    border-radius: 50%;\n",
              "    cursor: pointer;\n",
              "    display: none;\n",
              "    fill: var(--fill-color);\n",
              "    height: 32px;\n",
              "    padding: 0;\n",
              "    width: 32px;\n",
              "  }\n",
              "\n",
              "  .colab-df-quickchart:hover {\n",
              "    background-color: var(--hover-bg-color);\n",
              "    box-shadow: 0 1px 2px rgba(60, 64, 67, 0.3), 0 1px 3px 1px rgba(60, 64, 67, 0.15);\n",
              "    fill: var(--button-hover-fill-color);\n",
              "  }\n",
              "\n",
              "  .colab-df-quickchart-complete:disabled,\n",
              "  .colab-df-quickchart-complete:disabled:hover {\n",
              "    background-color: var(--disabled-bg-color);\n",
              "    fill: var(--disabled-fill-color);\n",
              "    box-shadow: none;\n",
              "  }\n",
              "\n",
              "  .colab-df-spinner {\n",
              "    border: 2px solid var(--fill-color);\n",
              "    border-color: transparent;\n",
              "    border-bottom-color: var(--fill-color);\n",
              "    animation:\n",
              "      spin 1s steps(1) infinite;\n",
              "  }\n",
              "\n",
              "  @keyframes spin {\n",
              "    0% {\n",
              "      border-color: transparent;\n",
              "      border-bottom-color: var(--fill-color);\n",
              "      border-left-color: var(--fill-color);\n",
              "    }\n",
              "    20% {\n",
              "      border-color: transparent;\n",
              "      border-left-color: var(--fill-color);\n",
              "      border-top-color: var(--fill-color);\n",
              "    }\n",
              "    30% {\n",
              "      border-color: transparent;\n",
              "      border-left-color: var(--fill-color);\n",
              "      border-top-color: var(--fill-color);\n",
              "      border-right-color: var(--fill-color);\n",
              "    }\n",
              "    40% {\n",
              "      border-color: transparent;\n",
              "      border-right-color: var(--fill-color);\n",
              "      border-top-color: var(--fill-color);\n",
              "    }\n",
              "    60% {\n",
              "      border-color: transparent;\n",
              "      border-right-color: var(--fill-color);\n",
              "    }\n",
              "    80% {\n",
              "      border-color: transparent;\n",
              "      border-right-color: var(--fill-color);\n",
              "      border-bottom-color: var(--fill-color);\n",
              "    }\n",
              "    90% {\n",
              "      border-color: transparent;\n",
              "      border-bottom-color: var(--fill-color);\n",
              "    }\n",
              "  }\n",
              "</style>\n",
              "\n",
              "  <script>\n",
              "    async function quickchart(key) {\n",
              "      const quickchartButtonEl =\n",
              "        document.querySelector('#' + key + ' button');\n",
              "      quickchartButtonEl.disabled = true;  // To prevent multiple clicks.\n",
              "      quickchartButtonEl.classList.add('colab-df-spinner');\n",
              "      try {\n",
              "        const charts = await google.colab.kernel.invokeFunction(\n",
              "            'suggestCharts', [key], {});\n",
              "      } catch (error) {\n",
              "        console.error('Error during call to suggestCharts:', error);\n",
              "      }\n",
              "      quickchartButtonEl.classList.remove('colab-df-spinner');\n",
              "      quickchartButtonEl.classList.add('colab-df-quickchart-complete');\n",
              "    }\n",
              "    (() => {\n",
              "      let quickchartButtonEl =\n",
              "        document.querySelector('#df-cc4e9e50-567e-420a-8b45-5eb4c973695d button');\n",
              "      quickchartButtonEl.style.display =\n",
              "        google.colab.kernel.accessAllowed ? 'block' : 'none';\n",
              "    })();\n",
              "  </script>\n",
              "</div>\n",
              "\n",
              "  <div id=\"id_9c3fd79a-52f3-42e7-a668-736580c3eccf\">\n",
              "    <style>\n",
              "      .colab-df-generate {\n",
              "        background-color: #E8F0FE;\n",
              "        border: none;\n",
              "        border-radius: 50%;\n",
              "        cursor: pointer;\n",
              "        display: none;\n",
              "        fill: #1967D2;\n",
              "        height: 32px;\n",
              "        padding: 0 0 0 0;\n",
              "        width: 32px;\n",
              "      }\n",
              "\n",
              "      .colab-df-generate:hover {\n",
              "        background-color: #E2EBFA;\n",
              "        box-shadow: 0px 1px 2px rgba(60, 64, 67, 0.3), 0px 1px 3px 1px rgba(60, 64, 67, 0.15);\n",
              "        fill: #174EA6;\n",
              "      }\n",
              "\n",
              "      [theme=dark] .colab-df-generate {\n",
              "        background-color: #3B4455;\n",
              "        fill: #D2E3FC;\n",
              "      }\n",
              "\n",
              "      [theme=dark] .colab-df-generate:hover {\n",
              "        background-color: #434B5C;\n",
              "        box-shadow: 0px 1px 3px 1px rgba(0, 0, 0, 0.15);\n",
              "        filter: drop-shadow(0px 1px 2px rgba(0, 0, 0, 0.3));\n",
              "        fill: #FFFFFF;\n",
              "      }\n",
              "    </style>\n",
              "    <button class=\"colab-df-generate\" onclick=\"generateWithVariable('electronics')\"\n",
              "            title=\"Generate code using this dataframe.\"\n",
              "            style=\"display:none;\">\n",
              "\n",
              "  <svg xmlns=\"http://www.w3.org/2000/svg\" height=\"24px\"viewBox=\"0 0 24 24\"\n",
              "       width=\"24px\">\n",
              "    <path d=\"M7,19H8.4L18.45,9,17,7.55,7,17.6ZM5,21V16.75L18.45,3.32a2,2,0,0,1,2.83,0l1.4,1.43a1.91,1.91,0,0,1,.58,1.4,1.91,1.91,0,0,1-.58,1.4L9.25,21ZM18.45,9,17,7.55Zm-12,3A5.31,5.31,0,0,0,4.9,8.1,5.31,5.31,0,0,0,1,6.5,5.31,5.31,0,0,0,4.9,4.9,5.31,5.31,0,0,0,6.5,1,5.31,5.31,0,0,0,8.1,4.9,5.31,5.31,0,0,0,12,6.5,5.46,5.46,0,0,0,6.5,12Z\"/>\n",
              "  </svg>\n",
              "    </button>\n",
              "    <script>\n",
              "      (() => {\n",
              "      const buttonEl =\n",
              "        document.querySelector('#id_9c3fd79a-52f3-42e7-a668-736580c3eccf button.colab-df-generate');\n",
              "      buttonEl.style.display =\n",
              "        google.colab.kernel.accessAllowed ? 'block' : 'none';\n",
              "\n",
              "      buttonEl.onclick = () => {\n",
              "        google.colab.notebook.generateWithVariable('electronics');\n",
              "      }\n",
              "      })();\n",
              "    </script>\n",
              "  </div>\n",
              "\n",
              "    </div>\n",
              "  </div>\n"
            ],
            "application/vnd.google.colaboratory.intrinsic+json": {
              "type": "dataframe",
              "variable_name": "electronics",
              "summary": "{\n  \"name\": \"electronics\",\n  \"rows\": 8,\n  \"fields\": [\n    {\n      \"column\": \"company\",\n      \"properties\": {\n        \"dtype\": \"category\",\n        \"num_unique_values\": 3,\n        \"samples\": [\n          \"samsung\",\n          \"apple\",\n          \"lg\"\n        ],\n        \"semantic_type\": \"\",\n        \"description\": \"\"\n      }\n    },\n    {\n      \"column\": \"price\",\n      \"properties\": {\n        \"dtype\": \"number\",\n        \"std\": 456351,\n        \"min\": 180000,\n        \"max\": 1500000,\n        \"num_unique_values\": 7,\n        \"samples\": [\n          1000000,\n          1500000,\n          180000\n        ],\n        \"semantic_type\": \"\",\n        \"description\": \"\"\n      }\n    },\n    {\n      \"column\": \"product\",\n      \"properties\": {\n        \"dtype\": \"string\",\n        \"num_unique_values\": 8,\n        \"samples\": [\n          \"MacBook\",\n          \"IPad\",\n          \"Galaxy\"\n        ],\n        \"semantic_type\": \"\",\n        \"description\": \"\"\n      }\n    }\n  ]\n}"
            }
          },
          "metadata": {},
          "execution_count": 3
        }
      ]
    },
    {
      "cell_type": "markdown",
      "source": [
        "### **문제**\n",
        "- 제조사(company)가 `apple`인 데이터만 선택하여 `bissa`라는 데이터 프레임을 만들어 주세요."
      ],
      "metadata": {
        "id": "GPVHIaAsx9tP"
      }
    },
    {
      "cell_type": "markdown",
      "source": [
        "**🔍 힌트**\n",
        "- 판다스에는 데이터 프레임에서 특정 조건을 만족하는 데이터를 추출하는 함수가 있어요."
      ],
      "metadata": {
        "id": "CXBxkVPgyd0f"
      }
    },
    {
      "cell_type": "code",
      "source": [
        "bissa = electronics.loc[electronics['company'] == 'apple',:] # 답안 2) electronics.query(\"company == 'apple'\") <- 단점: 속도가 loc()보다 느리다..\n",
        "bissa"
      ],
      "metadata": {
        "id": "is7LDj1TyTwr",
        "colab": {
          "base_uri": "https://localhost:8080/",
          "height": 175
        },
        "outputId": "b9a2c566-cc94-4eb2-b6d1-1f37b87387eb"
      },
      "execution_count": null,
      "outputs": [
        {
          "output_type": "execute_result",
          "data": {
            "text/plain": [
              "  company    price  product\n",
              "1   apple  1500000  MacBook\n",
              "3   apple   600000    Watch\n",
              "5   apple  1000000     IPad\n",
              "7   apple   270000  Airpods"
            ],
            "text/html": [
              "\n",
              "  <div id=\"df-7df3d7a9-5cd1-4851-8b00-06011f21ef31\" class=\"colab-df-container\">\n",
              "    <div>\n",
              "<style scoped>\n",
              "    .dataframe tbody tr th:only-of-type {\n",
              "        vertical-align: middle;\n",
              "    }\n",
              "\n",
              "    .dataframe tbody tr th {\n",
              "        vertical-align: top;\n",
              "    }\n",
              "\n",
              "    .dataframe thead th {\n",
              "        text-align: right;\n",
              "    }\n",
              "</style>\n",
              "<table border=\"1\" class=\"dataframe\">\n",
              "  <thead>\n",
              "    <tr style=\"text-align: right;\">\n",
              "      <th></th>\n",
              "      <th>company</th>\n",
              "      <th>price</th>\n",
              "      <th>product</th>\n",
              "    </tr>\n",
              "  </thead>\n",
              "  <tbody>\n",
              "    <tr>\n",
              "      <th>1</th>\n",
              "      <td>apple</td>\n",
              "      <td>1500000</td>\n",
              "      <td>MacBook</td>\n",
              "    </tr>\n",
              "    <tr>\n",
              "      <th>3</th>\n",
              "      <td>apple</td>\n",
              "      <td>600000</td>\n",
              "      <td>Watch</td>\n",
              "    </tr>\n",
              "    <tr>\n",
              "      <th>5</th>\n",
              "      <td>apple</td>\n",
              "      <td>1000000</td>\n",
              "      <td>IPad</td>\n",
              "    </tr>\n",
              "    <tr>\n",
              "      <th>7</th>\n",
              "      <td>apple</td>\n",
              "      <td>270000</td>\n",
              "      <td>Airpods</td>\n",
              "    </tr>\n",
              "  </tbody>\n",
              "</table>\n",
              "</div>\n",
              "    <div class=\"colab-df-buttons\">\n",
              "\n",
              "  <div class=\"colab-df-container\">\n",
              "    <button class=\"colab-df-convert\" onclick=\"convertToInteractive('df-7df3d7a9-5cd1-4851-8b00-06011f21ef31')\"\n",
              "            title=\"Convert this dataframe to an interactive table.\"\n",
              "            style=\"display:none;\">\n",
              "\n",
              "  <svg xmlns=\"http://www.w3.org/2000/svg\" height=\"24px\" viewBox=\"0 -960 960 960\">\n",
              "    <path d=\"M120-120v-720h720v720H120Zm60-500h600v-160H180v160Zm220 220h160v-160H400v160Zm0 220h160v-160H400v160ZM180-400h160v-160H180v160Zm440 0h160v-160H620v160ZM180-180h160v-160H180v160Zm440 0h160v-160H620v160Z\"/>\n",
              "  </svg>\n",
              "    </button>\n",
              "\n",
              "  <style>\n",
              "    .colab-df-container {\n",
              "      display:flex;\n",
              "      gap: 12px;\n",
              "    }\n",
              "\n",
              "    .colab-df-convert {\n",
              "      background-color: #E8F0FE;\n",
              "      border: none;\n",
              "      border-radius: 50%;\n",
              "      cursor: pointer;\n",
              "      display: none;\n",
              "      fill: #1967D2;\n",
              "      height: 32px;\n",
              "      padding: 0 0 0 0;\n",
              "      width: 32px;\n",
              "    }\n",
              "\n",
              "    .colab-df-convert:hover {\n",
              "      background-color: #E2EBFA;\n",
              "      box-shadow: 0px 1px 2px rgba(60, 64, 67, 0.3), 0px 1px 3px 1px rgba(60, 64, 67, 0.15);\n",
              "      fill: #174EA6;\n",
              "    }\n",
              "\n",
              "    .colab-df-buttons div {\n",
              "      margin-bottom: 4px;\n",
              "    }\n",
              "\n",
              "    [theme=dark] .colab-df-convert {\n",
              "      background-color: #3B4455;\n",
              "      fill: #D2E3FC;\n",
              "    }\n",
              "\n",
              "    [theme=dark] .colab-df-convert:hover {\n",
              "      background-color: #434B5C;\n",
              "      box-shadow: 0px 1px 3px 1px rgba(0, 0, 0, 0.15);\n",
              "      filter: drop-shadow(0px 1px 2px rgba(0, 0, 0, 0.3));\n",
              "      fill: #FFFFFF;\n",
              "    }\n",
              "  </style>\n",
              "\n",
              "    <script>\n",
              "      const buttonEl =\n",
              "        document.querySelector('#df-7df3d7a9-5cd1-4851-8b00-06011f21ef31 button.colab-df-convert');\n",
              "      buttonEl.style.display =\n",
              "        google.colab.kernel.accessAllowed ? 'block' : 'none';\n",
              "\n",
              "      async function convertToInteractive(key) {\n",
              "        const element = document.querySelector('#df-7df3d7a9-5cd1-4851-8b00-06011f21ef31');\n",
              "        const dataTable =\n",
              "          await google.colab.kernel.invokeFunction('convertToInteractive',\n",
              "                                                    [key], {});\n",
              "        if (!dataTable) return;\n",
              "\n",
              "        const docLinkHtml = 'Like what you see? Visit the ' +\n",
              "          '<a target=\"_blank\" href=https://colab.research.google.com/notebooks/data_table.ipynb>data table notebook</a>'\n",
              "          + ' to learn more about interactive tables.';\n",
              "        element.innerHTML = '';\n",
              "        dataTable['output_type'] = 'display_data';\n",
              "        await google.colab.output.renderOutput(dataTable, element);\n",
              "        const docLink = document.createElement('div');\n",
              "        docLink.innerHTML = docLinkHtml;\n",
              "        element.appendChild(docLink);\n",
              "      }\n",
              "    </script>\n",
              "  </div>\n",
              "\n",
              "\n",
              "<div id=\"df-47ff156c-4556-4f2b-bdeb-d06d80580729\">\n",
              "  <button class=\"colab-df-quickchart\" onclick=\"quickchart('df-47ff156c-4556-4f2b-bdeb-d06d80580729')\"\n",
              "            title=\"Suggest charts\"\n",
              "            style=\"display:none;\">\n",
              "\n",
              "<svg xmlns=\"http://www.w3.org/2000/svg\" height=\"24px\"viewBox=\"0 0 24 24\"\n",
              "     width=\"24px\">\n",
              "    <g>\n",
              "        <path d=\"M19 3H5c-1.1 0-2 .9-2 2v14c0 1.1.9 2 2 2h14c1.1 0 2-.9 2-2V5c0-1.1-.9-2-2-2zM9 17H7v-7h2v7zm4 0h-2V7h2v10zm4 0h-2v-4h2v4z\"/>\n",
              "    </g>\n",
              "</svg>\n",
              "  </button>\n",
              "\n",
              "<style>\n",
              "  .colab-df-quickchart {\n",
              "      --bg-color: #E8F0FE;\n",
              "      --fill-color: #1967D2;\n",
              "      --hover-bg-color: #E2EBFA;\n",
              "      --hover-fill-color: #174EA6;\n",
              "      --disabled-fill-color: #AAA;\n",
              "      --disabled-bg-color: #DDD;\n",
              "  }\n",
              "\n",
              "  [theme=dark] .colab-df-quickchart {\n",
              "      --bg-color: #3B4455;\n",
              "      --fill-color: #D2E3FC;\n",
              "      --hover-bg-color: #434B5C;\n",
              "      --hover-fill-color: #FFFFFF;\n",
              "      --disabled-bg-color: #3B4455;\n",
              "      --disabled-fill-color: #666;\n",
              "  }\n",
              "\n",
              "  .colab-df-quickchart {\n",
              "    background-color: var(--bg-color);\n",
              "    border: none;\n",
              "    border-radius: 50%;\n",
              "    cursor: pointer;\n",
              "    display: none;\n",
              "    fill: var(--fill-color);\n",
              "    height: 32px;\n",
              "    padding: 0;\n",
              "    width: 32px;\n",
              "  }\n",
              "\n",
              "  .colab-df-quickchart:hover {\n",
              "    background-color: var(--hover-bg-color);\n",
              "    box-shadow: 0 1px 2px rgba(60, 64, 67, 0.3), 0 1px 3px 1px rgba(60, 64, 67, 0.15);\n",
              "    fill: var(--button-hover-fill-color);\n",
              "  }\n",
              "\n",
              "  .colab-df-quickchart-complete:disabled,\n",
              "  .colab-df-quickchart-complete:disabled:hover {\n",
              "    background-color: var(--disabled-bg-color);\n",
              "    fill: var(--disabled-fill-color);\n",
              "    box-shadow: none;\n",
              "  }\n",
              "\n",
              "  .colab-df-spinner {\n",
              "    border: 2px solid var(--fill-color);\n",
              "    border-color: transparent;\n",
              "    border-bottom-color: var(--fill-color);\n",
              "    animation:\n",
              "      spin 1s steps(1) infinite;\n",
              "  }\n",
              "\n",
              "  @keyframes spin {\n",
              "    0% {\n",
              "      border-color: transparent;\n",
              "      border-bottom-color: var(--fill-color);\n",
              "      border-left-color: var(--fill-color);\n",
              "    }\n",
              "    20% {\n",
              "      border-color: transparent;\n",
              "      border-left-color: var(--fill-color);\n",
              "      border-top-color: var(--fill-color);\n",
              "    }\n",
              "    30% {\n",
              "      border-color: transparent;\n",
              "      border-left-color: var(--fill-color);\n",
              "      border-top-color: var(--fill-color);\n",
              "      border-right-color: var(--fill-color);\n",
              "    }\n",
              "    40% {\n",
              "      border-color: transparent;\n",
              "      border-right-color: var(--fill-color);\n",
              "      border-top-color: var(--fill-color);\n",
              "    }\n",
              "    60% {\n",
              "      border-color: transparent;\n",
              "      border-right-color: var(--fill-color);\n",
              "    }\n",
              "    80% {\n",
              "      border-color: transparent;\n",
              "      border-right-color: var(--fill-color);\n",
              "      border-bottom-color: var(--fill-color);\n",
              "    }\n",
              "    90% {\n",
              "      border-color: transparent;\n",
              "      border-bottom-color: var(--fill-color);\n",
              "    }\n",
              "  }\n",
              "</style>\n",
              "\n",
              "  <script>\n",
              "    async function quickchart(key) {\n",
              "      const quickchartButtonEl =\n",
              "        document.querySelector('#' + key + ' button');\n",
              "      quickchartButtonEl.disabled = true;  // To prevent multiple clicks.\n",
              "      quickchartButtonEl.classList.add('colab-df-spinner');\n",
              "      try {\n",
              "        const charts = await google.colab.kernel.invokeFunction(\n",
              "            'suggestCharts', [key], {});\n",
              "      } catch (error) {\n",
              "        console.error('Error during call to suggestCharts:', error);\n",
              "      }\n",
              "      quickchartButtonEl.classList.remove('colab-df-spinner');\n",
              "      quickchartButtonEl.classList.add('colab-df-quickchart-complete');\n",
              "    }\n",
              "    (() => {\n",
              "      let quickchartButtonEl =\n",
              "        document.querySelector('#df-47ff156c-4556-4f2b-bdeb-d06d80580729 button');\n",
              "      quickchartButtonEl.style.display =\n",
              "        google.colab.kernel.accessAllowed ? 'block' : 'none';\n",
              "    })();\n",
              "  </script>\n",
              "</div>\n",
              "\n",
              "  <div id=\"id_a3b42f36-3dc1-4d9c-8f09-a9df6f9cd32c\">\n",
              "    <style>\n",
              "      .colab-df-generate {\n",
              "        background-color: #E8F0FE;\n",
              "        border: none;\n",
              "        border-radius: 50%;\n",
              "        cursor: pointer;\n",
              "        display: none;\n",
              "        fill: #1967D2;\n",
              "        height: 32px;\n",
              "        padding: 0 0 0 0;\n",
              "        width: 32px;\n",
              "      }\n",
              "\n",
              "      .colab-df-generate:hover {\n",
              "        background-color: #E2EBFA;\n",
              "        box-shadow: 0px 1px 2px rgba(60, 64, 67, 0.3), 0px 1px 3px 1px rgba(60, 64, 67, 0.15);\n",
              "        fill: #174EA6;\n",
              "      }\n",
              "\n",
              "      [theme=dark] .colab-df-generate {\n",
              "        background-color: #3B4455;\n",
              "        fill: #D2E3FC;\n",
              "      }\n",
              "\n",
              "      [theme=dark] .colab-df-generate:hover {\n",
              "        background-color: #434B5C;\n",
              "        box-shadow: 0px 1px 3px 1px rgba(0, 0, 0, 0.15);\n",
              "        filter: drop-shadow(0px 1px 2px rgba(0, 0, 0, 0.3));\n",
              "        fill: #FFFFFF;\n",
              "      }\n",
              "    </style>\n",
              "    <button class=\"colab-df-generate\" onclick=\"generateWithVariable('bissa')\"\n",
              "            title=\"Generate code using this dataframe.\"\n",
              "            style=\"display:none;\">\n",
              "\n",
              "  <svg xmlns=\"http://www.w3.org/2000/svg\" height=\"24px\"viewBox=\"0 0 24 24\"\n",
              "       width=\"24px\">\n",
              "    <path d=\"M7,19H8.4L18.45,9,17,7.55,7,17.6ZM5,21V16.75L18.45,3.32a2,2,0,0,1,2.83,0l1.4,1.43a1.91,1.91,0,0,1,.58,1.4,1.91,1.91,0,0,1-.58,1.4L9.25,21ZM18.45,9,17,7.55Zm-12,3A5.31,5.31,0,0,0,4.9,8.1,5.31,5.31,0,0,0,1,6.5,5.31,5.31,0,0,0,4.9,4.9,5.31,5.31,0,0,0,6.5,1,5.31,5.31,0,0,0,8.1,4.9,5.31,5.31,0,0,0,12,6.5,5.46,5.46,0,0,0,6.5,12Z\"/>\n",
              "  </svg>\n",
              "    </button>\n",
              "    <script>\n",
              "      (() => {\n",
              "      const buttonEl =\n",
              "        document.querySelector('#id_a3b42f36-3dc1-4d9c-8f09-a9df6f9cd32c button.colab-df-generate');\n",
              "      buttonEl.style.display =\n",
              "        google.colab.kernel.accessAllowed ? 'block' : 'none';\n",
              "\n",
              "      buttonEl.onclick = () => {\n",
              "        google.colab.notebook.generateWithVariable('bissa');\n",
              "      }\n",
              "      })();\n",
              "    </script>\n",
              "  </div>\n",
              "\n",
              "    </div>\n",
              "  </div>\n"
            ],
            "application/vnd.google.colaboratory.intrinsic+json": {
              "type": "dataframe",
              "variable_name": "bissa",
              "summary": "{\n  \"name\": \"bissa\",\n  \"rows\": 4,\n  \"fields\": [\n    {\n      \"column\": \"company\",\n      \"properties\": {\n        \"dtype\": \"category\",\n        \"num_unique_values\": 1,\n        \"samples\": [\n          \"apple\"\n        ],\n        \"semantic_type\": \"\",\n        \"description\": \"\"\n      }\n    },\n    {\n      \"column\": \"price\",\n      \"properties\": {\n        \"dtype\": \"number\",\n        \"std\": 530306,\n        \"min\": 270000,\n        \"max\": 1500000,\n        \"num_unique_values\": 4,\n        \"samples\": [\n          600000\n        ],\n        \"semantic_type\": \"\",\n        \"description\": \"\"\n      }\n    },\n    {\n      \"column\": \"product\",\n      \"properties\": {\n        \"dtype\": \"string\",\n        \"num_unique_values\": 4,\n        \"samples\": [\n          \"Watch\"\n        ],\n        \"semantic_type\": \"\",\n        \"description\": \"\"\n      }\n    }\n  ]\n}"
            }
          },
          "metadata": {},
          "execution_count": 4
        }
      ]
    }
  ]
}