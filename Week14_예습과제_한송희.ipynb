{
  "nbformat": 4,
  "nbformat_minor": 0,
  "metadata": {
    "colab": {
      "provenance": []
    },
    "kernelspec": {
      "name": "python3",
      "display_name": "Python 3"
    },
    "language_info": {
      "name": "python"
    }
  },
  "cells": [
    {
      "cell_type": "markdown",
      "source": [
        "#8.2 텍스트 전처리"
      ],
      "metadata": {
        "id": "4ilgSEEkqZ9T"
      }
    },
    {
      "cell_type": "markdown",
      "source": [
        "<문장 토큰화>"
      ],
      "metadata": {
        "id": "_pJSpe_Cqe51"
      }
    },
    {
      "cell_type": "code",
      "source": [
        "!pip install nltk"
      ],
      "metadata": {
        "colab": {
          "base_uri": "https://localhost:8080/"
        },
        "id": "GibJSGjGp4iT",
        "outputId": "e4fde089-3217-4e6b-a8ff-f2bc2f3fedd8"
      },
      "execution_count": 10,
      "outputs": [
        {
          "output_type": "stream",
          "name": "stdout",
          "text": [
            "Requirement already satisfied: nltk in /usr/local/lib/python3.10/dist-packages (3.9.1)\n",
            "Requirement already satisfied: click in /usr/local/lib/python3.10/dist-packages (from nltk) (8.1.7)\n",
            "Requirement already satisfied: joblib in /usr/local/lib/python3.10/dist-packages (from nltk) (1.4.2)\n",
            "Requirement already satisfied: regex>=2021.8.3 in /usr/local/lib/python3.10/dist-packages (from nltk) (2024.11.6)\n",
            "Requirement already satisfied: tqdm in /usr/local/lib/python3.10/dist-packages (from nltk) (4.67.1)\n"
          ]
        }
      ]
    },
    {
      "cell_type": "code",
      "execution_count": 13,
      "metadata": {
        "colab": {
          "base_uri": "https://localhost:8080/"
        },
        "id": "Jah7019nm_aE",
        "outputId": "0a00f9f4-5d96-45d0-b558-5cc9bb3e6097"
      },
      "outputs": [
        {
          "output_type": "stream",
          "name": "stdout",
          "text": [
            "<class 'list'> 3\n",
            "['The Matrix is everyshere its all around us, here even in this room.', 'You can see it out your window or on your television.', 'You feel it when you go to work, or go to church or pay your taxes.']\n"
          ]
        },
        {
          "output_type": "stream",
          "name": "stderr",
          "text": [
            "[nltk_data] Downloading package punkt_tab to /root/nltk_data...\n",
            "[nltk_data]   Unzipping tokenizers/punkt_tab.zip.\n"
          ]
        }
      ],
      "source": [
        "from nltk import sent_tokenize\n",
        "import nltk\n",
        "nltk.download('punkt_tab')\n",
        "\n",
        "text_sample='The Matrix is everyshere its all around us, here even in this room. \\\n",
        "              You can see it out your window or on your television. \\\n",
        "              You feel it when you go to work, or go to church or pay your taxes.'\n",
        "sentences=sent_tokenize(text=text_sample)\n",
        "print(type(sentences),len(sentences))\n",
        "print(sentences)"
      ]
    },
    {
      "cell_type": "markdown",
      "source": [
        "<단어 토큰화>"
      ],
      "metadata": {
        "id": "-I0tw1ZrqhCt"
      }
    },
    {
      "cell_type": "code",
      "source": [
        "from nltk import word_tokenize\n",
        "\n",
        "sentence='The Matrix is everywhere its all around us, here even in this room.'\n",
        "words=word_tokenize(sentence)\n",
        "print(type(words),len(words))\n",
        "print(words)"
      ],
      "metadata": {
        "colab": {
          "base_uri": "https://localhost:8080/"
        },
        "id": "JvZ4KEFqqiPG",
        "outputId": "2140f71c-89d1-449f-a222-c37ed73b75d7"
      },
      "execution_count": 14,
      "outputs": [
        {
          "output_type": "stream",
          "name": "stdout",
          "text": [
            "<class 'list'> 15\n",
            "['The', 'Matrix', 'is', 'everywhere', 'its', 'all', 'around', 'us', ',', 'here', 'even', 'in', 'this', 'room', '.']\n"
          ]
        }
      ]
    },
    {
      "cell_type": "markdown",
      "source": [
        "<문장 토큰화+단어 토큰화>: 모든 단어를 토큰화"
      ],
      "metadata": {
        "id": "B-bq1BaDqxMd"
      }
    },
    {
      "cell_type": "code",
      "source": [
        "from nltk import word_tokenize, sent_tokenize\n",
        "\n",
        "#여러 개의 문장으로 된 입력 데이터를 문장별로 단어 토큰화하게 만드는 함수 생성\n",
        "def tokenize_text(text):\n",
        "  #문장별로 분리 토큰\n",
        "  sentences=sent_tokenize(text)\n",
        "  #분리된 문장별 단어 토큰화\n",
        "  word_tokens=[word_tokenize(sentence) for sentence in sentences]\n",
        "  return word_tokens\n",
        "\n",
        "#여러 문장에 대해 문장별 단어 토큰화 수행\n",
        "word_tokens=tokenize_text(text_sample)\n",
        "print(type(word_tokens),len(word_tokens))\n",
        "print(word_tokens)"
      ],
      "metadata": {
        "colab": {
          "base_uri": "https://localhost:8080/"
        },
        "id": "NpyzzVfAq2T4",
        "outputId": "653a8f7c-7a3c-4e29-c824-56318e9e5cd0"
      },
      "execution_count": 16,
      "outputs": [
        {
          "output_type": "stream",
          "name": "stdout",
          "text": [
            "<class 'list'> 3\n",
            "[['The', 'Matrix', 'is', 'everyshere', 'its', 'all', 'around', 'us', ',', 'here', 'even', 'in', 'this', 'room', '.'], ['You', 'can', 'see', 'it', 'out', 'your', 'window', 'or', 'on', 'your', 'television', '.'], ['You', 'feel', 'it', 'when', 'you', 'go', 'to', 'work', ',', 'or', 'go', 'to', 'church', 'or', 'pay', 'your', 'taxes', '.']]\n"
          ]
        }
      ]
    },
    {
      "cell_type": "markdown",
      "source": [
        "<스톱 워드 제거>"
      ],
      "metadata": {
        "id": "PxcA0drEs6bG"
      }
    },
    {
      "cell_type": "code",
      "source": [
        "import nltk\n",
        "nltk.download('stopwords')\n",
        "\n",
        "print('영어 stop word개수:',len(nltk.corpus.stopwords.words('english')))\n",
        "print(nltk.corpus.stopwords.words('english')[:20])"
      ],
      "metadata": {
        "colab": {
          "base_uri": "https://localhost:8080/"
        },
        "id": "ic56vF1-s8Nl",
        "outputId": "9bb82c11-dec3-4ab0-d40e-1bc9c8406620"
      },
      "execution_count": 18,
      "outputs": [
        {
          "output_type": "stream",
          "name": "stdout",
          "text": [
            "영어 stop word개수: 179\n",
            "['i', 'me', 'my', 'myself', 'we', 'our', 'ours', 'ourselves', 'you', \"you're\", \"you've\", \"you'll\", \"you'd\", 'your', 'yours', 'yourself', 'yourselves', 'he', 'him', 'his']\n"
          ]
        },
        {
          "output_type": "stream",
          "name": "stderr",
          "text": [
            "[nltk_data] Downloading package stopwords to /root/nltk_data...\n",
            "[nltk_data]   Unzipping corpora/stopwords.zip.\n"
          ]
        }
      ]
    },
    {
      "cell_type": "code",
      "source": [
        "import nltk\n",
        "\n",
        "stopwords=nltk.corpus.stopwords.words('english')\n",
        "all_tokens=[]\n",
        "#위 예제엇 3개의 문장별로 얻은 word_tokens list에 대해 스톱 워드를 제거하는 반복문\n",
        "for sentence in word_tokens:\n",
        "  filtered_words=[]\n",
        "  #개별 문장별로 토큰화된 문장 list에 대해 스톱 워드를 제거하는 반복문\n",
        "  for word in sentence:\n",
        "    #소문자로 모두 변환\n",
        "    word=word.lower()\n",
        "    #토큰화된 개별 단어가 스톱 워드의 단어에 포함되지 않으면 word_tokens에 추가\n",
        "    if word not in stopwords:\n",
        "      filtered_words.append(word)\n",
        "  all_tokens.append(filtered_words)\n",
        "print(all_tokens)"
      ],
      "metadata": {
        "colab": {
          "base_uri": "https://localhost:8080/"
        },
        "id": "p0ty4aR-tRbX",
        "outputId": "5ae34526-029c-4e10-fd7b-55601c9a0438"
      },
      "execution_count": 19,
      "outputs": [
        {
          "output_type": "stream",
          "name": "stdout",
          "text": [
            "[['matrix', 'everyshere', 'around', 'us', ',', 'even', 'room', '.'], ['see', 'window', 'television', '.'], ['feel', 'go', 'work', ',', 'go', 'church', 'pay', 'taxes', '.']]\n"
          ]
        }
      ]
    },
    {
      "cell_type": "markdown",
      "source": [
        "< Stemming>"
      ],
      "metadata": {
        "id": "Gpn68e7DuxsM"
      }
    },
    {
      "cell_type": "code",
      "source": [
        "from nltk.stem import LancasterStemmer\n",
        "stemmer=LancasterStemmer()\n",
        "\n",
        "print(stemmer.stem('working'),stemmer.stem('works'),stemmer.stem('worked'))\n",
        "print(stemmer.stem('amusing'),stemmer.stem('amuses'),stemmer.stem('amused'))\n",
        "print(stemmer.stem('happier'),stemmer.stem('happiest'))\n",
        "print(stemmer.stem('fancier'),stemmer.stem('fanciest'))"
      ],
      "metadata": {
        "colab": {
          "base_uri": "https://localhost:8080/"
        },
        "id": "VabZEcr4u-vD",
        "outputId": "19feb535-fc3a-4aa2-c86d-5db09f32d51b"
      },
      "execution_count": 20,
      "outputs": [
        {
          "output_type": "stream",
          "name": "stdout",
          "text": [
            "work work work\n",
            "amus amus amus\n",
            "happy happiest\n",
            "fant fanciest\n"
          ]
        }
      ]
    },
    {
      "cell_type": "markdown",
      "source": [
        "< Lemmatization>"
      ],
      "metadata": {
        "id": "P6QQKIxhwJfA"
      }
    },
    {
      "cell_type": "code",
      "source": [
        "from nltk.stem import WordNetLemmatizer\n",
        "import nltk\n",
        "nltk.download('wordnet')\n",
        "\n",
        "lemma=WordNetLemmatizer()\n",
        "print(lemma.lemmatize('amusing','v'),lemma.lemmatize('amuses','v'),lemma.lemmatize('amused','v'))\n",
        "print(lemma.lemmatize('happier','a'),lemma.lemmatize('happiest','a'))\n",
        "print(lemma.lemmatize('fancier','a'),lemma.lemmatize('fanciest','a'))"
      ],
      "metadata": {
        "colab": {
          "base_uri": "https://localhost:8080/"
        },
        "id": "JcOwAi_owMIQ",
        "outputId": "34758fe5-5185-4f4b-ba48-885e45306724"
      },
      "execution_count": 21,
      "outputs": [
        {
          "output_type": "stream",
          "name": "stderr",
          "text": [
            "[nltk_data] Downloading package wordnet to /root/nltk_data...\n"
          ]
        },
        {
          "output_type": "stream",
          "name": "stdout",
          "text": [
            "amuse amuse amuse\n",
            "happy happy\n",
            "fancy fancy\n"
          ]
        }
      ]
    },
    {
      "cell_type": "markdown",
      "source": [
        "#8.3 BOW"
      ],
      "metadata": {
        "id": "hltC0Bc81NrE"
      }
    },
    {
      "cell_type": "markdown",
      "source": [
        "<희소 행렬-COO형식>"
      ],
      "metadata": {
        "id": "-BEwbFXL1RKK"
      }
    },
    {
      "cell_type": "code",
      "source": [
        "import numpy as np\n",
        "\n",
        "dense=np.array([[3,0,1],[0,2,0]])"
      ],
      "metadata": {
        "id": "ujZ2m2rY1Tzm"
      },
      "execution_count": 23,
      "outputs": []
    },
    {
      "cell_type": "code",
      "source": [
        "from scipy import sparse\n",
        "\n",
        "#0이 아닌 데이터 추출\n",
        "data=np.array([3,1,2])\n",
        "\n",
        "#행 위치와 열 위치를 각각 배열로 생성\n",
        "row_pos=np.array([0,0,1])\n",
        "col_pos=np.array([0,2,1])\n",
        "\n",
        "#sparse 패키지의 coo_matrix를 이용해 COO형식으로 희소 행렬 생성\n",
        "sparse_coo=sparse.coo_matrix((data,(row_pos,col_pos)))"
      ],
      "metadata": {
        "id": "SJuXcK2U1emV"
      },
      "execution_count": 26,
      "outputs": []
    },
    {
      "cell_type": "code",
      "source": [
        "sparse_coo.toarray()"
      ],
      "metadata": {
        "colab": {
          "base_uri": "https://localhost:8080/"
        },
        "id": "x0-KvYa01zCp",
        "outputId": "9fbde515-9aa6-4ee4-ea40-cc6c57a6bff0"
      },
      "execution_count": 27,
      "outputs": [
        {
          "output_type": "execute_result",
          "data": {
            "text/plain": [
              "array([[3, 0, 1],\n",
              "       [0, 2, 0]])"
            ]
          },
          "metadata": {},
          "execution_count": 27
        }
      ]
    },
    {
      "cell_type": "markdown",
      "source": [
        "다시 원래의 데이터 행렬로 추출"
      ],
      "metadata": {
        "id": "P5lyUasY18iD"
      }
    },
    {
      "cell_type": "markdown",
      "source": [
        "<희소 행렬-CSR 형식>"
      ],
      "metadata": {
        "id": "y1I_Ef8E2ACP"
      }
    },
    {
      "cell_type": "code",
      "source": [
        "from scipy import sparse\n",
        "dense2=np.array([[0,0,1,0,0,5],[1,4,0,3,2,5],[0,6,0,3,0,0],[2,0,0,0,0,0],[0,0,0,7,0,8],[1,0,0,0,0,0]])\n",
        "#0이 아닌 데이터 추출\n",
        "data2=np.array([1,5,1,4,3,2,5,6,3,2,7,8,1])\n",
        "#행 위치와 열 위치를 각각 array로 생성\n",
        "row_pos=np.array([0,0,1,1,1,1,1,2,2,3,4,4,5])\n",
        "col_pos=np.array([2,5,0,1,3,4,5,1,3,0,3,5,0])\n",
        "#COO형식으로 변환\n",
        "sparse_coo=sparse.coo_matrix((data2,(row_pos,col_pos)))\n",
        "#행 위치 배열의 고유한 값의 시작 위치 인덱스를 배열로 생성\n",
        "row_pos_ind=np.array([0,2,7,9,10,12,13])\n",
        "#CSR 형식으로 변환\n",
        "sparse_csr=sparse.csr_matrix((data2,col_pos,row_pos_ind))\n",
        "\n",
        "print('COO변환된 데이터가 제대로 되었는지 다시 Dense로 출력 확인')\n",
        "print(sparse_coo.toarray())\n",
        "print('CSR 변환된 데이터가 제대로 되었는지 다시 Dense로 출력 확인')\n",
        "print(sparse_csr.toarray())"
      ],
      "metadata": {
        "colab": {
          "base_uri": "https://localhost:8080/"
        },
        "id": "wrBjptT02v62",
        "outputId": "94b864fe-4c83-4214-8c4d-d85b19fd66c4"
      },
      "execution_count": 28,
      "outputs": [
        {
          "output_type": "stream",
          "name": "stdout",
          "text": [
            "COO변환된 데이터가 제대로 되었는지 다시 Dense로 출력 확인\n",
            "[[0 0 1 0 0 5]\n",
            " [1 4 0 3 2 5]\n",
            " [0 6 0 3 0 0]\n",
            " [2 0 0 0 0 0]\n",
            " [0 0 0 7 0 8]\n",
            " [1 0 0 0 0 0]]\n",
            "CSR 변환된 데이터가 제대로 되었는지 다시 Dense로 출력 확인\n",
            "[[0 0 1 0 0 5]\n",
            " [1 4 0 3 2 5]\n",
            " [0 6 0 3 0 0]\n",
            " [2 0 0 0 0 0]\n",
            " [0 0 0 7 0 8]\n",
            " [1 0 0 0 0 0]]\n"
          ]
        }
      ]
    },
    {
      "cell_type": "markdown",
      "source": [
        "<실제 사용시>"
      ],
      "metadata": {
        "id": "o7OlDNsO34k4"
      }
    },
    {
      "cell_type": "code",
      "source": [
        "dense3=np.array([[0,0,1,0,0,5],[1,4,0,3,2,5],[0,6,0,3,0,0],[2,0,0,0,0,0],[0,0,0,7,0,8],[1,0,0,0,0,0]])\n",
        "coo=sparse.coo_matrix(dense3)\n",
        "csr=sparse.csr_matrix(dense3)"
      ],
      "metadata": {
        "id": "PK7PpV6439W3"
      },
      "execution_count": 29,
      "outputs": []
    },
    {
      "cell_type": "markdown",
      "source": [
        "#8.5 감성분석"
      ],
      "metadata": {
        "id": "FLyDGFph5huT"
      }
    },
    {
      "cell_type": "markdown",
      "source": [
        "<지도학습 기반 감성 분석 실습>"
      ],
      "metadata": {
        "id": "vtCM7ppo5kPM"
      }
    },
    {
      "cell_type": "code",
      "source": [
        "import pandas as pd\n",
        "\n",
        "review_df=pd.read_csv('/content/labeledTrainData.tsv',header=0,sep='\\t',quoting=3)\n",
        "review_df.head(3)"
      ],
      "metadata": {
        "colab": {
          "base_uri": "https://localhost:8080/",
          "height": 143
        },
        "id": "0fUCV2w8AAhM",
        "outputId": "621ff652-9c9e-43e5-92a2-d99fc4b0e1e9"
      },
      "execution_count": 31,
      "outputs": [
        {
          "output_type": "execute_result",
          "data": {
            "text/plain": [
              "         id  sentiment                                             review\n",
              "0  \"5814_8\"          1  \"With all this stuff going down at the moment ...\n",
              "1  \"2381_9\"          1  \"\\\"The Classic War of the Worlds\\\" by Timothy ...\n",
              "2  \"7759_3\"          0  \"The film starts with a manager (Nicholas Bell..."
            ],
            "text/html": [
              "\n",
              "  <div id=\"df-166f91de-c52f-4e74-bc76-9c0ae786a2e8\" class=\"colab-df-container\">\n",
              "    <div>\n",
              "<style scoped>\n",
              "    .dataframe tbody tr th:only-of-type {\n",
              "        vertical-align: middle;\n",
              "    }\n",
              "\n",
              "    .dataframe tbody tr th {\n",
              "        vertical-align: top;\n",
              "    }\n",
              "\n",
              "    .dataframe thead th {\n",
              "        text-align: right;\n",
              "    }\n",
              "</style>\n",
              "<table border=\"1\" class=\"dataframe\">\n",
              "  <thead>\n",
              "    <tr style=\"text-align: right;\">\n",
              "      <th></th>\n",
              "      <th>id</th>\n",
              "      <th>sentiment</th>\n",
              "      <th>review</th>\n",
              "    </tr>\n",
              "  </thead>\n",
              "  <tbody>\n",
              "    <tr>\n",
              "      <th>0</th>\n",
              "      <td>\"5814_8\"</td>\n",
              "      <td>1</td>\n",
              "      <td>\"With all this stuff going down at the moment ...</td>\n",
              "    </tr>\n",
              "    <tr>\n",
              "      <th>1</th>\n",
              "      <td>\"2381_9\"</td>\n",
              "      <td>1</td>\n",
              "      <td>\"\\\"The Classic War of the Worlds\\\" by Timothy ...</td>\n",
              "    </tr>\n",
              "    <tr>\n",
              "      <th>2</th>\n",
              "      <td>\"7759_3\"</td>\n",
              "      <td>0</td>\n",
              "      <td>\"The film starts with a manager (Nicholas Bell...</td>\n",
              "    </tr>\n",
              "  </tbody>\n",
              "</table>\n",
              "</div>\n",
              "    <div class=\"colab-df-buttons\">\n",
              "\n",
              "  <div class=\"colab-df-container\">\n",
              "    <button class=\"colab-df-convert\" onclick=\"convertToInteractive('df-166f91de-c52f-4e74-bc76-9c0ae786a2e8')\"\n",
              "            title=\"Convert this dataframe to an interactive table.\"\n",
              "            style=\"display:none;\">\n",
              "\n",
              "  <svg xmlns=\"http://www.w3.org/2000/svg\" height=\"24px\" viewBox=\"0 -960 960 960\">\n",
              "    <path d=\"M120-120v-720h720v720H120Zm60-500h600v-160H180v160Zm220 220h160v-160H400v160Zm0 220h160v-160H400v160ZM180-400h160v-160H180v160Zm440 0h160v-160H620v160ZM180-180h160v-160H180v160Zm440 0h160v-160H620v160Z\"/>\n",
              "  </svg>\n",
              "    </button>\n",
              "\n",
              "  <style>\n",
              "    .colab-df-container {\n",
              "      display:flex;\n",
              "      gap: 12px;\n",
              "    }\n",
              "\n",
              "    .colab-df-convert {\n",
              "      background-color: #E8F0FE;\n",
              "      border: none;\n",
              "      border-radius: 50%;\n",
              "      cursor: pointer;\n",
              "      display: none;\n",
              "      fill: #1967D2;\n",
              "      height: 32px;\n",
              "      padding: 0 0 0 0;\n",
              "      width: 32px;\n",
              "    }\n",
              "\n",
              "    .colab-df-convert:hover {\n",
              "      background-color: #E2EBFA;\n",
              "      box-shadow: 0px 1px 2px rgba(60, 64, 67, 0.3), 0px 1px 3px 1px rgba(60, 64, 67, 0.15);\n",
              "      fill: #174EA6;\n",
              "    }\n",
              "\n",
              "    .colab-df-buttons div {\n",
              "      margin-bottom: 4px;\n",
              "    }\n",
              "\n",
              "    [theme=dark] .colab-df-convert {\n",
              "      background-color: #3B4455;\n",
              "      fill: #D2E3FC;\n",
              "    }\n",
              "\n",
              "    [theme=dark] .colab-df-convert:hover {\n",
              "      background-color: #434B5C;\n",
              "      box-shadow: 0px 1px 3px 1px rgba(0, 0, 0, 0.15);\n",
              "      filter: drop-shadow(0px 1px 2px rgba(0, 0, 0, 0.3));\n",
              "      fill: #FFFFFF;\n",
              "    }\n",
              "  </style>\n",
              "\n",
              "    <script>\n",
              "      const buttonEl =\n",
              "        document.querySelector('#df-166f91de-c52f-4e74-bc76-9c0ae786a2e8 button.colab-df-convert');\n",
              "      buttonEl.style.display =\n",
              "        google.colab.kernel.accessAllowed ? 'block' : 'none';\n",
              "\n",
              "      async function convertToInteractive(key) {\n",
              "        const element = document.querySelector('#df-166f91de-c52f-4e74-bc76-9c0ae786a2e8');\n",
              "        const dataTable =\n",
              "          await google.colab.kernel.invokeFunction('convertToInteractive',\n",
              "                                                    [key], {});\n",
              "        if (!dataTable) return;\n",
              "\n",
              "        const docLinkHtml = 'Like what you see? Visit the ' +\n",
              "          '<a target=\"_blank\" href=https://colab.research.google.com/notebooks/data_table.ipynb>data table notebook</a>'\n",
              "          + ' to learn more about interactive tables.';\n",
              "        element.innerHTML = '';\n",
              "        dataTable['output_type'] = 'display_data';\n",
              "        await google.colab.output.renderOutput(dataTable, element);\n",
              "        const docLink = document.createElement('div');\n",
              "        docLink.innerHTML = docLinkHtml;\n",
              "        element.appendChild(docLink);\n",
              "      }\n",
              "    </script>\n",
              "  </div>\n",
              "\n",
              "\n",
              "<div id=\"df-ea783980-b922-42a5-b12e-3ae360b46d94\">\n",
              "  <button class=\"colab-df-quickchart\" onclick=\"quickchart('df-ea783980-b922-42a5-b12e-3ae360b46d94')\"\n",
              "            title=\"Suggest charts\"\n",
              "            style=\"display:none;\">\n",
              "\n",
              "<svg xmlns=\"http://www.w3.org/2000/svg\" height=\"24px\"viewBox=\"0 0 24 24\"\n",
              "     width=\"24px\">\n",
              "    <g>\n",
              "        <path d=\"M19 3H5c-1.1 0-2 .9-2 2v14c0 1.1.9 2 2 2h14c1.1 0 2-.9 2-2V5c0-1.1-.9-2-2-2zM9 17H7v-7h2v7zm4 0h-2V7h2v10zm4 0h-2v-4h2v4z\"/>\n",
              "    </g>\n",
              "</svg>\n",
              "  </button>\n",
              "\n",
              "<style>\n",
              "  .colab-df-quickchart {\n",
              "      --bg-color: #E8F0FE;\n",
              "      --fill-color: #1967D2;\n",
              "      --hover-bg-color: #E2EBFA;\n",
              "      --hover-fill-color: #174EA6;\n",
              "      --disabled-fill-color: #AAA;\n",
              "      --disabled-bg-color: #DDD;\n",
              "  }\n",
              "\n",
              "  [theme=dark] .colab-df-quickchart {\n",
              "      --bg-color: #3B4455;\n",
              "      --fill-color: #D2E3FC;\n",
              "      --hover-bg-color: #434B5C;\n",
              "      --hover-fill-color: #FFFFFF;\n",
              "      --disabled-bg-color: #3B4455;\n",
              "      --disabled-fill-color: #666;\n",
              "  }\n",
              "\n",
              "  .colab-df-quickchart {\n",
              "    background-color: var(--bg-color);\n",
              "    border: none;\n",
              "    border-radius: 50%;\n",
              "    cursor: pointer;\n",
              "    display: none;\n",
              "    fill: var(--fill-color);\n",
              "    height: 32px;\n",
              "    padding: 0;\n",
              "    width: 32px;\n",
              "  }\n",
              "\n",
              "  .colab-df-quickchart:hover {\n",
              "    background-color: var(--hover-bg-color);\n",
              "    box-shadow: 0 1px 2px rgba(60, 64, 67, 0.3), 0 1px 3px 1px rgba(60, 64, 67, 0.15);\n",
              "    fill: var(--button-hover-fill-color);\n",
              "  }\n",
              "\n",
              "  .colab-df-quickchart-complete:disabled,\n",
              "  .colab-df-quickchart-complete:disabled:hover {\n",
              "    background-color: var(--disabled-bg-color);\n",
              "    fill: var(--disabled-fill-color);\n",
              "    box-shadow: none;\n",
              "  }\n",
              "\n",
              "  .colab-df-spinner {\n",
              "    border: 2px solid var(--fill-color);\n",
              "    border-color: transparent;\n",
              "    border-bottom-color: var(--fill-color);\n",
              "    animation:\n",
              "      spin 1s steps(1) infinite;\n",
              "  }\n",
              "\n",
              "  @keyframes spin {\n",
              "    0% {\n",
              "      border-color: transparent;\n",
              "      border-bottom-color: var(--fill-color);\n",
              "      border-left-color: var(--fill-color);\n",
              "    }\n",
              "    20% {\n",
              "      border-color: transparent;\n",
              "      border-left-color: var(--fill-color);\n",
              "      border-top-color: var(--fill-color);\n",
              "    }\n",
              "    30% {\n",
              "      border-color: transparent;\n",
              "      border-left-color: var(--fill-color);\n",
              "      border-top-color: var(--fill-color);\n",
              "      border-right-color: var(--fill-color);\n",
              "    }\n",
              "    40% {\n",
              "      border-color: transparent;\n",
              "      border-right-color: var(--fill-color);\n",
              "      border-top-color: var(--fill-color);\n",
              "    }\n",
              "    60% {\n",
              "      border-color: transparent;\n",
              "      border-right-color: var(--fill-color);\n",
              "    }\n",
              "    80% {\n",
              "      border-color: transparent;\n",
              "      border-right-color: var(--fill-color);\n",
              "      border-bottom-color: var(--fill-color);\n",
              "    }\n",
              "    90% {\n",
              "      border-color: transparent;\n",
              "      border-bottom-color: var(--fill-color);\n",
              "    }\n",
              "  }\n",
              "</style>\n",
              "\n",
              "  <script>\n",
              "    async function quickchart(key) {\n",
              "      const quickchartButtonEl =\n",
              "        document.querySelector('#' + key + ' button');\n",
              "      quickchartButtonEl.disabled = true;  // To prevent multiple clicks.\n",
              "      quickchartButtonEl.classList.add('colab-df-spinner');\n",
              "      try {\n",
              "        const charts = await google.colab.kernel.invokeFunction(\n",
              "            'suggestCharts', [key], {});\n",
              "      } catch (error) {\n",
              "        console.error('Error during call to suggestCharts:', error);\n",
              "      }\n",
              "      quickchartButtonEl.classList.remove('colab-df-spinner');\n",
              "      quickchartButtonEl.classList.add('colab-df-quickchart-complete');\n",
              "    }\n",
              "    (() => {\n",
              "      let quickchartButtonEl =\n",
              "        document.querySelector('#df-ea783980-b922-42a5-b12e-3ae360b46d94 button');\n",
              "      quickchartButtonEl.style.display =\n",
              "        google.colab.kernel.accessAllowed ? 'block' : 'none';\n",
              "    })();\n",
              "  </script>\n",
              "</div>\n",
              "\n",
              "    </div>\n",
              "  </div>\n"
            ],
            "application/vnd.google.colaboratory.intrinsic+json": {
              "type": "dataframe",
              "variable_name": "review_df",
              "summary": "{\n  \"name\": \"review_df\",\n  \"rows\": 25000,\n  \"fields\": [\n    {\n      \"column\": \"id\",\n      \"properties\": {\n        \"dtype\": \"string\",\n        \"num_unique_values\": 25000,\n        \"samples\": [\n          \"\\\"2570_3\\\"\",\n          \"\\\"4897_8\\\"\",\n          \"\\\"8485_3\\\"\"\n        ],\n        \"semantic_type\": \"\",\n        \"description\": \"\"\n      }\n    },\n    {\n      \"column\": \"sentiment\",\n      \"properties\": {\n        \"dtype\": \"number\",\n        \"std\": 0,\n        \"min\": 0,\n        \"max\": 1,\n        \"num_unique_values\": 2,\n        \"samples\": [\n          0,\n          1\n        ],\n        \"semantic_type\": \"\",\n        \"description\": \"\"\n      }\n    },\n    {\n      \"column\": \"review\",\n      \"properties\": {\n        \"dtype\": \"string\",\n        \"num_unique_values\": 24904,\n        \"samples\": [\n          \"\\\"This is not my favorite WIP (\\\\\\\"Women in Prison\\\\\\\"), but it is one of the most famous films in the sub-genre. It is was produced by Roger Corman, who at this point had already produced a few WIPs. It is obvious that the film tries to play with the established formula. The movie takes place in an USA prison, not in a \\\\\\\"banana republic\\\\\\\" like most WIP films. I'm not sure if that was a wise move, but it is an acceptable change of pace. Writer-director Demme really gets into his job, always digging for new ways to present a familiar scenario. In fact, he is a little too ambitious for his own good. The filmmaker creates a few surreal dream sequences that are borderline pretentious but it is fun to see how hard he tries to put this film above your average chicks-in-chains flick. But do not worry, Demme still operates within the parameters of the sub-genre. There is plenty of nudity and violence, something that will satisfy hardcore fans. The film is a little slow, but it is very entertaining. The cast is good. Roberta Collins is a WIP veteran, so she does not need an introduction, and Barbara Steel is a hoot as the wheelchair-bound crazy warden. Pam Grier is sorely missed, though.\\\"\",\n          \"\\\"In 1972, after his wife left to go her own way, Elvis Presley began dating Linda Thompson. Miss Thompson, a good-humored, long haired, lovely, statuesque beauty queen, is charted to fill a void in Elvis' life. When Elvis' divorce became final, Linda was already in place as the legendary performer's live-in girlfriend and travel companion until 1976.<br /><br />This is a gaudy look at their love affair and companionship. Linda whole-heartedly tending to her lover's needs and desires. And even putting up with his swallowing medications by the handful and introducing her to her own love affair with valium. At times this movie is harsh and dark of heart; a very unattractive look at the 'King' and his queen.<br /><br />Don Johnson is absolutely awful as Elvis. Over acting to the hilt is not attractive. Stephanie Zimbalist lacks the classiness of Linda, but does the job pretty well. Supporting cast includes: John Crawford, Ruta Lee, and Rick Lenz. Watching this twice is more than enough for me, but don't let this review stop you from checking it out. For most Elvis fans that I have conferred with, this is not a favored presentation.\\\"\"\n        ],\n        \"semantic_type\": \"\",\n        \"description\": \"\"\n      }\n    }\n  ]\n}"
            }
          },
          "metadata": {},
          "execution_count": 31
        }
      ]
    },
    {
      "cell_type": "code",
      "source": [
        "print(review_df['review'][0])"
      ],
      "metadata": {
        "colab": {
          "base_uri": "https://localhost:8080/"
        },
        "id": "hYKV8juQBTrf",
        "outputId": "d4efa26a-2deb-4c6b-8d5a-cc96aaa98465"
      },
      "execution_count": 32,
      "outputs": [
        {
          "output_type": "stream",
          "name": "stdout",
          "text": [
            "\"With all this stuff going down at the moment with MJ i've started listening to his music, watching the odd documentary here and there, watched The Wiz and watched Moonwalker again. Maybe i just want to get a certain insight into this guy who i thought was really cool in the eighties just to maybe make up my mind whether he is guilty or innocent. Moonwalker is part biography, part feature film which i remember going to see at the cinema when it was originally released. Some of it has subtle messages about MJ's feeling towards the press and also the obvious message of drugs are bad m'kay.<br /><br />Visually impressive but of course this is all about Michael Jackson so unless you remotely like MJ in anyway then you are going to hate this and find it boring. Some may call MJ an egotist for consenting to the making of this movie BUT MJ and most of his fans would say that he made it for the fans which if true is really nice of him.<br /><br />The actual feature film bit when it finally starts is only on for 20 minutes or so excluding the Smooth Criminal sequence and Joe Pesci is convincing as a psychopathic all powerful drug lord. Why he wants MJ dead so bad is beyond me. Because MJ overheard his plans? Nah, Joe Pesci's character ranted that he wanted people to know it is he who is supplying drugs etc so i dunno, maybe he just hates MJ's music.<br /><br />Lots of cool things in this like MJ turning into a car and a robot and the whole Speed Demon sequence. Also, the director must have had the patience of a saint when it came to filming the kiddy Bad sequence as usually directors hate working with one kid let alone a whole bunch of them performing a complex dance scene.<br /><br />Bottom line, this movie is for people who like MJ on one level or another (which i think is most people). If not, then stay away. It does try and give off a wholesome message and ironically MJ's bestest buddy in this movie is a girl! Michael Jackson is truly one of the most talented people ever to grace this planet but is he guilty? Well, with all the attention i've gave this subject....hmmm well i don't know because people can be different behind closed doors, i know this for a fact. He is either an extremely nice but stupid guy or one of the most sickest liars. I hope he is not the latter.\"\n"
          ]
        }
      ]
    },
    {
      "cell_type": "code",
      "source": [
        "import re\n",
        "#<br> html 태그는 replace함수로 공백으로 변환\n",
        "review_df['review']=review_df['review'].str.replace('<br />',' ')\n",
        "\n",
        "#파이썬의 정규 표현식 모듈은 re를 이용해 영어 문자열이 아닌 문자는 모두 공백으로 변환\n",
        "review_df['review']=review_df['review'].apply(lambda x : re.sub('[^a-zA-Z]',' ',x))"
      ],
      "metadata": {
        "id": "Z8LOIAw5BX5Y"
      },
      "execution_count": 33,
      "outputs": []
    },
    {
      "cell_type": "code",
      "source": [
        "from sklearn.model_selection import train_test_split\n",
        "\n",
        "class_df=review_df['sentiment']\n",
        "feature_df=review_df.drop(['id','sentiment'],axis=1,inplace=False)\n",
        "X_train,X_test,y_train,y_test=train_test_split(feature_df,class_df,test_size=0.3,random_state=156)\n",
        "X_train.shape,X_test.shape"
      ],
      "metadata": {
        "colab": {
          "base_uri": "https://localhost:8080/"
        },
        "id": "Rj56-cBgCBBo",
        "outputId": "a00182e4-198c-4748-d03a-8c5f27c16268"
      },
      "execution_count": 34,
      "outputs": [
        {
          "output_type": "execute_result",
          "data": {
            "text/plain": [
              "((17500, 1), (7500, 1))"
            ]
          },
          "metadata": {},
          "execution_count": 34
        }
      ]
    },
    {
      "cell_type": "code",
      "source": [
        "from sklearn.feature_extraction.text import CountVectorizer, TfidfVectorizer\n",
        "from sklearn.pipeline import Pipeline\n",
        "from sklearn.linear_model import LogisticRegression\n",
        "from sklearn.metrics import accuracy_score,roc_auc_score\n",
        "\n",
        "#stop word는 english, filtering, ngram은 (1,2)로 설정해 CountVectorization 수행\n",
        "#LogisticRegression의 C는 10으로 설정\n",
        "pipeline=Pipeline([('cnt_vect',CountVectorizer(stop_words='english',ngram_range=(1,2))),('lr_clf',LogisticRegression(C=10))])\n",
        "#Pipeline 객체를 이용해 fit(), predict()로 학습/예측 수행. predict_proba()는 roc_auc때문에 수행\n",
        "pipeline.fit(X_train['review'],y_train)\n",
        "pred=pipeline.predict(X_test['review'])\n",
        "pred_probs=pipeline.predict_proba(X_test['review'])[:,1]\n",
        "\n",
        "print('예측 정확도는 {0:.4f}, ROC-AUC는 {1:.4f}'.format(accuracy_score(y_test,pred),roc_auc_score(y_test,pred_probs)))"
      ],
      "metadata": {
        "colab": {
          "base_uri": "https://localhost:8080/"
        },
        "id": "k1vL4mXrCe9O",
        "outputId": "7a406262-063d-4915-e8fa-a79528d72b78"
      },
      "execution_count": 36,
      "outputs": [
        {
          "output_type": "stream",
          "name": "stdout",
          "text": [
            "예측 정확도는 0.8848, ROC-AUC는 0.9509\n"
          ]
        }
      ]
    },
    {
      "cell_type": "code",
      "source": [
        "#stop word는 english, filtering, ngram은 (1,2)로 설정해 Tf-IDF 벡터화 수행\n",
        "#LogisticRegression의 C는 10으로 설정\n",
        "pipeline=Pipeline([('tfidf_vect',TfidfVectorizer(stop_words='english',ngram_range=(1,2))),('lr_clf',LogisticRegression(C=10))])\n",
        "\n",
        "pipeline.fit(X_train['review'],y_train)\n",
        "pred=pipeline.predict(X_test['review'])\n",
        "pred_probs=pipeline.predict_proba(X_test['review'])[:,1]\n",
        "\n",
        "print('예측 정확도는 {0:.4f}, ROC-AUC는 {1:.4f}'.format(accuracy_score(y_test,pred),roc_auc_score(y_test,pred_probs)))"
      ],
      "metadata": {
        "colab": {
          "base_uri": "https://localhost:8080/"
        },
        "id": "GI-uQ4KtFUat",
        "outputId": "5179c0b8-a25b-42b1-b6c3-3a3d3fcdb442"
      },
      "execution_count": 38,
      "outputs": [
        {
          "output_type": "stream",
          "name": "stdout",
          "text": [
            "예측 정확도는 0.8939, ROC-AUC는 0.9596\n"
          ]
        }
      ]
    },
    {
      "cell_type": "markdown",
      "source": [
        "<비지도 학습 기반 감성 분석>"
      ],
      "metadata": {
        "id": "s_dSDhGWHSg2"
      }
    },
    {
      "cell_type": "markdown",
      "source": [
        "SentiWordNet을 이용한 감성 분석"
      ],
      "metadata": {
        "id": "MdHpA9tqHWRd"
      }
    },
    {
      "cell_type": "code",
      "source": [
        "import nltk\n",
        "nltk.download('all')"
      ],
      "metadata": {
        "colab": {
          "base_uri": "https://localhost:8080/"
        },
        "id": "ByUkBy5RHaUz",
        "outputId": "60c4b8b4-a3b8-49ac-bc54-31a212aad634"
      },
      "execution_count": 39,
      "outputs": [
        {
          "output_type": "stream",
          "name": "stderr",
          "text": [
            "[nltk_data] Downloading collection 'all'\n",
            "[nltk_data]    | \n",
            "[nltk_data]    | Downloading package abc to /root/nltk_data...\n",
            "[nltk_data]    |   Unzipping corpora/abc.zip.\n",
            "[nltk_data]    | Downloading package alpino to /root/nltk_data...\n",
            "[nltk_data]    |   Unzipping corpora/alpino.zip.\n",
            "[nltk_data]    | Downloading package averaged_perceptron_tagger to\n",
            "[nltk_data]    |     /root/nltk_data...\n",
            "[nltk_data]    |   Unzipping taggers/averaged_perceptron_tagger.zip.\n",
            "[nltk_data]    | Downloading package averaged_perceptron_tagger_eng to\n",
            "[nltk_data]    |     /root/nltk_data...\n",
            "[nltk_data]    |   Unzipping\n",
            "[nltk_data]    |       taggers/averaged_perceptron_tagger_eng.zip.\n",
            "[nltk_data]    | Downloading package averaged_perceptron_tagger_ru to\n",
            "[nltk_data]    |     /root/nltk_data...\n",
            "[nltk_data]    |   Unzipping\n",
            "[nltk_data]    |       taggers/averaged_perceptron_tagger_ru.zip.\n",
            "[nltk_data]    | Downloading package averaged_perceptron_tagger_rus to\n",
            "[nltk_data]    |     /root/nltk_data...\n",
            "[nltk_data]    |   Unzipping\n",
            "[nltk_data]    |       taggers/averaged_perceptron_tagger_rus.zip.\n",
            "[nltk_data]    | Downloading package basque_grammars to\n",
            "[nltk_data]    |     /root/nltk_data...\n",
            "[nltk_data]    |   Unzipping grammars/basque_grammars.zip.\n",
            "[nltk_data]    | Downloading package bcp47 to /root/nltk_data...\n",
            "[nltk_data]    | Downloading package biocreative_ppi to\n",
            "[nltk_data]    |     /root/nltk_data...\n",
            "[nltk_data]    |   Unzipping corpora/biocreative_ppi.zip.\n",
            "[nltk_data]    | Downloading package bllip_wsj_no_aux to\n",
            "[nltk_data]    |     /root/nltk_data...\n",
            "[nltk_data]    |   Unzipping models/bllip_wsj_no_aux.zip.\n",
            "[nltk_data]    | Downloading package book_grammars to\n",
            "[nltk_data]    |     /root/nltk_data...\n",
            "[nltk_data]    |   Unzipping grammars/book_grammars.zip.\n",
            "[nltk_data]    | Downloading package brown to /root/nltk_data...\n",
            "[nltk_data]    |   Unzipping corpora/brown.zip.\n",
            "[nltk_data]    | Downloading package brown_tei to /root/nltk_data...\n",
            "[nltk_data]    |   Unzipping corpora/brown_tei.zip.\n",
            "[nltk_data]    | Downloading package cess_cat to /root/nltk_data...\n",
            "[nltk_data]    |   Unzipping corpora/cess_cat.zip.\n",
            "[nltk_data]    | Downloading package cess_esp to /root/nltk_data...\n",
            "[nltk_data]    |   Unzipping corpora/cess_esp.zip.\n",
            "[nltk_data]    | Downloading package chat80 to /root/nltk_data...\n",
            "[nltk_data]    |   Unzipping corpora/chat80.zip.\n",
            "[nltk_data]    | Downloading package city_database to\n",
            "[nltk_data]    |     /root/nltk_data...\n",
            "[nltk_data]    |   Unzipping corpora/city_database.zip.\n",
            "[nltk_data]    | Downloading package cmudict to /root/nltk_data...\n",
            "[nltk_data]    |   Unzipping corpora/cmudict.zip.\n",
            "[nltk_data]    | Downloading package comparative_sentences to\n",
            "[nltk_data]    |     /root/nltk_data...\n",
            "[nltk_data]    |   Unzipping corpora/comparative_sentences.zip.\n",
            "[nltk_data]    | Downloading package comtrans to /root/nltk_data...\n",
            "[nltk_data]    | Downloading package conll2000 to /root/nltk_data...\n",
            "[nltk_data]    |   Unzipping corpora/conll2000.zip.\n",
            "[nltk_data]    | Downloading package conll2002 to /root/nltk_data...\n",
            "[nltk_data]    |   Unzipping corpora/conll2002.zip.\n",
            "[nltk_data]    | Downloading package conll2007 to /root/nltk_data...\n",
            "[nltk_data]    | Downloading package crubadan to /root/nltk_data...\n",
            "[nltk_data]    |   Unzipping corpora/crubadan.zip.\n",
            "[nltk_data]    | Downloading package dependency_treebank to\n",
            "[nltk_data]    |     /root/nltk_data...\n",
            "[nltk_data]    |   Unzipping corpora/dependency_treebank.zip.\n",
            "[nltk_data]    | Downloading package dolch to /root/nltk_data...\n",
            "[nltk_data]    |   Unzipping corpora/dolch.zip.\n",
            "[nltk_data]    | Downloading package europarl_raw to\n",
            "[nltk_data]    |     /root/nltk_data...\n",
            "[nltk_data]    |   Unzipping corpora/europarl_raw.zip.\n",
            "[nltk_data]    | Downloading package extended_omw to\n",
            "[nltk_data]    |     /root/nltk_data...\n",
            "[nltk_data]    | Downloading package floresta to /root/nltk_data...\n",
            "[nltk_data]    |   Unzipping corpora/floresta.zip.\n",
            "[nltk_data]    | Downloading package framenet_v15 to\n",
            "[nltk_data]    |     /root/nltk_data...\n",
            "[nltk_data]    |   Unzipping corpora/framenet_v15.zip.\n",
            "[nltk_data]    | Downloading package framenet_v17 to\n",
            "[nltk_data]    |     /root/nltk_data...\n",
            "[nltk_data]    |   Unzipping corpora/framenet_v17.zip.\n",
            "[nltk_data]    | Downloading package gazetteers to /root/nltk_data...\n",
            "[nltk_data]    |   Unzipping corpora/gazetteers.zip.\n",
            "[nltk_data]    | Downloading package genesis to /root/nltk_data...\n",
            "[nltk_data]    |   Unzipping corpora/genesis.zip.\n",
            "[nltk_data]    | Downloading package gutenberg to /root/nltk_data...\n",
            "[nltk_data]    |   Unzipping corpora/gutenberg.zip.\n",
            "[nltk_data]    | Downloading package ieer to /root/nltk_data...\n",
            "[nltk_data]    |   Unzipping corpora/ieer.zip.\n",
            "[nltk_data]    | Downloading package inaugural to /root/nltk_data...\n",
            "[nltk_data]    |   Unzipping corpora/inaugural.zip.\n",
            "[nltk_data]    | Downloading package indian to /root/nltk_data...\n",
            "[nltk_data]    |   Unzipping corpora/indian.zip.\n",
            "[nltk_data]    | Downloading package jeita to /root/nltk_data...\n",
            "[nltk_data]    | Downloading package kimmo to /root/nltk_data...\n",
            "[nltk_data]    |   Unzipping corpora/kimmo.zip.\n",
            "[nltk_data]    | Downloading package knbc to /root/nltk_data...\n",
            "[nltk_data]    | Downloading package large_grammars to\n",
            "[nltk_data]    |     /root/nltk_data...\n",
            "[nltk_data]    |   Unzipping grammars/large_grammars.zip.\n",
            "[nltk_data]    | Downloading package lin_thesaurus to\n",
            "[nltk_data]    |     /root/nltk_data...\n",
            "[nltk_data]    |   Unzipping corpora/lin_thesaurus.zip.\n",
            "[nltk_data]    | Downloading package mac_morpho to /root/nltk_data...\n",
            "[nltk_data]    |   Unzipping corpora/mac_morpho.zip.\n",
            "[nltk_data]    | Downloading package machado to /root/nltk_data...\n",
            "[nltk_data]    | Downloading package masc_tagged to /root/nltk_data...\n",
            "[nltk_data]    | Downloading package maxent_ne_chunker to\n",
            "[nltk_data]    |     /root/nltk_data...\n",
            "[nltk_data]    |   Unzipping chunkers/maxent_ne_chunker.zip.\n",
            "[nltk_data]    | Downloading package maxent_ne_chunker_tab to\n",
            "[nltk_data]    |     /root/nltk_data...\n",
            "[nltk_data]    |   Unzipping chunkers/maxent_ne_chunker_tab.zip.\n",
            "[nltk_data]    | Downloading package maxent_treebank_pos_tagger to\n",
            "[nltk_data]    |     /root/nltk_data...\n",
            "[nltk_data]    |   Unzipping taggers/maxent_treebank_pos_tagger.zip.\n",
            "[nltk_data]    | Downloading package maxent_treebank_pos_tagger_tab to\n",
            "[nltk_data]    |     /root/nltk_data...\n",
            "[nltk_data]    |   Unzipping\n",
            "[nltk_data]    |       taggers/maxent_treebank_pos_tagger_tab.zip.\n",
            "[nltk_data]    | Downloading package moses_sample to\n",
            "[nltk_data]    |     /root/nltk_data...\n",
            "[nltk_data]    |   Unzipping models/moses_sample.zip.\n",
            "[nltk_data]    | Downloading package movie_reviews to\n",
            "[nltk_data]    |     /root/nltk_data...\n",
            "[nltk_data]    |   Unzipping corpora/movie_reviews.zip.\n",
            "[nltk_data]    | Downloading package mte_teip5 to /root/nltk_data...\n",
            "[nltk_data]    |   Unzipping corpora/mte_teip5.zip.\n",
            "[nltk_data]    | Downloading package mwa_ppdb to /root/nltk_data...\n",
            "[nltk_data]    |   Unzipping misc/mwa_ppdb.zip.\n",
            "[nltk_data]    | Downloading package names to /root/nltk_data...\n",
            "[nltk_data]    |   Unzipping corpora/names.zip.\n",
            "[nltk_data]    | Downloading package nombank.1.0 to /root/nltk_data...\n",
            "[nltk_data]    | Downloading package nonbreaking_prefixes to\n",
            "[nltk_data]    |     /root/nltk_data...\n",
            "[nltk_data]    |   Unzipping corpora/nonbreaking_prefixes.zip.\n",
            "[nltk_data]    | Downloading package nps_chat to /root/nltk_data...\n",
            "[nltk_data]    |   Unzipping corpora/nps_chat.zip.\n",
            "[nltk_data]    | Downloading package omw to /root/nltk_data...\n",
            "[nltk_data]    | Downloading package omw-1.4 to /root/nltk_data...\n",
            "[nltk_data]    | Downloading package opinion_lexicon to\n",
            "[nltk_data]    |     /root/nltk_data...\n",
            "[nltk_data]    |   Unzipping corpora/opinion_lexicon.zip.\n",
            "[nltk_data]    | Downloading package panlex_swadesh to\n",
            "[nltk_data]    |     /root/nltk_data...\n",
            "[nltk_data]    | Downloading package paradigms to /root/nltk_data...\n",
            "[nltk_data]    |   Unzipping corpora/paradigms.zip.\n",
            "[nltk_data]    | Downloading package pe08 to /root/nltk_data...\n",
            "[nltk_data]    |   Unzipping corpora/pe08.zip.\n",
            "[nltk_data]    | Downloading package perluniprops to\n",
            "[nltk_data]    |     /root/nltk_data...\n",
            "[nltk_data]    |   Unzipping misc/perluniprops.zip.\n",
            "[nltk_data]    | Downloading package pil to /root/nltk_data...\n",
            "[nltk_data]    |   Unzipping corpora/pil.zip.\n",
            "[nltk_data]    | Downloading package pl196x to /root/nltk_data...\n",
            "[nltk_data]    |   Unzipping corpora/pl196x.zip.\n",
            "[nltk_data]    | Downloading package porter_test to /root/nltk_data...\n",
            "[nltk_data]    |   Unzipping stemmers/porter_test.zip.\n",
            "[nltk_data]    | Downloading package ppattach to /root/nltk_data...\n",
            "[nltk_data]    |   Unzipping corpora/ppattach.zip.\n",
            "[nltk_data]    | Downloading package problem_reports to\n",
            "[nltk_data]    |     /root/nltk_data...\n",
            "[nltk_data]    |   Unzipping corpora/problem_reports.zip.\n",
            "[nltk_data]    | Downloading package product_reviews_1 to\n",
            "[nltk_data]    |     /root/nltk_data...\n",
            "[nltk_data]    |   Unzipping corpora/product_reviews_1.zip.\n",
            "[nltk_data]    | Downloading package product_reviews_2 to\n",
            "[nltk_data]    |     /root/nltk_data...\n",
            "[nltk_data]    |   Unzipping corpora/product_reviews_2.zip.\n",
            "[nltk_data]    | Downloading package propbank to /root/nltk_data...\n",
            "[nltk_data]    | Downloading package pros_cons to /root/nltk_data...\n",
            "[nltk_data]    |   Unzipping corpora/pros_cons.zip.\n",
            "[nltk_data]    | Downloading package ptb to /root/nltk_data...\n",
            "[nltk_data]    |   Unzipping corpora/ptb.zip.\n",
            "[nltk_data]    | Downloading package punkt to /root/nltk_data...\n",
            "[nltk_data]    |   Package punkt is already up-to-date!\n",
            "[nltk_data]    | Downloading package punkt_tab to /root/nltk_data...\n",
            "[nltk_data]    |   Package punkt_tab is already up-to-date!\n",
            "[nltk_data]    | Downloading package qc to /root/nltk_data...\n",
            "[nltk_data]    |   Unzipping corpora/qc.zip.\n",
            "[nltk_data]    | Downloading package reuters to /root/nltk_data...\n",
            "[nltk_data]    | Downloading package rslp to /root/nltk_data...\n",
            "[nltk_data]    |   Unzipping stemmers/rslp.zip.\n",
            "[nltk_data]    | Downloading package rte to /root/nltk_data...\n",
            "[nltk_data]    |   Unzipping corpora/rte.zip.\n",
            "[nltk_data]    | Downloading package sample_grammars to\n",
            "[nltk_data]    |     /root/nltk_data...\n",
            "[nltk_data]    |   Unzipping grammars/sample_grammars.zip.\n",
            "[nltk_data]    | Downloading package semcor to /root/nltk_data...\n",
            "[nltk_data]    | Downloading package senseval to /root/nltk_data...\n",
            "[nltk_data]    |   Unzipping corpora/senseval.zip.\n",
            "[nltk_data]    | Downloading package sentence_polarity to\n",
            "[nltk_data]    |     /root/nltk_data...\n",
            "[nltk_data]    |   Unzipping corpora/sentence_polarity.zip.\n",
            "[nltk_data]    | Downloading package sentiwordnet to\n",
            "[nltk_data]    |     /root/nltk_data...\n",
            "[nltk_data]    |   Unzipping corpora/sentiwordnet.zip.\n",
            "[nltk_data]    | Downloading package shakespeare to /root/nltk_data...\n",
            "[nltk_data]    |   Unzipping corpora/shakespeare.zip.\n",
            "[nltk_data]    | Downloading package sinica_treebank to\n",
            "[nltk_data]    |     /root/nltk_data...\n",
            "[nltk_data]    |   Unzipping corpora/sinica_treebank.zip.\n",
            "[nltk_data]    | Downloading package smultron to /root/nltk_data...\n",
            "[nltk_data]    |   Unzipping corpora/smultron.zip.\n",
            "[nltk_data]    | Downloading package snowball_data to\n",
            "[nltk_data]    |     /root/nltk_data...\n",
            "[nltk_data]    | Downloading package spanish_grammars to\n",
            "[nltk_data]    |     /root/nltk_data...\n",
            "[nltk_data]    |   Unzipping grammars/spanish_grammars.zip.\n",
            "[nltk_data]    | Downloading package state_union to /root/nltk_data...\n",
            "[nltk_data]    |   Unzipping corpora/state_union.zip.\n",
            "[nltk_data]    | Downloading package stopwords to /root/nltk_data...\n",
            "[nltk_data]    |   Package stopwords is already up-to-date!\n",
            "[nltk_data]    | Downloading package subjectivity to\n",
            "[nltk_data]    |     /root/nltk_data...\n",
            "[nltk_data]    |   Unzipping corpora/subjectivity.zip.\n",
            "[nltk_data]    | Downloading package swadesh to /root/nltk_data...\n",
            "[nltk_data]    |   Unzipping corpora/swadesh.zip.\n",
            "[nltk_data]    | Downloading package switchboard to /root/nltk_data...\n",
            "[nltk_data]    |   Unzipping corpora/switchboard.zip.\n",
            "[nltk_data]    | Downloading package tagsets to /root/nltk_data...\n",
            "[nltk_data]    |   Unzipping help/tagsets.zip.\n",
            "[nltk_data]    | Downloading package tagsets_json to\n",
            "[nltk_data]    |     /root/nltk_data...\n",
            "[nltk_data]    |   Unzipping help/tagsets_json.zip.\n",
            "[nltk_data]    | Downloading package timit to /root/nltk_data...\n",
            "[nltk_data]    |   Unzipping corpora/timit.zip.\n",
            "[nltk_data]    | Downloading package toolbox to /root/nltk_data...\n",
            "[nltk_data]    |   Unzipping corpora/toolbox.zip.\n",
            "[nltk_data]    | Downloading package treebank to /root/nltk_data...\n",
            "[nltk_data]    |   Unzipping corpora/treebank.zip.\n",
            "[nltk_data]    | Downloading package twitter_samples to\n",
            "[nltk_data]    |     /root/nltk_data...\n",
            "[nltk_data]    |   Unzipping corpora/twitter_samples.zip.\n",
            "[nltk_data]    | Downloading package udhr to /root/nltk_data...\n",
            "[nltk_data]    |   Unzipping corpora/udhr.zip.\n",
            "[nltk_data]    | Downloading package udhr2 to /root/nltk_data...\n",
            "[nltk_data]    |   Unzipping corpora/udhr2.zip.\n",
            "[nltk_data]    | Downloading package unicode_samples to\n",
            "[nltk_data]    |     /root/nltk_data...\n",
            "[nltk_data]    |   Unzipping corpora/unicode_samples.zip.\n",
            "[nltk_data]    | Downloading package universal_tagset to\n",
            "[nltk_data]    |     /root/nltk_data...\n",
            "[nltk_data]    |   Unzipping taggers/universal_tagset.zip.\n",
            "[nltk_data]    | Downloading package universal_treebanks_v20 to\n",
            "[nltk_data]    |     /root/nltk_data...\n",
            "[nltk_data]    | Downloading package vader_lexicon to\n",
            "[nltk_data]    |     /root/nltk_data...\n",
            "[nltk_data]    | Downloading package verbnet to /root/nltk_data...\n",
            "[nltk_data]    |   Unzipping corpora/verbnet.zip.\n",
            "[nltk_data]    | Downloading package verbnet3 to /root/nltk_data...\n",
            "[nltk_data]    |   Unzipping corpora/verbnet3.zip.\n",
            "[nltk_data]    | Downloading package webtext to /root/nltk_data...\n",
            "[nltk_data]    |   Unzipping corpora/webtext.zip.\n",
            "[nltk_data]    | Downloading package wmt15_eval to /root/nltk_data...\n",
            "[nltk_data]    |   Unzipping models/wmt15_eval.zip.\n",
            "[nltk_data]    | Downloading package word2vec_sample to\n",
            "[nltk_data]    |     /root/nltk_data...\n",
            "[nltk_data]    |   Unzipping models/word2vec_sample.zip.\n",
            "[nltk_data]    | Downloading package wordnet to /root/nltk_data...\n",
            "[nltk_data]    |   Package wordnet is already up-to-date!\n",
            "[nltk_data]    | Downloading package wordnet2021 to /root/nltk_data...\n",
            "[nltk_data]    | Downloading package wordnet2022 to /root/nltk_data...\n",
            "[nltk_data]    |   Unzipping corpora/wordnet2022.zip.\n",
            "[nltk_data]    | Downloading package wordnet31 to /root/nltk_data...\n",
            "[nltk_data]    | Downloading package wordnet_ic to /root/nltk_data...\n",
            "[nltk_data]    |   Unzipping corpora/wordnet_ic.zip.\n",
            "[nltk_data]    | Downloading package words to /root/nltk_data...\n",
            "[nltk_data]    |   Unzipping corpora/words.zip.\n",
            "[nltk_data]    | Downloading package ycoe to /root/nltk_data...\n",
            "[nltk_data]    |   Unzipping corpora/ycoe.zip.\n",
            "[nltk_data]    | \n",
            "[nltk_data]  Done downloading collection all\n"
          ]
        },
        {
          "output_type": "execute_result",
          "data": {
            "text/plain": [
              "True"
            ]
          },
          "metadata": {},
          "execution_count": 39
        }
      ]
    },
    {
      "cell_type": "code",
      "source": [
        "from nltk.corpus import wordnet as wn\n",
        "\n",
        "term='present'\n",
        "\n",
        "#'present'라는 단어로 wordnet의 synsets 생성\n",
        "synsets=wn.synsets(term)\n",
        "print('synsets()반환type:',type(synsets))\n",
        "print('synsets()반환 값 개수:',len(synsets))\n",
        "print('synsets()반환 값:',synsets)"
      ],
      "metadata": {
        "colab": {
          "base_uri": "https://localhost:8080/"
        },
        "id": "l8Td5QzGH7xx",
        "outputId": "8f47fa39-f22e-4f80-e26c-9c3b214dfab9"
      },
      "execution_count": 40,
      "outputs": [
        {
          "output_type": "stream",
          "name": "stdout",
          "text": [
            "synsets()반환type: <class 'list'>\n",
            "synsets()반환 값 개수: 18\n",
            "synsets()반환 값: [Synset('present.n.01'), Synset('present.n.02'), Synset('present.n.03'), Synset('show.v.01'), Synset('present.v.02'), Synset('stage.v.01'), Synset('present.v.04'), Synset('present.v.05'), Synset('award.v.01'), Synset('give.v.08'), Synset('deliver.v.01'), Synset('introduce.v.01'), Synset('portray.v.04'), Synset('confront.v.03'), Synset('present.v.12'), Synset('salute.v.06'), Synset('present.a.01'), Synset('present.a.02')]\n"
          ]
        }
      ]
    },
    {
      "cell_type": "code",
      "source": [
        "for synset in synsets:\n",
        "  print('##### Synset name:',synset.name(),'#####')\n",
        "  print('POS:',synset.lexname())\n",
        "  print('Definition:',synset.definition())\n",
        "  print('Lemmas:',synset.lemma_names())"
      ],
      "metadata": {
        "colab": {
          "base_uri": "https://localhost:8080/"
        },
        "id": "OH9KAT9bIUTU",
        "outputId": "b174dcff-e4fe-4ed3-efd3-1aaae18b5f65"
      },
      "execution_count": 41,
      "outputs": [
        {
          "output_type": "stream",
          "name": "stdout",
          "text": [
            "##### Synset name: present.n.01 #####\n",
            "POS: noun.time\n",
            "Definition: the period of time that is happening now; any continuous stretch of time including the moment of speech\n",
            "Lemmas: ['present', 'nowadays']\n",
            "##### Synset name: present.n.02 #####\n",
            "POS: noun.possession\n",
            "Definition: something presented as a gift\n",
            "Lemmas: ['present']\n",
            "##### Synset name: present.n.03 #####\n",
            "POS: noun.communication\n",
            "Definition: a verb tense that expresses actions or states at the time of speaking\n",
            "Lemmas: ['present', 'present_tense']\n",
            "##### Synset name: show.v.01 #####\n",
            "POS: verb.perception\n",
            "Definition: give an exhibition of to an interested audience\n",
            "Lemmas: ['show', 'demo', 'exhibit', 'present', 'demonstrate']\n",
            "##### Synset name: present.v.02 #####\n",
            "POS: verb.communication\n",
            "Definition: bring forward and present to the mind\n",
            "Lemmas: ['present', 'represent', 'lay_out']\n",
            "##### Synset name: stage.v.01 #####\n",
            "POS: verb.creation\n",
            "Definition: perform (a play), especially on a stage\n",
            "Lemmas: ['stage', 'present', 'represent']\n",
            "##### Synset name: present.v.04 #####\n",
            "POS: verb.possession\n",
            "Definition: hand over formally\n",
            "Lemmas: ['present', 'submit']\n",
            "##### Synset name: present.v.05 #####\n",
            "POS: verb.stative\n",
            "Definition: introduce\n",
            "Lemmas: ['present', 'pose']\n",
            "##### Synset name: award.v.01 #####\n",
            "POS: verb.possession\n",
            "Definition: give, especially as an honor or reward\n",
            "Lemmas: ['award', 'present']\n",
            "##### Synset name: give.v.08 #####\n",
            "POS: verb.possession\n",
            "Definition: give as a present; make a gift of\n",
            "Lemmas: ['give', 'gift', 'present']\n",
            "##### Synset name: deliver.v.01 #####\n",
            "POS: verb.communication\n",
            "Definition: deliver (a speech, oration, or idea)\n",
            "Lemmas: ['deliver', 'present']\n",
            "##### Synset name: introduce.v.01 #####\n",
            "POS: verb.communication\n",
            "Definition: cause to come to know personally\n",
            "Lemmas: ['introduce', 'present', 'acquaint']\n",
            "##### Synset name: portray.v.04 #####\n",
            "POS: verb.creation\n",
            "Definition: represent abstractly, for example in a painting, drawing, or sculpture\n",
            "Lemmas: ['portray', 'present']\n",
            "##### Synset name: confront.v.03 #####\n",
            "POS: verb.communication\n",
            "Definition: present somebody with something, usually to accuse or criticize\n",
            "Lemmas: ['confront', 'face', 'present']\n",
            "##### Synset name: present.v.12 #####\n",
            "POS: verb.communication\n",
            "Definition: formally present a debutante, a representative of a country, etc.\n",
            "Lemmas: ['present']\n",
            "##### Synset name: salute.v.06 #####\n",
            "POS: verb.communication\n",
            "Definition: recognize with a gesture prescribed by a military regulation; assume a prescribed position\n",
            "Lemmas: ['salute', 'present']\n",
            "##### Synset name: present.a.01 #####\n",
            "POS: adj.all\n",
            "Definition: temporal sense; intermediate between past and future; now existing or happening or in consideration\n",
            "Lemmas: ['present']\n",
            "##### Synset name: present.a.02 #####\n",
            "POS: adj.all\n",
            "Definition: being or existing in a specified place\n",
            "Lemmas: ['present']\n"
          ]
        }
      ]
    },
    {
      "cell_type": "code",
      "source": [
        "#synset객체를 단어별로 생성\n",
        "tree=wn.synset('tree.n.01')\n",
        "lion=wn.synset('lion.n.01')\n",
        "tiger=wn.synset('tiger.n.02')\n",
        "cat=wn.synset('cat.n.01')\n",
        "dog=wn.synset('dog.n.01')\n",
        "\n",
        "entities=[tree,lion,tiger,cat,dog]\n",
        "similarities=[]\n",
        "entity_names=[entity.name().split('.')[0] for entity in entities]\n",
        "\n",
        "#단어별 synset을 반복하면서 다른 단어의 synset과 유사도를 측정함\n",
        "for entity in entities:\n",
        "  similarity=[round(entity.path_similarity(compared_entity),2) for compared_entity in entities]\n",
        "  similarities.append(similarity)\n",
        "\n",
        "#개별 단어별 synset과 다른 단어의 synset과의 유사도르 DataFrame형태로 저장함\n",
        "similarity_df=pd.DataFrame(similarities,columns=entity_names,index=entity_names)\n",
        "similarity_df"
      ],
      "metadata": {
        "colab": {
          "base_uri": "https://localhost:8080/",
          "height": 206
        },
        "id": "60cPvDq8IniR",
        "outputId": "89bb8217-7830-435f-ea43-3d6d72d9ff96"
      },
      "execution_count": 43,
      "outputs": [
        {
          "output_type": "execute_result",
          "data": {
            "text/plain": [
              "       tree  lion  tiger   cat   dog\n",
              "tree   1.00  0.07   0.07  0.08  0.12\n",
              "lion   0.07  1.00   0.33  0.25  0.17\n",
              "tiger  0.07  0.33   1.00  0.25  0.17\n",
              "cat    0.08  0.25   0.25  1.00  0.20\n",
              "dog    0.12  0.17   0.17  0.20  1.00"
            ],
            "text/html": [
              "\n",
              "  <div id=\"df-c20206ea-ee8d-4e24-a1e5-2b972fb3742b\" class=\"colab-df-container\">\n",
              "    <div>\n",
              "<style scoped>\n",
              "    .dataframe tbody tr th:only-of-type {\n",
              "        vertical-align: middle;\n",
              "    }\n",
              "\n",
              "    .dataframe tbody tr th {\n",
              "        vertical-align: top;\n",
              "    }\n",
              "\n",
              "    .dataframe thead th {\n",
              "        text-align: right;\n",
              "    }\n",
              "</style>\n",
              "<table border=\"1\" class=\"dataframe\">\n",
              "  <thead>\n",
              "    <tr style=\"text-align: right;\">\n",
              "      <th></th>\n",
              "      <th>tree</th>\n",
              "      <th>lion</th>\n",
              "      <th>tiger</th>\n",
              "      <th>cat</th>\n",
              "      <th>dog</th>\n",
              "    </tr>\n",
              "  </thead>\n",
              "  <tbody>\n",
              "    <tr>\n",
              "      <th>tree</th>\n",
              "      <td>1.00</td>\n",
              "      <td>0.07</td>\n",
              "      <td>0.07</td>\n",
              "      <td>0.08</td>\n",
              "      <td>0.12</td>\n",
              "    </tr>\n",
              "    <tr>\n",
              "      <th>lion</th>\n",
              "      <td>0.07</td>\n",
              "      <td>1.00</td>\n",
              "      <td>0.33</td>\n",
              "      <td>0.25</td>\n",
              "      <td>0.17</td>\n",
              "    </tr>\n",
              "    <tr>\n",
              "      <th>tiger</th>\n",
              "      <td>0.07</td>\n",
              "      <td>0.33</td>\n",
              "      <td>1.00</td>\n",
              "      <td>0.25</td>\n",
              "      <td>0.17</td>\n",
              "    </tr>\n",
              "    <tr>\n",
              "      <th>cat</th>\n",
              "      <td>0.08</td>\n",
              "      <td>0.25</td>\n",
              "      <td>0.25</td>\n",
              "      <td>1.00</td>\n",
              "      <td>0.20</td>\n",
              "    </tr>\n",
              "    <tr>\n",
              "      <th>dog</th>\n",
              "      <td>0.12</td>\n",
              "      <td>0.17</td>\n",
              "      <td>0.17</td>\n",
              "      <td>0.20</td>\n",
              "      <td>1.00</td>\n",
              "    </tr>\n",
              "  </tbody>\n",
              "</table>\n",
              "</div>\n",
              "    <div class=\"colab-df-buttons\">\n",
              "\n",
              "  <div class=\"colab-df-container\">\n",
              "    <button class=\"colab-df-convert\" onclick=\"convertToInteractive('df-c20206ea-ee8d-4e24-a1e5-2b972fb3742b')\"\n",
              "            title=\"Convert this dataframe to an interactive table.\"\n",
              "            style=\"display:none;\">\n",
              "\n",
              "  <svg xmlns=\"http://www.w3.org/2000/svg\" height=\"24px\" viewBox=\"0 -960 960 960\">\n",
              "    <path d=\"M120-120v-720h720v720H120Zm60-500h600v-160H180v160Zm220 220h160v-160H400v160Zm0 220h160v-160H400v160ZM180-400h160v-160H180v160Zm440 0h160v-160H620v160ZM180-180h160v-160H180v160Zm440 0h160v-160H620v160Z\"/>\n",
              "  </svg>\n",
              "    </button>\n",
              "\n",
              "  <style>\n",
              "    .colab-df-container {\n",
              "      display:flex;\n",
              "      gap: 12px;\n",
              "    }\n",
              "\n",
              "    .colab-df-convert {\n",
              "      background-color: #E8F0FE;\n",
              "      border: none;\n",
              "      border-radius: 50%;\n",
              "      cursor: pointer;\n",
              "      display: none;\n",
              "      fill: #1967D2;\n",
              "      height: 32px;\n",
              "      padding: 0 0 0 0;\n",
              "      width: 32px;\n",
              "    }\n",
              "\n",
              "    .colab-df-convert:hover {\n",
              "      background-color: #E2EBFA;\n",
              "      box-shadow: 0px 1px 2px rgba(60, 64, 67, 0.3), 0px 1px 3px 1px rgba(60, 64, 67, 0.15);\n",
              "      fill: #174EA6;\n",
              "    }\n",
              "\n",
              "    .colab-df-buttons div {\n",
              "      margin-bottom: 4px;\n",
              "    }\n",
              "\n",
              "    [theme=dark] .colab-df-convert {\n",
              "      background-color: #3B4455;\n",
              "      fill: #D2E3FC;\n",
              "    }\n",
              "\n",
              "    [theme=dark] .colab-df-convert:hover {\n",
              "      background-color: #434B5C;\n",
              "      box-shadow: 0px 1px 3px 1px rgba(0, 0, 0, 0.15);\n",
              "      filter: drop-shadow(0px 1px 2px rgba(0, 0, 0, 0.3));\n",
              "      fill: #FFFFFF;\n",
              "    }\n",
              "  </style>\n",
              "\n",
              "    <script>\n",
              "      const buttonEl =\n",
              "        document.querySelector('#df-c20206ea-ee8d-4e24-a1e5-2b972fb3742b button.colab-df-convert');\n",
              "      buttonEl.style.display =\n",
              "        google.colab.kernel.accessAllowed ? 'block' : 'none';\n",
              "\n",
              "      async function convertToInteractive(key) {\n",
              "        const element = document.querySelector('#df-c20206ea-ee8d-4e24-a1e5-2b972fb3742b');\n",
              "        const dataTable =\n",
              "          await google.colab.kernel.invokeFunction('convertToInteractive',\n",
              "                                                    [key], {});\n",
              "        if (!dataTable) return;\n",
              "\n",
              "        const docLinkHtml = 'Like what you see? Visit the ' +\n",
              "          '<a target=\"_blank\" href=https://colab.research.google.com/notebooks/data_table.ipynb>data table notebook</a>'\n",
              "          + ' to learn more about interactive tables.';\n",
              "        element.innerHTML = '';\n",
              "        dataTable['output_type'] = 'display_data';\n",
              "        await google.colab.output.renderOutput(dataTable, element);\n",
              "        const docLink = document.createElement('div');\n",
              "        docLink.innerHTML = docLinkHtml;\n",
              "        element.appendChild(docLink);\n",
              "      }\n",
              "    </script>\n",
              "  </div>\n",
              "\n",
              "\n",
              "<div id=\"df-824dfcd0-8c61-486b-80cd-a807eae06efa\">\n",
              "  <button class=\"colab-df-quickchart\" onclick=\"quickchart('df-824dfcd0-8c61-486b-80cd-a807eae06efa')\"\n",
              "            title=\"Suggest charts\"\n",
              "            style=\"display:none;\">\n",
              "\n",
              "<svg xmlns=\"http://www.w3.org/2000/svg\" height=\"24px\"viewBox=\"0 0 24 24\"\n",
              "     width=\"24px\">\n",
              "    <g>\n",
              "        <path d=\"M19 3H5c-1.1 0-2 .9-2 2v14c0 1.1.9 2 2 2h14c1.1 0 2-.9 2-2V5c0-1.1-.9-2-2-2zM9 17H7v-7h2v7zm4 0h-2V7h2v10zm4 0h-2v-4h2v4z\"/>\n",
              "    </g>\n",
              "</svg>\n",
              "  </button>\n",
              "\n",
              "<style>\n",
              "  .colab-df-quickchart {\n",
              "      --bg-color: #E8F0FE;\n",
              "      --fill-color: #1967D2;\n",
              "      --hover-bg-color: #E2EBFA;\n",
              "      --hover-fill-color: #174EA6;\n",
              "      --disabled-fill-color: #AAA;\n",
              "      --disabled-bg-color: #DDD;\n",
              "  }\n",
              "\n",
              "  [theme=dark] .colab-df-quickchart {\n",
              "      --bg-color: #3B4455;\n",
              "      --fill-color: #D2E3FC;\n",
              "      --hover-bg-color: #434B5C;\n",
              "      --hover-fill-color: #FFFFFF;\n",
              "      --disabled-bg-color: #3B4455;\n",
              "      --disabled-fill-color: #666;\n",
              "  }\n",
              "\n",
              "  .colab-df-quickchart {\n",
              "    background-color: var(--bg-color);\n",
              "    border: none;\n",
              "    border-radius: 50%;\n",
              "    cursor: pointer;\n",
              "    display: none;\n",
              "    fill: var(--fill-color);\n",
              "    height: 32px;\n",
              "    padding: 0;\n",
              "    width: 32px;\n",
              "  }\n",
              "\n",
              "  .colab-df-quickchart:hover {\n",
              "    background-color: var(--hover-bg-color);\n",
              "    box-shadow: 0 1px 2px rgba(60, 64, 67, 0.3), 0 1px 3px 1px rgba(60, 64, 67, 0.15);\n",
              "    fill: var(--button-hover-fill-color);\n",
              "  }\n",
              "\n",
              "  .colab-df-quickchart-complete:disabled,\n",
              "  .colab-df-quickchart-complete:disabled:hover {\n",
              "    background-color: var(--disabled-bg-color);\n",
              "    fill: var(--disabled-fill-color);\n",
              "    box-shadow: none;\n",
              "  }\n",
              "\n",
              "  .colab-df-spinner {\n",
              "    border: 2px solid var(--fill-color);\n",
              "    border-color: transparent;\n",
              "    border-bottom-color: var(--fill-color);\n",
              "    animation:\n",
              "      spin 1s steps(1) infinite;\n",
              "  }\n",
              "\n",
              "  @keyframes spin {\n",
              "    0% {\n",
              "      border-color: transparent;\n",
              "      border-bottom-color: var(--fill-color);\n",
              "      border-left-color: var(--fill-color);\n",
              "    }\n",
              "    20% {\n",
              "      border-color: transparent;\n",
              "      border-left-color: var(--fill-color);\n",
              "      border-top-color: var(--fill-color);\n",
              "    }\n",
              "    30% {\n",
              "      border-color: transparent;\n",
              "      border-left-color: var(--fill-color);\n",
              "      border-top-color: var(--fill-color);\n",
              "      border-right-color: var(--fill-color);\n",
              "    }\n",
              "    40% {\n",
              "      border-color: transparent;\n",
              "      border-right-color: var(--fill-color);\n",
              "      border-top-color: var(--fill-color);\n",
              "    }\n",
              "    60% {\n",
              "      border-color: transparent;\n",
              "      border-right-color: var(--fill-color);\n",
              "    }\n",
              "    80% {\n",
              "      border-color: transparent;\n",
              "      border-right-color: var(--fill-color);\n",
              "      border-bottom-color: var(--fill-color);\n",
              "    }\n",
              "    90% {\n",
              "      border-color: transparent;\n",
              "      border-bottom-color: var(--fill-color);\n",
              "    }\n",
              "  }\n",
              "</style>\n",
              "\n",
              "  <script>\n",
              "    async function quickchart(key) {\n",
              "      const quickchartButtonEl =\n",
              "        document.querySelector('#' + key + ' button');\n",
              "      quickchartButtonEl.disabled = true;  // To prevent multiple clicks.\n",
              "      quickchartButtonEl.classList.add('colab-df-spinner');\n",
              "      try {\n",
              "        const charts = await google.colab.kernel.invokeFunction(\n",
              "            'suggestCharts', [key], {});\n",
              "      } catch (error) {\n",
              "        console.error('Error during call to suggestCharts:', error);\n",
              "      }\n",
              "      quickchartButtonEl.classList.remove('colab-df-spinner');\n",
              "      quickchartButtonEl.classList.add('colab-df-quickchart-complete');\n",
              "    }\n",
              "    (() => {\n",
              "      let quickchartButtonEl =\n",
              "        document.querySelector('#df-824dfcd0-8c61-486b-80cd-a807eae06efa button');\n",
              "      quickchartButtonEl.style.display =\n",
              "        google.colab.kernel.accessAllowed ? 'block' : 'none';\n",
              "    })();\n",
              "  </script>\n",
              "</div>\n",
              "\n",
              "  <div id=\"id_5f8e158b-8020-4d2e-8b20-60940639d97b\">\n",
              "    <style>\n",
              "      .colab-df-generate {\n",
              "        background-color: #E8F0FE;\n",
              "        border: none;\n",
              "        border-radius: 50%;\n",
              "        cursor: pointer;\n",
              "        display: none;\n",
              "        fill: #1967D2;\n",
              "        height: 32px;\n",
              "        padding: 0 0 0 0;\n",
              "        width: 32px;\n",
              "      }\n",
              "\n",
              "      .colab-df-generate:hover {\n",
              "        background-color: #E2EBFA;\n",
              "        box-shadow: 0px 1px 2px rgba(60, 64, 67, 0.3), 0px 1px 3px 1px rgba(60, 64, 67, 0.15);\n",
              "        fill: #174EA6;\n",
              "      }\n",
              "\n",
              "      [theme=dark] .colab-df-generate {\n",
              "        background-color: #3B4455;\n",
              "        fill: #D2E3FC;\n",
              "      }\n",
              "\n",
              "      [theme=dark] .colab-df-generate:hover {\n",
              "        background-color: #434B5C;\n",
              "        box-shadow: 0px 1px 3px 1px rgba(0, 0, 0, 0.15);\n",
              "        filter: drop-shadow(0px 1px 2px rgba(0, 0, 0, 0.3));\n",
              "        fill: #FFFFFF;\n",
              "      }\n",
              "    </style>\n",
              "    <button class=\"colab-df-generate\" onclick=\"generateWithVariable('similarity_df')\"\n",
              "            title=\"Generate code using this dataframe.\"\n",
              "            style=\"display:none;\">\n",
              "\n",
              "  <svg xmlns=\"http://www.w3.org/2000/svg\" height=\"24px\"viewBox=\"0 0 24 24\"\n",
              "       width=\"24px\">\n",
              "    <path d=\"M7,19H8.4L18.45,9,17,7.55,7,17.6ZM5,21V16.75L18.45,3.32a2,2,0,0,1,2.83,0l1.4,1.43a1.91,1.91,0,0,1,.58,1.4,1.91,1.91,0,0,1-.58,1.4L9.25,21ZM18.45,9,17,7.55Zm-12,3A5.31,5.31,0,0,0,4.9,8.1,5.31,5.31,0,0,0,1,6.5,5.31,5.31,0,0,0,4.9,4.9,5.31,5.31,0,0,0,6.5,1,5.31,5.31,0,0,0,8.1,4.9,5.31,5.31,0,0,0,12,6.5,5.46,5.46,0,0,0,6.5,12Z\"/>\n",
              "  </svg>\n",
              "    </button>\n",
              "    <script>\n",
              "      (() => {\n",
              "      const buttonEl =\n",
              "        document.querySelector('#id_5f8e158b-8020-4d2e-8b20-60940639d97b button.colab-df-generate');\n",
              "      buttonEl.style.display =\n",
              "        google.colab.kernel.accessAllowed ? 'block' : 'none';\n",
              "\n",
              "      buttonEl.onclick = () => {\n",
              "        google.colab.notebook.generateWithVariable('similarity_df');\n",
              "      }\n",
              "      })();\n",
              "    </script>\n",
              "  </div>\n",
              "\n",
              "    </div>\n",
              "  </div>\n"
            ],
            "application/vnd.google.colaboratory.intrinsic+json": {
              "type": "dataframe",
              "variable_name": "similarity_df",
              "summary": "{\n  \"name\": \"similarity_df\",\n  \"rows\": 5,\n  \"fields\": [\n    {\n      \"column\": \"tree\",\n      \"properties\": {\n        \"dtype\": \"number\",\n        \"std\": 0.40971941618624813,\n        \"min\": 0.07,\n        \"max\": 1.0,\n        \"num_unique_values\": 4,\n        \"samples\": [\n          0.07,\n          0.12,\n          1.0\n        ],\n        \"semantic_type\": \"\",\n        \"description\": \"\"\n      }\n    },\n    {\n      \"column\": \"lion\",\n      \"properties\": {\n        \"dtype\": \"number\",\n        \"std\": 0.3683476618630828,\n        \"min\": 0.07,\n        \"max\": 1.0,\n        \"num_unique_values\": 5,\n        \"samples\": [\n          1.0,\n          0.17,\n          0.33\n        ],\n        \"semantic_type\": \"\",\n        \"description\": \"\"\n      }\n    },\n    {\n      \"column\": \"tiger\",\n      \"properties\": {\n        \"dtype\": \"number\",\n        \"std\": 0.3683476618630828,\n        \"min\": 0.07,\n        \"max\": 1.0,\n        \"num_unique_values\": 5,\n        \"samples\": [\n          0.33,\n          0.17,\n          1.0\n        ],\n        \"semantic_type\": \"\",\n        \"description\": \"\"\n      }\n    },\n    {\n      \"column\": \"cat\",\n      \"properties\": {\n        \"dtype\": \"number\",\n        \"std\": 0.36664696916789047,\n        \"min\": 0.08,\n        \"max\": 1.0,\n        \"num_unique_values\": 4,\n        \"samples\": [\n          0.25,\n          0.2,\n          0.08\n        ],\n        \"semantic_type\": \"\",\n        \"description\": \"\"\n      }\n    },\n    {\n      \"column\": \"dog\",\n      \"properties\": {\n        \"dtype\": \"number\",\n        \"std\": 0.3745263675630862,\n        \"min\": 0.12,\n        \"max\": 1.0,\n        \"num_unique_values\": 4,\n        \"samples\": [\n          0.17,\n          1.0,\n          0.12\n        ],\n        \"semantic_type\": \"\",\n        \"description\": \"\"\n      }\n    }\n  ]\n}"
            }
          },
          "metadata": {},
          "execution_count": 43
        }
      ]
    },
    {
      "cell_type": "markdown",
      "source": [
        "lion은 tree와의 유사도가 0.07로 가장 적고, tiger와의 유사도가 0.33으로 가장 큼"
      ],
      "metadata": {
        "id": "VolxgJqgJmn2"
      }
    },
    {
      "cell_type": "code",
      "source": [
        "import nltk\n",
        "from nltk.corpus import sentiwordnet as swn\n",
        "\n",
        "father=swn.senti_synset('father.n.01')\n",
        "\n",
        "print('father긍정감성 지수:',father.pos_score())\n",
        "print('father부정감성 지수:',father.neg_score())\n",
        "print('father객관성 지수:',father.obj_score())\n",
        "print('\\n')\n",
        "fabulous=swn.senti_synset('fabulous.a.01')\n",
        "print('fabulous 긍정감성 지수:',fabulous.pos_score())\n",
        "print('fabulous 부정감성 지수:',fabulous.neg_score())"
      ],
      "metadata": {
        "colab": {
          "base_uri": "https://localhost:8080/"
        },
        "id": "Y9aZdbmRKGbZ",
        "outputId": "613de477-0cbd-4aef-cb7c-8164202fda64"
      },
      "execution_count": 44,
      "outputs": [
        {
          "output_type": "stream",
          "name": "stdout",
          "text": [
            "father긍정감성 지수: 0.0\n",
            "father부정감성 지수: 0.0\n",
            "father객관성 지수: 1.0\n",
            "\n",
            "\n",
            "fabulous 긍정감성 지수: 0.875\n",
            "fabulous 부정감성 지수: 0.125\n"
          ]
        }
      ]
    },
    {
      "cell_type": "code",
      "source": [
        "from nltk.corpus import wordnet as wn\n",
        "\n",
        "#간단한 NTLK PennTreebank Tag를 기반으로 WordNet기반의 품사 Tag로 변환\n",
        "def penn_to_wn(tag):\n",
        "  if tag.startswith('J'):\n",
        "    return wn.ADJ\n",
        "  elif tag.startswith('N'):\n",
        "    return wn.NOUN\n",
        "  elif tag.startswith('R'):\n",
        "    return wn.ADV\n",
        "  elif tag.startswith('V'):\n",
        "    return wn.VERB"
      ],
      "metadata": {
        "id": "_JHyqUaPLOax"
      },
      "execution_count": 45,
      "outputs": []
    },
    {
      "cell_type": "code",
      "source": [
        "from nltk.stem import WordNetLemmatizer\n",
        "from nltk.corpus import sentiwordnet as swn\n",
        "from nltk import sent_tokenize, word_tokenize, pos_tag\n",
        "\n",
        "def swn_polarity(text):\n",
        "    # 감성 지수 초기화\n",
        "    sentiment = 0.0\n",
        "    tokens_count = 0\n",
        "\n",
        "    lemmatizer = WordNetLemmatizer()\n",
        "    raw_sentences = sent_tokenize(text)\n",
        "    # 분해된 문장별로 단어 토큰 -> 품사 태깅 후에 SentiSynset 생성 -> 감성 지수 합산\n",
        "    for raw_sentence in raw_sentences:\n",
        "        # NLTK 기반의 품사 태깅 문장 추출\n",
        "        tagged_sentence = pos_tag(word_tokenize(raw_sentence))\n",
        "        for word, tag in tagged_sentence:\n",
        "            # WordNet 기반 품사 태깅과 어근 추출\n",
        "            wn_tag = penn_to_wn(tag)\n",
        "            if wn_tag not in (wn.NOUN, wn.ADJ, wn.ADV):\n",
        "                continue\n",
        "            lemma = lemmatizer.lemmatize(word, pos=wn_tag)\n",
        "            if not lemma:\n",
        "                continue\n",
        "            # 어근을 추출한 단어와 WordNet 기반 품사 태깅을 입력해 Synset 객체를 생성.\n",
        "            synsets = wn.synsets(lemma, pos=wn_tag)\n",
        "            if not synsets:\n",
        "                continue\n",
        "            # sentiwordnet의 감성 단어 분석으로 감성 synset 추출\n",
        "            # 모든 단어에 대해 긍정 감성 지수는 +로 부정 감성 지수는 -로 합산해 감성 지수 계산.\n",
        "            synset = synsets[0]\n",
        "            swn_synset = swn.senti_synset(synset.name())\n",
        "            sentiment += (swn_synset.pos_score() - swn_synset.neg_score())\n",
        "            tokens_count += 1\n",
        "\n",
        "    if not tokens_count:\n",
        "        return 0\n",
        "\n",
        "    # 총 score가 0 이상일 경우 긍정(Positive) 1, 그렇지 않을 경우 부정(Negative) 0 반환\n",
        "    if sentiment >= 0:\n",
        "        return 1\n",
        "    return 0\n"
      ],
      "metadata": {
        "id": "JoQ8kkpoLnoA"
      },
      "execution_count": 46,
      "outputs": []
    },
    {
      "cell_type": "code",
      "source": [
        "train_df=pd.read_csv('/content/labeledTrainData.tsv',header=0,sep='\\t',quoting=3)\n",
        "train_df['preds']=train_df['review'].apply(lambda x:swn_polarity(x))\n",
        "y_target=train_df['sentiment'].values\n",
        "preds=train_df['preds'].values"
      ],
      "metadata": {
        "id": "Lez3E6GkL9sf"
      },
      "execution_count": 48,
      "outputs": []
    },
    {
      "cell_type": "code",
      "source": [
        "from sklearn.metrics import accuracy_score,confusion_matrix,precision_score\n",
        "from sklearn.metrics import recall_score, f1_score,roc_auc_score\n",
        "import numpy as np\n",
        "\n",
        "print(confusion_matrix(y_target,preds))\n",
        "print('정확도:',np.round(accuracy_score(y_target,preds),4))\n",
        "print('정밀도:',np.round(precision_score(y_target,preds),4))\n",
        "print('재현율:',np.round(recall_score(y_target,preds),4))"
      ],
      "metadata": {
        "colab": {
          "base_uri": "https://localhost:8080/"
        },
        "id": "tKwpU4L2NpTY",
        "outputId": "0b0ba9f9-6a49-4607-ef43-2d0b3cb3a105"
      },
      "execution_count": 49,
      "outputs": [
        {
          "output_type": "stream",
          "name": "stdout",
          "text": [
            "[[7649 4851]\n",
            " [3576 8924]]\n",
            "정확도: 0.6629\n",
            "정밀도: 0.6478\n",
            "재현율: 0.7139\n"
          ]
        }
      ]
    },
    {
      "cell_type": "markdown",
      "source": [
        "VADER를 이용한 감상 분석"
      ],
      "metadata": {
        "id": "XF0rqhkWOO_s"
      }
    },
    {
      "cell_type": "code",
      "source": [
        "from nltk.sentiment.vader import SentimentIntensityAnalyzer\n",
        "\n",
        "senti_analyzer=SentimentIntensityAnalyzer()\n",
        "senti_scores=senti_analyzer.polarity_scores(train_df['review'][0])\n",
        "print(senti_scores)"
      ],
      "metadata": {
        "colab": {
          "base_uri": "https://localhost:8080/"
        },
        "id": "VdW_WNP9O2Pe",
        "outputId": "0a4657e6-0d18-4951-ba0c-98fa91b8cbc7"
      },
      "execution_count": 50,
      "outputs": [
        {
          "output_type": "stream",
          "name": "stdout",
          "text": [
            "{'neg': 0.13, 'neu': 0.744, 'pos': 0.126, 'compound': -0.8278}\n"
          ]
        }
      ]
    },
    {
      "cell_type": "code",
      "source": [
        "def vader_polarity(review, threshold=0.1):\n",
        "    analyzer = SentimentIntensityAnalyzer()\n",
        "    scores = analyzer.polarity_scores(review)\n",
        "\n",
        "    # compound 값에 기반해 threshold 입력값보다 크면 1, 그렇지 않으면 0을 반환\n",
        "    agg_score = scores['compound']\n",
        "    final_sentiment = 1 if agg_score >= threshold else 0\n",
        "    return final_sentiment\n",
        "\n",
        "# apply lambda 식을 이용해 레코드별로 vader_polarity()를 수행하고 결과를 'vader_preds'에 저장\n",
        "review_df['vader_preds'] = review_df['review'].apply(lambda x: vader_polarity(x, 0.1))\n",
        "y_target = review_df['sentiment'].values\n",
        "vader_preds = review_df['vader_preds'].values\n",
        "\n",
        "print(confusion_matrix(y_target, vader_preds))\n",
        "print(\"정확도:\", np.round(accuracy_score(y_target, vader_preds), 4))\n",
        "print('정밀도:',np.round(precision_score(y_target,vader_preds),4))\n",
        "print('재현율:',np.round(recall_score(y_target,vader_preds),4))"
      ],
      "metadata": {
        "colab": {
          "base_uri": "https://localhost:8080/"
        },
        "id": "_2PukBlxPJlD",
        "outputId": "b6065610-3d07-4e5a-d944-d95ce27ed59a"
      },
      "execution_count": 51,
      "outputs": [
        {
          "output_type": "stream",
          "name": "stdout",
          "text": [
            "[[ 6747  5753]\n",
            " [ 1858 10642]]\n",
            "정확도: 0.6956\n",
            "정밀도: 0.6491\n",
            "재현율: 0.8514\n"
          ]
        }
      ]
    },
    {
      "cell_type": "markdown",
      "source": [
        "![image.png](data:image/png;base64,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)"
      ],
      "metadata": {
        "id": "P_RzQYv8PeQA"
      }
    }
  ]
}