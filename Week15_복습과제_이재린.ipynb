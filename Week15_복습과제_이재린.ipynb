{
 "cells": [
  {
   "cell_type": "markdown",
   "id": "c18237ed-f1c9-4684-a9f9-c660039a998e",
   "metadata": {},
   "source": [
    "# 08-10. 텍스트 분석 실습 - 캐글 Mercari Price Suggestion Challenge"
   ]
  },
  {
   "cell_type": "markdown",
   "id": "c49bd287-5aa8-434e-bf74-dc58dd166f31",
   "metadata": {},
   "source": [
    "데이터셋 설명\n",
    ": 일본 대형 온라인 쇼핑몰 Mercari 사의 제품에 대해 가격을 예측하는 과제\n",
    ": 데이터 세트는 제품에 대한 여러 속성 및 제품 설명 등의 텍스트 데이터로 구성 > 이를 기반으로 제품 예상 가격을 판매자들에게 제공\n",
    ": 데이터 세트의 속성 (데이터 id, 제품명, 제품 상태, 카테고리 명, 브랜드 이름, price, 배송비 무료 여부, 제품에 대한 설명) >> price가 예측해야할 타깃 값"
   ]
  },
  {
   "cell_type": "markdown",
   "id": "45b01d92-5d79-4ea5-94ee-0c3409811544",
   "metadata": {},
   "source": [
    "### 1.데이터 전처리"
   ]
  },
  {
   "cell_type": "code",
   "execution_count": 1,
   "id": "83fe73c4-266d-4064-a6eb-649b2382aee0",
   "metadata": {},
   "outputs": [
    {
     "name": "stdout",
     "output_type": "stream",
     "text": [
      "(1482535, 8)\n"
     ]
    },
    {
     "data": {
      "text/html": [
       "<div>\n",
       "<style scoped>\n",
       "    .dataframe tbody tr th:only-of-type {\n",
       "        vertical-align: middle;\n",
       "    }\n",
       "\n",
       "    .dataframe tbody tr th {\n",
       "        vertical-align: top;\n",
       "    }\n",
       "\n",
       "    .dataframe thead th {\n",
       "        text-align: right;\n",
       "    }\n",
       "</style>\n",
       "<table border=\"1\" class=\"dataframe\">\n",
       "  <thead>\n",
       "    <tr style=\"text-align: right;\">\n",
       "      <th></th>\n",
       "      <th>train_id</th>\n",
       "      <th>name</th>\n",
       "      <th>item_condition_id</th>\n",
       "      <th>category_name</th>\n",
       "      <th>brand_name</th>\n",
       "      <th>price</th>\n",
       "      <th>shipping</th>\n",
       "      <th>item_description</th>\n",
       "    </tr>\n",
       "  </thead>\n",
       "  <tbody>\n",
       "    <tr>\n",
       "      <th>0</th>\n",
       "      <td>0</td>\n",
       "      <td>MLB Cincinnati Reds T Shirt Size XL</td>\n",
       "      <td>3</td>\n",
       "      <td>Men/Tops/T-shirts</td>\n",
       "      <td>NaN</td>\n",
       "      <td>10.0</td>\n",
       "      <td>1</td>\n",
       "      <td>No description yet</td>\n",
       "    </tr>\n",
       "    <tr>\n",
       "      <th>1</th>\n",
       "      <td>1</td>\n",
       "      <td>Razer BlackWidow Chroma Keyboard</td>\n",
       "      <td>3</td>\n",
       "      <td>Electronics/Computers &amp; Tablets/Components &amp; P...</td>\n",
       "      <td>Razer</td>\n",
       "      <td>52.0</td>\n",
       "      <td>0</td>\n",
       "      <td>This keyboard is in great condition and works ...</td>\n",
       "    </tr>\n",
       "    <tr>\n",
       "      <th>2</th>\n",
       "      <td>2</td>\n",
       "      <td>AVA-VIV Blouse</td>\n",
       "      <td>1</td>\n",
       "      <td>Women/Tops &amp; Blouses/Blouse</td>\n",
       "      <td>Target</td>\n",
       "      <td>10.0</td>\n",
       "      <td>1</td>\n",
       "      <td>Adorable top with a hint of lace and a key hol...</td>\n",
       "    </tr>\n",
       "  </tbody>\n",
       "</table>\n",
       "</div>"
      ],
      "text/plain": [
       "   train_id  ...                                   item_description\n",
       "0         0  ...                                 No description yet\n",
       "1         1  ...  This keyboard is in great condition and works ...\n",
       "2         2  ...  Adorable top with a hint of lace and a key hol...\n",
       "\n",
       "[3 rows x 8 columns]"
      ]
     },
     "execution_count": 1,
     "metadata": {},
     "output_type": "execute_result"
    }
   ],
   "source": [
    "from sklearn.linear_model import Ridge,LogisticRegression\n",
    "from sklearn.model_selection import train_test_split,cross_val_score\n",
    "from sklearn.feature_extraction.text import CountVectorizer,TfidfVectorizer\n",
    "import pandas as pd\n",
    "\n",
    "mercari_df=pd.read_csv('/Users/bluecloud/Documents/대학/유런/데이터셋/mercari_train.tsv',sep='\\t')\n",
    "print(mercari_df.shape)\n",
    "mercari_df.head(3)"
   ]
  },
  {
   "cell_type": "code",
   "execution_count": 3,
   "id": "91f65ccf-42c0-4936-a795-5f3658370298",
   "metadata": {},
   "outputs": [
    {
     "name": "stdout",
     "output_type": "stream",
     "text": [
      "<class 'pandas.core.frame.DataFrame'>\n",
      "RangeIndex: 1482535 entries, 0 to 1482534\n",
      "Data columns (total 8 columns):\n",
      " #   Column             Non-Null Count    Dtype  \n",
      "---  ------             --------------    -----  \n",
      " 0   train_id           1482535 non-null  int64  \n",
      " 1   name               1482535 non-null  object \n",
      " 2   item_condition_id  1482535 non-null  int64  \n",
      " 3   category_name      1476208 non-null  object \n",
      " 4   brand_name         849853 non-null   object \n",
      " 5   price              1482535 non-null  float64\n",
      " 6   shipping           1482535 non-null  int64  \n",
      " 7   item_description   1482529 non-null  object \n",
      "dtypes: float64(1), int64(3), object(4)\n",
      "memory usage: 90.5+ MB\n",
      "None\n"
     ]
    }
   ],
   "source": [
    "#피처 타입과 null 여부 확인하기\n",
    "print(mercari_df.info())"
   ]
  },
  {
   "cell_type": "markdown",
   "id": "e933b468-e910-4326-b174-306211b7e20c",
   "metadata": {},
   "source": [
    "- brand_name : Null 값이 많다\n",
    "- item_description,category_name  >> null값 존재\n",
    ">> null 값 이후에 처리"
   ]
  },
  {
   "cell_type": "code",
   "execution_count": 9,
   "id": "8553b3c9-d17e-4efc-94b7-620b10f48b0b",
   "metadata": {},
   "outputs": [
    {
     "data": {
      "text/plain": [
       "<seaborn.axisgrid.FacetGrid at 0x32a58de80>"
      ]
     },
     "execution_count": 9,
     "metadata": {},
     "output_type": "execute_result"
    },
    {
     "data": {
      "text/plain": [
       "<Figure size 600x400 with 0 Axes>"
      ]
     },
     "metadata": {},
     "output_type": "display_data"
    },
    {
     "data": {
      "image/png": "[encoded data removed]",
      "text/plain": [
       "<Figure size 500x500 with 1 Axes>"
      ]
     },
     "metadata": {},
     "output_type": "display_data"
    }
   ],
   "source": [
    "# price 칼럼 데이터 분포도 살펴보기\n",
    "import matplotlib.pyplot as plt\n",
    "import seaborn as sns\n",
    "%matplotlib inline\n",
    "y_train_df=mercari_df['price']\n",
    "plt.figure(figsize=(6,4))\n",
    "sns.displot(y_train_df,kde=False)"
   ]
  },
  {
   "cell_type": "markdown",
   "id": "26970145-4a65-4901-a2eb-e75f525da327",
   "metadata": {},
   "source": [
    "- seaborn 업데이트해서 distplot >> displot으로\n",
    "- price 값이 비교적 적은 가격을 가진 데이터 값에 왜곡됨 >> price 칼럼을 로그 값으로 변환"
   ]
  },
  {
   "cell_type": "code",
   "execution_count": 11,
   "id": "b09f9f84-f1d7-4372-b17c-dbd95f784868",
   "metadata": {},
   "outputs": [
    {
     "data": {
      "text/plain": [
       "<seaborn.axisgrid.FacetGrid at 0x155cb6c00>"
      ]
     },
     "execution_count": 11,
     "metadata": {},
     "output_type": "execute_result"
    },
    {
     "data": {
      "image/png": "[encoded data removed]",
      "text/plain": [
       "<Figure size 500x500 with 1 Axes>"
      ]
     },
     "metadata": {},
     "output_type": "display_data"
    }
   ],
   "source": [
    "import numpy as np\n",
    "y_train_df=np.log1p(y_train_df)\n",
    "sns.displot(y_train_df,kde=False)"
   ]
  },
  {
   "cell_type": "code",
   "execution_count": 13,
   "id": "1c71e73c-69bd-4606-b6b0-42de15c91097",
   "metadata": {},
   "outputs": [
    {
     "data": {
      "text/plain": [
       "0    2.397895\n",
       "1    3.970292\n",
       "2    2.397895\n",
       "Name: price, dtype: float64"
      ]
     },
     "execution_count": 13,
     "metadata": {},
     "output_type": "execute_result"
    }
   ],
   "source": [
    "#데이터 세트의 price 칼럼을 원래 값에서 로그로 변환된 값으로 변경하기\n",
    "mercari_df['price']=np.log1p(mercari_df['price'])\n",
    "mercari_df['price'].head(3)"
   ]
  },
  {
   "cell_type": "code",
   "execution_count": 15,
   "id": "0197aa90-2c5a-4761-8266-83b09dcfb029",
   "metadata": {},
   "outputs": [
    {
     "name": "stdout",
     "output_type": "stream",
     "text": [
      "Shipping 값 유형:\n",
      " shipping\n",
      "0    819435\n",
      "1    663100\n",
      "Name: count, dtype: int64\n",
      "item_condition_id 값 유형:\n",
      " item_condition_id\n",
      "1    640549\n",
      "3    432161\n",
      "2    375479\n",
      "4     31962\n",
      "5      2384\n",
      "Name: count, dtype: int64\n"
     ]
    }
   ],
   "source": [
    "# 다른 피처의 값 살펴보기\n",
    "print('Shipping 값 유형:\\n',mercari_df['shipping'].value_counts())\n",
    "print('item_condition_id 값 유형:\\n',mercari_df['item_condition_id'].value_counts())"
   ]
  },
  {
   "cell_type": "markdown",
   "id": "6795b211-df0e-43ad-9a3f-d046e64b366b",
   "metadata": {},
   "source": [
    "- shipping : 배송비 유무 >> 1과 0으로 값이 균일\n",
    "- item_condition_id : null값은 적지만 별도의 설명이 없는 경우 no description yet임 >> let's check it out"
   ]
  },
  {
   "cell_type": "code",
   "execution_count": 17,
   "id": "42624736-1508-4049-8dda-c70012f126e2",
   "metadata": {},
   "outputs": [
    {
     "data": {
      "text/plain": [
       "82489"
      ]
     },
     "execution_count": 17,
     "metadata": {},
     "output_type": "execute_result"
    }
   ],
   "source": [
    "boolean_cond= mercari_df['item_description']=='No description yet'\n",
    "mercari_df[boolean_cond]['item_description'].count()"
   ]
  },
  {
   "cell_type": "markdown",
   "id": "9995711d-f487-41c6-a6d3-d935621da77b",
   "metadata": {},
   "source": [
    "- category_name : '/'로 분리됨 >> /를 기준으로 단어를 토큰화해 별도의 피처로 저장\n",
    "  별도의 함수 split_cat() : try/exception으로 Null 도 분리"
   ]
  },
  {
   "cell_type": "code",
   "execution_count": 19,
   "id": "ac915e18-aa5b-4a7a-9209-6e6e9f5823c0",
   "metadata": {},
   "outputs": [
    {
     "name": "stdout",
     "output_type": "stream",
     "text": [
      "대분류 유형 : \n",
      " cat_dae\n",
      "Women                     664385\n",
      "Beauty                    207828\n",
      "Kids                      171689\n",
      "Electronics               122690\n",
      "Men                        93680\n",
      "Home                       67871\n",
      "Vintage & Collectibles     46530\n",
      "Other                      45351\n",
      "Handmade                   30842\n",
      "Sports & Outdoors          25342\n",
      "Other_return                6327\n",
      "Name: count, dtype: int64\n",
      "중분류 유형 : \n",
      " 114\n",
      "소분류 유형 : \n",
      " 871\n"
     ]
    }
   ],
   "source": [
    "#apply lambda에서 호출되는 대,중,소 분할 함수 생성 / 대, 중, 소 값을 리스트로 반환\n",
    "def split_cat(category_name):\n",
    "    try:\n",
    "        return category_name.split('/')\n",
    "    except:\n",
    "        return ['Other_return','Other_return','Other_return']\n",
    "# 위의 함수를 apply lambda에서 호출해 대중소 칼럼을 mercari_df에 생성\n",
    "mercari_df['cat_dae'],mercari_df['cat_jung'],mercari_df['cat_so']=zip(*mercari_df['category_name'].apply(lambda x:split_cat(x)))\n",
    "\n",
    "# 대분류만 값의 유형과 건수를 살펴보고 나머지는 분류 개수만 추출\n",
    "print('대분류 유형 : \\n',mercari_df['cat_dae'].value_counts())\n",
    "print('중분류 유형 : \\n',mercari_df['cat_jung'].nunique())\n",
    "print('소분류 유형 : \\n',mercari_df['cat_so'].nunique())"
   ]
  },
  {
   "cell_type": "markdown",
   "id": "8912f4ae-3d20-4095-ba3b-d3ed03504df9",
   "metadata": {},
   "source": [
    ">> women, Beauty, Kids 등의 분류가 많다"
   ]
  },
  {
   "cell_type": "code",
   "execution_count": 21,
   "id": "248e77c2-18db-4914-8bfc-f940aae31ee7",
   "metadata": {},
   "outputs": [
    {
     "data": {
      "text/plain": [
       "train_id             0\n",
       "name                 0\n",
       "item_condition_id    0\n",
       "category_name        0\n",
       "brand_name           0\n",
       "price                0\n",
       "shipping             0\n",
       "item_description     0\n",
       "cat_dae              0\n",
       "cat_jung             0\n",
       "cat_so               0\n",
       "dtype: int64"
      ]
     },
     "execution_count": 21,
     "metadata": {},
     "output_type": "execute_result"
    }
   ],
   "source": [
    "# 나머지 null값 Other_Null로 채우기\n",
    "mercari_df['brand_name']=mercari_df['brand_name'].fillna(value='Other_Null')\n",
    "mercari_df['category_name']=mercari_df['category_name'].fillna(value='Other_Null')\n",
    "mercari_df['item_description']=mercari_df['item_description'].fillna(value='Other_Null')\n",
    "# null값이 다 채워졌나 확인\n",
    "mercari_df.isnull().sum()"
   ]
  },
  {
   "cell_type": "markdown",
   "id": "228c2026-c3eb-40ae-b382-288f26cadaf1",
   "metadata": {},
   "source": [
    "### 2. 피처 인코딩과 피처 벡터화"
   ]
  },
  {
   "cell_type": "markdown",
   "id": "6082be19-03f8-4ba7-bd40-75624b3ec9e2",
   "metadata": {},
   "source": [
    "- 문자열 칼럼 중 레이블 또는 원-핫 인코딩을 수행 or 피처 벡터화로 변환할 칼럼을 선별\n",
    "- 선형 회귀와 회귀 트리를 적용 >> 원-핫 인코딩 적용이 선호\n",
    "- 피처 벡터화 : 짧은 텍스트 > Count 벡터화 / 긴 텍스트 : TD-IDF 기반 벡터화 적용"
   ]
  },
  {
   "cell_type": "code",
   "execution_count": 23,
   "id": "1d4d42e8-7e7e-4d81-83ca-1a44dd56b9ad",
   "metadata": {},
   "outputs": [
    {
     "name": "stdout",
     "output_type": "stream",
     "text": [
      "brand_name의 유형 건수 :  4810\n",
      "brand_name 샘플 5건 : \n",
      " brand_name\n",
      "Other_Null           632682\n",
      "PINK                  54088\n",
      "Nike                  54043\n",
      "Victoria's Secret     48036\n",
      "LuLaRoe               31024\n",
      "Name: count, dtype: int64\n"
     ]
    }
   ],
   "source": [
    "print('brand_name의 유형 건수 : ',mercari_df['brand_name'].nunique())\n",
    "print('brand_name 샘플 5건 : \\n',mercari_df['brand_name'].value_counts()[:5])"
   ]
  },
  {
   "cell_type": "code",
   "execution_count": 29,
   "id": "bc466c5d-3f48-4f17-be44-6958a99f06b8",
   "metadata": {},
   "outputs": [
    {
     "name": "stdout",
     "output_type": "stream",
     "text": [
      "name의 유형 건수 :  1225273\n",
      "name 샘플 7건 : \n",
      " 0    MLB Cincinnati Reds T Shirt Size XL\n",
      "1       Razer BlackWidow Chroma Keyboard\n",
      "2                         AVA-VIV Blouse\n",
      "3                  Leather Horse Statues\n",
      "4                   24K GOLD plated rose\n",
      "5       Bundled items requested for Ruie\n",
      "6     Acacia pacific tides santorini top\n",
      "Name: name, dtype: object\n"
     ]
    }
   ],
   "source": [
    "print('name의 유형 건수 : ',mercari_df['name'].nunique())\n",
    "print('name 샘플 7건 : \\n',mercari_df['name'][:7])"
   ]
  },
  {
   "cell_type": "markdown",
   "id": "67051773-0322-4e32-b71d-b21028d1c740",
   "metadata": {},
   "source": [
    "- 피처 벡터화 : name > 유형 매우 많음 & 짧은 텍스트 > Count 벡터화\n",
    "- category_name : 대중소 > 원-핫 인코딩\n",
    "- shipping / item_condition_id : 0과1, 1~5가지의 유형의 값을 가지고 있음 > 원-핫 인코딩\n",
    "- item_description : 가장 긴 텍스트"
   ]
  },
  {
   "cell_type": "code",
   "execution_count": 31,
   "id": "855e00fb-2708-488a-9ac8-9680a94199d7",
   "metadata": {},
   "outputs": [
    {
     "name": "stdout",
     "output_type": "stream",
     "text": [
      "item_description 평균 문자열 개수: 145.71139703278507\n"
     ]
    },
    {
     "data": {
      "text/plain": [
       "0                                                                                                                                                                              No description yet\n",
       "1    This keyboard is in great condition and works like it came out of the box. All of the ports are tested and work perfectly. The lights are customizable via the Razer Synapse app on your PC.\n",
       "Name: item_description, dtype: object"
      ]
     },
     "execution_count": 31,
     "metadata": {},
     "output_type": "execute_result"
    }
   ],
   "source": [
    "# 해당 칼럼의 평균 문자열 크기과 2개의 텍스트 추출해보기\n",
    "pd.set_option('max_colwidth',200)\n",
    "print('item_description 평균 문자열 개수:',mercari_df['item_description'].str.len().mean())\n",
    "mercari_df['item_description'][:2]"
   ]
  },
  {
   "cell_type": "markdown",
   "id": "a80b548c-24a9-4be6-a9cc-b90c2aa5e268",
   "metadata": {},
   "source": [
    ">> item_description의 평균 문자열 개수가 145이므로 긴 텍스트 > TF-IDF로 변환해보기"
   ]
  },
  {
   "cell_type": "code",
   "execution_count": 33,
   "id": "31d7a396-6c41-4985-9167-093501259bbb",
   "metadata": {},
   "outputs": [
    {
     "name": "stdout",
     "output_type": "stream",
     "text": [
      "name vectorization shape: (1482535, 105757)\n",
      "item_description vectorization shape: (1482535, 50000)\n"
     ]
    }
   ],
   "source": [
    "# name 속성에 대한 피처 벡터화 변환\n",
    "cnt_vec = CountVectorizer()\n",
    "X_name = cnt_vec.fit_transform(mercari_df.name)\n",
    "\n",
    "# item_description 에 대한 피처 벡터화 변환 \n",
    "tfidf_descp = TfidfVectorizer(max_features = 50000, ngram_range= (1,3) , stop_words='english')\n",
    "X_descp = tfidf_descp.fit_transform(mercari_df['item_description'])\n",
    "\n",
    "print('name vectorization shape:',X_name.shape)\n",
    "print('item_description vectorization shape:',X_descp.shape)"
   ]
  },
  {
   "cell_type": "markdown",
   "id": "636e6282-a519-492c-82d4-04243078f0ca",
   "metadata": {},
   "source": [
    "- name > CountVectorizer()로 피처 벡터화 & fit_transform() >> 희소 행렬 반환\n",
    "- item_description > TfidfVectorizer()로 피처 벡터화 & fit_transform() >> 희소 행렬 반환\n",
    ">> 위의 두 희소 행렬 객체 변수를 결합해 새로운 데이터 세트로 구성\n",
    ">> 나머지 피처 데이터들을 희소 행렬 형태로 인코딩 & 함께 결합\n",
    ">> 희소 행렬 형태의 원-핫 인코딩 변환을 지원하는 LabelBinarizer() & 파라미터 설정 sparse_out=True"
   ]
  },
  {
   "cell_type": "code",
   "execution_count": 35,
   "id": "fd0974b5-4bbf-4561-9793-fa6226f3236c",
   "metadata": {},
   "outputs": [],
   "source": [
    "from sklearn.preprocessing import LabelBinarizer\n",
    "\n",
    "# brand_name, item_condition_id, shipping 각 피처들을 희소 행렬 원-핫 인코딩 변환\n",
    "lb_brand_name=LabelBinarizer(sparse_output=True)\n",
    "X_brand=lb_brand_name.fit_transform(mercari_df['brand_name'])\n",
    "\n",
    "lb_item_cond_id = LabelBinarizer(sparse_output=True)\n",
    "X_item_cond_id = lb_item_cond_id.fit_transform(mercari_df['item_condition_id'])\n",
    "\n",
    "lb_shipping= LabelBinarizer(sparse_output=True)\n",
    "X_shipping = lb_shipping.fit_transform(mercari_df['shipping'])\n",
    "\n",
    "# cat 대중소 각 피처들을 희소 행렬 원-핫 인코딩 변환\n",
    "lb_cat_dae=LabelBinarizer(sparse_output=True)\n",
    "X_cat_dae=lb_cat_dae.fit_transform(mercari_df['cat_dae'])\n",
    "lb_cat_jung=LabelBinarizer(sparse_output=True)\n",
    "X_cat_jung=lb_cat_jung.fit_transform(mercari_df['cat_jung'])\n",
    "lb_cat_so=LabelBinarizer(sparse_output=True)\n",
    "X_cat_so=lb_cat_so.fit_transform(mercari_df['cat_so'])"
   ]
  },
  {
   "cell_type": "code",
   "execution_count": 37,
   "id": "638415f3-cfd2-4aba-b064-7ac039347cb4",
   "metadata": {},
   "outputs": [
    {
     "name": "stdout",
     "output_type": "stream",
     "text": [
      "<class 'scipy.sparse._csr.csr_matrix'> <class 'scipy.sparse._csr.csr_matrix'> <class 'scipy.sparse._csr.csr_matrix'>\n",
      "X_brand_shape:(1482535, 4810), X_item_cond_id shape:(1482535, 5)\n",
      "X_shipping shape:(1482535, 1), X_cat_dae shape:(1482535, 11)\n",
      "X_cat_jung shape:(1482535, 114), X_cat_so shape:(1482535, 871)\n"
     ]
    }
   ],
   "source": [
    "# 인코딩 데이터 세트의 타입과 shape 살펴보기\n",
    "print(type(X_brand), type(X_item_cond_id), type(X_shipping))\n",
    "print('X_brand_shape:{0}, X_item_cond_id shape:{1}'.format(X_brand.shape, X_item_cond_id.shape))\n",
    "print('X_shipping shape:{0}, X_cat_dae shape:{1}'.format(X_shipping.shape, X_cat_dae.shape))\n",
    "print('X_cat_jung shape:{0}, X_cat_so shape:{1}'.format(X_cat_jung.shape, X_cat_so.shape))"
   ]
  },
  {
   "cell_type": "markdown",
   "id": "3752cccb-0fca-44ec-a760-433652411997",
   "metadata": {},
   "source": [
    "- 인코딩 변환된 데이터 세트 : CSR 형태로 변환된 csr_matrix 타입\n",
    "- 인코딩 칼럼이 매우 많지만 피처 벡터화로 텍스트 형태의 문자열이 갖는 벡터 형태의 매우 많은 칼럼과 결합됨 ㄱㅊ!"
   ]
  },
  {
   "cell_type": "markdown",
   "id": "0f584acb-d52e-4882-80e6-9b3dd26865fa",
   "metadata": {},
   "source": [
    ">> 피처 벡터화 변환한 데이터 세트와 희소 인코딩 변환된 데이터 세트를 hstack()으로 결합해보기\n",
    ">> 메모리 용량을 많이 잡아먹으므로 데이터 타입과 크기 확인하고 삭제하기 with del'객체 변수명' / gc.collect()"
   ]
  },
  {
   "cell_type": "code",
   "execution_count": 39,
   "id": "642269ab-4c32-4117-b185-d058fff1a9ff",
   "metadata": {},
   "outputs": [
    {
     "name": "stdout",
     "output_type": "stream",
     "text": [
      "<class 'scipy.sparse._csr.csr_matrix'> (1482535, 161569)\n"
     ]
    },
    {
     "data": {
      "text/plain": [
       "43099"
      ]
     },
     "execution_count": 39,
     "metadata": {},
     "output_type": "execute_result"
    }
   ],
   "source": [
    "from scipy.sparse import hstack\n",
    "import gc\n",
    "\n",
    "sparse_matrix_list=(X_name,X_descp,X_brand,X_item_cond_id,X_shipping,X_cat_dae,X_cat_jung,X_cat_so)\n",
    "\n",
    "#hstack 함수를 이용해 인코딩과 벡터화를 수행한 데이터 세트를 모두 결합\n",
    "X_features_sparse=hstack(sparse_matrix_list).tocsr()\n",
    "print(type(X_features_sparse),X_features_sparse.shape)\n",
    "\n",
    "#메모리에서 삭제\n",
    "del X_features_sparse\n",
    "gc.collect()"
   ]
  },
  {
   "cell_type": "markdown",
   "id": "b4ff6e30-8c92-414f-b30d-bc4366a400b6",
   "metadata": {},
   "source": [
    ">> 모두 결합한 데이터 세트는 csr_matrix 타입이며 피처의 개수는 161569개이다"
   ]
  },
  {
   "cell_type": "markdown",
   "id": "a05d6c65-6f7a-4386-874a-d293232e8563",
   "metadata": {},
   "source": [
    "### 3. 릿지 회귀 모델 구축 및 평가"
   ]
  },
  {
   "cell_type": "markdown",
   "id": "d27e5244-3de5-4b81-ac21-028dce95a2b7",
   "metadata": {},
   "source": [
    "- 여러 알고리즘 모델의 예측 성능 비교 >> RMSLE(오류에 로그를 취해 RMSE를 구하는 방식>높은 가격에서 나는 큰 오류 값을 억제)\n",
    "- 원본 price 값이 정규 분포 형태를 띄도록 로그 값을 취해 변환하기 & 다시 지수 변환 수행해 원복하기"
   ]
  },
  {
   "cell_type": "code",
   "execution_count": 61,
   "id": "8751fcb2-6742-44d0-abbe-3a4d9589ed02",
   "metadata": {},
   "outputs": [],
   "source": [
    "def rmsle(y,y_pred):\n",
    "    # underflow, overflow를 막기 위해 log가 아닌 log1p로 rmsle 계산 \n",
    "    return np.sqrt(np.mean(np.power(np.log1p(y) - np.log1p(y_pred), 2)))\n",
    "\n",
    "# 다시 지수 변환으로 원복하는 함수\n",
    "def evaluate_org_price(y_test,preds):\n",
    "    #원본 데이터는 exmpm1로 원복\n",
    "    preds_exmpm=np.expm1(preds)\n",
    "    y_test_exmpm=np.expm1(y_test)\n",
    "\n",
    "    \n",
    "    #rmsle로 RMSLE 추출\n",
    "    rmsle_result=rmsle(y_test_exmpm,preds_exmpm)\n",
    "    return rmsle_result"
   ]
  },
  {
   "cell_type": "markdown",
   "id": "ecb3d89e-34bf-44f3-b8a0-34b77cd4ef6f",
   "metadata": {},
   "source": [
    "- 학습용 데이터 생성\n",
    "- 모델 학습/예측하는 로직을 별도의 함수로 만들기"
   ]
  },
  {
   "cell_type": "code",
   "execution_count": 63,
   "id": "c35c1d50-fc69-488d-a9c9-f9a1ca56594a",
   "metadata": {},
   "outputs": [],
   "source": [
    "import gc\n",
    "from scipy.sparse import hstack\n",
    "\n",
    "# model인자로 회귀 estimator객체를, matrix_list 인자로 최종 데이터 세트로 결합할 희소 행렬 리스트를 가짐\n",
    "def model_train_predict(model,matrix_list):\n",
    "     #scipy.sparse 모듈의 hstack 을 이용하여 sparse matrix 결합\n",
    "    X=hstack(matrix_list).tocsr()\n",
    "    X_train, X_test, y_train, y_test=train_test_split(X, mercari_df['price'],test_size=0.2, random_state=156)\n",
    "    # 모델 학습 및 예측\n",
    "    model.fit(X_train,y_train)\n",
    "    preds=model.predict(X_test)\n",
    "    del X,X_train,X_test,y_train\n",
    "    gc.collect()\n",
    "    return preds,y_test"
   ]
  },
  {
   "cell_type": "markdown",
   "id": "ec873672-e389-44c7-a708-57fc83f5e89e",
   "metadata": {},
   "source": [
    "- 릿지로 mercari price 회귀 예측 수행하기\n",
    "- before 예측 : 텍스트 형태의 속성이 얼마나 영향 미치는지 알아보기(포함되었을 때와 안 되었을 때의 예측 성능)"
   ]
  },
  {
   "cell_type": "code",
   "execution_count": 65,
   "id": "311b80fe-49e7-4982-95b6-8ff8cc978420",
   "metadata": {},
   "outputs": [
    {
     "name": "stdout",
     "output_type": "stream",
     "text": [
      "Item Description을 제외했을 때 rmsle 값: 0.4984480211612475\n",
      "Item Description을 포함한 rmsle 값: 0.4679507419600776\n"
     ]
    }
   ],
   "source": [
    "linear_model = Ridge(solver = \"lsqr\", fit_intercept=False)\n",
    "\n",
    "sparse_matrix_list = (X_name, X_brand, X_item_cond_id,X_shipping, X_cat_dae, X_cat_jung, X_cat_so)\n",
    "linear_preds, y_test = model_train_predict(model=linear_model ,matrix_list=sparse_matrix_list)\n",
    "print('Item Description을 제외했을 때 rmsle 값:', evaluate_org_price(y_test , linear_preds))\n",
    "\n",
    "sparse_matrix_list = (X_descp, X_name, X_brand, X_item_cond_id,X_shipping, X_cat_dae, X_cat_jung, X_cat_so)\n",
    "linear_preds, y_test = model_train_predict(model=linear_model , matrix_list=sparse_matrix_list)\n",
    "print('Item Description을 포함한 rmsle 값:',  evaluate_org_price(y_test ,linear_preds))"
   ]
  },
  {
   "cell_type": "markdown",
   "id": "766ec338-e6cc-42f5-8bf2-321415bf4585",
   "metadata": {},
   "source": [
    ">> 포함했을 때 rmsle 값 많이 감소 : Item Description영향이 중요함"
   ]
  },
  {
   "cell_type": "markdown",
   "id": "b97294af-66e9-4a09-878b-bb2de5e5e955",
   "metadata": {},
   "source": [
    "### 4. LightGBM 회귀 모델 구축과 앙상블을 이용한 최종 예측 평가"
   ]
  },
  {
   "cell_type": "markdown",
   "id": "30c7171d-a214-42f5-94aa-c1af7eaf8391",
   "metadata": {},
   "source": [
    "- LightGBM을 이용해 회귀 수행 > 릿지와 LightGBM모델 예측값 간단한 앙상블 상식으로 섞기"
   ]
  },
  {
   "cell_type": "code",
   "execution_count": 67,
   "id": "04228e76-0b3e-4e64-9b05-47116da9eb57",
   "metadata": {},
   "outputs": [
    {
     "name": "stderr",
     "output_type": "stream",
     "text": [
      "/opt/anaconda3/lib/python3.12/site-packages/sklearn/utils/deprecation.py:151: FutureWarning: 'force_all_finite' was renamed to 'ensure_all_finite' in 1.6 and will be removed in 1.8.\n",
      "  warnings.warn(\n"
     ]
    },
    {
     "name": "stdout",
     "output_type": "stream",
     "text": [
      "[LightGBM] [Info] Auto-choosing row-wise multi-threading, the overhead of testing was 178.474603 seconds.\n",
      "You can set `force_row_wise=true` to remove the overhead.\n",
      "And if memory is not enough, you can set `force_col_wise=true`.\n",
      "[LightGBM] [Info] Total Bins 1068421\n",
      "[LightGBM] [Info] Number of data points in the train set: 1186028, number of used features: 65338\n",
      "[LightGBM] [Info] Start training from score 2.979514\n"
     ]
    },
    {
     "name": "stderr",
     "output_type": "stream",
     "text": [
      "/opt/anaconda3/lib/python3.12/site-packages/sklearn/utils/deprecation.py:151: FutureWarning: 'force_all_finite' was renamed to 'ensure_all_finite' in 1.6 and will be removed in 1.8.\n",
      "  warnings.warn(\n"
     ]
    },
    {
     "name": "stdout",
     "output_type": "stream",
     "text": [
      "LightGBM rmsle 값: 0.4569987654210569\n"
     ]
    }
   ],
   "source": [
    "from lightgbm import LGBMRegressor\n",
    "\n",
    "sparse_matrix_list=(X_descp, X_name, X_brand, X_item_cond_id,X_shipping, X_cat_dae, X_cat_jung, X_cat_so)\n",
    "lgbm_model = LGBMRegressor(n_estimators=200, learning_rate=0.5, num_leaves=125, random_state=156)\n",
    "lgbm_preds , y_test = model_train_predict(model = lgbm_model , matrix_list=sparse_matrix_list)\n",
    "print('LightGBM rmsle 값:',  evaluate_org_price(y_test , lgbm_preds))"
   ]
  },
  {
   "cell_type": "code",
   "execution_count": 69,
   "id": "dae82df9-1589-481b-896b-0f6d9c7e0cd2",
   "metadata": {},
   "outputs": [
    {
     "name": "stdout",
     "output_type": "stream",
     "text": [
      "LightGBM과 Ridge를 ensemble한 최종 rmsle 값: 0.4468973140634917\n"
     ]
    }
   ],
   "source": [
    "# 최종 예측 결괏값 : lgbm*0.45+linear*0.55 >> 앙상블한 데이터 세트로 예측 수행\n",
    "preds = lgbm_preds * 0.45 + linear_preds * 0.55\n",
    "print('LightGBM과 Ridge를 ensemble한 최종 rmsle 값:',  evaluate_org_price(y_test , preds))"
   ]
  },
  {
   "cell_type": "code",
   "execution_count": null,
   "id": "32fc0ac5-ea01-41f0-9e81-b13338fadb94",
   "metadata": {},
   "outputs": [],
   "source": []
  }
 ],
 "metadata": {
  "kernelspec": {
   "display_name": "Python 3 (ipykernel)",
   "language": "python",
   "name": "python3"
  },
  "language_info": {
   "codemirror_mode": {
    "name": "ipython",
    "version": 3
   },
   "file_extension": ".py",
   "mimetype": "text/x-python",
   "name": "python",
   "nbconvert_exporter": "python",
   "pygments_lexer": "ipython3",
   "version": "3.12.2"
  }
 },
 "nbformat": 4,
 "nbformat_minor": 5
}
