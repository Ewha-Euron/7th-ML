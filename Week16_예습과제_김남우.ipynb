{
  "nbformat": 4,
  "nbformat_minor": 0,
  "metadata": {
    "colab": {
      "provenance": []
    },
    "kernelspec": {
      "name": "python3",
      "display_name": "Python 3"
    },
    "language_info": {
      "name": "python"
    }
  },
  "cells": [
    {
      "cell_type": "markdown",
      "source": [
        "# Chapter 9. 추천 시스템"
      ],
      "metadata": {
        "id": "c9iIx4Pl3-kJ"
      }
    },
    {
      "cell_type": "markdown",
      "source": [
        "## 04. 잠재 요인 협업 필터링"
      ],
      "metadata": {
        "id": "aTSEyfoy4JDp"
      }
    },
    {
      "cell_type": "markdown",
      "source": [
        "### 확률적 경사 하강법을 이용한 행렬 분해"
      ],
      "metadata": {
        "id": "UeNQmVXU4Td4"
      }
    },
    {
      "cell_type": "code",
      "execution_count": 3,
      "metadata": {
        "id": "Ot_FAfJo33Kc"
      },
      "outputs": [],
      "source": [
        "import numpy as np\n",
        "\n",
        "# 원본 행렬 R 생성, 분해 행렬 P와 Q 초기화, 잠재 요인 차원 K는 3으로 결정\n",
        "R = np.array([[4, np.NaN, np.NaN, 2, np.NaN],\n",
        "              [np.NaN, 5, np.NaN, 3, 1],\n",
        "              [np.NaN, np.NaN, 3, 4, 4],\n",
        "              [5, 2, 1, 2, np.NaN]])\n",
        "num_users, num_items = R.shape\n",
        "K = 3\n",
        "\n",
        "# P와 Q 행렬의 크기를 지정하고 정규 분포를 가진 임의의 값으로 입력\n",
        "np.random.seed(1)\n",
        "P = np.random.normal(scale=1./K, size=(num_users, K))\n",
        "Q = np.random.normal(scale=1./K, size=(num_items, K))"
      ]
    },
    {
      "cell_type": "code",
      "source": [
        "from sklearn.metrics import mean_squared_error\n",
        "\n",
        "def get_rmse(R, P, Q, non_zeros):\n",
        "  error = 0\n",
        "  # 두 개의 분해된 행렬 P와 Q.T의 내적으로 예측 R 행렬 생성\n",
        "  full_pred_matrix = np.dot(P, Q.T)\n",
        "\n",
        "  # 실제 R 행렬에서 널이 아닌 값의 위치 인덱스 추출해 실제 R 행렬과 예측 행렬의 RMSE 추출\n",
        "  x_non_zero_ind = [non_zero[0] for non_zero in non_zeros]\n",
        "  y_non_zero_ind = [non_zero[1] for non_zero in non_zeros]\n",
        "  R_non_zeros = R[x_non_zero_ind, y_non_zero_ind]\n",
        "  full_pred_matrix_non_zeros = full_pred_matrix[x_non_zero_ind, y_non_zero_ind]\n",
        "  mse = mean_squared_error(R_non_zeros, full_pred_matrix_non_zeros)\n",
        "  rmse = np.sqrt(mse)\n",
        "\n",
        "  return rmse"
      ],
      "metadata": {
        "id": "Zjb63dcX493C"
      },
      "execution_count": 4,
      "outputs": []
    },
    {
      "cell_type": "code",
      "source": [
        "# R > 0인 행 위치, 열 위치, 값을 non_zeros 리스트에 저장\n",
        "non_zeros = [ (i, j, R[i,j]) for i in range(num_users) for j in range(num_items) if R[i, j] > 0]\n",
        "\n",
        "steps = 1000\n",
        "learning_rate = 0.01\n",
        "r_lambda = 0.01\n",
        "\n",
        "# SGD 기법으로 P와 Q 매트릭스 계속 업데이트\n",
        "for step in range(steps):\n",
        "  for i, j, r in non_zeros:\n",
        "    # 실제 값과 예측 값의 차이인 오류 값 구함\n",
        "    eij = r - np.dot(P[i, :], Q[j, :].T)\n",
        "    # Regularization을 반영한 SGD 업데이트 공식 적용\n",
        "    P[i, :] = P[i, :] + learning_rate*(eij * Q[j, :] - r_lambda*P[i, :])\n",
        "    Q[j, :] = Q[j, :] + learning_rate*(eij * P[i, :] - r_lambda*Q[j, :])\n",
        "\n",
        "    rmse = get_rmse(R, P, Q, non_zeros)\n",
        "    if (step % 50) == 0:\n",
        "      print(\"### iteration step : \", step,\" rmse : \", rmse)"
      ],
      "metadata": {
        "colab": {
          "base_uri": "https://localhost:8080/"
        },
        "id": "YL95MRpw5law",
        "outputId": "beb72939-d51f-44ae-ac91-656b90652c98"
      },
      "execution_count": 5,
      "outputs": [
        {
          "output_type": "stream",
          "name": "stdout",
          "text": [
            "### iteration step :  0  rmse :  3.261355059488935\n",
            "### iteration step :  0  rmse :  3.26040057174686\n",
            "### iteration step :  0  rmse :  3.253984404542389\n",
            "### iteration step :  0  rmse :  3.2521583839863624\n",
            "### iteration step :  0  rmse :  3.252335303789125\n",
            "### iteration step :  0  rmse :  3.251072196430487\n",
            "### iteration step :  0  rmse :  3.2492449982564864\n",
            "### iteration step :  0  rmse :  3.247416477570409\n",
            "### iteration step :  0  rmse :  3.241926055455223\n",
            "### iteration step :  0  rmse :  3.2400454107613084\n",
            "### iteration step :  0  rmse :  3.240166740749792\n",
            "### iteration step :  0  rmse :  3.2388050277987723\n",
            "### iteration step :  50  rmse :  0.5003190892212748\n",
            "### iteration step :  50  rmse :  0.5001616291326989\n",
            "### iteration step :  50  rmse :  0.49899601202578087\n",
            "### iteration step :  50  rmse :  0.4988483450145831\n",
            "### iteration step :  50  rmse :  0.49895189256631756\n",
            "### iteration step :  50  rmse :  0.49833236830090993\n",
            "### iteration step :  50  rmse :  0.4984148489378701\n",
            "### iteration step :  50  rmse :  0.49792599580240876\n",
            "### iteration step :  50  rmse :  0.4900605568692785\n",
            "### iteration step :  50  rmse :  0.4890370238665435\n",
            "### iteration step :  50  rmse :  0.48869176023997846\n",
            "### iteration step :  50  rmse :  0.4876723101369648\n",
            "### iteration step :  100  rmse :  0.15911521988578564\n",
            "### iteration step :  100  rmse :  0.1588091617801093\n",
            "### iteration step :  100  rmse :  0.1587409221708901\n",
            "### iteration step :  100  rmse :  0.1582856952842508\n",
            "### iteration step :  100  rmse :  0.1583080948216876\n",
            "### iteration step :  100  rmse :  0.15828832993767403\n",
            "### iteration step :  100  rmse :  0.15787486893092847\n",
            "### iteration step :  100  rmse :  0.15792073606567072\n",
            "### iteration step :  100  rmse :  0.15725245215457084\n",
            "### iteration step :  100  rmse :  0.15710664164665206\n",
            "### iteration step :  100  rmse :  0.15690252144190003\n",
            "### iteration step :  100  rmse :  0.1564340384819247\n",
            "### iteration step :  150  rmse :  0.07546004875264435\n",
            "### iteration step :  150  rmse :  0.07544589133447106\n",
            "### iteration step :  150  rmse :  0.07543234329653023\n",
            "### iteration step :  150  rmse :  0.07514800672233914\n",
            "### iteration step :  150  rmse :  0.07518867696418177\n",
            "### iteration step :  150  rmse :  0.0752288950993841\n",
            "### iteration step :  150  rmse :  0.07489318864469259\n",
            "### iteration step :  150  rmse :  0.07493400425933257\n",
            "### iteration step :  150  rmse :  0.07462695506527872\n",
            "### iteration step :  150  rmse :  0.07464332131959663\n",
            "### iteration step :  150  rmse :  0.0746444164156341\n",
            "### iteration step :  150  rmse :  0.07455141311978046\n",
            "### iteration step :  200  rmse :  0.04361016579439073\n",
            "### iteration step :  200  rmse :  0.04370913068953006\n",
            "### iteration step :  200  rmse :  0.04369072102767977\n",
            "### iteration step :  200  rmse :  0.043475549832271414\n",
            "### iteration step :  200  rmse :  0.0435313092537358\n",
            "### iteration step :  200  rmse :  0.04359240037575283\n",
            "### iteration step :  200  rmse :  0.04329647906053838\n",
            "### iteration step :  200  rmse :  0.04332057192123618\n",
            "### iteration step :  200  rmse :  0.04310448294502512\n",
            "### iteration step :  200  rmse :  0.04313550286658552\n",
            "### iteration step :  200  rmse :  0.04313786864806258\n",
            "### iteration step :  200  rmse :  0.04325226798579314\n",
            "### iteration step :  250  rmse :  0.029395183185609734\n",
            "### iteration step :  250  rmse :  0.02954402948437167\n",
            "### iteration step :  250  rmse :  0.02950187436758184\n",
            "### iteration step :  250  rmse :  0.029329609713572593\n",
            "### iteration step :  250  rmse :  0.02940211807327667\n",
            "### iteration step :  250  rmse :  0.02946720568417511\n",
            "### iteration step :  250  rmse :  0.029189294191791375\n",
            "### iteration step :  250  rmse :  0.029198757426747605\n",
            "### iteration step :  250  rmse :  0.028995742260002243\n",
            "### iteration step :  250  rmse :  0.02904415445054541\n",
            "### iteration step :  250  rmse :  0.029049587101179365\n",
            "### iteration step :  250  rmse :  0.029248328780878973\n",
            "### iteration step :  300  rmse :  0.022678715233749362\n",
            "### iteration step :  300  rmse :  0.022844873864300484\n",
            "### iteration step :  300  rmse :  0.022773566650325074\n",
            "### iteration step :  300  rmse :  0.02263234507322516\n",
            "### iteration step :  300  rmse :  0.02272006255153119\n",
            "### iteration step :  300  rmse :  0.022778917442558434\n",
            "### iteration step :  300  rmse :  0.022516243062381223\n",
            "### iteration step :  300  rmse :  0.022515508246519694\n",
            "### iteration step :  300  rmse :  0.02229491665298542\n",
            "### iteration step :  300  rmse :  0.022367287171783136\n",
            "### iteration step :  300  rmse :  0.022392303480653113\n",
            "### iteration step :  300  rmse :  0.022621116143829466\n",
            "### iteration step :  350  rmse :  0.019516973680183715\n",
            "### iteration step :  350  rmse :  0.019681605297160464\n",
            "### iteration step :  350  rmse :  0.019585635379668415\n",
            "### iteration step :  350  rmse :  0.01946716545524988\n",
            "### iteration step :  350  rmse :  0.01956568678979253\n",
            "### iteration step :  350  rmse :  0.019614020075870497\n",
            "### iteration step :  350  rmse :  0.019368393329296258\n",
            "### iteration step :  350  rmse :  0.019361014872334943\n",
            "### iteration step :  350  rmse :  0.019116038405167533\n",
            "### iteration step :  350  rmse :  0.01920981547997513\n",
            "### iteration step :  350  rmse :  0.019255623979392192\n",
            "### iteration step :  350  rmse :  0.019493636196525135\n",
            "### iteration step :  400  rmse :  0.01803666559195465\n",
            "### iteration step :  400  rmse :  0.01819133106334419\n",
            "### iteration step :  400  rmse :  0.018078504374883574\n",
            "### iteration step :  400  rmse :  0.01797554592952707\n",
            "### iteration step :  400  rmse :  0.018080509676855847\n",
            "### iteration step :  400  rmse :  0.018118882879536648\n",
            "### iteration step :  400  rmse :  0.017889686482489363\n",
            "### iteration step :  400  rmse :  0.017878066671070433\n",
            "### iteration step :  400  rmse :  0.01761224433968553\n",
            "### iteration step :  400  rmse :  0.01772096734904666\n",
            "### iteration step :  400  rmse :  0.01778179645659777\n",
            "### iteration step :  400  rmse :  0.018022719092132704\n",
            "### iteration step :  450  rmse :  0.017334045429542092\n",
            "### iteration step :  450  rmse :  0.01747683493759156\n",
            "### iteration step :  450  rmse :  0.01735361907510825\n",
            "### iteration step :  450  rmse :  0.017260553985290646\n",
            "### iteration step :  450  rmse :  0.01736909385010645\n",
            "### iteration step :  450  rmse :  0.017399933857257726\n",
            "### iteration step :  450  rmse :  0.01718431757863743\n",
            "### iteration step :  450  rmse :  0.01716990649625117\n",
            "### iteration step :  450  rmse :  0.01688861579579296\n",
            "### iteration step :  450  rmse :  0.017006638154083088\n",
            "### iteration step :  450  rmse :  0.01707679250866153\n",
            "### iteration step :  450  rmse :  0.01731968595344266\n",
            "### iteration step :  500  rmse :  0.016991609248052833\n",
            "### iteration step :  500  rmse :  0.01712340891578616\n",
            "### iteration step :  500  rmse :  0.01699398405641037\n",
            "### iteration step :  500  rmse :  0.01690707049203008\n",
            "### iteration step :  500  rmse :  0.01701760577221745\n",
            "### iteration step :  500  rmse :  0.017043277556700362\n",
            "### iteration step :  500  rmse :  0.01683803145900356\n",
            "### iteration step :  500  rmse :  0.016821674312725313\n",
            "### iteration step :  500  rmse :  0.016529281264429145\n",
            "### iteration step :  500  rmse :  0.0166528887951985\n",
            "### iteration step :  500  rmse :  0.016728541275490984\n",
            "### iteration step :  500  rmse :  0.016973657887570753\n",
            "### iteration step :  550  rmse :  0.016818969716266233\n",
            "### iteration step :  550  rmse :  0.016941445597444732\n",
            "### iteration step :  550  rmse :  0.0168082592988841\n",
            "### iteration step :  550  rmse :  0.016725234339747562\n",
            "### iteration step :  550  rmse :  0.01683693849143515\n",
            "### iteration step :  550  rmse :  0.016859187050621206\n",
            "### iteration step :  550  rmse :  0.016661644526141564\n",
            "### iteration step :  550  rmse :  0.01664385102006508\n",
            "### iteration step :  550  rmse :  0.016343446075494233\n",
            "### iteration step :  550  rmse :  0.01647044082182643\n",
            "### iteration step :  550  rmse :  0.01654932331426952\n",
            "### iteration step :  550  rmse :  0.016796804595895633\n",
            "### iteration step :  600  rmse :  0.016727439717439115\n",
            "### iteration step :  600  rmse :  0.016842259158977232\n",
            "### iteration step :  600  rmse :  0.016706687924467476\n",
            "### iteration step :  600  rmse :  0.016626255644609397\n",
            "### iteration step :  600  rmse :  0.016738696939262717\n",
            "### iteration step :  600  rmse :  0.016758682415985614\n",
            "### iteration step :  600  rmse :  0.0165668572000528\n",
            "### iteration step :  600  rmse :  0.016547954461110684\n",
            "### iteration step :  600  rmse :  0.016241668760761063\n",
            "### iteration step :  600  rmse :  0.016370800056137867\n",
            "### iteration step :  600  rmse :  0.016451627209257007\n",
            "### iteration step :  600  rmse :  0.01670132290188466\n",
            "### iteration step :  650  rmse :  0.016674291334806343\n",
            "### iteration step :  650  rmse :  0.016782895588885082\n",
            "### iteration step :  650  rmse :  0.016645698091647773\n",
            "### iteration step :  650  rmse :  0.01656714079916223\n",
            "### iteration step :  650  rmse :  0.016680091021598568\n",
            "### iteration step :  650  rmse :  0.016698554271430792\n",
            "### iteration step :  650  rmse :  0.016511017732427972\n",
            "### iteration step :  650  rmse :  0.016491228766905293\n",
            "### iteration step :  650  rmse :  0.01618054419796173\n",
            "### iteration step :  650  rmse :  0.01631111150707529\n",
            "### iteration step :  650  rmse :  0.01639316772050061\n",
            "### iteration step :  650  rmse :  0.01664473691247669\n",
            "### iteration step :  700  rmse :  0.0166383624426085\n",
            "### iteration step :  700  rmse :  0.016741936743323586\n",
            "### iteration step :  700  rmse :  0.016603524189001625\n",
            "### iteration step :  700  rmse :  0.016526454393300468\n",
            "### iteration step :  700  rmse :  0.016639792083379498\n",
            "### iteration step :  700  rmse :  0.016657201345297346\n",
            "### iteration step :  700  rmse :  0.016472928381641428\n",
            "### iteration step :  700  rmse :  0.01645241257047358\n",
            "### iteration step :  700  rmse :  0.016138379086448083\n",
            "### iteration step :  700  rmse :  0.016269993747904915\n",
            "### iteration step :  700  rmse :  0.01635288508504558\n",
            "### iteration step :  700  rmse :  0.016605910068210026\n",
            "### iteration step :  750  rmse :  0.01660906046895522\n",
            "### iteration step :  750  rmse :  0.016708562969098305\n",
            "### iteration step :  750  rmse :  0.016569153528341783\n",
            "### iteration step :  750  rmse :  0.016493367054249922\n",
            "### iteration step :  750  rmse :  0.016607027966870924\n",
            "### iteration step :  750  rmse :  0.01662368102752549\n",
            "### iteration step :  750  rmse :  0.016441927271724666\n",
            "### iteration step :  750  rmse :  0.0164208024653437\n",
            "### iteration step :  750  rmse :  0.016104179990850755\n",
            "### iteration step :  750  rmse :  0.016236628551952913\n",
            "### iteration step :  750  rmse :  0.016320141009292095\n",
            "### iteration step :  750  rmse :  0.016574200475705\n",
            "### iteration step :  800  rmse :  0.016581161561119846\n",
            "### iteration step :  800  rmse :  0.016677363428436936\n",
            "### iteration step :  800  rmse :  0.016537069269613652\n",
            "### iteration step :  800  rmse :  0.0164624613777787\n",
            "### iteration step :  800  rmse :  0.016576412350487568\n",
            "### iteration step :  800  rmse :  0.01659250180024954\n",
            "### iteration step :  800  rmse :  0.01641271740942833\n",
            "### iteration step :  800  rmse :  0.016391072859801518\n",
            "### iteration step :  800  rmse :  0.01607242307736876\n",
            "### iteration step :  800  rmse :  0.016205589842521878\n",
            "### iteration step :  800  rmse :  0.016289609430091494\n",
            "### iteration step :  800  rmse :  0.01654431582921597\n",
            "### iteration step :  850  rmse :  0.01655222898431553\n",
            "### iteration step :  850  rmse :  0.01664575121547569\n",
            "### iteration step :  850  rmse :  0.016504627328190514\n",
            "### iteration step :  850  rmse :  0.016431145801748863\n",
            "### iteration step :  850  rmse :  0.016545370571042432\n",
            "### iteration step :  850  rmse :  0.016561024020105147\n",
            "### iteration step :  850  rmse :  0.016382795627019747\n",
            "### iteration step :  850  rmse :  0.016360700076085824\n",
            "### iteration step :  850  rmse :  0.016040446344395578\n",
            "### iteration step :  850  rmse :  0.016174269580681345\n",
            "### iteration step :  850  rmse :  0.016258737354641353\n",
            "### iteration step :  850  rmse :  0.01651375177473524\n",
            "### iteration step :  900  rmse :  0.016521280433777957\n",
            "### iteration step :  900  rmse :  0.016612624200841405\n",
            "### iteration step :  900  rmse :  0.016470695682261876\n",
            "### iteration step :  900  rmse :  0.016398314989165292\n",
            "### iteration step :  900  rmse :  0.016512806333073466\n",
            "### iteration step :  900  rmse :  0.01652811087350182\n",
            "### iteration step :  900  rmse :  0.016351122754892394\n",
            "### iteration step :  900  rmse :  0.016328629783842166\n",
            "### iteration step :  900  rmse :  0.016007096878603234\n",
            "### iteration step :  900  rmse :  0.016141544071514122\n",
            "### iteration step :  900  rmse :  0.016226430843994055\n",
            "### iteration step :  900  rmse :  0.01648146573819501\n",
            "### iteration step :  950  rmse :  0.016488081335748316\n",
            "### iteration step :  950  rmse :  0.016577652134974717\n",
            "### iteration step :  950  rmse :  0.01643492933498176\n",
            "### iteration step :  950  rmse :  0.0163636366204062\n",
            "### iteration step :  950  rmse :  0.01647839195954869\n",
            "### iteration step :  950  rmse :  0.01649340903060659\n",
            "### iteration step :  950  rmse :  0.016317416842511007\n",
            "### iteration step :  950  rmse :  0.016294568571753248\n",
            "### iteration step :  950  rmse :  0.015972009545965248\n",
            "### iteration step :  950  rmse :  0.0161070634587959\n",
            "### iteration step :  950  rmse :  0.016192355609214733\n",
            "### iteration step :  950  rmse :  0.016447171683479155\n"
          ]
        }
      ]
    },
    {
      "cell_type": "code",
      "source": [
        "pred_matrix = np.dot(P, Q.T)\n",
        "print('예측 행렬:\\n', np.round(pred_matrix, 3))"
      ],
      "metadata": {
        "colab": {
          "base_uri": "https://localhost:8080/"
        },
        "id": "akqJmyk96eFu",
        "outputId": "b7b10fa4-7629-47f3-91f0-8d1025b1a9ff"
      },
      "execution_count": 6,
      "outputs": [
        {
          "output_type": "stream",
          "name": "stdout",
          "text": [
            "예측 행렬:\n",
            " [[3.991 0.897 1.306 2.002 1.663]\n",
            " [6.696 4.978 0.979 2.981 1.003]\n",
            " [6.677 0.391 2.987 3.977 3.986]\n",
            " [4.968 2.005 1.006 2.017 1.14 ]]\n"
          ]
        }
      ]
    },
    {
      "cell_type": "markdown",
      "source": [
        "## 08. 파이썬 추천 시스템 패키지 - Surprise"
      ],
      "metadata": {
        "id": "7q4HsMK26mju"
      }
    },
    {
      "cell_type": "markdown",
      "source": [
        "### Surprise 패키지 소개"
      ],
      "metadata": {
        "id": "pO3iI_vJ6qDE"
      }
    },
    {
      "cell_type": "code",
      "source": [
        "pip install scikit-surprise"
      ],
      "metadata": {
        "colab": {
          "base_uri": "https://localhost:8080/"
        },
        "id": "vRz5zocD6hyT",
        "outputId": "5c8b9f50-9b52-46c0-a11a-cc2ef3fdf373"
      },
      "execution_count": 7,
      "outputs": [
        {
          "output_type": "stream",
          "name": "stdout",
          "text": [
            "Collecting scikit-surprise\n",
            "  Downloading scikit_surprise-1.1.4.tar.gz (154 kB)\n",
            "\u001b[?25l     \u001b[90m━━━━━━━━━━━━━━━━━━━━━━━━━━━━━━━━━━━━━━━━\u001b[0m \u001b[32m0.0/154.4 kB\u001b[0m \u001b[31m?\u001b[0m eta \u001b[36m-:--:--\u001b[0m\r\u001b[2K     \u001b[90m━━━━━━━━━━━━━━━━━━━━━━━━━━━━━━━━━━━━━━━━\u001b[0m \u001b[32m154.4/154.4 kB\u001b[0m \u001b[31m5.4 MB/s\u001b[0m eta \u001b[36m0:00:00\u001b[0m\n",
            "\u001b[?25h  Installing build dependencies ... \u001b[?25l\u001b[?25hdone\n",
            "  Getting requirements to build wheel ... \u001b[?25l\u001b[?25hdone\n",
            "  Preparing metadata (pyproject.toml) ... \u001b[?25l\u001b[?25hdone\n",
            "Requirement already satisfied: joblib>=1.2.0 in /usr/local/lib/python3.10/dist-packages (from scikit-surprise) (1.4.2)\n",
            "Requirement already satisfied: numpy>=1.19.5 in /usr/local/lib/python3.10/dist-packages (from scikit-surprise) (1.26.4)\n",
            "Requirement already satisfied: scipy>=1.6.0 in /usr/local/lib/python3.10/dist-packages (from scikit-surprise) (1.13.1)\n",
            "Building wheels for collected packages: scikit-surprise\n",
            "  Building wheel for scikit-surprise (pyproject.toml) ... \u001b[?25l\u001b[?25hdone\n",
            "  Created wheel for scikit-surprise: filename=scikit_surprise-1.1.4-cp310-cp310-linux_x86_64.whl size=2357293 sha256=ce25d7540adccadb35affe9c1c47b77d3b31999468f4bfd36d13a413042da125\n",
            "  Stored in directory: /root/.cache/pip/wheels/4b/3f/df/6acbf0a40397d9bf3ff97f582cc22fb9ce66adde75bc71fd54\n",
            "Successfully built scikit-surprise\n",
            "Installing collected packages: scikit-surprise\n",
            "Successfully installed scikit-surprise-1.1.4\n"
          ]
        }
      ]
    },
    {
      "cell_type": "markdown",
      "source": [
        "### Surprise를 이용한 추천 시스템 구축"
      ],
      "metadata": {
        "id": "h8FEfOK16xM9"
      }
    },
    {
      "cell_type": "code",
      "source": [
        "from surprise import SVD\n",
        "from surprise import Dataset\n",
        "from surprise import accuracy\n",
        "from surprise.model_selection import train_test_split"
      ],
      "metadata": {
        "id": "cPYE0Jxz6u7s"
      },
      "execution_count": 8,
      "outputs": []
    },
    {
      "cell_type": "code",
      "source": [
        "data = Dataset.load_builtin('ml-100k')\n",
        "# 수행 시마다 동일하게 데이터를 분할하기 위해 random_state 값 부여\n",
        "trainset, testset = train_test_split(data, test_size=.25, random_state=0)"
      ],
      "metadata": {
        "colab": {
          "base_uri": "https://localhost:8080/"
        },
        "id": "P-MTyHHk7A9w",
        "outputId": "32018132-60a7-4d57-83de-829a2f8b87b9"
      },
      "execution_count": 9,
      "outputs": [
        {
          "output_type": "stream",
          "name": "stdout",
          "text": [
            "Dataset ml-100k could not be found. Do you want to download it? [Y/n] Y\n",
            "Trying to download dataset from https://files.grouplens.org/datasets/movielens/ml-100k.zip...\n",
            "Done! Dataset ml-100k has been saved to /root/.surprise_data/ml-100k\n"
          ]
        }
      ]
    },
    {
      "cell_type": "code",
      "source": [
        "algo = SVD()\n",
        "algo.fit(trainset)"
      ],
      "metadata": {
        "colab": {
          "base_uri": "https://localhost:8080/"
        },
        "id": "NHPDcyh27UgZ",
        "outputId": "bb843f91-70e8-4e91-f468-bb5fc26270f0"
      },
      "execution_count": 10,
      "outputs": [
        {
          "output_type": "execute_result",
          "data": {
            "text/plain": [
              "<surprise.prediction_algorithms.matrix_factorization.SVD at 0x7dfab4787970>"
            ]
          },
          "metadata": {},
          "execution_count": 10
        }
      ]
    },
    {
      "cell_type": "code",
      "source": [
        "predictions = algo.test(testset)\n",
        "print('prediction type:', type(predictions), 'size:', len(predictions))\n",
        "print('prediction 결과의 최초 5개 추출')\n",
        "predictions[:5]"
      ],
      "metadata": {
        "colab": {
          "base_uri": "https://localhost:8080/"
        },
        "id": "e1dIMLMU7YGT",
        "outputId": "1c3b233a-e036-436c-bc11-d30639cdaa0b"
      },
      "execution_count": 11,
      "outputs": [
        {
          "output_type": "stream",
          "name": "stdout",
          "text": [
            "prediction type: <class 'list'> size: 25000\n",
            "prediction 결과의 최초 5개 추출\n"
          ]
        },
        {
          "output_type": "execute_result",
          "data": {
            "text/plain": [
              "[Prediction(uid='120', iid='282', r_ui=4.0, est=3.5420490217434244, details={'was_impossible': False}),\n",
              " Prediction(uid='882', iid='291', r_ui=4.0, est=4.064088825693579, details={'was_impossible': False}),\n",
              " Prediction(uid='535', iid='507', r_ui=5.0, est=3.906510091281124, details={'was_impossible': False}),\n",
              " Prediction(uid='697', iid='244', r_ui=5.0, est=3.567075899332699, details={'was_impossible': False}),\n",
              " Prediction(uid='751', iid='385', r_ui=4.0, est=3.257356138581865, details={'was_impossible': False})]"
            ]
          },
          "metadata": {},
          "execution_count": 11
        }
      ]
    },
    {
      "cell_type": "code",
      "source": [
        "[(pred.uid, pred.iid, pred.est) for pred in predictions[:3]]"
      ],
      "metadata": {
        "colab": {
          "base_uri": "https://localhost:8080/"
        },
        "id": "flsX6hIy7ed8",
        "outputId": "8c7940ce-8eaa-4fd2-f048-1a975bb2ffe5"
      },
      "execution_count": 13,
      "outputs": [
        {
          "output_type": "execute_result",
          "data": {
            "text/plain": [
              "[('120', '282', 3.5420490217434244),\n",
              " ('882', '291', 4.064088825693579),\n",
              " ('535', '507', 3.906510091281124)]"
            ]
          },
          "metadata": {},
          "execution_count": 13
        }
      ]
    },
    {
      "cell_type": "code",
      "source": [
        "# 사용자 아이디, 아이템 아이디는 문자열로 입력해야 함\n",
        "uid = str(196)\n",
        "iid = str(302)\n",
        "pred = algo.predict(uid, iid)\n",
        "print(pred)"
      ],
      "metadata": {
        "colab": {
          "base_uri": "https://localhost:8080/"
        },
        "id": "Lj0Y2C167m15",
        "outputId": "a7c2c095-5d21-46db-a19b-56bd4dc62217"
      },
      "execution_count": 14,
      "outputs": [
        {
          "output_type": "stream",
          "name": "stdout",
          "text": [
            "user: 196        item: 302        r_ui = None   est = 3.99   {'was_impossible': False}\n"
          ]
        }
      ]
    },
    {
      "cell_type": "code",
      "source": [
        "accuracy.rmse(predictions)"
      ],
      "metadata": {
        "colab": {
          "base_uri": "https://localhost:8080/"
        },
        "id": "g9TmvX2c7w1-",
        "outputId": "057c6530-206a-4431-d1f6-c0a4df49bc3b"
      },
      "execution_count": 15,
      "outputs": [
        {
          "output_type": "stream",
          "name": "stdout",
          "text": [
            "RMSE: 0.9509\n"
          ]
        },
        {
          "output_type": "execute_result",
          "data": {
            "text/plain": [
              "0.9508991861025147"
            ]
          },
          "metadata": {},
          "execution_count": 15
        }
      ]
    },
    {
      "cell_type": "markdown",
      "source": [
        "### Surprise 주요 모듈 소개"
      ],
      "metadata": {
        "id": "qRO_Axqm74eL"
      }
    },
    {
      "cell_type": "markdown",
      "source": [
        "**OS 파일 데이터를 Surprise 데이터 세트로 로딩**"
      ],
      "metadata": {
        "id": "icEAiYOC78iM"
      }
    },
    {
      "cell_type": "code",
      "source": [
        "import pandas as pd\n",
        "\n",
        "ratings = pd.read_csv(\"/content/ratings.csv\")\n",
        "# ratings_noh.csv 파일로 언로드 시 인덱스와 헤더를 모두 제거한 새로운 파일 생성\n",
        "ratings.to_csv(\"/content/ratings_noh.csv\", index=False, header=False)"
      ],
      "metadata": {
        "id": "xcqkqRwT70U3"
      },
      "execution_count": 17,
      "outputs": []
    },
    {
      "cell_type": "code",
      "source": [
        "from surprise import Reader\n",
        "\n",
        "reader = Reader(line_format='user item rating timestamp', sep=',', rating_scale=(0.5, 5))\n",
        "data = Dataset.load_from_file('/content/ratings_noh.csv', reader=reader)"
      ],
      "metadata": {
        "id": "5i124qZUBMmH"
      },
      "execution_count": 20,
      "outputs": []
    },
    {
      "cell_type": "code",
      "source": [
        "trainset, testset = train_test_split(data, test_size=.25, random_state=0)\n",
        "\n",
        "# 수행 시마다 동일한 결과를 도출하기 위해 random_state 설정\n",
        "algo = SVD(n_factors=50, random_state=0)\n",
        "\n",
        "# 학습 데이터 세트로 학습하고 나서 테스트 데이터 세트로 평점 예측 후 RMSE 평가\n",
        "algo.fit(trainset)\n",
        "predictions = algo.test(testset)\n",
        "accuracy.rmse(predictions)"
      ],
      "metadata": {
        "colab": {
          "base_uri": "https://localhost:8080/"
        },
        "id": "DBKT0RhUBbDA",
        "outputId": "8fa6d9cc-82c7-4673-d4b9-59e320678831"
      },
      "execution_count": 22,
      "outputs": [
        {
          "output_type": "stream",
          "name": "stdout",
          "text": [
            "RMSE: 0.8682\n"
          ]
        },
        {
          "output_type": "execute_result",
          "data": {
            "text/plain": [
              "0.8681952927143516"
            ]
          },
          "metadata": {},
          "execution_count": 22
        }
      ]
    },
    {
      "cell_type": "markdown",
      "source": [
        "**판다스 DataFrame에서 Surprise 데이터 세트로 로딩**"
      ],
      "metadata": {
        "id": "NLICD93RCsWJ"
      }
    },
    {
      "cell_type": "code",
      "source": [
        "import pandas as pd\n",
        "from surprise import Reader, Dataset\n",
        "\n",
        "ratings = pd.read_csv('/content/ratings.csv')\n",
        "reader = Reader(rating_scale=(0.5, 5.0))\n",
        "\n",
        "# ratings DataFrame에서 컬럼은 사용자 아이디, 아이템 아이디, 평점 순서를 지켜야 함\n",
        "data = Dataset.load_from_df(ratings[['userId', 'movieId', 'rating']], reader)\n",
        "trainset, testset = train_test_split(data, test_size=.25, random_state=0)\n",
        "\n",
        "algo = SVD(n_factors=50, random_state=0)\n",
        "algo.fit(trainset)\n",
        "predictions = algo.test(testset)\n",
        "accuracy.rmse(predictions)"
      ],
      "metadata": {
        "colab": {
          "base_uri": "https://localhost:8080/"
        },
        "id": "XOglAbsdCoQf",
        "outputId": "d4fb8081-8011-406f-b404-e61288c24b29"
      },
      "execution_count": 23,
      "outputs": [
        {
          "output_type": "stream",
          "name": "stdout",
          "text": [
            "RMSE: 0.8682\n"
          ]
        },
        {
          "output_type": "execute_result",
          "data": {
            "text/plain": [
              "0.8681952927143516"
            ]
          },
          "metadata": {},
          "execution_count": 23
        }
      ]
    },
    {
      "cell_type": "markdown",
      "source": [
        "## 교차 검증과 하이퍼 파라미터 튜닝"
      ],
      "metadata": {
        "id": "FrO9ghSqDCuO"
      }
    },
    {
      "cell_type": "code",
      "source": [
        "from surprise.model_selection import cross_validate\n",
        "\n",
        "# 판다스 DataFrame에서 Surprise 데이터 세트로 데이터 로딩\n",
        "ratings = pd.read_csv('/content/ratings.csv')\n",
        "reader = Reader(rating_scale=(0.5, 5.0))\n",
        "data = Dataset.load_from_df(ratings[['userId', 'movieId', 'rating']], reader)\n",
        "\n",
        "algo = SVD(random_state=0)\n",
        "cross_validate(algo, data, measures=['RMSE', 'MAE'], cv=5, verbose=True)"
      ],
      "metadata": {
        "colab": {
          "base_uri": "https://localhost:8080/"
        },
        "id": "QSa48celC_HC",
        "outputId": "59542bb2-3507-4203-9dd2-5a718f17d7bc"
      },
      "execution_count": 24,
      "outputs": [
        {
          "output_type": "stream",
          "name": "stdout",
          "text": [
            "Evaluating RMSE, MAE of algorithm SVD on 5 split(s).\n",
            "\n",
            "                  Fold 1  Fold 2  Fold 3  Fold 4  Fold 5  Mean    Std     \n",
            "RMSE (testset)    0.8707  0.8845  0.8686  0.8645  0.8736  0.8724  0.0067  \n",
            "MAE (testset)     0.6698  0.6809  0.6662  0.6643  0.6727  0.6708  0.0058  \n",
            "Fit time          2.67    1.80    3.39    1.79    1.81    2.29    0.64    \n",
            "Test time         0.14    1.49    0.13    0.33    0.26    0.47    0.52    \n"
          ]
        },
        {
          "output_type": "execute_result",
          "data": {
            "text/plain": [
              "{'test_rmse': array([0.87067389, 0.88447785, 0.8686039 , 0.86453146, 0.87360213]),\n",
              " 'test_mae': array([0.66975423, 0.68087162, 0.66615616, 0.66429301, 0.67269149]),\n",
              " 'fit_time': (2.6746022701263428,\n",
              "  1.801090955734253,\n",
              "  3.3930437564849854,\n",
              "  1.790968656539917,\n",
              "  1.8149125576019287),\n",
              " 'test_time': (0.13999199867248535,\n",
              "  1.4949455261230469,\n",
              "  0.12560439109802246,\n",
              "  0.3288872241973877,\n",
              "  0.261688232421875)}"
            ]
          },
          "metadata": {},
          "execution_count": 24
        }
      ]
    },
    {
      "cell_type": "code",
      "source": [
        "from surprise.model_selection import GridSearchCV\n",
        "\n",
        "# 최적화할 파라미터를 딕셔너리 형태로 지정\n",
        "param_grid = {'n_epochs': [20, 40, 60], 'n_factors':[50, 100, 200]}\n",
        "\n",
        "# CV를 3개 폴드 세트로 지정, 성능 평가는 rmse, mse로 수행하도록 GridSearchCV 구성\n",
        "gs = GridSearchCV(SVD, param_grid, measures=['rmse', 'mae'], cv=3)\n",
        "gs.fit(data)\n",
        "\n",
        "# 최고 RMSE Evaluation 점수와 그때의 하이퍼 파라미터\n",
        "print(gs.best_score['rmse'])\n",
        "print(gs.best_params['rmse'])"
      ],
      "metadata": {
        "colab": {
          "base_uri": "https://localhost:8080/"
        },
        "id": "QDbBdbA3DVd7",
        "outputId": "d76d7298-27ba-4bda-9bad-0c8dc7a3685d"
      },
      "execution_count": 25,
      "outputs": [
        {
          "output_type": "stream",
          "name": "stdout",
          "text": [
            "0.8766257301024302\n",
            "{'n_epochs': 20, 'n_factors': 50}\n"
          ]
        }
      ]
    },
    {
      "cell_type": "markdown",
      "source": [
        "## Surprise를 이용한 개인화 영화 추천 시스템 구축"
      ],
      "metadata": {
        "id": "2PtAUsEHD7CH"
      }
    },
    {
      "cell_type": "code",
      "source": [
        "# 다음 코드는 train_test_split()으로 분리되지 않은 데이터 세트에 fit()을 호출하여 오류가 발생합니다\n",
        "data = Dataset.load_from_df(ratings[['userId', 'movieId', 'rating']], reader)\n",
        "algo = SVD(n_factors=50, random_state=0)\n",
        "algo.fit(data)"
      ],
      "metadata": {
        "colab": {
          "base_uri": "https://localhost:8080/",
          "height": 279
        },
        "id": "5krW-WAlD5Y6",
        "outputId": "64ea0732-bcec-4fa8-bdb2-53e0c7db2f62"
      },
      "execution_count": 26,
      "outputs": [
        {
          "output_type": "error",
          "ename": "AttributeError",
          "evalue": "'DatasetAutoFolds' object has no attribute 'n_users'",
          "traceback": [
            "\u001b[0;31m---------------------------------------------------------------------------\u001b[0m",
            "\u001b[0;31mAttributeError\u001b[0m                            Traceback (most recent call last)",
            "\u001b[0;32m<ipython-input-26-d3dd3befc088>\u001b[0m in \u001b[0;36m<cell line: 4>\u001b[0;34m()\u001b[0m\n\u001b[1;32m      2\u001b[0m \u001b[0mdata\u001b[0m \u001b[0;34m=\u001b[0m \u001b[0mDataset\u001b[0m\u001b[0;34m.\u001b[0m\u001b[0mload_from_df\u001b[0m\u001b[0;34m(\u001b[0m\u001b[0mratings\u001b[0m\u001b[0;34m[\u001b[0m\u001b[0;34m[\u001b[0m\u001b[0;34m'userId'\u001b[0m\u001b[0;34m,\u001b[0m \u001b[0;34m'movieId'\u001b[0m\u001b[0;34m,\u001b[0m \u001b[0;34m'rating'\u001b[0m\u001b[0;34m]\u001b[0m\u001b[0;34m]\u001b[0m\u001b[0;34m,\u001b[0m \u001b[0mreader\u001b[0m\u001b[0;34m)\u001b[0m\u001b[0;34m\u001b[0m\u001b[0;34m\u001b[0m\u001b[0m\n\u001b[1;32m      3\u001b[0m \u001b[0malgo\u001b[0m \u001b[0;34m=\u001b[0m \u001b[0mSVD\u001b[0m\u001b[0;34m(\u001b[0m\u001b[0mn_factors\u001b[0m\u001b[0;34m=\u001b[0m\u001b[0;36m50\u001b[0m\u001b[0;34m,\u001b[0m \u001b[0mrandom_state\u001b[0m\u001b[0;34m=\u001b[0m\u001b[0;36m0\u001b[0m\u001b[0;34m)\u001b[0m\u001b[0;34m\u001b[0m\u001b[0;34m\u001b[0m\u001b[0m\n\u001b[0;32m----> 4\u001b[0;31m \u001b[0malgo\u001b[0m\u001b[0;34m.\u001b[0m\u001b[0mfit\u001b[0m\u001b[0;34m(\u001b[0m\u001b[0mdata\u001b[0m\u001b[0;34m)\u001b[0m\u001b[0;34m\u001b[0m\u001b[0;34m\u001b[0m\u001b[0m\n\u001b[0m",
            "\u001b[0;32m/usr/local/lib/python3.10/dist-packages/surprise/prediction_algorithms/matrix_factorization.pyx\u001b[0m in \u001b[0;36msurprise.prediction_algorithms.matrix_factorization.SVD.fit\u001b[0;34m()\u001b[0m\n",
            "\u001b[0;32m/usr/local/lib/python3.10/dist-packages/surprise/prediction_algorithms/matrix_factorization.pyx\u001b[0m in \u001b[0;36msurprise.prediction_algorithms.matrix_factorization.SVD.sgd\u001b[0;34m()\u001b[0m\n",
            "\u001b[0;31mAttributeError\u001b[0m: 'DatasetAutoFolds' object has no attribute 'n_users'"
          ]
        }
      ]
    },
    {
      "cell_type": "code",
      "source": [
        "from surprise.dataset import DatasetAutoFolds\n",
        "\n",
        "reader = Reader(line_format='user item rating timestamp', sep=',', rating_scale=(0.5, 5))\n",
        "# DatasetAutoFolds 클래스르 ratings_noh.csv 파일 기반으로 생성\n",
        "data_folds = DatasetAutoFolds(ratings_file='/content/ratings_noh.csv', reader=reader)\n",
        "\n",
        "# 전체 데이터를 학습 데이터로 생성\n",
        "trainset = data_folds.build_full_trainset()"
      ],
      "metadata": {
        "id": "Cs_JF7TGEQ8-"
      },
      "execution_count": 27,
      "outputs": []
    },
    {
      "cell_type": "code",
      "source": [
        "algo = SVD(n_epochs=20, n_factors=50, random_state=0)\n",
        "algo.fit(trainset)"
      ],
      "metadata": {
        "colab": {
          "base_uri": "https://localhost:8080/"
        },
        "id": "uWVYI3AVEkPV",
        "outputId": "cc206d1d-4cf8-4750-a94c-3843f702ab93"
      },
      "execution_count": 28,
      "outputs": [
        {
          "output_type": "execute_result",
          "data": {
            "text/plain": [
              "<surprise.prediction_algorithms.matrix_factorization.SVD at 0x7dfab471ed40>"
            ]
          },
          "metadata": {},
          "execution_count": 28
        }
      ]
    },
    {
      "cell_type": "code",
      "source": [
        "# 영화에 대한 상세 속성 정보 DataFrame 로딩\n",
        "movies = pd.read_csv('/content/movies.csv')\n",
        "\n",
        "# userId=9의 movieId 데이터를 추출해 movieId=42 데이터가 있는지 확인\n",
        "movieIds = ratings[ratings['userId']==9]['movieId']\n",
        "if movieIds[movieIds==42].count() == 0:\n",
        "  print('사용자 아이디 9는 영화 아이디 42의 평점 없음')\n",
        "print(movies[movies['movieId']==42])"
      ],
      "metadata": {
        "colab": {
          "base_uri": "https://localhost:8080/"
        },
        "id": "EYl8IWHGEniU",
        "outputId": "935c7d4f-89cf-411d-a969-6a30fb81c621"
      },
      "execution_count": 29,
      "outputs": [
        {
          "output_type": "stream",
          "name": "stdout",
          "text": [
            "사용자 아이디 9는 영화 아이디 42의 평점 없음\n",
            "    movieId                   title              genres\n",
            "38       42  Dead Presidents (1995)  Action|Crime|Drama\n"
          ]
        }
      ]
    },
    {
      "cell_type": "code",
      "source": [
        "uid = str(9)\n",
        "iid = str(42)\n",
        "\n",
        "pred = algo.predict(uid, iid, verbose=True)"
      ],
      "metadata": {
        "colab": {
          "base_uri": "https://localhost:8080/"
        },
        "id": "qXf3pkLjFA15",
        "outputId": "fbfa1d9f-8192-4486-b3a1-902d3f7c6354"
      },
      "execution_count": 30,
      "outputs": [
        {
          "output_type": "stream",
          "name": "stdout",
          "text": [
            "user: 9          item: 42         r_ui = None   est = 3.13   {'was_impossible': False}\n"
          ]
        }
      ]
    },
    {
      "cell_type": "code",
      "source": [
        "def get_unseen_surprise(ratings, movies, userId):\n",
        "  # 입력값으로 들어온 userId에 해당하는 사용자가 평점을 매긴 모든 영화를 리스트로 생성\n",
        "  seen_movies = ratings[ratings['userId'] == userId]['movieId'].tolist()\n",
        "\n",
        "  # 모든 영화의 movieId를 리스트로 생성\n",
        "  total_movies = movies['movieId'].tolist()\n",
        "\n",
        "  # 모든 영화의 movieId 중 이미 평점을 매긴 영화의 movieId를 제외한 후 리스트로 생성\n",
        "  unseen_movies = [movie for movie in total_movies if movie not in seen_movies]\n",
        "  print('평점 매긴 영화 수:', len(seen_movies), '추천 대상 영화 수:', len(unseen_movies), '전체 영화 수:', len(total_movies))\n",
        "\n",
        "  return unseen_movies\n",
        "\n",
        "unseen_movies = get_unseen_surprise(ratings, movies, 9)"
      ],
      "metadata": {
        "colab": {
          "base_uri": "https://localhost:8080/"
        },
        "id": "9YJJBSczFEEi",
        "outputId": "5ece7579-b8dd-4848-8695-cedaf1f51bc1"
      },
      "execution_count": 31,
      "outputs": [
        {
          "output_type": "stream",
          "name": "stdout",
          "text": [
            "평점 매긴 영화 수: 46 추천 대상 영화 수: 9696 전체 영화 수: 9742\n"
          ]
        }
      ]
    },
    {
      "cell_type": "code",
      "source": [
        "def recomm_movie_by_surprise(algo, userId, unseen_movies, top_n=10):\n",
        "  # 알고리즘 객체의 predict() 메서드를 평점이 없는 영화에 반복 수행한 후 결과를 list 객체로 저장\n",
        "  predictions = [algo.predict(str(userId), str(movieId)) for movieId in unseen_movies]\n",
        "\n",
        "  # predictions list 객체는 surprise의 Predictions 객체를 원소로 가지고 있음\n",
        "  # [Prediction(uid='9', iid='1', est=3.69), Prediction(uid='9', iid='2', est=2.98),,,,]\n",
        "\n",
        "  # 이를 est 값으로 정렬하기 위해서 아래의 sortkey_est 함수를 정의\n",
        "  # sortkey_est 함수는 list 객체의 sort() 함수의 키 값으로 사용되어 정렬 수행\n",
        "  def sortkey_est(pred):\n",
        "    return pred.est\n",
        "\n",
        "  # sortkey_est() 반환값의 내림 차순으로 정렬 수행하고 top_n개의 최상위 값 추출\n",
        "  predictions.sort(key=sortkey_est, reverse=True)\n",
        "  top_predictions = predictions[:top_n]\n",
        "\n",
        "  # top_n으로 추출된 영화의 정보 추출. 영화 아이디, 추천 예상 평점, 제목 추출\n",
        "  top_movie_ids = [int(pred.iid) for pred in top_predictions]\n",
        "  top_movie_rating = [pred.est for pred in top_predictions]\n",
        "  top_movie_titles = movies[movies.movieId.isin(top_movie_ids)]['title']\n",
        "\n",
        "  top_movie_preds = [(id, title, rating) for id, title, rating in zip(top_movie_ids, top_movie_titles, top_movie_rating)]\n",
        "\n",
        "  return top_movie_preds\n",
        "\n",
        "unseen_movies = get_unseen_surprise(ratings, movies, 9)\n",
        "top_movie_preds = recomm_movie_by_surprise(algo, 9, unseen_movies, top_n=10)\n",
        "\n",
        "print('##### Top-10 추천 영화 리스트 #####')\n",
        "for top_movie in top_movie_preds:\n",
        "  print(top_movie[1], \":\", top_movie[2])"
      ],
      "metadata": {
        "colab": {
          "base_uri": "https://localhost:8080/"
        },
        "id": "m8EiNaujFW_i",
        "outputId": "190dfaf2-dca1-4bae-d40a-e4b78d3c2590"
      },
      "execution_count": 32,
      "outputs": [
        {
          "output_type": "stream",
          "name": "stdout",
          "text": [
            "평점 매긴 영화 수: 46 추천 대상 영화 수: 9696 전체 영화 수: 9742\n",
            "##### Top-10 추천 영화 리스트 #####\n",
            "Usual Suspects, The (1995) : 4.306302135700814\n",
            "Star Wars: Episode IV - A New Hope (1977) : 4.281663842987387\n",
            "Pulp Fiction (1994) : 4.278152632122759\n",
            "Silence of the Lambs, The (1991) : 4.226073566460876\n",
            "Godfather, The (1972) : 4.1918097904381995\n",
            "Streetcar Named Desire, A (1951) : 4.154746591122657\n",
            "Star Wars: Episode V - The Empire Strikes Back (1980) : 4.122016128534504\n",
            "Star Wars: Episode VI - Return of the Jedi (1983) : 4.108009609093436\n",
            "Goodfellas (1990) : 4.083464936588478\n",
            "Glory (1989) : 4.07887165526957\n"
          ]
        }
      ]
    }
  ]
}