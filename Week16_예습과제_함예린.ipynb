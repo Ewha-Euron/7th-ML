{
  "nbformat": 4,
  "nbformat_minor": 0,
  "metadata": {
    "colab": {
      "provenance": []
    },
    "kernelspec": {
      "name": "python3",
      "display_name": "Python 3"
    },
    "language_info": {
      "name": "python"
    }
  },
  "cells": [
    {
      "cell_type": "markdown",
      "source": [
        "# 04."
      ],
      "metadata": {
        "id": "YyktOj--5JMf"
      }
    },
    {
      "cell_type": "code",
      "execution_count": 1,
      "metadata": {
        "id": "fKiwlhbmBobF"
      },
      "outputs": [],
      "source": [
        "import numpy as np\n",
        "\n",
        "#원본 행렬 R 생성, 분해 행렬 P와 Q 초기화, 잠재 요인 차원 K는 3으로 설정.\n",
        "R= np.array([[4, np.NaN, np.NaN, 2, np.NaN],\n",
        "              [np.NaN, 5, np.NaN, 3, 1],\n",
        "              [np.NaN, np.NaN, 3, 4, 4],\n",
        "              [5, 2, 1, 2, np.NaN]])\n",
        "num_users, num_items= R.shape\n",
        "K=3\n",
        "\n",
        "#P와 Q 행렬의 크기를 지정하고 정규분포를 가진 임의의 값으로 입력합니다.\n",
        "np.random.seed(1)\n",
        "P= np.random.normal(scale=1./K, size=(num_users, K))\n",
        "Q= np.random.normal(scale=1./K, size=(num_items, K))"
      ]
    },
    {
      "cell_type": "code",
      "source": [
        "from sklearn.metrics import mean_squared_error\n",
        "\n",
        "def get_rmse(R, P, Q, non_zeros):\n",
        "    error= 0\n",
        "    #두 개의 분해된 행렬 P와 Q.T의 내적으로 예측 R 행렬 생성\n",
        "    full_pred_matrix= np.dot(P, Q.T)\n",
        "\n",
        "    #실제 R 행렬에서 널이 아닌 값의 위치 인덱스 추출해 실제 R 행렬과 예측 행렬의 RMSE 추출\n",
        "    x_non_zero_ind= [non_zero[0] for non_zero in non_zeros]\n",
        "    y_non_zero_ind= [non_zero[1] for non_zero in non_zeros]\n",
        "    R_non_zeros= R[x_non_zero_ind, y_non_zero_ind]\n",
        "    full_pred_matrix_non_zeros= full_pred_matrix[x_non_zero_ind, y_non_zero_ind]\n",
        "    mse= mean_squared_error(R_non_zeros, full_pred_matrix_non_zeros)\n",
        "    rmse= np.sqrt(mse)\n",
        "\n",
        "    return rmse"
      ],
      "metadata": {
        "id": "gmWn1I6W2nUo"
      },
      "execution_count": 2,
      "outputs": []
    },
    {
      "cell_type": "code",
      "source": [
        "#R>0 인 행 위치, 열 위치, 값을 non_zeros 리스트에 저장.\n",
        "non_zeros= [(i, j, R[i,j]) for i in range(num_users) for j in range(num_items) if R[i,j]>0]\n",
        "\n",
        "steps=1000\n",
        "learning_rate=0.01\n",
        "r_lambda=0.01\n",
        "\n",
        "#SGD 기법으로 P와 Q 매트릭스를 계속 업데이트.\n",
        "for step in range(steps):\n",
        "    for i, j, r in non_zeros:\n",
        "        #실제 값과 예측 값의 차이인 오류 값 구함\n",
        "        eij= r - np.dot(P[i, :], Q[j, :].T)\n",
        "        #Regularization을 반영한 SGD 업데이트 공식 적용\n",
        "        P[i,:]= P[i,:]+learning_rate*(eij*Q[j, :]-r_lambda*P[i,:])\n",
        "        Q[j,:]= Q[j,:]+learning_rate*(eij*P[i, :]-r_lambda*Q[j,:])\n",
        "\n",
        "    rmse= get_rmse(R, P, Q, non_zeros)\n",
        "    if (step % 50)== 0:\n",
        "        print(\"### iteration step: \", step, \" rmse : \", rmse)"
      ],
      "metadata": {
        "colab": {
          "base_uri": "https://localhost:8080/"
        },
        "id": "kNUFGJXu3g1K",
        "outputId": "7bb0055a-f048-4ab9-8c84-b551b98a19a4"
      },
      "execution_count": 3,
      "outputs": [
        {
          "output_type": "stream",
          "name": "stdout",
          "text": [
            "### iteration step:  0  rmse :  3.2388050277987723\n",
            "### iteration step:  50  rmse :  0.4876723101369648\n",
            "### iteration step:  100  rmse :  0.1564340384819247\n",
            "### iteration step:  150  rmse :  0.07455141311978046\n",
            "### iteration step:  200  rmse :  0.04325226798579314\n",
            "### iteration step:  250  rmse :  0.029248328780878973\n",
            "### iteration step:  300  rmse :  0.022621116143829466\n",
            "### iteration step:  350  rmse :  0.019493636196525135\n",
            "### iteration step:  400  rmse :  0.018022719092132704\n",
            "### iteration step:  450  rmse :  0.01731968595344266\n",
            "### iteration step:  500  rmse :  0.016973657887570753\n",
            "### iteration step:  550  rmse :  0.016796804595895633\n",
            "### iteration step:  600  rmse :  0.01670132290188466\n",
            "### iteration step:  650  rmse :  0.01664473691247669\n",
            "### iteration step:  700  rmse :  0.016605910068210026\n",
            "### iteration step:  750  rmse :  0.016574200475705\n",
            "### iteration step:  800  rmse :  0.01654431582921597\n",
            "### iteration step:  850  rmse :  0.01651375177473524\n",
            "### iteration step:  900  rmse :  0.01648146573819501\n",
            "### iteration step:  950  rmse :  0.016447171683479155\n"
          ]
        }
      ]
    },
    {
      "cell_type": "code",
      "source": [
        "pred_matrix = np.dot(P, Q.T)\n",
        "print('예측 행렬:\\n', np.round(pred_matrix, 3))"
      ],
      "metadata": {
        "colab": {
          "base_uri": "https://localhost:8080/"
        },
        "id": "sPnBT6qS4IBn",
        "outputId": "dc61d217-798e-492a-ca70-d686f147157b"
      },
      "execution_count": 4,
      "outputs": [
        {
          "output_type": "stream",
          "name": "stdout",
          "text": [
            "예측 행렬:\n",
            " [[3.991 0.897 1.306 2.002 1.663]\n",
            " [6.696 4.978 0.979 2.981 1.003]\n",
            " [6.677 0.391 2.987 3.977 3.986]\n",
            " [4.968 2.005 1.006 2.017 1.14 ]]\n"
          ]
        }
      ]
    },
    {
      "cell_type": "markdown",
      "source": [
        "# 08."
      ],
      "metadata": {
        "id": "_Qez-oc35MGV"
      }
    },
    {
      "cell_type": "code",
      "source": [
        "pip install scikit-surprise"
      ],
      "metadata": {
        "colab": {
          "base_uri": "https://localhost:8080/"
        },
        "id": "DZW6PfOt5YNg",
        "outputId": "9b931084-60ec-4f38-b61a-401d4223e000"
      },
      "execution_count": 7,
      "outputs": [
        {
          "output_type": "stream",
          "name": "stdout",
          "text": [
            "Collecting scikit-surprise\n",
            "  Downloading scikit_surprise-1.1.4.tar.gz (154 kB)\n",
            "\u001b[?25l     \u001b[90m━━━━━━━━━━━━━━━━━━━━━━━━━━━━━━━━━━━━━━━━\u001b[0m \u001b[32m0.0/154.4 kB\u001b[0m \u001b[31m?\u001b[0m eta \u001b[36m-:--:--\u001b[0m\r\u001b[2K     \u001b[91m━━━━━━━━━━━━━━━━━━━━━━━━━━━━━━━━━━━━━━━\u001b[0m\u001b[91m╸\u001b[0m \u001b[32m153.6/154.4 kB\u001b[0m \u001b[31m5.1 MB/s\u001b[0m eta \u001b[36m0:00:01\u001b[0m\r\u001b[2K     \u001b[90m━━━━━━━━━━━━━━━━━━━━━━━━━━━━━━━━━━━━━━━━\u001b[0m \u001b[32m154.4/154.4 kB\u001b[0m \u001b[31m3.4 MB/s\u001b[0m eta \u001b[36m0:00:00\u001b[0m\n",
            "\u001b[?25h  Installing build dependencies ... \u001b[?25l\u001b[?25hdone\n",
            "  Getting requirements to build wheel ... \u001b[?25l\u001b[?25hdone\n",
            "  Preparing metadata (pyproject.toml) ... \u001b[?25l\u001b[?25hdone\n",
            "Requirement already satisfied: joblib>=1.2.0 in /usr/local/lib/python3.10/dist-packages (from scikit-surprise) (1.4.2)\n",
            "Requirement already satisfied: numpy>=1.19.5 in /usr/local/lib/python3.10/dist-packages (from scikit-surprise) (1.26.4)\n",
            "Requirement already satisfied: scipy>=1.6.0 in /usr/local/lib/python3.10/dist-packages (from scikit-surprise) (1.13.1)\n",
            "Building wheels for collected packages: scikit-surprise\n",
            "  Building wheel for scikit-surprise (pyproject.toml) ... \u001b[?25l\u001b[?25hdone\n",
            "  Created wheel for scikit-surprise: filename=scikit_surprise-1.1.4-cp310-cp310-linux_x86_64.whl size=2357279 sha256=fea9271ef66c10c748edaed51f0885e56be4dbc0b454b975c8730c0b71a82083\n",
            "  Stored in directory: /root/.cache/pip/wheels/4b/3f/df/6acbf0a40397d9bf3ff97f582cc22fb9ce66adde75bc71fd54\n",
            "Successfully built scikit-surprise\n",
            "Installing collected packages: scikit-surprise\n",
            "Successfully installed scikit-surprise-1.1.4\n"
          ]
        }
      ]
    },
    {
      "cell_type": "code",
      "source": [
        "from surprise import SVD\n",
        "from surprise import Dataset\n",
        "from surprise import accuracy\n",
        "from surprise.model_selection import train_test_split"
      ],
      "metadata": {
        "id": "Rff3SmtD5Nlr"
      },
      "execution_count": 8,
      "outputs": []
    },
    {
      "cell_type": "code",
      "source": [
        "data=Dataset.load_builtin('ml-100k')\n",
        "#수행 시마다 동일하게 데이터를 분할하기 위해 random_state 값 부여\n",
        "trainset, testset= train_test_split(data, test_size=.25, random_state=0)"
      ],
      "metadata": {
        "colab": {
          "base_uri": "https://localhost:8080/"
        },
        "id": "hqFkYUk-6RdK",
        "outputId": "1b606f50-f236-47b5-f848-ab197772cd5e"
      },
      "execution_count": 9,
      "outputs": [
        {
          "output_type": "stream",
          "name": "stdout",
          "text": [
            "Dataset ml-100k could not be found. Do you want to download it? [Y/n] Y\n",
            "Trying to download dataset from https://files.grouplens.org/datasets/movielens/ml-100k.zip...\n",
            "Done! Dataset ml-100k has been saved to /root/.surprise_data/ml-100k\n"
          ]
        }
      ]
    },
    {
      "cell_type": "markdown",
      "source": [
        "주의할 점: 무비렌즈 사이트에서 내려받은 데이터 파일과 동일하게 로우 레벨의 사용자-아이템 평점 데이터를 그대로 적용해야 함"
      ],
      "metadata": {
        "id": "yXLwJrsK6zyI"
      }
    },
    {
      "cell_type": "code",
      "source": [
        "algo= SVD()\n",
        "algo.fit(trainset)"
      ],
      "metadata": {
        "colab": {
          "base_uri": "https://localhost:8080/"
        },
        "id": "1MQD2OdK7FP3",
        "outputId": "de1f9819-75b4-44f4-a84f-08f82d4598dc"
      },
      "execution_count": 10,
      "outputs": [
        {
          "output_type": "execute_result",
          "data": {
            "text/plain": [
              "<surprise.prediction_algorithms.matrix_factorization.SVD at 0x7987f52444c0>"
            ]
          },
          "metadata": {},
          "execution_count": 10
        }
      ]
    },
    {
      "cell_type": "code",
      "source": [
        "predictions= algo.test(testset)\n",
        "print('prediction type:',type(predictions), 'size:',len(predictions))\n",
        "print('prediction 결과의 최초 5개 추출')\n",
        "predictions[:5]"
      ],
      "metadata": {
        "colab": {
          "base_uri": "https://localhost:8080/"
        },
        "id": "WbdKogit7gka",
        "outputId": "39eba165-0b30-415b-8f89-99a26c6b3311"
      },
      "execution_count": 11,
      "outputs": [
        {
          "output_type": "stream",
          "name": "stdout",
          "text": [
            "prediction type: <class 'list'> size: 25000\n",
            "prediction 결과의 최초 5개 추출\n"
          ]
        },
        {
          "output_type": "execute_result",
          "data": {
            "text/plain": [
              "[Prediction(uid='120', iid='282', r_ui=4.0, est=3.5420490217434244, details={'was_impossible': False}),\n",
              " Prediction(uid='882', iid='291', r_ui=4.0, est=4.064088825693579, details={'was_impossible': False}),\n",
              " Prediction(uid='535', iid='507', r_ui=5.0, est=3.906510091281124, details={'was_impossible': False}),\n",
              " Prediction(uid='697', iid='244', r_ui=5.0, est=3.567075899332699, details={'was_impossible': False}),\n",
              " Prediction(uid='751', iid='385', r_ui=4.0, est=3.257356138581865, details={'was_impossible': False})]"
            ]
          },
          "metadata": {},
          "execution_count": 11
        }
      ]
    },
    {
      "cell_type": "code",
      "source": [
        "[(pred.uid, pred.iid, pred.est) for pred in predictions[:3]]"
      ],
      "metadata": {
        "colab": {
          "base_uri": "https://localhost:8080/"
        },
        "id": "B-6UuybKAyJa",
        "outputId": "4d252dd8-6772-450c-f0c4-ed2e03ffba27"
      },
      "execution_count": 12,
      "outputs": [
        {
          "output_type": "execute_result",
          "data": {
            "text/plain": [
              "[('120', '282', 3.5420490217434244),\n",
              " ('882', '291', 4.064088825693579),\n",
              " ('535', '507', 3.906510091281124)]"
            ]
          },
          "metadata": {},
          "execution_count": 12
        }
      ]
    },
    {
      "cell_type": "code",
      "source": [
        "#사용자 아이디, 아이템 아이디는 문자열로 입력해야 함.\n",
        "uid= str(196)\n",
        "iid= str(302)\n",
        "pred= algo.predict(uid, iid)\n",
        "print(pred)"
      ],
      "metadata": {
        "colab": {
          "base_uri": "https://localhost:8080/"
        },
        "id": "D6ljF4OPA5Wx",
        "outputId": "44fae89c-0811-4c55-ba3d-37277538a0c3"
      },
      "execution_count": 13,
      "outputs": [
        {
          "output_type": "stream",
          "name": "stdout",
          "text": [
            "user: 196        item: 302        r_ui = None   est = 3.99   {'was_impossible': False}\n"
          ]
        }
      ]
    },
    {
      "cell_type": "code",
      "source": [
        "accuracy.rmse(predictions)"
      ],
      "metadata": {
        "colab": {
          "base_uri": "https://localhost:8080/"
        },
        "id": "GXOgFlrKBHaj",
        "outputId": "acfa90c8-1bd0-4b6e-a24d-613b1a2e6be7"
      },
      "execution_count": 14,
      "outputs": [
        {
          "output_type": "stream",
          "name": "stdout",
          "text": [
            "RMSE: 0.9509\n"
          ]
        },
        {
          "output_type": "execute_result",
          "data": {
            "text/plain": [
              "0.9508991861025147"
            ]
          },
          "metadata": {},
          "execution_count": 14
        }
      ]
    },
    {
      "cell_type": "code",
      "source": [
        "import pandas as pd\n",
        "\n",
        "ratings= pd.read_csv('ratings.csv')\n",
        "#ratings_noh.csv 파일로 언로드 시 인덱스와 헤더를 모두 제거한 새로운 파일 생성.\n",
        "ratings.to_csv('ratings_noh.csv', index=False, header=False)"
      ],
      "metadata": {
        "id": "pAXzOhWdBzJt"
      },
      "execution_count": 15,
      "outputs": []
    },
    {
      "cell_type": "code",
      "source": [
        "from surprise import Reader\n",
        "\n",
        "reader= Reader(line_format='user item rating timestamp', sep=',', rating_scale=(0.5, 5))\n",
        "data=Dataset.load_from_file('ratings_noh.csv',reader=reader)"
      ],
      "metadata": {
        "id": "wrpL8QbBCIGK"
      },
      "execution_count": 16,
      "outputs": []
    },
    {
      "cell_type": "code",
      "source": [
        "trainset, testset= train_test_split(data, test_size=.25, random_state=0)\n",
        "\n",
        "#수행 시마다 동일한 결과 도출을 위해 random_state 설정\n",
        "algo= SVD(n_factors=50, random_state=0)\n",
        "\n",
        "#학습 데이터 세트로 학습하고 나서 테스트 데이터 세트로 평점 예측 후 RMSE 평가\n",
        "algo.fit(trainset)\n",
        "predictions= algo.test(testset)\n",
        "accuracy.rmse(predictions)"
      ],
      "metadata": {
        "colab": {
          "base_uri": "https://localhost:8080/"
        },
        "id": "0WKU8fyMCfs7",
        "outputId": "190b5796-39c0-4082-fc26-b8eaf2d78b3f"
      },
      "execution_count": 17,
      "outputs": [
        {
          "output_type": "stream",
          "name": "stdout",
          "text": [
            "RMSE: 0.8682\n"
          ]
        },
        {
          "output_type": "execute_result",
          "data": {
            "text/plain": [
              "0.8681952927143516"
            ]
          },
          "metadata": {},
          "execution_count": 17
        }
      ]
    },
    {
      "cell_type": "code",
      "source": [
        "import pandas as pd\n",
        "from surprise import Reader, Dataset\n",
        "\n",
        "ratings= pd.read_csv('ratings.csv')\n",
        "reader= Reader(rating_scale=(0.5, 5.0))\n",
        "\n",
        "#ratings DataFrame에서 칼럼은 사용자 아이디, 아이템 아이디, 평점 순서를 지켜야 합니다.\n",
        "data= Dataset.load_from_df(ratings[['userId', 'movieId', 'rating']], reader)\n",
        "trainset, testset= train_test_split(data, test_size=.25, random_state=0)\n",
        "\n",
        "algo= SVD(n_factors=50, random_state=0)\n",
        "algo.fit(trainset)\n",
        "predictions= algo.test(testset)\n",
        "accuracy.rmse(predictions)"
      ],
      "metadata": {
        "colab": {
          "base_uri": "https://localhost:8080/"
        },
        "id": "uZIhteaLCuIy",
        "outputId": "6c786156-c0af-4561-bd51-225775590cff"
      },
      "execution_count": 18,
      "outputs": [
        {
          "output_type": "stream",
          "name": "stdout",
          "text": [
            "RMSE: 0.8682\n"
          ]
        },
        {
          "output_type": "execute_result",
          "data": {
            "text/plain": [
              "0.8681952927143516"
            ]
          },
          "metadata": {},
          "execution_count": 18
        }
      ]
    },
    {
      "cell_type": "code",
      "source": [
        "from surprise.model_selection import cross_validate\n",
        "\n",
        "#판다스 DataFrame에서 Surprise 데이터 세트로 데이터 로딩\n",
        "ratings= pd.read_csv('ratings.csv') # reading data in pandas df\n",
        "reader= Reader(rating_scale=(0.5, 5.0))\n",
        "data= Dataset.load_from_df(ratings[['userId', 'movieId', 'rating']], reader)\n",
        "\n",
        "algo= SVD(random_state=0)\n",
        "cross_validate(algo, data, measures=['RMSE', 'MAE'], cv=5, verbose=True)"
      ],
      "metadata": {
        "colab": {
          "base_uri": "https://localhost:8080/"
        },
        "id": "7oDOkAAsEzFY",
        "outputId": "95307670-255b-4dd2-cc28-1f127c11042f"
      },
      "execution_count": 19,
      "outputs": [
        {
          "output_type": "stream",
          "name": "stdout",
          "text": [
            "Evaluating RMSE, MAE of algorithm SVD on 5 split(s).\n",
            "\n",
            "                  Fold 1  Fold 2  Fold 3  Fold 4  Fold 5  Mean    Std     \n",
            "RMSE (testset)    0.8707  0.8845  0.8686  0.8645  0.8736  0.8724  0.0067  \n",
            "MAE (testset)     0.6698  0.6809  0.6662  0.6643  0.6727  0.6708  0.0058  \n",
            "Fit time          1.70    1.73    2.58    1.73    1.73    1.90    0.34    \n",
            "Test time         0.13    0.12    0.21    0.14    0.30    0.18    0.07    \n"
          ]
        },
        {
          "output_type": "execute_result",
          "data": {
            "text/plain": [
              "{'test_rmse': array([0.87067389, 0.88447785, 0.8686039 , 0.86453146, 0.87360213]),\n",
              " 'test_mae': array([0.66975423, 0.68087162, 0.66615616, 0.66429301, 0.67269149]),\n",
              " 'fit_time': (1.6987686157226562,\n",
              "  1.731816291809082,\n",
              "  2.579627513885498,\n",
              "  1.733320713043213,\n",
              "  1.7328822612762451),\n",
              " 'test_time': (0.12572455406188965,\n",
              "  0.12114429473876953,\n",
              "  0.2115614414215088,\n",
              "  0.14006447792053223,\n",
              "  0.3014087677001953)}"
            ]
          },
          "metadata": {},
          "execution_count": 19
        }
      ]
    },
    {
      "cell_type": "code",
      "source": [
        "from surprise.model_selection import GridSearchCV\n",
        "\n",
        "#최적화할 파라미터를 딕셔너리 형태로 지정.\n",
        "param_grid= {'n_epochs': [20, 40, 60], 'n_factors': [50, 100, 200]}\n",
        "\n",
        "#CV를 3개 폴드 세트로 지정, 성능 평가는 rmse, mse로 수행하도록 GridSearchCV 구성\n",
        "gs= GridSearchCV(SVD, param_grid, measures=['rmse', 'mae'], cv=3)\n",
        "gs.fit(data)\n",
        "\n",
        "#최고 RMSE Evaluation 점수와 그때의 하이퍼 파라미터\n",
        "print(gs.best_score['rmse'])\n",
        "print(gs.best_params['rmse'])"
      ],
      "metadata": {
        "colab": {
          "base_uri": "https://localhost:8080/"
        },
        "id": "GgebFWY1FCTf",
        "outputId": "91fe8ebd-cc16-4d61-ccda-4a0f4282076c"
      },
      "execution_count": 20,
      "outputs": [
        {
          "output_type": "stream",
          "name": "stdout",
          "text": [
            "0.8766257301024302\n",
            "{'n_epochs': 20, 'n_factors': 50}\n"
          ]
        }
      ]
    },
    {
      "cell_type": "code",
      "source": [
        "from surprise.dataset import DatasetAutoFolds\n",
        "\n",
        "reader= Reader(line_format='user item rating timestamp', sep=',', rating_scale=(0.5, 5))\n",
        "#DatasetAutoFolds 클래스를 ratings_noh.csv 파일 기반으로 생성.\n",
        "data_folds= DatasetAutoFolds(ratings_file='ratings_noh.csv', reader=reader)\n",
        "\n",
        "#전체 데이터를 학습 데이터로 생성함.\n",
        "trainset= data_folds.build_full_trainset()"
      ],
      "metadata": {
        "id": "3TonL7I_Fg7f"
      },
      "execution_count": 21,
      "outputs": []
    },
    {
      "cell_type": "code",
      "source": [
        "algo= SVD(n_epochs=20, n_factors=50, random_state=0)\n",
        "algo.fit(trainset)"
      ],
      "metadata": {
        "colab": {
          "base_uri": "https://localhost:8080/"
        },
        "id": "zcfwW8dXFyAS",
        "outputId": "b4fb2912-6ab8-4bde-fe92-ea5580218030"
      },
      "execution_count": 22,
      "outputs": [
        {
          "output_type": "execute_result",
          "data": {
            "text/plain": [
              "<surprise.prediction_algorithms.matrix_factorization.SVD at 0x7987f574d7e0>"
            ]
          },
          "metadata": {},
          "execution_count": 22
        }
      ]
    },
    {
      "cell_type": "code",
      "source": [
        "#영화에 대한 상세 속성 정보 DataFrame로딩\n",
        "movies= pd.read_csv('movies.csv')\n",
        "\n",
        "#userId=9 의 movieId 데이터를 추출해 movieId=42 데이터가 있는지 확인.\n",
        "movieIds= ratings[ratings['userId']==9]['movieId']\n",
        "if movieIds[movieIds==42].count()== 0:\n",
        "    print('사용자 아이디 9는 영화 아이디 42의 평점 없음')\n",
        "\n",
        "print(movies[movies['movieId']==42])"
      ],
      "metadata": {
        "colab": {
          "base_uri": "https://localhost:8080/"
        },
        "id": "XeDN8jg2F-_i",
        "outputId": "b10ba4e8-7b21-4fc5-f716-f1cedb5d6cd8"
      },
      "execution_count": 23,
      "outputs": [
        {
          "output_type": "stream",
          "name": "stdout",
          "text": [
            "사용자 아이디 9는 영화 아이디 42의 평점 없음\n",
            "    movieId                   title              genres\n",
            "38       42  Dead Presidents (1995)  Action|Crime|Drama\n"
          ]
        }
      ]
    },
    {
      "cell_type": "code",
      "source": [
        "uid= str(9)\n",
        "iid= str(42)\n",
        "\n",
        "pred= algo.predict(uid, iid, verbose=True)"
      ],
      "metadata": {
        "colab": {
          "base_uri": "https://localhost:8080/"
        },
        "id": "1MsnJCuKGPMA",
        "outputId": "1b2623b0-b4da-4863-c71f-3be3df4f0a8b"
      },
      "execution_count": 24,
      "outputs": [
        {
          "output_type": "stream",
          "name": "stdout",
          "text": [
            "user: 9          item: 42         r_ui = None   est = 3.13   {'was_impossible': False}\n"
          ]
        }
      ]
    },
    {
      "cell_type": "code",
      "source": [
        "def get_unseen_surprise(ratings, movies, userId):\n",
        "    #입력값으로 들어온 userId에 해당하는 사용자가 평점을 매긴 모든 영화를 리스트로 생성\n",
        "    seen_movies= ratings[ratings['userId']== userId]['movieId'].tolist()\n",
        "\n",
        "    #모든 영화의 movieId를 리스트로 생성.\n",
        "    total_movies= movies['movieId'].tolist()\n",
        "\n",
        "    #모든 영화의 movieId 중 이미 평점을 매긴 영화의 movieId를 제외한 후 리스트로 생성\n",
        "    unseen_movies= [movie for movie in total_movies if movie not in seen_movies]\n",
        "    print('평점 매긴 영화수:', len(seen_movies), '추천 대상 영화 수:', len(unseen_movies), \\\n",
        "          '전체 영화수:',len(total_movies))\n",
        "\n",
        "    return unseen_movies\n",
        "\n",
        "unseen_movies= get_unseen_surprise(ratings, movies, 9)"
      ],
      "metadata": {
        "colab": {
          "base_uri": "https://localhost:8080/"
        },
        "id": "wCHEF5oIGT9f",
        "outputId": "01abdcbf-3e10-484c-c8f1-a9858095a1cc"
      },
      "execution_count": 25,
      "outputs": [
        {
          "output_type": "stream",
          "name": "stdout",
          "text": [
            "평점 매긴 영화수: 46 추천 대상 영화 수: 9696 전체 영화수: 9742\n"
          ]
        }
      ]
    },
    {
      "cell_type": "code",
      "source": [
        "def recomm_movie_by_surprise(algo, userId, unseen_movies, top_n=10):\n",
        "    #알고리즘 객체의 predict() 메서드를 평점이 없는 영화에 반복 수행한 후 결과를 list 객체로 저장\n",
        "    predictions= [algo.predict(str(userId), str(movieId)) for movieId in unseen_movies]\n",
        "\n",
        "    #predictions list 객체는 surprise의 Predictions 객체를 원소로 가지고 있음.\n",
        "    #[Prediction(uid='9', iid='1', est=3.69), Prediction(uid='9', iid='2', est=2.98),,,,]\n",
        "\n",
        "    #이를 est 값으로 정렬하기 위해서 아래의 sortkey_est 함수를 정의함.\n",
        "    #sortkey_est 함수는 list 객체의 sort() 함수의 키 값으로 사용되어 정렬 수행.\n",
        "    def sortkey_est(pred):\n",
        "        return pred.est\n",
        "\n",
        "    #sortkey_est() 반환값의 내림 차순으로 정렬 수행하고 top_n개의 최상위 값 추출.\n",
        "    predictions.sort(key=sortkey_est, reverse=True)\n",
        "    top_predictions= predictions[:top_n]\n",
        "\n",
        "    #top_n으로 추출된 영화의 정보 추출. 영화 아이디, 추천 예상 평점, 제목 추출\n",
        "    top_movie_ids= [int(pred.iid) for pred in top_predictions]\n",
        "    top_movie_rating= [pred.est for pred in top_predictions]\n",
        "    top_movie_titles= movies[movies.movieId.isin(top_movie_ids)]['title']\n",
        "    top_movie_preds= [(id, title, rating) for id, title, rating in \\\n",
        "                      zip(top_movie_ids, top_movie_titles, top_movie_rating)]\n",
        "\n",
        "    return top_movie_preds\n",
        "\n",
        "unseen_movies= get_unseen_surprise(ratings, movies, 9)\n",
        "top_movie_preds= recomm_movie_by_surprise(algo, 9, unseen_movies, top_n=10)\n",
        "print('##### Top-10 추천 영화 리스트 #####')\n",
        "\n",
        "for top_movie in top_movie_preds:\n",
        "    print(top_movie[1], \":\", top_movie[2])"
      ],
      "metadata": {
        "colab": {
          "base_uri": "https://localhost:8080/"
        },
        "id": "XkC2M7ZMGvjv",
        "outputId": "4962300b-6a3a-4156-f584-65b565de0c4a"
      },
      "execution_count": 26,
      "outputs": [
        {
          "output_type": "stream",
          "name": "stdout",
          "text": [
            "평점 매긴 영화수: 46 추천 대상 영화 수: 9696 전체 영화수: 9742\n",
            "##### Top-10 추천 영화 리스트 #####\n",
            "Usual Suspects, The (1995) : 4.306302135700814\n",
            "Star Wars: Episode IV - A New Hope (1977) : 4.281663842987387\n",
            "Pulp Fiction (1994) : 4.278152632122759\n",
            "Silence of the Lambs, The (1991) : 4.226073566460876\n",
            "Godfather, The (1972) : 4.1918097904381995\n",
            "Streetcar Named Desire, A (1951) : 4.154746591122657\n",
            "Star Wars: Episode V - The Empire Strikes Back (1980) : 4.122016128534504\n",
            "Star Wars: Episode VI - Return of the Jedi (1983) : 4.108009609093436\n",
            "Goodfellas (1990) : 4.083464936588478\n",
            "Glory (1989) : 4.07887165526957\n"
          ]
        }
      ]
    }
  ]
}