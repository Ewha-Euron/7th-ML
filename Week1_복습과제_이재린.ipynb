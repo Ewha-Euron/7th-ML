{
 "cells": [
  {
   "cell_type": "markdown",
   "metadata": {
    "id": "jkGNNJY3S65Z"
   },
   "source": [
    "# **1주차 복습과제**\n",
    "- 1주차 복습과제는 **넘파이/판다스 연습문제**입니다.\n",
    "- 코드 작성하시고, 출력 결과까지 나오도록 실행 부탁드립니다.\n",
    "  - 제출 시 파일명 본인 이름으로 변경해 주세요. ex) Week1_복습과제_OOO\n",
    "- 교재에서 다루지 않은 메소드도 다수 포함되어 있지만 구글링이나 챗지피티 등을 활용해서라도 풀어주세요! 한 번씩 사용해 보면 좋을 것 같아 어려워도 문제에 포함했습니다 🤗"
   ]
  },
  {
   "cell_type": "markdown",
   "metadata": {
    "id": "WedDHAHPJPIA"
   },
   "source": [
    "## **넘파이**"
   ]
  },
  {
   "cell_type": "markdown",
   "metadata": {
    "id": "7Ue21e0fKFRI"
   },
   "source": [
    "### 1. Import the numpy package under the name `np`."
   ]
  },
  {
   "cell_type": "code",
   "execution_count": 1,
   "metadata": {
    "id": "60ACXMoSGe0H"
   },
   "outputs": [],
   "source": [
    "import numpy as np"
   ]
  },
  {
   "cell_type": "markdown",
   "metadata": {
    "id": "FnHQOUj-KNiT"
   },
   "source": [
    "### 2. Print the numpy version and the configuration.\n",
    "\n",
    "(hint: `np.__version__`, `np.show_config`)"
   ]
  },
  {
   "cell_type": "code",
   "execution_count": 5,
   "metadata": {
    "id": "FgXzYXoRS-V7"
   },
   "outputs": [
    {
     "name": "stdout",
     "output_type": "stream",
     "text": [
      "1.26.4\n",
      "<function show at 0x10421ac00>\n"
     ]
    }
   ],
   "source": [
    "print(np.__version__)\n",
    "print(np.show_config)\n"
   ]
  },
  {
   "cell_type": "markdown",
   "metadata": {
    "id": "0lB5hLlTKb1Z"
   },
   "source": [
    "### 3. Create a null vector of size 10.\n",
    "\n",
    "#### ✅ 출력 예시\n",
    "\n",
    "\n",
    "```\n",
    "[0. 0. 0. 0. 0. 0. 0. 0. 0. 0.]\n",
    "```\n",
    "\n"
   ]
  },
  {
   "cell_type": "code",
   "execution_count": 7,
   "metadata": {
    "id": "eK4DTjPwS_zU"
   },
   "outputs": [
    {
     "name": "stdout",
     "output_type": "stream",
     "text": [
      "[0. 0. 0. 0. 0. 0. 0. 0. 0. 0.]\n"
     ]
    }
   ],
   "source": [
    "x=np.zeros(10)\n",
    "print(x)"
   ]
  },
  {
   "cell_type": "markdown",
   "metadata": {
    "id": "7lSSfwh6Kj5v"
   },
   "source": [
    "### 4. Create a null vector of size 10 but the fifth value which is 1.\n",
    "\n",
    "#### ✅출력 예시\n",
    "\n",
    "\n",
    "```\n",
    "[0. 0. 0. 0. 1. 0. 0. 0. 0. 0.]\n",
    "```"
   ]
  },
  {
   "cell_type": "code",
   "execution_count": 9,
   "metadata": {
    "id": "ofohgzsTTBs6"
   },
   "outputs": [
    {
     "name": "stdout",
     "output_type": "stream",
     "text": [
      "[0. 0. 0. 0. 1. 0. 0. 0. 0. 0.]\n"
     ]
    }
   ],
   "source": [
    "x[4]=1\n",
    "print(x)"
   ]
  },
  {
   "cell_type": "markdown",
   "metadata": {
    "id": "-NeqvmpLKkdY"
   },
   "source": [
    "### 5. Create a vector with values ranging from 10 to 49.\n",
    "\n",
    "#### ✅출력 예시\n",
    "\n",
    "\n",
    "```\n",
    "[10 11 12 13 14 15 16 17 18 19 20 21 22 23 24 25 26 27 28 29 30 31 32 33\n",
    " 34 35 36 37 38 39 40 41 42 43 44 45 46 47 48 49]\n",
    "```"
   ]
  },
  {
   "cell_type": "code",
   "execution_count": 15,
   "metadata": {
    "id": "oQ1Mo5W9TC0P"
   },
   "outputs": [
    {
     "name": "stdout",
     "output_type": "stream",
     "text": [
      "[10 11 12 13 14 15 16 17 18 19 20 21 22 23 24 25 26 27 28 29 30 31 32 33\n",
      " 34 35 36 37 38 39 40 41 42 43 44 45 46 47 48 49]\n"
     ]
    }
   ],
   "source": [
    "x=np.arange(10,50)\n",
    "print(x)"
   ]
  },
  {
   "cell_type": "markdown",
   "metadata": {
    "id": "B1dFQzRNLN23"
   },
   "source": [
    "### 6. Reverse a vector (first element becomes last).\n",
    "\n",
    "#### ✅출력 예시\n",
    "\n",
    "\n",
    "```\n",
    "[9 8 7 6 5 4 3 2 1 0]\n",
    "```"
   ]
  },
  {
   "cell_type": "code",
   "execution_count": 21,
   "metadata": {
    "id": "wrpNYd4jTDsx"
   },
   "outputs": [
    {
     "name": "stdout",
     "output_type": "stream",
     "text": [
      "[9 8 7 6 5 4 3 2 1 0]\n"
     ]
    }
   ],
   "source": [
    "x=np.arange(0,10)\n",
    "print(np.flip(x))"
   ]
  },
  {
   "cell_type": "markdown",
   "metadata": {
    "id": "doUDUe_NLOhe"
   },
   "source": [
    "### 7. Create a 3x3 matrix with values ranging from 0 to 8.\n",
    "\n",
    "#### ✅출력 예시\n",
    "\n",
    "\n",
    "```\n",
    "[[0 1 2]\n",
    " [3 4 5]\n",
    " [6 7 8]]\n",
    "```"
   ]
  },
  {
   "cell_type": "code",
   "execution_count": 23,
   "metadata": {
    "id": "4g8WetkATEnw"
   },
   "outputs": [
    {
     "name": "stdout",
     "output_type": "stream",
     "text": [
      "[[0 1 2]\n",
      " [3 4 5]\n",
      " [6 7 8]]\n"
     ]
    }
   ],
   "source": [
    "ar1=np.arange(0,9)\n",
    "ar2=ar1.reshape(3,3)\n",
    "print(ar2)"
   ]
  },
  {
   "cell_type": "markdown",
   "metadata": {
    "id": "s-MtSq2RLzJx"
   },
   "source": [
    "### 8. Find indices of non-zero elements from [1,2,0,0,4,0].\n",
    "\n",
    "#### ✅출력 예시\n",
    "\n",
    "\n",
    "```\n",
    "(array([0, 1, 4]),)\n",
    "```"
   ]
  },
  {
   "cell_type": "code",
   "execution_count": 25,
   "metadata": {
    "id": "jw9iUP7sTL7D"
   },
   "outputs": [
    {
     "name": "stdout",
     "output_type": "stream",
     "text": [
      "(array([0, 1, 4]),)\n"
     ]
    }
   ],
   "source": [
    "a=np.array([1,2,0,0,4,0])\n",
    "print(np.nonzero(a))"
   ]
  },
  {
   "cell_type": "markdown",
   "metadata": {
    "id": "ihRWHFUxL6ak"
   },
   "source": [
    "### 9. Create a 3x3 identity matrix.\n",
    "\n",
    "(hint: `np.eye`)\n",
    "\n",
    "#### ✅출력 예시\n",
    "\n",
    "\n",
    "```\n",
    "[[1. 0. 0.]\n",
    " [0. 1. 0.]\n",
    " [0. 0. 1.]]\n",
    "```"
   ]
  },
  {
   "cell_type": "code",
   "execution_count": 27,
   "metadata": {
    "id": "fFzDGJT5TNh7"
   },
   "outputs": [
    {
     "name": "stdout",
     "output_type": "stream",
     "text": [
      "[[1. 0. 0.]\n",
      " [0. 1. 0.]\n",
      " [0. 0. 1.]]\n"
     ]
    }
   ],
   "source": [
    "a=np.eye(3)\n",
    "print(a)"
   ]
  },
  {
   "cell_type": "markdown",
   "metadata": {
    "id": "FvkGsY8eLPCG"
   },
   "source": [
    "### 10. Create a 3x3x3 array with random values.\n",
    "\n",
    "#### ✅출력 예시\n",
    "\n",
    "\n",
    "```\n",
    "[[[0.07822074 0.76195472 0.95999111]\n",
    "  [0.69540693 0.16669248 0.97247214]\n",
    "  [0.7031054  0.38007668 0.61202825]]\n",
    "\n",
    " [[0.41082729 0.42783868 0.17188845]\n",
    "  [0.71563068 0.36917752 0.17016863]\n",
    "  [0.90248986 0.07040389 0.40558888]]\n",
    "\n",
    " [[0.90725777 0.19353039 0.40379553]\n",
    "  [0.762831   0.70087899 0.09089228]\n",
    "  [0.68469463 0.17365128 0.17850461]]]\n",
    "```"
   ]
  },
  {
   "cell_type": "code",
   "execution_count": 33,
   "metadata": {
    "id": "084SAfnwTPpt"
   },
   "outputs": [
    {
     "name": "stdout",
     "output_type": "stream",
     "text": [
      "[[[ 0.76914747  0.61144335 -0.65477999]\n",
      "  [ 1.22313321 -0.02336936  0.60195362]\n",
      "  [-1.28624018  0.47421675  0.59865626]]\n",
      "\n",
      " [[ 0.46623597  1.53255284  0.07861738]\n",
      "  [ 1.13132044  1.66308595 -0.10640485]\n",
      "  [-0.12428144 -0.7765752  -0.03365316]]\n",
      "\n",
      " [[ 0.81673685 -0.07453231  0.62982054]\n",
      "  [-0.76281439 -0.66558904 -0.15575494]\n",
      "  [-0.75735069 -0.58237448 -1.90572516]]]\n"
     ]
    }
   ],
   "source": [
    "ar_rand = np.random.randn(3,3,3)\n",
    "print(ar_rand)"
   ]
  },
  {
   "cell_type": "markdown",
   "metadata": {
    "id": "4-VynNt5MVYY"
   },
   "source": [
    "### 11. Create a 10x10 array with random values and find the minimum and maximum values.\n",
    "\n",
    "#### ✅출력 예시\n",
    "\n",
    "\n",
    "```\n",
    "0.009762523436238846 0.9916129188134726\n",
    "```"
   ]
  },
  {
   "cell_type": "code",
   "execution_count": 49,
   "metadata": {
    "id": "W14PP5x6TRh6"
   },
   "outputs": [
    {
     "name": "stdout",
     "output_type": "stream",
     "text": [
      "\n",
      "Minimum Value: 0.0012022392074141353\n",
      "Maximum Value: 0.9937820754672998\n"
     ]
    }
   ],
   "source": [
    "random_array = np.random.random((10, 10))\n",
    "\n",
    "# 최소값과 최대값 찾기\n",
    "min_value = random_array.min()\n",
    "max_value = random_array.max()\n",
    "\n",
    "# 결과 출력\n",
    "print(\"\\nMinimum Value:\", min_value)\n",
    "print(\"Maximum Value:\", max_value)"
   ]
  },
  {
   "cell_type": "markdown",
   "metadata": {
    "id": "cQKXmfJBMVQ_"
   },
   "source": [
    "### 12. Create a random vector of size 30 and find the mean value.\n",
    "\n",
    "#### ✅출력 예시\n",
    "\n",
    "\n",
    "```\n",
    "0.43970256642748734\n",
    "```"
   ]
  },
  {
   "cell_type": "code",
   "execution_count": 51,
   "metadata": {
    "id": "FS6ggiNJTStp"
   },
   "outputs": [
    {
     "name": "stdout",
     "output_type": "stream",
     "text": [
      "0.500897667795011\n"
     ]
    }
   ],
   "source": [
    "ar1=np.random.random(30)\n",
    "num=ar1.mean()\n",
    "print(num)"
   ]
  },
  {
   "cell_type": "markdown",
   "metadata": {
    "id": "QZ4h-AddMVJb"
   },
   "source": [
    "### 13. Create a 2d array with 1 on the border and 0 inside. (size: 10x10)\n",
    "\n",
    "#### ✅출력 예시\n",
    "\n",
    "\n",
    "```\n",
    "[[1. 1. 1. 1. 1. 1. 1. 1. 1. 1.]\n",
    " [1. 0. 0. 0. 0. 0. 0. 0. 0. 1.]\n",
    " [1. 0. 0. 0. 0. 0. 0. 0. 0. 1.]\n",
    " [1. 0. 0. 0. 0. 0. 0. 0. 0. 1.]\n",
    " [1. 0. 0. 0. 0. 0. 0. 0. 0. 1.]\n",
    " [1. 0. 0. 0. 0. 0. 0. 0. 0. 1.]\n",
    " [1. 0. 0. 0. 0. 0. 0. 0. 0. 1.]\n",
    " [1. 0. 0. 0. 0. 0. 0. 0. 0. 1.]\n",
    " [1. 0. 0. 0. 0. 0. 0. 0. 0. 1.]\n",
    " [1. 1. 1. 1. 1. 1. 1. 1. 1. 1.]]\n",
    "```"
   ]
  },
  {
   "cell_type": "code",
   "execution_count": 53,
   "metadata": {
    "id": "pKEi08edTUMt"
   },
   "outputs": [
    {
     "name": "stdout",
     "output_type": "stream",
     "text": [
      "[[1. 1. 1. 1. 1. 1. 1. 1. 1. 1.]\n",
      " [1. 0. 0. 0. 0. 0. 0. 0. 0. 1.]\n",
      " [1. 0. 0. 0. 0. 0. 0. 0. 0. 1.]\n",
      " [1. 0. 0. 0. 0. 0. 0. 0. 0. 1.]\n",
      " [1. 0. 0. 0. 0. 0. 0. 0. 0. 1.]\n",
      " [1. 0. 0. 0. 0. 0. 0. 0. 0. 1.]\n",
      " [1. 0. 0. 0. 0. 0. 0. 0. 0. 1.]\n",
      " [1. 0. 0. 0. 0. 0. 0. 0. 0. 1.]\n",
      " [1. 0. 0. 0. 0. 0. 0. 0. 0. 1.]\n",
      " [1. 1. 1. 1. 1. 1. 1. 1. 1. 1.]]\n"
     ]
    }
   ],
   "source": [
    "array_2d=np.ones((10,10))\n",
    "array_2d[1:-1,1:-1]=0\n",
    "print(array_2d)"
   ]
  },
  {
   "cell_type": "markdown",
   "metadata": {
    "id": "BIwX-BiSMUz_"
   },
   "source": [
    "### 14. How to add a border (filled with 0's) around an existing array?\n",
    "\n",
    "(hint: 인덱싱 사용)\n",
    "\n",
    "#### ✅출력 예시\n",
    "\n",
    "\n",
    "```\n",
    "# before\n",
    "[[1. 1. 1. 1. 1.]\n",
    " [1. 1. 1. 1. 1.]\n",
    " [1. 1. 1. 1. 1.]\n",
    " [1. 1. 1. 1. 1.]\n",
    " [1. 1. 1. 1. 1.]]\n",
    "\n",
    " # after\n",
    " [[0. 0. 0. 0. 0.]\n",
    "  [0. 1. 1. 1. 0.]\n",
    "  [0. 1. 1. 1. 0.]\n",
    "  [0. 1. 1. 1. 0.]\n",
    "  [0. 0. 0. 0. 0.]]\n",
    "\n",
    "```"
   ]
  },
  {
   "cell_type": "code",
   "execution_count": 91,
   "metadata": {
    "id": "A4M1huiqTWXy"
   },
   "outputs": [
    {
     "name": "stdout",
     "output_type": "stream",
     "text": [
      "#before\n",
      " [[1. 1. 1. 1. 1.]\n",
      " [1. 1. 1. 1. 1.]\n",
      " [1. 1. 1. 1. 1.]\n",
      " [1. 1. 1. 1. 1.]\n",
      " [1. 1. 1. 1. 1.]]\n"
     ]
    }
   ],
   "source": [
    "array_2d=np.ones((5,5))\n",
    "print(\"#before\\n\",array_2d)"
   ]
  },
  {
   "cell_type": "code",
   "execution_count": 93,
   "metadata": {
    "id": "idWhL4zzTWRO"
   },
   "outputs": [
    {
     "name": "stdout",
     "output_type": "stream",
     "text": [
      "#after\n",
      " [[0. 0. 0. 0. 0.]\n",
      " [0. 1. 1. 1. 0.]\n",
      " [0. 1. 1. 1. 0.]\n",
      " [0. 1. 1. 1. 0.]\n",
      " [0. 0. 0. 0. 0.]]\n"
     ]
    }
   ],
   "source": [
    "array_2d[[0,-1]]=0\n",
    "array_2d[0:-1,[0,-1]]=0\n",
    "print(\"#after\\n\",array_2d)"
   ]
  },
  {
   "cell_type": "markdown",
   "metadata": {
    "id": "tggOHEUGM9PK"
   },
   "source": [
    "### 15. What is the result of the following expression?\n",
    "\n",
    "(실행 후, 결과에 대한 주석 작성해주세요. ex. 출력 결과에 대한 이유)\n",
    "\n",
    "```python\n",
    "0 * np.nan\n",
    "np.nan == np.nan\n",
    "np.inf > np.nan\n",
    "np.nan - np.nan\n",
    "np.nan in set([np.nan])\n",
    "0.3 == 3 * 0.1\n",
    "```"
   ]
  },
  {
   "cell_type": "code",
   "execution_count": 109,
   "metadata": {
    "id": "RmjjLx8_TYNp"
   },
   "outputs": [
    {
     "name": "stdout",
     "output_type": "stream",
     "text": [
      "nan\n",
      "False\n",
      "False\n",
      "nan\n",
      "True\n",
      "False\n"
     ]
    }
   ],
   "source": [
    "print(0 * np.nan) #np.nan은 숫자가 아니기에 이를 포함하는 모든 연산결과는 nan임\n",
    "print(np.nan == np.nan) #nan은 nan과 같지 않기에 false\n",
    "print(np.inf > np.nan) #np.nan은 다른 수와 순서를 갖지 않기에 비교를 할 수 없어 false임\n",
    "print(np.nan - np.nan) #np.nan은 숫자가 아니기에 이를 포함하는 모든 연산결과는 nan임\n",
    "print(np.nan in set([np.nan])) #nna은 집합 안에 있을 때 자기 자신과 같다고 간주하기에 true\n",
    "print(0.3 == 3 * 0.1) #파이썬의 부동 소수점 연산의 특징> 3*0.1은 0.3의 근삿값을 컴퓨터가 저장하므로 false"
   ]
  },
  {
   "cell_type": "markdown",
   "metadata": {
    "id": "28iOVtXXM8gA"
   },
   "source": [
    "### 16. Normalize a 5x5 random matrix.\n",
    "\n",
    "(hint: (x - mean) / std)\n",
    "\n",
    "#### ✅출력 예시\n",
    "\n",
    "\n",
    "```\n",
    "[[ 1.57158744 -0.5567505  -1.44275417  0.73527327 -1.17233846]\n",
    " [ 0.63460149 -0.73078623 -0.62656662 -1.36290509 -0.44364149]\n",
    " [ 0.22741386 -1.10400477  0.86652275 -0.95095209  1.38123574]\n",
    " [ 0.1921141  -0.30224638 -1.24440971  0.96181116  0.75106165]\n",
    " [-1.43422964  0.67492878  1.48089838  0.53420107  1.35993544]]\n",
    "```"
   ]
  },
  {
   "cell_type": "code",
   "execution_count": 117,
   "metadata": {
    "id": "0L0IE4qOTZW4"
   },
   "outputs": [
    {
     "name": "stdout",
     "output_type": "stream",
     "text": [
      "[[ 1.6365804  -0.78495219 -0.28040031 -1.02942797  1.43434745]\n",
      " [-1.30558856  0.58395418  1.26261761  1.20994267  0.33551885]\n",
      " [ 1.4576026  -0.00363205  0.75381784  0.55643327 -1.59082124]\n",
      " [-0.97737136 -0.38857923  0.36762946 -0.53444049 -0.52216966]\n",
      " [ 0.33455482 -1.44675407  1.05441435 -1.50300615 -0.62027022]]\n"
     ]
    }
   ],
   "source": [
    "#z점수 공식 = (데이터-데이터의 평균)/데이터의 표준편차\n",
    "ran_matrix=np.random.random((5,5))\n",
    "ran_mean=np.mean(ran_matrix)\n",
    "ran_std=np.std(ran_matrix)\n",
    "normed_matrix=(ran_matrix-ran_mean)/ran_std\n",
    "print(normed_matrix)"
   ]
  },
  {
   "cell_type": "markdown",
   "metadata": {
    "id": "asOmp4b5M8dx"
   },
   "source": [
    "### 17. Multiply a 5x3 matrix by a 3x2 matrix. (real matrix product)\n",
    "\n",
    "#### ✅출력 예시\n",
    "\n",
    "\n",
    "```\n",
    "[[3. 3.]\n",
    " [3. 3.]\n",
    " [3. 3.]\n",
    " [3. 3.]\n",
    " [3. 3.]]\n",
    "```"
   ]
  },
  {
   "cell_type": "code",
   "execution_count": 119,
   "metadata": {
    "id": "01PxOWW5Te7I"
   },
   "outputs": [
    {
     "name": "stdout",
     "output_type": "stream",
     "text": [
      "[[0.91141865 0.44351352]\n",
      " [0.48407686 0.28875017]\n",
      " [0.46589946 0.28297299]\n",
      " [0.7755308  0.49283207]\n",
      " [0.52439638 0.17237073]]\n"
     ]
    }
   ],
   "source": [
    "A=np.random.random((5,3))\n",
    "B=np.random.random((3,2))\n",
    "mul_matrix=np.dot(A,B)\n",
    "print(mul_matrix)"
   ]
  },
  {
   "cell_type": "markdown",
   "metadata": {
    "id": "H9zVpsYuM8aR"
   },
   "source": [
    "### 18. What are the result of the following expressions?\n",
    "\n",
    "(실행 후, 결과에 대한 주석 작성해주세요. ex. 출력 결과에 대한 이유)\n",
    "\n",
    "```python\n",
    "np.array(0) / np.array(0)\n",
    "np.array(0) // np.array(0)\n",
    "np.array([np.nan]).astype(int).astype(float)\n",
    "```\n",
    "이거 3번 헷갈림"
   ]
  },
  {
   "cell_type": "code",
   "execution_count": 133,
   "metadata": {
    "id": "SLP--cFwTh10"
   },
   "outputs": [
    {
     "name": "stdout",
     "output_type": "stream",
     "text": [
      "nan\n",
      "0\n",
      "[0.]\n"
     ]
    },
    {
     "name": "stderr",
     "output_type": "stream",
     "text": [
      "/var/folders/2c/j3wmswps2r5gclvj1skrczqh0000gn/T/ipykernel_11986/3753971449.py:1: RuntimeWarning: invalid value encountered in divide\n",
      "  print(np.array(0) / np.array(0))\n",
      "/var/folders/2c/j3wmswps2r5gclvj1skrczqh0000gn/T/ipykernel_11986/3753971449.py:4: RuntimeWarning: divide by zero encountered in floor_divide\n",
      "  print(np.array(0) // np.array(0))\n",
      "/var/folders/2c/j3wmswps2r5gclvj1skrczqh0000gn/T/ipykernel_11986/3753971449.py:6: RuntimeWarning: invalid value encountered in cast\n",
      "  print(np.array([np.nan]).astype(int).astype(float))\n"
     ]
    }
   ],
   "source": [
    "print(np.array(0) / np.array(0)) \n",
    "#np.array(0)가 numpy배열로 0을 포함하는 스칼라배열(단일값 but 배열처럼 다룰 수 있음)\n",
    "#0/0이므로 정의되지 않은 연산으로 nan을 반환함\n",
    "print(np.array(0) // np.array(0))\n",
    "#몫을 반환하는 연산자 //, 이 경우 0나누기 0은 정의되지 않지만 numpy이므로 몫으로 0을 반환 \n",
    "print(np.array([np.nan]).astype(int).astype(float))\n",
    "#..?"
   ]
  },
  {
   "cell_type": "markdown",
   "metadata": {
    "id": "fbi_T8LIO3yc"
   },
   "source": [
    "### 19. Create a 5x5 matrix with row values ranging from 0 to 4.\n",
    "\n",
    "#### ✅ 출력 예시\n",
    "\n",
    "```\n",
    "[[0. 1. 2. 3. 4.]\n",
    " [0. 1. 2. 3. 4.]\n",
    " [0. 1. 2. 3. 4.]\n",
    " [0. 1. 2. 3. 4.]\n",
    " [0. 1. 2. 3. 4.]]\n",
    "```"
   ]
  },
  {
   "cell_type": "code",
   "execution_count": 143,
   "metadata": {
    "id": "XHj8J0pLTjrf"
   },
   "outputs": [
    {
     "name": "stdout",
     "output_type": "stream",
     "text": [
      "[[0 1 2 3 4]\n",
      " [0 1 2 3 4]\n",
      " [0 1 2 3 4]\n",
      " [0 1 2 3 4]\n",
      " [0 1 2 3 4]]\n"
     ]
    }
   ],
   "source": [
    "#0-4값의 1차원 배열을 세로로 5번, 가로로 1번만 쌓아서 5by5행렬 만들기\n",
    "matrix = np.tile(np.arange(5),(5,1))\n",
    "print(matrix)"
   ]
  },
  {
   "cell_type": "markdown",
   "metadata": {
    "id": "cNRIzEzEO_Ft"
   },
   "source": [
    "### 20. Create a random vector of size 10 and sort it.\n",
    "\n",
    "#### ✅출력 예시\n",
    "\n",
    "\n",
    "```\n",
    "[0.1738448  0.20689089 0.26989562 0.29896317 0.41140555 0.44166027\n",
    " 0.48569307 0.78561734 0.79300508 0.95618918]\n",
    "\n",
    "```"
   ]
  },
  {
   "cell_type": "code",
   "execution_count": 97,
   "metadata": {
    "id": "a3lZxnx-Tngw"
   },
   "outputs": [
    {
     "name": "stdout",
     "output_type": "stream",
     "text": [
      "[0.02681636 0.10799395 0.28950143 0.32630225 0.36443307 0.48600552\n",
      " 0.74339916 0.95306367 0.96811645 0.97362463]\n"
     ]
    }
   ],
   "source": [
    "v10=np.random.random(10)\n",
    "v10.sort()\n",
    "print(v10)"
   ]
  },
  {
   "cell_type": "markdown",
   "metadata": {
    "id": "fkX-tY1oKDq5"
   },
   "source": [
    "## **판다스**"
   ]
  },
  {
   "cell_type": "markdown",
   "metadata": {
    "id": "yl7zlBgszyCS"
   },
   "source": [
    "\n",
    "### 1. Import pandas under the alias `pd`."
   ]
  },
  {
   "cell_type": "code",
   "execution_count": 145,
   "metadata": {
    "id": "ZiANPeHhz00W"
   },
   "outputs": [],
   "source": [
    "import pandas as pd"
   ]
  },
  {
   "cell_type": "markdown",
   "metadata": {
    "id": "2Hk3SuquzyCU"
   },
   "source": [
    "### 2. Print the version of pandas that has been imported."
   ]
  },
  {
   "cell_type": "code",
   "execution_count": 147,
   "metadata": {
    "id": "i2NtsBbjz1x2"
   },
   "outputs": [
    {
     "name": "stdout",
     "output_type": "stream",
     "text": [
      "2.2.2\n"
     ]
    }
   ],
   "source": [
    "print(pd.__version__)"
   ]
  },
  {
   "cell_type": "markdown",
   "metadata": {
    "id": "oOTRFQtFzyCV"
   },
   "source": [
    "## 3~20번 문제는 아래 데이터프레임으로 진행됩니다.\n",
    "\n",
    "Consider the following Python dictionary `data` and Python list `labels`:\n",
    "\n",
    "``` python\n",
    "data = {'animal': ['cat', 'cat', 'snake', 'dog', 'dog', 'cat', 'snake', 'cat', 'dog', 'dog'],\n",
    "        'age': [2.5, 3, 0.5, np.nan, 5, 2, 4.5, np.nan, 7, 3],\n",
    "        'visits': [1, 3, 2, 3, 2, 3, 1, 1, 2, 1],\n",
    "        'priority': ['yes', 'yes', 'no', 'yes', 'no', 'no', 'no', 'yes', 'no', 'no']}\n",
    "\n",
    "labels = ['a', 'b', 'c', 'd', 'e', 'f', 'g', 'h', 'i', 'j']\n",
    "```\n"
   ]
  },
  {
   "cell_type": "markdown",
   "metadata": {
    "id": "m_8US0jJzyCW"
   },
   "source": [
    "### 3. Create a DataFrame `df` from this dictionary `data` which has the index `labels`.\n"
   ]
  },
  {
   "cell_type": "code",
   "execution_count": 187,
   "metadata": {
    "id": "7CbS_gtmzyCW"
   },
   "outputs": [],
   "source": [
    "# 문제 풀이 전 numpy 임포트\n",
    "import numpy as np\n",
    "data = {'animal': ['cat', 'cat', 'snake', 'dog', 'dog', 'cat', 'snake', 'cat', 'dog', 'dog'],\n",
    "        'age': [2.5, 3, 0.5, np.nan, 5, 2, 4.5, np.nan, 7, 3],\n",
    "        'visits': [1, 3, 2, 3, 2, 3, 1, 1, 2, 1],\n",
    "        'priority': ['yes', 'yes', 'no', 'yes', 'no', 'no', 'no', 'yes', 'no', 'no']}\n",
    "\n",
    "labels = ['a', 'b', 'c', 'd', 'e', 'f', 'g', 'h', 'i', 'j']\n",
    "df=pd.DataFrame(data,index=labels)"
   ]
  },
  {
   "cell_type": "markdown",
   "metadata": {
    "id": "f2shsFGyzyCW"
   },
   "source": [
    "### 4. Display a summary of the basic information about this DataFrame and its data.  \n",
    "(hint: there is a single method that can be called on the DataFrame)"
   ]
  },
  {
   "cell_type": "code",
   "execution_count": 165,
   "metadata": {
    "id": "BWZpEuGtz7ky"
   },
   "outputs": [
    {
     "name": "stdout",
     "output_type": "stream",
     "text": [
      "<class 'pandas.core.frame.DataFrame'>\n",
      "Index: 10 entries, a to j\n",
      "Data columns (total 4 columns):\n",
      " #   Column    Non-Null Count  Dtype  \n",
      "---  ------    --------------  -----  \n",
      " 0   animal    10 non-null     object \n",
      " 1   age       8 non-null      float64\n",
      " 2   visits    10 non-null     int64  \n",
      " 3   priority  10 non-null     object \n",
      "dtypes: float64(1), int64(1), object(2)\n",
      "memory usage: 400.0+ bytes\n",
      "None\n"
     ]
    }
   ],
   "source": [
    "print(df.info())\n"
   ]
  },
  {
   "cell_type": "markdown",
   "metadata": {
    "id": "AfbkaEOyzyCX"
   },
   "source": [
    "### 5. Display a summary of the basic statistics about data of this DataFrame.  \n",
    "(hint: there is a single method that can be called on the DataFrame)"
   ]
  },
  {
   "cell_type": "code",
   "execution_count": 167,
   "metadata": {
    "id": "wzzc100Oz8c3"
   },
   "outputs": [
    {
     "name": "stdout",
     "output_type": "stream",
     "text": [
      "            age     visits\n",
      "count  8.000000  10.000000\n",
      "mean   3.437500   1.900000\n",
      "std    2.007797   0.875595\n",
      "min    0.500000   1.000000\n",
      "25%    2.375000   1.000000\n",
      "50%    3.000000   2.000000\n",
      "75%    4.625000   2.750000\n",
      "max    7.000000   3.000000\n"
     ]
    }
   ],
   "source": [
    "print(df.describe())"
   ]
  },
  {
   "cell_type": "markdown",
   "metadata": {
    "id": "XJ59aPcrzyCX"
   },
   "source": [
    "### 6. Return the first 3 rows of the DataFrame `df`."
   ]
  },
  {
   "cell_type": "code",
   "execution_count": 169,
   "metadata": {
    "id": "vZro7sh9z_rY"
   },
   "outputs": [
    {
     "data": {
      "text/html": [
       "<div>\n",
       "<style scoped>\n",
       "    .dataframe tbody tr th:only-of-type {\n",
       "        vertical-align: middle;\n",
       "    }\n",
       "\n",
       "    .dataframe tbody tr th {\n",
       "        vertical-align: top;\n",
       "    }\n",
       "\n",
       "    .dataframe thead th {\n",
       "        text-align: right;\n",
       "    }\n",
       "</style>\n",
       "<table border=\"1\" class=\"dataframe\">\n",
       "  <thead>\n",
       "    <tr style=\"text-align: right;\">\n",
       "      <th></th>\n",
       "      <th>animal</th>\n",
       "      <th>age</th>\n",
       "      <th>visits</th>\n",
       "      <th>priority</th>\n",
       "    </tr>\n",
       "  </thead>\n",
       "  <tbody>\n",
       "    <tr>\n",
       "      <th>a</th>\n",
       "      <td>cat</td>\n",
       "      <td>2.5</td>\n",
       "      <td>1</td>\n",
       "      <td>yes</td>\n",
       "    </tr>\n",
       "    <tr>\n",
       "      <th>b</th>\n",
       "      <td>cat</td>\n",
       "      <td>3.0</td>\n",
       "      <td>3</td>\n",
       "      <td>yes</td>\n",
       "    </tr>\n",
       "    <tr>\n",
       "      <th>c</th>\n",
       "      <td>snake</td>\n",
       "      <td>0.5</td>\n",
       "      <td>2</td>\n",
       "      <td>no</td>\n",
       "    </tr>\n",
       "  </tbody>\n",
       "</table>\n",
       "</div>"
      ],
      "text/plain": [
       "  animal  age  visits priority\n",
       "a    cat  2.5       1      yes\n",
       "b    cat  3.0       3      yes\n",
       "c  snake  0.5       2       no"
      ]
     },
     "execution_count": 169,
     "metadata": {},
     "output_type": "execute_result"
    }
   ],
   "source": [
    "df.head(3)"
   ]
  },
  {
   "cell_type": "markdown",
   "metadata": {
    "id": "KBVp0_3ZzyCY"
   },
   "source": [
    "### 7. Select just the 'animal' and 'age' columns from the DataFrame `df`."
   ]
  },
  {
   "cell_type": "code",
   "execution_count": 171,
   "metadata": {
    "id": "pC6sH-1F0AJo"
   },
   "outputs": [
    {
     "data": {
      "text/html": [
       "<div>\n",
       "<style scoped>\n",
       "    .dataframe tbody tr th:only-of-type {\n",
       "        vertical-align: middle;\n",
       "    }\n",
       "\n",
       "    .dataframe tbody tr th {\n",
       "        vertical-align: top;\n",
       "    }\n",
       "\n",
       "    .dataframe thead th {\n",
       "        text-align: right;\n",
       "    }\n",
       "</style>\n",
       "<table border=\"1\" class=\"dataframe\">\n",
       "  <thead>\n",
       "    <tr style=\"text-align: right;\">\n",
       "      <th></th>\n",
       "      <th>animal</th>\n",
       "      <th>age</th>\n",
       "    </tr>\n",
       "  </thead>\n",
       "  <tbody>\n",
       "    <tr>\n",
       "      <th>a</th>\n",
       "      <td>cat</td>\n",
       "      <td>2.5</td>\n",
       "    </tr>\n",
       "    <tr>\n",
       "      <th>b</th>\n",
       "      <td>cat</td>\n",
       "      <td>3.0</td>\n",
       "    </tr>\n",
       "    <tr>\n",
       "      <th>c</th>\n",
       "      <td>snake</td>\n",
       "      <td>0.5</td>\n",
       "    </tr>\n",
       "    <tr>\n",
       "      <th>d</th>\n",
       "      <td>dog</td>\n",
       "      <td>NaN</td>\n",
       "    </tr>\n",
       "    <tr>\n",
       "      <th>e</th>\n",
       "      <td>dog</td>\n",
       "      <td>5.0</td>\n",
       "    </tr>\n",
       "    <tr>\n",
       "      <th>f</th>\n",
       "      <td>cat</td>\n",
       "      <td>2.0</td>\n",
       "    </tr>\n",
       "    <tr>\n",
       "      <th>g</th>\n",
       "      <td>snake</td>\n",
       "      <td>4.5</td>\n",
       "    </tr>\n",
       "    <tr>\n",
       "      <th>h</th>\n",
       "      <td>cat</td>\n",
       "      <td>NaN</td>\n",
       "    </tr>\n",
       "    <tr>\n",
       "      <th>i</th>\n",
       "      <td>dog</td>\n",
       "      <td>7.0</td>\n",
       "    </tr>\n",
       "    <tr>\n",
       "      <th>j</th>\n",
       "      <td>dog</td>\n",
       "      <td>3.0</td>\n",
       "    </tr>\n",
       "  </tbody>\n",
       "</table>\n",
       "</div>"
      ],
      "text/plain": [
       "  animal  age\n",
       "a    cat  2.5\n",
       "b    cat  3.0\n",
       "c  snake  0.5\n",
       "d    dog  NaN\n",
       "e    dog  5.0\n",
       "f    cat  2.0\n",
       "g  snake  4.5\n",
       "h    cat  NaN\n",
       "i    dog  7.0\n",
       "j    dog  3.0"
      ]
     },
     "execution_count": 171,
     "metadata": {},
     "output_type": "execute_result"
    }
   ],
   "source": [
    "df[['animal','age']]"
   ]
  },
  {
   "cell_type": "markdown",
   "metadata": {
    "id": "a1giftRYzyCY"
   },
   "source": [
    "### 8. Select the data in rows `[3, 4, 8]` **and** in columns `['animal', 'age']`."
   ]
  },
  {
   "cell_type": "code",
   "execution_count": 175,
   "metadata": {
    "id": "tkSynFGH0BLD"
   },
   "outputs": [
    {
     "data": {
      "text/html": [
       "<div>\n",
       "<style scoped>\n",
       "    .dataframe tbody tr th:only-of-type {\n",
       "        vertical-align: middle;\n",
       "    }\n",
       "\n",
       "    .dataframe tbody tr th {\n",
       "        vertical-align: top;\n",
       "    }\n",
       "\n",
       "    .dataframe thead th {\n",
       "        text-align: right;\n",
       "    }\n",
       "</style>\n",
       "<table border=\"1\" class=\"dataframe\">\n",
       "  <thead>\n",
       "    <tr style=\"text-align: right;\">\n",
       "      <th></th>\n",
       "      <th>animal</th>\n",
       "      <th>age</th>\n",
       "    </tr>\n",
       "  </thead>\n",
       "  <tbody>\n",
       "    <tr>\n",
       "      <th>d</th>\n",
       "      <td>dog</td>\n",
       "      <td>NaN</td>\n",
       "    </tr>\n",
       "    <tr>\n",
       "      <th>e</th>\n",
       "      <td>dog</td>\n",
       "      <td>5.0</td>\n",
       "    </tr>\n",
       "    <tr>\n",
       "      <th>i</th>\n",
       "      <td>dog</td>\n",
       "      <td>7.0</td>\n",
       "    </tr>\n",
       "  </tbody>\n",
       "</table>\n",
       "</div>"
      ],
      "text/plain": [
       "  animal  age\n",
       "d    dog  NaN\n",
       "e    dog  5.0\n",
       "i    dog  7.0"
      ]
     },
     "execution_count": 175,
     "metadata": {},
     "output_type": "execute_result"
    }
   ],
   "source": [
    "df.loc[['d','e','i'],['animal', 'age']]"
   ]
  },
  {
   "cell_type": "markdown",
   "metadata": {
    "id": "67sYTLBqzyCY"
   },
   "source": [
    "### 9. Select only the rows where the number of visits is greater than 3."
   ]
  },
  {
   "cell_type": "code",
   "execution_count": 189,
   "metadata": {
    "id": "d_G0WeMG0Dgd"
   },
   "outputs": [
    {
     "name": "stdout",
     "output_type": "stream",
     "text": [
      "Empty DataFrame\n",
      "Columns: [animal, age, visits, priority]\n",
      "Index: []\n"
     ]
    }
   ],
   "source": [
    "greater_df=df[df['visits']>3]\n",
    "print(greater_df)"
   ]
  },
  {
   "cell_type": "markdown",
   "metadata": {
    "id": "FXX4YRWgzyCY"
   },
   "source": [
    "### 10. Select the rows where the age is missing, i.e. it is `NaN`."
   ]
  },
  {
   "cell_type": "code",
   "execution_count": 207,
   "metadata": {
    "id": "KaV4Ypkj0Ea2"
   },
   "outputs": [
    {
     "name": "stdout",
     "output_type": "stream",
     "text": [
      "  animal  age  visits priority\n",
      "d    dog  NaN       3      yes\n",
      "h    cat  NaN       1      yes\n"
     ]
    }
   ],
   "source": [
    "miss_df=df[df['age'].isna()]\n",
    "print(miss_df)"
   ]
  },
  {
   "cell_type": "markdown",
   "metadata": {
    "id": "kMH5n-UBzyCZ"
   },
   "source": [
    "### 11. Select the rows where the animal is a cat *and* the age is less than 3."
   ]
  },
  {
   "cell_type": "code",
   "execution_count": 213,
   "metadata": {
    "id": "8sCDh9Ez0FND",
    "scrolled": true
   },
   "outputs": [
    {
     "name": "stdout",
     "output_type": "stream",
     "text": [
      "  animal  age  visits priority\n",
      "a    cat  2.5       1      yes\n",
      "f    cat  2.0       3       no\n"
     ]
    }
   ],
   "source": [
    "catage_df=df[(df['animal']=='cat')&(df['age']<3)]\n",
    "print(catage_df)"
   ]
  },
  {
   "cell_type": "markdown",
   "metadata": {
    "id": "62Y0JsYazyCZ"
   },
   "source": [
    "### 12. Select the rows the age is between 2 and 4 (inclusive).  \n"
   ]
  },
  {
   "cell_type": "code",
   "execution_count": 215,
   "metadata": {
    "id": "svjvRtgZ0G76"
   },
   "outputs": [
    {
     "name": "stdout",
     "output_type": "stream",
     "text": [
      "  animal  age  visits priority\n",
      "a    cat  2.5       1      yes\n",
      "b    cat  3.0       3      yes\n",
      "f    cat  2.0       3       no\n",
      "j    dog  3.0       1       no\n"
     ]
    }
   ],
   "source": [
    "age_df=df[(df['age']>=2)&(df['age']<=4)]\n",
    "print(age_df)"
   ]
  },
  {
   "cell_type": "markdown",
   "metadata": {
    "id": "4lIGMIkPzyCZ"
   },
   "source": [
    "### 13. Change the age in row 'f' to 1.5."
   ]
  },
  {
   "cell_type": "code",
   "execution_count": 217,
   "metadata": {
    "id": "h4U4A6Ai0Hvk"
   },
   "outputs": [
    {
     "name": "stdout",
     "output_type": "stream",
     "text": [
      "  animal  age  visits priority\n",
      "a    cat  2.5       1      yes\n",
      "b    cat  3.0       3      yes\n",
      "c  snake  0.5       2       no\n",
      "d    dog  NaN       3      yes\n",
      "e    dog  5.0       2       no\n",
      "f    cat  1.5       3       no\n",
      "g  snake  4.5       1       no\n",
      "h    cat  NaN       1      yes\n",
      "i    dog  7.0       2       no\n",
      "j    dog  3.0       1       no\n"
     ]
    }
   ],
   "source": [
    "df.loc['f','age']=1.5\n",
    "print(df)"
   ]
  },
  {
   "cell_type": "markdown",
   "metadata": {
    "id": "FZzPr9ObzyCZ"
   },
   "source": [
    "### 14. Calculate the sum of all visits in `df` (i.e. the total number of visits)."
   ]
  },
  {
   "cell_type": "code",
   "execution_count": 219,
   "metadata": {
    "id": "FXLAUqR40I6C"
   },
   "outputs": [
    {
     "name": "stdout",
     "output_type": "stream",
     "text": [
      "총 방문수 : 19\n"
     ]
    }
   ],
   "source": [
    "total=df['visits'].sum()\n",
    "print(f\"총 방문수 : {total}\")"
   ]
  },
  {
   "cell_type": "markdown",
   "metadata": {
    "id": "PO0xpJ_OzyCa"
   },
   "source": [
    "### 15. Calculate the mean age for each different animal in `df`."
   ]
  },
  {
   "cell_type": "code",
   "execution_count": 221,
   "metadata": {
    "id": "L63WRx_20Kta"
   },
   "outputs": [
    {
     "name": "stdout",
     "output_type": "stream",
     "text": [
      "animal\n",
      "cat      2.333333\n",
      "dog      5.000000\n",
      "snake    2.500000\n",
      "Name: age, dtype: float64\n"
     ]
    }
   ],
   "source": [
    "print(df.groupby('animal')['age'].mean())"
   ]
  },
  {
   "cell_type": "markdown",
   "metadata": {
    "id": "YfVdzQXIzyCa"
   },
   "source": [
    "### 16. Append a new row 'k' to `df` with your choice of values for each column. Then delete that row to return the original DataFrame."
   ]
  },
  {
   "cell_type": "code",
   "execution_count": 223,
   "metadata": {
    "id": "Per12Ekp0Mc0"
   },
   "outputs": [
    {
     "name": "stdout",
     "output_type": "stream",
     "text": [
      "  animal  age  visits priority\n",
      "a    cat  2.5       1      yes\n",
      "b    cat  3.0       3      yes\n",
      "c  snake  0.5       2       no\n",
      "d    dog  NaN       3      yes\n",
      "e    dog  5.0       2       no\n",
      "f    cat  1.5       3       no\n",
      "g  snake  4.5       1       no\n",
      "h    cat  NaN       1      yes\n",
      "i    dog  7.0       2       no\n",
      "j    dog  3.0       1       no\n",
      "k    cat  3.5       2      yes\n",
      "  animal  age  visits priority\n",
      "a    cat  2.5       1      yes\n",
      "b    cat  3.0       3      yes\n",
      "c  snake  0.5       2       no\n",
      "d    dog  NaN       3      yes\n",
      "e    dog  5.0       2       no\n",
      "f    cat  1.5       3       no\n",
      "g  snake  4.5       1       no\n",
      "h    cat  NaN       1      yes\n",
      "i    dog  7.0       2       no\n",
      "j    dog  3.0       1       no\n"
     ]
    }
   ],
   "source": [
    "df.loc['k']=['cat',3.5,2,'yes']\n",
    "print(df)\n",
    "df.drop('k',axis=0,inplace=True) #inplace=True>자신의 df의 데이터 삭제\n",
    "print(df)"
   ]
  },
  {
   "cell_type": "markdown",
   "metadata": {
    "id": "tDkk_tHszyCa"
   },
   "source": [
    "### 17. Count the number of each type of animal in `df`."
   ]
  },
  {
   "cell_type": "code",
   "execution_count": 225,
   "metadata": {
    "id": "v21izXST0NTR"
   },
   "outputs": [
    {
     "name": "stdout",
     "output_type": "stream",
     "text": [
      "animal\n",
      "cat      4\n",
      "dog      4\n",
      "snake    2\n",
      "Name: count, dtype: int64\n"
     ]
    }
   ],
   "source": [
    "v_count=df['animal'].value_counts()\n",
    "print(v_count)"
   ]
  },
  {
   "cell_type": "markdown",
   "metadata": {
    "id": "cwz4s5RYzyCa"
   },
   "source": [
    "### 18. Sort `df` first by the values in the 'age' in *decending* order, then by the value in the 'visits' column in *ascending* order (so row `i` should be first, and row `d` should be last).\n",
    "#### ✅출력 예시"
   ]
  },
  {
   "cell_type": "markdown",
   "metadata": {
    "id": "YILpLKeqzyCa"
   },
   "source": [
    " index |animal\t| age\t|visits|\tpriority\n",
    "---|---|---|---|---\n",
    "i|\tdog|\t7.0|\t2|\tno\n",
    "e|\tdog|\t5.0|\t2|\tno\n",
    "g|\tsnake|\t4.5|\t1|\tno\n",
    "j|\tdog|\t3.0|\t1|\tno\n",
    "b|\tcat|\t3.0|\t3|\tyes\n",
    "a|\tcat|\t2.5|\t1|\tyes\n",
    "f|\tcat|\t1.5|\t3|\tno\n",
    "c|\tsnake|\t0.5|\t2|\tno\n",
    "h|\tcat|\tNaN|\t1|\tyes\n",
    "d|\tdog|\tNaN|\t3|\tyes"
   ]
  },
  {
   "cell_type": "code",
   "execution_count": 231,
   "metadata": {
    "id": "2l6Pb7T10Qpi"
   },
   "outputs": [
    {
     "name": "stdout",
     "output_type": "stream",
     "text": [
      "  animal  age  visits priority\n",
      "i    dog  7.0       2       no\n",
      "e    dog  5.0       2       no\n",
      "g  snake  4.5       1       no\n",
      "j    dog  3.0       1       no\n",
      "b    cat  3.0       3      yes\n",
      "a    cat  2.5       1      yes\n",
      "f    cat  1.5       3       no\n",
      "c  snake  0.5       2       no\n",
      "h    cat  NaN       1      yes\n",
      "d    dog  NaN       3      yes\n"
     ]
    }
   ],
   "source": [
    "#by=해당 칼럼으로 작업 수행, ascending=각각 칼럼을 오름차순 내림차순으로 작업할지 f/t로 표현\n",
    "df_sorted=df.sort_values(by=['age','visits'],ascending=[False,True])\n",
    "print(df_sorted)\n",
    "                         "
   ]
  },
  {
   "cell_type": "markdown",
   "metadata": {
    "id": "6hfE99qHzyCb"
   },
   "source": [
    "### 19. The 'priority' column contains the values 'yes' and 'no'. Replace this column with a column of boolean values: 'yes' should be `True` and 'no' should be `False`.  \n",
    "(hint: `map`)"
   ]
  },
  {
   "cell_type": "code",
   "execution_count": 235,
   "metadata": {
    "id": "lPLmBRUP0SnR"
   },
   "outputs": [
    {
     "name": "stdout",
     "output_type": "stream",
     "text": [
      "  animal  age  visits  priority\n",
      "a    cat  2.5       1      True\n",
      "b    cat  3.0       3      True\n",
      "c  snake  0.5       2     False\n",
      "d    dog  NaN       3      True\n",
      "e    dog  5.0       2     False\n",
      "f    cat  1.5       3     False\n",
      "g  snake  4.5       1     False\n",
      "h    cat  NaN       1      True\n",
      "i    dog  7.0       2     False\n",
      "j    dog  3.0       1     False\n"
     ]
    }
   ],
   "source": [
    "df['priority']=df['priority'].map({'yes':True,'no':False})\n",
    "print(df)"
   ]
  },
  {
   "cell_type": "markdown",
   "metadata": {
    "id": "ycaIJncEzyCb"
   },
   "source": [
    "### 20. In the 'animal' column, change the 'snake' entries to 'python'.   "
   ]
  },
  {
   "cell_type": "code",
   "execution_count": 239,
   "metadata": {
    "id": "MZelDUlE0Wag"
   },
   "outputs": [],
   "source": [
    "df['animal']=df['animal'].replace('snake','python')"
   ]
  },
  {
   "cell_type": "code",
   "execution_count": 241,
   "metadata": {
    "id": "uYFF5Jew0Xz7"
   },
   "outputs": [
    {
     "data": {
      "text/html": [
       "<div>\n",
       "<style scoped>\n",
       "    .dataframe tbody tr th:only-of-type {\n",
       "        vertical-align: middle;\n",
       "    }\n",
       "\n",
       "    .dataframe tbody tr th {\n",
       "        vertical-align: top;\n",
       "    }\n",
       "\n",
       "    .dataframe thead th {\n",
       "        text-align: right;\n",
       "    }\n",
       "</style>\n",
       "<table border=\"1\" class=\"dataframe\">\n",
       "  <thead>\n",
       "    <tr style=\"text-align: right;\">\n",
       "      <th></th>\n",
       "      <th>animal</th>\n",
       "      <th>age</th>\n",
       "      <th>visits</th>\n",
       "      <th>priority</th>\n",
       "    </tr>\n",
       "  </thead>\n",
       "  <tbody>\n",
       "    <tr>\n",
       "      <th>a</th>\n",
       "      <td>cat</td>\n",
       "      <td>2.5</td>\n",
       "      <td>1</td>\n",
       "      <td>True</td>\n",
       "    </tr>\n",
       "    <tr>\n",
       "      <th>b</th>\n",
       "      <td>cat</td>\n",
       "      <td>3.0</td>\n",
       "      <td>3</td>\n",
       "      <td>True</td>\n",
       "    </tr>\n",
       "    <tr>\n",
       "      <th>c</th>\n",
       "      <td>python</td>\n",
       "      <td>0.5</td>\n",
       "      <td>2</td>\n",
       "      <td>False</td>\n",
       "    </tr>\n",
       "    <tr>\n",
       "      <th>d</th>\n",
       "      <td>dog</td>\n",
       "      <td>NaN</td>\n",
       "      <td>3</td>\n",
       "      <td>True</td>\n",
       "    </tr>\n",
       "    <tr>\n",
       "      <th>e</th>\n",
       "      <td>dog</td>\n",
       "      <td>5.0</td>\n",
       "      <td>2</td>\n",
       "      <td>False</td>\n",
       "    </tr>\n",
       "    <tr>\n",
       "      <th>f</th>\n",
       "      <td>cat</td>\n",
       "      <td>1.5</td>\n",
       "      <td>3</td>\n",
       "      <td>False</td>\n",
       "    </tr>\n",
       "    <tr>\n",
       "      <th>g</th>\n",
       "      <td>python</td>\n",
       "      <td>4.5</td>\n",
       "      <td>1</td>\n",
       "      <td>False</td>\n",
       "    </tr>\n",
       "    <tr>\n",
       "      <th>h</th>\n",
       "      <td>cat</td>\n",
       "      <td>NaN</td>\n",
       "      <td>1</td>\n",
       "      <td>True</td>\n",
       "    </tr>\n",
       "    <tr>\n",
       "      <th>i</th>\n",
       "      <td>dog</td>\n",
       "      <td>7.0</td>\n",
       "      <td>2</td>\n",
       "      <td>False</td>\n",
       "    </tr>\n",
       "    <tr>\n",
       "      <th>j</th>\n",
       "      <td>dog</td>\n",
       "      <td>3.0</td>\n",
       "      <td>1</td>\n",
       "      <td>False</td>\n",
       "    </tr>\n",
       "  </tbody>\n",
       "</table>\n",
       "</div>"
      ],
      "text/plain": [
       "   animal  age  visits  priority\n",
       "a     cat  2.5       1      True\n",
       "b     cat  3.0       3      True\n",
       "c  python  0.5       2     False\n",
       "d     dog  NaN       3      True\n",
       "e     dog  5.0       2     False\n",
       "f     cat  1.5       3     False\n",
       "g  python  4.5       1     False\n",
       "h     cat  NaN       1      True\n",
       "i     dog  7.0       2     False\n",
       "j     dog  3.0       1     False"
      ]
     },
     "execution_count": 241,
     "metadata": {},
     "output_type": "execute_result"
    }
   ],
   "source": [
    "# 확인용 df 출력 셀\n",
    "df"
   ]
  },
  {
   "cell_type": "markdown",
   "metadata": {
    "id": "5YmjKvYizyCb"
   },
   "source": [
    "### 21. Given a DataFrame of random numeric values:\n",
    "```python\n",
    "df = pd.DataFrame(np.random.random(size=(5, 3))) # this is a 5x3 DataFrame of float values\n",
    "```\n",
    "\n",
    "how do you subtract the row mean from each element in the row?"
   ]
  },
  {
   "cell_type": "code",
   "execution_count": 243,
   "metadata": {
    "id": "EeAkDWv40e9J"
   },
   "outputs": [],
   "source": [
    "# 랜덤 시드 고정\n",
    "np.random.seed(2024)\n",
    "\n",
    "df = pd.DataFrame(np.random.random(size=(5, 3)))\n",
    "\n",
    "\n"
   ]
  },
  {
   "cell_type": "code",
   "execution_count": 249,
   "metadata": {
    "id": "Z24qNGpgKEVi"
   },
   "outputs": [
    {
     "name": "stdout",
     "output_type": "stream",
     "text": [
      "원본데이터\n",
      "           0         1         2\n",
      "0  0.588015  0.699109  0.188152\n",
      "1  0.043809  0.205019  0.106063\n",
      "2  0.727240  0.679401  0.473846\n",
      "3  0.448296  0.019107  0.752598\n",
      "4  0.602449  0.961778  0.664369\n",
      "뺀 데이터\n",
      "           0         1         2\n",
      "0  0.096256  0.207350 -0.303606\n",
      "1 -0.074488  0.086722 -0.012234\n",
      "2  0.100411  0.052572 -0.152983\n",
      "3  0.041629 -0.387560  0.345931\n",
      "4 -0.140416  0.218913 -0.078496\n"
     ]
    }
   ],
   "source": [
    "print(\"원본데이터\\n\",df)\n",
    "subtract_df=df.sub(df.mean(axis=1),axis=0)\n",
    "print(\"뺀 데이터\\n\",subtract_df)"
   ]
  },
  {
   "cell_type": "code",
   "execution_count": null,
   "metadata": {},
   "outputs": [],
   "source": []
  }
 ],
 "metadata": {
  "colab": {
   "authorship_tag": "ABX9TyN3MtLF9SsU0q9S6nVXMcF7",
   "provenance": []
  },
  "kernelspec": {
   "display_name": "Python 3 (ipykernel)",
   "language": "python",
   "name": "python3"
  },
  "language_info": {
   "codemirror_mode": {
    "name": "ipython",
    "version": 3
   },
   "file_extension": ".py",
   "mimetype": "text/x-python",
   "name": "python",
   "nbconvert_exporter": "python",
   "pygments_lexer": "ipython3",
   "version": "3.12.4"
  }
 },
 "nbformat": 4,
 "nbformat_minor": 4
}
