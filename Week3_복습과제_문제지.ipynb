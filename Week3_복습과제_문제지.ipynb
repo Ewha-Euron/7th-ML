{
  "cells": [
    {
      "cell_type": "markdown",
      "id": "1b04cb52-05e7-4c3e-8338-516ca3b5a8a1",
      "metadata": {
        "id": "1b04cb52-05e7-4c3e-8338-516ca3b5a8a1"
      },
      "source": [
        "#**1. 결정트리**\n",
        "- sklearn 패키지의 breast_cancer 데이터셋 이용"
      ]
    },
    {
      "cell_type": "markdown",
      "id": "c9ceedaa-d3fc-4e4a-a3e4-b96d7b85a5d7",
      "metadata": {
        "id": "c9ceedaa-d3fc-4e4a-a3e4-b96d7b85a5d7"
      },
      "source": [
        "##**1) 데이터를 로딩하고, 훈련세트와 테스트 세트로 나누기(훈련 세트 : 80%)**"
      ]
    },
    {
      "cell_type": "code",
      "execution_count": null,
      "id": "b659b484-0256-4ef0-9b52-697f5809501b",
      "metadata": {
        "id": "b659b484-0256-4ef0-9b52-697f5809501b"
      },
      "outputs": [],
      "source": [
        "## 데이터 준비\n",
        "from sklearn.datasets import load_breast_cancer\n",
        "from sklearn.model_selection import train_test_split\n",
        "\n",
        "# 데이터 로드\n",
        "cancer = load_breast_cancer()\n",
        "X = cancer.data\n",
        "y = cancer.target\n",
        "\n",
        "# 데이터를 훈련 세트와 테스트 세트로 나누기 (80:20 비율,random_state=42)\n",
        "X_train, X_test, y_train, y_test =train_test_split(##답변##, ##답변##, test_size=##답변##, random_state=42)"
      ]
    },
    {
      "cell_type": "markdown",
      "id": "690c0b6d-5b42-4a97-be09-7c6f9a26126d",
      "metadata": {
        "id": "690c0b6d-5b42-4a97-be09-7c6f9a26126d"
      },
      "source": [
        "##**2) 결정 트리 모델을 생성 및 학습하기**"
      ]
    },
    {
      "cell_type": "code",
      "execution_count": null,
      "id": "b11270d6-0ad3-41e0-8df0-86c36d4e83a8",
      "metadata": {
        "id": "b11270d6-0ad3-41e0-8df0-86c36d4e83a8"
      },
      "outputs": [],
      "source": [
        "from sklearn.tree import DecisionTreeClassifier\n",
        "\n",
        "# 결정 트리 모델 생성\n",
        "dt_clf = ##답변##(random_state=42)\n",
        "\n",
        "# 결정 트리 답변1&2(모델생성, 모델학습)\n",
        "##답변1:모델생성##\n",
        "##답변2:모델학습##"
      ]
    },
    {
      "cell_type": "markdown",
      "id": "562c34d0-1546-4279-9634-5a147499effc",
      "metadata": {
        "id": "562c34d0-1546-4279-9634-5a147499effc"
      },
      "source": [
        "##**3) 테스트 데이터로 예측 정확도를 구하기**"
      ]
    },
    {
      "cell_type": "code",
      "execution_count": null,
      "id": "d4d03fbc-8a7f-4627-8f25-51dd34b9302a",
      "metadata": {
        "id": "d4d03fbc-8a7f-4627-8f25-51dd34b9302a"
      },
      "outputs": [],
      "source": [
        "from sklearn.metrics import accuracy_score\n",
        "# 테스트 세트에 대한 예측 수행 > predict() 사용\n",
        "pred = ##답변##\n",
        "# accuracy_score 속성 사용\n",
        "accuracy=##답변##\n",
        "print('결정 트리 예측 정확도 : {0:.4f}'.format(accuracy))"
      ]
    },
    {
      "cell_type": "markdown",
      "id": "27b133a5-c33f-4bb0-94cf-2d4b0926e9e7",
      "metadata": {
        "id": "27b133a5-c33f-4bb0-94cf-2d4b0926e9e7"
      },
      "source": [
        "##**4) 오차행렬 출력하기**"
      ]
    },
    {
      "cell_type": "code",
      "execution_count": null,
      "id": "657eccdd-bbce-49fe-8899-68ff7d0cd8b1",
      "metadata": {
        "id": "657eccdd-bbce-49fe-8899-68ff7d0cd8b1"
      },
      "outputs": [],
      "source": [
        "from sklearn.metrics import confusion_matrix\n",
        "\n",
        "# 오차 행렬 출력\n",
        "conma = confusion_matrix(##답변##, pred)\n",
        "print(\"오차 행렬:\\n\", conma)"
      ]
    },
    {
      "cell_type": "markdown",
      "id": "e18b4f11-b97f-467a-8f6a-ebc59f724960",
      "metadata": {
        "id": "e18b4f11-b97f-467a-8f6a-ebc59f724960"
      },
      "source": [
        "##**5) 하이퍼 파라미터 튜닝**\n",
        "### 파라미터 조합\n",
        "    params = {\n",
        "    'criterion': ['gini', 'entropy'],\n",
        "    'max_depth': [3, 5, 7, 10, None],\n",
        "    'min_samples_split': [2, 5, 10],\n",
        "    'min_samples_leaf': [1, 2, 4]\n",
        "    }\n"
      ]
    },
    {
      "cell_type": "code",
      "execution_count": null,
      "id": "514873f6-f8c1-411a-bdb6-aa53f3038b27",
      "metadata": {
        "id": "514873f6-f8c1-411a-bdb6-aa53f3038b27"
      },
      "outputs": [],
      "source": [
        "from sklearn.model_selection import GridSearchCV\n",
        "params = {\n",
        "    'criterion': ['gini', 'entropy'],\n",
        "    'max_depth': [3, 5, 7, 10, None],\n",
        "    'min_samples_split': [2, 5, 10],\n",
        "    'min_samples_leaf': [1, 2, 4]\n",
        "    }\n",
        "# GridSearchCV 객체 생성 (교차 검증은 \bcv=5,verbose=1)\n",
        "grid_cv = ##답변##(dt_clf, param_grid=params, cv=5, verbose = 1, scoring='accuracy')\n",
        "\n",
        "# 훈련 데이터를 사용하여 GridSearchCV 모델 학습 > fit() 사용\n",
        "##답변##"
      ]
    },
    {
      "cell_type": "markdown",
      "id": "07453610-5689-44dc-9af9-d19a2188b9b7",
      "metadata": {
        "id": "07453610-5689-44dc-9af9-d19a2188b9b7"
      },
      "source": [
        "##**6) 최적의 하이퍼 파라미터 점수와 평균 정확도 수치 출력**\n",
        " 예시 :\n",
        "- GridSearchCV 최적 하이퍼 파라미터 :\n",
        "  {'criterion': ,'max_depth': ,'min_samples_leaf': ,'min_samples_split':}\n",
        "- 최고의 교차 검증 점수: 0.xxx"
      ]
    },
    {
      "cell_type": "code",
      "execution_count": null,
      "id": "cdf06f5a-9663-41c5-93b5-ea90bde7bf87",
      "metadata": {
        "id": "cdf06f5a-9663-41c5-93b5-ea90bde7bf87"
      },
      "outputs": [],
      "source": [
        "print(\"최적의 하이퍼파라미터:\", ##답변##)\n",
        "print(\"최고의 교차 검증 점수:{0:.4f}\".format(##답변##))"
      ]
    },
    {
      "cell_type": "markdown",
      "id": "2a78bd4e-71a1-4d9e-9d4c-c05fbb9a65b6",
      "metadata": {
        "id": "2a78bd4e-71a1-4d9e-9d4c-c05fbb9a65b6"
      },
      "source": [
        "##**7) 최적화된 모델로 테스트 데이터 예측 수행**\n",
        "- 최적 하이퍼 파라미터로 학습은 어떻게? : best_estimator_ 속성 활용"
      ]
    },
    {
      "cell_type": "code",
      "execution_count": null,
      "id": "a967e5e0-e8ff-4f0b-ba98-b553581861d7",
      "metadata": {
        "id": "a967e5e0-e8ff-4f0b-ba98-b553581861d7"
      },
      "outputs": [],
      "source": [
        "# 최적의 하이퍼 파라미터 학습 코드\n",
        "best_dt_clf = ##답변##\n",
        "# 테스트에 대한 예측 수행 코드\n",
        "pred1 = ##답변##\n",
        "# accuracy_score 속성 사용\n",
        "accuracy = ##답변##\n",
        "print('결정 트리 예측 정확도 : {0:.4f}'.format(accuracy))"
      ]
    },
    {
      "cell_type": "markdown",
      "id": "6bae06e2-b3a8-40b1-97d0-a1edb9f804ff",
      "metadata": {
        "id": "6bae06e2-b3a8-40b1-97d0-a1edb9f804ff"
      },
      "source": [
        "##**8) 특성 중요도 시각화**\n",
        "- top 6 피처를 막대그래프로 표현하기\n",
        "- 각 피처의 중요도 : feature_importances_ 속성으로\n",
        "- numpy로 피처 이름과 중요도 정렬하기"
      ]
    },
    {
      "cell_type": "code",
      "execution_count": null,
      "id": "f18f4676-c369-4f50-9635-cddb0768d279",
      "metadata": {
        "id": "f18f4676-c369-4f50-9635-cddb0768d279"
      },
      "outputs": [],
      "source": [
        "import numpy as np\n",
        "import seaborn as sns\n",
        "import matplotlib.pyplot as plt\n",
        "# 최적의 모델에서 피처 중요도 추출\n",
        "feature_importances_values = best_df_clf.feature_importances_\n",
        "# 유방암 데이터셋에서 피처 네임 추출 >> feature_names 속성이용\n",
        "features = np.array(##답변##)\n",
        "\n",
        "# 중요도 순으로 내림차순 정렬 >> 넘파이의 argsort()\n",
        "ranking = ##답변##\n",
        "\n",
        "# 상위 6개의 피처 선택 >> 앞의 내림차순된 ranking 배열에서 인덱스 추출\n",
        "top6_ranking = ##답변##\n",
        "\n",
        "# 상위 6개 피처와 중요도 값을 추출\n",
        "top6_features = feature[##답변##]\n",
        "top6_importances = feature_importances_values[##답변##]\n",
        "\n",
        "# 상위 6개 피처 중요도 시각화\n",
        "plt.figure(figsize=(10, 6))\n",
        "sns.barplot(x=top6_importances, y=top6_features)\n",
        "plt.title('Feature Importance Analysis Top 6')\n",
        "plt.xlabel('Feature Importance Score')\n",
        "plt.ylabel('Features')\n",
        "plt.show()"
      ]
    },
    {
      "cell_type": "markdown",
      "id": "e23370b3",
      "metadata": {
        "id": "e23370b3"
      },
      "source": [
        "#**2. 앙상블**"
      ]
    },
    {
      "cell_type": "code",
      "execution_count": null,
      "id": "af8fbfbe",
      "metadata": {
        "id": "af8fbfbe"
      },
      "outputs": [],
      "source": [
        "from sklearn.datasets import load_digits\n",
        "from sklearn.model_selection import train_test_split"
      ]
    },
    {
      "cell_type": "markdown",
      "id": "50e820ac",
      "metadata": {
        "id": "50e820ac"
      },
      "source": [
        "##**1) digits 데이터 셋을 load_digits() 함수를 사용해서 불러온 후, 훈련 세트와 테스트 세트로 나눠 주세요.**"
      ]
    },
    {
      "cell_type": "markdown",
      "id": "00acacee",
      "metadata": {
        "id": "00acacee"
      },
      "source": [
        "- test_size = 0.2\n",
        "- random_state = 42"
      ]
    },
    {
      "cell_type": "code",
      "execution_count": null,
      "id": "c9596eb2",
      "metadata": {
        "id": "c9596eb2"
      },
      "outputs": [],
      "source": [
        "# 데이터셋 로드 및 훈련/테스트 세트 분리\n",
        "digits = load_digits()\n",
        "X_train, X_test, y_train, y_test = ## 답변 ##"
      ]
    },
    {
      "cell_type": "markdown",
      "id": "3058b649",
      "metadata": {
        "id": "3058b649"
      },
      "source": [
        "##**2)로지스틱 회귀, KNN, 결정 트리를 개별 모델로 사용하여 개별 모델의 학습/예측/평가를 진행해 주세요.**"
      ]
    },
    {
      "cell_type": "code",
      "execution_count": null,
      "id": "dcefe8a4",
      "metadata": {
        "id": "dcefe8a4"
      },
      "outputs": [],
      "source": [
        "from sklearn.linear_model import LogisticRegression\n",
        "from sklearn.neighbors import KNeighborsClassifier\n",
        "from sklearn.tree import DecisionTreeClassifier\n",
        "from sklearn.metrics import accuracy_score"
      ]
    },
    {
      "cell_type": "markdown",
      "id": "cd2de77d",
      "metadata": {
        "id": "cd2de77d"
      },
      "source": [
        "- 로지스틱 회귀: max_iter = 10000, solver = 'lbfgs'\n",
        "- KNN: n_neighbors = 16\n",
        "- 결정 트리: random_state = 12"
      ]
    },
    {
      "cell_type": "code",
      "execution_count": null,
      "id": "7244db8f",
      "metadata": {
        "id": "7244db8f"
      },
      "outputs": [],
      "source": [
        "# 개별 모델 선언\n",
        "lr_clf =\n",
        "knn_clf =\n",
        "dt_clf =\n",
        "\n",
        "# 각 모델에 대해 학습 및 평가 수행\n",
        "classifiers =[lr_clf, knn_clf, dt_clf]\n",
        "for classifier in classifiers :\n",
        "  classifier.##답변##\n",
        "  pred = ##답변##\n",
        "  class_name = classifier.__class__.__name__\n",
        "  print(\"{0} 정확도: {1:.4f}\".format(class_name, accuracy_score(y_test, pred)))"
      ]
    },
    {
      "cell_type": "markdown",
      "id": "a5524264",
      "metadata": {
        "id": "a5524264"
      },
      "source": [
        "##**3)앞서 만든 모델 3개를 기반으로 하여 '하드 보팅' 방식으로 보팅 분류기를 생성한 후, 학습/예측/평가를 진행해 주세요.**"
      ]
    },
    {
      "cell_type": "code",
      "execution_count": null,
      "id": "51bbf812",
      "metadata": {
        "id": "51bbf812"
      },
      "outputs": [],
      "source": [
        "from sklearn.ensemble import VotingClassifier"
      ]
    },
    {
      "cell_type": "code",
      "execution_count": null,
      "id": "07aca9e9",
      "metadata": {
        "id": "07aca9e9"
      },
      "outputs": [],
      "source": [
        "# 하드 보팅 분류기 생성\n",
        "hard_clf = ## 답변 ##\n",
        "hard_clf.## 답변 ##\n",
        "hard_pred = ## 답변 ##\n",
        "print(\"Hard Voting Accuracy:\", accuracy_score(y_test, hard_pred))"
      ]
    },
    {
      "cell_type": "markdown",
      "id": "d6b96163",
      "metadata": {
        "id": "d6b96163"
      },
      "source": [
        "##**4)앞서 만든 모델 3개를 기반으로 하여 '소프트 보팅' 방식으로 보팅 분류기를 생성한 후, 학습/예측/평가를 진행해 주세요.**"
      ]
    },
    {
      "cell_type": "code",
      "execution_count": null,
      "id": "f01101e1",
      "metadata": {
        "id": "f01101e1"
      },
      "outputs": [],
      "source": [
        "# 소프트 보팅 분류기 생성\n",
        "soft_clf = ## 답변 ##\n",
        "soft_clf.# #답변 ##\n",
        "soft_pred = ## 답변 ##\n",
        "print(\"Soft Voting Accuracy:\", accuracy_score(y_test, soft_pred))"
      ]
    },
    {
      "cell_type": "markdown",
      "id": "c5493325",
      "metadata": {
        "id": "c5493325"
      },
      "source": [
        "#**3. OOB 평가**"
      ]
    },
    {
      "cell_type": "markdown",
      "id": "e3eb11b1",
      "metadata": {
        "id": "e3eb11b1"
      },
      "source": [
        "- n_estimators = 100\n",
        "- 중복 허용 가능\n",
        "- 가용한 모든 코어 사용\n",
        "- random_state=42"
      ]
    },
    {
      "cell_type": "code",
      "execution_count": null,
      "id": "8af827ac",
      "metadata": {
        "id": "8af827ac"
      },
      "outputs": [],
      "source": [
        "from sklearn.ensemble import BaggingClassifier\n",
        "from sklearn.tree import DecisionTreeClassifier"
      ]
    },
    {
      "cell_type": "code",
      "execution_count": null,
      "id": "e87488af",
      "metadata": {
        "id": "e87488af"
      },
      "outputs": [],
      "source": [
        "# Bagging을 사용한 결정 트리 학습 및 OOB 평가\n",
        "bag_clf = BaggingClassifier(\n",
        "    ## 답변 ##\n",
        "\n",
        ")\n",
        "\n",
        "bag_clf.fit(X_train, y_train)\n",
        "\n",
        "# OOB 평가 점수 출력\n",
        "print(\"OOB Score:\", )\n"
      ]
    },
    {
      "cell_type": "markdown",
      "id": "a0aafeea",
      "metadata": {
        "id": "a0aafeea"
      },
      "source": [
        "### **4-4 랜덤포레스트**\n",
        "사이킷런의 붓꽃데이터세트를 RandomForestClassifier를 이용하여 예측하세요##**1) 사이킷런의 붓꽃데이터세트를 RandomForestClassifier를 이용하여 예측하세요.**"
      ]
    },
    {
      "cell_type": "code",
      "execution_count": null,
      "id": "8dfc59a4",
      "metadata": {
        "id": "8dfc59a4"
      },
      "outputs": [],
      "source": [
        "# 필요한 라이브러리 임포트\n",
        "import numpy as np\n",
        "import pandas as pd\n",
        "from sklearn.datasets import load_iris\n",
        "from sklearn.model_selection import train_test_split\n",
        "from sklearn.ensemble import RandomForestClassifier\n",
        "from sklearn.metrics import accuracy_score\n",
        "\n",
        "\n",
        "# 데이터셋 로드\n",
        "iris = load_iris()\n",
        "X = iris.data\n",
        "y = iris.target\n",
        "\n",
        "# 데이터셋을 훈련 세트와 테스트 세트로 분리 (test_size =0.2, random_state=42)\n",
        "X_train, X_test, y_train, y_test = ##답변##\n",
        "\n",
        "# 랜덤 포레스트 모델 생성 및 훈련(n_estimators=100, random_state=42)\n",
        "model = ##답변##\n",
        "model.##답변##\n",
        "\n",
        "# 테스트 세트로 예측\n",
        "y_pred = ##답변##\n",
        "\n",
        "# 정확도 출력\n",
        "accuracy = ##답변##\n",
        "print(f'예측 정확도: {accuracy:.2f}')"
      ]
    },
    {
      "cell_type": "markdown",
      "id": "03ff7f4a",
      "metadata": {
        "id": "03ff7f4a"
      },
      "source": [
        "사이킷런의 유방암 데이터셋을 이용하여 GridSearchCV기법으로 최적파라미터를 구하는 코드를 짜세요"
      ]
    },
    {
      "cell_type": "code",
      "execution_count": null,
      "id": "aa0f3475",
      "metadata": {
        "id": "aa0f3475"
      },
      "outputs": [],
      "source": [
        "# 필요한 라이브러리 임포트\n",
        "import numpy as np\n",
        "from sklearn.datasets import load_breast_cancer\n",
        "from sklearn.model_selection import train_test_split, GridSearchCV\n",
        "from sklearn.ensemble import RandomForestClassifier\n",
        "from sklearn.metrics import accuracy_score\n",
        "\n",
        "# 데이터셋 로드\n",
        "cancer = load_breast_cancer()\n",
        "X = cancer.data\n",
        "y = cancer.target\n",
        "\n",
        "# 데이터셋을 훈련 세트와 테스트 세트로 분리 (test_size =0.2, random_state=42)\n",
        "X_train, X_test, y_train, y_test = ##답변##\n",
        "\n",
        "# 랜덤 포레스트 모델 생성(random_stae=42)\n",
        "model = ##답변##\n",
        "\n",
        "# 하이퍼파라미터 그리드 설정\n",
        "param_grid = {\n",
        "    'n_estimators': [50, 100, 200],\n",
        "    'max_features': ['auto', 'sqrt'],\n",
        "    'max_depth': [None, 10, 20],\n",
        "    'min_samples_split': [2, 5],\n",
        "    'min_samples_leaf': [1, 2]\n",
        "}\n",
        "\n",
        "# GridSearchCV를 사용하여 최적 파라미터 찾기(cv=5, n_jobs=-1, verbose=2)\n",
        "grid_search = ##답변##\n",
        "\n",
        "grid_search.##답변##\n",
        "\n",
        "# 최적 하이퍼파라미터 및 최고 예측정확도\n",
        "print('최적 하이퍼파라미터:', ##답변##)\n",
        "print('최고 예측 정확도: {:.4f}'.format(##답변##))\n",
        "\n",
        "# 최적 파라미터로 모델 훈련 및 테스트\n",
        "best_model = ##답변##\n",
        "y_pred = ##답변##\n",
        "\n",
        "# 테스트 세트 정확도 평가\n",
        "accuracy = ##답변##\n",
        "print(f'테스트 세트 예측 정확도: {accuracy:.2f}')"
      ]
    }
  ],
  "metadata": {
    "colab": {
      "provenance": []
    },
    "language_info": {
      "name": "python"
    }
  },
  "nbformat": 4,
  "nbformat_minor": 5
}