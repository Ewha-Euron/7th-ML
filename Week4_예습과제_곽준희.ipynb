{
  "cells": [
    {
      "cell_type": "markdown",
      "metadata": {
        "id": "KOSl0uzbmfYU"
      },
      "source": [
        "## 4.5 GBM(Gradient Boosting Machine)"
      ]
    },
    {
      "cell_type": "code",
      "execution_count": null,
      "metadata": {
        "id": "132uYSIemfYU"
      },
      "outputs": [],
      "source": [
        "from sklearn.ensemble import GradientBoostingClassifier\n",
        "import time\n",
        "import warnings\n",
        "warnings.filterwarnings('ignore')\n",
        "\n",
        "X_train, X_test, y_train, y_test = get_human_dataset()\n",
        "\n",
        "# GBM 수행 시간 측정을 위함. 시작 시간 설정.\n",
        "start_time = time.time()\n",
        "\n",
        "gb_clf = GradientBoostingClassifier(random_state=0)\n",
        "gb_clf.fit(X_train , y_train)\n",
        "gb_pred = gb_clf.predict(X_test)\n",
        "gb_accuracy = accuracy_score(y_test, gb_pred)\n",
        "\n",
        "print('GBM 정확도: {0:.4f}'.format(gb_accuracy))\n",
        "print(\"GBM 수행 시간: {0:.1f} 초 \".format(time.time() - start_time))"
      ]
    },
    {
      "cell_type": "code",
      "execution_count": null,
      "metadata": {
        "id": "9OmaT6iImfYU"
      },
      "outputs": [],
      "source": [
        "from sklearn.model_selection import GridSearchCV\n",
        "\n",
        "params = {\n",
        "    'n_estimators':[100, 500],\n",
        "    'learning_rate' : [ 0.05, 0.1]\n",
        "}\n",
        "grid_cv = GridSearchCV(gb_clf , param_grid=params , cv=2 ,verbose=1)\n",
        "grid_cv.fit(X_train , y_train)\n",
        "print('최적 하이퍼 파라미터:\\n', grid_cv.best_params_)\n",
        "print('최고 예측 정확도: {0:.4f}'.format(grid_cv.best_score_))"
      ]
    },
    {
      "cell_type": "code",
      "execution_count": null,
      "metadata": {
        "id": "8R3n8jUXmfYU"
      },
      "outputs": [],
      "source": [
        "# GridSearchCV를 이용하여 최적으로 학습된 estimator로 predict 수행.\n",
        "gb_pred = grid_cv.best_estimator_.predict(X_test)\n",
        "gb_accuracy = accuracy_score(y_test, gb_pred)\n",
        "print('GBM 정확도: {0:.4f}'.format(gb_accuracy))"
      ]
    },
    {
      "cell_type": "markdown",
      "metadata": {
        "id": "P0wI9lTEm5-n"
      },
      "source": [
        "XGBoost 설치하기"
      ]
    },
    {
      "cell_type": "code",
      "execution_count": null,
      "metadata": {
        "id": "uIMpK-smnAIx"
      },
      "outputs": [],
      "source": [
        "import xgboost as xgb\n",
        "from xgboost import XGBClassifier"
      ]
    },
    {
      "cell_type": "markdown",
      "metadata": {
        "id": "fuotHsfEnBbq"
      },
      "source": [
        "### 파이썬 래퍼 XGBoost 적용 – 위스콘신 유방암 예측"
      ]
    },
    {
      "cell_type": "code",
      "execution_count": null,
      "metadata": {
        "id": "VW3-Tl5tnD5U",
        "colab": {
          "base_uri": "https://localhost:8080/",
          "height": 227
        },
        "outputId": "cb347222-bf55-4cdb-eaeb-aa3a8a1b9a5e"
      },
      "outputs": [
        {
          "output_type": "execute_result",
          "data": {
            "text/plain": [
              "   mean radius  mean texture  mean perimeter  mean area  mean smoothness  \\\n",
              "0        17.99         10.38           122.8     1001.0          0.11840   \n",
              "1        20.57         17.77           132.9     1326.0          0.08474   \n",
              "2        19.69         21.25           130.0     1203.0          0.10960   \n",
              "\n",
              "   mean compactness  mean concavity  mean concave points  mean symmetry  \\\n",
              "0           0.27760          0.3001              0.14710         0.2419   \n",
              "1           0.07864          0.0869              0.07017         0.1812   \n",
              "2           0.15990          0.1974              0.12790         0.2069   \n",
              "\n",
              "   mean fractal dimension  ...  worst texture  worst perimeter  worst area  \\\n",
              "0                 0.07871  ...          17.33            184.6      2019.0   \n",
              "1                 0.05667  ...          23.41            158.8      1956.0   \n",
              "2                 0.05999  ...          25.53            152.5      1709.0   \n",
              "\n",
              "   worst smoothness  worst compactness  worst concavity  worst concave points  \\\n",
              "0            0.1622             0.6656           0.7119                0.2654   \n",
              "1            0.1238             0.1866           0.2416                0.1860   \n",
              "2            0.1444             0.4245           0.4504                0.2430   \n",
              "\n",
              "   worst symmetry  worst fractal dimension  target  \n",
              "0          0.4601                  0.11890       0  \n",
              "1          0.2750                  0.08902       0  \n",
              "2          0.3613                  0.08758       0  \n",
              "\n",
              "[3 rows x 31 columns]"
            ],
            "text/html": [
              "\n",
              "  <div id=\"df-ad828ee6-174f-4682-a972-c5ceccfbab84\" class=\"colab-df-container\">\n",
              "    <div>\n",
              "<style scoped>\n",
              "    .dataframe tbody tr th:only-of-type {\n",
              "        vertical-align: middle;\n",
              "    }\n",
              "\n",
              "    .dataframe tbody tr th {\n",
              "        vertical-align: top;\n",
              "    }\n",
              "\n",
              "    .dataframe thead th {\n",
              "        text-align: right;\n",
              "    }\n",
              "</style>\n",
              "<table border=\"1\" class=\"dataframe\">\n",
              "  <thead>\n",
              "    <tr style=\"text-align: right;\">\n",
              "      <th></th>\n",
              "      <th>mean radius</th>\n",
              "      <th>mean texture</th>\n",
              "      <th>mean perimeter</th>\n",
              "      <th>mean area</th>\n",
              "      <th>mean smoothness</th>\n",
              "      <th>mean compactness</th>\n",
              "      <th>mean concavity</th>\n",
              "      <th>mean concave points</th>\n",
              "      <th>mean symmetry</th>\n",
              "      <th>mean fractal dimension</th>\n",
              "      <th>...</th>\n",
              "      <th>worst texture</th>\n",
              "      <th>worst perimeter</th>\n",
              "      <th>worst area</th>\n",
              "      <th>worst smoothness</th>\n",
              "      <th>worst compactness</th>\n",
              "      <th>worst concavity</th>\n",
              "      <th>worst concave points</th>\n",
              "      <th>worst symmetry</th>\n",
              "      <th>worst fractal dimension</th>\n",
              "      <th>target</th>\n",
              "    </tr>\n",
              "  </thead>\n",
              "  <tbody>\n",
              "    <tr>\n",
              "      <th>0</th>\n",
              "      <td>17.99</td>\n",
              "      <td>10.38</td>\n",
              "      <td>122.8</td>\n",
              "      <td>1001.0</td>\n",
              "      <td>0.11840</td>\n",
              "      <td>0.27760</td>\n",
              "      <td>0.3001</td>\n",
              "      <td>0.14710</td>\n",
              "      <td>0.2419</td>\n",
              "      <td>0.07871</td>\n",
              "      <td>...</td>\n",
              "      <td>17.33</td>\n",
              "      <td>184.6</td>\n",
              "      <td>2019.0</td>\n",
              "      <td>0.1622</td>\n",
              "      <td>0.6656</td>\n",
              "      <td>0.7119</td>\n",
              "      <td>0.2654</td>\n",
              "      <td>0.4601</td>\n",
              "      <td>0.11890</td>\n",
              "      <td>0</td>\n",
              "    </tr>\n",
              "    <tr>\n",
              "      <th>1</th>\n",
              "      <td>20.57</td>\n",
              "      <td>17.77</td>\n",
              "      <td>132.9</td>\n",
              "      <td>1326.0</td>\n",
              "      <td>0.08474</td>\n",
              "      <td>0.07864</td>\n",
              "      <td>0.0869</td>\n",
              "      <td>0.07017</td>\n",
              "      <td>0.1812</td>\n",
              "      <td>0.05667</td>\n",
              "      <td>...</td>\n",
              "      <td>23.41</td>\n",
              "      <td>158.8</td>\n",
              "      <td>1956.0</td>\n",
              "      <td>0.1238</td>\n",
              "      <td>0.1866</td>\n",
              "      <td>0.2416</td>\n",
              "      <td>0.1860</td>\n",
              "      <td>0.2750</td>\n",
              "      <td>0.08902</td>\n",
              "      <td>0</td>\n",
              "    </tr>\n",
              "    <tr>\n",
              "      <th>2</th>\n",
              "      <td>19.69</td>\n",
              "      <td>21.25</td>\n",
              "      <td>130.0</td>\n",
              "      <td>1203.0</td>\n",
              "      <td>0.10960</td>\n",
              "      <td>0.15990</td>\n",
              "      <td>0.1974</td>\n",
              "      <td>0.12790</td>\n",
              "      <td>0.2069</td>\n",
              "      <td>0.05999</td>\n",
              "      <td>...</td>\n",
              "      <td>25.53</td>\n",
              "      <td>152.5</td>\n",
              "      <td>1709.0</td>\n",
              "      <td>0.1444</td>\n",
              "      <td>0.4245</td>\n",
              "      <td>0.4504</td>\n",
              "      <td>0.2430</td>\n",
              "      <td>0.3613</td>\n",
              "      <td>0.08758</td>\n",
              "      <td>0</td>\n",
              "    </tr>\n",
              "  </tbody>\n",
              "</table>\n",
              "<p>3 rows × 31 columns</p>\n",
              "</div>\n",
              "    <div class=\"colab-df-buttons\">\n",
              "\n",
              "  <div class=\"colab-df-container\">\n",
              "    <button class=\"colab-df-convert\" onclick=\"convertToInteractive('df-ad828ee6-174f-4682-a972-c5ceccfbab84')\"\n",
              "            title=\"Convert this dataframe to an interactive table.\"\n",
              "            style=\"display:none;\">\n",
              "\n",
              "  <svg xmlns=\"http://www.w3.org/2000/svg\" height=\"24px\" viewBox=\"0 -960 960 960\">\n",
              "    <path d=\"M120-120v-720h720v720H120Zm60-500h600v-160H180v160Zm220 220h160v-160H400v160Zm0 220h160v-160H400v160ZM180-400h160v-160H180v160Zm440 0h160v-160H620v160ZM180-180h160v-160H180v160Zm440 0h160v-160H620v160Z\"/>\n",
              "  </svg>\n",
              "    </button>\n",
              "\n",
              "  <style>\n",
              "    .colab-df-container {\n",
              "      display:flex;\n",
              "      gap: 12px;\n",
              "    }\n",
              "\n",
              "    .colab-df-convert {\n",
              "      background-color: #E8F0FE;\n",
              "      border: none;\n",
              "      border-radius: 50%;\n",
              "      cursor: pointer;\n",
              "      display: none;\n",
              "      fill: #1967D2;\n",
              "      height: 32px;\n",
              "      padding: 0 0 0 0;\n",
              "      width: 32px;\n",
              "    }\n",
              "\n",
              "    .colab-df-convert:hover {\n",
              "      background-color: #E2EBFA;\n",
              "      box-shadow: 0px 1px 2px rgba(60, 64, 67, 0.3), 0px 1px 3px 1px rgba(60, 64, 67, 0.15);\n",
              "      fill: #174EA6;\n",
              "    }\n",
              "\n",
              "    .colab-df-buttons div {\n",
              "      margin-bottom: 4px;\n",
              "    }\n",
              "\n",
              "    [theme=dark] .colab-df-convert {\n",
              "      background-color: #3B4455;\n",
              "      fill: #D2E3FC;\n",
              "    }\n",
              "\n",
              "    [theme=dark] .colab-df-convert:hover {\n",
              "      background-color: #434B5C;\n",
              "      box-shadow: 0px 1px 3px 1px rgba(0, 0, 0, 0.15);\n",
              "      filter: drop-shadow(0px 1px 2px rgba(0, 0, 0, 0.3));\n",
              "      fill: #FFFFFF;\n",
              "    }\n",
              "  </style>\n",
              "\n",
              "    <script>\n",
              "      const buttonEl =\n",
              "        document.querySelector('#df-ad828ee6-174f-4682-a972-c5ceccfbab84 button.colab-df-convert');\n",
              "      buttonEl.style.display =\n",
              "        google.colab.kernel.accessAllowed ? 'block' : 'none';\n",
              "\n",
              "      async function convertToInteractive(key) {\n",
              "        const element = document.querySelector('#df-ad828ee6-174f-4682-a972-c5ceccfbab84');\n",
              "        const dataTable =\n",
              "          await google.colab.kernel.invokeFunction('convertToInteractive',\n",
              "                                                    [key], {});\n",
              "        if (!dataTable) return;\n",
              "\n",
              "        const docLinkHtml = 'Like what you see? Visit the ' +\n",
              "          '<a target=\"_blank\" href=https://colab.research.google.com/notebooks/data_table.ipynb>data table notebook</a>'\n",
              "          + ' to learn more about interactive tables.';\n",
              "        element.innerHTML = '';\n",
              "        dataTable['output_type'] = 'display_data';\n",
              "        await google.colab.output.renderOutput(dataTable, element);\n",
              "        const docLink = document.createElement('div');\n",
              "        docLink.innerHTML = docLinkHtml;\n",
              "        element.appendChild(docLink);\n",
              "      }\n",
              "    </script>\n",
              "  </div>\n",
              "\n",
              "\n",
              "<div id=\"df-3b62669f-34ca-4606-bbc7-47013b3f2ad4\">\n",
              "  <button class=\"colab-df-quickchart\" onclick=\"quickchart('df-3b62669f-34ca-4606-bbc7-47013b3f2ad4')\"\n",
              "            title=\"Suggest charts\"\n",
              "            style=\"display:none;\">\n",
              "\n",
              "<svg xmlns=\"http://www.w3.org/2000/svg\" height=\"24px\"viewBox=\"0 0 24 24\"\n",
              "     width=\"24px\">\n",
              "    <g>\n",
              "        <path d=\"M19 3H5c-1.1 0-2 .9-2 2v14c0 1.1.9 2 2 2h14c1.1 0 2-.9 2-2V5c0-1.1-.9-2-2-2zM9 17H7v-7h2v7zm4 0h-2V7h2v10zm4 0h-2v-4h2v4z\"/>\n",
              "    </g>\n",
              "</svg>\n",
              "  </button>\n",
              "\n",
              "<style>\n",
              "  .colab-df-quickchart {\n",
              "      --bg-color: #E8F0FE;\n",
              "      --fill-color: #1967D2;\n",
              "      --hover-bg-color: #E2EBFA;\n",
              "      --hover-fill-color: #174EA6;\n",
              "      --disabled-fill-color: #AAA;\n",
              "      --disabled-bg-color: #DDD;\n",
              "  }\n",
              "\n",
              "  [theme=dark] .colab-df-quickchart {\n",
              "      --bg-color: #3B4455;\n",
              "      --fill-color: #D2E3FC;\n",
              "      --hover-bg-color: #434B5C;\n",
              "      --hover-fill-color: #FFFFFF;\n",
              "      --disabled-bg-color: #3B4455;\n",
              "      --disabled-fill-color: #666;\n",
              "  }\n",
              "\n",
              "  .colab-df-quickchart {\n",
              "    background-color: var(--bg-color);\n",
              "    border: none;\n",
              "    border-radius: 50%;\n",
              "    cursor: pointer;\n",
              "    display: none;\n",
              "    fill: var(--fill-color);\n",
              "    height: 32px;\n",
              "    padding: 0;\n",
              "    width: 32px;\n",
              "  }\n",
              "\n",
              "  .colab-df-quickchart:hover {\n",
              "    background-color: var(--hover-bg-color);\n",
              "    box-shadow: 0 1px 2px rgba(60, 64, 67, 0.3), 0 1px 3px 1px rgba(60, 64, 67, 0.15);\n",
              "    fill: var(--button-hover-fill-color);\n",
              "  }\n",
              "\n",
              "  .colab-df-quickchart-complete:disabled,\n",
              "  .colab-df-quickchart-complete:disabled:hover {\n",
              "    background-color: var(--disabled-bg-color);\n",
              "    fill: var(--disabled-fill-color);\n",
              "    box-shadow: none;\n",
              "  }\n",
              "\n",
              "  .colab-df-spinner {\n",
              "    border: 2px solid var(--fill-color);\n",
              "    border-color: transparent;\n",
              "    border-bottom-color: var(--fill-color);\n",
              "    animation:\n",
              "      spin 1s steps(1) infinite;\n",
              "  }\n",
              "\n",
              "  @keyframes spin {\n",
              "    0% {\n",
              "      border-color: transparent;\n",
              "      border-bottom-color: var(--fill-color);\n",
              "      border-left-color: var(--fill-color);\n",
              "    }\n",
              "    20% {\n",
              "      border-color: transparent;\n",
              "      border-left-color: var(--fill-color);\n",
              "      border-top-color: var(--fill-color);\n",
              "    }\n",
              "    30% {\n",
              "      border-color: transparent;\n",
              "      border-left-color: var(--fill-color);\n",
              "      border-top-color: var(--fill-color);\n",
              "      border-right-color: var(--fill-color);\n",
              "    }\n",
              "    40% {\n",
              "      border-color: transparent;\n",
              "      border-right-color: var(--fill-color);\n",
              "      border-top-color: var(--fill-color);\n",
              "    }\n",
              "    60% {\n",
              "      border-color: transparent;\n",
              "      border-right-color: var(--fill-color);\n",
              "    }\n",
              "    80% {\n",
              "      border-color: transparent;\n",
              "      border-right-color: var(--fill-color);\n",
              "      border-bottom-color: var(--fill-color);\n",
              "    }\n",
              "    90% {\n",
              "      border-color: transparent;\n",
              "      border-bottom-color: var(--fill-color);\n",
              "    }\n",
              "  }\n",
              "</style>\n",
              "\n",
              "  <script>\n",
              "    async function quickchart(key) {\n",
              "      const quickchartButtonEl =\n",
              "        document.querySelector('#' + key + ' button');\n",
              "      quickchartButtonEl.disabled = true;  // To prevent multiple clicks.\n",
              "      quickchartButtonEl.classList.add('colab-df-spinner');\n",
              "      try {\n",
              "        const charts = await google.colab.kernel.invokeFunction(\n",
              "            'suggestCharts', [key], {});\n",
              "      } catch (error) {\n",
              "        console.error('Error during call to suggestCharts:', error);\n",
              "      }\n",
              "      quickchartButtonEl.classList.remove('colab-df-spinner');\n",
              "      quickchartButtonEl.classList.add('colab-df-quickchart-complete');\n",
              "    }\n",
              "    (() => {\n",
              "      let quickchartButtonEl =\n",
              "        document.querySelector('#df-3b62669f-34ca-4606-bbc7-47013b3f2ad4 button');\n",
              "      quickchartButtonEl.style.display =\n",
              "        google.colab.kernel.accessAllowed ? 'block' : 'none';\n",
              "    })();\n",
              "  </script>\n",
              "</div>\n",
              "\n",
              "    </div>\n",
              "  </div>\n"
            ],
            "application/vnd.google.colaboratory.intrinsic+json": {
              "type": "dataframe",
              "variable_name": "cancer_df"
            }
          },
          "metadata": {},
          "execution_count": 14
        }
      ],
      "source": [
        "import xgboost as xgb\n",
        "from xgboost import plot_importance\n",
        "import pandas as pd\n",
        "import numpy as np\n",
        "from sklearn.datasets import load_breast_cancer\n",
        "from sklearn.model_selection import train_test_split\n",
        "import warnings\n",
        "warnings.filterwarnings('ignore')\n",
        "\n",
        "dataset = load_breast_cancer()\n",
        "X_features= dataset.data\n",
        "y_label = dataset.target\n",
        "\n",
        "cancer_df = pd.DataFrame(data=X_features, columns=dataset.feature_names)\n",
        "cancer_df['target']= y_label\n",
        "cancer_df.head(3)\n"
      ]
    },
    {
      "cell_type": "code",
      "execution_count": null,
      "metadata": {
        "id": "Eg3r_BRsnHbq",
        "colab": {
          "base_uri": "https://localhost:8080/"
        },
        "outputId": "22f17ff2-e09b-4a83-9859-05d674901a14"
      },
      "outputs": [
        {
          "output_type": "stream",
          "name": "stdout",
          "text": [
            "['malignant' 'benign']\n",
            "target\n",
            "1    357\n",
            "0    212\n",
            "Name: count, dtype: int64\n"
          ]
        }
      ],
      "source": [
        "print(dataset.target_names)\n",
        "print(cancer_df['target'].value_counts())"
      ]
    },
    {
      "cell_type": "code",
      "execution_count": null,
      "metadata": {
        "id": "nj2DF3LcHRsS",
        "colab": {
          "base_uri": "https://localhost:8080/"
        },
        "outputId": "6e994828-0114-42f0-cd07-d7f95c371b1e"
      },
      "outputs": [
        {
          "output_type": "stream",
          "name": "stdout",
          "text": [
            "(455, 30) (114, 30)\n"
          ]
        }
      ],
      "source": [
        "# 전체 데이터 중 80%는 학습용 데이터, 20%는 테스트용 데이터 추출\n",
        "X_train, X_test, y_train, y_test=train_test_split(X_features, y_label,\n",
        "                                                  test_size=0.2, random_state=156)\n",
        "print(X_train.shape, X_test.shape)"
      ]
    },
    {
      "cell_type": "code",
      "execution_count": null,
      "metadata": {
        "id": "EeSy5fZJnHmm"
      },
      "outputs": [],
      "source": [
        "dtrain = xgb.DMatrix(data=X_train, label=y_train)\n",
        "dtest = xgb.DMatrix(data=X_test, label=y_test)"
      ]
    },
    {
      "cell_type": "code",
      "execution_count": null,
      "metadata": {
        "id": "hLLAuvxDnHpQ"
      },
      "outputs": [],
      "source": [
        "params = {'max_dapth':3,\n",
        "          'eta':0.1,\n",
        "          'objective':'binary:logistic',\n",
        "          'eval_metric':'logloss',\n",
        "          'early_stoppings':100\n",
        "          }\n",
        "num_rounds = 400"
      ]
    },
    {
      "cell_type": "code",
      "execution_count": null,
      "metadata": {
        "id": "yT-vQEk3nHrs",
        "colab": {
          "base_uri": "https://localhost:8080/"
        },
        "outputId": "83348872-6d8c-4dd3-c9c9-d2d852fc2d91"
      },
      "outputs": [
        {
          "output_type": "stream",
          "name": "stdout",
          "text": [
            "[0]\ttrain-logloss:0.58257\teval-logloss:0.56630\n",
            "[1]\ttrain-logloss:0.51526\teval-logloss:0.50767\n",
            "[2]\ttrain-logloss:0.45941\teval-logloss:0.45931\n",
            "[3]\ttrain-logloss:0.41101\teval-logloss:0.41858\n",
            "[4]\ttrain-logloss:0.36893\teval-logloss:0.38365\n",
            "[5]\ttrain-logloss:0.33346\teval-logloss:0.35438\n",
            "[6]\ttrain-logloss:0.30162\teval-logloss:0.32596\n",
            "[7]\ttrain-logloss:0.27364\teval-logloss:0.30347\n",
            "[8]\ttrain-logloss:0.24879\teval-logloss:0.28453\n",
            "[9]\ttrain-logloss:0.22671\teval-logloss:0.26523\n",
            "[10]\ttrain-logloss:0.20701\teval-logloss:0.25142\n",
            "[11]\ttrain-logloss:0.18956\teval-logloss:0.23921\n",
            "[12]\ttrain-logloss:0.17423\teval-logloss:0.22550\n",
            "[13]\ttrain-logloss:0.16005\teval-logloss:0.21641\n",
            "[14]\ttrain-logloss:0.14765\teval-logloss:0.20760\n",
            "[15]\ttrain-logloss:0.13630\teval-logloss:0.20079\n",
            "[16]\ttrain-logloss:0.12636\teval-logloss:0.19029\n",
            "[17]\ttrain-logloss:0.11731\teval-logloss:0.18281\n",
            "[18]\ttrain-logloss:0.10910\teval-logloss:0.17598\n",
            "[19]\ttrain-logloss:0.10160\teval-logloss:0.16942\n",
            "[20]\ttrain-logloss:0.09463\teval-logloss:0.16286\n",
            "[21]\ttrain-logloss:0.08841\teval-logloss:0.15946\n",
            "[22]\ttrain-logloss:0.08234\teval-logloss:0.15331\n",
            "[23]\ttrain-logloss:0.07747\teval-logloss:0.14608\n",
            "[24]\ttrain-logloss:0.07252\teval-logloss:0.14035\n",
            "[25]\ttrain-logloss:0.06811\teval-logloss:0.13581\n",
            "[26]\ttrain-logloss:0.06396\teval-logloss:0.13249\n",
            "[27]\ttrain-logloss:0.06026\teval-logloss:0.13034\n",
            "[28]\ttrain-logloss:0.05713\teval-logloss:0.12504\n",
            "[29]\ttrain-logloss:0.05395\teval-logloss:0.12244\n",
            "[30]\ttrain-logloss:0.05089\teval-logloss:0.11909\n",
            "[31]\ttrain-logloss:0.04830\teval-logloss:0.11696\n",
            "[32]\ttrain-logloss:0.04603\teval-logloss:0.11628\n",
            "[33]\ttrain-logloss:0.04407\teval-logloss:0.11245\n",
            "[34]\ttrain-logloss:0.04171\teval-logloss:0.11067\n",
            "[35]\ttrain-logloss:0.03968\teval-logloss:0.10877\n",
            "[36]\ttrain-logloss:0.03785\teval-logloss:0.10739\n",
            "[37]\ttrain-logloss:0.03613\teval-logloss:0.10578\n",
            "[38]\ttrain-logloss:0.03452\teval-logloss:0.10454\n",
            "[39]\ttrain-logloss:0.03298\teval-logloss:0.10349\n",
            "[40]\ttrain-logloss:0.03150\teval-logloss:0.10467\n",
            "[41]\ttrain-logloss:0.03034\teval-logloss:0.10344\n",
            "[42]\ttrain-logloss:0.02921\teval-logloss:0.10267\n",
            "[43]\ttrain-logloss:0.02815\teval-logloss:0.10232\n",
            "[44]\ttrain-logloss:0.02716\teval-logloss:0.10104\n",
            "[45]\ttrain-logloss:0.02618\teval-logloss:0.10013\n",
            "[46]\ttrain-logloss:0.02530\teval-logloss:0.09942\n",
            "[47]\ttrain-logloss:0.02438\teval-logloss:0.10060\n",
            "[48]\ttrain-logloss:0.02345\teval-logloss:0.09963\n",
            "[49]\ttrain-logloss:0.02267\teval-logloss:0.10077\n",
            "[50]\ttrain-logloss:0.02200\teval-logloss:0.10067\n",
            "[51]\ttrain-logloss:0.02137\teval-logloss:0.09957\n",
            "[52]\ttrain-logloss:0.02072\teval-logloss:0.09814\n",
            "[53]\ttrain-logloss:0.02016\teval-logloss:0.09820\n",
            "[54]\ttrain-logloss:0.01965\teval-logloss:0.09751\n",
            "[55]\ttrain-logloss:0.01913\teval-logloss:0.09866\n",
            "[56]\ttrain-logloss:0.01865\teval-logloss:0.09716\n",
            "[57]\ttrain-logloss:0.01820\teval-logloss:0.09722\n",
            "[58]\ttrain-logloss:0.01773\teval-logloss:0.09750\n",
            "[59]\ttrain-logloss:0.01733\teval-logloss:0.09762\n",
            "[60]\ttrain-logloss:0.01700\teval-logloss:0.09718\n",
            "[61]\ttrain-logloss:0.01663\teval-logloss:0.09628\n",
            "[62]\ttrain-logloss:0.01628\teval-logloss:0.09660\n",
            "[63]\ttrain-logloss:0.01594\teval-logloss:0.09705\n",
            "[64]\ttrain-logloss:0.01554\teval-logloss:0.09708\n",
            "[65]\ttrain-logloss:0.01525\teval-logloss:0.09746\n",
            "[66]\ttrain-logloss:0.01494\teval-logloss:0.09669\n",
            "[67]\ttrain-logloss:0.01464\teval-logloss:0.09725\n",
            "[68]\ttrain-logloss:0.01441\teval-logloss:0.09745\n",
            "[69]\ttrain-logloss:0.01416\teval-logloss:0.09734\n",
            "[70]\ttrain-logloss:0.01387\teval-logloss:0.09649\n",
            "[71]\ttrain-logloss:0.01360\teval-logloss:0.09699\n",
            "[72]\ttrain-logloss:0.01336\teval-logloss:0.09670\n",
            "[73]\ttrain-logloss:0.01321\teval-logloss:0.09647\n",
            "[74]\ttrain-logloss:0.01295\teval-logloss:0.09641\n",
            "[75]\ttrain-logloss:0.01281\teval-logloss:0.09579\n",
            "[76]\ttrain-logloss:0.01262\teval-logloss:0.09500\n",
            "[77]\ttrain-logloss:0.01247\teval-logloss:0.09447\n",
            "[78]\ttrain-logloss:0.01234\teval-logloss:0.09461\n",
            "[79]\ttrain-logloss:0.01220\teval-logloss:0.09418\n",
            "[80]\ttrain-logloss:0.01204\teval-logloss:0.09373\n",
            "[81]\ttrain-logloss:0.01192\teval-logloss:0.09287\n",
            "[82]\ttrain-logloss:0.01180\teval-logloss:0.09267\n",
            "[83]\ttrain-logloss:0.01162\teval-logloss:0.09270\n",
            "[84]\ttrain-logloss:0.01143\teval-logloss:0.09330\n",
            "[85]\ttrain-logloss:0.01132\teval-logloss:0.09308\n",
            "[86]\ttrain-logloss:0.01122\teval-logloss:0.09229\n",
            "[87]\ttrain-logloss:0.01111\teval-logloss:0.09251\n",
            "[88]\ttrain-logloss:0.01097\teval-logloss:0.09258\n",
            "[89]\ttrain-logloss:0.01080\teval-logloss:0.09329\n",
            "[90]\ttrain-logloss:0.01068\teval-logloss:0.09287\n",
            "[91]\ttrain-logloss:0.01059\teval-logloss:0.09267\n",
            "[92]\ttrain-logloss:0.01050\teval-logloss:0.09211\n",
            "[93]\ttrain-logloss:0.01034\teval-logloss:0.09235\n",
            "[94]\ttrain-logloss:0.01024\teval-logloss:0.09195\n",
            "[95]\ttrain-logloss:0.01015\teval-logloss:0.09218\n",
            "[96]\ttrain-logloss:0.01004\teval-logloss:0.09218\n",
            "[97]\ttrain-logloss:0.00989\teval-logloss:0.09201\n",
            "[98]\ttrain-logloss:0.00982\teval-logloss:0.09181\n",
            "[99]\ttrain-logloss:0.00974\teval-logloss:0.09195\n",
            "[100]\ttrain-logloss:0.00960\teval-logloss:0.09220\n",
            "[101]\ttrain-logloss:0.00956\teval-logloss:0.09228\n",
            "[102]\ttrain-logloss:0.00947\teval-logloss:0.09191\n",
            "[103]\ttrain-logloss:0.00939\teval-logloss:0.09213\n",
            "[104]\ttrain-logloss:0.00927\teval-logloss:0.09199\n",
            "[105]\ttrain-logloss:0.00920\teval-logloss:0.09149\n",
            "[106]\ttrain-logloss:0.00914\teval-logloss:0.09116\n",
            "[107]\ttrain-logloss:0.00903\teval-logloss:0.09141\n",
            "[108]\ttrain-logloss:0.00895\teval-logloss:0.09127\n",
            "[109]\ttrain-logloss:0.00892\teval-logloss:0.09136\n",
            "[110]\ttrain-logloss:0.00885\teval-logloss:0.09159\n",
            "[111]\ttrain-logloss:0.00879\teval-logloss:0.09138\n",
            "[112]\ttrain-logloss:0.00876\teval-logloss:0.09147\n",
            "[113]\ttrain-logloss:0.00865\teval-logloss:0.09226\n",
            "[114]\ttrain-logloss:0.00860\teval-logloss:0.09195\n",
            "[115]\ttrain-logloss:0.00854\teval-logloss:0.09184\n",
            "[116]\ttrain-logloss:0.00850\teval-logloss:0.09171\n",
            "[117]\ttrain-logloss:0.00840\teval-logloss:0.09228\n",
            "[118]\ttrain-logloss:0.00837\teval-logloss:0.09201\n",
            "[119]\ttrain-logloss:0.00834\teval-logloss:0.09189\n",
            "[120]\ttrain-logloss:0.00828\teval-logloss:0.09151\n",
            "[121]\ttrain-logloss:0.00818\teval-logloss:0.09176\n",
            "[122]\ttrain-logloss:0.00812\teval-logloss:0.09147\n",
            "[123]\ttrain-logloss:0.00807\teval-logloss:0.09112\n",
            "[124]\ttrain-logloss:0.00804\teval-logloss:0.09100\n",
            "[125]\ttrain-logloss:0.00801\teval-logloss:0.09074\n",
            "[126]\ttrain-logloss:0.00792\teval-logloss:0.09165\n",
            "[127]\ttrain-logloss:0.00790\teval-logloss:0.09154\n",
            "[128]\ttrain-logloss:0.00787\teval-logloss:0.09163\n",
            "[129]\ttrain-logloss:0.00779\teval-logloss:0.09188\n",
            "[130]\ttrain-logloss:0.00775\teval-logloss:0.09172\n",
            "[131]\ttrain-logloss:0.00772\teval-logloss:0.09147\n",
            "[132]\ttrain-logloss:0.00769\teval-logloss:0.09137\n",
            "[133]\ttrain-logloss:0.00767\teval-logloss:0.09121\n",
            "[134]\ttrain-logloss:0.00760\teval-logloss:0.09206\n",
            "[135]\ttrain-logloss:0.00757\teval-logloss:0.09197\n",
            "[136]\ttrain-logloss:0.00755\teval-logloss:0.09169\n",
            "[137]\ttrain-logloss:0.00753\teval-logloss:0.09145\n",
            "[138]\ttrain-logloss:0.00750\teval-logloss:0.09136\n",
            "[139]\ttrain-logloss:0.00748\teval-logloss:0.09121\n",
            "[140]\ttrain-logloss:0.00746\teval-logloss:0.09121\n",
            "[141]\ttrain-logloss:0.00744\teval-logloss:0.09117\n",
            "[142]\ttrain-logloss:0.00741\teval-logloss:0.09108\n",
            "[143]\ttrain-logloss:0.00739\teval-logloss:0.09081\n",
            "[144]\ttrain-logloss:0.00737\teval-logloss:0.09089\n",
            "[145]\ttrain-logloss:0.00735\teval-logloss:0.09089\n",
            "[146]\ttrain-logloss:0.00733\teval-logloss:0.09082\n",
            "[147]\ttrain-logloss:0.00730\teval-logloss:0.09067\n",
            "[148]\ttrain-logloss:0.00728\teval-logloss:0.09082\n",
            "[149]\ttrain-logloss:0.00723\teval-logloss:0.09062\n",
            "[150]\ttrain-logloss:0.00721\teval-logloss:0.09039\n",
            "[151]\ttrain-logloss:0.00719\teval-logloss:0.09031\n",
            "[152]\ttrain-logloss:0.00717\teval-logloss:0.09004\n",
            "[153]\ttrain-logloss:0.00715\teval-logloss:0.09001\n",
            "[154]\ttrain-logloss:0.00713\teval-logloss:0.08994\n",
            "[155]\ttrain-logloss:0.00711\teval-logloss:0.08968\n",
            "[156]\ttrain-logloss:0.00709\teval-logloss:0.08969\n",
            "[157]\ttrain-logloss:0.00707\teval-logloss:0.08962\n",
            "[158]\ttrain-logloss:0.00705\teval-logloss:0.08969\n",
            "[159]\ttrain-logloss:0.00703\teval-logloss:0.08993\n",
            "[160]\ttrain-logloss:0.00701\teval-logloss:0.08967\n",
            "[161]\ttrain-logloss:0.00699\teval-logloss:0.08961\n",
            "[162]\ttrain-logloss:0.00697\teval-logloss:0.08958\n",
            "[163]\ttrain-logloss:0.00696\teval-logloss:0.08937\n",
            "[164]\ttrain-logloss:0.00694\teval-logloss:0.08928\n",
            "[165]\ttrain-logloss:0.00692\teval-logloss:0.08929\n",
            "[166]\ttrain-logloss:0.00690\teval-logloss:0.08915\n",
            "[167]\ttrain-logloss:0.00688\teval-logloss:0.08930\n",
            "[168]\ttrain-logloss:0.00686\teval-logloss:0.08931\n",
            "[169]\ttrain-logloss:0.00684\teval-logloss:0.08911\n",
            "[170]\ttrain-logloss:0.00683\teval-logloss:0.08919\n",
            "[171]\ttrain-logloss:0.00681\teval-logloss:0.08914\n",
            "[172]\ttrain-logloss:0.00679\teval-logloss:0.08937\n",
            "[173]\ttrain-logloss:0.00677\teval-logloss:0.08929\n",
            "[174]\ttrain-logloss:0.00676\teval-logloss:0.08908\n",
            "[175]\ttrain-logloss:0.00674\teval-logloss:0.08923\n",
            "[176]\ttrain-logloss:0.00672\teval-logloss:0.08910\n",
            "[177]\ttrain-logloss:0.00670\teval-logloss:0.08910\n",
            "[178]\ttrain-logloss:0.00669\teval-logloss:0.08902\n",
            "[179]\ttrain-logloss:0.00667\teval-logloss:0.08905\n",
            "[180]\ttrain-logloss:0.00665\teval-logloss:0.08881\n",
            "[181]\ttrain-logloss:0.00664\teval-logloss:0.08875\n",
            "[182]\ttrain-logloss:0.00662\teval-logloss:0.08873\n",
            "[183]\ttrain-logloss:0.00660\teval-logloss:0.08853\n",
            "[184]\ttrain-logloss:0.00659\teval-logloss:0.08848\n",
            "[185]\ttrain-logloss:0.00657\teval-logloss:0.08835\n",
            "[186]\ttrain-logloss:0.00656\teval-logloss:0.08858\n",
            "[187]\ttrain-logloss:0.00654\teval-logloss:0.08834\n",
            "[188]\ttrain-logloss:0.00652\teval-logloss:0.08830\n",
            "[189]\ttrain-logloss:0.00651\teval-logloss:0.08852\n",
            "[190]\ttrain-logloss:0.00649\teval-logloss:0.08844\n",
            "[191]\ttrain-logloss:0.00648\teval-logloss:0.08852\n",
            "[192]\ttrain-logloss:0.00646\teval-logloss:0.08855\n",
            "[193]\ttrain-logloss:0.00645\teval-logloss:0.08843\n",
            "[194]\ttrain-logloss:0.00643\teval-logloss:0.08858\n",
            "[195]\ttrain-logloss:0.00642\teval-logloss:0.08853\n",
            "[196]\ttrain-logloss:0.00640\teval-logloss:0.08875\n",
            "[197]\ttrain-logloss:0.00639\teval-logloss:0.08862\n",
            "[198]\ttrain-logloss:0.00637\teval-logloss:0.08843\n",
            "[199]\ttrain-logloss:0.00636\teval-logloss:0.08836\n",
            "[200]\ttrain-logloss:0.00634\teval-logloss:0.08835\n",
            "[201]\ttrain-logloss:0.00633\teval-logloss:0.08832\n",
            "[202]\ttrain-logloss:0.00631\teval-logloss:0.08838\n",
            "[203]\ttrain-logloss:0.00630\teval-logloss:0.08860\n",
            "[204]\ttrain-logloss:0.00628\teval-logloss:0.08853\n",
            "[205]\ttrain-logloss:0.00627\teval-logloss:0.08834\n",
            "[206]\ttrain-logloss:0.00626\teval-logloss:0.08849\n",
            "[207]\ttrain-logloss:0.00624\teval-logloss:0.08848\n",
            "[208]\ttrain-logloss:0.00623\teval-logloss:0.08844\n",
            "[209]\ttrain-logloss:0.00622\teval-logloss:0.08831\n",
            "[210]\ttrain-logloss:0.00620\teval-logloss:0.08824\n",
            "[211]\ttrain-logloss:0.00619\teval-logloss:0.08830\n",
            "[212]\ttrain-logloss:0.00618\teval-logloss:0.08817\n",
            "[213]\ttrain-logloss:0.00616\teval-logloss:0.08811\n",
            "[214]\ttrain-logloss:0.00615\teval-logloss:0.08793\n",
            "[215]\ttrain-logloss:0.00614\teval-logloss:0.08790\n",
            "[216]\ttrain-logloss:0.00613\teval-logloss:0.08789\n",
            "[217]\ttrain-logloss:0.00611\teval-logloss:0.08795\n",
            "[218]\ttrain-logloss:0.00610\teval-logloss:0.08809\n",
            "[219]\ttrain-logloss:0.00609\teval-logloss:0.08797\n",
            "[220]\ttrain-logloss:0.00608\teval-logloss:0.08780\n",
            "[221]\ttrain-logloss:0.00607\teval-logloss:0.08777\n",
            "[222]\ttrain-logloss:0.00605\teval-logloss:0.08777\n",
            "[223]\ttrain-logloss:0.00604\teval-logloss:0.08783\n",
            "[224]\ttrain-logloss:0.00603\teval-logloss:0.08767\n",
            "[225]\ttrain-logloss:0.00602\teval-logloss:0.08760\n",
            "[226]\ttrain-logloss:0.00601\teval-logloss:0.08749\n",
            "[227]\ttrain-logloss:0.00599\teval-logloss:0.08763\n",
            "[228]\ttrain-logloss:0.00598\teval-logloss:0.08747\n",
            "[229]\ttrain-logloss:0.00597\teval-logloss:0.08745\n",
            "[230]\ttrain-logloss:0.00596\teval-logloss:0.08745\n",
            "[231]\ttrain-logloss:0.00595\teval-logloss:0.08750\n",
            "[232]\ttrain-logloss:0.00594\teval-logloss:0.08735\n",
            "[233]\ttrain-logloss:0.00593\teval-logloss:0.08729\n",
            "[234]\ttrain-logloss:0.00592\teval-logloss:0.08742\n",
            "[235]\ttrain-logloss:0.00591\teval-logloss:0.08740\n",
            "[236]\ttrain-logloss:0.00590\teval-logloss:0.08740\n",
            "[237]\ttrain-logloss:0.00589\teval-logloss:0.08745\n",
            "[238]\ttrain-logloss:0.00588\teval-logloss:0.08759\n",
            "[239]\ttrain-logloss:0.00586\teval-logloss:0.08772\n",
            "[240]\ttrain-logloss:0.00585\teval-logloss:0.08767\n",
            "[241]\ttrain-logloss:0.00584\teval-logloss:0.08752\n",
            "[242]\ttrain-logloss:0.00583\teval-logloss:0.08746\n",
            "[243]\ttrain-logloss:0.00582\teval-logloss:0.08759\n",
            "[244]\ttrain-logloss:0.00581\teval-logloss:0.08758\n",
            "[245]\ttrain-logloss:0.00580\teval-logloss:0.08758\n",
            "[246]\ttrain-logloss:0.00579\teval-logloss:0.08763\n",
            "[247]\ttrain-logloss:0.00578\teval-logloss:0.08751\n",
            "[248]\ttrain-logloss:0.00577\teval-logloss:0.08737\n",
            "[249]\ttrain-logloss:0.00577\teval-logloss:0.08751\n",
            "[250]\ttrain-logloss:0.00576\teval-logloss:0.08741\n",
            "[251]\ttrain-logloss:0.00575\teval-logloss:0.08736\n",
            "[252]\ttrain-logloss:0.00574\teval-logloss:0.08736\n",
            "[253]\ttrain-logloss:0.00573\teval-logloss:0.08735\n",
            "[254]\ttrain-logloss:0.00572\teval-logloss:0.08740\n",
            "[255]\ttrain-logloss:0.00571\teval-logloss:0.08753\n",
            "[256]\ttrain-logloss:0.00570\teval-logloss:0.08741\n",
            "[257]\ttrain-logloss:0.00569\teval-logloss:0.08728\n",
            "[258]\ttrain-logloss:0.00568\teval-logloss:0.08722\n",
            "[259]\ttrain-logloss:0.00567\teval-logloss:0.08727\n",
            "[260]\ttrain-logloss:0.00566\teval-logloss:0.08740\n",
            "[261]\ttrain-logloss:0.00565\teval-logloss:0.08729\n",
            "[262]\ttrain-logloss:0.00565\teval-logloss:0.08730\n",
            "[263]\ttrain-logloss:0.00564\teval-logloss:0.08734\n",
            "[264]\ttrain-logloss:0.00563\teval-logloss:0.08733\n",
            "[265]\ttrain-logloss:0.00562\teval-logloss:0.08725\n",
            "[266]\ttrain-logloss:0.00561\teval-logloss:0.08714\n",
            "[267]\ttrain-logloss:0.00560\teval-logloss:0.08700\n",
            "[268]\ttrain-logloss:0.00559\teval-logloss:0.08714\n",
            "[269]\ttrain-logloss:0.00559\teval-logloss:0.08718\n",
            "[270]\ttrain-logloss:0.00558\teval-logloss:0.08719\n",
            "[271]\ttrain-logloss:0.00557\teval-logloss:0.08708\n",
            "[272]\ttrain-logloss:0.00556\teval-logloss:0.08712\n",
            "[273]\ttrain-logloss:0.00555\teval-logloss:0.08725\n",
            "[274]\ttrain-logloss:0.00554\teval-logloss:0.08715\n",
            "[275]\ttrain-logloss:0.00554\teval-logloss:0.08719\n",
            "[276]\ttrain-logloss:0.00553\teval-logloss:0.08711\n",
            "[277]\ttrain-logloss:0.00552\teval-logloss:0.08710\n",
            "[278]\ttrain-logloss:0.00551\teval-logloss:0.08711\n",
            "[279]\ttrain-logloss:0.00550\teval-logloss:0.08715\n",
            "[280]\ttrain-logloss:0.00550\teval-logloss:0.08703\n",
            "[281]\ttrain-logloss:0.00549\teval-logloss:0.08703\n",
            "[282]\ttrain-logloss:0.00548\teval-logloss:0.08704\n",
            "[283]\ttrain-logloss:0.00547\teval-logloss:0.08716\n",
            "[284]\ttrain-logloss:0.00547\teval-logloss:0.08720\n",
            "[285]\ttrain-logloss:0.00546\teval-logloss:0.08713\n",
            "[286]\ttrain-logloss:0.00545\teval-logloss:0.08703\n",
            "[287]\ttrain-logloss:0.00544\teval-logloss:0.08715\n",
            "[288]\ttrain-logloss:0.00544\teval-logloss:0.08716\n",
            "[289]\ttrain-logloss:0.00543\teval-logloss:0.08716\n",
            "[290]\ttrain-logloss:0.00542\teval-logloss:0.08720\n",
            "[291]\ttrain-logloss:0.00542\teval-logloss:0.08713\n",
            "[292]\ttrain-logloss:0.00541\teval-logloss:0.08703\n",
            "[293]\ttrain-logloss:0.00540\teval-logloss:0.08707\n",
            "[294]\ttrain-logloss:0.00540\teval-logloss:0.08708\n",
            "[295]\ttrain-logloss:0.00539\teval-logloss:0.08708\n",
            "[296]\ttrain-logloss:0.00538\teval-logloss:0.08720\n",
            "[297]\ttrain-logloss:0.00538\teval-logloss:0.08713\n",
            "[298]\ttrain-logloss:0.00537\teval-logloss:0.08717\n",
            "[299]\ttrain-logloss:0.00536\teval-logloss:0.08708\n",
            "[300]\ttrain-logloss:0.00536\teval-logloss:0.08709\n",
            "[301]\ttrain-logloss:0.00535\teval-logloss:0.08689\n",
            "[302]\ttrain-logloss:0.00534\teval-logloss:0.08685\n",
            "[303]\ttrain-logloss:0.00534\teval-logloss:0.08697\n",
            "[304]\ttrain-logloss:0.00533\teval-logloss:0.08701\n",
            "[305]\ttrain-logloss:0.00533\teval-logloss:0.08692\n",
            "[306]\ttrain-logloss:0.00532\teval-logloss:0.08696\n",
            "[307]\ttrain-logloss:0.00531\teval-logloss:0.08700\n",
            "[308]\ttrain-logloss:0.00531\teval-logloss:0.08711\n",
            "[309]\ttrain-logloss:0.00530\teval-logloss:0.08702\n",
            "[310]\ttrain-logloss:0.00529\teval-logloss:0.08682\n",
            "[311]\ttrain-logloss:0.00529\teval-logloss:0.08686\n",
            "[312]\ttrain-logloss:0.00528\teval-logloss:0.08678\n",
            "[313]\ttrain-logloss:0.00528\teval-logloss:0.08659\n",
            "[314]\ttrain-logloss:0.00527\teval-logloss:0.08663\n",
            "[315]\ttrain-logloss:0.00527\teval-logloss:0.08663\n",
            "[316]\ttrain-logloss:0.00526\teval-logloss:0.08655\n",
            "[317]\ttrain-logloss:0.00525\teval-logloss:0.08666\n",
            "[318]\ttrain-logloss:0.00525\teval-logloss:0.08670\n",
            "[319]\ttrain-logloss:0.00524\teval-logloss:0.08662\n",
            "[320]\ttrain-logloss:0.00524\teval-logloss:0.08666\n",
            "[321]\ttrain-logloss:0.00523\teval-logloss:0.08666\n",
            "[322]\ttrain-logloss:0.00523\teval-logloss:0.08678\n",
            "[323]\ttrain-logloss:0.00522\teval-logloss:0.08669\n",
            "[324]\ttrain-logloss:0.00521\teval-logloss:0.08673\n",
            "[325]\ttrain-logloss:0.00521\teval-logloss:0.08677\n",
            "[326]\ttrain-logloss:0.00520\teval-logloss:0.08659\n",
            "[327]\ttrain-logloss:0.00520\teval-logloss:0.08651\n",
            "[328]\ttrain-logloss:0.00519\teval-logloss:0.08654\n",
            "[329]\ttrain-logloss:0.00519\teval-logloss:0.08665\n",
            "[330]\ttrain-logloss:0.00518\teval-logloss:0.08657\n",
            "[331]\ttrain-logloss:0.00518\teval-logloss:0.08661\n",
            "[332]\ttrain-logloss:0.00517\teval-logloss:0.08643\n",
            "[333]\ttrain-logloss:0.00517\teval-logloss:0.08635\n",
            "[334]\ttrain-logloss:0.00516\teval-logloss:0.08639\n",
            "[335]\ttrain-logloss:0.00516\teval-logloss:0.08640\n",
            "[336]\ttrain-logloss:0.00515\teval-logloss:0.08651\n",
            "[337]\ttrain-logloss:0.00515\teval-logloss:0.08654\n",
            "[338]\ttrain-logloss:0.00514\teval-logloss:0.08646\n",
            "[339]\ttrain-logloss:0.00514\teval-logloss:0.08650\n",
            "[340]\ttrain-logloss:0.00513\teval-logloss:0.08651\n",
            "[341]\ttrain-logloss:0.00513\teval-logloss:0.08643\n",
            "[342]\ttrain-logloss:0.00512\teval-logloss:0.08654\n",
            "[343]\ttrain-logloss:0.00512\teval-logloss:0.08658\n",
            "[344]\ttrain-logloss:0.00511\teval-logloss:0.08640\n",
            "[345]\ttrain-logloss:0.00511\teval-logloss:0.08633\n",
            "[346]\ttrain-logloss:0.00510\teval-logloss:0.08636\n",
            "[347]\ttrain-logloss:0.00510\teval-logloss:0.08640\n",
            "[348]\ttrain-logloss:0.00509\teval-logloss:0.08633\n",
            "[349]\ttrain-logloss:0.00509\teval-logloss:0.08643\n",
            "[350]\ttrain-logloss:0.00508\teval-logloss:0.08641\n",
            "[351]\ttrain-logloss:0.00508\teval-logloss:0.08645\n",
            "[352]\ttrain-logloss:0.00507\teval-logloss:0.08637\n",
            "[353]\ttrain-logloss:0.00507\teval-logloss:0.08641\n",
            "[354]\ttrain-logloss:0.00507\teval-logloss:0.08642\n",
            "[355]\ttrain-logloss:0.00506\teval-logloss:0.08635\n",
            "[356]\ttrain-logloss:0.00506\teval-logloss:0.08619\n",
            "[357]\ttrain-logloss:0.00505\teval-logloss:0.08611\n",
            "[358]\ttrain-logloss:0.00505\teval-logloss:0.08615\n",
            "[359]\ttrain-logloss:0.00504\teval-logloss:0.08625\n",
            "[360]\ttrain-logloss:0.00504\teval-logloss:0.08629\n",
            "[361]\ttrain-logloss:0.00503\teval-logloss:0.08622\n",
            "[362]\ttrain-logloss:0.00503\teval-logloss:0.08617\n",
            "[363]\ttrain-logloss:0.00503\teval-logloss:0.08626\n",
            "[364]\ttrain-logloss:0.00502\teval-logloss:0.08620\n",
            "[365]\ttrain-logloss:0.00502\teval-logloss:0.08618\n",
            "[366]\ttrain-logloss:0.00501\teval-logloss:0.08614\n",
            "[367]\ttrain-logloss:0.00501\teval-logloss:0.08617\n",
            "[368]\ttrain-logloss:0.00500\teval-logloss:0.08610\n",
            "[369]\ttrain-logloss:0.00500\teval-logloss:0.08594\n",
            "[370]\ttrain-logloss:0.00500\teval-logloss:0.08590\n",
            "[371]\ttrain-logloss:0.00499\teval-logloss:0.08584\n",
            "[372]\ttrain-logloss:0.00499\teval-logloss:0.08593\n",
            "[373]\ttrain-logloss:0.00498\teval-logloss:0.08597\n",
            "[374]\ttrain-logloss:0.00498\teval-logloss:0.08596\n",
            "[375]\ttrain-logloss:0.00497\teval-logloss:0.08591\n",
            "[376]\ttrain-logloss:0.00497\teval-logloss:0.08585\n",
            "[377]\ttrain-logloss:0.00497\teval-logloss:0.08581\n",
            "[378]\ttrain-logloss:0.00496\teval-logloss:0.08579\n",
            "[379]\ttrain-logloss:0.00496\teval-logloss:0.08573\n",
            "[380]\ttrain-logloss:0.00495\teval-logloss:0.08582\n",
            "[381]\ttrain-logloss:0.00495\teval-logloss:0.08577\n",
            "[382]\ttrain-logloss:0.00495\teval-logloss:0.08570\n",
            "[383]\ttrain-logloss:0.00494\teval-logloss:0.08574\n",
            "[384]\ttrain-logloss:0.00494\teval-logloss:0.08570\n",
            "[385]\ttrain-logloss:0.00493\teval-logloss:0.08554\n",
            "[386]\ttrain-logloss:0.00493\teval-logloss:0.08553\n",
            "[387]\ttrain-logloss:0.00493\teval-logloss:0.08547\n",
            "[388]\ttrain-logloss:0.00492\teval-logloss:0.08543\n",
            "[389]\ttrain-logloss:0.00492\teval-logloss:0.08541\n",
            "[390]\ttrain-logloss:0.00492\teval-logloss:0.08534\n",
            "[391]\ttrain-logloss:0.00491\teval-logloss:0.08537\n",
            "[392]\ttrain-logloss:0.00491\teval-logloss:0.08534\n",
            "[393]\ttrain-logloss:0.00490\teval-logloss:0.08528\n",
            "[394]\ttrain-logloss:0.00490\teval-logloss:0.08537\n",
            "[395]\ttrain-logloss:0.00490\teval-logloss:0.08533\n",
            "[396]\ttrain-logloss:0.00489\teval-logloss:0.08526\n",
            "[397]\ttrain-logloss:0.00489\teval-logloss:0.08511\n",
            "[398]\ttrain-logloss:0.00489\teval-logloss:0.08514\n",
            "[399]\ttrain-logloss:0.00488\teval-logloss:0.08510\n"
          ]
        }
      ],
      "source": [
        "# train 데이터 세트는 'train', evaluation(test) 데이터 세트는 'eval' 로 명기합니다.\n",
        "wlist = [(dtrain,'train'),(dtest,'eval')]\n",
        "# 하이퍼 파라미터와 early stopping 파라미터를 train( ) 함수의 파라미터로 전달\n",
        "xgb_model = xgb.train(params = params, dtrain=dtrain, num_boost_round=num_rounds, \\\n",
        "                      early_stopping_rounds=50, evals=wlist )"
      ]
    },
    {
      "cell_type": "code",
      "execution_count": null,
      "metadata": {
        "id": "BGaxqeINnHuP",
        "colab": {
          "base_uri": "https://localhost:8080/"
        },
        "outputId": "c23b3e38-3c99-4162-8b2b-3b8b761f639c"
      },
      "outputs": [
        {
          "output_type": "stream",
          "name": "stdout",
          "text": [
            "predict( ) 수행 결과값을 10개만 표시, 예측 확률 값으로 표시됨\n",
            "[0.956 0.004 0.908 0.264 0.994 1.    1.    1.    0.997 0.   ]\n",
            "예측값 10개만 표시: [1, 0, 1, 0, 1, 1, 1, 1, 1, 0]\n"
          ]
        }
      ],
      "source": [
        "pred_probs = xgb_model.predict(dtest)\n",
        "print('predict( ) 수행 결과값을 10개만 표시, 예측 확률 값으로 표시됨')\n",
        "print(np.round(pred_probs[:10],3))\n",
        "\n",
        "# 예측 확률이 0.5 보다 크면 1 , 그렇지 않으면 0 으로 예측값 결정하여 리스트 객체인 preds에 저장\n",
        "preds = [ 1 if x > 0.5 else 0 for x in pred_probs ]\n",
        "print('예측값 10개만 표시:',preds[:10])"
      ]
    },
    {
      "cell_type": "code",
      "execution_count": null,
      "metadata": {
        "id": "iQqI8HJznHy-",
        "colab": {
          "base_uri": "https://localhost:8080/"
        },
        "outputId": "d6943cb7-dfec-40f1-84d6-b57caadafd13"
      },
      "outputs": [
        {
          "output_type": "stream",
          "name": "stdout",
          "text": [
            "오차 행렬\n",
            "[[35  2]\n",
            " [ 2 75]]\n",
            "정확도: 0.9649, 정밀도: 0.9740, 재현율: 0.9740,    F1: 0.9740, AUC:0.9951\n"
          ]
        }
      ],
      "source": [
        "get_clf_eval(y_test, preds, pred_probs)"
      ]
    },
    {
      "cell_type": "code",
      "execution_count": null,
      "metadata": {
        "id": "V7dhdAnGnH1l",
        "colab": {
          "base_uri": "https://localhost:8080/",
          "height": 1000
        },
        "outputId": "f8bf50b2-e0af-4959-f045-4b5232fa3a34"
      },
      "outputs": [
        {
          "output_type": "execute_result",
          "data": {
            "text/plain": [
              "<Axes: title={'center': 'Feature importance'}, xlabel='F score', ylabel='Features'>"
            ]
          },
          "metadata": {},
          "execution_count": 33
        },
        {
          "output_type": "display_data",
          "data": {
            "text/plain": [
              "<Figure size 1000x1200 with 1 Axes>"
            ],
            "image/png": "[encoded data removed]"
          },
          "metadata": {}
        }
      ],
      "source": [
        "from xgboost import plot_importance\n",
        "import matplotlib.pyplot as plt\n",
        "%matplotlib inline\n",
        "\n",
        "fig, ax = plt.subplots(figsize=(10, 12))\n",
        "plot_importance(xgb_model, ax=ax)"
      ]
    },
    {
      "cell_type": "markdown",
      "metadata": {
        "id": "VPQqPQm-ngWW"
      },
      "source": [
        "### 사이킷런 래퍼 XGBoost의 개요 및 적용"
      ]
    },
    {
      "cell_type": "code",
      "execution_count": null,
      "metadata": {
        "id": "cazyiY0knH4N"
      },
      "outputs": [],
      "source": [
        "# 사이킷런 래퍼 XGBoost 클래스인 XGBClassifier 임포트\n",
        "from xgboost import XGBClassifier\n",
        "\n",
        "xgb_wrapper = XGBClassifier(n_estimators=400, learning_rate=0.1, max_depth=3)\n",
        "xgb_wrapper.fit(X_train, y_train)\n",
        "w_preds = xgb_wrapper.predict(X_test)\n",
        "w_pred_proba = xgb_wrapper.predict_proba(X_test)[:, 1]"
      ]
    },
    {
      "cell_type": "code",
      "execution_count": null,
      "metadata": {
        "id": "4Hi_6OXXnH8a",
        "colab": {
          "base_uri": "https://localhost:8080/"
        },
        "outputId": "48afa2e6-a232-479b-e3dc-0b857d4fbf8a"
      },
      "outputs": [
        {
          "output_type": "stream",
          "name": "stdout",
          "text": [
            "오차 행렬\n",
            "[[35  2]\n",
            " [ 1 76]]\n",
            "정확도: 0.9737, 정밀도: 0.9744, 재현율: 0.9870,    F1: 0.9806, AUC:0.9947\n"
          ]
        }
      ],
      "source": [
        "get_clf_eval(y_test , w_preds, w_pred_proba)"
      ]
    },
    {
      "cell_type": "code",
      "execution_count": null,
      "metadata": {
        "id": "eON8oGLdnILm",
        "colab": {
          "base_uri": "https://localhost:8080/",
          "height": 355
        },
        "outputId": "6f4a739b-272f-4806-f506-07e1fcfffb78"
      },
      "outputs": [
        {
          "output_type": "error",
          "ename": "TypeError",
          "evalue": "XGBClassifier.fit() got an unexpected keyword argument 'early_stopping_rounds'",
          "traceback": [
            "\u001b[0;31m---------------------------------------------------------------------------\u001b[0m",
            "\u001b[0;31mTypeError\u001b[0m                                 Traceback (most recent call last)",
            "\u001b[0;32m<ipython-input-48-fac3aa8aea16>\u001b[0m in \u001b[0;36m<cell line: 5>\u001b[0;34m()\u001b[0m\n\u001b[1;32m      3\u001b[0m \u001b[0mxgb_wrapper\u001b[0m \u001b[0;34m=\u001b[0m \u001b[0mXGBClassifier\u001b[0m\u001b[0;34m(\u001b[0m\u001b[0mn_estimators\u001b[0m\u001b[0;34m=\u001b[0m\u001b[0;36m400\u001b[0m\u001b[0;34m,\u001b[0m \u001b[0mlearning_rate\u001b[0m\u001b[0;34m=\u001b[0m\u001b[0;36m0.1\u001b[0m\u001b[0;34m,\u001b[0m \u001b[0mmax_depth\u001b[0m\u001b[0;34m=\u001b[0m\u001b[0;36m3\u001b[0m\u001b[0;34m)\u001b[0m\u001b[0;34m\u001b[0m\u001b[0;34m\u001b[0m\u001b[0m\n\u001b[1;32m      4\u001b[0m \u001b[0mevals\u001b[0m \u001b[0;34m=\u001b[0m \u001b[0;34m[\u001b[0m\u001b[0;34m(\u001b[0m\u001b[0mX_test\u001b[0m\u001b[0;34m,\u001b[0m \u001b[0my_test\u001b[0m\u001b[0;34m)\u001b[0m\u001b[0;34m]\u001b[0m\u001b[0;34m\u001b[0m\u001b[0;34m\u001b[0m\u001b[0m\n\u001b[0;32m----> 5\u001b[0;31m xgb_wrapper.fit(X_train, y_train, early_stopping_rounds=100, eval_metric=\"logloss\",\n\u001b[0m\u001b[1;32m      6\u001b[0m                 eval_set=evals, verbose=True)\n\u001b[1;32m      7\u001b[0m \u001b[0;34m\u001b[0m\u001b[0m\n",
            "\u001b[0;32m/usr/local/lib/python3.10/dist-packages/xgboost/core.py\u001b[0m in \u001b[0;36minner_f\u001b[0;34m(*args, **kwargs)\u001b[0m\n\u001b[1;32m    724\u001b[0m             \u001b[0;32mfor\u001b[0m \u001b[0mk\u001b[0m\u001b[0;34m,\u001b[0m \u001b[0marg\u001b[0m \u001b[0;32min\u001b[0m \u001b[0mzip\u001b[0m\u001b[0;34m(\u001b[0m\u001b[0msig\u001b[0m\u001b[0;34m.\u001b[0m\u001b[0mparameters\u001b[0m\u001b[0;34m,\u001b[0m \u001b[0margs\u001b[0m\u001b[0;34m)\u001b[0m\u001b[0;34m:\u001b[0m\u001b[0;34m\u001b[0m\u001b[0;34m\u001b[0m\u001b[0m\n\u001b[1;32m    725\u001b[0m                 \u001b[0mkwargs\u001b[0m\u001b[0;34m[\u001b[0m\u001b[0mk\u001b[0m\u001b[0;34m]\u001b[0m \u001b[0;34m=\u001b[0m \u001b[0marg\u001b[0m\u001b[0;34m\u001b[0m\u001b[0;34m\u001b[0m\u001b[0m\n\u001b[0;32m--> 726\u001b[0;31m             \u001b[0;32mreturn\u001b[0m \u001b[0mfunc\u001b[0m\u001b[0;34m(\u001b[0m\u001b[0;34m**\u001b[0m\u001b[0mkwargs\u001b[0m\u001b[0;34m)\u001b[0m\u001b[0;34m\u001b[0m\u001b[0;34m\u001b[0m\u001b[0m\n\u001b[0m\u001b[1;32m    727\u001b[0m \u001b[0;34m\u001b[0m\u001b[0m\n\u001b[1;32m    728\u001b[0m         \u001b[0;32mreturn\u001b[0m \u001b[0minner_f\u001b[0m\u001b[0;34m\u001b[0m\u001b[0;34m\u001b[0m\u001b[0m\n",
            "\u001b[0;31mTypeError\u001b[0m: XGBClassifier.fit() got an unexpected keyword argument 'early_stopping_rounds'"
          ]
        }
      ],
      "source": [
        "from xgboost import XGBClassifier\n",
        "\n",
        "xgb_wrapper = XGBClassifier(n_estimators=400, learning_rate=0.1, max_depth=3)\n",
        "evals = [(X_test, y_test)]\n",
        "xgb_wrapper.fit(X_train, y_train, early_stopping_rounds=100, eval_metric=\"logloss\",\n",
        "                eval_set=evals, verbose=True)\n",
        "\n",
        "ws100_preds = xgb_wrapper.predict(X_test)\n",
        "ws100_pred_proba = xgb_wrapper.predict_proba(X_test)[:, 1]"
      ]
    },
    {
      "cell_type": "code",
      "execution_count": null,
      "metadata": {
        "id": "g2mxDTwbnINy"
      },
      "outputs": [],
      "source": [
        "get_clf_eval(y_test , ws100_preds, ws100_pred_proba)"
      ]
    },
    {
      "cell_type": "code",
      "execution_count": null,
      "metadata": {
        "id": "DUTyZWZEnIP_"
      },
      "outputs": [],
      "source": [
        "# early_stopping_rounds를 10으로 설정하고 재 학습.\n",
        "xgb_wrapper.fit(X_train, y_train, early_stopping_rounds=10,\n",
        "                eval_metric=\"logloss\", eval_set=evals,verbose=True)\n",
        "\n",
        "ws10_preds = xgb_wrapper.predict(X_test)\n",
        "ws10_pred_proba = xgb_wrapper.predict_proba(X_test)[:, 1]\n",
        "get_clf_eval(y_test , ws10_preds, ws10_pred_proba)"
      ]
    },
    {
      "cell_type": "code",
      "execution_count": null,
      "metadata": {
        "id": "QHh-amfTnISF"
      },
      "outputs": [],
      "source": [
        "from xgboost import plot_importance\n",
        "import matplotlib.pyplot as plt\n",
        "%matplotlib inline\n",
        "\n",
        "fig, ax = plt.subplots(figsize=(10, 12))\n",
        "# 사이킷런 래퍼 클래스를 입력해도 무방.\n",
        "plot_importance(xgb_wrapper, ax=ax)"
      ]
    },
    {
      "cell_type": "markdown",
      "source": [
        "# 07 LightGBM"
      ],
      "metadata": {
        "id": "06qEJt6_tJ9R"
      }
    },
    {
      "cell_type": "code",
      "execution_count": null,
      "metadata": {
        "id": "0mKQyOjJnIVs",
        "colab": {
          "base_uri": "https://localhost:8080/"
        },
        "outputId": "f6b26af8-9b2c-493e-c357-f34f90ec8bf2"
      },
      "outputs": [
        {
          "output_type": "stream",
          "name": "stdout",
          "text": [
            "4.5.0\n"
          ]
        }
      ],
      "source": [
        "import lightgbm\n",
        "\n",
        "print(lightgbm.__version__)"
      ]
    },
    {
      "cell_type": "markdown",
      "metadata": {
        "id": "vKqk1kProtI0"
      },
      "source": [
        "### LightGBM 적용 – 위스콘신 유방암 예측"
      ]
    },
    {
      "cell_type": "code",
      "execution_count": null,
      "metadata": {
        "id": "wAi3Igsun6nq"
      },
      "outputs": [],
      "source": [
        "# LightGBM의 파이썬 패키지인 lightgbm에서 LGBMClassifier 임포트\n",
        "from lightgbm import LGBMClassifier\n",
        "\n",
        "import pandas as pd\n",
        "import numpy as np\n",
        "from sklearn.datasets import load_breast_cancer\n",
        "from sklearn.model_selection import train_test_split\n",
        "\n",
        "dataset = load_breast_cancer()\n",
        "\n",
        "cancer_df = pd.DataFrame(data=dataset.data, columns=dataset.feature_names)\n",
        "cancer_df['target']= dataset.target\n",
        "X_features = cancer_df.iloc[:, :-1]\n",
        "y_label = cancer_df.iloc[:, -1]\n",
        "\n",
        "# 전체 데이터 중 80%는 학습용 데이터, 20%는 테스트용 데이터 추출\n",
        "X_train, X_test, y_train, y_test=train_test_split(X_features, y_label, test_size=0.2, random_state=156 )\n",
        "\n",
        "# 위에서 만든 X_train, y_train을 다시 쪼개서 90%는 학습과 10%는 검증용 데이터로 분리\n",
        "X_tr, X_val, y_tr, y_val= train_test_split(X_train, y_train, test_size=0.1, random_state=156 )\n",
        "\n",
        "# 앞서 XGBoost와 동일하게 n_estimators는 400 설정.\n",
        "lgbm_wrapper = LGBMClassifier(n_estimators=400, learning_rate=0.05)\n",
        "\n",
        "# LightGBM도 XGBoost와 동일하게 조기 중단 수행 가능.\n",
        "evals = [(X_tr, y_tr), (X_val, y_val)]\n",
        "lgbm_wrapper.fit(X_tr, y_tr, early_stopping_rounds=50, eval_metric=\"logloss\", eval_set=evals, verbose=True)\n",
        "preds = lgbm_wrapper.predict(X_test)\n",
        "pred_proba = lgbm_wrapper.predict_proba(X_test)[:, 1]"
      ]
    },
    {
      "cell_type": "code",
      "execution_count": null,
      "metadata": {
        "id": "QB3wzQY_n6p-"
      },
      "outputs": [],
      "source": [
        "from sklearn.metrics import confusion_matrix, accuracy_score\n",
        "from sklearn.metrics import precision_score, recall_score\n",
        "from sklearn.metrics import f1_score, roc_auc_score\n",
        "\n",
        "def get_clf_eval(y_test, pred=None, pred_proba=None):\n",
        "    confusion = confusion_matrix( y_test, pred)\n",
        "    accuracy = accuracy_score(y_test , pred)\n",
        "    precision = precision_score(y_test , pred)\n",
        "    recall = recall_score(y_test , pred)\n",
        "    f1 = f1_score(y_test,pred)\n",
        "    # ROC-AUC 추가\n",
        "    roc_auc = roc_auc_score(y_test, pred_proba)\n",
        "    print('오차 행렬')\n",
        "    print(confusion)\n",
        "    # ROC-AUC print 추가\n",
        "    print('정확도: {0:.4f}, 정밀도: {1:.4f}, 재현율: {2:.4f},\\\n",
        "    F1: {3:.4f}, AUC:{4:.4f}'.format(accuracy, precision, recall, f1, roc_auc))"
      ]
    },
    {
      "cell_type": "code",
      "execution_count": null,
      "metadata": {
        "id": "2PBGhJ9Ln6sn"
      },
      "outputs": [],
      "source": [
        "get_clf_eval(y_test, preds, pred_proba)"
      ]
    },
    {
      "cell_type": "code",
      "execution_count": null,
      "metadata": {
        "id": "VIznEmXbozro"
      },
      "outputs": [],
      "source": [
        "# plot_importance( )를 이용하여 feature 중요도 시각화\n",
        "from lightgbm import plot_importance\n",
        "import matplotlib.pyplot as plt\n",
        "%matplotlib inline\n",
        "\n",
        "fig, ax = plt.subplots(figsize=(10, 12))\n",
        "plot_importance(lgbm_wrapper, ax=ax)\n",
        "plt.savefig('lightgbm_feature_importance.tif', format='tif', dpi=300, bbox_inches='tight')"
      ]
    },
    {
      "cell_type": "markdown",
      "source": [
        "4.10"
      ],
      "metadata": {
        "id": "glpjD3taw9TC"
      }
    },
    {
      "cell_type": "code",
      "execution_count": null,
      "metadata": {
        "id": "y0ryZkksn6v4"
      },
      "outputs": [],
      "source": [
        "import numpy as np\n",
        "\n",
        "from sklearn.neighbors import KNeighborsClassifier\n",
        "from sklearn.ensemble import RandomForestClassifier\n",
        "from sklearn.ensemble import AdaBoostClassifier\n",
        "from sklearn.tree import DecisionTreeClassifier\n",
        "from sklearn.linear_model import LogisticRegression\n",
        "\n",
        "from sklearn.datasets import load_breast_cancer\n",
        "from sklearn.model_selection import train_test_split\n",
        "from sklearn.metrics import accuracy_score\n",
        "\n",
        "cancer_data = load_breast_cancer()\n",
        "\n",
        "X_data = cancer_data.data\n",
        "y_label = cancer_data.target\n",
        "\n",
        "X_train , X_test , y_train , y_test = train_test_split(X_data , y_label , test_size=0.2 , random_state=0)"
      ]
    },
    {
      "cell_type": "code",
      "execution_count": null,
      "metadata": {
        "id": "yzgQ6tdho9-f"
      },
      "outputs": [],
      "source": [
        "# 개별 ML 모델을 위한 Classifier 생성.\n",
        "knn_clf  = KNeighborsClassifier(n_neighbors=4)\n",
        "rf_clf = RandomForestClassifier(n_estimators=100, random_state=0)\n",
        "dt_clf = DecisionTreeClassifier()\n",
        "ada_clf = AdaBoostClassifier(n_estimators=100)\n",
        "\n",
        "# 최종 Stacking 모델을 위한 Classifier생성.\n",
        "lr_final = LogisticRegression(C=10)\n"
      ]
    },
    {
      "cell_type": "code",
      "execution_count": null,
      "metadata": {
        "id": "eKc2-d7So-BO",
        "colab": {
          "base_uri": "https://localhost:8080/",
          "height": 137
        },
        "outputId": "1dafef33-fda7-4566-f2a0-e657fdbe87bf"
      },
      "outputs": [
        {
          "output_type": "stream",
          "name": "stderr",
          "text": [
            "/usr/local/lib/python3.10/dist-packages/sklearn/ensemble/_weight_boosting.py:527: FutureWarning: The SAMME.R algorithm (the default) is deprecated and will be removed in 1.6. Use the SAMME algorithm to circumvent this warning.\n",
            "  warnings.warn(\n"
          ]
        },
        {
          "output_type": "execute_result",
          "data": {
            "text/plain": [
              "AdaBoostClassifier(n_estimators=100)"
            ],
            "text/html": [
              "<style>#sk-container-id-1 {\n",
              "  /* Definition of color scheme common for light and dark mode */\n",
              "  --sklearn-color-text: black;\n",
              "  --sklearn-color-line: gray;\n",
              "  /* Definition of color scheme for unfitted estimators */\n",
              "  --sklearn-color-unfitted-level-0: #fff5e6;\n",
              "  --sklearn-color-unfitted-level-1: #f6e4d2;\n",
              "  --sklearn-color-unfitted-level-2: #ffe0b3;\n",
              "  --sklearn-color-unfitted-level-3: chocolate;\n",
              "  /* Definition of color scheme for fitted estimators */\n",
              "  --sklearn-color-fitted-level-0: #f0f8ff;\n",
              "  --sklearn-color-fitted-level-1: #d4ebff;\n",
              "  --sklearn-color-fitted-level-2: #b3dbfd;\n",
              "  --sklearn-color-fitted-level-3: cornflowerblue;\n",
              "\n",
              "  /* Specific color for light theme */\n",
              "  --sklearn-color-text-on-default-background: var(--sg-text-color, var(--theme-code-foreground, var(--jp-content-font-color1, black)));\n",
              "  --sklearn-color-background: var(--sg-background-color, var(--theme-background, var(--jp-layout-color0, white)));\n",
              "  --sklearn-color-border-box: var(--sg-text-color, var(--theme-code-foreground, var(--jp-content-font-color1, black)));\n",
              "  --sklearn-color-icon: #696969;\n",
              "\n",
              "  @media (prefers-color-scheme: dark) {\n",
              "    /* Redefinition of color scheme for dark theme */\n",
              "    --sklearn-color-text-on-default-background: var(--sg-text-color, var(--theme-code-foreground, var(--jp-content-font-color1, white)));\n",
              "    --sklearn-color-background: var(--sg-background-color, var(--theme-background, var(--jp-layout-color0, #111)));\n",
              "    --sklearn-color-border-box: var(--sg-text-color, var(--theme-code-foreground, var(--jp-content-font-color1, white)));\n",
              "    --sklearn-color-icon: #878787;\n",
              "  }\n",
              "}\n",
              "\n",
              "#sk-container-id-1 {\n",
              "  color: var(--sklearn-color-text);\n",
              "}\n",
              "\n",
              "#sk-container-id-1 pre {\n",
              "  padding: 0;\n",
              "}\n",
              "\n",
              "#sk-container-id-1 input.sk-hidden--visually {\n",
              "  border: 0;\n",
              "  clip: rect(1px 1px 1px 1px);\n",
              "  clip: rect(1px, 1px, 1px, 1px);\n",
              "  height: 1px;\n",
              "  margin: -1px;\n",
              "  overflow: hidden;\n",
              "  padding: 0;\n",
              "  position: absolute;\n",
              "  width: 1px;\n",
              "}\n",
              "\n",
              "#sk-container-id-1 div.sk-dashed-wrapped {\n",
              "  border: 1px dashed var(--sklearn-color-line);\n",
              "  margin: 0 0.4em 0.5em 0.4em;\n",
              "  box-sizing: border-box;\n",
              "  padding-bottom: 0.4em;\n",
              "  background-color: var(--sklearn-color-background);\n",
              "}\n",
              "\n",
              "#sk-container-id-1 div.sk-container {\n",
              "  /* jupyter's `normalize.less` sets `[hidden] { display: none; }`\n",
              "     but bootstrap.min.css set `[hidden] { display: none !important; }`\n",
              "     so we also need the `!important` here to be able to override the\n",
              "     default hidden behavior on the sphinx rendered scikit-learn.org.\n",
              "     See: https://github.com/scikit-learn/scikit-learn/issues/21755 */\n",
              "  display: inline-block !important;\n",
              "  position: relative;\n",
              "}\n",
              "\n",
              "#sk-container-id-1 div.sk-text-repr-fallback {\n",
              "  display: none;\n",
              "}\n",
              "\n",
              "div.sk-parallel-item,\n",
              "div.sk-serial,\n",
              "div.sk-item {\n",
              "  /* draw centered vertical line to link estimators */\n",
              "  background-image: linear-gradient(var(--sklearn-color-text-on-default-background), var(--sklearn-color-text-on-default-background));\n",
              "  background-size: 2px 100%;\n",
              "  background-repeat: no-repeat;\n",
              "  background-position: center center;\n",
              "}\n",
              "\n",
              "/* Parallel-specific style estimator block */\n",
              "\n",
              "#sk-container-id-1 div.sk-parallel-item::after {\n",
              "  content: \"\";\n",
              "  width: 100%;\n",
              "  border-bottom: 2px solid var(--sklearn-color-text-on-default-background);\n",
              "  flex-grow: 1;\n",
              "}\n",
              "\n",
              "#sk-container-id-1 div.sk-parallel {\n",
              "  display: flex;\n",
              "  align-items: stretch;\n",
              "  justify-content: center;\n",
              "  background-color: var(--sklearn-color-background);\n",
              "  position: relative;\n",
              "}\n",
              "\n",
              "#sk-container-id-1 div.sk-parallel-item {\n",
              "  display: flex;\n",
              "  flex-direction: column;\n",
              "}\n",
              "\n",
              "#sk-container-id-1 div.sk-parallel-item:first-child::after {\n",
              "  align-self: flex-end;\n",
              "  width: 50%;\n",
              "}\n",
              "\n",
              "#sk-container-id-1 div.sk-parallel-item:last-child::after {\n",
              "  align-self: flex-start;\n",
              "  width: 50%;\n",
              "}\n",
              "\n",
              "#sk-container-id-1 div.sk-parallel-item:only-child::after {\n",
              "  width: 0;\n",
              "}\n",
              "\n",
              "/* Serial-specific style estimator block */\n",
              "\n",
              "#sk-container-id-1 div.sk-serial {\n",
              "  display: flex;\n",
              "  flex-direction: column;\n",
              "  align-items: center;\n",
              "  background-color: var(--sklearn-color-background);\n",
              "  padding-right: 1em;\n",
              "  padding-left: 1em;\n",
              "}\n",
              "\n",
              "\n",
              "/* Toggleable style: style used for estimator/Pipeline/ColumnTransformer box that is\n",
              "clickable and can be expanded/collapsed.\n",
              "- Pipeline and ColumnTransformer use this feature and define the default style\n",
              "- Estimators will overwrite some part of the style using the `sk-estimator` class\n",
              "*/\n",
              "\n",
              "/* Pipeline and ColumnTransformer style (default) */\n",
              "\n",
              "#sk-container-id-1 div.sk-toggleable {\n",
              "  /* Default theme specific background. It is overwritten whether we have a\n",
              "  specific estimator or a Pipeline/ColumnTransformer */\n",
              "  background-color: var(--sklearn-color-background);\n",
              "}\n",
              "\n",
              "/* Toggleable label */\n",
              "#sk-container-id-1 label.sk-toggleable__label {\n",
              "  cursor: pointer;\n",
              "  display: block;\n",
              "  width: 100%;\n",
              "  margin-bottom: 0;\n",
              "  padding: 0.5em;\n",
              "  box-sizing: border-box;\n",
              "  text-align: center;\n",
              "}\n",
              "\n",
              "#sk-container-id-1 label.sk-toggleable__label-arrow:before {\n",
              "  /* Arrow on the left of the label */\n",
              "  content: \"▸\";\n",
              "  float: left;\n",
              "  margin-right: 0.25em;\n",
              "  color: var(--sklearn-color-icon);\n",
              "}\n",
              "\n",
              "#sk-container-id-1 label.sk-toggleable__label-arrow:hover:before {\n",
              "  color: var(--sklearn-color-text);\n",
              "}\n",
              "\n",
              "/* Toggleable content - dropdown */\n",
              "\n",
              "#sk-container-id-1 div.sk-toggleable__content {\n",
              "  max-height: 0;\n",
              "  max-width: 0;\n",
              "  overflow: hidden;\n",
              "  text-align: left;\n",
              "  /* unfitted */\n",
              "  background-color: var(--sklearn-color-unfitted-level-0);\n",
              "}\n",
              "\n",
              "#sk-container-id-1 div.sk-toggleable__content.fitted {\n",
              "  /* fitted */\n",
              "  background-color: var(--sklearn-color-fitted-level-0);\n",
              "}\n",
              "\n",
              "#sk-container-id-1 div.sk-toggleable__content pre {\n",
              "  margin: 0.2em;\n",
              "  border-radius: 0.25em;\n",
              "  color: var(--sklearn-color-text);\n",
              "  /* unfitted */\n",
              "  background-color: var(--sklearn-color-unfitted-level-0);\n",
              "}\n",
              "\n",
              "#sk-container-id-1 div.sk-toggleable__content.fitted pre {\n",
              "  /* unfitted */\n",
              "  background-color: var(--sklearn-color-fitted-level-0);\n",
              "}\n",
              "\n",
              "#sk-container-id-1 input.sk-toggleable__control:checked~div.sk-toggleable__content {\n",
              "  /* Expand drop-down */\n",
              "  max-height: 200px;\n",
              "  max-width: 100%;\n",
              "  overflow: auto;\n",
              "}\n",
              "\n",
              "#sk-container-id-1 input.sk-toggleable__control:checked~label.sk-toggleable__label-arrow:before {\n",
              "  content: \"▾\";\n",
              "}\n",
              "\n",
              "/* Pipeline/ColumnTransformer-specific style */\n",
              "\n",
              "#sk-container-id-1 div.sk-label input.sk-toggleable__control:checked~label.sk-toggleable__label {\n",
              "  color: var(--sklearn-color-text);\n",
              "  background-color: var(--sklearn-color-unfitted-level-2);\n",
              "}\n",
              "\n",
              "#sk-container-id-1 div.sk-label.fitted input.sk-toggleable__control:checked~label.sk-toggleable__label {\n",
              "  background-color: var(--sklearn-color-fitted-level-2);\n",
              "}\n",
              "\n",
              "/* Estimator-specific style */\n",
              "\n",
              "/* Colorize estimator box */\n",
              "#sk-container-id-1 div.sk-estimator input.sk-toggleable__control:checked~label.sk-toggleable__label {\n",
              "  /* unfitted */\n",
              "  background-color: var(--sklearn-color-unfitted-level-2);\n",
              "}\n",
              "\n",
              "#sk-container-id-1 div.sk-estimator.fitted input.sk-toggleable__control:checked~label.sk-toggleable__label {\n",
              "  /* fitted */\n",
              "  background-color: var(--sklearn-color-fitted-level-2);\n",
              "}\n",
              "\n",
              "#sk-container-id-1 div.sk-label label.sk-toggleable__label,\n",
              "#sk-container-id-1 div.sk-label label {\n",
              "  /* The background is the default theme color */\n",
              "  color: var(--sklearn-color-text-on-default-background);\n",
              "}\n",
              "\n",
              "/* On hover, darken the color of the background */\n",
              "#sk-container-id-1 div.sk-label:hover label.sk-toggleable__label {\n",
              "  color: var(--sklearn-color-text);\n",
              "  background-color: var(--sklearn-color-unfitted-level-2);\n",
              "}\n",
              "\n",
              "/* Label box, darken color on hover, fitted */\n",
              "#sk-container-id-1 div.sk-label.fitted:hover label.sk-toggleable__label.fitted {\n",
              "  color: var(--sklearn-color-text);\n",
              "  background-color: var(--sklearn-color-fitted-level-2);\n",
              "}\n",
              "\n",
              "/* Estimator label */\n",
              "\n",
              "#sk-container-id-1 div.sk-label label {\n",
              "  font-family: monospace;\n",
              "  font-weight: bold;\n",
              "  display: inline-block;\n",
              "  line-height: 1.2em;\n",
              "}\n",
              "\n",
              "#sk-container-id-1 div.sk-label-container {\n",
              "  text-align: center;\n",
              "}\n",
              "\n",
              "/* Estimator-specific */\n",
              "#sk-container-id-1 div.sk-estimator {\n",
              "  font-family: monospace;\n",
              "  border: 1px dotted var(--sklearn-color-border-box);\n",
              "  border-radius: 0.25em;\n",
              "  box-sizing: border-box;\n",
              "  margin-bottom: 0.5em;\n",
              "  /* unfitted */\n",
              "  background-color: var(--sklearn-color-unfitted-level-0);\n",
              "}\n",
              "\n",
              "#sk-container-id-1 div.sk-estimator.fitted {\n",
              "  /* fitted */\n",
              "  background-color: var(--sklearn-color-fitted-level-0);\n",
              "}\n",
              "\n",
              "/* on hover */\n",
              "#sk-container-id-1 div.sk-estimator:hover {\n",
              "  /* unfitted */\n",
              "  background-color: var(--sklearn-color-unfitted-level-2);\n",
              "}\n",
              "\n",
              "#sk-container-id-1 div.sk-estimator.fitted:hover {\n",
              "  /* fitted */\n",
              "  background-color: var(--sklearn-color-fitted-level-2);\n",
              "}\n",
              "\n",
              "/* Specification for estimator info (e.g. \"i\" and \"?\") */\n",
              "\n",
              "/* Common style for \"i\" and \"?\" */\n",
              "\n",
              ".sk-estimator-doc-link,\n",
              "a:link.sk-estimator-doc-link,\n",
              "a:visited.sk-estimator-doc-link {\n",
              "  float: right;\n",
              "  font-size: smaller;\n",
              "  line-height: 1em;\n",
              "  font-family: monospace;\n",
              "  background-color: var(--sklearn-color-background);\n",
              "  border-radius: 1em;\n",
              "  height: 1em;\n",
              "  width: 1em;\n",
              "  text-decoration: none !important;\n",
              "  margin-left: 1ex;\n",
              "  /* unfitted */\n",
              "  border: var(--sklearn-color-unfitted-level-1) 1pt solid;\n",
              "  color: var(--sklearn-color-unfitted-level-1);\n",
              "}\n",
              "\n",
              ".sk-estimator-doc-link.fitted,\n",
              "a:link.sk-estimator-doc-link.fitted,\n",
              "a:visited.sk-estimator-doc-link.fitted {\n",
              "  /* fitted */\n",
              "  border: var(--sklearn-color-fitted-level-1) 1pt solid;\n",
              "  color: var(--sklearn-color-fitted-level-1);\n",
              "}\n",
              "\n",
              "/* On hover */\n",
              "div.sk-estimator:hover .sk-estimator-doc-link:hover,\n",
              ".sk-estimator-doc-link:hover,\n",
              "div.sk-label-container:hover .sk-estimator-doc-link:hover,\n",
              ".sk-estimator-doc-link:hover {\n",
              "  /* unfitted */\n",
              "  background-color: var(--sklearn-color-unfitted-level-3);\n",
              "  color: var(--sklearn-color-background);\n",
              "  text-decoration: none;\n",
              "}\n",
              "\n",
              "div.sk-estimator.fitted:hover .sk-estimator-doc-link.fitted:hover,\n",
              ".sk-estimator-doc-link.fitted:hover,\n",
              "div.sk-label-container:hover .sk-estimator-doc-link.fitted:hover,\n",
              ".sk-estimator-doc-link.fitted:hover {\n",
              "  /* fitted */\n",
              "  background-color: var(--sklearn-color-fitted-level-3);\n",
              "  color: var(--sklearn-color-background);\n",
              "  text-decoration: none;\n",
              "}\n",
              "\n",
              "/* Span, style for the box shown on hovering the info icon */\n",
              ".sk-estimator-doc-link span {\n",
              "  display: none;\n",
              "  z-index: 9999;\n",
              "  position: relative;\n",
              "  font-weight: normal;\n",
              "  right: .2ex;\n",
              "  padding: .5ex;\n",
              "  margin: .5ex;\n",
              "  width: min-content;\n",
              "  min-width: 20ex;\n",
              "  max-width: 50ex;\n",
              "  color: var(--sklearn-color-text);\n",
              "  box-shadow: 2pt 2pt 4pt #999;\n",
              "  /* unfitted */\n",
              "  background: var(--sklearn-color-unfitted-level-0);\n",
              "  border: .5pt solid var(--sklearn-color-unfitted-level-3);\n",
              "}\n",
              "\n",
              ".sk-estimator-doc-link.fitted span {\n",
              "  /* fitted */\n",
              "  background: var(--sklearn-color-fitted-level-0);\n",
              "  border: var(--sklearn-color-fitted-level-3);\n",
              "}\n",
              "\n",
              ".sk-estimator-doc-link:hover span {\n",
              "  display: block;\n",
              "}\n",
              "\n",
              "/* \"?\"-specific style due to the `<a>` HTML tag */\n",
              "\n",
              "#sk-container-id-1 a.estimator_doc_link {\n",
              "  float: right;\n",
              "  font-size: 1rem;\n",
              "  line-height: 1em;\n",
              "  font-family: monospace;\n",
              "  background-color: var(--sklearn-color-background);\n",
              "  border-radius: 1rem;\n",
              "  height: 1rem;\n",
              "  width: 1rem;\n",
              "  text-decoration: none;\n",
              "  /* unfitted */\n",
              "  color: var(--sklearn-color-unfitted-level-1);\n",
              "  border: var(--sklearn-color-unfitted-level-1) 1pt solid;\n",
              "}\n",
              "\n",
              "#sk-container-id-1 a.estimator_doc_link.fitted {\n",
              "  /* fitted */\n",
              "  border: var(--sklearn-color-fitted-level-1) 1pt solid;\n",
              "  color: var(--sklearn-color-fitted-level-1);\n",
              "}\n",
              "\n",
              "/* On hover */\n",
              "#sk-container-id-1 a.estimator_doc_link:hover {\n",
              "  /* unfitted */\n",
              "  background-color: var(--sklearn-color-unfitted-level-3);\n",
              "  color: var(--sklearn-color-background);\n",
              "  text-decoration: none;\n",
              "}\n",
              "\n",
              "#sk-container-id-1 a.estimator_doc_link.fitted:hover {\n",
              "  /* fitted */\n",
              "  background-color: var(--sklearn-color-fitted-level-3);\n",
              "}\n",
              "</style><div id=\"sk-container-id-1\" class=\"sk-top-container\"><div class=\"sk-text-repr-fallback\"><pre>AdaBoostClassifier(n_estimators=100)</pre><b>In a Jupyter environment, please rerun this cell to show the HTML representation or trust the notebook. <br />On GitHub, the HTML representation is unable to render, please try loading this page with nbviewer.org.</b></div><div class=\"sk-container\" hidden><div class=\"sk-item\"><div class=\"sk-estimator fitted sk-toggleable\"><input class=\"sk-toggleable__control sk-hidden--visually\" id=\"sk-estimator-id-1\" type=\"checkbox\" checked><label for=\"sk-estimator-id-1\" class=\"sk-toggleable__label fitted sk-toggleable__label-arrow fitted\">&nbsp;&nbsp;AdaBoostClassifier<a class=\"sk-estimator-doc-link fitted\" rel=\"noreferrer\" target=\"_blank\" href=\"https://scikit-learn.org/1.5/modules/generated/sklearn.ensemble.AdaBoostClassifier.html\">?<span>Documentation for AdaBoostClassifier</span></a><span class=\"sk-estimator-doc-link fitted\">i<span>Fitted</span></span></label><div class=\"sk-toggleable__content fitted\"><pre>AdaBoostClassifier(n_estimators=100)</pre></div> </div></div></div></div>"
            ]
          },
          "metadata": {},
          "execution_count": 8
        }
      ],
      "source": [
        "# 개별 모델들을 학습.\n",
        "knn_clf.fit(X_train, y_train)\n",
        "rf_clf.fit(X_train , y_train)\n",
        "dt_clf.fit(X_train , y_train)\n",
        "ada_clf.fit(X_train, y_train)"
      ]
    },
    {
      "cell_type": "code",
      "execution_count": null,
      "metadata": {
        "id": "ZcEeBerSo-D0",
        "colab": {
          "base_uri": "https://localhost:8080/"
        },
        "outputId": "397bd733-d552-461b-f5e5-0d8464adae79"
      },
      "outputs": [
        {
          "output_type": "stream",
          "name": "stdout",
          "text": [
            "KNN 정확도: 0.9211\n",
            "랜덤 포레스트 정확도: 0.9649\n",
            "결정 트리 정확도: 0.9123\n",
            "에이다부스트 정확도: 0.9561 :\n"
          ]
        }
      ],
      "source": [
        "# 학습된 개별 모델들이 각자 반환하는 예측 데이터 셋을 생성하고 개별 모델의 정확도 측정.\n",
        "knn_pred = knn_clf.predict(X_test)\n",
        "rf_pred = rf_clf.predict(X_test)\n",
        "dt_pred = dt_clf.predict(X_test)\n",
        "ada_pred = ada_clf.predict(X_test)\n",
        "\n",
        "print('KNN 정확도: {0:.4f}'.format(accuracy_score(y_test, knn_pred)))\n",
        "print('랜덤 포레스트 정확도: {0:.4f}'.format(accuracy_score(y_test, rf_pred)))\n",
        "print('결정 트리 정확도: {0:.4f}'.format(accuracy_score(y_test, dt_pred)))\n",
        "print('에이다부스트 정확도: {0:.4f} :'.format(accuracy_score(y_test, ada_pred)))"
      ]
    },
    {
      "cell_type": "code",
      "execution_count": null,
      "metadata": {
        "id": "-3luFlJTo-GT",
        "colab": {
          "base_uri": "https://localhost:8080/"
        },
        "outputId": "98f4c1b8-3285-46ff-e97d-fb3ecd992fe2"
      },
      "outputs": [
        {
          "output_type": "stream",
          "name": "stdout",
          "text": [
            "(4, 114)\n",
            "(114, 4)\n"
          ]
        }
      ],
      "source": [
        "pred = np.array([knn_pred, rf_pred, dt_pred, ada_pred])\n",
        "print(pred.shape)\n",
        "\n",
        "# transpose를 이용해 행과 열의 위치 교환. 컬럼 레벨로 각 알고리즘의 예측 결과를 피처로 만듦.\n",
        "pred = np.transpose(pred)\n",
        "print(pred.shape)"
      ]
    },
    {
      "cell_type": "code",
      "execution_count": null,
      "metadata": {
        "id": "UbQQ_cPGo-J3",
        "colab": {
          "base_uri": "https://localhost:8080/"
        },
        "outputId": "0145332d-c2fd-4ac8-b789-7f7e75e91372"
      },
      "outputs": [
        {
          "output_type": "stream",
          "name": "stdout",
          "text": [
            "최종 메타 모델의 예측 정확도: 0.9737\n"
          ]
        }
      ],
      "source": [
        "lr_final.fit(pred, y_test)\n",
        "final = lr_final.predict(pred)\n",
        "\n",
        "print('최종 메타 모델의 예측 정확도: {0:.4f}'.format(accuracy_score(y_test , final)))"
      ]
    },
    {
      "cell_type": "markdown",
      "metadata": {
        "id": "uAn5eP_zpyEn"
      },
      "source": [
        "### CV 세트 기반의 스태킹"
      ]
    },
    {
      "cell_type": "code",
      "execution_count": null,
      "metadata": {
        "id": "87kvm9qkpoSK"
      },
      "outputs": [],
      "source": [
        "from sklearn.model_selection import KFold\n",
        "from sklearn.metrics import mean_absolute_error\n",
        "\n",
        "# 개별 기반 모델에서 최종 메타 모델이 사용할 학습 및 테스트용 데이터를 생성하기 위한 함수.\n",
        "def get_stacking_base_datasets(model, X_train_n, y_train_n, X_test_n, n_folds ):\n",
        "    # 지정된 n_folds값으로 KFold 생성.\n",
        "    kf = KFold(n_splits=n_folds, shuffle=False)\n",
        "    #추후에 메타 모델이 사용할 학습 데이터 반환을 위한 넘파이 배열 초기화\n",
        "    train_fold_pred = np.zeros((X_train_n.shape[0] ,1 ))\n",
        "    test_pred = np.zeros((X_test_n.shape[0],n_folds))\n",
        "    print(model.__class__.__name__ , ' model 시작 ')\n",
        "\n",
        "    for folder_counter , (train_index, valid_index) in enumerate(kf.split(X_train_n)):\n",
        "        #입력된 학습 데이터에서 기반 모델이 학습/예측할 폴드 데이터 셋 추출\n",
        "        print('\\t 폴드 세트: ',folder_counter,' 시작 ')\n",
        "        X_tr = X_train_n[train_index]\n",
        "        y_tr = y_train_n[train_index]\n",
        "        X_te = X_train_n[valid_index]\n",
        "\n",
        "        #폴드 세트 내부에서 다시 만들어진 학습 데이터로 기반 모델의 학습 수행.\n",
        "        model.fit(X_tr , y_tr)\n",
        "        #폴드 세트 내부에서 다시 만들어진 검증 데이터로 기반 모델 예측 후 데이터 저장.\n",
        "        train_fold_pred[valid_index, :] = model.predict(X_te).reshape(-1,1)\n",
        "        #입력된 원본 테스트 데이터를 폴드 세트내 학습된 기반 모델에서 예측 후 데이터 저장.\n",
        "        test_pred[:, folder_counter] = model.predict(X_test_n)\n",
        "\n",
        "    # 폴드 세트 내에서 원본 테스트 데이터를 예측한 데이터를 평균하여 테스트 데이터로 생성\n",
        "    test_pred_mean = np.mean(test_pred, axis=1).reshape(-1,1)\n",
        "\n",
        "    #train_fold_pred는 최종 메타 모델이 사용하는 학습 데이터, test_pred_mean은 테스트 데이터\n",
        "    return train_fold_pred , test_pred_mean"
      ]
    },
    {
      "cell_type": "code",
      "execution_count": null,
      "metadata": {
        "id": "PMbe6y1xp3F9",
        "colab": {
          "base_uri": "https://localhost:8080/"
        },
        "outputId": "af809733-ddff-4cec-f6de-d7e0e0bf3036"
      },
      "outputs": [
        {
          "output_type": "stream",
          "name": "stdout",
          "text": [
            "KNeighborsClassifier  model 시작 \n",
            "\t 폴드 세트:  0  시작 \n",
            "\t 폴드 세트:  1  시작 \n",
            "\t 폴드 세트:  2  시작 \n",
            "\t 폴드 세트:  3  시작 \n",
            "\t 폴드 세트:  4  시작 \n",
            "\t 폴드 세트:  5  시작 \n",
            "\t 폴드 세트:  6  시작 \n",
            "RandomForestClassifier  model 시작 \n",
            "\t 폴드 세트:  0  시작 \n",
            "\t 폴드 세트:  1  시작 \n",
            "\t 폴드 세트:  2  시작 \n",
            "\t 폴드 세트:  3  시작 \n",
            "\t 폴드 세트:  4  시작 \n",
            "\t 폴드 세트:  5  시작 \n",
            "\t 폴드 세트:  6  시작 \n",
            "DecisionTreeClassifier  model 시작 \n",
            "\t 폴드 세트:  0  시작 \n",
            "\t 폴드 세트:  1  시작 \n",
            "\t 폴드 세트:  2  시작 \n",
            "\t 폴드 세트:  3  시작 \n",
            "\t 폴드 세트:  4  시작 \n",
            "\t 폴드 세트:  5  시작 \n",
            "\t 폴드 세트:  6  시작 \n",
            "AdaBoostClassifier  model 시작 \n",
            "\t 폴드 세트:  0  시작 \n"
          ]
        },
        {
          "output_type": "stream",
          "name": "stderr",
          "text": [
            "/usr/local/lib/python3.10/dist-packages/sklearn/ensemble/_weight_boosting.py:527: FutureWarning: The SAMME.R algorithm (the default) is deprecated and will be removed in 1.6. Use the SAMME algorithm to circumvent this warning.\n",
            "  warnings.warn(\n"
          ]
        },
        {
          "output_type": "stream",
          "name": "stdout",
          "text": [
            "\t 폴드 세트:  1  시작 \n"
          ]
        },
        {
          "output_type": "stream",
          "name": "stderr",
          "text": [
            "/usr/local/lib/python3.10/dist-packages/sklearn/ensemble/_weight_boosting.py:527: FutureWarning: The SAMME.R algorithm (the default) is deprecated and will be removed in 1.6. Use the SAMME algorithm to circumvent this warning.\n",
            "  warnings.warn(\n"
          ]
        },
        {
          "output_type": "stream",
          "name": "stdout",
          "text": [
            "\t 폴드 세트:  2  시작 \n"
          ]
        },
        {
          "output_type": "stream",
          "name": "stderr",
          "text": [
            "/usr/local/lib/python3.10/dist-packages/sklearn/ensemble/_weight_boosting.py:527: FutureWarning: The SAMME.R algorithm (the default) is deprecated and will be removed in 1.6. Use the SAMME algorithm to circumvent this warning.\n",
            "  warnings.warn(\n"
          ]
        },
        {
          "output_type": "stream",
          "name": "stdout",
          "text": [
            "\t 폴드 세트:  3  시작 \n"
          ]
        },
        {
          "output_type": "stream",
          "name": "stderr",
          "text": [
            "/usr/local/lib/python3.10/dist-packages/sklearn/ensemble/_weight_boosting.py:527: FutureWarning: The SAMME.R algorithm (the default) is deprecated and will be removed in 1.6. Use the SAMME algorithm to circumvent this warning.\n",
            "  warnings.warn(\n"
          ]
        },
        {
          "output_type": "stream",
          "name": "stdout",
          "text": [
            "\t 폴드 세트:  4  시작 \n"
          ]
        },
        {
          "output_type": "stream",
          "name": "stderr",
          "text": [
            "/usr/local/lib/python3.10/dist-packages/sklearn/ensemble/_weight_boosting.py:527: FutureWarning: The SAMME.R algorithm (the default) is deprecated and will be removed in 1.6. Use the SAMME algorithm to circumvent this warning.\n",
            "  warnings.warn(\n"
          ]
        },
        {
          "output_type": "stream",
          "name": "stdout",
          "text": [
            "\t 폴드 세트:  5  시작 \n"
          ]
        },
        {
          "output_type": "stream",
          "name": "stderr",
          "text": [
            "/usr/local/lib/python3.10/dist-packages/sklearn/ensemble/_weight_boosting.py:527: FutureWarning: The SAMME.R algorithm (the default) is deprecated and will be removed in 1.6. Use the SAMME algorithm to circumvent this warning.\n",
            "  warnings.warn(\n"
          ]
        },
        {
          "output_type": "stream",
          "name": "stdout",
          "text": [
            "\t 폴드 세트:  6  시작 \n"
          ]
        },
        {
          "output_type": "stream",
          "name": "stderr",
          "text": [
            "/usr/local/lib/python3.10/dist-packages/sklearn/ensemble/_weight_boosting.py:527: FutureWarning: The SAMME.R algorithm (the default) is deprecated and will be removed in 1.6. Use the SAMME algorithm to circumvent this warning.\n",
            "  warnings.warn(\n"
          ]
        }
      ],
      "source": [
        "knn_train, knn_test = get_stacking_base_datasets(knn_clf, X_train, y_train, X_test, 7)\n",
        "rf_train, rf_test = get_stacking_base_datasets(rf_clf, X_train, y_train, X_test, 7)\n",
        "dt_train, dt_test = get_stacking_base_datasets(dt_clf, X_train, y_train, X_test,  7)\n",
        "ada_train, ada_test = get_stacking_base_datasets(ada_clf, X_train, y_train, X_test, 7)"
      ]
    },
    {
      "cell_type": "code",
      "execution_count": null,
      "metadata": {
        "id": "fLujMULyp3OV",
        "colab": {
          "base_uri": "https://localhost:8080/"
        },
        "outputId": "50a033e9-14e3-458f-8c2e-aa92d2234305"
      },
      "outputs": [
        {
          "output_type": "stream",
          "name": "stdout",
          "text": [
            "원본 학습 피처 데이터 Shape: (455, 30) 원본 테스트 피처 Shape: (114, 30)\n",
            "스태킹 학습 피처 데이터 Shape: (455, 4) 스태킹 테스트 피처 데이터 Shape: (114, 4)\n"
          ]
        }
      ],
      "source": [
        "Stack_final_X_train = np.concatenate((knn_train, rf_train, dt_train, ada_train), axis=1)\n",
        "Stack_final_X_test = np.concatenate((knn_test, rf_test, dt_test, ada_test), axis=1)\n",
        "print('원본 학습 피처 데이터 Shape:',X_train.shape, '원본 테스트 피처 Shape:',X_test.shape)\n",
        "print('스태킹 학습 피처 데이터 Shape:', Stack_final_X_train.shape,\n",
        "      '스태킹 테스트 피처 데이터 Shape:',Stack_final_X_test.shape)"
      ]
    },
    {
      "cell_type": "code",
      "execution_count": null,
      "metadata": {
        "id": "dATCbH17p3WR",
        "colab": {
          "base_uri": "https://localhost:8080/"
        },
        "outputId": "a6c8a379-9f38-4787-9bb0-f5fc1df38bd9"
      },
      "outputs": [
        {
          "output_type": "stream",
          "name": "stdout",
          "text": [
            "최종 메타 모델의 예측 정확도: 0.9737\n"
          ]
        }
      ],
      "source": [
        "lr_final.fit(Stack_final_X_train, y_train)\n",
        "stack_final = lr_final.predict(Stack_final_X_test)\n",
        "\n",
        "print('최종 메타 모델의 예측 정확도: {0:.4f}'.format(accuracy_score(y_test, stack_final)))"
      ]
    },
    {
      "cell_type": "markdown",
      "source": [
        "4.8 베이지안 최적화 기반의 HyperOpt를 이용한 하이퍼 파라미터 튜닝"
      ],
      "metadata": {
        "id": "i7FRv0_W-mzQ"
      }
    },
    {
      "cell_type": "code",
      "source": [
        "#pip install hyperopt"
      ],
      "metadata": {
        "id": "FhYKRT4n-cJP"
      },
      "execution_count": null,
      "outputs": []
    },
    {
      "cell_type": "code",
      "source": [
        "from hyperopt import hp\n",
        "\n",
        "# -10 ~ 10까지 1간격을 가지는 입력 변수 x와 -15 ~ 15까지 1간격으로 입력 변수 y 설정.\n",
        "search_space = {'x': hp.quniform('x', -10, 10, 1), 'y': hp.quniform('y', -15, 15, 1) }"
      ],
      "metadata": {
        "id": "cQJto9Sa-pSy"
      },
      "execution_count": null,
      "outputs": []
    },
    {
      "cell_type": "code",
      "source": [
        "from hyperopt import STATUS_OK\n",
        "\n",
        "# 목적 함수를 생성. 변숫값과 변수 검색 공간을 가지는 딕셔너리를 인자로 받고, 특정 값을 반환\n",
        "def objective_func(search_space):\n",
        "    x = search_space['x']\n",
        "    y = search_space['y']\n",
        "    retval = x**2 - 20*y\n",
        "\n",
        "    return retval"
      ],
      "metadata": {
        "id": "0NkBFz3o-u1z"
      },
      "execution_count": null,
      "outputs": []
    },
    {
      "cell_type": "code",
      "source": [
        "from hyperopt import fmin, tpe, Trials\n",
        "# 입력 결괏값을 저장한 Trials 객체값 생성.\n",
        "trial_val = Trials()\n",
        "\n",
        "# 목적 함수의 최솟값을 반환하는 최적 입력 변숫값을 5번의 입력값 시도(max_evals=5)로 찾아냄.\n",
        "best_01 = fmin(fn=objective_func, space=search_space, algo=tpe.suggest, max_evals=5\n",
        "               , trials=trial_val, rstate=np.random.default_rng(seed=0))\n",
        "print('best:', best_01)"
      ],
      "metadata": {
        "id": "HZlooTj3-pcu",
        "colab": {
          "base_uri": "https://localhost:8080/"
        },
        "outputId": "eef40f4f-d405-44e9-943e-5d91ec6467c8"
      },
      "execution_count": null,
      "outputs": [
        {
          "output_type": "stream",
          "name": "stdout",
          "text": [
            "100%|██████████| 5/5 [00:00<00:00, 573.92trial/s, best loss: -224.0]\n",
            "best: {'x': -4.0, 'y': 12.0}\n"
          ]
        }
      ]
    },
    {
      "cell_type": "code",
      "source": [
        "trial_val = Trials()\n",
        "\n",
        "# max_evals를 20회로 늘려서 재테스트\n",
        "best_02 = fmin(fn=objective_func, space=search_space, algo=tpe.suggest, max_evals=20\n",
        "               , trials=trial_val, rstate=np.random.default_rng(seed=0))\n",
        "print('best:', best_02)"
      ],
      "metadata": {
        "id": "OQppFQJ_-pfM",
        "colab": {
          "base_uri": "https://localhost:8080/"
        },
        "outputId": "7dfe1477-83f1-4179-b4a6-86d707b1895a"
      },
      "execution_count": null,
      "outputs": [
        {
          "output_type": "stream",
          "name": "stdout",
          "text": [
            "100%|██████████| 20/20 [00:00<00:00, 708.29trial/s, best loss: -296.0]\n",
            "best: {'x': 2.0, 'y': 15.0}\n"
          ]
        }
      ]
    },
    {
      "cell_type": "code",
      "source": [
        "# fmin( )에 인자로 들어가는 Trials 객체의 result 속성에 파이썬 리스트로 목적 함수 반환값들이 저장됨\n",
        "# 리스트 내부의 개별 원소는 {'loss':함수 반환값, 'status':반환 상태값} 와 같은 딕셔너리임.\n",
        "print(trial_val.results)"
      ],
      "metadata": {
        "id": "HGesRS2x-php",
        "colab": {
          "base_uri": "https://localhost:8080/"
        },
        "outputId": "04248a6c-8bc8-4784-df79-1d1bc3f3ac74"
      },
      "execution_count": null,
      "outputs": [
        {
          "output_type": "stream",
          "name": "stdout",
          "text": [
            "[{'loss': -64.0, 'status': 'ok'}, {'loss': -184.0, 'status': 'ok'}, {'loss': 56.0, 'status': 'ok'}, {'loss': -224.0, 'status': 'ok'}, {'loss': 61.0, 'status': 'ok'}, {'loss': -296.0, 'status': 'ok'}, {'loss': -40.0, 'status': 'ok'}, {'loss': 281.0, 'status': 'ok'}, {'loss': 64.0, 'status': 'ok'}, {'loss': 100.0, 'status': 'ok'}, {'loss': 60.0, 'status': 'ok'}, {'loss': -39.0, 'status': 'ok'}, {'loss': 1.0, 'status': 'ok'}, {'loss': -164.0, 'status': 'ok'}, {'loss': 21.0, 'status': 'ok'}, {'loss': -56.0, 'status': 'ok'}, {'loss': 284.0, 'status': 'ok'}, {'loss': 176.0, 'status': 'ok'}, {'loss': -171.0, 'status': 'ok'}, {'loss': 0.0, 'status': 'ok'}]\n"
          ]
        }
      ]
    },
    {
      "cell_type": "code",
      "source": [
        "# Trials 객체의 vals 속성에 {'입력변수명':개별 수행 시마다 입력된 값 리스트} 형태로 저장됨.\n",
        "print(trial_val.vals)"
      ],
      "metadata": {
        "id": "we-0pFYF-pkD",
        "colab": {
          "base_uri": "https://localhost:8080/"
        },
        "outputId": "ddc293da-abf0-42b4-d6c8-8f5b2a543368"
      },
      "execution_count": null,
      "outputs": [
        {
          "output_type": "stream",
          "name": "stdout",
          "text": [
            "{'x': [-6.0, -4.0, 4.0, -4.0, 9.0, 2.0, 10.0, -9.0, -8.0, -0.0, -0.0, 1.0, 9.0, 6.0, 9.0, 2.0, -2.0, -4.0, 7.0, -0.0], 'y': [5.0, 10.0, -2.0, 12.0, 1.0, 15.0, 7.0, -10.0, 0.0, -5.0, -3.0, 2.0, 4.0, 10.0, 3.0, 3.0, -14.0, -8.0, 11.0, -0.0]}\n"
          ]
        }
      ]
    },
    {
      "cell_type": "code",
      "source": [
        "import pandas as pd\n",
        "\n",
        "# results에서 loss 키값에 해당하는 밸류들을 추출하여 list로 생성.\n",
        "losses = [loss_dict['loss'] for loss_dict in trial_val.results]\n",
        "\n",
        "# DataFrame으로 생성.\n",
        "result_df = pd.DataFrame({'x': trial_val.vals['x'], 'y': trial_val.vals['y'], 'losses': losses})\n",
        "result_df"
      ],
      "metadata": {
        "id": "9SXqBzQj-pmH",
        "colab": {
          "base_uri": "https://localhost:8080/",
          "height": 676
        },
        "outputId": "1cfb1583-db27-429b-fbf4-8430ad700c0a"
      },
      "execution_count": null,
      "outputs": [
        {
          "output_type": "execute_result",
          "data": {
            "text/plain": [
              "       x     y  losses\n",
              "0   -6.0   5.0   -64.0\n",
              "1   -4.0  10.0  -184.0\n",
              "2    4.0  -2.0    56.0\n",
              "3   -4.0  12.0  -224.0\n",
              "4    9.0   1.0    61.0\n",
              "5    2.0  15.0  -296.0\n",
              "6   10.0   7.0   -40.0\n",
              "7   -9.0 -10.0   281.0\n",
              "8   -8.0   0.0    64.0\n",
              "9   -0.0  -5.0   100.0\n",
              "10  -0.0  -3.0    60.0\n",
              "11   1.0   2.0   -39.0\n",
              "12   9.0   4.0     1.0\n",
              "13   6.0  10.0  -164.0\n",
              "14   9.0   3.0    21.0\n",
              "15   2.0   3.0   -56.0\n",
              "16  -2.0 -14.0   284.0\n",
              "17  -4.0  -8.0   176.0\n",
              "18   7.0  11.0  -171.0\n",
              "19  -0.0  -0.0     0.0"
            ],
            "text/html": [
              "\n",
              "  <div id=\"df-7b49abc3-2b13-4882-99bd-830de96e70f4\" class=\"colab-df-container\">\n",
              "    <div>\n",
              "<style scoped>\n",
              "    .dataframe tbody tr th:only-of-type {\n",
              "        vertical-align: middle;\n",
              "    }\n",
              "\n",
              "    .dataframe tbody tr th {\n",
              "        vertical-align: top;\n",
              "    }\n",
              "\n",
              "    .dataframe thead th {\n",
              "        text-align: right;\n",
              "    }\n",
              "</style>\n",
              "<table border=\"1\" class=\"dataframe\">\n",
              "  <thead>\n",
              "    <tr style=\"text-align: right;\">\n",
              "      <th></th>\n",
              "      <th>x</th>\n",
              "      <th>y</th>\n",
              "      <th>losses</th>\n",
              "    </tr>\n",
              "  </thead>\n",
              "  <tbody>\n",
              "    <tr>\n",
              "      <th>0</th>\n",
              "      <td>-6.0</td>\n",
              "      <td>5.0</td>\n",
              "      <td>-64.0</td>\n",
              "    </tr>\n",
              "    <tr>\n",
              "      <th>1</th>\n",
              "      <td>-4.0</td>\n",
              "      <td>10.0</td>\n",
              "      <td>-184.0</td>\n",
              "    </tr>\n",
              "    <tr>\n",
              "      <th>2</th>\n",
              "      <td>4.0</td>\n",
              "      <td>-2.0</td>\n",
              "      <td>56.0</td>\n",
              "    </tr>\n",
              "    <tr>\n",
              "      <th>3</th>\n",
              "      <td>-4.0</td>\n",
              "      <td>12.0</td>\n",
              "      <td>-224.0</td>\n",
              "    </tr>\n",
              "    <tr>\n",
              "      <th>4</th>\n",
              "      <td>9.0</td>\n",
              "      <td>1.0</td>\n",
              "      <td>61.0</td>\n",
              "    </tr>\n",
              "    <tr>\n",
              "      <th>5</th>\n",
              "      <td>2.0</td>\n",
              "      <td>15.0</td>\n",
              "      <td>-296.0</td>\n",
              "    </tr>\n",
              "    <tr>\n",
              "      <th>6</th>\n",
              "      <td>10.0</td>\n",
              "      <td>7.0</td>\n",
              "      <td>-40.0</td>\n",
              "    </tr>\n",
              "    <tr>\n",
              "      <th>7</th>\n",
              "      <td>-9.0</td>\n",
              "      <td>-10.0</td>\n",
              "      <td>281.0</td>\n",
              "    </tr>\n",
              "    <tr>\n",
              "      <th>8</th>\n",
              "      <td>-8.0</td>\n",
              "      <td>0.0</td>\n",
              "      <td>64.0</td>\n",
              "    </tr>\n",
              "    <tr>\n",
              "      <th>9</th>\n",
              "      <td>-0.0</td>\n",
              "      <td>-5.0</td>\n",
              "      <td>100.0</td>\n",
              "    </tr>\n",
              "    <tr>\n",
              "      <th>10</th>\n",
              "      <td>-0.0</td>\n",
              "      <td>-3.0</td>\n",
              "      <td>60.0</td>\n",
              "    </tr>\n",
              "    <tr>\n",
              "      <th>11</th>\n",
              "      <td>1.0</td>\n",
              "      <td>2.0</td>\n",
              "      <td>-39.0</td>\n",
              "    </tr>\n",
              "    <tr>\n",
              "      <th>12</th>\n",
              "      <td>9.0</td>\n",
              "      <td>4.0</td>\n",
              "      <td>1.0</td>\n",
              "    </tr>\n",
              "    <tr>\n",
              "      <th>13</th>\n",
              "      <td>6.0</td>\n",
              "      <td>10.0</td>\n",
              "      <td>-164.0</td>\n",
              "    </tr>\n",
              "    <tr>\n",
              "      <th>14</th>\n",
              "      <td>9.0</td>\n",
              "      <td>3.0</td>\n",
              "      <td>21.0</td>\n",
              "    </tr>\n",
              "    <tr>\n",
              "      <th>15</th>\n",
              "      <td>2.0</td>\n",
              "      <td>3.0</td>\n",
              "      <td>-56.0</td>\n",
              "    </tr>\n",
              "    <tr>\n",
              "      <th>16</th>\n",
              "      <td>-2.0</td>\n",
              "      <td>-14.0</td>\n",
              "      <td>284.0</td>\n",
              "    </tr>\n",
              "    <tr>\n",
              "      <th>17</th>\n",
              "      <td>-4.0</td>\n",
              "      <td>-8.0</td>\n",
              "      <td>176.0</td>\n",
              "    </tr>\n",
              "    <tr>\n",
              "      <th>18</th>\n",
              "      <td>7.0</td>\n",
              "      <td>11.0</td>\n",
              "      <td>-171.0</td>\n",
              "    </tr>\n",
              "    <tr>\n",
              "      <th>19</th>\n",
              "      <td>-0.0</td>\n",
              "      <td>-0.0</td>\n",
              "      <td>0.0</td>\n",
              "    </tr>\n",
              "  </tbody>\n",
              "</table>\n",
              "</div>\n",
              "    <div class=\"colab-df-buttons\">\n",
              "\n",
              "  <div class=\"colab-df-container\">\n",
              "    <button class=\"colab-df-convert\" onclick=\"convertToInteractive('df-7b49abc3-2b13-4882-99bd-830de96e70f4')\"\n",
              "            title=\"Convert this dataframe to an interactive table.\"\n",
              "            style=\"display:none;\">\n",
              "\n",
              "  <svg xmlns=\"http://www.w3.org/2000/svg\" height=\"24px\" viewBox=\"0 -960 960 960\">\n",
              "    <path d=\"M120-120v-720h720v720H120Zm60-500h600v-160H180v160Zm220 220h160v-160H400v160Zm0 220h160v-160H400v160ZM180-400h160v-160H180v160Zm440 0h160v-160H620v160ZM180-180h160v-160H180v160Zm440 0h160v-160H620v160Z\"/>\n",
              "  </svg>\n",
              "    </button>\n",
              "\n",
              "  <style>\n",
              "    .colab-df-container {\n",
              "      display:flex;\n",
              "      gap: 12px;\n",
              "    }\n",
              "\n",
              "    .colab-df-convert {\n",
              "      background-color: #E8F0FE;\n",
              "      border: none;\n",
              "      border-radius: 50%;\n",
              "      cursor: pointer;\n",
              "      display: none;\n",
              "      fill: #1967D2;\n",
              "      height: 32px;\n",
              "      padding: 0 0 0 0;\n",
              "      width: 32px;\n",
              "    }\n",
              "\n",
              "    .colab-df-convert:hover {\n",
              "      background-color: #E2EBFA;\n",
              "      box-shadow: 0px 1px 2px rgba(60, 64, 67, 0.3), 0px 1px 3px 1px rgba(60, 64, 67, 0.15);\n",
              "      fill: #174EA6;\n",
              "    }\n",
              "\n",
              "    .colab-df-buttons div {\n",
              "      margin-bottom: 4px;\n",
              "    }\n",
              "\n",
              "    [theme=dark] .colab-df-convert {\n",
              "      background-color: #3B4455;\n",
              "      fill: #D2E3FC;\n",
              "    }\n",
              "\n",
              "    [theme=dark] .colab-df-convert:hover {\n",
              "      background-color: #434B5C;\n",
              "      box-shadow: 0px 1px 3px 1px rgba(0, 0, 0, 0.15);\n",
              "      filter: drop-shadow(0px 1px 2px rgba(0, 0, 0, 0.3));\n",
              "      fill: #FFFFFF;\n",
              "    }\n",
              "  </style>\n",
              "\n",
              "    <script>\n",
              "      const buttonEl =\n",
              "        document.querySelector('#df-7b49abc3-2b13-4882-99bd-830de96e70f4 button.colab-df-convert');\n",
              "      buttonEl.style.display =\n",
              "        google.colab.kernel.accessAllowed ? 'block' : 'none';\n",
              "\n",
              "      async function convertToInteractive(key) {\n",
              "        const element = document.querySelector('#df-7b49abc3-2b13-4882-99bd-830de96e70f4');\n",
              "        const dataTable =\n",
              "          await google.colab.kernel.invokeFunction('convertToInteractive',\n",
              "                                                    [key], {});\n",
              "        if (!dataTable) return;\n",
              "\n",
              "        const docLinkHtml = 'Like what you see? Visit the ' +\n",
              "          '<a target=\"_blank\" href=https://colab.research.google.com/notebooks/data_table.ipynb>data table notebook</a>'\n",
              "          + ' to learn more about interactive tables.';\n",
              "        element.innerHTML = '';\n",
              "        dataTable['output_type'] = 'display_data';\n",
              "        await google.colab.output.renderOutput(dataTable, element);\n",
              "        const docLink = document.createElement('div');\n",
              "        docLink.innerHTML = docLinkHtml;\n",
              "        element.appendChild(docLink);\n",
              "      }\n",
              "    </script>\n",
              "  </div>\n",
              "\n",
              "\n",
              "<div id=\"df-0805a49b-e3cc-4673-8468-8e77fe9dd9c1\">\n",
              "  <button class=\"colab-df-quickchart\" onclick=\"quickchart('df-0805a49b-e3cc-4673-8468-8e77fe9dd9c1')\"\n",
              "            title=\"Suggest charts\"\n",
              "            style=\"display:none;\">\n",
              "\n",
              "<svg xmlns=\"http://www.w3.org/2000/svg\" height=\"24px\"viewBox=\"0 0 24 24\"\n",
              "     width=\"24px\">\n",
              "    <g>\n",
              "        <path d=\"M19 3H5c-1.1 0-2 .9-2 2v14c0 1.1.9 2 2 2h14c1.1 0 2-.9 2-2V5c0-1.1-.9-2-2-2zM9 17H7v-7h2v7zm4 0h-2V7h2v10zm4 0h-2v-4h2v4z\"/>\n",
              "    </g>\n",
              "</svg>\n",
              "  </button>\n",
              "\n",
              "<style>\n",
              "  .colab-df-quickchart {\n",
              "      --bg-color: #E8F0FE;\n",
              "      --fill-color: #1967D2;\n",
              "      --hover-bg-color: #E2EBFA;\n",
              "      --hover-fill-color: #174EA6;\n",
              "      --disabled-fill-color: #AAA;\n",
              "      --disabled-bg-color: #DDD;\n",
              "  }\n",
              "\n",
              "  [theme=dark] .colab-df-quickchart {\n",
              "      --bg-color: #3B4455;\n",
              "      --fill-color: #D2E3FC;\n",
              "      --hover-bg-color: #434B5C;\n",
              "      --hover-fill-color: #FFFFFF;\n",
              "      --disabled-bg-color: #3B4455;\n",
              "      --disabled-fill-color: #666;\n",
              "  }\n",
              "\n",
              "  .colab-df-quickchart {\n",
              "    background-color: var(--bg-color);\n",
              "    border: none;\n",
              "    border-radius: 50%;\n",
              "    cursor: pointer;\n",
              "    display: none;\n",
              "    fill: var(--fill-color);\n",
              "    height: 32px;\n",
              "    padding: 0;\n",
              "    width: 32px;\n",
              "  }\n",
              "\n",
              "  .colab-df-quickchart:hover {\n",
              "    background-color: var(--hover-bg-color);\n",
              "    box-shadow: 0 1px 2px rgba(60, 64, 67, 0.3), 0 1px 3px 1px rgba(60, 64, 67, 0.15);\n",
              "    fill: var(--button-hover-fill-color);\n",
              "  }\n",
              "\n",
              "  .colab-df-quickchart-complete:disabled,\n",
              "  .colab-df-quickchart-complete:disabled:hover {\n",
              "    background-color: var(--disabled-bg-color);\n",
              "    fill: var(--disabled-fill-color);\n",
              "    box-shadow: none;\n",
              "  }\n",
              "\n",
              "  .colab-df-spinner {\n",
              "    border: 2px solid var(--fill-color);\n",
              "    border-color: transparent;\n",
              "    border-bottom-color: var(--fill-color);\n",
              "    animation:\n",
              "      spin 1s steps(1) infinite;\n",
              "  }\n",
              "\n",
              "  @keyframes spin {\n",
              "    0% {\n",
              "      border-color: transparent;\n",
              "      border-bottom-color: var(--fill-color);\n",
              "      border-left-color: var(--fill-color);\n",
              "    }\n",
              "    20% {\n",
              "      border-color: transparent;\n",
              "      border-left-color: var(--fill-color);\n",
              "      border-top-color: var(--fill-color);\n",
              "    }\n",
              "    30% {\n",
              "      border-color: transparent;\n",
              "      border-left-color: var(--fill-color);\n",
              "      border-top-color: var(--fill-color);\n",
              "      border-right-color: var(--fill-color);\n",
              "    }\n",
              "    40% {\n",
              "      border-color: transparent;\n",
              "      border-right-color: var(--fill-color);\n",
              "      border-top-color: var(--fill-color);\n",
              "    }\n",
              "    60% {\n",
              "      border-color: transparent;\n",
              "      border-right-color: var(--fill-color);\n",
              "    }\n",
              "    80% {\n",
              "      border-color: transparent;\n",
              "      border-right-color: var(--fill-color);\n",
              "      border-bottom-color: var(--fill-color);\n",
              "    }\n",
              "    90% {\n",
              "      border-color: transparent;\n",
              "      border-bottom-color: var(--fill-color);\n",
              "    }\n",
              "  }\n",
              "</style>\n",
              "\n",
              "  <script>\n",
              "    async function quickchart(key) {\n",
              "      const quickchartButtonEl =\n",
              "        document.querySelector('#' + key + ' button');\n",
              "      quickchartButtonEl.disabled = true;  // To prevent multiple clicks.\n",
              "      quickchartButtonEl.classList.add('colab-df-spinner');\n",
              "      try {\n",
              "        const charts = await google.colab.kernel.invokeFunction(\n",
              "            'suggestCharts', [key], {});\n",
              "      } catch (error) {\n",
              "        console.error('Error during call to suggestCharts:', error);\n",
              "      }\n",
              "      quickchartButtonEl.classList.remove('colab-df-spinner');\n",
              "      quickchartButtonEl.classList.add('colab-df-quickchart-complete');\n",
              "    }\n",
              "    (() => {\n",
              "      let quickchartButtonEl =\n",
              "        document.querySelector('#df-0805a49b-e3cc-4673-8468-8e77fe9dd9c1 button');\n",
              "      quickchartButtonEl.style.display =\n",
              "        google.colab.kernel.accessAllowed ? 'block' : 'none';\n",
              "    })();\n",
              "  </script>\n",
              "</div>\n",
              "\n",
              "  <div id=\"id_81038fa4-ea09-45c6-985f-ba7dddee5b4c\">\n",
              "    <style>\n",
              "      .colab-df-generate {\n",
              "        background-color: #E8F0FE;\n",
              "        border: none;\n",
              "        border-radius: 50%;\n",
              "        cursor: pointer;\n",
              "        display: none;\n",
              "        fill: #1967D2;\n",
              "        height: 32px;\n",
              "        padding: 0 0 0 0;\n",
              "        width: 32px;\n",
              "      }\n",
              "\n",
              "      .colab-df-generate:hover {\n",
              "        background-color: #E2EBFA;\n",
              "        box-shadow: 0px 1px 2px rgba(60, 64, 67, 0.3), 0px 1px 3px 1px rgba(60, 64, 67, 0.15);\n",
              "        fill: #174EA6;\n",
              "      }\n",
              "\n",
              "      [theme=dark] .colab-df-generate {\n",
              "        background-color: #3B4455;\n",
              "        fill: #D2E3FC;\n",
              "      }\n",
              "\n",
              "      [theme=dark] .colab-df-generate:hover {\n",
              "        background-color: #434B5C;\n",
              "        box-shadow: 0px 1px 3px 1px rgba(0, 0, 0, 0.15);\n",
              "        filter: drop-shadow(0px 1px 2px rgba(0, 0, 0, 0.3));\n",
              "        fill: #FFFFFF;\n",
              "      }\n",
              "    </style>\n",
              "    <button class=\"colab-df-generate\" onclick=\"generateWithVariable('result_df')\"\n",
              "            title=\"Generate code using this dataframe.\"\n",
              "            style=\"display:none;\">\n",
              "\n",
              "  <svg xmlns=\"http://www.w3.org/2000/svg\" height=\"24px\"viewBox=\"0 0 24 24\"\n",
              "       width=\"24px\">\n",
              "    <path d=\"M7,19H8.4L18.45,9,17,7.55,7,17.6ZM5,21V16.75L18.45,3.32a2,2,0,0,1,2.83,0l1.4,1.43a1.91,1.91,0,0,1,.58,1.4,1.91,1.91,0,0,1-.58,1.4L9.25,21ZM18.45,9,17,7.55Zm-12,3A5.31,5.31,0,0,0,4.9,8.1,5.31,5.31,0,0,0,1,6.5,5.31,5.31,0,0,0,4.9,4.9,5.31,5.31,0,0,0,6.5,1,5.31,5.31,0,0,0,8.1,4.9,5.31,5.31,0,0,0,12,6.5,5.46,5.46,0,0,0,6.5,12Z\"/>\n",
              "  </svg>\n",
              "    </button>\n",
              "    <script>\n",
              "      (() => {\n",
              "      const buttonEl =\n",
              "        document.querySelector('#id_81038fa4-ea09-45c6-985f-ba7dddee5b4c button.colab-df-generate');\n",
              "      buttonEl.style.display =\n",
              "        google.colab.kernel.accessAllowed ? 'block' : 'none';\n",
              "\n",
              "      buttonEl.onclick = () => {\n",
              "        google.colab.notebook.generateWithVariable('result_df');\n",
              "      }\n",
              "      })();\n",
              "    </script>\n",
              "  </div>\n",
              "\n",
              "    </div>\n",
              "  </div>\n"
            ],
            "application/vnd.google.colaboratory.intrinsic+json": {
              "type": "dataframe",
              "variable_name": "result_df",
              "summary": "{\n  \"name\": \"result_df\",\n  \"rows\": 20,\n  \"fields\": [\n    {\n      \"column\": \"x\",\n      \"properties\": {\n        \"dtype\": \"number\",\n        \"std\": 5.90182844103151,\n        \"min\": -9.0,\n        \"max\": 10.0,\n        \"num_unique_values\": 13,\n        \"samples\": [\n          -2.0,\n          1.0,\n          -6.0\n        ],\n        \"semantic_type\": \"\",\n        \"description\": \"\"\n      }\n    },\n    {\n      \"column\": \"y\",\n      \"properties\": {\n        \"dtype\": \"number\",\n        \"std\": 7.667257795670051,\n        \"min\": -14.0,\n        \"max\": 15.0,\n        \"num_unique_values\": 17,\n        \"samples\": [\n          5.0,\n          10.0,\n          15.0\n        ],\n        \"semantic_type\": \"\",\n        \"description\": \"\"\n      }\n    },\n    {\n      \"column\": \"losses\",\n      \"properties\": {\n        \"dtype\": \"number\",\n        \"std\": 154.37960732523817,\n        \"min\": -296.0,\n        \"max\": 284.0,\n        \"num_unique_values\": 20,\n        \"samples\": [\n          -64.0,\n          176.0,\n          -56.0\n        ],\n        \"semantic_type\": \"\",\n        \"description\": \"\"\n      }\n    }\n  ]\n}"
            }
          },
          "metadata": {},
          "execution_count": 23
        }
      ]
    },
    {
      "cell_type": "markdown",
      "source": [
        "HyperOpt를 이용한 XGBoost 하이퍼 파라미터 최적화"
      ],
      "metadata": {
        "id": "H1bjHvAb-6Mf"
      }
    },
    {
      "cell_type": "code",
      "source": [
        "# 전체 데이터 중 80%는 학습용 데이터, 20%는 테스트용 데이터 추출\n",
        "X_train, X_test, y_train, y_test=train_test_split(X_features, y_label, test_size=0.2, random_state=156 )\n",
        "\n",
        "# 앞에서 추출한 학습 데이터를 다시 학습과 검증 데이터로 분리\n",
        "X_tr, X_val, y_tr, y_val= train_test_split(X_train, y_train, test_size=0.1, random_state=156 )"
      ],
      "metadata": {
        "id": "dMOrXziD-pot"
      },
      "execution_count": null,
      "outputs": []
    },
    {
      "cell_type": "code",
      "source": [
        "from hyperopt import hp\n",
        "\n",
        "# max_depth는 5에서 20까지 1간격으로, min_child_weight는 1에서 2까지 1간격으로\n",
        "# colsample_bytree는 0.5에서 1사이, learning_rate는 0.01에서 0.2 사이 정규 분포된 값으로 검색.\n",
        "xgb_search_space = {'max_depth': hp.quniform('max_depth', 5, 20, 1),\n",
        "                    'min_child_weight': hp.quniform('min_child_weight', 1, 2, 1),\n",
        "                    'learning_rate': hp.uniform('learning_rate', 0.01, 0.2),\n",
        "                    'colsample_bytree': hp.uniform('colsample_bytree', 0.5, 1),\n",
        "                   }"
      ],
      "metadata": {
        "id": "KYZ0jHfM-psP"
      },
      "execution_count": null,
      "outputs": []
    },
    {
      "cell_type": "code",
      "source": [
        "from sklearn.model_selection import cross_val_score\n",
        "from xgboost import XGBClassifier\n",
        "from hyperopt import STATUS_OK\n",
        "\n",
        "# fmin()에서 입력된 search_space 값으로 입력된 모든 값은 실수형임.\n",
        "# XGBClassifier의 정수형 하이퍼 파라미터는 정수형 변환을 해줘야 함.\n",
        "# 정확도는 높을수록 더 좋은 수치임. -1 * 정확도를 곱해서 큰 정확도 값일수록 최소가 되도록 변환\n",
        "def objective_func(search_space):\n",
        "    # 수행 시간 절약을 위해 nestimators는 100으로 축소\n",
        "    xgb_clf = XGBClassifier(n_estimators=100, max_depth=int(search_space['max_depth']),\n",
        "                            min_child_weight=int(search_space['min_child_weight']),\n",
        "                            learning_rate=search_space['learning_rate'],\n",
        "                            colsample_bytree=search_space['colsample_bytree'],\n",
        "                            eval_metric='logloss')\n",
        "    accuracy = cross_val_score(xgb_clf, X_train, y_train, scoring='accuracy', cv=3)\n",
        "\n",
        "    # accuracy는 cv=3 개수만큼 roc-auc 결과를 리스트로 가짐. 이를 평균해서 반환하되 -1을 곱함.\n",
        "    return {'loss':-1 * np.mean(accuracy), 'status': STATUS_OK}\n"
      ],
      "metadata": {
        "id": "Ut3q09I_-pxc"
      },
      "execution_count": null,
      "outputs": []
    },
    {
      "cell_type": "code",
      "source": [
        "from hyperopt import fmin, tpe, Trials\n",
        "\n",
        "trial_val = Trials()\n",
        "best = fmin(fn=objective_func,\n",
        "            space=xgb_search_space,\n",
        "            algo=tpe.suggest,\n",
        "            max_evals=50, # 최대 반복 횟수를 지정합니다.\n",
        "            trials=trial_val, rstate=np.random.default_rng(seed=9))\n",
        "print('best:', best)\n"
      ],
      "metadata": {
        "id": "FjPFHtoW-pza",
        "colab": {
          "base_uri": "https://localhost:8080/"
        },
        "outputId": "5bbb6394-8a33-4a07-dc2d-e18fb54a4793"
      },
      "execution_count": null,
      "outputs": [
        {
          "output_type": "stream",
          "name": "stdout",
          "text": [
            "100%|██████████| 50/50 [00:18<00:00,  2.74trial/s, best loss: -0.9626612059951203]\n",
            "best: {'colsample_bytree': 0.503178147914091, 'learning_rate': 0.15991894571499984, 'max_depth': 14.0, 'min_child_weight': 1.0}\n"
          ]
        }
      ]
    },
    {
      "cell_type": "code",
      "source": [
        "print('colsample_bytree:{0}, learning_rate:{1}, max_depth:{2}, min_child_weight:{3}'.format(\n",
        "    round(best['colsample_bytree'], 5), round(best['learning_rate'], 5),\n",
        "    int(best['max_depth']), int(best['min_child_weight'])))"
      ],
      "metadata": {
        "id": "mZQ-A8E2-p1T",
        "colab": {
          "base_uri": "https://localhost:8080/"
        },
        "outputId": "e21a5750-2d74-491f-eb17-4014097763e2"
      },
      "execution_count": null,
      "outputs": [
        {
          "output_type": "stream",
          "name": "stdout",
          "text": [
            "colsample_bytree:0.50318, learning_rate:0.15992, max_depth:14, min_child_weight:1\n"
          ]
        }
      ]
    },
    {
      "cell_type": "code",
      "source": [
        "xgb_wrapper = XGBClassifier(n_estimators=400,\n",
        "                            learning_rate=round(best['learning_rate'], 5),\n",
        "                            max_depth=int(best['max_depth']),\n",
        "                            min_child_weight=int(best['min_child_weight']),\n",
        "                            colsample_bytree=round(best['colsample_bytree'], 5)\n",
        "                           )\n",
        "\n",
        "evals = [(X_tr, y_tr), (X_val, y_val)]\n",
        "xgb_wrapper.fit(X_tr, y_tr, early_stopping_rounds=50, eval_metric='logloss',\n",
        "                eval_set=evals, verbose=True)\n",
        "\n",
        "preds = xgb_wrapper.predict(X_test)\n",
        "pred_proba = xgb_wrapper.predict_proba(X_test)[:, 1]\n",
        "\n",
        "get_clf_eval(y_test, preds, pred_proba)\n"
      ],
      "metadata": {
        "id": "SsI8noge-p4p"
      },
      "execution_count": null,
      "outputs": []
    }
  ],
  "metadata": {
    "colab": {
      "provenance": []
    },
    "kernelspec": {
      "display_name": "Python 3 (ipykernel)",
      "language": "python",
      "name": "python3"
    },
    "language_info": {
      "codemirror_mode": {
        "name": "ipython",
        "version": 3
      },
      "file_extension": ".py",
      "mimetype": "text/x-python",
      "name": "python",
      "nbconvert_exporter": "python",
      "pygments_lexer": "ipython3",
      "version": "3.9.7"
    }
  },
  "nbformat": 4,
  "nbformat_minor": 0
}