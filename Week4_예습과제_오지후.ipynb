{
  "nbformat": 4,
  "nbformat_minor": 0,
  "metadata": {
    "colab": {
      "provenance": []
    },
    "kernelspec": {
      "name": "python3",
      "display_name": "Python 3"
    },
    "language_info": {
      "name": "python"
    }
  },
  "cells": [
    {
      "cell_type": "markdown",
      "source": [
        "### 4.5. GBM"
      ],
      "metadata": {
        "id": "NH5-CxiQA2eO"
      }
    },
    {
      "cell_type": "markdown",
      "source": [
        "#### [4.4. 랜덤포레스트 예제] 결정 트리 실습-사용자 행동 인식 dataset"
      ],
      "metadata": {
        "id": "L-X9FV-p3qfK"
      }
    },
    {
      "cell_type": "code",
      "source": [
        "from google.colab import drive\n",
        "drive.mount('/content/gdrive/')\n",
        "\n",
        "path = \"/content/gdrive/MyDrive/Euron/\""
      ],
      "metadata": {
        "colab": {
          "base_uri": "https://localhost:8080/"
        },
        "id": "RpWJiBdcFkvA",
        "outputId": "3e1060d5-2907-4685-8cad-b9a1c4830010"
      },
      "execution_count": 1,
      "outputs": [
        {
          "output_type": "stream",
          "name": "stdout",
          "text": [
            "Mounted at /content/gdrive/\n"
          ]
        }
      ]
    },
    {
      "cell_type": "code",
      "source": [
        "import pandas as pd\n",
        "import matplotlib.pyplot as plt\n",
        "%matplotlib inline\n",
        "\n",
        "feature_name_df = pd.read_csv(path+'human_activity/features.txt', sep='\\s+',\n",
        "                          header=None, names=['column_index', 'column_name'])\n",
        "\n",
        "# 피처명 index 제거, 피처명만 list 객체로 생성\n",
        "feature_name = feature_name_df.iloc[:,1].values.tolist()\n",
        "print(\"전체에서 10개만 추출:\", feature_name[:10])"
      ],
      "metadata": {
        "colab": {
          "base_uri": "https://localhost:8080/"
        },
        "id": "tUe-6F_J3uOn",
        "outputId": "212d6b65-e18c-45ed-cf55-4d8823829a83"
      },
      "execution_count": 2,
      "outputs": [
        {
          "output_type": "stream",
          "name": "stdout",
          "text": [
            "전체에서 10개만 추출: ['tBodyAcc-mean()-X', 'tBodyAcc-mean()-Y', 'tBodyAcc-mean()-Z', 'tBodyAcc-std()-X', 'tBodyAcc-std()-Y', 'tBodyAcc-std()-Z', 'tBodyAcc-mad()-X', 'tBodyAcc-mad()-Y', 'tBodyAcc-mad()-Z', 'tBodyAcc-max()-X']\n"
          ]
        }
      ]
    },
    {
      "cell_type": "code",
      "source": [
        "# 중복된 피처명 알아보기\n",
        "feature_dup_df=feature_name_df.groupby('column_name').count()\n",
        "print(feature_dup_df[feature_dup_df['column_index']>1].count())\n",
        "feature_dup_df[feature_dup_df['column_index']>1].head()"
      ],
      "metadata": {
        "id": "mlk-VMBU5roJ",
        "colab": {
          "base_uri": "https://localhost:8080/",
          "height": 272
        },
        "outputId": "102d8f52-47d8-454a-f727-4ccc7b112bc9"
      },
      "execution_count": 3,
      "outputs": [
        {
          "output_type": "stream",
          "name": "stdout",
          "text": [
            "column_index    42\n",
            "dtype: int64\n"
          ]
        },
        {
          "output_type": "execute_result",
          "data": {
            "text/plain": [
              "                              column_index\n",
              "column_name                               \n",
              "fBodyAcc-bandsEnergy()-1,16              3\n",
              "fBodyAcc-bandsEnergy()-1,24              3\n",
              "fBodyAcc-bandsEnergy()-1,8               3\n",
              "fBodyAcc-bandsEnergy()-17,24             3\n",
              "fBodyAcc-bandsEnergy()-17,32             3"
            ],
            "text/html": [
              "\n",
              "  <div id=\"df-570c58a6-da47-4f49-b4d6-09313c67506f\" class=\"colab-df-container\">\n",
              "    <div>\n",
              "<style scoped>\n",
              "    .dataframe tbody tr th:only-of-type {\n",
              "        vertical-align: middle;\n",
              "    }\n",
              "\n",
              "    .dataframe tbody tr th {\n",
              "        vertical-align: top;\n",
              "    }\n",
              "\n",
              "    .dataframe thead th {\n",
              "        text-align: right;\n",
              "    }\n",
              "</style>\n",
              "<table border=\"1\" class=\"dataframe\">\n",
              "  <thead>\n",
              "    <tr style=\"text-align: right;\">\n",
              "      <th></th>\n",
              "      <th>column_index</th>\n",
              "    </tr>\n",
              "    <tr>\n",
              "      <th>column_name</th>\n",
              "      <th></th>\n",
              "    </tr>\n",
              "  </thead>\n",
              "  <tbody>\n",
              "    <tr>\n",
              "      <th>fBodyAcc-bandsEnergy()-1,16</th>\n",
              "      <td>3</td>\n",
              "    </tr>\n",
              "    <tr>\n",
              "      <th>fBodyAcc-bandsEnergy()-1,24</th>\n",
              "      <td>3</td>\n",
              "    </tr>\n",
              "    <tr>\n",
              "      <th>fBodyAcc-bandsEnergy()-1,8</th>\n",
              "      <td>3</td>\n",
              "    </tr>\n",
              "    <tr>\n",
              "      <th>fBodyAcc-bandsEnergy()-17,24</th>\n",
              "      <td>3</td>\n",
              "    </tr>\n",
              "    <tr>\n",
              "      <th>fBodyAcc-bandsEnergy()-17,32</th>\n",
              "      <td>3</td>\n",
              "    </tr>\n",
              "  </tbody>\n",
              "</table>\n",
              "</div>\n",
              "    <div class=\"colab-df-buttons\">\n",
              "\n",
              "  <div class=\"colab-df-container\">\n",
              "    <button class=\"colab-df-convert\" onclick=\"convertToInteractive('df-570c58a6-da47-4f49-b4d6-09313c67506f')\"\n",
              "            title=\"Convert this dataframe to an interactive table.\"\n",
              "            style=\"display:none;\">\n",
              "\n",
              "  <svg xmlns=\"http://www.w3.org/2000/svg\" height=\"24px\" viewBox=\"0 -960 960 960\">\n",
              "    <path d=\"M120-120v-720h720v720H120Zm60-500h600v-160H180v160Zm220 220h160v-160H400v160Zm0 220h160v-160H400v160ZM180-400h160v-160H180v160Zm440 0h160v-160H620v160ZM180-180h160v-160H180v160Zm440 0h160v-160H620v160Z\"/>\n",
              "  </svg>\n",
              "    </button>\n",
              "\n",
              "  <style>\n",
              "    .colab-df-container {\n",
              "      display:flex;\n",
              "      gap: 12px;\n",
              "    }\n",
              "\n",
              "    .colab-df-convert {\n",
              "      background-color: #E8F0FE;\n",
              "      border: none;\n",
              "      border-radius: 50%;\n",
              "      cursor: pointer;\n",
              "      display: none;\n",
              "      fill: #1967D2;\n",
              "      height: 32px;\n",
              "      padding: 0 0 0 0;\n",
              "      width: 32px;\n",
              "    }\n",
              "\n",
              "    .colab-df-convert:hover {\n",
              "      background-color: #E2EBFA;\n",
              "      box-shadow: 0px 1px 2px rgba(60, 64, 67, 0.3), 0px 1px 3px 1px rgba(60, 64, 67, 0.15);\n",
              "      fill: #174EA6;\n",
              "    }\n",
              "\n",
              "    .colab-df-buttons div {\n",
              "      margin-bottom: 4px;\n",
              "    }\n",
              "\n",
              "    [theme=dark] .colab-df-convert {\n",
              "      background-color: #3B4455;\n",
              "      fill: #D2E3FC;\n",
              "    }\n",
              "\n",
              "    [theme=dark] .colab-df-convert:hover {\n",
              "      background-color: #434B5C;\n",
              "      box-shadow: 0px 1px 3px 1px rgba(0, 0, 0, 0.15);\n",
              "      filter: drop-shadow(0px 1px 2px rgba(0, 0, 0, 0.3));\n",
              "      fill: #FFFFFF;\n",
              "    }\n",
              "  </style>\n",
              "\n",
              "    <script>\n",
              "      const buttonEl =\n",
              "        document.querySelector('#df-570c58a6-da47-4f49-b4d6-09313c67506f button.colab-df-convert');\n",
              "      buttonEl.style.display =\n",
              "        google.colab.kernel.accessAllowed ? 'block' : 'none';\n",
              "\n",
              "      async function convertToInteractive(key) {\n",
              "        const element = document.querySelector('#df-570c58a6-da47-4f49-b4d6-09313c67506f');\n",
              "        const dataTable =\n",
              "          await google.colab.kernel.invokeFunction('convertToInteractive',\n",
              "                                                    [key], {});\n",
              "        if (!dataTable) return;\n",
              "\n",
              "        const docLinkHtml = 'Like what you see? Visit the ' +\n",
              "          '<a target=\"_blank\" href=https://colab.research.google.com/notebooks/data_table.ipynb>data table notebook</a>'\n",
              "          + ' to learn more about interactive tables.';\n",
              "        element.innerHTML = '';\n",
              "        dataTable['output_type'] = 'display_data';\n",
              "        await google.colab.output.renderOutput(dataTable, element);\n",
              "        const docLink = document.createElement('div');\n",
              "        docLink.innerHTML = docLinkHtml;\n",
              "        element.appendChild(docLink);\n",
              "      }\n",
              "    </script>\n",
              "  </div>\n",
              "\n",
              "\n",
              "<div id=\"df-cd9b2865-800a-4cd8-a189-0c7f3a927645\">\n",
              "  <button class=\"colab-df-quickchart\" onclick=\"quickchart('df-cd9b2865-800a-4cd8-a189-0c7f3a927645')\"\n",
              "            title=\"Suggest charts\"\n",
              "            style=\"display:none;\">\n",
              "\n",
              "<svg xmlns=\"http://www.w3.org/2000/svg\" height=\"24px\"viewBox=\"0 0 24 24\"\n",
              "     width=\"24px\">\n",
              "    <g>\n",
              "        <path d=\"M19 3H5c-1.1 0-2 .9-2 2v14c0 1.1.9 2 2 2h14c1.1 0 2-.9 2-2V5c0-1.1-.9-2-2-2zM9 17H7v-7h2v7zm4 0h-2V7h2v10zm4 0h-2v-4h2v4z\"/>\n",
              "    </g>\n",
              "</svg>\n",
              "  </button>\n",
              "\n",
              "<style>\n",
              "  .colab-df-quickchart {\n",
              "      --bg-color: #E8F0FE;\n",
              "      --fill-color: #1967D2;\n",
              "      --hover-bg-color: #E2EBFA;\n",
              "      --hover-fill-color: #174EA6;\n",
              "      --disabled-fill-color: #AAA;\n",
              "      --disabled-bg-color: #DDD;\n",
              "  }\n",
              "\n",
              "  [theme=dark] .colab-df-quickchart {\n",
              "      --bg-color: #3B4455;\n",
              "      --fill-color: #D2E3FC;\n",
              "      --hover-bg-color: #434B5C;\n",
              "      --hover-fill-color: #FFFFFF;\n",
              "      --disabled-bg-color: #3B4455;\n",
              "      --disabled-fill-color: #666;\n",
              "  }\n",
              "\n",
              "  .colab-df-quickchart {\n",
              "    background-color: var(--bg-color);\n",
              "    border: none;\n",
              "    border-radius: 50%;\n",
              "    cursor: pointer;\n",
              "    display: none;\n",
              "    fill: var(--fill-color);\n",
              "    height: 32px;\n",
              "    padding: 0;\n",
              "    width: 32px;\n",
              "  }\n",
              "\n",
              "  .colab-df-quickchart:hover {\n",
              "    background-color: var(--hover-bg-color);\n",
              "    box-shadow: 0 1px 2px rgba(60, 64, 67, 0.3), 0 1px 3px 1px rgba(60, 64, 67, 0.15);\n",
              "    fill: var(--button-hover-fill-color);\n",
              "  }\n",
              "\n",
              "  .colab-df-quickchart-complete:disabled,\n",
              "  .colab-df-quickchart-complete:disabled:hover {\n",
              "    background-color: var(--disabled-bg-color);\n",
              "    fill: var(--disabled-fill-color);\n",
              "    box-shadow: none;\n",
              "  }\n",
              "\n",
              "  .colab-df-spinner {\n",
              "    border: 2px solid var(--fill-color);\n",
              "    border-color: transparent;\n",
              "    border-bottom-color: var(--fill-color);\n",
              "    animation:\n",
              "      spin 1s steps(1) infinite;\n",
              "  }\n",
              "\n",
              "  @keyframes spin {\n",
              "    0% {\n",
              "      border-color: transparent;\n",
              "      border-bottom-color: var(--fill-color);\n",
              "      border-left-color: var(--fill-color);\n",
              "    }\n",
              "    20% {\n",
              "      border-color: transparent;\n",
              "      border-left-color: var(--fill-color);\n",
              "      border-top-color: var(--fill-color);\n",
              "    }\n",
              "    30% {\n",
              "      border-color: transparent;\n",
              "      border-left-color: var(--fill-color);\n",
              "      border-top-color: var(--fill-color);\n",
              "      border-right-color: var(--fill-color);\n",
              "    }\n",
              "    40% {\n",
              "      border-color: transparent;\n",
              "      border-right-color: var(--fill-color);\n",
              "      border-top-color: var(--fill-color);\n",
              "    }\n",
              "    60% {\n",
              "      border-color: transparent;\n",
              "      border-right-color: var(--fill-color);\n",
              "    }\n",
              "    80% {\n",
              "      border-color: transparent;\n",
              "      border-right-color: var(--fill-color);\n",
              "      border-bottom-color: var(--fill-color);\n",
              "    }\n",
              "    90% {\n",
              "      border-color: transparent;\n",
              "      border-bottom-color: var(--fill-color);\n",
              "    }\n",
              "  }\n",
              "</style>\n",
              "\n",
              "  <script>\n",
              "    async function quickchart(key) {\n",
              "      const quickchartButtonEl =\n",
              "        document.querySelector('#' + key + ' button');\n",
              "      quickchartButtonEl.disabled = true;  // To prevent multiple clicks.\n",
              "      quickchartButtonEl.classList.add('colab-df-spinner');\n",
              "      try {\n",
              "        const charts = await google.colab.kernel.invokeFunction(\n",
              "            'suggestCharts', [key], {});\n",
              "      } catch (error) {\n",
              "        console.error('Error during call to suggestCharts:', error);\n",
              "      }\n",
              "      quickchartButtonEl.classList.remove('colab-df-spinner');\n",
              "      quickchartButtonEl.classList.add('colab-df-quickchart-complete');\n",
              "    }\n",
              "    (() => {\n",
              "      let quickchartButtonEl =\n",
              "        document.querySelector('#df-cd9b2865-800a-4cd8-a189-0c7f3a927645 button');\n",
              "      quickchartButtonEl.style.display =\n",
              "        google.colab.kernel.accessAllowed ? 'block' : 'none';\n",
              "    })();\n",
              "  </script>\n",
              "</div>\n",
              "\n",
              "    </div>\n",
              "  </div>\n"
            ],
            "application/vnd.google.colaboratory.intrinsic+json": {
              "type": "dataframe",
              "summary": "{\n  \"name\": \"feature_dup_df[feature_dup_df['column_index']>1]\",\n  \"rows\": 5,\n  \"fields\": [\n    {\n      \"column\": \"column_name\",\n      \"properties\": {\n        \"dtype\": \"string\",\n        \"num_unique_values\": 5,\n        \"samples\": [\n          \"fBodyAcc-bandsEnergy()-1,24\",\n          \"fBodyAcc-bandsEnergy()-17,32\",\n          \"fBodyAcc-bandsEnergy()-1,8\"\n        ],\n        \"semantic_type\": \"\",\n        \"description\": \"\"\n      }\n    },\n    {\n      \"column\": \"column_index\",\n      \"properties\": {\n        \"dtype\": \"number\",\n        \"std\": 0,\n        \"min\": 3,\n        \"max\": 3,\n        \"num_unique_values\": 1,\n        \"samples\": [\n          3\n        ],\n        \"semantic_type\": \"\",\n        \"description\": \"\"\n      }\n    }\n  ]\n}"
            }
          },
          "metadata": {},
          "execution_count": 3
        }
      ]
    },
    {
      "cell_type": "code",
      "source": [
        "# 42개의 피처명 중복"
      ],
      "metadata": {
        "id": "MHfZuoAuIA0y"
      },
      "execution_count": 4,
      "outputs": []
    },
    {
      "cell_type": "code",
      "source": [
        "# 원본 피처명에 _1, _2 추가하기\n",
        "def get_new_feature_name_df(old_feature_name_df):\n",
        "  feature_dup_df=pd.DataFrame(data=old_feature_name_df.groupby('column_name').cumcount(), columns=['dup_cnt'])\n",
        "  feature_dup_df=feature_dup_df.reset_index()\n",
        "  new_feature_name_df=pd.merge(old_feature_name_df.reset_index(),feature_dup_df,how='outer')\n",
        "  new_feature_name_df['column_name']=new_feature_name_df[['column_name', 'dup_cnt']].apply(lambda x:x[0]+'_'+str(x[1]) if x[1]>0 else x[0], axis=1)\n",
        "  new_feature_name_df=new_feature_name_df.drop(['index'],axis=1)\n",
        "  return new_feature_name_df"
      ],
      "metadata": {
        "id": "LeVfC1LlISqQ"
      },
      "execution_count": 5,
      "outputs": []
    },
    {
      "cell_type": "code",
      "source": [
        "import pandas as pd\n",
        "\n",
        "def get_human_dataset():\n",
        "\n",
        "  # read_csv에서 공백 문자를 sep로 할당\n",
        "  feature_name_df=pd.read_csv(path+'human_activity/features.txt',sep='\\s+',\n",
        "                          header=None, names=['column_index', 'column_name'])\n",
        "\n",
        "  # 중복된 피처명 수정하는 get_new_feature_name_df( ) 이용, 신규 피처명 DataFrame 설정\n",
        "  new_feature_name_df=get_new_feature_name_df(feature_name_df)\n",
        "\n",
        "  # DataFrame에 피처명을 칼럼으로 부여하기 위해 list로 변환\n",
        "  feature_name=new_feature_name_df.iloc[:,1].values.tolist()\n",
        "\n",
        "  # 학습/테스트 피처 데이터를 DataFrame으로 로딩, 칼럼명은 feature_name 적용\n",
        "  X_train=pd.read_csv(path+'human_activity/train/X_train.txt',sep='\\s+',names=feature_name)\n",
        "  X_test=pd.read_csv(path+'human_activity/test/X_test.txt',sep='\\s+',names=feature_name)\n",
        "\n",
        "  # 학습/테스트 레이블 데이터를 DataFrame으로 로딩, 칼럼명은 action으로 부여\n",
        "  y_train=pd.read_csv(path+'human_activity/train/y_train.txt',sep='\\s+',header=None,names=['action'])\n",
        "  y_test=pd.read_csv(path+'human_activity/test/y_test.txt',sep='\\s+',header=None,names=['action'])\n",
        "\n",
        "  # 학습/테스트용 DataFrame 모두 반환\n",
        "  return X_train,X_test,y_train,y_test\n",
        "\n",
        "X_train,X_test,y_train,y_test=get_human_dataset()"
      ],
      "metadata": {
        "id": "zftEy39IJeYC",
        "colab": {
          "base_uri": "https://localhost:8080/"
        },
        "outputId": "0fdee73f-908c-42cd-efe9-fdcd76af3232"
      },
      "execution_count": 6,
      "outputs": [
        {
          "output_type": "stream",
          "name": "stderr",
          "text": [
            "<ipython-input-5-458d341262bc>:6: FutureWarning: Series.__getitem__ treating keys as positions is deprecated. In a future version, integer keys will always be treated as labels (consistent with DataFrame behavior). To access a value by position, use `ser.iloc[pos]`\n",
            "  new_feature_name_df['column_name']=new_feature_name_df[['column_name', 'dup_cnt']].apply(lambda x:x[0]+'_'+str(x[1]) if x[1]>0 else x[0], axis=1)\n"
          ]
        }
      ]
    },
    {
      "cell_type": "markdown",
      "source": [
        "#### GBM의 개요 및 실습"
      ],
      "metadata": {
        "id": "3t1PG4GzA6XO"
      }
    },
    {
      "cell_type": "code",
      "source": [
        "import pandas as pd\n",
        "\n",
        "from sklearn.ensemble import VotingClassifier\n",
        "from sklearn.linear_model import LogisticRegression\n",
        "from sklearn.neighbors import KNeighborsClassifier\n",
        "from sklearn.datasets import load_breast_cancer\n",
        "from sklearn.model_selection import train_test_split\n",
        "from sklearn.metrics import accuracy_score"
      ],
      "metadata": {
        "id": "55tfj9xeBvM6"
      },
      "execution_count": 7,
      "outputs": []
    },
    {
      "cell_type": "code",
      "execution_count": 8,
      "metadata": {
        "id": "3TT7BtfAAyRM"
      },
      "outputs": [],
      "source": [
        "from sklearn.ensemble import GradientBoostingClassifier\n",
        "import time\n",
        "import warnings\n",
        "warnings.filterwarnings('ignore')"
      ]
    },
    {
      "cell_type": "code",
      "source": [
        "X_train, X_test, y_train, y_test = get_human_dataset()\n",
        "\n",
        "# GBM 수행시간 측정을 위함\n",
        "start_time=time.time()  # 시작 시간 설정\n",
        "\n",
        "gb_clf=GradientBoostingClassifier(random_state=0)\n",
        "gb_clf.fit(X_train, y_train)\n",
        "gb_pred=gb_clf.predict(X_test)\n",
        "gb_accuracy=accuracy_score(y_test, gb_pred)\n",
        "\n",
        "print('GBM 정확도: {0:.4f}'.format(gb_accuracy))\n",
        "print('GBM 수행 시간: {0:.4f}'.format(time.time()-start_time))"
      ],
      "metadata": {
        "id": "UYHnIrwVBjPY",
        "colab": {
          "base_uri": "https://localhost:8080/"
        },
        "outputId": "e5cf431a-0f8c-461b-8910-993220b2a5c3"
      },
      "execution_count": 13,
      "outputs": [
        {
          "output_type": "stream",
          "name": "stdout",
          "text": [
            "GBM 정확도: 0.9386\n",
            "GBM 수행 시간: 1213.1036\n"
          ]
        }
      ]
    },
    {
      "cell_type": "code",
      "source": [
        "# 랜덤 포레스트보다 나은 예측 성능\n",
        "# 그러나! 수행 시간이 오래 걸림 (순차적인 예측 오류 보정 => 병렬 처리로 수행하지 않음)"
      ],
      "metadata": {
        "id": "H4KeEbEnDPhH"
      },
      "execution_count": 10,
      "outputs": []
    },
    {
      "cell_type": "markdown",
      "source": [
        "#### GBM 하이퍼 파라미터 및 튜닝"
      ],
      "metadata": {
        "id": "N4qYjvasDjmA"
      }
    },
    {
      "cell_type": "code",
      "source": [
        "from sklearn.model_selection import GridSearchCV\n",
        "\n",
        "params={\n",
        "    'n_estimators':[100,500],\n",
        "    'learning_rate':[0.05,0.1]\n",
        "}\n",
        "grid_cv=GridSearchCV(gb_clf, param_grid=params, cv=2, verbose=1)  # cv: 학습/검증 데이터 분할 수 (2개의 세트)\n",
        "grid_cv.fit(X_train, y_train)\n",
        "print('최적 하이퍼 파라미터:\\n', grid_cv.best_params_)\n",
        "print('최고 예측 정확도: {0:.4f}'.format(grid_cv.best_score_))"
      ],
      "metadata": {
        "id": "GMCkxuWHDh8q",
        "colab": {
          "base_uri": "https://localhost:8080/",
          "height": 373
        },
        "outputId": "154e2933-492f-4de1-f71e-04c9421ff14e"
      },
      "execution_count": 14,
      "outputs": [
        {
          "output_type": "stream",
          "name": "stdout",
          "text": [
            "Fitting 2 folds for each of 4 candidates, totalling 8 fits\n"
          ]
        },
        {
          "output_type": "error",
          "ename": "KeyboardInterrupt",
          "evalue": "",
          "traceback": [
            "\u001b[0;31m---------------------------------------------------------------------------\u001b[0m",
            "\u001b[0;31mKeyboardInterrupt\u001b[0m                         Traceback (most recent call last)",
            "\u001b[0;32m<ipython-input-14-1461ce450abf>\u001b[0m in \u001b[0;36m<cell line: 8>\u001b[0;34m()\u001b[0m\n\u001b[1;32m      6\u001b[0m }\n\u001b[1;32m      7\u001b[0m \u001b[0mgrid_cv\u001b[0m\u001b[0;34m=\u001b[0m\u001b[0mGridSearchCV\u001b[0m\u001b[0;34m(\u001b[0m\u001b[0mgb_clf\u001b[0m\u001b[0;34m,\u001b[0m \u001b[0mparam_grid\u001b[0m\u001b[0;34m=\u001b[0m\u001b[0mparams\u001b[0m\u001b[0;34m,\u001b[0m \u001b[0mcv\u001b[0m\u001b[0;34m=\u001b[0m\u001b[0;36m2\u001b[0m\u001b[0;34m,\u001b[0m \u001b[0mverbose\u001b[0m\u001b[0;34m=\u001b[0m\u001b[0;36m1\u001b[0m\u001b[0;34m)\u001b[0m  \u001b[0;31m# cv: 학습/검증 데이터 분할 수 (2개의 세트)\u001b[0m\u001b[0;34m\u001b[0m\u001b[0;34m\u001b[0m\u001b[0m\n\u001b[0;32m----> 8\u001b[0;31m \u001b[0mgrid_cv\u001b[0m\u001b[0;34m.\u001b[0m\u001b[0mfit\u001b[0m\u001b[0;34m(\u001b[0m\u001b[0mX_train\u001b[0m\u001b[0;34m,\u001b[0m \u001b[0my_train\u001b[0m\u001b[0;34m)\u001b[0m\u001b[0;34m\u001b[0m\u001b[0;34m\u001b[0m\u001b[0m\n\u001b[0m\u001b[1;32m      9\u001b[0m \u001b[0mprint\u001b[0m\u001b[0;34m(\u001b[0m\u001b[0;34m'최적 하이퍼 파라미터:\\n'\u001b[0m\u001b[0;34m,\u001b[0m \u001b[0mgrid_cv\u001b[0m\u001b[0;34m.\u001b[0m\u001b[0mbest_params_\u001b[0m\u001b[0;34m)\u001b[0m\u001b[0;34m\u001b[0m\u001b[0;34m\u001b[0m\u001b[0m\n\u001b[1;32m     10\u001b[0m \u001b[0mprint\u001b[0m\u001b[0;34m(\u001b[0m\u001b[0;34m'최고 예측 정확도: {0:.4f}'\u001b[0m\u001b[0;34m.\u001b[0m\u001b[0mformat\u001b[0m\u001b[0;34m(\u001b[0m\u001b[0mgrid_cv\u001b[0m\u001b[0;34m.\u001b[0m\u001b[0mbest_score_\u001b[0m\u001b[0;34m)\u001b[0m\u001b[0;34m)\u001b[0m\u001b[0;34m\u001b[0m\u001b[0;34m\u001b[0m\u001b[0m\n",
            "\u001b[0;32m/usr/local/lib/python3.10/dist-packages/sklearn/base.py\u001b[0m in \u001b[0;36mwrapper\u001b[0;34m(estimator, *args, **kwargs)\u001b[0m\n\u001b[1;32m   1471\u001b[0m                 )\n\u001b[1;32m   1472\u001b[0m             ):\n\u001b[0;32m-> 1473\u001b[0;31m                 \u001b[0;32mreturn\u001b[0m \u001b[0mfit_method\u001b[0m\u001b[0;34m(\u001b[0m\u001b[0mestimator\u001b[0m\u001b[0;34m,\u001b[0m \u001b[0;34m*\u001b[0m\u001b[0margs\u001b[0m\u001b[0;34m,\u001b[0m \u001b[0;34m**\u001b[0m\u001b[0mkwargs\u001b[0m\u001b[0;34m)\u001b[0m\u001b[0;34m\u001b[0m\u001b[0;34m\u001b[0m\u001b[0m\n\u001b[0m\u001b[1;32m   1474\u001b[0m \u001b[0;34m\u001b[0m\u001b[0m\n\u001b[1;32m   1475\u001b[0m         \u001b[0;32mreturn\u001b[0m \u001b[0mwrapper\u001b[0m\u001b[0;34m\u001b[0m\u001b[0;34m\u001b[0m\u001b[0m\n",
            "\u001b[0;32m/usr/local/lib/python3.10/dist-packages/sklearn/model_selection/_search.py\u001b[0m in \u001b[0;36mfit\u001b[0;34m(self, X, y, **params)\u001b[0m\n\u001b[1;32m   1017\u001b[0m                 \u001b[0;32mreturn\u001b[0m \u001b[0mresults\u001b[0m\u001b[0;34m\u001b[0m\u001b[0;34m\u001b[0m\u001b[0m\n\u001b[1;32m   1018\u001b[0m \u001b[0;34m\u001b[0m\u001b[0m\n\u001b[0;32m-> 1019\u001b[0;31m             \u001b[0mself\u001b[0m\u001b[0;34m.\u001b[0m\u001b[0m_run_search\u001b[0m\u001b[0;34m(\u001b[0m\u001b[0mevaluate_candidates\u001b[0m\u001b[0;34m)\u001b[0m\u001b[0;34m\u001b[0m\u001b[0;34m\u001b[0m\u001b[0m\n\u001b[0m\u001b[1;32m   1020\u001b[0m \u001b[0;34m\u001b[0m\u001b[0m\n\u001b[1;32m   1021\u001b[0m             \u001b[0;31m# multimetric is determined here because in the case of a callable\u001b[0m\u001b[0;34m\u001b[0m\u001b[0;34m\u001b[0m\u001b[0m\n",
            "\u001b[0;32m/usr/local/lib/python3.10/dist-packages/sklearn/model_selection/_search.py\u001b[0m in \u001b[0;36m_run_search\u001b[0;34m(self, evaluate_candidates)\u001b[0m\n\u001b[1;32m   1571\u001b[0m     \u001b[0;32mdef\u001b[0m \u001b[0m_run_search\u001b[0m\u001b[0;34m(\u001b[0m\u001b[0mself\u001b[0m\u001b[0;34m,\u001b[0m \u001b[0mevaluate_candidates\u001b[0m\u001b[0;34m)\u001b[0m\u001b[0;34m:\u001b[0m\u001b[0;34m\u001b[0m\u001b[0;34m\u001b[0m\u001b[0m\n\u001b[1;32m   1572\u001b[0m         \u001b[0;34m\"\"\"Search all candidates in param_grid\"\"\"\u001b[0m\u001b[0;34m\u001b[0m\u001b[0;34m\u001b[0m\u001b[0m\n\u001b[0;32m-> 1573\u001b[0;31m         \u001b[0mevaluate_candidates\u001b[0m\u001b[0;34m(\u001b[0m\u001b[0mParameterGrid\u001b[0m\u001b[0;34m(\u001b[0m\u001b[0mself\u001b[0m\u001b[0;34m.\u001b[0m\u001b[0mparam_grid\u001b[0m\u001b[0;34m)\u001b[0m\u001b[0;34m)\u001b[0m\u001b[0;34m\u001b[0m\u001b[0;34m\u001b[0m\u001b[0m\n\u001b[0m\u001b[1;32m   1574\u001b[0m \u001b[0;34m\u001b[0m\u001b[0m\n\u001b[1;32m   1575\u001b[0m \u001b[0;34m\u001b[0m\u001b[0m\n",
            "\u001b[0;32m/usr/local/lib/python3.10/dist-packages/sklearn/model_selection/_search.py\u001b[0m in \u001b[0;36mevaluate_candidates\u001b[0;34m(candidate_params, cv, more_results)\u001b[0m\n\u001b[1;32m    963\u001b[0m                     )\n\u001b[1;32m    964\u001b[0m \u001b[0;34m\u001b[0m\u001b[0m\n\u001b[0;32m--> 965\u001b[0;31m                 out = parallel(\n\u001b[0m\u001b[1;32m    966\u001b[0m                     delayed(_fit_and_score)(\n\u001b[1;32m    967\u001b[0m                         \u001b[0mclone\u001b[0m\u001b[0;34m(\u001b[0m\u001b[0mbase_estimator\u001b[0m\u001b[0;34m)\u001b[0m\u001b[0;34m,\u001b[0m\u001b[0;34m\u001b[0m\u001b[0;34m\u001b[0m\u001b[0m\n",
            "\u001b[0;32m/usr/local/lib/python3.10/dist-packages/sklearn/utils/parallel.py\u001b[0m in \u001b[0;36m__call__\u001b[0;34m(self, iterable)\u001b[0m\n\u001b[1;32m     72\u001b[0m             \u001b[0;32mfor\u001b[0m \u001b[0mdelayed_func\u001b[0m\u001b[0;34m,\u001b[0m \u001b[0margs\u001b[0m\u001b[0;34m,\u001b[0m \u001b[0mkwargs\u001b[0m \u001b[0;32min\u001b[0m \u001b[0miterable\u001b[0m\u001b[0;34m\u001b[0m\u001b[0;34m\u001b[0m\u001b[0m\n\u001b[1;32m     73\u001b[0m         )\n\u001b[0;32m---> 74\u001b[0;31m         \u001b[0;32mreturn\u001b[0m \u001b[0msuper\u001b[0m\u001b[0;34m(\u001b[0m\u001b[0;34m)\u001b[0m\u001b[0;34m.\u001b[0m\u001b[0m__call__\u001b[0m\u001b[0;34m(\u001b[0m\u001b[0miterable_with_config\u001b[0m\u001b[0;34m)\u001b[0m\u001b[0;34m\u001b[0m\u001b[0;34m\u001b[0m\u001b[0m\n\u001b[0m\u001b[1;32m     75\u001b[0m \u001b[0;34m\u001b[0m\u001b[0m\n\u001b[1;32m     76\u001b[0m \u001b[0;34m\u001b[0m\u001b[0m\n",
            "\u001b[0;32m/usr/local/lib/python3.10/dist-packages/joblib/parallel.py\u001b[0m in \u001b[0;36m__call__\u001b[0;34m(self, iterable)\u001b[0m\n\u001b[1;32m   1916\u001b[0m             \u001b[0moutput\u001b[0m \u001b[0;34m=\u001b[0m \u001b[0mself\u001b[0m\u001b[0;34m.\u001b[0m\u001b[0m_get_sequential_output\u001b[0m\u001b[0;34m(\u001b[0m\u001b[0miterable\u001b[0m\u001b[0;34m)\u001b[0m\u001b[0;34m\u001b[0m\u001b[0;34m\u001b[0m\u001b[0m\n\u001b[1;32m   1917\u001b[0m             \u001b[0mnext\u001b[0m\u001b[0;34m(\u001b[0m\u001b[0moutput\u001b[0m\u001b[0;34m)\u001b[0m\u001b[0;34m\u001b[0m\u001b[0;34m\u001b[0m\u001b[0m\n\u001b[0;32m-> 1918\u001b[0;31m             \u001b[0;32mreturn\u001b[0m \u001b[0moutput\u001b[0m \u001b[0;32mif\u001b[0m \u001b[0mself\u001b[0m\u001b[0;34m.\u001b[0m\u001b[0mreturn_generator\u001b[0m \u001b[0;32melse\u001b[0m \u001b[0mlist\u001b[0m\u001b[0;34m(\u001b[0m\u001b[0moutput\u001b[0m\u001b[0;34m)\u001b[0m\u001b[0;34m\u001b[0m\u001b[0;34m\u001b[0m\u001b[0m\n\u001b[0m\u001b[1;32m   1919\u001b[0m \u001b[0;34m\u001b[0m\u001b[0m\n\u001b[1;32m   1920\u001b[0m         \u001b[0;31m# Let's create an ID that uniquely identifies the current call. If the\u001b[0m\u001b[0;34m\u001b[0m\u001b[0;34m\u001b[0m\u001b[0m\n",
            "\u001b[0;32m/usr/local/lib/python3.10/dist-packages/joblib/parallel.py\u001b[0m in \u001b[0;36m_get_sequential_output\u001b[0;34m(self, iterable)\u001b[0m\n\u001b[1;32m   1845\u001b[0m                 \u001b[0mself\u001b[0m\u001b[0;34m.\u001b[0m\u001b[0mn_dispatched_batches\u001b[0m \u001b[0;34m+=\u001b[0m \u001b[0;36m1\u001b[0m\u001b[0;34m\u001b[0m\u001b[0;34m\u001b[0m\u001b[0m\n\u001b[1;32m   1846\u001b[0m                 \u001b[0mself\u001b[0m\u001b[0;34m.\u001b[0m\u001b[0mn_dispatched_tasks\u001b[0m \u001b[0;34m+=\u001b[0m \u001b[0;36m1\u001b[0m\u001b[0;34m\u001b[0m\u001b[0;34m\u001b[0m\u001b[0m\n\u001b[0;32m-> 1847\u001b[0;31m                 \u001b[0mres\u001b[0m \u001b[0;34m=\u001b[0m \u001b[0mfunc\u001b[0m\u001b[0;34m(\u001b[0m\u001b[0;34m*\u001b[0m\u001b[0margs\u001b[0m\u001b[0;34m,\u001b[0m \u001b[0;34m**\u001b[0m\u001b[0mkwargs\u001b[0m\u001b[0;34m)\u001b[0m\u001b[0;34m\u001b[0m\u001b[0;34m\u001b[0m\u001b[0m\n\u001b[0m\u001b[1;32m   1848\u001b[0m                 \u001b[0mself\u001b[0m\u001b[0;34m.\u001b[0m\u001b[0mn_completed_tasks\u001b[0m \u001b[0;34m+=\u001b[0m \u001b[0;36m1\u001b[0m\u001b[0;34m\u001b[0m\u001b[0;34m\u001b[0m\u001b[0m\n\u001b[1;32m   1849\u001b[0m                 \u001b[0mself\u001b[0m\u001b[0;34m.\u001b[0m\u001b[0mprint_progress\u001b[0m\u001b[0;34m(\u001b[0m\u001b[0;34m)\u001b[0m\u001b[0;34m\u001b[0m\u001b[0;34m\u001b[0m\u001b[0m\n",
            "\u001b[0;32m/usr/local/lib/python3.10/dist-packages/sklearn/utils/parallel.py\u001b[0m in \u001b[0;36m__call__\u001b[0;34m(self, *args, **kwargs)\u001b[0m\n\u001b[1;32m    134\u001b[0m             \u001b[0mconfig\u001b[0m \u001b[0;34m=\u001b[0m \u001b[0;34m{\u001b[0m\u001b[0;34m}\u001b[0m\u001b[0;34m\u001b[0m\u001b[0;34m\u001b[0m\u001b[0m\n\u001b[1;32m    135\u001b[0m         \u001b[0;32mwith\u001b[0m \u001b[0mconfig_context\u001b[0m\u001b[0;34m(\u001b[0m\u001b[0;34m**\u001b[0m\u001b[0mconfig\u001b[0m\u001b[0;34m)\u001b[0m\u001b[0;34m:\u001b[0m\u001b[0;34m\u001b[0m\u001b[0;34m\u001b[0m\u001b[0m\n\u001b[0;32m--> 136\u001b[0;31m             \u001b[0;32mreturn\u001b[0m \u001b[0mself\u001b[0m\u001b[0;34m.\u001b[0m\u001b[0mfunction\u001b[0m\u001b[0;34m(\u001b[0m\u001b[0;34m*\u001b[0m\u001b[0margs\u001b[0m\u001b[0;34m,\u001b[0m \u001b[0;34m**\u001b[0m\u001b[0mkwargs\u001b[0m\u001b[0;34m)\u001b[0m\u001b[0;34m\u001b[0m\u001b[0;34m\u001b[0m\u001b[0m\n\u001b[0m\u001b[1;32m    137\u001b[0m \u001b[0;34m\u001b[0m\u001b[0m\n\u001b[1;32m    138\u001b[0m \u001b[0;34m\u001b[0m\u001b[0m\n",
            "\u001b[0;32m/usr/local/lib/python3.10/dist-packages/sklearn/model_selection/_validation.py\u001b[0m in \u001b[0;36m_fit_and_score\u001b[0;34m(estimator, X, y, scorer, train, test, verbose, parameters, fit_params, score_params, return_train_score, return_parameters, return_n_test_samples, return_times, return_estimator, split_progress, candidate_progress, error_score)\u001b[0m\n\u001b[1;32m    886\u001b[0m             \u001b[0mestimator\u001b[0m\u001b[0;34m.\u001b[0m\u001b[0mfit\u001b[0m\u001b[0;34m(\u001b[0m\u001b[0mX_train\u001b[0m\u001b[0;34m,\u001b[0m \u001b[0;34m**\u001b[0m\u001b[0mfit_params\u001b[0m\u001b[0;34m)\u001b[0m\u001b[0;34m\u001b[0m\u001b[0;34m\u001b[0m\u001b[0m\n\u001b[1;32m    887\u001b[0m         \u001b[0;32melse\u001b[0m\u001b[0;34m:\u001b[0m\u001b[0;34m\u001b[0m\u001b[0;34m\u001b[0m\u001b[0m\n\u001b[0;32m--> 888\u001b[0;31m             \u001b[0mestimator\u001b[0m\u001b[0;34m.\u001b[0m\u001b[0mfit\u001b[0m\u001b[0;34m(\u001b[0m\u001b[0mX_train\u001b[0m\u001b[0;34m,\u001b[0m \u001b[0my_train\u001b[0m\u001b[0;34m,\u001b[0m \u001b[0;34m**\u001b[0m\u001b[0mfit_params\u001b[0m\u001b[0;34m)\u001b[0m\u001b[0;34m\u001b[0m\u001b[0;34m\u001b[0m\u001b[0m\n\u001b[0m\u001b[1;32m    889\u001b[0m \u001b[0;34m\u001b[0m\u001b[0m\n\u001b[1;32m    890\u001b[0m     \u001b[0;32mexcept\u001b[0m \u001b[0mException\u001b[0m\u001b[0;34m:\u001b[0m\u001b[0;34m\u001b[0m\u001b[0;34m\u001b[0m\u001b[0m\n",
            "\u001b[0;32m/usr/local/lib/python3.10/dist-packages/sklearn/base.py\u001b[0m in \u001b[0;36mwrapper\u001b[0;34m(estimator, *args, **kwargs)\u001b[0m\n\u001b[1;32m   1471\u001b[0m                 )\n\u001b[1;32m   1472\u001b[0m             ):\n\u001b[0;32m-> 1473\u001b[0;31m                 \u001b[0;32mreturn\u001b[0m \u001b[0mfit_method\u001b[0m\u001b[0;34m(\u001b[0m\u001b[0mestimator\u001b[0m\u001b[0;34m,\u001b[0m \u001b[0;34m*\u001b[0m\u001b[0margs\u001b[0m\u001b[0;34m,\u001b[0m \u001b[0;34m**\u001b[0m\u001b[0mkwargs\u001b[0m\u001b[0;34m)\u001b[0m\u001b[0;34m\u001b[0m\u001b[0;34m\u001b[0m\u001b[0m\n\u001b[0m\u001b[1;32m   1474\u001b[0m \u001b[0;34m\u001b[0m\u001b[0m\n\u001b[1;32m   1475\u001b[0m         \u001b[0;32mreturn\u001b[0m \u001b[0mwrapper\u001b[0m\u001b[0;34m\u001b[0m\u001b[0;34m\u001b[0m\u001b[0m\n",
            "\u001b[0;32m/usr/local/lib/python3.10/dist-packages/sklearn/ensemble/_gb.py\u001b[0m in \u001b[0;36mfit\u001b[0;34m(self, X, y, sample_weight, monitor)\u001b[0m\n\u001b[1;32m    781\u001b[0m \u001b[0;34m\u001b[0m\u001b[0m\n\u001b[1;32m    782\u001b[0m         \u001b[0;31m# fit the boosting stages\u001b[0m\u001b[0;34m\u001b[0m\u001b[0;34m\u001b[0m\u001b[0m\n\u001b[0;32m--> 783\u001b[0;31m         n_stages = self._fit_stages(\n\u001b[0m\u001b[1;32m    784\u001b[0m             \u001b[0mX_train\u001b[0m\u001b[0;34m,\u001b[0m\u001b[0;34m\u001b[0m\u001b[0;34m\u001b[0m\u001b[0m\n\u001b[1;32m    785\u001b[0m             \u001b[0my_train\u001b[0m\u001b[0;34m,\u001b[0m\u001b[0;34m\u001b[0m\u001b[0;34m\u001b[0m\u001b[0m\n",
            "\u001b[0;32m/usr/local/lib/python3.10/dist-packages/sklearn/ensemble/_gb.py\u001b[0m in \u001b[0;36m_fit_stages\u001b[0;34m(self, X, y, raw_predictions, sample_weight, random_state, X_val, y_val, sample_weight_val, begin_at_stage, monitor)\u001b[0m\n\u001b[1;32m    877\u001b[0m \u001b[0;34m\u001b[0m\u001b[0m\n\u001b[1;32m    878\u001b[0m             \u001b[0;31m# fit next stage of trees\u001b[0m\u001b[0;34m\u001b[0m\u001b[0;34m\u001b[0m\u001b[0m\n\u001b[0;32m--> 879\u001b[0;31m             raw_predictions = self._fit_stage(\n\u001b[0m\u001b[1;32m    880\u001b[0m                 \u001b[0mi\u001b[0m\u001b[0;34m,\u001b[0m\u001b[0;34m\u001b[0m\u001b[0;34m\u001b[0m\u001b[0m\n\u001b[1;32m    881\u001b[0m                 \u001b[0mX\u001b[0m\u001b[0;34m,\u001b[0m\u001b[0;34m\u001b[0m\u001b[0;34m\u001b[0m\u001b[0m\n",
            "\u001b[0;32m/usr/local/lib/python3.10/dist-packages/sklearn/ensemble/_gb.py\u001b[0m in \u001b[0;36m_fit_stage\u001b[0;34m(self, i, X, y, raw_predictions, sample_weight, sample_mask, random_state, X_csc, X_csr)\u001b[0m\n\u001b[1;32m    488\u001b[0m \u001b[0;34m\u001b[0m\u001b[0m\n\u001b[1;32m    489\u001b[0m             \u001b[0mX\u001b[0m \u001b[0;34m=\u001b[0m \u001b[0mX_csc\u001b[0m \u001b[0;32mif\u001b[0m \u001b[0mX_csc\u001b[0m \u001b[0;32mis\u001b[0m \u001b[0;32mnot\u001b[0m \u001b[0;32mNone\u001b[0m \u001b[0;32melse\u001b[0m \u001b[0mX\u001b[0m\u001b[0;34m\u001b[0m\u001b[0;34m\u001b[0m\u001b[0m\n\u001b[0;32m--> 490\u001b[0;31m             tree.fit(\n\u001b[0m\u001b[1;32m    491\u001b[0m                 \u001b[0mX\u001b[0m\u001b[0;34m,\u001b[0m \u001b[0mneg_g_view\u001b[0m\u001b[0;34m[\u001b[0m\u001b[0;34m:\u001b[0m\u001b[0;34m,\u001b[0m \u001b[0mk\u001b[0m\u001b[0;34m]\u001b[0m\u001b[0;34m,\u001b[0m \u001b[0msample_weight\u001b[0m\u001b[0;34m=\u001b[0m\u001b[0msample_weight\u001b[0m\u001b[0;34m,\u001b[0m \u001b[0mcheck_input\u001b[0m\u001b[0;34m=\u001b[0m\u001b[0;32mFalse\u001b[0m\u001b[0;34m\u001b[0m\u001b[0;34m\u001b[0m\u001b[0m\n\u001b[1;32m    492\u001b[0m             )\n",
            "\u001b[0;32m/usr/local/lib/python3.10/dist-packages/sklearn/base.py\u001b[0m in \u001b[0;36mwrapper\u001b[0;34m(estimator, *args, **kwargs)\u001b[0m\n\u001b[1;32m   1471\u001b[0m                 )\n\u001b[1;32m   1472\u001b[0m             ):\n\u001b[0;32m-> 1473\u001b[0;31m                 \u001b[0;32mreturn\u001b[0m \u001b[0mfit_method\u001b[0m\u001b[0;34m(\u001b[0m\u001b[0mestimator\u001b[0m\u001b[0;34m,\u001b[0m \u001b[0;34m*\u001b[0m\u001b[0margs\u001b[0m\u001b[0;34m,\u001b[0m \u001b[0;34m**\u001b[0m\u001b[0mkwargs\u001b[0m\u001b[0;34m)\u001b[0m\u001b[0;34m\u001b[0m\u001b[0;34m\u001b[0m\u001b[0m\n\u001b[0m\u001b[1;32m   1474\u001b[0m \u001b[0;34m\u001b[0m\u001b[0m\n\u001b[1;32m   1475\u001b[0m         \u001b[0;32mreturn\u001b[0m \u001b[0mwrapper\u001b[0m\u001b[0;34m\u001b[0m\u001b[0;34m\u001b[0m\u001b[0m\n",
            "\u001b[0;32m/usr/local/lib/python3.10/dist-packages/sklearn/tree/_classes.py\u001b[0m in \u001b[0;36mfit\u001b[0;34m(self, X, y, sample_weight, check_input)\u001b[0m\n\u001b[1;32m   1375\u001b[0m         \"\"\"\n\u001b[1;32m   1376\u001b[0m \u001b[0;34m\u001b[0m\u001b[0m\n\u001b[0;32m-> 1377\u001b[0;31m         super()._fit(\n\u001b[0m\u001b[1;32m   1378\u001b[0m             \u001b[0mX\u001b[0m\u001b[0;34m,\u001b[0m\u001b[0;34m\u001b[0m\u001b[0;34m\u001b[0m\u001b[0m\n\u001b[1;32m   1379\u001b[0m             \u001b[0my\u001b[0m\u001b[0;34m,\u001b[0m\u001b[0;34m\u001b[0m\u001b[0;34m\u001b[0m\u001b[0m\n",
            "\u001b[0;32m/usr/local/lib/python3.10/dist-packages/sklearn/tree/_classes.py\u001b[0m in \u001b[0;36m_fit\u001b[0;34m(self, X, y, sample_weight, check_input, missing_values_in_feature_mask)\u001b[0m\n\u001b[1;32m    470\u001b[0m             )\n\u001b[1;32m    471\u001b[0m \u001b[0;34m\u001b[0m\u001b[0m\n\u001b[0;32m--> 472\u001b[0;31m         \u001b[0mbuilder\u001b[0m\u001b[0;34m.\u001b[0m\u001b[0mbuild\u001b[0m\u001b[0;34m(\u001b[0m\u001b[0mself\u001b[0m\u001b[0;34m.\u001b[0m\u001b[0mtree_\u001b[0m\u001b[0;34m,\u001b[0m \u001b[0mX\u001b[0m\u001b[0;34m,\u001b[0m \u001b[0my\u001b[0m\u001b[0;34m,\u001b[0m \u001b[0msample_weight\u001b[0m\u001b[0;34m,\u001b[0m \u001b[0mmissing_values_in_feature_mask\u001b[0m\u001b[0;34m)\u001b[0m\u001b[0;34m\u001b[0m\u001b[0;34m\u001b[0m\u001b[0m\n\u001b[0m\u001b[1;32m    473\u001b[0m \u001b[0;34m\u001b[0m\u001b[0m\n\u001b[1;32m    474\u001b[0m         \u001b[0;32mif\u001b[0m \u001b[0mself\u001b[0m\u001b[0;34m.\u001b[0m\u001b[0mn_outputs_\u001b[0m \u001b[0;34m==\u001b[0m \u001b[0;36m1\u001b[0m \u001b[0;32mand\u001b[0m \u001b[0mis_classifier\u001b[0m\u001b[0;34m(\u001b[0m\u001b[0mself\u001b[0m\u001b[0;34m)\u001b[0m\u001b[0;34m:\u001b[0m\u001b[0;34m\u001b[0m\u001b[0;34m\u001b[0m\u001b[0m\n",
            "\u001b[0;31mKeyboardInterrupt\u001b[0m: "
          ]
        }
      ]
    },
    {
      "cell_type": "code",
      "source": [
        "# GridSearchCV를 이용하여 최적 학습 estimator로 예측 수행\n",
        "gb_pred=grid_cv.best_estimator_.predict(X_test)\n",
        "gb_accuracy=accuracy_score(y_test, gb_pred)\n",
        "print('GBM 정확도: {0:.4f}'.format(gb_accuracy))"
      ],
      "metadata": {
        "id": "RV1X45GWGQUu",
        "colab": {
          "base_uri": "https://localhost:8080/",
          "height": 193
        },
        "outputId": "830c66b3-736a-4a81-95e8-b2e4b56143a0"
      },
      "execution_count": 16,
      "outputs": [
        {
          "output_type": "error",
          "ename": "AttributeError",
          "evalue": "'GridSearchCV' object has no attribute 'best_estimator_'",
          "traceback": [
            "\u001b[0;31m---------------------------------------------------------------------------\u001b[0m",
            "\u001b[0;31mAttributeError\u001b[0m                            Traceback (most recent call last)",
            "\u001b[0;32m<ipython-input-16-e13455bc20ba>\u001b[0m in \u001b[0;36m<cell line: 2>\u001b[0;34m()\u001b[0m\n\u001b[1;32m      1\u001b[0m \u001b[0;31m# GridSearchCV를 이용하여 최적 학습 estimator로 예측 수행\u001b[0m\u001b[0;34m\u001b[0m\u001b[0;34m\u001b[0m\u001b[0m\n\u001b[0;32m----> 2\u001b[0;31m \u001b[0mgb_pred\u001b[0m\u001b[0;34m=\u001b[0m\u001b[0mgrid_cv\u001b[0m\u001b[0;34m.\u001b[0m\u001b[0mbest_estimator_\u001b[0m\u001b[0;34m.\u001b[0m\u001b[0mpredict\u001b[0m\u001b[0;34m(\u001b[0m\u001b[0mX_test\u001b[0m\u001b[0;34m)\u001b[0m\u001b[0;34m\u001b[0m\u001b[0;34m\u001b[0m\u001b[0m\n\u001b[0m\u001b[1;32m      3\u001b[0m \u001b[0mgb_accuracy\u001b[0m\u001b[0;34m=\u001b[0m\u001b[0maccuracy_score\u001b[0m\u001b[0;34m(\u001b[0m\u001b[0my_test\u001b[0m\u001b[0;34m,\u001b[0m \u001b[0mgb_pred\u001b[0m\u001b[0;34m)\u001b[0m\u001b[0;34m\u001b[0m\u001b[0;34m\u001b[0m\u001b[0m\n\u001b[1;32m      4\u001b[0m \u001b[0mprint\u001b[0m\u001b[0;34m(\u001b[0m\u001b[0;34m'GBM 정확도: {0:.4f}'\u001b[0m\u001b[0;34m.\u001b[0m\u001b[0mformat\u001b[0m\u001b[0;34m(\u001b[0m\u001b[0mgb_accuracy\u001b[0m\u001b[0;34m)\u001b[0m\u001b[0;34m)\u001b[0m\u001b[0;34m\u001b[0m\u001b[0;34m\u001b[0m\u001b[0m\n",
            "\u001b[0;31mAttributeError\u001b[0m: 'GridSearchCV' object has no attribute 'best_estimator_'"
          ]
        }
      ]
    },
    {
      "cell_type": "markdown",
      "source": [
        "### 4.6. XGBoost"
      ],
      "metadata": {
        "id": "LaeCBV62GoKc"
      }
    },
    {
      "cell_type": "code",
      "source": [
        "import xgboost as xgb\n",
        "from xgboost import XGBClassifier"
      ],
      "metadata": {
        "id": "epr8hEt9H8Kp"
      },
      "execution_count": 17,
      "outputs": []
    },
    {
      "cell_type": "markdown",
      "source": [
        "#### 파이썬 래퍼 XGBoost 하이퍼 파라미터"
      ],
      "metadata": {
        "id": "7aaNlHUCINw6"
      }
    },
    {
      "cell_type": "code",
      "source": [
        "import xgboost\n",
        "print(xgboost.__version__)"
      ],
      "metadata": {
        "id": "xOjsgoFhIKyk",
        "colab": {
          "base_uri": "https://localhost:8080/"
        },
        "outputId": "d616a3a4-b2fb-4cb7-df05-5741c2ef3857"
      },
      "execution_count": 18,
      "outputs": [
        {
          "output_type": "stream",
          "name": "stdout",
          "text": [
            "2.1.1\n"
          ]
        }
      ]
    },
    {
      "cell_type": "markdown",
      "source": [
        "#### 파이썬 래퍼 XGBoost 적용-위스콘신 유방암 예측"
      ],
      "metadata": {
        "id": "hIaP7A1qIixw"
      }
    },
    {
      "cell_type": "code",
      "source": [
        "import xgboost\n",
        "from xgboost import plot_importance\n",
        "import pandas as pd\n",
        "import numpy as np\n",
        "from sklearn.datasets import load_breast_cancer\n",
        "from sklearn.model_selection import train_test_split\n",
        "import warnings\n",
        "warnings.filterwarnings('ignore')\n",
        "\n",
        "dataset=load_breast_cancer()\n",
        "X_features=dataset.data\n",
        "y_label=dataset.target\n",
        "\n",
        "cancer_df=pd.DataFrame(data=X_features, columns=dataset.feature_names)\n",
        "cancer_df['target']=y_label\n",
        "cancer_df.head(3)"
      ],
      "metadata": {
        "id": "s7H1tS3BIXgJ",
        "colab": {
          "base_uri": "https://localhost:8080/",
          "height": 208
        },
        "outputId": "24e817f5-316c-4f95-e7bd-7e35659107d4"
      },
      "execution_count": 19,
      "outputs": [
        {
          "output_type": "execute_result",
          "data": {
            "text/plain": [
              "   mean radius  mean texture  mean perimeter  mean area  mean smoothness  \\\n",
              "0        17.99         10.38           122.8     1001.0          0.11840   \n",
              "1        20.57         17.77           132.9     1326.0          0.08474   \n",
              "2        19.69         21.25           130.0     1203.0          0.10960   \n",
              "\n",
              "   mean compactness  mean concavity  mean concave points  mean symmetry  \\\n",
              "0           0.27760          0.3001              0.14710         0.2419   \n",
              "1           0.07864          0.0869              0.07017         0.1812   \n",
              "2           0.15990          0.1974              0.12790         0.2069   \n",
              "\n",
              "   mean fractal dimension  ...  worst texture  worst perimeter  worst area  \\\n",
              "0                 0.07871  ...          17.33            184.6      2019.0   \n",
              "1                 0.05667  ...          23.41            158.8      1956.0   \n",
              "2                 0.05999  ...          25.53            152.5      1709.0   \n",
              "\n",
              "   worst smoothness  worst compactness  worst concavity  worst concave points  \\\n",
              "0            0.1622             0.6656           0.7119                0.2654   \n",
              "1            0.1238             0.1866           0.2416                0.1860   \n",
              "2            0.1444             0.4245           0.4504                0.2430   \n",
              "\n",
              "   worst symmetry  worst fractal dimension  target  \n",
              "0          0.4601                  0.11890       0  \n",
              "1          0.2750                  0.08902       0  \n",
              "2          0.3613                  0.08758       0  \n",
              "\n",
              "[3 rows x 31 columns]"
            ],
            "text/html": [
              "\n",
              "  <div id=\"df-abe0b1f2-3733-46b6-b8bb-b3604a806fa7\" class=\"colab-df-container\">\n",
              "    <div>\n",
              "<style scoped>\n",
              "    .dataframe tbody tr th:only-of-type {\n",
              "        vertical-align: middle;\n",
              "    }\n",
              "\n",
              "    .dataframe tbody tr th {\n",
              "        vertical-align: top;\n",
              "    }\n",
              "\n",
              "    .dataframe thead th {\n",
              "        text-align: right;\n",
              "    }\n",
              "</style>\n",
              "<table border=\"1\" class=\"dataframe\">\n",
              "  <thead>\n",
              "    <tr style=\"text-align: right;\">\n",
              "      <th></th>\n",
              "      <th>mean radius</th>\n",
              "      <th>mean texture</th>\n",
              "      <th>mean perimeter</th>\n",
              "      <th>mean area</th>\n",
              "      <th>mean smoothness</th>\n",
              "      <th>mean compactness</th>\n",
              "      <th>mean concavity</th>\n",
              "      <th>mean concave points</th>\n",
              "      <th>mean symmetry</th>\n",
              "      <th>mean fractal dimension</th>\n",
              "      <th>...</th>\n",
              "      <th>worst texture</th>\n",
              "      <th>worst perimeter</th>\n",
              "      <th>worst area</th>\n",
              "      <th>worst smoothness</th>\n",
              "      <th>worst compactness</th>\n",
              "      <th>worst concavity</th>\n",
              "      <th>worst concave points</th>\n",
              "      <th>worst symmetry</th>\n",
              "      <th>worst fractal dimension</th>\n",
              "      <th>target</th>\n",
              "    </tr>\n",
              "  </thead>\n",
              "  <tbody>\n",
              "    <tr>\n",
              "      <th>0</th>\n",
              "      <td>17.99</td>\n",
              "      <td>10.38</td>\n",
              "      <td>122.8</td>\n",
              "      <td>1001.0</td>\n",
              "      <td>0.11840</td>\n",
              "      <td>0.27760</td>\n",
              "      <td>0.3001</td>\n",
              "      <td>0.14710</td>\n",
              "      <td>0.2419</td>\n",
              "      <td>0.07871</td>\n",
              "      <td>...</td>\n",
              "      <td>17.33</td>\n",
              "      <td>184.6</td>\n",
              "      <td>2019.0</td>\n",
              "      <td>0.1622</td>\n",
              "      <td>0.6656</td>\n",
              "      <td>0.7119</td>\n",
              "      <td>0.2654</td>\n",
              "      <td>0.4601</td>\n",
              "      <td>0.11890</td>\n",
              "      <td>0</td>\n",
              "    </tr>\n",
              "    <tr>\n",
              "      <th>1</th>\n",
              "      <td>20.57</td>\n",
              "      <td>17.77</td>\n",
              "      <td>132.9</td>\n",
              "      <td>1326.0</td>\n",
              "      <td>0.08474</td>\n",
              "      <td>0.07864</td>\n",
              "      <td>0.0869</td>\n",
              "      <td>0.07017</td>\n",
              "      <td>0.1812</td>\n",
              "      <td>0.05667</td>\n",
              "      <td>...</td>\n",
              "      <td>23.41</td>\n",
              "      <td>158.8</td>\n",
              "      <td>1956.0</td>\n",
              "      <td>0.1238</td>\n",
              "      <td>0.1866</td>\n",
              "      <td>0.2416</td>\n",
              "      <td>0.1860</td>\n",
              "      <td>0.2750</td>\n",
              "      <td>0.08902</td>\n",
              "      <td>0</td>\n",
              "    </tr>\n",
              "    <tr>\n",
              "      <th>2</th>\n",
              "      <td>19.69</td>\n",
              "      <td>21.25</td>\n",
              "      <td>130.0</td>\n",
              "      <td>1203.0</td>\n",
              "      <td>0.10960</td>\n",
              "      <td>0.15990</td>\n",
              "      <td>0.1974</td>\n",
              "      <td>0.12790</td>\n",
              "      <td>0.2069</td>\n",
              "      <td>0.05999</td>\n",
              "      <td>...</td>\n",
              "      <td>25.53</td>\n",
              "      <td>152.5</td>\n",
              "      <td>1709.0</td>\n",
              "      <td>0.1444</td>\n",
              "      <td>0.4245</td>\n",
              "      <td>0.4504</td>\n",
              "      <td>0.2430</td>\n",
              "      <td>0.3613</td>\n",
              "      <td>0.08758</td>\n",
              "      <td>0</td>\n",
              "    </tr>\n",
              "  </tbody>\n",
              "</table>\n",
              "<p>3 rows × 31 columns</p>\n",
              "</div>\n",
              "    <div class=\"colab-df-buttons\">\n",
              "\n",
              "  <div class=\"colab-df-container\">\n",
              "    <button class=\"colab-df-convert\" onclick=\"convertToInteractive('df-abe0b1f2-3733-46b6-b8bb-b3604a806fa7')\"\n",
              "            title=\"Convert this dataframe to an interactive table.\"\n",
              "            style=\"display:none;\">\n",
              "\n",
              "  <svg xmlns=\"http://www.w3.org/2000/svg\" height=\"24px\" viewBox=\"0 -960 960 960\">\n",
              "    <path d=\"M120-120v-720h720v720H120Zm60-500h600v-160H180v160Zm220 220h160v-160H400v160Zm0 220h160v-160H400v160ZM180-400h160v-160H180v160Zm440 0h160v-160H620v160ZM180-180h160v-160H180v160Zm440 0h160v-160H620v160Z\"/>\n",
              "  </svg>\n",
              "    </button>\n",
              "\n",
              "  <style>\n",
              "    .colab-df-container {\n",
              "      display:flex;\n",
              "      gap: 12px;\n",
              "    }\n",
              "\n",
              "    .colab-df-convert {\n",
              "      background-color: #E8F0FE;\n",
              "      border: none;\n",
              "      border-radius: 50%;\n",
              "      cursor: pointer;\n",
              "      display: none;\n",
              "      fill: #1967D2;\n",
              "      height: 32px;\n",
              "      padding: 0 0 0 0;\n",
              "      width: 32px;\n",
              "    }\n",
              "\n",
              "    .colab-df-convert:hover {\n",
              "      background-color: #E2EBFA;\n",
              "      box-shadow: 0px 1px 2px rgba(60, 64, 67, 0.3), 0px 1px 3px 1px rgba(60, 64, 67, 0.15);\n",
              "      fill: #174EA6;\n",
              "    }\n",
              "\n",
              "    .colab-df-buttons div {\n",
              "      margin-bottom: 4px;\n",
              "    }\n",
              "\n",
              "    [theme=dark] .colab-df-convert {\n",
              "      background-color: #3B4455;\n",
              "      fill: #D2E3FC;\n",
              "    }\n",
              "\n",
              "    [theme=dark] .colab-df-convert:hover {\n",
              "      background-color: #434B5C;\n",
              "      box-shadow: 0px 1px 3px 1px rgba(0, 0, 0, 0.15);\n",
              "      filter: drop-shadow(0px 1px 2px rgba(0, 0, 0, 0.3));\n",
              "      fill: #FFFFFF;\n",
              "    }\n",
              "  </style>\n",
              "\n",
              "    <script>\n",
              "      const buttonEl =\n",
              "        document.querySelector('#df-abe0b1f2-3733-46b6-b8bb-b3604a806fa7 button.colab-df-convert');\n",
              "      buttonEl.style.display =\n",
              "        google.colab.kernel.accessAllowed ? 'block' : 'none';\n",
              "\n",
              "      async function convertToInteractive(key) {\n",
              "        const element = document.querySelector('#df-abe0b1f2-3733-46b6-b8bb-b3604a806fa7');\n",
              "        const dataTable =\n",
              "          await google.colab.kernel.invokeFunction('convertToInteractive',\n",
              "                                                    [key], {});\n",
              "        if (!dataTable) return;\n",
              "\n",
              "        const docLinkHtml = 'Like what you see? Visit the ' +\n",
              "          '<a target=\"_blank\" href=https://colab.research.google.com/notebooks/data_table.ipynb>data table notebook</a>'\n",
              "          + ' to learn more about interactive tables.';\n",
              "        element.innerHTML = '';\n",
              "        dataTable['output_type'] = 'display_data';\n",
              "        await google.colab.output.renderOutput(dataTable, element);\n",
              "        const docLink = document.createElement('div');\n",
              "        docLink.innerHTML = docLinkHtml;\n",
              "        element.appendChild(docLink);\n",
              "      }\n",
              "    </script>\n",
              "  </div>\n",
              "\n",
              "\n",
              "<div id=\"df-d554d2ea-2d1f-4563-8977-0820eb754760\">\n",
              "  <button class=\"colab-df-quickchart\" onclick=\"quickchart('df-d554d2ea-2d1f-4563-8977-0820eb754760')\"\n",
              "            title=\"Suggest charts\"\n",
              "            style=\"display:none;\">\n",
              "\n",
              "<svg xmlns=\"http://www.w3.org/2000/svg\" height=\"24px\"viewBox=\"0 0 24 24\"\n",
              "     width=\"24px\">\n",
              "    <g>\n",
              "        <path d=\"M19 3H5c-1.1 0-2 .9-2 2v14c0 1.1.9 2 2 2h14c1.1 0 2-.9 2-2V5c0-1.1-.9-2-2-2zM9 17H7v-7h2v7zm4 0h-2V7h2v10zm4 0h-2v-4h2v4z\"/>\n",
              "    </g>\n",
              "</svg>\n",
              "  </button>\n",
              "\n",
              "<style>\n",
              "  .colab-df-quickchart {\n",
              "      --bg-color: #E8F0FE;\n",
              "      --fill-color: #1967D2;\n",
              "      --hover-bg-color: #E2EBFA;\n",
              "      --hover-fill-color: #174EA6;\n",
              "      --disabled-fill-color: #AAA;\n",
              "      --disabled-bg-color: #DDD;\n",
              "  }\n",
              "\n",
              "  [theme=dark] .colab-df-quickchart {\n",
              "      --bg-color: #3B4455;\n",
              "      --fill-color: #D2E3FC;\n",
              "      --hover-bg-color: #434B5C;\n",
              "      --hover-fill-color: #FFFFFF;\n",
              "      --disabled-bg-color: #3B4455;\n",
              "      --disabled-fill-color: #666;\n",
              "  }\n",
              "\n",
              "  .colab-df-quickchart {\n",
              "    background-color: var(--bg-color);\n",
              "    border: none;\n",
              "    border-radius: 50%;\n",
              "    cursor: pointer;\n",
              "    display: none;\n",
              "    fill: var(--fill-color);\n",
              "    height: 32px;\n",
              "    padding: 0;\n",
              "    width: 32px;\n",
              "  }\n",
              "\n",
              "  .colab-df-quickchart:hover {\n",
              "    background-color: var(--hover-bg-color);\n",
              "    box-shadow: 0 1px 2px rgba(60, 64, 67, 0.3), 0 1px 3px 1px rgba(60, 64, 67, 0.15);\n",
              "    fill: var(--button-hover-fill-color);\n",
              "  }\n",
              "\n",
              "  .colab-df-quickchart-complete:disabled,\n",
              "  .colab-df-quickchart-complete:disabled:hover {\n",
              "    background-color: var(--disabled-bg-color);\n",
              "    fill: var(--disabled-fill-color);\n",
              "    box-shadow: none;\n",
              "  }\n",
              "\n",
              "  .colab-df-spinner {\n",
              "    border: 2px solid var(--fill-color);\n",
              "    border-color: transparent;\n",
              "    border-bottom-color: var(--fill-color);\n",
              "    animation:\n",
              "      spin 1s steps(1) infinite;\n",
              "  }\n",
              "\n",
              "  @keyframes spin {\n",
              "    0% {\n",
              "      border-color: transparent;\n",
              "      border-bottom-color: var(--fill-color);\n",
              "      border-left-color: var(--fill-color);\n",
              "    }\n",
              "    20% {\n",
              "      border-color: transparent;\n",
              "      border-left-color: var(--fill-color);\n",
              "      border-top-color: var(--fill-color);\n",
              "    }\n",
              "    30% {\n",
              "      border-color: transparent;\n",
              "      border-left-color: var(--fill-color);\n",
              "      border-top-color: var(--fill-color);\n",
              "      border-right-color: var(--fill-color);\n",
              "    }\n",
              "    40% {\n",
              "      border-color: transparent;\n",
              "      border-right-color: var(--fill-color);\n",
              "      border-top-color: var(--fill-color);\n",
              "    }\n",
              "    60% {\n",
              "      border-color: transparent;\n",
              "      border-right-color: var(--fill-color);\n",
              "    }\n",
              "    80% {\n",
              "      border-color: transparent;\n",
              "      border-right-color: var(--fill-color);\n",
              "      border-bottom-color: var(--fill-color);\n",
              "    }\n",
              "    90% {\n",
              "      border-color: transparent;\n",
              "      border-bottom-color: var(--fill-color);\n",
              "    }\n",
              "  }\n",
              "</style>\n",
              "\n",
              "  <script>\n",
              "    async function quickchart(key) {\n",
              "      const quickchartButtonEl =\n",
              "        document.querySelector('#' + key + ' button');\n",
              "      quickchartButtonEl.disabled = true;  // To prevent multiple clicks.\n",
              "      quickchartButtonEl.classList.add('colab-df-spinner');\n",
              "      try {\n",
              "        const charts = await google.colab.kernel.invokeFunction(\n",
              "            'suggestCharts', [key], {});\n",
              "      } catch (error) {\n",
              "        console.error('Error during call to suggestCharts:', error);\n",
              "      }\n",
              "      quickchartButtonEl.classList.remove('colab-df-spinner');\n",
              "      quickchartButtonEl.classList.add('colab-df-quickchart-complete');\n",
              "    }\n",
              "    (() => {\n",
              "      let quickchartButtonEl =\n",
              "        document.querySelector('#df-d554d2ea-2d1f-4563-8977-0820eb754760 button');\n",
              "      quickchartButtonEl.style.display =\n",
              "        google.colab.kernel.accessAllowed ? 'block' : 'none';\n",
              "    })();\n",
              "  </script>\n",
              "</div>\n",
              "\n",
              "    </div>\n",
              "  </div>\n"
            ],
            "application/vnd.google.colaboratory.intrinsic+json": {
              "type": "dataframe",
              "variable_name": "cancer_df"
            }
          },
          "metadata": {},
          "execution_count": 19
        }
      ]
    },
    {
      "cell_type": "code",
      "source": [
        "print(dataset.target_names)\n",
        "print(cancer_df['target'].value_counts())  # 0(maligant, 악성), 1(benign, 양성)"
      ],
      "metadata": {
        "id": "V3z75RhfJX0S",
        "colab": {
          "base_uri": "https://localhost:8080/"
        },
        "outputId": "444ef3b4-f94b-4492-c4ad-39830696f0ed"
      },
      "execution_count": 20,
      "outputs": [
        {
          "output_type": "stream",
          "name": "stdout",
          "text": [
            "['malignant' 'benign']\n",
            "target\n",
            "1    357\n",
            "0    212\n",
            "Name: count, dtype: int64\n"
          ]
        }
      ]
    },
    {
      "cell_type": "code",
      "source": [
        "# 전체 데이터 중 80%는 학습용 데이터, 20%는 테스트용 데이터 추출\n",
        "X_train, X_test, y_train, y_test = train_test_split(X_features, y_label, test_size=0.2, random_state=156)\n",
        "\n",
        "print(X_train.shape, X_test.shape)"
      ],
      "metadata": {
        "id": "mRVlshfdJiD9",
        "colab": {
          "base_uri": "https://localhost:8080/"
        },
        "outputId": "f9a73baa-3d13-47ed-8a2c-7290baed7bad"
      },
      "execution_count": 21,
      "outputs": [
        {
          "output_type": "stream",
          "name": "stdout",
          "text": [
            "(455, 30) (114, 30)\n"
          ]
        }
      ]
    },
    {
      "cell_type": "code",
      "source": [
        "# numpy 형태의 학습/테스트 데이터 세트를 DMatrix로 변환\n",
        "# data: 피처 데이터 세트, label: (분류) 레이블 데이터 세트, (회귀) 숫자형 종속값 데이터 세트\n",
        "dtrain=xgb.DMatrix(data=X_train, label=y_train)\n",
        "dtest=xgb.DMatrix(data=X_test, label=y_test)"
      ],
      "metadata": {
        "id": "23mDPHeOKDYI"
      },
      "execution_count": 22,
      "outputs": []
    },
    {
      "cell_type": "markdown",
      "source": [
        "* 하이퍼 파라미터 설정"
      ],
      "metadata": {
        "id": "B-nwAmwjLIt1"
      }
    },
    {
      "cell_type": "code",
      "source": [
        "params={\n",
        "    'max_depth':3,\n",
        "    'eta':0.1,\n",
        "    'objective':'binary:logistic',\n",
        "    'eval_metric':'logloss',\n",
        "    'early_stoppings':100\n",
        "}\n",
        "num_rounds=400"
      ],
      "metadata": {
        "id": "eyLgGZGxKt6d"
      },
      "execution_count": 23,
      "outputs": []
    },
    {
      "cell_type": "markdown",
      "source": [
        "* 학습"
      ],
      "metadata": {
        "id": "8Cfnt6K5LLjv"
      }
    },
    {
      "cell_type": "code",
      "source": [
        "# train dataset: 'train', evaluation(test) dataset: 'eval'\n",
        "wlist=[(dtrain, 'train'),(dtest, 'eval')]\n",
        "\n",
        "# 하이퍼 파라미터, early stopping 파라미터를 train()함수의 파라미터로 전달\n",
        "xgb_model=xgb.train(params=params, dtrain=dtrain, num_boost_round=num_rounds, \\\n",
        "                    early_stopping_rounds=100, evals=wlist)"
      ],
      "metadata": {
        "id": "HRsM08uzLEFI",
        "colab": {
          "base_uri": "https://localhost:8080/"
        },
        "outputId": "507c2435-32e1-4c9e-c0a6-faeff15f53ba"
      },
      "execution_count": 24,
      "outputs": [
        {
          "output_type": "stream",
          "name": "stdout",
          "text": [
            "[0]\ttrain-logloss:0.58431\teval-logloss:0.56554\n",
            "[1]\ttrain-logloss:0.51885\teval-logloss:0.50669\n",
            "[2]\ttrain-logloss:0.46457\teval-logloss:0.45868\n",
            "[3]\ttrain-logloss:0.41713\teval-logloss:0.41822\n",
            "[4]\ttrain-logloss:0.37585\teval-logloss:0.38103\n",
            "[5]\ttrain-logloss:0.34075\teval-logloss:0.35137\n",
            "[6]\ttrain-logloss:0.31028\teval-logloss:0.32588\n",
            "[7]\ttrain-logloss:0.28283\teval-logloss:0.30127\n",
            "[8]\ttrain-logloss:0.25925\teval-logloss:0.28197\n",
            "[9]\ttrain-logloss:0.23822\teval-logloss:0.26265\n",
            "[10]\ttrain-logloss:0.21951\teval-logloss:0.24821\n",
            "[11]\ttrain-logloss:0.20251\teval-logloss:0.23231\n",
            "[12]\ttrain-logloss:0.18759\teval-logloss:0.22079\n",
            "[13]\ttrain-logloss:0.17386\teval-logloss:0.20795\n",
            "[14]\ttrain-logloss:0.16199\teval-logloss:0.19764\n",
            "[15]\ttrain-logloss:0.15109\teval-logloss:0.18950\n",
            "[16]\ttrain-logloss:0.14056\teval-logloss:0.18052\n",
            "[17]\ttrain-logloss:0.13137\teval-logloss:0.17246\n",
            "[18]\ttrain-logloss:0.12329\teval-logloss:0.16512\n",
            "[19]\ttrain-logloss:0.11565\teval-logloss:0.15828\n",
            "[20]\ttrain-logloss:0.10860\teval-logloss:0.15436\n",
            "[21]\ttrain-logloss:0.10190\teval-logloss:0.14633\n",
            "[22]\ttrain-logloss:0.09563\teval-logloss:0.13936\n",
            "[23]\ttrain-logloss:0.09016\teval-logloss:0.13393\n",
            "[24]\ttrain-logloss:0.08496\teval-logloss:0.13015\n",
            "[25]\ttrain-logloss:0.08021\teval-logloss:0.12489\n",
            "[26]\ttrain-logloss:0.07583\teval-logloss:0.12206\n",
            "[27]\ttrain-logloss:0.07215\teval-logloss:0.11890\n",
            "[28]\ttrain-logloss:0.06837\teval-logloss:0.11637\n",
            "[29]\ttrain-logloss:0.06489\teval-logloss:0.11293\n",
            "[30]\ttrain-logloss:0.06186\teval-logloss:0.11040\n",
            "[31]\ttrain-logloss:0.05924\teval-logloss:0.10826\n",
            "[32]\ttrain-logloss:0.05646\teval-logloss:0.10452\n",
            "[33]\ttrain-logloss:0.05394\teval-logloss:0.10322\n",
            "[34]\ttrain-logloss:0.05167\teval-logloss:0.10059\n",
            "[35]\ttrain-logloss:0.04951\teval-logloss:0.09869\n",
            "[36]\ttrain-logloss:0.04740\teval-logloss:0.09658\n",
            "[37]\ttrain-logloss:0.04554\teval-logloss:0.09487\n",
            "[38]\ttrain-logloss:0.04378\teval-logloss:0.09443\n",
            "[39]\ttrain-logloss:0.04226\teval-logloss:0.09374\n",
            "[40]\ttrain-logloss:0.04075\teval-logloss:0.09239\n",
            "[41]\ttrain-logloss:0.03890\teval-logloss:0.09159\n",
            "[42]\ttrain-logloss:0.03745\teval-logloss:0.09004\n",
            "[43]\ttrain-logloss:0.03608\teval-logloss:0.09029\n",
            "[44]\ttrain-logloss:0.03470\teval-logloss:0.08966\n",
            "[45]\ttrain-logloss:0.03354\teval-logloss:0.08808\n",
            "[46]\ttrain-logloss:0.03250\teval-logloss:0.08783\n",
            "[47]\ttrain-logloss:0.03142\teval-logloss:0.08756\n",
            "[48]\ttrain-logloss:0.03024\teval-logloss:0.08682\n",
            "[49]\ttrain-logloss:0.02905\teval-logloss:0.08829\n",
            "[50]\ttrain-logloss:0.02815\teval-logloss:0.08882\n",
            "[51]\ttrain-logloss:0.02729\teval-logloss:0.08871\n",
            "[52]\ttrain-logloss:0.02651\teval-logloss:0.08780\n",
            "[53]\ttrain-logloss:0.02574\teval-logloss:0.08766\n",
            "[54]\ttrain-logloss:0.02502\teval-logloss:0.08825\n",
            "[55]\ttrain-logloss:0.02433\teval-logloss:0.08882\n",
            "[56]\ttrain-logloss:0.02371\teval-logloss:0.08785\n",
            "[57]\ttrain-logloss:0.02312\teval-logloss:0.08813\n",
            "[58]\ttrain-logloss:0.02247\teval-logloss:0.08871\n",
            "[59]\ttrain-logloss:0.02186\teval-logloss:0.08760\n",
            "[60]\ttrain-logloss:0.02125\teval-logloss:0.08712\n",
            "[61]\ttrain-logloss:0.02075\teval-logloss:0.08795\n",
            "[62]\ttrain-logloss:0.02029\teval-logloss:0.08799\n",
            "[63]\ttrain-logloss:0.01974\teval-logloss:0.08808\n",
            "[64]\ttrain-logloss:0.01926\teval-logloss:0.08749\n",
            "[65]\ttrain-logloss:0.01879\teval-logloss:0.08760\n",
            "[66]\ttrain-logloss:0.01838\teval-logloss:0.08708\n",
            "[67]\ttrain-logloss:0.01812\teval-logloss:0.08668\n",
            "[68]\ttrain-logloss:0.01774\teval-logloss:0.08654\n",
            "[69]\ttrain-logloss:0.01741\teval-logloss:0.08630\n",
            "[70]\ttrain-logloss:0.01710\teval-logloss:0.08574\n",
            "[71]\ttrain-logloss:0.01676\teval-logloss:0.08696\n",
            "[72]\ttrain-logloss:0.01641\teval-logloss:0.08626\n",
            "[73]\ttrain-logloss:0.01609\teval-logloss:0.08685\n",
            "[74]\ttrain-logloss:0.01583\teval-logloss:0.08663\n",
            "[75]\ttrain-logloss:0.01550\teval-logloss:0.08780\n",
            "[76]\ttrain-logloss:0.01530\teval-logloss:0.08713\n",
            "[77]\ttrain-logloss:0.01502\teval-logloss:0.08822\n",
            "[78]\ttrain-logloss:0.01484\teval-logloss:0.08758\n",
            "[79]\ttrain-logloss:0.01465\teval-logloss:0.08728\n",
            "[80]\ttrain-logloss:0.01443\teval-logloss:0.08703\n",
            "[81]\ttrain-logloss:0.01422\teval-logloss:0.08719\n",
            "[82]\ttrain-logloss:0.01408\teval-logloss:0.08662\n",
            "[83]\ttrain-logloss:0.01391\teval-logloss:0.08637\n",
            "[84]\ttrain-logloss:0.01363\teval-logloss:0.08570\n",
            "[85]\ttrain-logloss:0.01344\teval-logloss:0.08590\n",
            "[86]\ttrain-logloss:0.01321\teval-logloss:0.08587\n",
            "[87]\ttrain-logloss:0.01307\teval-logloss:0.08614\n",
            "[88]\ttrain-logloss:0.01289\teval-logloss:0.08635\n",
            "[89]\ttrain-logloss:0.01273\teval-logloss:0.08646\n",
            "[90]\ttrain-logloss:0.01259\teval-logloss:0.08583\n",
            "[91]\ttrain-logloss:0.01240\teval-logloss:0.08583\n",
            "[92]\ttrain-logloss:0.01227\teval-logloss:0.08564\n",
            "[93]\ttrain-logloss:0.01207\teval-logloss:0.08669\n",
            "[94]\ttrain-logloss:0.01192\teval-logloss:0.08692\n",
            "[95]\ttrain-logloss:0.01180\teval-logloss:0.08687\n",
            "[96]\ttrain-logloss:0.01163\teval-logloss:0.08641\n",
            "[97]\ttrain-logloss:0.01153\teval-logloss:0.08584\n",
            "[98]\ttrain-logloss:0.01142\teval-logloss:0.08568\n",
            "[99]\ttrain-logloss:0.01130\teval-logloss:0.08552\n",
            "[100]\ttrain-logloss:0.01118\teval-logloss:0.08548\n",
            "[101]\ttrain-logloss:0.01102\teval-logloss:0.08630\n",
            "[102]\ttrain-logloss:0.01092\teval-logloss:0.08658\n",
            "[103]\ttrain-logloss:0.01081\teval-logloss:0.08656\n",
            "[104]\ttrain-logloss:0.01066\teval-logloss:0.08742\n",
            "[105]\ttrain-logloss:0.01053\teval-logloss:0.08779\n",
            "[106]\ttrain-logloss:0.01045\teval-logloss:0.08777\n",
            "[107]\ttrain-logloss:0.01032\teval-logloss:0.08738\n",
            "[108]\ttrain-logloss:0.01023\teval-logloss:0.08729\n",
            "[109]\ttrain-logloss:0.01015\teval-logloss:0.08736\n",
            "[110]\ttrain-logloss:0.01006\teval-logloss:0.08722\n",
            "[111]\ttrain-logloss:0.00998\teval-logloss:0.08774\n",
            "[112]\ttrain-logloss:0.00985\teval-logloss:0.08864\n",
            "[113]\ttrain-logloss:0.00978\teval-logloss:0.08871\n",
            "[114]\ttrain-logloss:0.00966\teval-logloss:0.08836\n",
            "[115]\ttrain-logloss:0.00958\teval-logloss:0.08865\n",
            "[116]\ttrain-logloss:0.00955\teval-logloss:0.08874\n",
            "[117]\ttrain-logloss:0.00947\teval-logloss:0.08861\n",
            "[118]\ttrain-logloss:0.00940\teval-logloss:0.08819\n",
            "[119]\ttrain-logloss:0.00930\teval-logloss:0.08901\n",
            "[120]\ttrain-logloss:0.00922\teval-logloss:0.08894\n",
            "[121]\ttrain-logloss:0.00917\teval-logloss:0.08869\n",
            "[122]\ttrain-logloss:0.00910\teval-logloss:0.08880\n",
            "[123]\ttrain-logloss:0.00900\teval-logloss:0.08848\n",
            "[124]\ttrain-logloss:0.00897\teval-logloss:0.08858\n",
            "[125]\ttrain-logloss:0.00893\teval-logloss:0.08849\n",
            "[126]\ttrain-logloss:0.00884\teval-logloss:0.08909\n",
            "[127]\ttrain-logloss:0.00877\teval-logloss:0.08886\n",
            "[128]\ttrain-logloss:0.00873\teval-logloss:0.08861\n",
            "[129]\ttrain-logloss:0.00864\teval-logloss:0.08942\n",
            "[130]\ttrain-logloss:0.00861\teval-logloss:0.08934\n",
            "[131]\ttrain-logloss:0.00858\teval-logloss:0.08918\n",
            "[132]\ttrain-logloss:0.00852\teval-logloss:0.08880\n",
            "[133]\ttrain-logloss:0.00844\teval-logloss:0.08956\n",
            "[134]\ttrain-logloss:0.00841\teval-logloss:0.08949\n",
            "[135]\ttrain-logloss:0.00838\teval-logloss:0.08934\n",
            "[136]\ttrain-logloss:0.00833\teval-logloss:0.08891\n",
            "[137]\ttrain-logloss:0.00825\teval-logloss:0.08949\n",
            "[138]\ttrain-logloss:0.00822\teval-logloss:0.08962\n",
            "[139]\ttrain-logloss:0.00815\teval-logloss:0.08969\n",
            "[140]\ttrain-logloss:0.00812\teval-logloss:0.08963\n",
            "[141]\ttrain-logloss:0.00810\teval-logloss:0.08948\n",
            "[142]\ttrain-logloss:0.00807\teval-logloss:0.08961\n",
            "[143]\ttrain-logloss:0.00800\teval-logloss:0.09038\n",
            "[144]\ttrain-logloss:0.00797\teval-logloss:0.09033\n",
            "[145]\ttrain-logloss:0.00793\teval-logloss:0.08991\n",
            "[146]\ttrain-logloss:0.00789\teval-logloss:0.08955\n",
            "[147]\ttrain-logloss:0.00782\teval-logloss:0.08994\n",
            "[148]\ttrain-logloss:0.00779\teval-logloss:0.09002\n",
            "[149]\ttrain-logloss:0.00777\teval-logloss:0.09004\n",
            "[150]\ttrain-logloss:0.00775\teval-logloss:0.09000\n",
            "[151]\ttrain-logloss:0.00772\teval-logloss:0.08985\n",
            "[152]\ttrain-logloss:0.00768\teval-logloss:0.08947\n",
            "[153]\ttrain-logloss:0.00763\teval-logloss:0.08979\n",
            "[154]\ttrain-logloss:0.00757\teval-logloss:0.09010\n",
            "[155]\ttrain-logloss:0.00754\teval-logloss:0.09022\n",
            "[156]\ttrain-logloss:0.00752\teval-logloss:0.09018\n",
            "[157]\ttrain-logloss:0.00748\teval-logloss:0.08997\n",
            "[158]\ttrain-logloss:0.00746\teval-logloss:0.09000\n",
            "[159]\ttrain-logloss:0.00744\teval-logloss:0.08977\n",
            "[160]\ttrain-logloss:0.00742\teval-logloss:0.08976\n",
            "[161]\ttrain-logloss:0.00739\teval-logloss:0.08985\n",
            "[162]\ttrain-logloss:0.00737\teval-logloss:0.08988\n",
            "[163]\ttrain-logloss:0.00735\teval-logloss:0.08959\n",
            "[164]\ttrain-logloss:0.00733\teval-logloss:0.08955\n",
            "[165]\ttrain-logloss:0.00731\teval-logloss:0.08958\n",
            "[166]\ttrain-logloss:0.00729\teval-logloss:0.08930\n",
            "[167]\ttrain-logloss:0.00727\teval-logloss:0.08926\n",
            "[168]\ttrain-logloss:0.00725\teval-logloss:0.08913\n",
            "[169]\ttrain-logloss:0.00723\teval-logloss:0.08915\n",
            "[170]\ttrain-logloss:0.00721\teval-logloss:0.08893\n",
            "[171]\ttrain-logloss:0.00719\teval-logloss:0.08896\n",
            "[172]\ttrain-logloss:0.00717\teval-logloss:0.08908\n",
            "[173]\ttrain-logloss:0.00715\teval-logloss:0.08886\n",
            "[174]\ttrain-logloss:0.00713\teval-logloss:0.08886\n",
            "[175]\ttrain-logloss:0.00711\teval-logloss:0.08895\n",
            "[176]\ttrain-logloss:0.00709\teval-logloss:0.08899\n",
            "[177]\ttrain-logloss:0.00708\teval-logloss:0.08895\n",
            "[178]\ttrain-logloss:0.00706\teval-logloss:0.08867\n",
            "[179]\ttrain-logloss:0.00704\teval-logloss:0.08856\n",
            "[180]\ttrain-logloss:0.00702\teval-logloss:0.08844\n",
            "[181]\ttrain-logloss:0.00700\teval-logloss:0.08841\n",
            "[182]\ttrain-logloss:0.00698\teval-logloss:0.08849\n",
            "[183]\ttrain-logloss:0.00697\teval-logloss:0.08853\n",
            "[184]\ttrain-logloss:0.00695\teval-logloss:0.08831\n",
            "[185]\ttrain-logloss:0.00693\teval-logloss:0.08843\n",
            "[186]\ttrain-logloss:0.00691\teval-logloss:0.08847\n",
            "[187]\ttrain-logloss:0.00689\teval-logloss:0.08826\n",
            "[188]\ttrain-logloss:0.00688\teval-logloss:0.08827\n",
            "[189]\ttrain-logloss:0.00686\teval-logloss:0.08817\n",
            "[190]\ttrain-logloss:0.00684\teval-logloss:0.08826\n",
            "[191]\ttrain-logloss:0.00683\teval-logloss:0.08823\n",
            "[192]\ttrain-logloss:0.00681\teval-logloss:0.08811\n",
            "[193]\ttrain-logloss:0.00679\teval-logloss:0.08791\n",
            "[194]\ttrain-logloss:0.00678\teval-logloss:0.08795\n",
            "[195]\ttrain-logloss:0.00676\teval-logloss:0.08806\n",
            "[196]\ttrain-logloss:0.00674\teval-logloss:0.08787\n",
            "[197]\ttrain-logloss:0.00673\teval-logloss:0.08790\n",
            "[198]\ttrain-logloss:0.00671\teval-logloss:0.08792\n",
            "[199]\ttrain-logloss:0.00670\teval-logloss:0.08800\n"
          ]
        }
      ]
    },
    {
      "cell_type": "markdown",
      "source": [
        "* 예측"
      ],
      "metadata": {
        "id": "b4fWuMUXM6rJ"
      }
    },
    {
      "cell_type": "code",
      "source": [
        "# cf. 사이킷런 predict(): 예측 결과 값 반환\n",
        "\n",
        "pred_probs=xgb_model.predict(dtest)\n",
        "print('predict() 수행 결괏값을 10개만 표시, 예측 확률값으로 표시됨')\n",
        "print(np.round(pred_probs[:10],3))\n",
        "\n",
        "# 예측확률이 0.5보다 크면 1, 그렇지 않으면 0으로 예측값 결정 -> list 객체 preds에 저장\n",
        "preds=[1 if x>0.5 else 0 for x in pred_probs]\n",
        "print('예측값 10개만 표시:', preds[:10])"
      ],
      "metadata": {
        "id": "98R3cNbBMcii",
        "colab": {
          "base_uri": "https://localhost:8080/"
        },
        "outputId": "174cbe67-ddb3-4e71-fecc-0296eac6b6d1"
      },
      "execution_count": 25,
      "outputs": [
        {
          "output_type": "stream",
          "name": "stdout",
          "text": [
            "predict() 수행 결괏값을 10개만 표시, 예측 확률값으로 표시됨\n",
            "[0.904 0.004 0.908 0.267 0.992 1.    1.    0.999 0.994 0.   ]\n",
            "예측값 10개만 표시: [1, 0, 1, 0, 1, 1, 1, 1, 1, 0]\n"
          ]
        }
      ]
    },
    {
      "cell_type": "markdown",
      "source": [
        "* 예측 성능 평가"
      ],
      "metadata": {
        "id": "uBkgvhGgNeX9"
      }
    },
    {
      "cell_type": "code",
      "source": [
        "from sklearn.metrics import accuracy_score, precision_score, recall_score, confusion_matrix, f1_score, roc_auc_score\n",
        "\n",
        "def get_clf_eval(y_test, pred=None, pred_proba=None):\n",
        "  confusion = confusion_matrix(y_test, pred)\n",
        "  accuracy = accuracy_score(y_test, pred)\n",
        "  precision = precision_score(y_test, pred)\n",
        "  recall = recall_score(y_test, pred)\n",
        "  f1=f1_score(y_test,pred)\n",
        "  roc_auc=roc_auc_score(y_test, pred_proba)\n",
        "  print('오차 행렬')\n",
        "  print(confusion)\n",
        "  print('정확도: {0: .4f}, 정밀도: {1: .4f}, 재현율: {2:.4f}'.format(accuracy, precision, recall))"
      ],
      "metadata": {
        "id": "8czw-YZLHVg0"
      },
      "execution_count": 26,
      "outputs": []
    },
    {
      "cell_type": "code",
      "source": [
        "get_clf_eval(y_test, preds, pred_probs)"
      ],
      "metadata": {
        "id": "5qCU-ihrNb_Y",
        "colab": {
          "base_uri": "https://localhost:8080/"
        },
        "outputId": "6117baba-8e80-4762-9422-c0674beb8e5c"
      },
      "execution_count": 27,
      "outputs": [
        {
          "output_type": "stream",
          "name": "stdout",
          "text": [
            "오차 행렬\n",
            "[[34  3]\n",
            " [ 1 76]]\n",
            "정확도:  0.9649, 정밀도:  0.9620, 재현율: 0.9870\n"
          ]
        }
      ]
    },
    {
      "cell_type": "markdown",
      "source": [
        "* 시각화"
      ],
      "metadata": {
        "id": "N2z79C9CQKMI"
      }
    },
    {
      "cell_type": "code",
      "source": [
        "from xgboost import plot_importance\n",
        "import matplotlib.pyplot as plt\n",
        "%matplotlib inline\n",
        "\n",
        "fig, ax = plt.subplots(figsize=(10,12))\n",
        "plot_importance(xgb_model, ax=ax)"
      ],
      "metadata": {
        "id": "C3DKkptQQFSB",
        "colab": {
          "base_uri": "https://localhost:8080/",
          "height": 1000
        },
        "outputId": "6ec58683-64d1-4e40-ffd9-5138aa6d189f"
      },
      "execution_count": 28,
      "outputs": [
        {
          "output_type": "execute_result",
          "data": {
            "text/plain": [
              "<Axes: title={'center': 'Feature importance'}, xlabel='F score', ylabel='Features'>"
            ]
          },
          "metadata": {},
          "execution_count": 28
        },
        {
          "output_type": "display_data",
          "data": {
            "text/plain": [
              "<Figure size 1000x1200 with 1 Axes>"
            ],
            "image/png": "[encoded data removed]"
          },
          "metadata": {}
        }
      ]
    },
    {
      "cell_type": "markdown",
      "source": [
        "#### 사이킷런 래퍼 XGBoost 개요 및 적용"
      ],
      "metadata": {
        "id": "KKJSbxMzQwrT"
      }
    },
    {
      "cell_type": "code",
      "source": [
        "# 사이킷런 래퍼 XGBoostClassifier import\n",
        "from xgboost import XGBClassifier\n",
        "\n",
        "xgb_wrapper=XGBClassifier(n_estimators=400, learning_rate=0.1, max_depth=3)\n",
        "xgb_wrapper.fit(X_train, y_train)\n",
        "w_preds=xgb_wrapper.predict(X_test)\n",
        "w_pred_proba=xgb_wrapper.predict_proba(X_test)[:,1]"
      ],
      "metadata": {
        "id": "ITK1h8bWQjdl"
      },
      "execution_count": 29,
      "outputs": []
    },
    {
      "cell_type": "code",
      "source": [
        "get_clf_eval(y_test, w_preds, w_pred_proba)"
      ],
      "metadata": {
        "id": "6jsVu6YXRjsW",
        "colab": {
          "base_uri": "https://localhost:8080/"
        },
        "outputId": "d26de856-84b2-4862-b51c-cff95cc95c16"
      },
      "execution_count": 30,
      "outputs": [
        {
          "output_type": "stream",
          "name": "stdout",
          "text": [
            "오차 행렬\n",
            "[[35  2]\n",
            " [ 1 76]]\n",
            "정확도:  0.9737, 정밀도:  0.9744, 재현율: 0.9870\n"
          ]
        }
      ]
    },
    {
      "cell_type": "code",
      "source": [
        "from xgboost import XGBClassifier\n",
        "\n",
        "xgb_wrapper=XGBClassifier(n_estimators=400, learning_rate=0.1, max_depth=3, early_stopping_rounds=100, eval_metric=\"logloss\", verbose=True)\n",
        "evals=[(X_test, y_test)]\n",
        "xgb_wrapper.fit(X_train, y_train, eval_set=evals)\n",
        "ws100_preds=xgb_wrapper.predict(X_test)\n",
        "ws100_pred_proba=xgb_wrapper.predict_proba(X_test)[:,1]"
      ],
      "metadata": {
        "id": "_4TNinqzRs9G",
        "colab": {
          "base_uri": "https://localhost:8080/"
        },
        "outputId": "94b282fc-8334-4b92-91fa-37c7f0704b8a"
      },
      "execution_count": 31,
      "outputs": [
        {
          "output_type": "stream",
          "name": "stdout",
          "text": [
            "[0]\tvalidation_0-logloss:0.56554\n",
            "[1]\tvalidation_0-logloss:0.50669\n",
            "[2]\tvalidation_0-logloss:0.45868\n",
            "[3]\tvalidation_0-logloss:0.41822\n",
            "[4]\tvalidation_0-logloss:0.38103\n",
            "[5]\tvalidation_0-logloss:0.35137\n",
            "[6]\tvalidation_0-logloss:0.32588\n",
            "[7]\tvalidation_0-logloss:0.30127\n",
            "[8]\tvalidation_0-logloss:0.28197\n",
            "[9]\tvalidation_0-logloss:0.26265\n",
            "[10]\tvalidation_0-logloss:0.24821\n",
            "[11]\tvalidation_0-logloss:0.23231\n",
            "[12]\tvalidation_0-logloss:0.22079\n",
            "[13]\tvalidation_0-logloss:0.20795\n",
            "[14]\tvalidation_0-logloss:0.19764\n",
            "[15]\tvalidation_0-logloss:0.18950\n",
            "[16]\tvalidation_0-logloss:0.18052\n",
            "[17]\tvalidation_0-logloss:0.17246\n",
            "[18]\tvalidation_0-logloss:0.16512\n",
            "[19]\tvalidation_0-logloss:0.15828\n",
            "[20]\tvalidation_0-logloss:0.15436\n",
            "[21]\tvalidation_0-logloss:0.14633\n",
            "[22]\tvalidation_0-logloss:0.13936\n",
            "[23]\tvalidation_0-logloss:0.13393\n",
            "[24]\tvalidation_0-logloss:0.13015\n",
            "[25]\tvalidation_0-logloss:0.12489\n",
            "[26]\tvalidation_0-logloss:0.12206\n",
            "[27]\tvalidation_0-logloss:0.11890\n",
            "[28]\tvalidation_0-logloss:0.11637\n",
            "[29]\tvalidation_0-logloss:0.11293\n",
            "[30]\tvalidation_0-logloss:0.11040\n",
            "[31]\tvalidation_0-logloss:0.10826\n",
            "[32]\tvalidation_0-logloss:0.10452\n",
            "[33]\tvalidation_0-logloss:0.10322\n",
            "[34]\tvalidation_0-logloss:0.10059\n",
            "[35]\tvalidation_0-logloss:0.09869\n",
            "[36]\tvalidation_0-logloss:0.09658\n",
            "[37]\tvalidation_0-logloss:0.09487\n",
            "[38]\tvalidation_0-logloss:0.09443\n",
            "[39]\tvalidation_0-logloss:0.09374\n",
            "[40]\tvalidation_0-logloss:0.09239\n",
            "[41]\tvalidation_0-logloss:0.09159\n",
            "[42]\tvalidation_0-logloss:0.09004\n",
            "[43]\tvalidation_0-logloss:0.09029\n",
            "[44]\tvalidation_0-logloss:0.08966\n",
            "[45]\tvalidation_0-logloss:0.08808\n",
            "[46]\tvalidation_0-logloss:0.08783\n",
            "[47]\tvalidation_0-logloss:0.08756\n",
            "[48]\tvalidation_0-logloss:0.08682\n",
            "[49]\tvalidation_0-logloss:0.08829\n",
            "[50]\tvalidation_0-logloss:0.08882\n",
            "[51]\tvalidation_0-logloss:0.08871\n",
            "[52]\tvalidation_0-logloss:0.08780\n",
            "[53]\tvalidation_0-logloss:0.08766\n",
            "[54]\tvalidation_0-logloss:0.08825\n",
            "[55]\tvalidation_0-logloss:0.08882\n",
            "[56]\tvalidation_0-logloss:0.08785\n",
            "[57]\tvalidation_0-logloss:0.08813\n",
            "[58]\tvalidation_0-logloss:0.08871\n",
            "[59]\tvalidation_0-logloss:0.08760\n",
            "[60]\tvalidation_0-logloss:0.08712\n",
            "[61]\tvalidation_0-logloss:0.08795\n",
            "[62]\tvalidation_0-logloss:0.08799\n",
            "[63]\tvalidation_0-logloss:0.08808\n",
            "[64]\tvalidation_0-logloss:0.08749\n",
            "[65]\tvalidation_0-logloss:0.08760\n",
            "[66]\tvalidation_0-logloss:0.08708\n",
            "[67]\tvalidation_0-logloss:0.08668\n",
            "[68]\tvalidation_0-logloss:0.08654\n",
            "[69]\tvalidation_0-logloss:0.08630\n",
            "[70]\tvalidation_0-logloss:0.08574\n",
            "[71]\tvalidation_0-logloss:0.08696\n",
            "[72]\tvalidation_0-logloss:0.08626\n",
            "[73]\tvalidation_0-logloss:0.08685\n",
            "[74]\tvalidation_0-logloss:0.08663\n",
            "[75]\tvalidation_0-logloss:0.08780\n",
            "[76]\tvalidation_0-logloss:0.08713\n",
            "[77]\tvalidation_0-logloss:0.08822\n",
            "[78]\tvalidation_0-logloss:0.08758\n",
            "[79]\tvalidation_0-logloss:0.08728\n",
            "[80]\tvalidation_0-logloss:0.08703\n",
            "[81]\tvalidation_0-logloss:0.08719\n",
            "[82]\tvalidation_0-logloss:0.08662\n",
            "[83]\tvalidation_0-logloss:0.08637\n",
            "[84]\tvalidation_0-logloss:0.08570\n",
            "[85]\tvalidation_0-logloss:0.08590\n",
            "[86]\tvalidation_0-logloss:0.08587\n",
            "[87]\tvalidation_0-logloss:0.08614\n",
            "[88]\tvalidation_0-logloss:0.08635\n",
            "[89]\tvalidation_0-logloss:0.08646\n",
            "[90]\tvalidation_0-logloss:0.08583\n",
            "[91]\tvalidation_0-logloss:0.08583\n",
            "[92]\tvalidation_0-logloss:0.08564\n",
            "[93]\tvalidation_0-logloss:0.08669\n",
            "[94]\tvalidation_0-logloss:0.08692\n",
            "[95]\tvalidation_0-logloss:0.08687\n",
            "[96]\tvalidation_0-logloss:0.08641\n",
            "[97]\tvalidation_0-logloss:0.08584\n",
            "[98]\tvalidation_0-logloss:0.08568\n",
            "[99]\tvalidation_0-logloss:0.08552\n",
            "[100]\tvalidation_0-logloss:0.08548\n",
            "[101]\tvalidation_0-logloss:0.08630\n",
            "[102]\tvalidation_0-logloss:0.08658\n",
            "[103]\tvalidation_0-logloss:0.08656\n",
            "[104]\tvalidation_0-logloss:0.08742\n",
            "[105]\tvalidation_0-logloss:0.08779\n",
            "[106]\tvalidation_0-logloss:0.08777\n",
            "[107]\tvalidation_0-logloss:0.08738\n",
            "[108]\tvalidation_0-logloss:0.08729\n",
            "[109]\tvalidation_0-logloss:0.08736\n",
            "[110]\tvalidation_0-logloss:0.08722\n",
            "[111]\tvalidation_0-logloss:0.08774\n",
            "[112]\tvalidation_0-logloss:0.08864\n",
            "[113]\tvalidation_0-logloss:0.08871\n",
            "[114]\tvalidation_0-logloss:0.08836\n",
            "[115]\tvalidation_0-logloss:0.08865\n",
            "[116]\tvalidation_0-logloss:0.08874\n",
            "[117]\tvalidation_0-logloss:0.08861\n",
            "[118]\tvalidation_0-logloss:0.08819\n",
            "[119]\tvalidation_0-logloss:0.08901\n",
            "[120]\tvalidation_0-logloss:0.08894\n",
            "[121]\tvalidation_0-logloss:0.08869\n",
            "[122]\tvalidation_0-logloss:0.08880\n",
            "[123]\tvalidation_0-logloss:0.08848\n",
            "[124]\tvalidation_0-logloss:0.08858\n",
            "[125]\tvalidation_0-logloss:0.08849\n",
            "[126]\tvalidation_0-logloss:0.08909\n",
            "[127]\tvalidation_0-logloss:0.08886\n",
            "[128]\tvalidation_0-logloss:0.08861\n",
            "[129]\tvalidation_0-logloss:0.08942\n",
            "[130]\tvalidation_0-logloss:0.08934\n",
            "[131]\tvalidation_0-logloss:0.08918\n",
            "[132]\tvalidation_0-logloss:0.08880\n",
            "[133]\tvalidation_0-logloss:0.08956\n",
            "[134]\tvalidation_0-logloss:0.08949\n",
            "[135]\tvalidation_0-logloss:0.08934\n",
            "[136]\tvalidation_0-logloss:0.08891\n",
            "[137]\tvalidation_0-logloss:0.08949\n",
            "[138]\tvalidation_0-logloss:0.08962\n",
            "[139]\tvalidation_0-logloss:0.08969\n",
            "[140]\tvalidation_0-logloss:0.08963\n",
            "[141]\tvalidation_0-logloss:0.08948\n",
            "[142]\tvalidation_0-logloss:0.08961\n",
            "[143]\tvalidation_0-logloss:0.09038\n",
            "[144]\tvalidation_0-logloss:0.09033\n",
            "[145]\tvalidation_0-logloss:0.08991\n",
            "[146]\tvalidation_0-logloss:0.08955\n",
            "[147]\tvalidation_0-logloss:0.08994\n",
            "[148]\tvalidation_0-logloss:0.09002\n",
            "[149]\tvalidation_0-logloss:0.09004\n",
            "[150]\tvalidation_0-logloss:0.09000\n",
            "[151]\tvalidation_0-logloss:0.08985\n",
            "[152]\tvalidation_0-logloss:0.08947\n",
            "[153]\tvalidation_0-logloss:0.08979\n",
            "[154]\tvalidation_0-logloss:0.09010\n",
            "[155]\tvalidation_0-logloss:0.09022\n",
            "[156]\tvalidation_0-logloss:0.09018\n",
            "[157]\tvalidation_0-logloss:0.08997\n",
            "[158]\tvalidation_0-logloss:0.09000\n",
            "[159]\tvalidation_0-logloss:0.08977\n",
            "[160]\tvalidation_0-logloss:0.08976\n",
            "[161]\tvalidation_0-logloss:0.08985\n",
            "[162]\tvalidation_0-logloss:0.08988\n",
            "[163]\tvalidation_0-logloss:0.08959\n",
            "[164]\tvalidation_0-logloss:0.08955\n",
            "[165]\tvalidation_0-logloss:0.08958\n",
            "[166]\tvalidation_0-logloss:0.08930\n",
            "[167]\tvalidation_0-logloss:0.08926\n",
            "[168]\tvalidation_0-logloss:0.08913\n",
            "[169]\tvalidation_0-logloss:0.08915\n",
            "[170]\tvalidation_0-logloss:0.08893\n",
            "[171]\tvalidation_0-logloss:0.08896\n",
            "[172]\tvalidation_0-logloss:0.08908\n",
            "[173]\tvalidation_0-logloss:0.08886\n",
            "[174]\tvalidation_0-logloss:0.08886\n",
            "[175]\tvalidation_0-logloss:0.08895\n",
            "[176]\tvalidation_0-logloss:0.08899\n",
            "[177]\tvalidation_0-logloss:0.08895\n",
            "[178]\tvalidation_0-logloss:0.08867\n",
            "[179]\tvalidation_0-logloss:0.08856\n",
            "[180]\tvalidation_0-logloss:0.08844\n",
            "[181]\tvalidation_0-logloss:0.08841\n",
            "[182]\tvalidation_0-logloss:0.08849\n",
            "[183]\tvalidation_0-logloss:0.08853\n",
            "[184]\tvalidation_0-logloss:0.08831\n",
            "[185]\tvalidation_0-logloss:0.08843\n",
            "[186]\tvalidation_0-logloss:0.08847\n",
            "[187]\tvalidation_0-logloss:0.08826\n",
            "[188]\tvalidation_0-logloss:0.08827\n",
            "[189]\tvalidation_0-logloss:0.08817\n",
            "[190]\tvalidation_0-logloss:0.08826\n",
            "[191]\tvalidation_0-logloss:0.08823\n",
            "[192]\tvalidation_0-logloss:0.08811\n",
            "[193]\tvalidation_0-logloss:0.08791\n",
            "[194]\tvalidation_0-logloss:0.08795\n",
            "[195]\tvalidation_0-logloss:0.08806\n",
            "[196]\tvalidation_0-logloss:0.08787\n",
            "[197]\tvalidation_0-logloss:0.08790\n",
            "[198]\tvalidation_0-logloss:0.08792\n",
            "[199]\tvalidation_0-logloss:0.08800\n",
            "[200]\tvalidation_0-logloss:0.08804\n"
          ]
        }
      ]
    },
    {
      "cell_type": "code",
      "source": [
        "get_clf_eval(y_test, ws100_preds, ws100_pred_proba)"
      ],
      "metadata": {
        "id": "3fGq7qAPSV-o",
        "colab": {
          "base_uri": "https://localhost:8080/"
        },
        "outputId": "172a16c9-39af-4352-ba74-7c646455e66d"
      },
      "execution_count": 32,
      "outputs": [
        {
          "output_type": "stream",
          "name": "stdout",
          "text": [
            "오차 행렬\n",
            "[[34  3]\n",
            " [ 1 76]]\n",
            "정확도:  0.9649, 정밀도:  0.9620, 재현율: 0.9870\n"
          ]
        }
      ]
    },
    {
      "cell_type": "code",
      "source": [
        "# 조기 중단값 줄일 경우\n",
        "xgb_wrapper=XGBClassifier(n_estimators=400, learning_rate=0.1, max_depth=3, early_stopping_rounds=10, eval_metric=\"logloss\", verbose=True)\n",
        "evals=[(X_test, y_test)]\n",
        "xgb_wrapper.fit(X_train, y_train, eval_set=evals)\n",
        "ws10_preds=xgb_wrapper.predict(X_test)\n",
        "ws10_pred_proba=xgb_wrapper.predict_proba(X_test)[:,1]\n",
        "\n",
        "get_clf_eval(y_test, ws10_preds, ws10_pred_proba)"
      ],
      "metadata": {
        "id": "YrC7-GIyULhU",
        "colab": {
          "base_uri": "https://localhost:8080/"
        },
        "outputId": "8bed965d-34e0-47a6-8019-dc84310a126d"
      },
      "execution_count": 33,
      "outputs": [
        {
          "output_type": "stream",
          "name": "stdout",
          "text": [
            "[0]\tvalidation_0-logloss:0.56554\n",
            "[1]\tvalidation_0-logloss:0.50669\n",
            "[2]\tvalidation_0-logloss:0.45868\n",
            "[3]\tvalidation_0-logloss:0.41822\n",
            "[4]\tvalidation_0-logloss:0.38103\n",
            "[5]\tvalidation_0-logloss:0.35137\n",
            "[6]\tvalidation_0-logloss:0.32588\n",
            "[7]\tvalidation_0-logloss:0.30127\n",
            "[8]\tvalidation_0-logloss:0.28197\n",
            "[9]\tvalidation_0-logloss:0.26265\n",
            "[10]\tvalidation_0-logloss:0.24821\n",
            "[11]\tvalidation_0-logloss:0.23231\n",
            "[12]\tvalidation_0-logloss:0.22079\n",
            "[13]\tvalidation_0-logloss:0.20795\n",
            "[14]\tvalidation_0-logloss:0.19764\n",
            "[15]\tvalidation_0-logloss:0.18950\n",
            "[16]\tvalidation_0-logloss:0.18052\n",
            "[17]\tvalidation_0-logloss:0.17246\n",
            "[18]\tvalidation_0-logloss:0.16512\n",
            "[19]\tvalidation_0-logloss:0.15828\n",
            "[20]\tvalidation_0-logloss:0.15436\n",
            "[21]\tvalidation_0-logloss:0.14633\n",
            "[22]\tvalidation_0-logloss:0.13936\n",
            "[23]\tvalidation_0-logloss:0.13393\n",
            "[24]\tvalidation_0-logloss:0.13015\n",
            "[25]\tvalidation_0-logloss:0.12489\n",
            "[26]\tvalidation_0-logloss:0.12206\n",
            "[27]\tvalidation_0-logloss:0.11890\n",
            "[28]\tvalidation_0-logloss:0.11637\n",
            "[29]\tvalidation_0-logloss:0.11293\n",
            "[30]\tvalidation_0-logloss:0.11040\n",
            "[31]\tvalidation_0-logloss:0.10826\n",
            "[32]\tvalidation_0-logloss:0.10452\n",
            "[33]\tvalidation_0-logloss:0.10322\n",
            "[34]\tvalidation_0-logloss:0.10059\n",
            "[35]\tvalidation_0-logloss:0.09869\n",
            "[36]\tvalidation_0-logloss:0.09658\n",
            "[37]\tvalidation_0-logloss:0.09487\n",
            "[38]\tvalidation_0-logloss:0.09443\n",
            "[39]\tvalidation_0-logloss:0.09374\n",
            "[40]\tvalidation_0-logloss:0.09239\n",
            "[41]\tvalidation_0-logloss:0.09159\n",
            "[42]\tvalidation_0-logloss:0.09004\n",
            "[43]\tvalidation_0-logloss:0.09029\n",
            "[44]\tvalidation_0-logloss:0.08966\n",
            "[45]\tvalidation_0-logloss:0.08808\n",
            "[46]\tvalidation_0-logloss:0.08783\n",
            "[47]\tvalidation_0-logloss:0.08756\n",
            "[48]\tvalidation_0-logloss:0.08682\n",
            "[49]\tvalidation_0-logloss:0.08829\n",
            "[50]\tvalidation_0-logloss:0.08882\n",
            "[51]\tvalidation_0-logloss:0.08871\n",
            "[52]\tvalidation_0-logloss:0.08780\n",
            "[53]\tvalidation_0-logloss:0.08766\n",
            "[54]\tvalidation_0-logloss:0.08825\n",
            "[55]\tvalidation_0-logloss:0.08882\n",
            "[56]\tvalidation_0-logloss:0.08785\n",
            "[57]\tvalidation_0-logloss:0.08813\n",
            "오차 행렬\n",
            "[[34  3]\n",
            " [ 2 75]]\n",
            "정확도:  0.9561, 정밀도:  0.9615, 재현율: 0.9740\n"
          ]
        }
      ]
    },
    {
      "cell_type": "code",
      "source": [
        "# 47번 logloss: 0.08756, 10번 반복 수행했지만 성능 평가 지수 향상되지 않음 => stop\n",
        "# early_stopping_rounds=100 일 때보다 정확도 낮음"
      ],
      "metadata": {
        "id": "2tiIukGFUb-a"
      },
      "execution_count": 34,
      "outputs": []
    },
    {
      "cell_type": "markdown",
      "source": [
        "* 시각화"
      ],
      "metadata": {
        "id": "ZHagImlMVOhQ"
      }
    },
    {
      "cell_type": "code",
      "source": [
        "from xgboost import plot_importance\n",
        "import matplotlib.pyplot as plt\n",
        "%matplotlib inline\n",
        "\n",
        "fig, ax = plt.subplots(figsize=(10,12))\n",
        "# 사이킷런 Wrapper class 입력해도 무방\n",
        "plot_importance(xgb_wrapper, ax=ax)"
      ],
      "metadata": {
        "id": "mwnqmsH8VJfo",
        "colab": {
          "base_uri": "https://localhost:8080/",
          "height": 1000
        },
        "outputId": "2bfae7ab-15f5-4928-c67c-a2d4ea685503"
      },
      "execution_count": 35,
      "outputs": [
        {
          "output_type": "execute_result",
          "data": {
            "text/plain": [
              "<Axes: title={'center': 'Feature importance'}, xlabel='F score', ylabel='Features'>"
            ]
          },
          "metadata": {},
          "execution_count": 35
        },
        {
          "output_type": "display_data",
          "data": {
            "text/plain": [
              "<Figure size 1000x1200 with 1 Axes>"
            ],
            "image/png": "[encoded data removed]"
          },
          "metadata": {}
        }
      ]
    },
    {
      "cell_type": "markdown",
      "source": [
        "### 4.7. LightGBM"
      ],
      "metadata": {
        "id": "2FJRIokAVYXa"
      }
    },
    {
      "cell_type": "markdown",
      "source": [
        "#### LightGBM 적용-위스콘신 유방암 예측"
      ],
      "metadata": {
        "id": "A9GLs-nYVhxS"
      }
    },
    {
      "cell_type": "code",
      "source": [
        "# 파이썬 패키지 lightgbm에서 LGBMClassifier import\n",
        "from lightgbm import LGBMClassifier\n",
        "\n",
        "import pandas as pd\n",
        "import numpy as np\n",
        "from sklearn.datasets import load_breast_cancer\n",
        "from sklearn.model_selection import train_test_split\n",
        "\n",
        "dataset=load_breast_cancer()\n",
        "ftr=dataset.data\n",
        "target=dataset.target\n",
        "\n",
        "# 80% 학습용, 20% 테스트용 데이터 추출\n",
        "X_train, X_test, y_train, y_test = train_test_split(ftr, target, test_size=0.2, random_state=156)\n",
        "\n",
        "# 학습용 데이터에서 90% 학습용, 10% 테스트용 데이터로 분리\n",
        "X_tr, X_eval, y_tr, y_eval = train_test_split(X_train, y_train , test_size=0.1, random_state=156)\n",
        "\n",
        "lgbm_wrapper=LGBMClassifier(n_estimators=400, learning_rate=0.05, early_stopping_rounds=10, verbose=2)\n",
        "\n",
        "evals=[(X_tr, y_tr),(X_eval, y_eval)]\n",
        "lgbm_wrapper.fit(X_tr, y_tr, eval_set=evals, eval_metric=\"logloss\")\n",
        "preds=lgbm_wrapper.predict(X_test)\n",
        "pred_proba=lgbm_wrapper.predict_proba(X_test)[:,1]"
      ],
      "metadata": {
        "id": "Jh3AJWN0VXC8",
        "colab": {
          "base_uri": "https://localhost:8080/"
        },
        "outputId": "fcf8ccf5-01fc-4bdc-b0d2-e04c0521d603"
      },
      "execution_count": 36,
      "outputs": [
        {
          "output_type": "stream",
          "name": "stdout",
          "text": [
            "[LightGBM] [Warning] early_stopping_round is set=10, early_stopping_rounds=10 will be ignored. Current value: early_stopping_round=10\n",
            "[LightGBM] [Info] Number of positive: 251, number of negative: 158\n",
            "[LightGBM] [Debug] Dataset::GetMultiBinFromAllFeatures: sparse rate 0.003912\n",
            "[LightGBM] [Debug] init for col-wise cost 0.000400 seconds, init for row-wise cost 0.001490 seconds\n",
            "[LightGBM] [Info] Auto-choosing col-wise multi-threading, the overhead of testing was 0.001998 seconds.\n",
            "You can set `force_col_wise=true` to remove the overhead.\n",
            "[LightGBM] [Info] Total Bins 4092\n",
            "[LightGBM] [Info] Number of data points in the train set: 409, number of used features: 30\n",
            "[LightGBM] [Warning] early_stopping_round is set=10, early_stopping_rounds=10 will be ignored. Current value: early_stopping_round=10\n",
            "[LightGBM] [Info] [binary:BoostFromScore]: pavg=0.613692 -> initscore=0.462858\n",
            "[LightGBM] [Info] Start training from score 0.462858\n",
            "[LightGBM] [Warning] No further splits with positive gain, best gain: -inf\n",
            "[LightGBM] [Debug] Trained a tree with leaves = 10 and depth = 5\n",
            "Training until validation scores don't improve for 10 rounds\n",
            "[LightGBM] [Warning] No further splits with positive gain, best gain: -inf\n",
            "[LightGBM] [Debug] Trained a tree with leaves = 13 and depth = 7\n",
            "[LightGBM] [Warning] No further splits with positive gain, best gain: -inf\n",
            "[LightGBM] [Debug] Trained a tree with leaves = 15 and depth = 7\n",
            "[LightGBM] [Warning] No further splits with positive gain, best gain: -inf\n",
            "[LightGBM] [Debug] Trained a tree with leaves = 18 and depth = 10\n",
            "[LightGBM] [Warning] No further splits with positive gain, best gain: -inf\n",
            "[LightGBM] [Debug] Trained a tree with leaves = 17 and depth = 10\n",
            "[LightGBM] [Warning] No further splits with positive gain, best gain: -inf\n",
            "[LightGBM] [Debug] Trained a tree with leaves = 17 and depth = 11\n",
            "[LightGBM] [Warning] No further splits with positive gain, best gain: -inf\n",
            "[LightGBM] [Debug] Trained a tree with leaves = 19 and depth = 11\n",
            "[LightGBM] [Warning] No further splits with positive gain, best gain: -inf\n",
            "[LightGBM] [Debug] Trained a tree with leaves = 17 and depth = 10\n",
            "[LightGBM] [Warning] No further splits with positive gain, best gain: -inf\n",
            "[LightGBM] [Debug] Trained a tree with leaves = 18 and depth = 10\n",
            "[LightGBM] [Warning] No further splits with positive gain, best gain: -inf\n",
            "[LightGBM] [Debug] Trained a tree with leaves = 18 and depth = 11\n",
            "[LightGBM] [Warning] No further splits with positive gain, best gain: -inf\n",
            "[LightGBM] [Debug] Trained a tree with leaves = 19 and depth = 12\n",
            "[LightGBM] [Warning] No further splits with positive gain, best gain: -inf\n",
            "[LightGBM] [Debug] Trained a tree with leaves = 18 and depth = 8\n",
            "[LightGBM] [Warning] No further splits with positive gain, best gain: -inf\n",
            "[LightGBM] [Debug] Trained a tree with leaves = 17 and depth = 10\n",
            "[LightGBM] [Warning] No further splits with positive gain, best gain: -inf\n",
            "[LightGBM] [Debug] Trained a tree with leaves = 18 and depth = 9\n",
            "[LightGBM] [Warning] No further splits with positive gain, best gain: -inf\n",
            "[LightGBM] [Debug] Trained a tree with leaves = 17 and depth = 7\n",
            "[LightGBM] [Warning] No further splits with positive gain, best gain: -inf\n",
            "[LightGBM] [Debug] Trained a tree with leaves = 16 and depth = 9\n",
            "[LightGBM] [Warning] No further splits with positive gain, best gain: -inf\n",
            "[LightGBM] [Debug] Trained a tree with leaves = 19 and depth = 10\n",
            "[LightGBM] [Warning] No further splits with positive gain, best gain: -inf\n",
            "[LightGBM] [Debug] Trained a tree with leaves = 19 and depth = 11\n",
            "[LightGBM] [Warning] No further splits with positive gain, best gain: -inf\n",
            "[LightGBM] [Debug] Trained a tree with leaves = 18 and depth = 8\n",
            "[LightGBM] [Warning] No further splits with positive gain, best gain: -inf\n",
            "[LightGBM] [Debug] Trained a tree with leaves = 18 and depth = 12\n",
            "[LightGBM] [Warning] No further splits with positive gain, best gain: -inf\n",
            "[LightGBM] [Debug] Trained a tree with leaves = 18 and depth = 10\n",
            "[LightGBM] [Warning] No further splits with positive gain, best gain: -inf\n",
            "[LightGBM] [Debug] Trained a tree with leaves = 19 and depth = 12\n",
            "[LightGBM] [Warning] No further splits with positive gain, best gain: -inf\n",
            "[LightGBM] [Debug] Trained a tree with leaves = 19 and depth = 10\n",
            "[LightGBM] [Warning] No further splits with positive gain, best gain: -inf\n",
            "[LightGBM] [Debug] Trained a tree with leaves = 17 and depth = 11\n",
            "[LightGBM] [Warning] No further splits with positive gain, best gain: -inf\n",
            "[LightGBM] [Debug] Trained a tree with leaves = 18 and depth = 12\n",
            "[LightGBM] [Warning] No further splits with positive gain, best gain: -inf\n",
            "[LightGBM] [Debug] Trained a tree with leaves = 18 and depth = 9\n",
            "[LightGBM] [Warning] No further splits with positive gain, best gain: -inf\n",
            "[LightGBM] [Debug] Trained a tree with leaves = 17 and depth = 11\n",
            "[LightGBM] [Warning] No further splits with positive gain, best gain: -inf\n",
            "[LightGBM] [Debug] Trained a tree with leaves = 19 and depth = 12\n",
            "[LightGBM] [Warning] No further splits with positive gain, best gain: -inf\n",
            "[LightGBM] [Debug] Trained a tree with leaves = 19 and depth = 12\n",
            "[LightGBM] [Warning] No further splits with positive gain, best gain: -inf\n",
            "[LightGBM] [Debug] Trained a tree with leaves = 18 and depth = 12\n",
            "[LightGBM] [Warning] No further splits with positive gain, best gain: -inf\n",
            "[LightGBM] [Debug] Trained a tree with leaves = 18 and depth = 12\n",
            "[LightGBM] [Warning] No further splits with positive gain, best gain: -inf\n",
            "[LightGBM] [Debug] Trained a tree with leaves = 18 and depth = 9\n",
            "[LightGBM] [Warning] No further splits with positive gain, best gain: -inf\n",
            "[LightGBM] [Debug] Trained a tree with leaves = 19 and depth = 11\n",
            "[LightGBM] [Warning] No further splits with positive gain, best gain: -inf\n",
            "[LightGBM] [Debug] Trained a tree with leaves = 18 and depth = 13\n",
            "[LightGBM] [Warning] No further splits with positive gain, best gain: -inf\n",
            "[LightGBM] [Debug] Trained a tree with leaves = 20 and depth = 13\n",
            "[LightGBM] [Warning] No further splits with positive gain, best gain: -inf\n",
            "[LightGBM] [Debug] Trained a tree with leaves = 18 and depth = 11\n",
            "[LightGBM] [Warning] No further splits with positive gain, best gain: -inf\n",
            "[LightGBM] [Debug] Trained a tree with leaves = 19 and depth = 12\n",
            "[LightGBM] [Warning] No further splits with positive gain, best gain: -inf\n",
            "[LightGBM] [Debug] Trained a tree with leaves = 19 and depth = 8\n",
            "[LightGBM] [Warning] No further splits with positive gain, best gain: -inf\n",
            "[LightGBM] [Debug] Trained a tree with leaves = 19 and depth = 10\n",
            "[LightGBM] [Warning] No further splits with positive gain, best gain: -inf\n",
            "[LightGBM] [Debug] Trained a tree with leaves = 19 and depth = 12\n",
            "[LightGBM] [Warning] No further splits with positive gain, best gain: -inf\n",
            "[LightGBM] [Debug] Trained a tree with leaves = 18 and depth = 10\n",
            "[LightGBM] [Warning] No further splits with positive gain, best gain: -inf\n",
            "[LightGBM] [Debug] Trained a tree with leaves = 20 and depth = 13\n",
            "[LightGBM] [Warning] No further splits with positive gain, best gain: -inf\n",
            "[LightGBM] [Debug] Trained a tree with leaves = 17 and depth = 9\n",
            "[LightGBM] [Warning] No further splits with positive gain, best gain: -inf\n",
            "[LightGBM] [Debug] Trained a tree with leaves = 17 and depth = 9\n",
            "[LightGBM] [Warning] No further splits with positive gain, best gain: -inf\n",
            "[LightGBM] [Debug] Trained a tree with leaves = 21 and depth = 13\n",
            "[LightGBM] [Warning] No further splits with positive gain, best gain: -inf\n",
            "[LightGBM] [Debug] Trained a tree with leaves = 17 and depth = 9\n",
            "[LightGBM] [Warning] No further splits with positive gain, best gain: -inf\n",
            "[LightGBM] [Debug] Trained a tree with leaves = 20 and depth = 14\n",
            "[LightGBM] [Warning] No further splits with positive gain, best gain: -inf\n",
            "[LightGBM] [Debug] Trained a tree with leaves = 18 and depth = 8\n",
            "[LightGBM] [Warning] No further splits with positive gain, best gain: -inf\n",
            "[LightGBM] [Debug] Trained a tree with leaves = 21 and depth = 13\n",
            "[LightGBM] [Warning] No further splits with positive gain, best gain: -inf\n",
            "[LightGBM] [Debug] Trained a tree with leaves = 18 and depth = 12\n",
            "[LightGBM] [Warning] No further splits with positive gain, best gain: -inf\n",
            "[LightGBM] [Debug] Trained a tree with leaves = 18 and depth = 8\n",
            "[LightGBM] [Warning] No further splits with positive gain, best gain: -inf\n",
            "[LightGBM] [Debug] Trained a tree with leaves = 18 and depth = 12\n",
            "[LightGBM] [Warning] No further splits with positive gain, best gain: -inf\n",
            "[LightGBM] [Debug] Trained a tree with leaves = 19 and depth = 9\n",
            "[LightGBM] [Warning] No further splits with positive gain, best gain: -inf\n",
            "[LightGBM] [Debug] Trained a tree with leaves = 20 and depth = 13\n",
            "[LightGBM] [Warning] No further splits with positive gain, best gain: -inf\n",
            "[LightGBM] [Debug] Trained a tree with leaves = 19 and depth = 9\n",
            "[LightGBM] [Warning] No further splits with positive gain, best gain: -inf\n",
            "[LightGBM] [Debug] Trained a tree with leaves = 20 and depth = 13\n",
            "[LightGBM] [Warning] No further splits with positive gain, best gain: -inf\n",
            "[LightGBM] [Debug] Trained a tree with leaves = 19 and depth = 12\n",
            "[LightGBM] [Warning] No further splits with positive gain, best gain: -inf\n",
            "[LightGBM] [Debug] Trained a tree with leaves = 18 and depth = 8\n",
            "[LightGBM] [Warning] No further splits with positive gain, best gain: -inf\n",
            "[LightGBM] [Debug] Trained a tree with leaves = 19 and depth = 11\n",
            "[LightGBM] [Warning] No further splits with positive gain, best gain: -inf\n",
            "[LightGBM] [Debug] Trained a tree with leaves = 19 and depth = 9\n",
            "[LightGBM] [Warning] No further splits with positive gain, best gain: -inf\n",
            "[LightGBM] [Debug] Trained a tree with leaves = 19 and depth = 9\n",
            "[LightGBM] [Warning] No further splits with positive gain, best gain: -inf\n",
            "[LightGBM] [Debug] Trained a tree with leaves = 21 and depth = 12\n",
            "[LightGBM] [Warning] No further splits with positive gain, best gain: -inf\n",
            "[LightGBM] [Debug] Trained a tree with leaves = 20 and depth = 9\n",
            "[LightGBM] [Warning] No further splits with positive gain, best gain: -inf\n",
            "[LightGBM] [Debug] Trained a tree with leaves = 22 and depth = 16\n",
            "[LightGBM] [Warning] No further splits with positive gain, best gain: -inf\n",
            "[LightGBM] [Debug] Trained a tree with leaves = 21 and depth = 9\n",
            "[LightGBM] [Warning] No further splits with positive gain, best gain: -inf\n",
            "[LightGBM] [Debug] Trained a tree with leaves = 22 and depth = 15\n",
            "[LightGBM] [Warning] No further splits with positive gain, best gain: -inf\n",
            "[LightGBM] [Debug] Trained a tree with leaves = 20 and depth = 12\n",
            "[LightGBM] [Warning] No further splits with positive gain, best gain: -inf\n",
            "[LightGBM] [Debug] Trained a tree with leaves = 22 and depth = 9\n",
            "[LightGBM] [Warning] No further splits with positive gain, best gain: -inf\n",
            "[LightGBM] [Debug] Trained a tree with leaves = 22 and depth = 16\n",
            "[LightGBM] [Warning] No further splits with positive gain, best gain: -inf\n",
            "[LightGBM] [Debug] Trained a tree with leaves = 22 and depth = 9\n",
            "[LightGBM] [Warning] No further splits with positive gain, best gain: -inf\n",
            "[LightGBM] [Debug] Trained a tree with leaves = 18 and depth = 11\n",
            "Early stopping, best iteration is:\n",
            "[61]\ttraining's binary_logloss: 0.0532381\tvalid_1's binary_logloss: 0.260236\n"
          ]
        }
      ]
    },
    {
      "cell_type": "code",
      "source": [
        "get_clf_eval(y_test, preds, pred_proba)"
      ],
      "metadata": {
        "id": "wCj-OMOlWoNO",
        "colab": {
          "base_uri": "https://localhost:8080/"
        },
        "outputId": "9624ffd4-59bc-43ee-9b99-caf0b2cc4549"
      },
      "execution_count": 37,
      "outputs": [
        {
          "output_type": "stream",
          "name": "stdout",
          "text": [
            "오차 행렬\n",
            "[[34  3]\n",
            " [ 2 75]]\n",
            "정확도:  0.9561, 정밀도:  0.9615, 재현율: 0.9740\n"
          ]
        }
      ]
    },
    {
      "cell_type": "markdown",
      "source": [
        "* 시각화"
      ],
      "metadata": {
        "id": "CDgXZrxYaHaf"
      }
    },
    {
      "cell_type": "code",
      "source": [
        "from lightgbm import plot_importance\n",
        "import matplotlib.pyplot as plt\n",
        "%matplotlib inline\n",
        "\n",
        "fig, ax = plt.subplots(figsize=(10,12))\n",
        "# 사이킷런 Wrapper class 입력해도 무방\n",
        "plot_importance(lgbm_wrapper, ax=ax)"
      ],
      "metadata": {
        "id": "m4hG9fnjZz9u",
        "colab": {
          "base_uri": "https://localhost:8080/",
          "height": 1000
        },
        "outputId": "c9527913-cf0f-4bf7-fb11-fcb19232ba77"
      },
      "execution_count": 38,
      "outputs": [
        {
          "output_type": "execute_result",
          "data": {
            "text/plain": [
              "<Axes: title={'center': 'Feature importance'}, xlabel='Feature importance', ylabel='Features'>"
            ]
          },
          "metadata": {},
          "execution_count": 38
        },
        {
          "output_type": "display_data",
          "data": {
            "text/plain": [
              "<Figure size 1000x1200 with 1 Axes>"
            ],
            "image/png": "[encoded data removed]"
          },
          "metadata": {}
        }
      ]
    },
    {
      "cell_type": "markdown",
      "source": [
        "### 4.10. 스태킹 앙상블"
      ],
      "metadata": {
        "id": "Q9pIZrUvamjJ"
      }
    },
    {
      "cell_type": "markdown",
      "source": [
        "#### 기본 스태킹 모델"
      ],
      "metadata": {
        "id": "8jPpBo-5ap55"
      }
    },
    {
      "cell_type": "code",
      "source": [
        "import pandas as pd\n",
        "import numpy as np\n",
        "\n",
        "from sklearn.linear_model import LogisticRegression\n",
        "from sklearn.neighbors import KNeighborsClassifier\n",
        "from sklearn.ensemble import RandomForestClassifier\n",
        "from sklearn.ensemble import AdaBoostClassifier\n",
        "from sklearn.tree import DecisionTreeClassifier\n",
        "\n",
        "from sklearn.datasets import load_breast_cancer\n",
        "from sklearn.model_selection import train_test_split\n",
        "from sklearn.metrics import accuracy_score\n",
        "\n",
        "cancer_data=load_breast_cancer()\n",
        "X_data=cancer_data.data\n",
        "y_label=cancer_data.target\n",
        "\n",
        "# 80% 학습용, 20% 테스트용 데이터 추출\n",
        "X_train, X_test, y_train, y_test = train_test_split(X_data, y_label, test_size=0.2, random_state=0)"
      ],
      "metadata": {
        "id": "RM-5OUQVaNDb"
      },
      "execution_count": 39,
      "outputs": []
    },
    {
      "cell_type": "markdown",
      "source": [
        "* 모델 생성"
      ],
      "metadata": {
        "id": "kZ3yPGtCc0ka"
      }
    },
    {
      "cell_type": "code",
      "source": [
        "# 개별 ML 모델\n",
        "knn_clf=KNeighborsClassifier(n_neighbors=4)\n",
        "rf_clf=RandomForestClassifier(n_estimators=100, random_state=0)\n",
        "dt_clf=DecisionTreeClassifier()\n",
        "ada_clf=AdaBoostClassifier(n_estimators=100)\n",
        "\n",
        "# 스태킹으로 만들어진 데이터 세트를 학습, 예측할 최종 모델\n",
        "lr_final=LogisticRegression(C=10)"
      ],
      "metadata": {
        "id": "qpZwu2uTcn3K"
      },
      "execution_count": 40,
      "outputs": []
    },
    {
      "cell_type": "markdown",
      "source": [
        "* 학습"
      ],
      "metadata": {
        "id": "41cCYDn3dUYd"
      }
    },
    {
      "cell_type": "code",
      "source": [
        "knn_clf.fit(X_train, y_train)\n",
        "rf_clf.fit(X_train, y_train)\n",
        "dt_clf.fit(X_train, y_train)\n",
        "ada_clf.fit(X_train, y_train)"
      ],
      "metadata": {
        "id": "8KQ3iMtidUHd",
        "colab": {
          "base_uri": "https://localhost:8080/",
          "height": 80
        },
        "outputId": "3532efbd-9008-434c-f947-8309231cc35f"
      },
      "execution_count": 41,
      "outputs": [
        {
          "output_type": "execute_result",
          "data": {
            "text/plain": [
              "AdaBoostClassifier(n_estimators=100)"
            ],
            "text/html": [
              "<style>#sk-container-id-1 {\n",
              "  /* Definition of color scheme common for light and dark mode */\n",
              "  --sklearn-color-text: black;\n",
              "  --sklearn-color-line: gray;\n",
              "  /* Definition of color scheme for unfitted estimators */\n",
              "  --sklearn-color-unfitted-level-0: #fff5e6;\n",
              "  --sklearn-color-unfitted-level-1: #f6e4d2;\n",
              "  --sklearn-color-unfitted-level-2: #ffe0b3;\n",
              "  --sklearn-color-unfitted-level-3: chocolate;\n",
              "  /* Definition of color scheme for fitted estimators */\n",
              "  --sklearn-color-fitted-level-0: #f0f8ff;\n",
              "  --sklearn-color-fitted-level-1: #d4ebff;\n",
              "  --sklearn-color-fitted-level-2: #b3dbfd;\n",
              "  --sklearn-color-fitted-level-3: cornflowerblue;\n",
              "\n",
              "  /* Specific color for light theme */\n",
              "  --sklearn-color-text-on-default-background: var(--sg-text-color, var(--theme-code-foreground, var(--jp-content-font-color1, black)));\n",
              "  --sklearn-color-background: var(--sg-background-color, var(--theme-background, var(--jp-layout-color0, white)));\n",
              "  --sklearn-color-border-box: var(--sg-text-color, var(--theme-code-foreground, var(--jp-content-font-color1, black)));\n",
              "  --sklearn-color-icon: #696969;\n",
              "\n",
              "  @media (prefers-color-scheme: dark) {\n",
              "    /* Redefinition of color scheme for dark theme */\n",
              "    --sklearn-color-text-on-default-background: var(--sg-text-color, var(--theme-code-foreground, var(--jp-content-font-color1, white)));\n",
              "    --sklearn-color-background: var(--sg-background-color, var(--theme-background, var(--jp-layout-color0, #111)));\n",
              "    --sklearn-color-border-box: var(--sg-text-color, var(--theme-code-foreground, var(--jp-content-font-color1, white)));\n",
              "    --sklearn-color-icon: #878787;\n",
              "  }\n",
              "}\n",
              "\n",
              "#sk-container-id-1 {\n",
              "  color: var(--sklearn-color-text);\n",
              "}\n",
              "\n",
              "#sk-container-id-1 pre {\n",
              "  padding: 0;\n",
              "}\n",
              "\n",
              "#sk-container-id-1 input.sk-hidden--visually {\n",
              "  border: 0;\n",
              "  clip: rect(1px 1px 1px 1px);\n",
              "  clip: rect(1px, 1px, 1px, 1px);\n",
              "  height: 1px;\n",
              "  margin: -1px;\n",
              "  overflow: hidden;\n",
              "  padding: 0;\n",
              "  position: absolute;\n",
              "  width: 1px;\n",
              "}\n",
              "\n",
              "#sk-container-id-1 div.sk-dashed-wrapped {\n",
              "  border: 1px dashed var(--sklearn-color-line);\n",
              "  margin: 0 0.4em 0.5em 0.4em;\n",
              "  box-sizing: border-box;\n",
              "  padding-bottom: 0.4em;\n",
              "  background-color: var(--sklearn-color-background);\n",
              "}\n",
              "\n",
              "#sk-container-id-1 div.sk-container {\n",
              "  /* jupyter's `normalize.less` sets `[hidden] { display: none; }`\n",
              "     but bootstrap.min.css set `[hidden] { display: none !important; }`\n",
              "     so we also need the `!important` here to be able to override the\n",
              "     default hidden behavior on the sphinx rendered scikit-learn.org.\n",
              "     See: https://github.com/scikit-learn/scikit-learn/issues/21755 */\n",
              "  display: inline-block !important;\n",
              "  position: relative;\n",
              "}\n",
              "\n",
              "#sk-container-id-1 div.sk-text-repr-fallback {\n",
              "  display: none;\n",
              "}\n",
              "\n",
              "div.sk-parallel-item,\n",
              "div.sk-serial,\n",
              "div.sk-item {\n",
              "  /* draw centered vertical line to link estimators */\n",
              "  background-image: linear-gradient(var(--sklearn-color-text-on-default-background), var(--sklearn-color-text-on-default-background));\n",
              "  background-size: 2px 100%;\n",
              "  background-repeat: no-repeat;\n",
              "  background-position: center center;\n",
              "}\n",
              "\n",
              "/* Parallel-specific style estimator block */\n",
              "\n",
              "#sk-container-id-1 div.sk-parallel-item::after {\n",
              "  content: \"\";\n",
              "  width: 100%;\n",
              "  border-bottom: 2px solid var(--sklearn-color-text-on-default-background);\n",
              "  flex-grow: 1;\n",
              "}\n",
              "\n",
              "#sk-container-id-1 div.sk-parallel {\n",
              "  display: flex;\n",
              "  align-items: stretch;\n",
              "  justify-content: center;\n",
              "  background-color: var(--sklearn-color-background);\n",
              "  position: relative;\n",
              "}\n",
              "\n",
              "#sk-container-id-1 div.sk-parallel-item {\n",
              "  display: flex;\n",
              "  flex-direction: column;\n",
              "}\n",
              "\n",
              "#sk-container-id-1 div.sk-parallel-item:first-child::after {\n",
              "  align-self: flex-end;\n",
              "  width: 50%;\n",
              "}\n",
              "\n",
              "#sk-container-id-1 div.sk-parallel-item:last-child::after {\n",
              "  align-self: flex-start;\n",
              "  width: 50%;\n",
              "}\n",
              "\n",
              "#sk-container-id-1 div.sk-parallel-item:only-child::after {\n",
              "  width: 0;\n",
              "}\n",
              "\n",
              "/* Serial-specific style estimator block */\n",
              "\n",
              "#sk-container-id-1 div.sk-serial {\n",
              "  display: flex;\n",
              "  flex-direction: column;\n",
              "  align-items: center;\n",
              "  background-color: var(--sklearn-color-background);\n",
              "  padding-right: 1em;\n",
              "  padding-left: 1em;\n",
              "}\n",
              "\n",
              "\n",
              "/* Toggleable style: style used for estimator/Pipeline/ColumnTransformer box that is\n",
              "clickable and can be expanded/collapsed.\n",
              "- Pipeline and ColumnTransformer use this feature and define the default style\n",
              "- Estimators will overwrite some part of the style using the `sk-estimator` class\n",
              "*/\n",
              "\n",
              "/* Pipeline and ColumnTransformer style (default) */\n",
              "\n",
              "#sk-container-id-1 div.sk-toggleable {\n",
              "  /* Default theme specific background. It is overwritten whether we have a\n",
              "  specific estimator or a Pipeline/ColumnTransformer */\n",
              "  background-color: var(--sklearn-color-background);\n",
              "}\n",
              "\n",
              "/* Toggleable label */\n",
              "#sk-container-id-1 label.sk-toggleable__label {\n",
              "  cursor: pointer;\n",
              "  display: block;\n",
              "  width: 100%;\n",
              "  margin-bottom: 0;\n",
              "  padding: 0.5em;\n",
              "  box-sizing: border-box;\n",
              "  text-align: center;\n",
              "}\n",
              "\n",
              "#sk-container-id-1 label.sk-toggleable__label-arrow:before {\n",
              "  /* Arrow on the left of the label */\n",
              "  content: \"▸\";\n",
              "  float: left;\n",
              "  margin-right: 0.25em;\n",
              "  color: var(--sklearn-color-icon);\n",
              "}\n",
              "\n",
              "#sk-container-id-1 label.sk-toggleable__label-arrow:hover:before {\n",
              "  color: var(--sklearn-color-text);\n",
              "}\n",
              "\n",
              "/* Toggleable content - dropdown */\n",
              "\n",
              "#sk-container-id-1 div.sk-toggleable__content {\n",
              "  max-height: 0;\n",
              "  max-width: 0;\n",
              "  overflow: hidden;\n",
              "  text-align: left;\n",
              "  /* unfitted */\n",
              "  background-color: var(--sklearn-color-unfitted-level-0);\n",
              "}\n",
              "\n",
              "#sk-container-id-1 div.sk-toggleable__content.fitted {\n",
              "  /* fitted */\n",
              "  background-color: var(--sklearn-color-fitted-level-0);\n",
              "}\n",
              "\n",
              "#sk-container-id-1 div.sk-toggleable__content pre {\n",
              "  margin: 0.2em;\n",
              "  border-radius: 0.25em;\n",
              "  color: var(--sklearn-color-text);\n",
              "  /* unfitted */\n",
              "  background-color: var(--sklearn-color-unfitted-level-0);\n",
              "}\n",
              "\n",
              "#sk-container-id-1 div.sk-toggleable__content.fitted pre {\n",
              "  /* unfitted */\n",
              "  background-color: var(--sklearn-color-fitted-level-0);\n",
              "}\n",
              "\n",
              "#sk-container-id-1 input.sk-toggleable__control:checked~div.sk-toggleable__content {\n",
              "  /* Expand drop-down */\n",
              "  max-height: 200px;\n",
              "  max-width: 100%;\n",
              "  overflow: auto;\n",
              "}\n",
              "\n",
              "#sk-container-id-1 input.sk-toggleable__control:checked~label.sk-toggleable__label-arrow:before {\n",
              "  content: \"▾\";\n",
              "}\n",
              "\n",
              "/* Pipeline/ColumnTransformer-specific style */\n",
              "\n",
              "#sk-container-id-1 div.sk-label input.sk-toggleable__control:checked~label.sk-toggleable__label {\n",
              "  color: var(--sklearn-color-text);\n",
              "  background-color: var(--sklearn-color-unfitted-level-2);\n",
              "}\n",
              "\n",
              "#sk-container-id-1 div.sk-label.fitted input.sk-toggleable__control:checked~label.sk-toggleable__label {\n",
              "  background-color: var(--sklearn-color-fitted-level-2);\n",
              "}\n",
              "\n",
              "/* Estimator-specific style */\n",
              "\n",
              "/* Colorize estimator box */\n",
              "#sk-container-id-1 div.sk-estimator input.sk-toggleable__control:checked~label.sk-toggleable__label {\n",
              "  /* unfitted */\n",
              "  background-color: var(--sklearn-color-unfitted-level-2);\n",
              "}\n",
              "\n",
              "#sk-container-id-1 div.sk-estimator.fitted input.sk-toggleable__control:checked~label.sk-toggleable__label {\n",
              "  /* fitted */\n",
              "  background-color: var(--sklearn-color-fitted-level-2);\n",
              "}\n",
              "\n",
              "#sk-container-id-1 div.sk-label label.sk-toggleable__label,\n",
              "#sk-container-id-1 div.sk-label label {\n",
              "  /* The background is the default theme color */\n",
              "  color: var(--sklearn-color-text-on-default-background);\n",
              "}\n",
              "\n",
              "/* On hover, darken the color of the background */\n",
              "#sk-container-id-1 div.sk-label:hover label.sk-toggleable__label {\n",
              "  color: var(--sklearn-color-text);\n",
              "  background-color: var(--sklearn-color-unfitted-level-2);\n",
              "}\n",
              "\n",
              "/* Label box, darken color on hover, fitted */\n",
              "#sk-container-id-1 div.sk-label.fitted:hover label.sk-toggleable__label.fitted {\n",
              "  color: var(--sklearn-color-text);\n",
              "  background-color: var(--sklearn-color-fitted-level-2);\n",
              "}\n",
              "\n",
              "/* Estimator label */\n",
              "\n",
              "#sk-container-id-1 div.sk-label label {\n",
              "  font-family: monospace;\n",
              "  font-weight: bold;\n",
              "  display: inline-block;\n",
              "  line-height: 1.2em;\n",
              "}\n",
              "\n",
              "#sk-container-id-1 div.sk-label-container {\n",
              "  text-align: center;\n",
              "}\n",
              "\n",
              "/* Estimator-specific */\n",
              "#sk-container-id-1 div.sk-estimator {\n",
              "  font-family: monospace;\n",
              "  border: 1px dotted var(--sklearn-color-border-box);\n",
              "  border-radius: 0.25em;\n",
              "  box-sizing: border-box;\n",
              "  margin-bottom: 0.5em;\n",
              "  /* unfitted */\n",
              "  background-color: var(--sklearn-color-unfitted-level-0);\n",
              "}\n",
              "\n",
              "#sk-container-id-1 div.sk-estimator.fitted {\n",
              "  /* fitted */\n",
              "  background-color: var(--sklearn-color-fitted-level-0);\n",
              "}\n",
              "\n",
              "/* on hover */\n",
              "#sk-container-id-1 div.sk-estimator:hover {\n",
              "  /* unfitted */\n",
              "  background-color: var(--sklearn-color-unfitted-level-2);\n",
              "}\n",
              "\n",
              "#sk-container-id-1 div.sk-estimator.fitted:hover {\n",
              "  /* fitted */\n",
              "  background-color: var(--sklearn-color-fitted-level-2);\n",
              "}\n",
              "\n",
              "/* Specification for estimator info (e.g. \"i\" and \"?\") */\n",
              "\n",
              "/* Common style for \"i\" and \"?\" */\n",
              "\n",
              ".sk-estimator-doc-link,\n",
              "a:link.sk-estimator-doc-link,\n",
              "a:visited.sk-estimator-doc-link {\n",
              "  float: right;\n",
              "  font-size: smaller;\n",
              "  line-height: 1em;\n",
              "  font-family: monospace;\n",
              "  background-color: var(--sklearn-color-background);\n",
              "  border-radius: 1em;\n",
              "  height: 1em;\n",
              "  width: 1em;\n",
              "  text-decoration: none !important;\n",
              "  margin-left: 1ex;\n",
              "  /* unfitted */\n",
              "  border: var(--sklearn-color-unfitted-level-1) 1pt solid;\n",
              "  color: var(--sklearn-color-unfitted-level-1);\n",
              "}\n",
              "\n",
              ".sk-estimator-doc-link.fitted,\n",
              "a:link.sk-estimator-doc-link.fitted,\n",
              "a:visited.sk-estimator-doc-link.fitted {\n",
              "  /* fitted */\n",
              "  border: var(--sklearn-color-fitted-level-1) 1pt solid;\n",
              "  color: var(--sklearn-color-fitted-level-1);\n",
              "}\n",
              "\n",
              "/* On hover */\n",
              "div.sk-estimator:hover .sk-estimator-doc-link:hover,\n",
              ".sk-estimator-doc-link:hover,\n",
              "div.sk-label-container:hover .sk-estimator-doc-link:hover,\n",
              ".sk-estimator-doc-link:hover {\n",
              "  /* unfitted */\n",
              "  background-color: var(--sklearn-color-unfitted-level-3);\n",
              "  color: var(--sklearn-color-background);\n",
              "  text-decoration: none;\n",
              "}\n",
              "\n",
              "div.sk-estimator.fitted:hover .sk-estimator-doc-link.fitted:hover,\n",
              ".sk-estimator-doc-link.fitted:hover,\n",
              "div.sk-label-container:hover .sk-estimator-doc-link.fitted:hover,\n",
              ".sk-estimator-doc-link.fitted:hover {\n",
              "  /* fitted */\n",
              "  background-color: var(--sklearn-color-fitted-level-3);\n",
              "  color: var(--sklearn-color-background);\n",
              "  text-decoration: none;\n",
              "}\n",
              "\n",
              "/* Span, style for the box shown on hovering the info icon */\n",
              ".sk-estimator-doc-link span {\n",
              "  display: none;\n",
              "  z-index: 9999;\n",
              "  position: relative;\n",
              "  font-weight: normal;\n",
              "  right: .2ex;\n",
              "  padding: .5ex;\n",
              "  margin: .5ex;\n",
              "  width: min-content;\n",
              "  min-width: 20ex;\n",
              "  max-width: 50ex;\n",
              "  color: var(--sklearn-color-text);\n",
              "  box-shadow: 2pt 2pt 4pt #999;\n",
              "  /* unfitted */\n",
              "  background: var(--sklearn-color-unfitted-level-0);\n",
              "  border: .5pt solid var(--sklearn-color-unfitted-level-3);\n",
              "}\n",
              "\n",
              ".sk-estimator-doc-link.fitted span {\n",
              "  /* fitted */\n",
              "  background: var(--sklearn-color-fitted-level-0);\n",
              "  border: var(--sklearn-color-fitted-level-3);\n",
              "}\n",
              "\n",
              ".sk-estimator-doc-link:hover span {\n",
              "  display: block;\n",
              "}\n",
              "\n",
              "/* \"?\"-specific style due to the `<a>` HTML tag */\n",
              "\n",
              "#sk-container-id-1 a.estimator_doc_link {\n",
              "  float: right;\n",
              "  font-size: 1rem;\n",
              "  line-height: 1em;\n",
              "  font-family: monospace;\n",
              "  background-color: var(--sklearn-color-background);\n",
              "  border-radius: 1rem;\n",
              "  height: 1rem;\n",
              "  width: 1rem;\n",
              "  text-decoration: none;\n",
              "  /* unfitted */\n",
              "  color: var(--sklearn-color-unfitted-level-1);\n",
              "  border: var(--sklearn-color-unfitted-level-1) 1pt solid;\n",
              "}\n",
              "\n",
              "#sk-container-id-1 a.estimator_doc_link.fitted {\n",
              "  /* fitted */\n",
              "  border: var(--sklearn-color-fitted-level-1) 1pt solid;\n",
              "  color: var(--sklearn-color-fitted-level-1);\n",
              "}\n",
              "\n",
              "/* On hover */\n",
              "#sk-container-id-1 a.estimator_doc_link:hover {\n",
              "  /* unfitted */\n",
              "  background-color: var(--sklearn-color-unfitted-level-3);\n",
              "  color: var(--sklearn-color-background);\n",
              "  text-decoration: none;\n",
              "}\n",
              "\n",
              "#sk-container-id-1 a.estimator_doc_link.fitted:hover {\n",
              "  /* fitted */\n",
              "  background-color: var(--sklearn-color-fitted-level-3);\n",
              "}\n",
              "</style><div id=\"sk-container-id-1\" class=\"sk-top-container\"><div class=\"sk-text-repr-fallback\"><pre>AdaBoostClassifier(n_estimators=100)</pre><b>In a Jupyter environment, please rerun this cell to show the HTML representation or trust the notebook. <br />On GitHub, the HTML representation is unable to render, please try loading this page with nbviewer.org.</b></div><div class=\"sk-container\" hidden><div class=\"sk-item\"><div class=\"sk-estimator fitted sk-toggleable\"><input class=\"sk-toggleable__control sk-hidden--visually\" id=\"sk-estimator-id-1\" type=\"checkbox\" checked><label for=\"sk-estimator-id-1\" class=\"sk-toggleable__label fitted sk-toggleable__label-arrow fitted\">&nbsp;&nbsp;AdaBoostClassifier<a class=\"sk-estimator-doc-link fitted\" rel=\"noreferrer\" target=\"_blank\" href=\"https://scikit-learn.org/1.5/modules/generated/sklearn.ensemble.AdaBoostClassifier.html\">?<span>Documentation for AdaBoostClassifier</span></a><span class=\"sk-estimator-doc-link fitted\">i<span>Fitted</span></span></label><div class=\"sk-toggleable__content fitted\"><pre>AdaBoostClassifier(n_estimators=100)</pre></div> </div></div></div></div>"
            ]
          },
          "metadata": {},
          "execution_count": 41
        }
      ]
    },
    {
      "cell_type": "markdown",
      "source": [
        "* 예측 데이터 세트 반환 및 정확도 확인"
      ],
      "metadata": {
        "id": "OYUn_HF1dgaH"
      }
    },
    {
      "cell_type": "code",
      "source": [
        "knn_pred=knn_clf.predict(X_test)\n",
        "rf_pred=rf_clf.predict(X_test)\n",
        "dt_pred=dt_clf.predict(X_test)\n",
        "ada_pred=ada_clf.predict(X_test)\n",
        "\n",
        "print('KNN 정확도: {0:.4f}'.format(accuracy_score(y_test, knn_pred)))\n",
        "print('랜덤 포레스트 정확도: {0:.4f}'.format(accuracy_score(y_test, rf_pred)))\n",
        "print('결정 트리 정확도: {0:.4f}'.format(accuracy_score(y_test, dt_pred)))\n",
        "print('에이다부스트 정확도: {0:.4f}'.format(accuracy_score(y_test, ada_pred)))\n"
      ],
      "metadata": {
        "id": "1qushafEdSJr",
        "colab": {
          "base_uri": "https://localhost:8080/"
        },
        "outputId": "c7ecd95a-6a48-45cf-e449-607160f32046"
      },
      "execution_count": 42,
      "outputs": [
        {
          "output_type": "stream",
          "name": "stdout",
          "text": [
            "KNN 정확도: 0.9211\n",
            "랜덤 포레스트 정확도: 0.9649\n",
            "결정 트리 정확도: 0.9035\n",
            "에이다부스트 정확도: 0.9561\n"
          ]
        }
      ]
    },
    {
      "cell_type": "code",
      "source": [
        "pred=np.array([knn_pred, rf_pred, dt_pred, ada_pred])\n",
        "print(pred.shape)\n",
        "\n",
        "# transpose로 행,열 위치 교환. 각 알고리즘의 예측 결과를 피처로 만들었음\n",
        "pred=np.transpose(pred)\n",
        "print(pred.shape)"
      ],
      "metadata": {
        "id": "3cmpThPgeOSw",
        "colab": {
          "base_uri": "https://localhost:8080/"
        },
        "outputId": "379e746f-10a4-4295-e0da-43cf8f97daa8"
      },
      "execution_count": 43,
      "outputs": [
        {
          "output_type": "stream",
          "name": "stdout",
          "text": [
            "(4, 114)\n",
            "(114, 4)\n"
          ]
        }
      ]
    },
    {
      "cell_type": "markdown",
      "source": [
        "* 예측 데이터를 로지스틱 회귀로 학습, 예측 정확도 측정"
      ],
      "metadata": {
        "id": "6rQwvYvVe8AR"
      }
    },
    {
      "cell_type": "code",
      "source": [
        "lr_final.fit(pred, y_test)\n",
        "final=lr_final.predict(pred)\n",
        "\n",
        "print('최종 메타 모델의 예측 정확도: {0:.4f}'.format(accuracy_score(y_test, final)))"
      ],
      "metadata": {
        "id": "EMAHkE9Ae4rU",
        "colab": {
          "base_uri": "https://localhost:8080/"
        },
        "outputId": "f376e906-a08d-47cf-bfa8-acf87f363bfa"
      },
      "execution_count": 44,
      "outputs": [
        {
          "output_type": "stream",
          "name": "stdout",
          "text": [
            "최종 메타 모델의 예측 정확도: 0.9737\n"
          ]
        }
      ]
    },
    {
      "cell_type": "markdown",
      "source": [
        "#### CV 세트 기반의 스태킹"
      ],
      "metadata": {
        "id": "ai1h10aKfQlo"
      }
    },
    {
      "cell_type": "code",
      "source": [
        "from sklearn.model_selection import KFold\n",
        "from sklearn.metrics import mean_absolute_error\n",
        "\n",
        "# 개별 기반 모델에서 최종 메타 모델이 사용할 학습/테스트용 데이터 생성 함수\n",
        "def get_stacking_base_datasets(model, X_train_n, y_train_n, X_test_n, n_folds):\n",
        "  # KFold 생성\n",
        "  kf=KFold(n_splits=n_folds, shuffle=False)\n",
        "  # 메타 모델이 사용할 학습 데이터 반환을 위한 넘파이 배열 초기화\n",
        "  train_fold_pred=np.zeros((X_train_n.shape[0],1))\n",
        "  test_pred=np.zeros((X_test_n.shape[0], n_folds))\n",
        "  print(model.__class__.__name__, 'model 시작')\n",
        "\n",
        "  for folder_counter, (train_index, valid_index) in enumerate(kf.split(X_train_n)):\n",
        "    # 학습 데이터에서 학습/예측할 폴드 데이터 세트 추출\n",
        "    print('\\t 폴드 세트:', folder_counter, '시작')\n",
        "    X_tr=X_train_n[train_index]\n",
        "    y_tr=y_train_n[train_index]\n",
        "    X_te=X_train_n[valid_index]\n",
        "\n",
        "    # 폴드 세트 내부에서 만들어진 학습 데이터로 기반 모델 학습\n",
        "    model.fit(X_tr, y_tr)\n",
        "    # 폴드 세트 내부에서 만들어진 검증 데이터로 기반 모델 예측 후 저장\n",
        "    train_fold_pred[valid_index,:]=model.predict(X_te).reshape(-1,1)\n",
        "    # 원본 테스트 데이터를 폴드 세트 내 모델에서 예측 후 저장\n",
        "    test_pred[:, folder_counter]=model.predict(X_test_n)\n",
        "\n",
        "  # 폴드 세트 내에서 원본 테스트 데이터 예측한 데이터를 평균 -> 테스트 데이터로 생성\n",
        "  test_pred_mean=np.mean(test_pred, axis=1).reshape(-1,1)\n",
        "\n",
        "  # train_fold_pred: 최종 메타 모델 학습 데이터, test_pred_mean: 최종 메타 모델 테스트 데이터\n",
        "  return train_fold_pred, test_pred_mean\n"
      ],
      "metadata": {
        "id": "ZQfOZIZufNTL"
      },
      "execution_count": 45,
      "outputs": []
    },
    {
      "cell_type": "markdown",
      "source": [
        "* 학습용/테스트용 데이터 세트 반환"
      ],
      "metadata": {
        "id": "79ycb9w-idM_"
      }
    },
    {
      "cell_type": "code",
      "source": [
        "knn_train, knn_test = get_stacking_base_datasets(knn_clf, X_train, y_train, X_test, 7)\n",
        "rf_train, rf_test = get_stacking_base_datasets(rf_clf, X_train, y_train, X_test, 7)\n",
        "dt_train, dt_test = get_stacking_base_datasets(dt_clf, X_train, y_train, X_test, 7)\n",
        "ada_train, ada_test = get_stacking_base_datasets(ada_clf, X_train, y_train, X_test, 7)\n"
      ],
      "metadata": {
        "id": "onbz2WkmhwMi",
        "colab": {
          "base_uri": "https://localhost:8080/"
        },
        "outputId": "8bf64340-25f3-4e26-e904-c7d3d3f31cd2"
      },
      "execution_count": 46,
      "outputs": [
        {
          "output_type": "stream",
          "name": "stdout",
          "text": [
            "KNeighborsClassifier model 시작\n",
            "\t 폴드 세트: 0 시작\n",
            "\t 폴드 세트: 1 시작\n",
            "\t 폴드 세트: 2 시작\n",
            "\t 폴드 세트: 3 시작\n",
            "\t 폴드 세트: 4 시작\n",
            "\t 폴드 세트: 5 시작\n",
            "\t 폴드 세트: 6 시작\n",
            "RandomForestClassifier model 시작\n",
            "\t 폴드 세트: 0 시작\n",
            "\t 폴드 세트: 1 시작\n",
            "\t 폴드 세트: 2 시작\n",
            "\t 폴드 세트: 3 시작\n",
            "\t 폴드 세트: 4 시작\n",
            "\t 폴드 세트: 5 시작\n",
            "\t 폴드 세트: 6 시작\n",
            "DecisionTreeClassifier model 시작\n",
            "\t 폴드 세트: 0 시작\n",
            "\t 폴드 세트: 1 시작\n",
            "\t 폴드 세트: 2 시작\n",
            "\t 폴드 세트: 3 시작\n",
            "\t 폴드 세트: 4 시작\n",
            "\t 폴드 세트: 5 시작\n",
            "\t 폴드 세트: 6 시작\n",
            "AdaBoostClassifier model 시작\n",
            "\t 폴드 세트: 0 시작\n",
            "\t 폴드 세트: 1 시작\n",
            "\t 폴드 세트: 2 시작\n",
            "\t 폴드 세트: 3 시작\n",
            "\t 폴드 세트: 4 시작\n",
            "\t 폴드 세트: 5 시작\n",
            "\t 폴드 세트: 6 시작\n"
          ]
        }
      ]
    },
    {
      "cell_type": "markdown",
      "source": [
        "* 모델별 학습/테스트 데이터 세트 합치기"
      ],
      "metadata": {
        "id": "TbYLylkGiXk2"
      }
    },
    {
      "cell_type": "code",
      "source": [
        "Stack_final_X_train=np.concatenate((knn_train, rf_train, dt_train, ada_train), axis=1)\n",
        "Stack_final_X_test=np.concatenate((knn_test, rf_test, dt_test, ada_test), axis=1)\n",
        "print('원본 학습 피처 데이터 shape:', X_train.shape, '원본 테스트 피처 shape:', X_test.shape)\n",
        "print('스태킹 학습 피처 데이터 shape:', Stack_final_X_train.shape,\n",
        "    '스태킹 테스트 피처 shape:', Stack_final_X_test.shape)\n"
      ],
      "metadata": {
        "id": "RCOtho-9iFfp",
        "colab": {
          "base_uri": "https://localhost:8080/"
        },
        "outputId": "38ad7b66-ce7a-4793-bf29-a7295b716f96"
      },
      "execution_count": 47,
      "outputs": [
        {
          "output_type": "stream",
          "name": "stdout",
          "text": [
            "원본 학습 피처 데이터 shape: (455, 30) 원본 테스트 피처 shape: (114, 30)\n",
            "스태킹 학습 피처 데이터 shape: (455, 4) 스태킹 테스트 피처 shape: (114, 4)\n"
          ]
        }
      ]
    },
    {
      "cell_type": "markdown",
      "source": [
        "* 최종 메타 모델"
      ],
      "metadata": {
        "id": "mY14H8xVjT6P"
      }
    },
    {
      "cell_type": "code",
      "source": [
        "lr_final.fit(Stack_final_X_train, y_train)\n",
        "stack_final=lr_final.predict(Stack_final_X_test)\n",
        "\n",
        "print('최종 메타 모델의 예측 정확도: {0:.4f}'.format(accuracy_score(y_test, stack_final)))"
      ],
      "metadata": {
        "id": "goAvvMhYjPVh",
        "colab": {
          "base_uri": "https://localhost:8080/"
        },
        "outputId": "c2007958-2553-45ab-8e0a-72f5fc3f161e"
      },
      "execution_count": 48,
      "outputs": [
        {
          "output_type": "stream",
          "name": "stdout",
          "text": [
            "최종 메타 모델의 예측 정확도: 0.9737\n"
          ]
        }
      ]
    },
    {
      "cell_type": "markdown",
      "source": [
        "### [파머완 개정 2판] 4.8. 베이지안 최적화 기반 HyperOpt"
      ],
      "metadata": {
        "id": "uMoD5-NapWjW"
      }
    },
    {
      "cell_type": "code",
      "source": [
        "params={\n",
        "    'max_depth':[10,20,30,40,50], 'num_leaves':[35,45,55,65],\n",
        "    'colsample_bytree':[0.5,0.6,0.7,0.8,0.9], 'subsample':[0.5, 0.6, 0.7, 0.8, 0.9],\n",
        "    'min_child_weight':[10,20,30,40], 'reg_alpha':[0.01, 0.05, 0.1]\n",
        "}"
      ],
      "metadata": {
        "id": "s6w3Vb2Yjoyc"
      },
      "execution_count": 49,
      "outputs": []
    },
    {
      "cell_type": "markdown",
      "source": [
        "#### HyperOpt 사용하기"
      ],
      "metadata": {
        "id": "mc0kMHuJqpLD"
      }
    },
    {
      "cell_type": "code",
      "source": [
        "from hyperopt import hp\n",
        "\n",
        "# -10~10 1간격의 입력 변수 x, -15~15 1간격의 입력 변수 y\n",
        "search_space={'x': hp.quniform('x',-10,10,1), 'y':hp.quniform('y',-15,15,1)}"
      ],
      "metadata": {
        "id": "sxYi5rsKqXVk"
      },
      "execution_count": 50,
      "outputs": []
    },
    {
      "cell_type": "code",
      "source": [
        "from hyperopt import STATUS_OK\n",
        "\n",
        "# 목적 함수 생성. 변숫값과 변수 검색 공간을 갖는 딕셔너리를 인자로, 특정 값 반환\n",
        "def objective_func(search_space):\n",
        "  x=search_space['x']\n",
        "  y=search_space['y']\n",
        "  retval=x**20*y\n",
        "\n",
        "  return retval"
      ],
      "metadata": {
        "id": "ItJcSAgUq1bH"
      },
      "execution_count": 51,
      "outputs": []
    },
    {
      "cell_type": "code",
      "source": [
        "from hyperopt import fmin, tpe, Trials\n",
        "# 입력 결괏값을 저장한 Trials 객체 생성\n",
        "trial_val=Trials()\n",
        "\n",
        "# 목적 함수의 최솟값 반환하는 최적 입력 변숫값을 5번의 입력값 시도로 찾아냄 (max_evals=5)\n",
        "best_01=fmin(fn=objective_func, space=search_space, algo=tpe.suggest, max_evals=5, trials=trial_val, rstate=np.random.default_rng(seed=0))\n",
        "print('best:', best_01)"
      ],
      "metadata": {
        "id": "li5LVq6trfvv",
        "colab": {
          "base_uri": "https://localhost:8080/"
        },
        "outputId": "4c111910-7ed7-47a5-e8ae-11fee7e2e901"
      },
      "execution_count": 52,
      "outputs": [
        {
          "output_type": "stream",
          "name": "stdout",
          "text": [
            "100%|██████████| 5/5 [00:00<00:00, 559.02trial/s, best loss: -2199023255552.0]\n",
            "best: {'x': 4.0, 'y': -2.0}\n"
          ]
        }
      ]
    },
    {
      "cell_type": "code",
      "source": [
        "trial_val=Trials()\n",
        "\n",
        "# max_evals=20\n",
        "best_02=fmin(fn=objective_func, space=search_space, algo=tpe.suggest, max_evals=20, trials=trial_val, rstate=np.random.default_rng(seed=0))\n",
        "print('best:', best_02)"
      ],
      "metadata": {
        "id": "Jpkry22rsHcJ",
        "colab": {
          "base_uri": "https://localhost:8080/"
        },
        "outputId": "42b9ba97-a6d0-4475-f234-f96e3dcb39bb"
      },
      "execution_count": 53,
      "outputs": [
        {
          "output_type": "stream",
          "name": "stdout",
          "text": [
            "100%|██████████| 20/20 [00:00<00:00, 456.94trial/s, best loss: -1.2157665459056928e+20]\n",
            "best: {'x': -9.0, 'y': -10.0}\n"
          ]
        }
      ]
    },
    {
      "cell_type": "code",
      "source": [
        "print(trial_val.results)"
      ],
      "metadata": {
        "id": "3r2fP5GPsaZZ",
        "colab": {
          "base_uri": "https://localhost:8080/"
        },
        "outputId": "cd5ce8b2-6200-415e-b034-cb0248fd84ed"
      },
      "execution_count": 54,
      "outputs": [
        {
          "output_type": "stream",
          "name": "stdout",
          "text": [
            "[{'loss': 1.828079220031488e+16, 'status': 'ok'}, {'loss': 10995116277760.0, 'status': 'ok'}, {'loss': -2199023255552.0, 'status': 'ok'}, {'loss': 13194139533312.0, 'status': 'ok'}, {'loss': 1.2157665459056929e+19, 'status': 'ok'}, {'loss': 15728640.0, 'status': 'ok'}, {'loss': 7e+20, 'status': 'ok'}, {'loss': -1.2157665459056928e+20, 'status': 'ok'}, {'loss': 0.0, 'status': 'ok'}, {'loss': -0.0, 'status': 'ok'}, {'loss': -0.0, 'status': 'ok'}, {'loss': 2.0, 'status': 'ok'}, {'loss': 4.8630661836227715e+19, 'status': 'ok'}, {'loss': 3.656158440062976e+16, 'status': 'ok'}, {'loss': 3.647299637717079e+19, 'status': 'ok'}, {'loss': 3145728.0, 'status': 'ok'}, {'loss': -14680064.0, 'status': 'ok'}, {'loss': -8796093022208.0, 'status': 'ok'}, {'loss': 8.77714929273732e+17, 'status': 'ok'}, {'loss': -0.0, 'status': 'ok'}]\n"
          ]
        }
      ]
    },
    {
      "cell_type": "code",
      "source": [
        "print(trial_val.vals)"
      ],
      "metadata": {
        "id": "fxXuZ4dmsg9u",
        "colab": {
          "base_uri": "https://localhost:8080/"
        },
        "outputId": "e7b1cac8-5a48-49a7-c66d-a2685dd65064"
      },
      "execution_count": 55,
      "outputs": [
        {
          "output_type": "stream",
          "name": "stdout",
          "text": [
            "{'x': [-6.0, -4.0, 4.0, -4.0, 9.0, 2.0, 10.0, -9.0, -8.0, -0.0, -0.0, 1.0, 9.0, 6.0, 9.0, 2.0, -2.0, -4.0, 7.0, -0.0], 'y': [5.0, 10.0, -2.0, 12.0, 1.0, 15.0, 7.0, -10.0, 0.0, -5.0, -3.0, 2.0, 4.0, 10.0, 3.0, 3.0, -14.0, -8.0, 11.0, -0.0]}\n"
          ]
        }
      ]
    },
    {
      "cell_type": "code",
      "source": [
        "import pandas as pd\n",
        "\n",
        "losses=[loss_dict['loss'] for loss_dict in trial_val.results]\n",
        "\n",
        "result_df=pd.DataFrame({'x': trial_val.vals['x'], 'y': trial_val.vals['y'], 'losses': losses})\n",
        "result_df"
      ],
      "metadata": {
        "id": "kxxSbjNEsmD3",
        "colab": {
          "base_uri": "https://localhost:8080/",
          "height": 677
        },
        "outputId": "352619c8-092a-4756-995a-70cf8a78f67f"
      },
      "execution_count": 56,
      "outputs": [
        {
          "output_type": "execute_result",
          "data": {
            "text/plain": [
              "       x     y        losses\n",
              "0   -6.0   5.0  1.828079e+16\n",
              "1   -4.0  10.0  1.099512e+13\n",
              "2    4.0  -2.0 -2.199023e+12\n",
              "3   -4.0  12.0  1.319414e+13\n",
              "4    9.0   1.0  1.215767e+19\n",
              "5    2.0  15.0  1.572864e+07\n",
              "6   10.0   7.0  7.000000e+20\n",
              "7   -9.0 -10.0 -1.215767e+20\n",
              "8   -8.0   0.0  0.000000e+00\n",
              "9   -0.0  -5.0 -0.000000e+00\n",
              "10  -0.0  -3.0 -0.000000e+00\n",
              "11   1.0   2.0  2.000000e+00\n",
              "12   9.0   4.0  4.863066e+19\n",
              "13   6.0  10.0  3.656158e+16\n",
              "14   9.0   3.0  3.647300e+19\n",
              "15   2.0   3.0  3.145728e+06\n",
              "16  -2.0 -14.0 -1.468006e+07\n",
              "17  -4.0  -8.0 -8.796093e+12\n",
              "18   7.0  11.0  8.777149e+17\n",
              "19  -0.0  -0.0 -0.000000e+00"
            ],
            "text/html": [
              "\n",
              "  <div id=\"df-ca6bcfd1-d61d-4e67-ad7e-f84a309ca6bd\" class=\"colab-df-container\">\n",
              "    <div>\n",
              "<style scoped>\n",
              "    .dataframe tbody tr th:only-of-type {\n",
              "        vertical-align: middle;\n",
              "    }\n",
              "\n",
              "    .dataframe tbody tr th {\n",
              "        vertical-align: top;\n",
              "    }\n",
              "\n",
              "    .dataframe thead th {\n",
              "        text-align: right;\n",
              "    }\n",
              "</style>\n",
              "<table border=\"1\" class=\"dataframe\">\n",
              "  <thead>\n",
              "    <tr style=\"text-align: right;\">\n",
              "      <th></th>\n",
              "      <th>x</th>\n",
              "      <th>y</th>\n",
              "      <th>losses</th>\n",
              "    </tr>\n",
              "  </thead>\n",
              "  <tbody>\n",
              "    <tr>\n",
              "      <th>0</th>\n",
              "      <td>-6.0</td>\n",
              "      <td>5.0</td>\n",
              "      <td>1.828079e+16</td>\n",
              "    </tr>\n",
              "    <tr>\n",
              "      <th>1</th>\n",
              "      <td>-4.0</td>\n",
              "      <td>10.0</td>\n",
              "      <td>1.099512e+13</td>\n",
              "    </tr>\n",
              "    <tr>\n",
              "      <th>2</th>\n",
              "      <td>4.0</td>\n",
              "      <td>-2.0</td>\n",
              "      <td>-2.199023e+12</td>\n",
              "    </tr>\n",
              "    <tr>\n",
              "      <th>3</th>\n",
              "      <td>-4.0</td>\n",
              "      <td>12.0</td>\n",
              "      <td>1.319414e+13</td>\n",
              "    </tr>\n",
              "    <tr>\n",
              "      <th>4</th>\n",
              "      <td>9.0</td>\n",
              "      <td>1.0</td>\n",
              "      <td>1.215767e+19</td>\n",
              "    </tr>\n",
              "    <tr>\n",
              "      <th>5</th>\n",
              "      <td>2.0</td>\n",
              "      <td>15.0</td>\n",
              "      <td>1.572864e+07</td>\n",
              "    </tr>\n",
              "    <tr>\n",
              "      <th>6</th>\n",
              "      <td>10.0</td>\n",
              "      <td>7.0</td>\n",
              "      <td>7.000000e+20</td>\n",
              "    </tr>\n",
              "    <tr>\n",
              "      <th>7</th>\n",
              "      <td>-9.0</td>\n",
              "      <td>-10.0</td>\n",
              "      <td>-1.215767e+20</td>\n",
              "    </tr>\n",
              "    <tr>\n",
              "      <th>8</th>\n",
              "      <td>-8.0</td>\n",
              "      <td>0.0</td>\n",
              "      <td>0.000000e+00</td>\n",
              "    </tr>\n",
              "    <tr>\n",
              "      <th>9</th>\n",
              "      <td>-0.0</td>\n",
              "      <td>-5.0</td>\n",
              "      <td>-0.000000e+00</td>\n",
              "    </tr>\n",
              "    <tr>\n",
              "      <th>10</th>\n",
              "      <td>-0.0</td>\n",
              "      <td>-3.0</td>\n",
              "      <td>-0.000000e+00</td>\n",
              "    </tr>\n",
              "    <tr>\n",
              "      <th>11</th>\n",
              "      <td>1.0</td>\n",
              "      <td>2.0</td>\n",
              "      <td>2.000000e+00</td>\n",
              "    </tr>\n",
              "    <tr>\n",
              "      <th>12</th>\n",
              "      <td>9.0</td>\n",
              "      <td>4.0</td>\n",
              "      <td>4.863066e+19</td>\n",
              "    </tr>\n",
              "    <tr>\n",
              "      <th>13</th>\n",
              "      <td>6.0</td>\n",
              "      <td>10.0</td>\n",
              "      <td>3.656158e+16</td>\n",
              "    </tr>\n",
              "    <tr>\n",
              "      <th>14</th>\n",
              "      <td>9.0</td>\n",
              "      <td>3.0</td>\n",
              "      <td>3.647300e+19</td>\n",
              "    </tr>\n",
              "    <tr>\n",
              "      <th>15</th>\n",
              "      <td>2.0</td>\n",
              "      <td>3.0</td>\n",
              "      <td>3.145728e+06</td>\n",
              "    </tr>\n",
              "    <tr>\n",
              "      <th>16</th>\n",
              "      <td>-2.0</td>\n",
              "      <td>-14.0</td>\n",
              "      <td>-1.468006e+07</td>\n",
              "    </tr>\n",
              "    <tr>\n",
              "      <th>17</th>\n",
              "      <td>-4.0</td>\n",
              "      <td>-8.0</td>\n",
              "      <td>-8.796093e+12</td>\n",
              "    </tr>\n",
              "    <tr>\n",
              "      <th>18</th>\n",
              "      <td>7.0</td>\n",
              "      <td>11.0</td>\n",
              "      <td>8.777149e+17</td>\n",
              "    </tr>\n",
              "    <tr>\n",
              "      <th>19</th>\n",
              "      <td>-0.0</td>\n",
              "      <td>-0.0</td>\n",
              "      <td>-0.000000e+00</td>\n",
              "    </tr>\n",
              "  </tbody>\n",
              "</table>\n",
              "</div>\n",
              "    <div class=\"colab-df-buttons\">\n",
              "\n",
              "  <div class=\"colab-df-container\">\n",
              "    <button class=\"colab-df-convert\" onclick=\"convertToInteractive('df-ca6bcfd1-d61d-4e67-ad7e-f84a309ca6bd')\"\n",
              "            title=\"Convert this dataframe to an interactive table.\"\n",
              "            style=\"display:none;\">\n",
              "\n",
              "  <svg xmlns=\"http://www.w3.org/2000/svg\" height=\"24px\" viewBox=\"0 -960 960 960\">\n",
              "    <path d=\"M120-120v-720h720v720H120Zm60-500h600v-160H180v160Zm220 220h160v-160H400v160Zm0 220h160v-160H400v160ZM180-400h160v-160H180v160Zm440 0h160v-160H620v160ZM180-180h160v-160H180v160Zm440 0h160v-160H620v160Z\"/>\n",
              "  </svg>\n",
              "    </button>\n",
              "\n",
              "  <style>\n",
              "    .colab-df-container {\n",
              "      display:flex;\n",
              "      gap: 12px;\n",
              "    }\n",
              "\n",
              "    .colab-df-convert {\n",
              "      background-color: #E8F0FE;\n",
              "      border: none;\n",
              "      border-radius: 50%;\n",
              "      cursor: pointer;\n",
              "      display: none;\n",
              "      fill: #1967D2;\n",
              "      height: 32px;\n",
              "      padding: 0 0 0 0;\n",
              "      width: 32px;\n",
              "    }\n",
              "\n",
              "    .colab-df-convert:hover {\n",
              "      background-color: #E2EBFA;\n",
              "      box-shadow: 0px 1px 2px rgba(60, 64, 67, 0.3), 0px 1px 3px 1px rgba(60, 64, 67, 0.15);\n",
              "      fill: #174EA6;\n",
              "    }\n",
              "\n",
              "    .colab-df-buttons div {\n",
              "      margin-bottom: 4px;\n",
              "    }\n",
              "\n",
              "    [theme=dark] .colab-df-convert {\n",
              "      background-color: #3B4455;\n",
              "      fill: #D2E3FC;\n",
              "    }\n",
              "\n",
              "    [theme=dark] .colab-df-convert:hover {\n",
              "      background-color: #434B5C;\n",
              "      box-shadow: 0px 1px 3px 1px rgba(0, 0, 0, 0.15);\n",
              "      filter: drop-shadow(0px 1px 2px rgba(0, 0, 0, 0.3));\n",
              "      fill: #FFFFFF;\n",
              "    }\n",
              "  </style>\n",
              "\n",
              "    <script>\n",
              "      const buttonEl =\n",
              "        document.querySelector('#df-ca6bcfd1-d61d-4e67-ad7e-f84a309ca6bd button.colab-df-convert');\n",
              "      buttonEl.style.display =\n",
              "        google.colab.kernel.accessAllowed ? 'block' : 'none';\n",
              "\n",
              "      async function convertToInteractive(key) {\n",
              "        const element = document.querySelector('#df-ca6bcfd1-d61d-4e67-ad7e-f84a309ca6bd');\n",
              "        const dataTable =\n",
              "          await google.colab.kernel.invokeFunction('convertToInteractive',\n",
              "                                                    [key], {});\n",
              "        if (!dataTable) return;\n",
              "\n",
              "        const docLinkHtml = 'Like what you see? Visit the ' +\n",
              "          '<a target=\"_blank\" href=https://colab.research.google.com/notebooks/data_table.ipynb>data table notebook</a>'\n",
              "          + ' to learn more about interactive tables.';\n",
              "        element.innerHTML = '';\n",
              "        dataTable['output_type'] = 'display_data';\n",
              "        await google.colab.output.renderOutput(dataTable, element);\n",
              "        const docLink = document.createElement('div');\n",
              "        docLink.innerHTML = docLinkHtml;\n",
              "        element.appendChild(docLink);\n",
              "      }\n",
              "    </script>\n",
              "  </div>\n",
              "\n",
              "\n",
              "<div id=\"df-ac14dd9f-64d5-43ec-af67-12696e0dec9f\">\n",
              "  <button class=\"colab-df-quickchart\" onclick=\"quickchart('df-ac14dd9f-64d5-43ec-af67-12696e0dec9f')\"\n",
              "            title=\"Suggest charts\"\n",
              "            style=\"display:none;\">\n",
              "\n",
              "<svg xmlns=\"http://www.w3.org/2000/svg\" height=\"24px\"viewBox=\"0 0 24 24\"\n",
              "     width=\"24px\">\n",
              "    <g>\n",
              "        <path d=\"M19 3H5c-1.1 0-2 .9-2 2v14c0 1.1.9 2 2 2h14c1.1 0 2-.9 2-2V5c0-1.1-.9-2-2-2zM9 17H7v-7h2v7zm4 0h-2V7h2v10zm4 0h-2v-4h2v4z\"/>\n",
              "    </g>\n",
              "</svg>\n",
              "  </button>\n",
              "\n",
              "<style>\n",
              "  .colab-df-quickchart {\n",
              "      --bg-color: #E8F0FE;\n",
              "      --fill-color: #1967D2;\n",
              "      --hover-bg-color: #E2EBFA;\n",
              "      --hover-fill-color: #174EA6;\n",
              "      --disabled-fill-color: #AAA;\n",
              "      --disabled-bg-color: #DDD;\n",
              "  }\n",
              "\n",
              "  [theme=dark] .colab-df-quickchart {\n",
              "      --bg-color: #3B4455;\n",
              "      --fill-color: #D2E3FC;\n",
              "      --hover-bg-color: #434B5C;\n",
              "      --hover-fill-color: #FFFFFF;\n",
              "      --disabled-bg-color: #3B4455;\n",
              "      --disabled-fill-color: #666;\n",
              "  }\n",
              "\n",
              "  .colab-df-quickchart {\n",
              "    background-color: var(--bg-color);\n",
              "    border: none;\n",
              "    border-radius: 50%;\n",
              "    cursor: pointer;\n",
              "    display: none;\n",
              "    fill: var(--fill-color);\n",
              "    height: 32px;\n",
              "    padding: 0;\n",
              "    width: 32px;\n",
              "  }\n",
              "\n",
              "  .colab-df-quickchart:hover {\n",
              "    background-color: var(--hover-bg-color);\n",
              "    box-shadow: 0 1px 2px rgba(60, 64, 67, 0.3), 0 1px 3px 1px rgba(60, 64, 67, 0.15);\n",
              "    fill: var(--button-hover-fill-color);\n",
              "  }\n",
              "\n",
              "  .colab-df-quickchart-complete:disabled,\n",
              "  .colab-df-quickchart-complete:disabled:hover {\n",
              "    background-color: var(--disabled-bg-color);\n",
              "    fill: var(--disabled-fill-color);\n",
              "    box-shadow: none;\n",
              "  }\n",
              "\n",
              "  .colab-df-spinner {\n",
              "    border: 2px solid var(--fill-color);\n",
              "    border-color: transparent;\n",
              "    border-bottom-color: var(--fill-color);\n",
              "    animation:\n",
              "      spin 1s steps(1) infinite;\n",
              "  }\n",
              "\n",
              "  @keyframes spin {\n",
              "    0% {\n",
              "      border-color: transparent;\n",
              "      border-bottom-color: var(--fill-color);\n",
              "      border-left-color: var(--fill-color);\n",
              "    }\n",
              "    20% {\n",
              "      border-color: transparent;\n",
              "      border-left-color: var(--fill-color);\n",
              "      border-top-color: var(--fill-color);\n",
              "    }\n",
              "    30% {\n",
              "      border-color: transparent;\n",
              "      border-left-color: var(--fill-color);\n",
              "      border-top-color: var(--fill-color);\n",
              "      border-right-color: var(--fill-color);\n",
              "    }\n",
              "    40% {\n",
              "      border-color: transparent;\n",
              "      border-right-color: var(--fill-color);\n",
              "      border-top-color: var(--fill-color);\n",
              "    }\n",
              "    60% {\n",
              "      border-color: transparent;\n",
              "      border-right-color: var(--fill-color);\n",
              "    }\n",
              "    80% {\n",
              "      border-color: transparent;\n",
              "      border-right-color: var(--fill-color);\n",
              "      border-bottom-color: var(--fill-color);\n",
              "    }\n",
              "    90% {\n",
              "      border-color: transparent;\n",
              "      border-bottom-color: var(--fill-color);\n",
              "    }\n",
              "  }\n",
              "</style>\n",
              "\n",
              "  <script>\n",
              "    async function quickchart(key) {\n",
              "      const quickchartButtonEl =\n",
              "        document.querySelector('#' + key + ' button');\n",
              "      quickchartButtonEl.disabled = true;  // To prevent multiple clicks.\n",
              "      quickchartButtonEl.classList.add('colab-df-spinner');\n",
              "      try {\n",
              "        const charts = await google.colab.kernel.invokeFunction(\n",
              "            'suggestCharts', [key], {});\n",
              "      } catch (error) {\n",
              "        console.error('Error during call to suggestCharts:', error);\n",
              "      }\n",
              "      quickchartButtonEl.classList.remove('colab-df-spinner');\n",
              "      quickchartButtonEl.classList.add('colab-df-quickchart-complete');\n",
              "    }\n",
              "    (() => {\n",
              "      let quickchartButtonEl =\n",
              "        document.querySelector('#df-ac14dd9f-64d5-43ec-af67-12696e0dec9f button');\n",
              "      quickchartButtonEl.style.display =\n",
              "        google.colab.kernel.accessAllowed ? 'block' : 'none';\n",
              "    })();\n",
              "  </script>\n",
              "</div>\n",
              "\n",
              "  <div id=\"id_7796fc66-69e3-40d4-8a82-1ad324bb9307\">\n",
              "    <style>\n",
              "      .colab-df-generate {\n",
              "        background-color: #E8F0FE;\n",
              "        border: none;\n",
              "        border-radius: 50%;\n",
              "        cursor: pointer;\n",
              "        display: none;\n",
              "        fill: #1967D2;\n",
              "        height: 32px;\n",
              "        padding: 0 0 0 0;\n",
              "        width: 32px;\n",
              "      }\n",
              "\n",
              "      .colab-df-generate:hover {\n",
              "        background-color: #E2EBFA;\n",
              "        box-shadow: 0px 1px 2px rgba(60, 64, 67, 0.3), 0px 1px 3px 1px rgba(60, 64, 67, 0.15);\n",
              "        fill: #174EA6;\n",
              "      }\n",
              "\n",
              "      [theme=dark] .colab-df-generate {\n",
              "        background-color: #3B4455;\n",
              "        fill: #D2E3FC;\n",
              "      }\n",
              "\n",
              "      [theme=dark] .colab-df-generate:hover {\n",
              "        background-color: #434B5C;\n",
              "        box-shadow: 0px 1px 3px 1px rgba(0, 0, 0, 0.15);\n",
              "        filter: drop-shadow(0px 1px 2px rgba(0, 0, 0, 0.3));\n",
              "        fill: #FFFFFF;\n",
              "      }\n",
              "    </style>\n",
              "    <button class=\"colab-df-generate\" onclick=\"generateWithVariable('result_df')\"\n",
              "            title=\"Generate code using this dataframe.\"\n",
              "            style=\"display:none;\">\n",
              "\n",
              "  <svg xmlns=\"http://www.w3.org/2000/svg\" height=\"24px\"viewBox=\"0 0 24 24\"\n",
              "       width=\"24px\">\n",
              "    <path d=\"M7,19H8.4L18.45,9,17,7.55,7,17.6ZM5,21V16.75L18.45,3.32a2,2,0,0,1,2.83,0l1.4,1.43a1.91,1.91,0,0,1,.58,1.4,1.91,1.91,0,0,1-.58,1.4L9.25,21ZM18.45,9,17,7.55Zm-12,3A5.31,5.31,0,0,0,4.9,8.1,5.31,5.31,0,0,0,1,6.5,5.31,5.31,0,0,0,4.9,4.9,5.31,5.31,0,0,0,6.5,1,5.31,5.31,0,0,0,8.1,4.9,5.31,5.31,0,0,0,12,6.5,5.46,5.46,0,0,0,6.5,12Z\"/>\n",
              "  </svg>\n",
              "    </button>\n",
              "    <script>\n",
              "      (() => {\n",
              "      const buttonEl =\n",
              "        document.querySelector('#id_7796fc66-69e3-40d4-8a82-1ad324bb9307 button.colab-df-generate');\n",
              "      buttonEl.style.display =\n",
              "        google.colab.kernel.accessAllowed ? 'block' : 'none';\n",
              "\n",
              "      buttonEl.onclick = () => {\n",
              "        google.colab.notebook.generateWithVariable('result_df');\n",
              "      }\n",
              "      })();\n",
              "    </script>\n",
              "  </div>\n",
              "\n",
              "    </div>\n",
              "  </div>\n"
            ],
            "application/vnd.google.colaboratory.intrinsic+json": {
              "type": "dataframe",
              "variable_name": "result_df",
              "summary": "{\n  \"name\": \"result_df\",\n  \"rows\": 20,\n  \"fields\": [\n    {\n      \"column\": \"x\",\n      \"properties\": {\n        \"dtype\": \"number\",\n        \"std\": 5.90182844103151,\n        \"min\": -9.0,\n        \"max\": 10.0,\n        \"num_unique_values\": 13,\n        \"samples\": [\n          -2.0,\n          1.0,\n          -6.0\n        ],\n        \"semantic_type\": \"\",\n        \"description\": \"\"\n      }\n    },\n    {\n      \"column\": \"y\",\n      \"properties\": {\n        \"dtype\": \"number\",\n        \"std\": 7.667257795670051,\n        \"min\": -14.0,\n        \"max\": 15.0,\n        \"num_unique_values\": 17,\n        \"samples\": [\n          5.0,\n          10.0,\n          15.0\n        ],\n        \"semantic_type\": \"\",\n        \"description\": \"\"\n      }\n    },\n    {\n      \"column\": \"losses\",\n      \"properties\": {\n        \"dtype\": \"number\",\n        \"std\": 1.5989044606520433e+20,\n        \"min\": -1.2157665459056928e+20,\n        \"max\": 7e+20,\n        \"num_unique_values\": 17,\n        \"samples\": [\n          1.828079220031488e+16,\n          10995116277760.0,\n          15728640.0\n        ],\n        \"semantic_type\": \"\",\n        \"description\": \"\"\n      }\n    }\n  ]\n}"
            }
          },
          "metadata": {},
          "execution_count": 56
        }
      ]
    },
    {
      "cell_type": "markdown",
      "source": [
        "#### HyperOpt 이용한 XGBoost 하이퍼 파리미터 최적화"
      ],
      "metadata": {
        "id": "X5S1uGeRtF3J"
      }
    },
    {
      "cell_type": "code",
      "source": [
        "import pandas as pd\n",
        "import numpy as np\n",
        "from sklearn.datasets import load_breast_cancer\n",
        "from sklearn.model_selection import train_test_split\n",
        "\n",
        "dataset=load_breast_cancer()\n",
        "X_features=dataset.data\n",
        "y_label=dataset.target\n",
        "\n",
        "# 80% 학습용, 20% 테스트용 데이터 추출\n",
        "X_train, X_test, y_train, y_test = train_test_split(X_features, y_label, test_size=0.2, random_state=156)\n",
        "\n",
        "# 학습용 데이터에서 90% 학습용, 10% 테스트용 데이터로 분리\n",
        "X_tr, X_val, y_tr, y_val = train_test_split(X_train, y_train , test_size=0.1, random_state=156)"
      ],
      "metadata": {
        "id": "z7nB_WFgtbmh"
      },
      "execution_count": 57,
      "outputs": []
    },
    {
      "cell_type": "code",
      "source": [
        "from hyperopt import hp\n",
        "\n",
        "xgb_search_space={\n",
        "    'max_depth':hp.quniform('max_depth', 5,20,1),\n",
        "    'min_child_weight':hp.quniform('min_child_weight', 1,2,1),\n",
        "    'learning_rate':hp.uniform('learning_rate', 0.01, 0.2),\n",
        "    'colsample_bytree':hp.uniform('colsample_bytree', 0.5,1)\n",
        "}"
      ],
      "metadata": {
        "id": "mjzVxhdnuAOL"
      },
      "execution_count": 58,
      "outputs": []
    },
    {
      "cell_type": "markdown",
      "source": [
        "1. 목적 함수 objective_func() 생성"
      ],
      "metadata": {
        "id": "-sUE1yiOlnb2"
      }
    },
    {
      "cell_type": "code",
      "source": [
        "from sklearn.model_selection import cross_val_score\n",
        "from xgboost import XGBClassifier\n",
        "from hyperopt import STATUS_OK\n",
        "\n",
        "# XGBClassifier 정수형 하이퍼 파라미터는 정수형 변환해야 함\n",
        "# -1*정확도 -> 큰 정확도 값일 수록 최소가 되도록 변환\n",
        "def objective_func(search_space):\n",
        "  # n_estimators=100으로 축소\n",
        "  xgb_clf=XGBClassifier(n_estimators=100, max_depth=int(search_space['max_depth']),\n",
        "                    min_child_weight=int(search_space['min_child_weight']),\n",
        "                    learning_rate=search_space['learning_rate'],\n",
        "                    colsample_bytree=search_space['colsample_bytree'],\n",
        "                    eval_metric='logloss')\n",
        "  accuracy=cross_val_score(xgb_clf, X_train, y_train, scoring='accuracy', cv=3)\n",
        "\n",
        "  # accuracy는 cv=3 수만큼 roc-auc 결과를 리스트로 가짐. 평균해서 반환하되, -1 곱합\n",
        "  return {'loss': -1*np.mean(accuracy), 'status':STATUS_OK}\n"
      ],
      "metadata": {
        "id": "wOKSY524t7FF"
      },
      "execution_count": 59,
      "outputs": []
    },
    {
      "cell_type": "markdown",
      "source": [
        "2. fmin() 이용하여 최적 하이퍼 파라미터 도출하기"
      ],
      "metadata": {
        "id": "Hs0Dnn6xluRb"
      }
    },
    {
      "cell_type": "code",
      "source": [
        "from hyperopt import fmin, tpe, Trials\n",
        "\n",
        "trial_val=Trials()\n",
        "best=fmin(fn=objective_func,\n",
        "          space=xgb_search_space,\n",
        "          algo=tpe.suggest,\n",
        "          max_evals=50,\n",
        "          trials=trial_val, rstate=np.random.default_rng(seed=9))\n",
        "print('best:', best)"
      ],
      "metadata": {
        "id": "Zyy3Xzu6liGF",
        "colab": {
          "base_uri": "https://localhost:8080/"
        },
        "outputId": "39b6ebfd-f763-40ae-93b5-eba057013838"
      },
      "execution_count": 60,
      "outputs": [
        {
          "output_type": "stream",
          "name": "stdout",
          "text": [
            "100%|██████████| 50/50 [00:17<00:00,  2.87trial/s, best loss: -0.9670616939700244]\n",
            "best: {'colsample_bytree': 0.5026505409854508, 'learning_rate': 0.19828428817109603, 'max_depth': 15.0, 'min_child_weight': 1.0}\n"
          ]
        }
      ]
    },
    {
      "cell_type": "code",
      "source": [
        "# 추출된 최적 하이퍼 파라미터 형변환하여 확인"
      ],
      "metadata": {
        "id": "wRamSF7Fl6WR"
      },
      "execution_count": 61,
      "outputs": []
    },
    {
      "cell_type": "code",
      "source": [
        "print('colsample_bytree:{0}, learning_rate:{1}, max_depth:{2}, min_child_weight:{3},'.format(round(best['colsample_bytree'],5), round(best['learning_rate'],5), int(best['max_depth']), int(best['min_child_weight'])))"
      ],
      "metadata": {
        "id": "8CNasD0Hl9Rz",
        "colab": {
          "base_uri": "https://localhost:8080/"
        },
        "outputId": "6fa80c65-92c4-43c3-ece2-d22fda8cf4bb"
      },
      "execution_count": 62,
      "outputs": [
        {
          "output_type": "stream",
          "name": "stdout",
          "text": [
            "colsample_bytree:0.50265, learning_rate:0.19828, max_depth:15, min_child_weight:1,\n"
          ]
        }
      ]
    },
    {
      "cell_type": "markdown",
      "source": [
        "3. 최적 하이퍼 파라미터로 XGBClassifier 재학습 및 성능 평가"
      ],
      "metadata": {
        "id": "TNsr1NtMmAod"
      }
    },
    {
      "cell_type": "code",
      "source": [
        "xgb_wrapper=XGBClassifier(n_estimators=400,\n",
        "                      learning_rate=round(best['learning_rate'],5),\n",
        "                      max_depth=int(best['max_depth']),\n",
        "                      min_child_weight=int(best['min_child_weight']),\n",
        "                      colsample_bytree=round(best['colsample_bytree'],5),\n",
        "                      early_stopping_rounds=50, eval_metric='logloss', verbose=True)\n",
        "evals=[(X_tr, y_tr), (X_val, y_eval)]\n",
        "xgb_wrapper.fit(X_tr, y_tr, eval_set=evals)\n",
        "preds=xgb_wrapper.predict(X_test)\n",
        "pred_proba=xgb_wrapper.predict_proba(X_test)[:,1]\n",
        "\n",
        "get_clf_eval(y_test, preds, pred_proba)"
      ],
      "metadata": {
        "id": "62GKMIH6mpI6",
        "colab": {
          "base_uri": "https://localhost:8080/"
        },
        "outputId": "2ba06f89-d218-4cfa-f1f5-4391ac656767"
      },
      "execution_count": 63,
      "outputs": [
        {
          "output_type": "stream",
          "name": "stdout",
          "text": [
            "[0]\tvalidation_0-logloss:0.51230\tvalidation_1-logloss:0.55948\n",
            "[1]\tvalidation_0-logloss:0.40697\tvalidation_1-logloss:0.47575\n",
            "[2]\tvalidation_0-logloss:0.32809\tvalidation_1-logloss:0.41760\n",
            "[3]\tvalidation_0-logloss:0.27049\tvalidation_1-logloss:0.37988\n",
            "[4]\tvalidation_0-logloss:0.22671\tvalidation_1-logloss:0.34438\n",
            "[5]\tvalidation_0-logloss:0.19305\tvalidation_1-logloss:0.31788\n",
            "[6]\tvalidation_0-logloss:0.16589\tvalidation_1-logloss:0.30717\n",
            "[7]\tvalidation_0-logloss:0.14300\tvalidation_1-logloss:0.30056\n",
            "[8]\tvalidation_0-logloss:0.12355\tvalidation_1-logloss:0.29707\n",
            "[9]\tvalidation_0-logloss:0.10737\tvalidation_1-logloss:0.28298\n",
            "[10]\tvalidation_0-logloss:0.09355\tvalidation_1-logloss:0.26801\n",
            "[11]\tvalidation_0-logloss:0.08250\tvalidation_1-logloss:0.26738\n",
            "[12]\tvalidation_0-logloss:0.07357\tvalidation_1-logloss:0.26220\n",
            "[13]\tvalidation_0-logloss:0.06572\tvalidation_1-logloss:0.26240\n",
            "[14]\tvalidation_0-logloss:0.05892\tvalidation_1-logloss:0.25570\n",
            "[15]\tvalidation_0-logloss:0.05247\tvalidation_1-logloss:0.25186\n",
            "[16]\tvalidation_0-logloss:0.04804\tvalidation_1-logloss:0.24924\n",
            "[17]\tvalidation_0-logloss:0.04336\tvalidation_1-logloss:0.24016\n",
            "[18]\tvalidation_0-logloss:0.03953\tvalidation_1-logloss:0.23794\n",
            "[19]\tvalidation_0-logloss:0.03585\tvalidation_1-logloss:0.23625\n",
            "[20]\tvalidation_0-logloss:0.03349\tvalidation_1-logloss:0.24089\n",
            "[21]\tvalidation_0-logloss:0.03109\tvalidation_1-logloss:0.24096\n",
            "[22]\tvalidation_0-logloss:0.02906\tvalidation_1-logloss:0.23890\n",
            "[23]\tvalidation_0-logloss:0.02701\tvalidation_1-logloss:0.23431\n",
            "[24]\tvalidation_0-logloss:0.02513\tvalidation_1-logloss:0.23567\n",
            "[25]\tvalidation_0-logloss:0.02375\tvalidation_1-logloss:0.23843\n",
            "[26]\tvalidation_0-logloss:0.02229\tvalidation_1-logloss:0.23880\n",
            "[27]\tvalidation_0-logloss:0.02098\tvalidation_1-logloss:0.23900\n",
            "[28]\tvalidation_0-logloss:0.01996\tvalidation_1-logloss:0.24129\n",
            "[29]\tvalidation_0-logloss:0.01901\tvalidation_1-logloss:0.24613\n",
            "[30]\tvalidation_0-logloss:0.01827\tvalidation_1-logloss:0.24397\n",
            "[31]\tvalidation_0-logloss:0.01751\tvalidation_1-logloss:0.24354\n",
            "[32]\tvalidation_0-logloss:0.01677\tvalidation_1-logloss:0.24160\n",
            "[33]\tvalidation_0-logloss:0.01621\tvalidation_1-logloss:0.24284\n",
            "[34]\tvalidation_0-logloss:0.01556\tvalidation_1-logloss:0.23844\n",
            "[35]\tvalidation_0-logloss:0.01516\tvalidation_1-logloss:0.24074\n",
            "[36]\tvalidation_0-logloss:0.01461\tvalidation_1-logloss:0.23999\n",
            "[37]\tvalidation_0-logloss:0.01412\tvalidation_1-logloss:0.24243\n",
            "[38]\tvalidation_0-logloss:0.01354\tvalidation_1-logloss:0.23580\n",
            "[39]\tvalidation_0-logloss:0.01313\tvalidation_1-logloss:0.23495\n",
            "[40]\tvalidation_0-logloss:0.01287\tvalidation_1-logloss:0.23428\n",
            "[41]\tvalidation_0-logloss:0.01249\tvalidation_1-logloss:0.23484\n",
            "[42]\tvalidation_0-logloss:0.01216\tvalidation_1-logloss:0.23558\n",
            "[43]\tvalidation_0-logloss:0.01194\tvalidation_1-logloss:0.23581\n",
            "[44]\tvalidation_0-logloss:0.01172\tvalidation_1-logloss:0.23402\n",
            "[45]\tvalidation_0-logloss:0.01143\tvalidation_1-logloss:0.23277\n",
            "[46]\tvalidation_0-logloss:0.01123\tvalidation_1-logloss:0.23363\n",
            "[47]\tvalidation_0-logloss:0.01097\tvalidation_1-logloss:0.23119\n",
            "[48]\tvalidation_0-logloss:0.01080\tvalidation_1-logloss:0.23286\n",
            "[49]\tvalidation_0-logloss:0.01069\tvalidation_1-logloss:0.23160\n",
            "[50]\tvalidation_0-logloss:0.01052\tvalidation_1-logloss:0.23009\n",
            "[51]\tvalidation_0-logloss:0.01026\tvalidation_1-logloss:0.23160\n",
            "[52]\tvalidation_0-logloss:0.01005\tvalidation_1-logloss:0.23238\n",
            "[53]\tvalidation_0-logloss:0.00991\tvalidation_1-logloss:0.23352\n",
            "[54]\tvalidation_0-logloss:0.00981\tvalidation_1-logloss:0.23231\n",
            "[55]\tvalidation_0-logloss:0.00973\tvalidation_1-logloss:0.23180\n",
            "[56]\tvalidation_0-logloss:0.00954\tvalidation_1-logloss:0.22916\n",
            "[57]\tvalidation_0-logloss:0.00941\tvalidation_1-logloss:0.23144\n",
            "[58]\tvalidation_0-logloss:0.00933\tvalidation_1-logloss:0.23041\n",
            "[59]\tvalidation_0-logloss:0.00922\tvalidation_1-logloss:0.23154\n",
            "[60]\tvalidation_0-logloss:0.00914\tvalidation_1-logloss:0.23107\n",
            "[61]\tvalidation_0-logloss:0.00898\tvalidation_1-logloss:0.23182\n",
            "[62]\tvalidation_0-logloss:0.00888\tvalidation_1-logloss:0.23351\n",
            "[63]\tvalidation_0-logloss:0.00875\tvalidation_1-logloss:0.23468\n",
            "[64]\tvalidation_0-logloss:0.00858\tvalidation_1-logloss:0.23451\n",
            "[65]\tvalidation_0-logloss:0.00846\tvalidation_1-logloss:0.23316\n",
            "[66]\tvalidation_0-logloss:0.00841\tvalidation_1-logloss:0.23292\n",
            "[67]\tvalidation_0-logloss:0.00835\tvalidation_1-logloss:0.23503\n",
            "[68]\tvalidation_0-logloss:0.00830\tvalidation_1-logloss:0.23589\n",
            "[69]\tvalidation_0-logloss:0.00824\tvalidation_1-logloss:0.23490\n",
            "[70]\tvalidation_0-logloss:0.00818\tvalidation_1-logloss:0.23450\n",
            "[71]\tvalidation_0-logloss:0.00812\tvalidation_1-logloss:0.23649\n",
            "[72]\tvalidation_0-logloss:0.00807\tvalidation_1-logloss:0.23557\n",
            "[73]\tvalidation_0-logloss:0.00801\tvalidation_1-logloss:0.23616\n",
            "[74]\tvalidation_0-logloss:0.00796\tvalidation_1-logloss:0.23806\n",
            "[75]\tvalidation_0-logloss:0.00792\tvalidation_1-logloss:0.23766\n",
            "[76]\tvalidation_0-logloss:0.00787\tvalidation_1-logloss:0.23945\n",
            "[77]\tvalidation_0-logloss:0.00783\tvalidation_1-logloss:0.23856\n",
            "[78]\tvalidation_0-logloss:0.00778\tvalidation_1-logloss:0.23821\n",
            "[79]\tvalidation_0-logloss:0.00774\tvalidation_1-logloss:0.23795\n",
            "[80]\tvalidation_0-logloss:0.00770\tvalidation_1-logloss:0.23964\n",
            "[81]\tvalidation_0-logloss:0.00766\tvalidation_1-logloss:0.23885\n",
            "[82]\tvalidation_0-logloss:0.00762\tvalidation_1-logloss:0.23857\n",
            "[83]\tvalidation_0-logloss:0.00758\tvalidation_1-logloss:0.23822\n",
            "[84]\tvalidation_0-logloss:0.00753\tvalidation_1-logloss:0.24005\n",
            "[85]\tvalidation_0-logloss:0.00749\tvalidation_1-logloss:0.23889\n",
            "[86]\tvalidation_0-logloss:0.00746\tvalidation_1-logloss:0.23853\n",
            "[87]\tvalidation_0-logloss:0.00742\tvalidation_1-logloss:0.23649\n",
            "[88]\tvalidation_0-logloss:0.00739\tvalidation_1-logloss:0.23730\n",
            "[89]\tvalidation_0-logloss:0.00735\tvalidation_1-logloss:0.23703\n",
            "[90]\tvalidation_0-logloss:0.00732\tvalidation_1-logloss:0.23682\n",
            "[91]\tvalidation_0-logloss:0.00728\tvalidation_1-logloss:0.23717\n",
            "[92]\tvalidation_0-logloss:0.00724\tvalidation_1-logloss:0.23642\n",
            "[93]\tvalidation_0-logloss:0.00721\tvalidation_1-logloss:0.23675\n",
            "[94]\tvalidation_0-logloss:0.00718\tvalidation_1-logloss:0.23585\n",
            "[95]\tvalidation_0-logloss:0.00715\tvalidation_1-logloss:0.23742\n",
            "[96]\tvalidation_0-logloss:0.00712\tvalidation_1-logloss:0.23708\n",
            "[97]\tvalidation_0-logloss:0.00709\tvalidation_1-logloss:0.23641\n",
            "[98]\tvalidation_0-logloss:0.00706\tvalidation_1-logloss:0.23615\n",
            "[99]\tvalidation_0-logloss:0.00703\tvalidation_1-logloss:0.23691\n",
            "[100]\tvalidation_0-logloss:0.00701\tvalidation_1-logloss:0.23498\n",
            "[101]\tvalidation_0-logloss:0.00698\tvalidation_1-logloss:0.23439\n",
            "[102]\tvalidation_0-logloss:0.00695\tvalidation_1-logloss:0.23590\n",
            "[103]\tvalidation_0-logloss:0.00692\tvalidation_1-logloss:0.23560\n",
            "[104]\tvalidation_0-logloss:0.00690\tvalidation_1-logloss:0.23531\n",
            "[105]\tvalidation_0-logloss:0.00688\tvalidation_1-logloss:0.23506\n",
            "오차 행렬\n",
            "[[34  3]\n",
            " [ 3 74]]\n",
            "정확도:  0.9474, 정밀도:  0.9610, 재현율: 0.9610\n"
          ]
        }
      ]
    }
  ]
}