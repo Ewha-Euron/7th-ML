{
  "cells": [
    {
      "cell_type": "markdown",
      "metadata": {
        "id": "5XLAqPpyh_iV"
      },
      "source": [
        "#GBM"
      ]
    },
    {
      "cell_type": "code",
      "execution_count": null,
      "metadata": {
        "id": "3pxpGZZBheOL"
      },
      "outputs": [],
      "source": [
        "import pandas as pd\n",
        "def get_new_feature_name_df(old_feature_name_df):\n",
        "    feature_dup_df = pd.DataFrame(data=old_feature_name_df.groupby('column_name').cumcount(), columns=['dup_cnt'])\n",
        "    feature_dup_df = feature_dup_df.reset_index()\n",
        "    new_feature_name_df = pd.merge(old_feature_name_df.reset_index(), feature_dup_df, how='outer')\n",
        "    new_feature_name_df['column_name'] = new_feature_name_df[['column_name', 'dup_cnt']].apply(lambda x: x[0] + '_' + str(x[1]) if x[1] > 0 else x[0], axis=1)\n",
        "    new_feature_name_df = new_feature_name_df.drop(['index'], axis=1)\n",
        "    return new_feature_name_df\n",
        "def get_human_dataset():\n",
        "    # 각 데이터 파일은 공백으로 분리되어 있으므로 read_csv에서 공백 문자를 sep으로 할당\n",
        "    feature_name_df = pd.read_csv('/content/drive/MyDrive/UCI_HAR_Dataset/human_activity/features.txt', sep='\\s+', header=None, names=['column_index', 'column_name'])\n",
        "\n",
        "    # 중복된 피처명을 수정하는 get_new_feature_name_df()를 이용, 신규 피처명 DataFrame 생성\n",
        "    new_feature_name_df = get_new_feature_name_df(feature_name_df)\n",
        "\n",
        "    # DataFrame에 피처명을 칼럼으로 부여하기 위해 리스트 객체로 다시 변환\n",
        "    feature_name = new_feature_name_df.iloc[:, 1].values.tolist()\n",
        "\n",
        "    # 학습 피처 데이터셋과 테스트 피처 데이터를 DataFrame으로 로딩. 칼럼명은 feature_name 적용\n",
        "    X_train = pd.read_csv('/content/drive/MyDrive/UCI_HAR_Dataset/human_activity/train/X_train.txt', sep='\\s+', names=feature_name)\n",
        "    X_test = pd.read_csv('/content/drive/MyDrive/UCI_HAR_Dataset/human_activity/test/X_test.txt', sep='\\s+', names=feature_name)\n",
        "\n",
        "    # 학습 레이블과 테스트 레이블 데이터를 DataFrame으로 로딩하고 칼럼명은 action으로 부여\n",
        "    y_train = pd.read_csv('/content/drive/MyDrive/UCI_HAR_Dataset/human_activity/train/y_train.txt', sep='\\s+', header=None, names=['action'])\n",
        "    y_test = pd.read_csv('/content/drive/MyDrive/UCI_HAR_Dataset/human_activity/test/y_test.txt', sep='\\s+', header=None, names=['action'])\n",
        "\n",
        "    # 로드된 학습/테스트용 DataFrame을 모두 반환\n",
        "    return X_train, X_test, y_train, y_test"
      ]
    },
    {
      "cell_type": "code",
      "execution_count": null,
      "metadata": {
        "colab": {
          "base_uri": "https://localhost:8080/"
        },
        "id": "BGLi_NdUgYYP",
        "outputId": "bf4711cc-310d-4205-a0fd-108dcb7fe76b"
      },
      "outputs": [
        {
          "name": "stdout",
          "output_type": "stream",
          "text": [
            "GBM 정확도: 0.9386\n",
            "GBM 수행 시간: 1434.8초\n"
          ]
        }
      ],
      "source": [
        "from sklearn.ensemble import GradientBoostingClassifier\n",
        "import time\n",
        "import warnings\n",
        "from sklearn.metrics import accuracy_score\n",
        "\n",
        "warnings.filterwarnings('ignore')\n",
        "\n",
        "X_train,X_test,y_train,y_test=get_human_dataset()\n",
        "\n",
        "#GBM 수행 시간 측정을 위함. 시작 시간 설정\n",
        "start_time=time.time()\n",
        "gb_clf=GradientBoostingClassifier(random_state=0)\n",
        "gb_clf.fit(X_train,y_train)\n",
        "gb_pred=gb_clf.predict(X_test)\n",
        "gb_accuracy=accuracy_score(y_test,gb_pred)\n",
        "\n",
        "print('GBM 정확도: {0:.4f}'.format(gb_accuracy))\n",
        "print('GBM 수행 시간: {0:.1f}초'.format(time.time()-start_time))"
      ]
    },
    {
      "cell_type": "code",
      "execution_count": null,
      "metadata": {
        "colab": {
          "base_uri": "https://localhost:8080/"
        },
        "id": "SIn3SOshimfm",
        "outputId": "4eee4bdc-f59c-4c80-db09-af012f77aeaf"
      },
      "outputs": [
        {
          "name": "stdout",
          "output_type": "stream",
          "text": [
            "Fitting 2 folds for each of 4 candidates, totalling 8 fits\n",
            "최적 하이퍼 파리미터:\n",
            " {'learning_rate': 0.1, 'n_estimators': 500}\n",
            "최고 예측 정확도: 0.9517\n"
          ]
        }
      ],
      "source": [
        "from sklearn.model_selection import GridSearchCV\n",
        "\n",
        "params={\n",
        "    'n_estimators':[100,500],\n",
        "    'learning_rate':[0.05,0.1]\n",
        "}\n",
        "grid_cv=GridSearchCV(gb_clf,param_grid=params, cv=2, verbose=1)\n",
        "grid_cv.fit(X_train,y_train)\n",
        "print('최적 하이퍼 파리미터:\\n',grid_cv.best_params_)\n",
        "print('최고 예측 정확도: {0:.4f}'.format(grid_cv.best_score_))"
      ]
    },
    {
      "cell_type": "code",
      "execution_count": null,
      "metadata": {
        "colab": {
          "base_uri": "https://localhost:8080/"
        },
        "id": "YJVNyjLejGQo",
        "outputId": "951733e1-8c37-432b-c1ca-274701b0cdfe"
      },
      "outputs": [
        {
          "name": "stdout",
          "output_type": "stream",
          "text": [
            "GBM 정확도:0.9737\n"
          ]
        }
      ],
      "source": [
        "#GridSearchCV를 이용해 최적으로 학습된 estimator로 예측 수행\n",
        "gb_pred=grid_cv.best_estimator_.predict(X_test)\n",
        "gb_accuracy=accuracy_score(y_test,gb_pred)\n",
        "print('GBM 정확도:{0:.4f}'.format(gb_accuracy))"
      ]
    },
    {
      "cell_type": "markdown",
      "metadata": {
        "id": "PtAZktl1kdNJ"
      },
      "source": [
        "#XGBoost"
      ]
    },
    {
      "cell_type": "code",
      "execution_count": null,
      "metadata": {
        "colab": {
          "base_uri": "https://localhost:8080/"
        },
        "id": "MkWfl3AmlzOK",
        "outputId": "a1145e7e-c28d-4480-9e5d-e1b9e35779a4"
      },
      "outputs": [
        {
          "name": "stdout",
          "output_type": "stream",
          "text": [
            "2.1.1\n"
          ]
        }
      ],
      "source": [
        "import xgboost\n",
        "\n",
        "print(xgboost.__version__)"
      ]
    },
    {
      "cell_type": "code",
      "execution_count": null,
      "metadata": {
        "colab": {
          "base_uri": "https://localhost:8080/",
          "height": 227
        },
        "id": "tTqac3r5l8cy",
        "outputId": "9eee6044-9540-43ce-abd8-8d3bc0f7a34c"
      },
      "outputs": [
        {
          "data": {
            "application/vnd.google.colaboratory.intrinsic+json": {
              "type": "dataframe",
              "variable_name": "cancer_df"
            },
            "text/html": [
              "\n",
              "  <div id=\"df-f3c0b2b4-5db5-4786-a4a2-9597f03a0358\" class=\"colab-df-container\">\n",
              "    <div>\n",
              "<style scoped>\n",
              "    .dataframe tbody tr th:only-of-type {\n",
              "        vertical-align: middle;\n",
              "    }\n",
              "\n",
              "    .dataframe tbody tr th {\n",
              "        vertical-align: top;\n",
              "    }\n",
              "\n",
              "    .dataframe thead th {\n",
              "        text-align: right;\n",
              "    }\n",
              "</style>\n",
              "<table border=\"1\" class=\"dataframe\">\n",
              "  <thead>\n",
              "    <tr style=\"text-align: right;\">\n",
              "      <th></th>\n",
              "      <th>mean radius</th>\n",
              "      <th>mean texture</th>\n",
              "      <th>mean perimeter</th>\n",
              "      <th>mean area</th>\n",
              "      <th>mean smoothness</th>\n",
              "      <th>mean compactness</th>\n",
              "      <th>mean concavity</th>\n",
              "      <th>mean concave points</th>\n",
              "      <th>mean symmetry</th>\n",
              "      <th>mean fractal dimension</th>\n",
              "      <th>...</th>\n",
              "      <th>worst texture</th>\n",
              "      <th>worst perimeter</th>\n",
              "      <th>worst area</th>\n",
              "      <th>worst smoothness</th>\n",
              "      <th>worst compactness</th>\n",
              "      <th>worst concavity</th>\n",
              "      <th>worst concave points</th>\n",
              "      <th>worst symmetry</th>\n",
              "      <th>worst fractal dimension</th>\n",
              "      <th>target</th>\n",
              "    </tr>\n",
              "  </thead>\n",
              "  <tbody>\n",
              "    <tr>\n",
              "      <th>0</th>\n",
              "      <td>17.99</td>\n",
              "      <td>10.38</td>\n",
              "      <td>122.8</td>\n",
              "      <td>1001.0</td>\n",
              "      <td>0.11840</td>\n",
              "      <td>0.27760</td>\n",
              "      <td>0.3001</td>\n",
              "      <td>0.14710</td>\n",
              "      <td>0.2419</td>\n",
              "      <td>0.07871</td>\n",
              "      <td>...</td>\n",
              "      <td>17.33</td>\n",
              "      <td>184.6</td>\n",
              "      <td>2019.0</td>\n",
              "      <td>0.1622</td>\n",
              "      <td>0.6656</td>\n",
              "      <td>0.7119</td>\n",
              "      <td>0.2654</td>\n",
              "      <td>0.4601</td>\n",
              "      <td>0.11890</td>\n",
              "      <td>0</td>\n",
              "    </tr>\n",
              "    <tr>\n",
              "      <th>1</th>\n",
              "      <td>20.57</td>\n",
              "      <td>17.77</td>\n",
              "      <td>132.9</td>\n",
              "      <td>1326.0</td>\n",
              "      <td>0.08474</td>\n",
              "      <td>0.07864</td>\n",
              "      <td>0.0869</td>\n",
              "      <td>0.07017</td>\n",
              "      <td>0.1812</td>\n",
              "      <td>0.05667</td>\n",
              "      <td>...</td>\n",
              "      <td>23.41</td>\n",
              "      <td>158.8</td>\n",
              "      <td>1956.0</td>\n",
              "      <td>0.1238</td>\n",
              "      <td>0.1866</td>\n",
              "      <td>0.2416</td>\n",
              "      <td>0.1860</td>\n",
              "      <td>0.2750</td>\n",
              "      <td>0.08902</td>\n",
              "      <td>0</td>\n",
              "    </tr>\n",
              "    <tr>\n",
              "      <th>2</th>\n",
              "      <td>19.69</td>\n",
              "      <td>21.25</td>\n",
              "      <td>130.0</td>\n",
              "      <td>1203.0</td>\n",
              "      <td>0.10960</td>\n",
              "      <td>0.15990</td>\n",
              "      <td>0.1974</td>\n",
              "      <td>0.12790</td>\n",
              "      <td>0.2069</td>\n",
              "      <td>0.05999</td>\n",
              "      <td>...</td>\n",
              "      <td>25.53</td>\n",
              "      <td>152.5</td>\n",
              "      <td>1709.0</td>\n",
              "      <td>0.1444</td>\n",
              "      <td>0.4245</td>\n",
              "      <td>0.4504</td>\n",
              "      <td>0.2430</td>\n",
              "      <td>0.3613</td>\n",
              "      <td>0.08758</td>\n",
              "      <td>0</td>\n",
              "    </tr>\n",
              "  </tbody>\n",
              "</table>\n",
              "<p>3 rows × 31 columns</p>\n",
              "</div>\n",
              "    <div class=\"colab-df-buttons\">\n",
              "\n",
              "  <div class=\"colab-df-container\">\n",
              "    <button class=\"colab-df-convert\" onclick=\"convertToInteractive('df-f3c0b2b4-5db5-4786-a4a2-9597f03a0358')\"\n",
              "            title=\"Convert this dataframe to an interactive table.\"\n",
              "            style=\"display:none;\">\n",
              "\n",
              "  <svg xmlns=\"http://www.w3.org/2000/svg\" height=\"24px\" viewBox=\"0 -960 960 960\">\n",
              "    <path d=\"M120-120v-720h720v720H120Zm60-500h600v-160H180v160Zm220 220h160v-160H400v160Zm0 220h160v-160H400v160ZM180-400h160v-160H180v160Zm440 0h160v-160H620v160ZM180-180h160v-160H180v160Zm440 0h160v-160H620v160Z\"/>\n",
              "  </svg>\n",
              "    </button>\n",
              "\n",
              "  <style>\n",
              "    .colab-df-container {\n",
              "      display:flex;\n",
              "      gap: 12px;\n",
              "    }\n",
              "\n",
              "    .colab-df-convert {\n",
              "      background-color: #E8F0FE;\n",
              "      border: none;\n",
              "      border-radius: 50%;\n",
              "      cursor: pointer;\n",
              "      display: none;\n",
              "      fill: #1967D2;\n",
              "      height: 32px;\n",
              "      padding: 0 0 0 0;\n",
              "      width: 32px;\n",
              "    }\n",
              "\n",
              "    .colab-df-convert:hover {\n",
              "      background-color: #E2EBFA;\n",
              "      box-shadow: 0px 1px 2px rgba(60, 64, 67, 0.3), 0px 1px 3px 1px rgba(60, 64, 67, 0.15);\n",
              "      fill: #174EA6;\n",
              "    }\n",
              "\n",
              "    .colab-df-buttons div {\n",
              "      margin-bottom: 4px;\n",
              "    }\n",
              "\n",
              "    [theme=dark] .colab-df-convert {\n",
              "      background-color: #3B4455;\n",
              "      fill: #D2E3FC;\n",
              "    }\n",
              "\n",
              "    [theme=dark] .colab-df-convert:hover {\n",
              "      background-color: #434B5C;\n",
              "      box-shadow: 0px 1px 3px 1px rgba(0, 0, 0, 0.15);\n",
              "      filter: drop-shadow(0px 1px 2px rgba(0, 0, 0, 0.3));\n",
              "      fill: #FFFFFF;\n",
              "    }\n",
              "  </style>\n",
              "\n",
              "    <script>\n",
              "      const buttonEl =\n",
              "        document.querySelector('#df-f3c0b2b4-5db5-4786-a4a2-9597f03a0358 button.colab-df-convert');\n",
              "      buttonEl.style.display =\n",
              "        google.colab.kernel.accessAllowed ? 'block' : 'none';\n",
              "\n",
              "      async function convertToInteractive(key) {\n",
              "        const element = document.querySelector('#df-f3c0b2b4-5db5-4786-a4a2-9597f03a0358');\n",
              "        const dataTable =\n",
              "          await google.colab.kernel.invokeFunction('convertToInteractive',\n",
              "                                                    [key], {});\n",
              "        if (!dataTable) return;\n",
              "\n",
              "        const docLinkHtml = 'Like what you see? Visit the ' +\n",
              "          '<a target=\"_blank\" href=https://colab.research.google.com/notebooks/data_table.ipynb>data table notebook</a>'\n",
              "          + ' to learn more about interactive tables.';\n",
              "        element.innerHTML = '';\n",
              "        dataTable['output_type'] = 'display_data';\n",
              "        await google.colab.output.renderOutput(dataTable, element);\n",
              "        const docLink = document.createElement('div');\n",
              "        docLink.innerHTML = docLinkHtml;\n",
              "        element.appendChild(docLink);\n",
              "      }\n",
              "    </script>\n",
              "  </div>\n",
              "\n",
              "\n",
              "<div id=\"df-c2acb51d-46ca-4c16-8f39-b3a9476b16a5\">\n",
              "  <button class=\"colab-df-quickchart\" onclick=\"quickchart('df-c2acb51d-46ca-4c16-8f39-b3a9476b16a5')\"\n",
              "            title=\"Suggest charts\"\n",
              "            style=\"display:none;\">\n",
              "\n",
              "<svg xmlns=\"http://www.w3.org/2000/svg\" height=\"24px\"viewBox=\"0 0 24 24\"\n",
              "     width=\"24px\">\n",
              "    <g>\n",
              "        <path d=\"M19 3H5c-1.1 0-2 .9-2 2v14c0 1.1.9 2 2 2h14c1.1 0 2-.9 2-2V5c0-1.1-.9-2-2-2zM9 17H7v-7h2v7zm4 0h-2V7h2v10zm4 0h-2v-4h2v4z\"/>\n",
              "    </g>\n",
              "</svg>\n",
              "  </button>\n",
              "\n",
              "<style>\n",
              "  .colab-df-quickchart {\n",
              "      --bg-color: #E8F0FE;\n",
              "      --fill-color: #1967D2;\n",
              "      --hover-bg-color: #E2EBFA;\n",
              "      --hover-fill-color: #174EA6;\n",
              "      --disabled-fill-color: #AAA;\n",
              "      --disabled-bg-color: #DDD;\n",
              "  }\n",
              "\n",
              "  [theme=dark] .colab-df-quickchart {\n",
              "      --bg-color: #3B4455;\n",
              "      --fill-color: #D2E3FC;\n",
              "      --hover-bg-color: #434B5C;\n",
              "      --hover-fill-color: #FFFFFF;\n",
              "      --disabled-bg-color: #3B4455;\n",
              "      --disabled-fill-color: #666;\n",
              "  }\n",
              "\n",
              "  .colab-df-quickchart {\n",
              "    background-color: var(--bg-color);\n",
              "    border: none;\n",
              "    border-radius: 50%;\n",
              "    cursor: pointer;\n",
              "    display: none;\n",
              "    fill: var(--fill-color);\n",
              "    height: 32px;\n",
              "    padding: 0;\n",
              "    width: 32px;\n",
              "  }\n",
              "\n",
              "  .colab-df-quickchart:hover {\n",
              "    background-color: var(--hover-bg-color);\n",
              "    box-shadow: 0 1px 2px rgba(60, 64, 67, 0.3), 0 1px 3px 1px rgba(60, 64, 67, 0.15);\n",
              "    fill: var(--button-hover-fill-color);\n",
              "  }\n",
              "\n",
              "  .colab-df-quickchart-complete:disabled,\n",
              "  .colab-df-quickchart-complete:disabled:hover {\n",
              "    background-color: var(--disabled-bg-color);\n",
              "    fill: var(--disabled-fill-color);\n",
              "    box-shadow: none;\n",
              "  }\n",
              "\n",
              "  .colab-df-spinner {\n",
              "    border: 2px solid var(--fill-color);\n",
              "    border-color: transparent;\n",
              "    border-bottom-color: var(--fill-color);\n",
              "    animation:\n",
              "      spin 1s steps(1) infinite;\n",
              "  }\n",
              "\n",
              "  @keyframes spin {\n",
              "    0% {\n",
              "      border-color: transparent;\n",
              "      border-bottom-color: var(--fill-color);\n",
              "      border-left-color: var(--fill-color);\n",
              "    }\n",
              "    20% {\n",
              "      border-color: transparent;\n",
              "      border-left-color: var(--fill-color);\n",
              "      border-top-color: var(--fill-color);\n",
              "    }\n",
              "    30% {\n",
              "      border-color: transparent;\n",
              "      border-left-color: var(--fill-color);\n",
              "      border-top-color: var(--fill-color);\n",
              "      border-right-color: var(--fill-color);\n",
              "    }\n",
              "    40% {\n",
              "      border-color: transparent;\n",
              "      border-right-color: var(--fill-color);\n",
              "      border-top-color: var(--fill-color);\n",
              "    }\n",
              "    60% {\n",
              "      border-color: transparent;\n",
              "      border-right-color: var(--fill-color);\n",
              "    }\n",
              "    80% {\n",
              "      border-color: transparent;\n",
              "      border-right-color: var(--fill-color);\n",
              "      border-bottom-color: var(--fill-color);\n",
              "    }\n",
              "    90% {\n",
              "      border-color: transparent;\n",
              "      border-bottom-color: var(--fill-color);\n",
              "    }\n",
              "  }\n",
              "</style>\n",
              "\n",
              "  <script>\n",
              "    async function quickchart(key) {\n",
              "      const quickchartButtonEl =\n",
              "        document.querySelector('#' + key + ' button');\n",
              "      quickchartButtonEl.disabled = true;  // To prevent multiple clicks.\n",
              "      quickchartButtonEl.classList.add('colab-df-spinner');\n",
              "      try {\n",
              "        const charts = await google.colab.kernel.invokeFunction(\n",
              "            'suggestCharts', [key], {});\n",
              "      } catch (error) {\n",
              "        console.error('Error during call to suggestCharts:', error);\n",
              "      }\n",
              "      quickchartButtonEl.classList.remove('colab-df-spinner');\n",
              "      quickchartButtonEl.classList.add('colab-df-quickchart-complete');\n",
              "    }\n",
              "    (() => {\n",
              "      let quickchartButtonEl =\n",
              "        document.querySelector('#df-c2acb51d-46ca-4c16-8f39-b3a9476b16a5 button');\n",
              "      quickchartButtonEl.style.display =\n",
              "        google.colab.kernel.accessAllowed ? 'block' : 'none';\n",
              "    })();\n",
              "  </script>\n",
              "</div>\n",
              "\n",
              "    </div>\n",
              "  </div>\n"
            ],
            "text/plain": [
              "   mean radius  mean texture  mean perimeter  mean area  mean smoothness  \\\n",
              "0        17.99         10.38           122.8     1001.0          0.11840   \n",
              "1        20.57         17.77           132.9     1326.0          0.08474   \n",
              "2        19.69         21.25           130.0     1203.0          0.10960   \n",
              "\n",
              "   mean compactness  mean concavity  mean concave points  mean symmetry  \\\n",
              "0           0.27760          0.3001              0.14710         0.2419   \n",
              "1           0.07864          0.0869              0.07017         0.1812   \n",
              "2           0.15990          0.1974              0.12790         0.2069   \n",
              "\n",
              "   mean fractal dimension  ...  worst texture  worst perimeter  worst area  \\\n",
              "0                 0.07871  ...          17.33            184.6      2019.0   \n",
              "1                 0.05667  ...          23.41            158.8      1956.0   \n",
              "2                 0.05999  ...          25.53            152.5      1709.0   \n",
              "\n",
              "   worst smoothness  worst compactness  worst concavity  worst concave points  \\\n",
              "0            0.1622             0.6656           0.7119                0.2654   \n",
              "1            0.1238             0.1866           0.2416                0.1860   \n",
              "2            0.1444             0.4245           0.4504                0.2430   \n",
              "\n",
              "   worst symmetry  worst fractal dimension  target  \n",
              "0          0.4601                  0.11890       0  \n",
              "1          0.2750                  0.08902       0  \n",
              "2          0.3613                  0.08758       0  \n",
              "\n",
              "[3 rows x 31 columns]"
            ]
          },
          "execution_count": 15,
          "metadata": {},
          "output_type": "execute_result"
        }
      ],
      "source": [
        "import xgboost as xgb\n",
        "from xgboost import plot_importance\n",
        "import pandas as pd\n",
        "import numpy as np\n",
        "from sklearn.datasets import load_breast_cancer\n",
        "from sklearn.model_selection import train_test_split\n",
        "import warnings\n",
        "warnings.filterwarnings('ignore')\n",
        "\n",
        "dataset=load_breast_cancer()\n",
        "X_features=dataset.data\n",
        "y_label=dataset.target\n",
        "\n",
        "cancer_df=pd.DataFrame(data=X_features,columns=dataset.feature_names)\n",
        "cancer_df['target']=y_label\n",
        "cancer_df.head(3)"
      ]
    },
    {
      "cell_type": "code",
      "execution_count": null,
      "metadata": {
        "colab": {
          "base_uri": "https://localhost:8080/"
        },
        "id": "IdTwqmYBmj3s",
        "outputId": "7cc80f39-ee9e-4a7b-90d7-1957b538da37"
      },
      "outputs": [
        {
          "name": "stdout",
          "output_type": "stream",
          "text": [
            "['malignant' 'benign']\n",
            "target\n",
            "1    357\n",
            "0    212\n",
            "Name: count, dtype: int64\n"
          ]
        }
      ],
      "source": [
        "print(dataset.target_names)\n",
        "print(cancer_df['target'].value_counts())"
      ]
    },
    {
      "cell_type": "code",
      "execution_count": null,
      "metadata": {
        "colab": {
          "base_uri": "https://localhost:8080/"
        },
        "id": "y3PzD70xmqOy",
        "outputId": "1353e9c2-50fc-4030-db6b-8dbb05cf24a1"
      },
      "outputs": [
        {
          "name": "stdout",
          "output_type": "stream",
          "text": [
            "(455, 30) (114, 30)\n"
          ]
        }
      ],
      "source": [
        "#전체 데이터 중 80%는 학습용 데이터, 20%는 테스트용 데이터 추출\n",
        "X_train,X_test,y_train,y_test=train_test_split(X_features,y_label,test_size=0.2, random_state=156)\n",
        "print(X_train.shape,X_test.shape)"
      ]
    },
    {
      "cell_type": "code",
      "execution_count": null,
      "metadata": {
        "id": "LuclmbZmm73z"
      },
      "outputs": [],
      "source": [
        "dtrain=xgb.DMatrix(data=X_train,label=y_train)\n",
        "dtest=xgb.DMatrix(data=X_test, label=y_test)"
      ]
    },
    {
      "cell_type": "code",
      "execution_count": null,
      "metadata": {
        "id": "5pnDTWCJnHO1"
      },
      "outputs": [],
      "source": [
        "params={'max_depth':3,\n",
        "        'eta':0.1,\n",
        "        'objective':'binary:logistic',\n",
        "        'eval_metric':'logloss',\n",
        "        'early_stoppings':100}\n",
        "num_rounds=400"
      ]
    },
    {
      "cell_type": "code",
      "execution_count": null,
      "metadata": {
        "colab": {
          "base_uri": "https://localhost:8080/"
        },
        "id": "8TyVj0oenbIZ",
        "outputId": "63cde861-d4db-415b-ee86-8fb9973776ed"
      },
      "outputs": [
        {
          "name": "stdout",
          "output_type": "stream",
          "text": [
            "[0]\ttrain-logloss:0.58431\teval-logloss:0.56554\n",
            "[1]\ttrain-logloss:0.51885\teval-logloss:0.50669\n",
            "[2]\ttrain-logloss:0.46457\teval-logloss:0.45868\n",
            "[3]\ttrain-logloss:0.41713\teval-logloss:0.41822\n",
            "[4]\ttrain-logloss:0.37585\teval-logloss:0.38103\n",
            "[5]\ttrain-logloss:0.34075\teval-logloss:0.35137\n",
            "[6]\ttrain-logloss:0.31028\teval-logloss:0.32588\n",
            "[7]\ttrain-logloss:0.28283\teval-logloss:0.30127\n",
            "[8]\ttrain-logloss:0.25925\teval-logloss:0.28197\n",
            "[9]\ttrain-logloss:0.23822\teval-logloss:0.26265\n",
            "[10]\ttrain-logloss:0.21951\teval-logloss:0.24821\n",
            "[11]\ttrain-logloss:0.20251\teval-logloss:0.23231\n",
            "[12]\ttrain-logloss:0.18759\teval-logloss:0.22079\n",
            "[13]\ttrain-logloss:0.17386\teval-logloss:0.20795\n",
            "[14]\ttrain-logloss:0.16199\teval-logloss:0.19764\n",
            "[15]\ttrain-logloss:0.15109\teval-logloss:0.18950\n",
            "[16]\ttrain-logloss:0.14056\teval-logloss:0.18052\n",
            "[17]\ttrain-logloss:0.13137\teval-logloss:0.17246\n",
            "[18]\ttrain-logloss:0.12329\teval-logloss:0.16512\n",
            "[19]\ttrain-logloss:0.11565\teval-logloss:0.15828\n",
            "[20]\ttrain-logloss:0.10860\teval-logloss:0.15436\n",
            "[21]\ttrain-logloss:0.10190\teval-logloss:0.14633\n",
            "[22]\ttrain-logloss:0.09563\teval-logloss:0.13936\n",
            "[23]\ttrain-logloss:0.09016\teval-logloss:0.13393\n",
            "[24]\ttrain-logloss:0.08496\teval-logloss:0.13015\n",
            "[25]\ttrain-logloss:0.08021\teval-logloss:0.12489\n",
            "[26]\ttrain-logloss:0.07583\teval-logloss:0.12206\n",
            "[27]\ttrain-logloss:0.07215\teval-logloss:0.11890\n",
            "[28]\ttrain-logloss:0.06837\teval-logloss:0.11637\n",
            "[29]\ttrain-logloss:0.06489\teval-logloss:0.11293\n",
            "[30]\ttrain-logloss:0.06186\teval-logloss:0.11040\n",
            "[31]\ttrain-logloss:0.05924\teval-logloss:0.10826\n",
            "[32]\ttrain-logloss:0.05646\teval-logloss:0.10452\n",
            "[33]\ttrain-logloss:0.05394\teval-logloss:0.10322\n",
            "[34]\ttrain-logloss:0.05167\teval-logloss:0.10059\n",
            "[35]\ttrain-logloss:0.04951\teval-logloss:0.09869\n",
            "[36]\ttrain-logloss:0.04740\teval-logloss:0.09658\n",
            "[37]\ttrain-logloss:0.04554\teval-logloss:0.09487\n",
            "[38]\ttrain-logloss:0.04378\teval-logloss:0.09443\n",
            "[39]\ttrain-logloss:0.04226\teval-logloss:0.09374\n",
            "[40]\ttrain-logloss:0.04075\teval-logloss:0.09239\n",
            "[41]\ttrain-logloss:0.03890\teval-logloss:0.09159\n",
            "[42]\ttrain-logloss:0.03745\teval-logloss:0.09004\n",
            "[43]\ttrain-logloss:0.03608\teval-logloss:0.09029\n",
            "[44]\ttrain-logloss:0.03470\teval-logloss:0.08966\n",
            "[45]\ttrain-logloss:0.03354\teval-logloss:0.08808\n",
            "[46]\ttrain-logloss:0.03250\teval-logloss:0.08783\n",
            "[47]\ttrain-logloss:0.03142\teval-logloss:0.08756\n",
            "[48]\ttrain-logloss:0.03024\teval-logloss:0.08682\n",
            "[49]\ttrain-logloss:0.02905\teval-logloss:0.08829\n",
            "[50]\ttrain-logloss:0.02815\teval-logloss:0.08882\n",
            "[51]\ttrain-logloss:0.02729\teval-logloss:0.08871\n",
            "[52]\ttrain-logloss:0.02651\teval-logloss:0.08780\n",
            "[53]\ttrain-logloss:0.02574\teval-logloss:0.08766\n",
            "[54]\ttrain-logloss:0.02502\teval-logloss:0.08825\n",
            "[55]\ttrain-logloss:0.02433\teval-logloss:0.08882\n",
            "[56]\ttrain-logloss:0.02371\teval-logloss:0.08785\n",
            "[57]\ttrain-logloss:0.02312\teval-logloss:0.08813\n",
            "[58]\ttrain-logloss:0.02247\teval-logloss:0.08871\n",
            "[59]\ttrain-logloss:0.02186\teval-logloss:0.08760\n",
            "[60]\ttrain-logloss:0.02125\teval-logloss:0.08712\n",
            "[61]\ttrain-logloss:0.02075\teval-logloss:0.08795\n",
            "[62]\ttrain-logloss:0.02029\teval-logloss:0.08799\n",
            "[63]\ttrain-logloss:0.01974\teval-logloss:0.08808\n",
            "[64]\ttrain-logloss:0.01926\teval-logloss:0.08749\n",
            "[65]\ttrain-logloss:0.01879\teval-logloss:0.08760\n",
            "[66]\ttrain-logloss:0.01838\teval-logloss:0.08708\n",
            "[67]\ttrain-logloss:0.01812\teval-logloss:0.08668\n",
            "[68]\ttrain-logloss:0.01774\teval-logloss:0.08654\n",
            "[69]\ttrain-logloss:0.01741\teval-logloss:0.08630\n",
            "[70]\ttrain-logloss:0.01710\teval-logloss:0.08574\n",
            "[71]\ttrain-logloss:0.01676\teval-logloss:0.08696\n",
            "[72]\ttrain-logloss:0.01641\teval-logloss:0.08626\n",
            "[73]\ttrain-logloss:0.01609\teval-logloss:0.08685\n",
            "[74]\ttrain-logloss:0.01583\teval-logloss:0.08663\n",
            "[75]\ttrain-logloss:0.01550\teval-logloss:0.08780\n",
            "[76]\ttrain-logloss:0.01530\teval-logloss:0.08713\n",
            "[77]\ttrain-logloss:0.01502\teval-logloss:0.08822\n",
            "[78]\ttrain-logloss:0.01484\teval-logloss:0.08758\n",
            "[79]\ttrain-logloss:0.01465\teval-logloss:0.08728\n",
            "[80]\ttrain-logloss:0.01443\teval-logloss:0.08703\n",
            "[81]\ttrain-logloss:0.01422\teval-logloss:0.08719\n",
            "[82]\ttrain-logloss:0.01408\teval-logloss:0.08662\n",
            "[83]\ttrain-logloss:0.01391\teval-logloss:0.08637\n",
            "[84]\ttrain-logloss:0.01363\teval-logloss:0.08570\n",
            "[85]\ttrain-logloss:0.01344\teval-logloss:0.08590\n",
            "[86]\ttrain-logloss:0.01321\teval-logloss:0.08587\n",
            "[87]\ttrain-logloss:0.01307\teval-logloss:0.08614\n",
            "[88]\ttrain-logloss:0.01289\teval-logloss:0.08635\n",
            "[89]\ttrain-logloss:0.01273\teval-logloss:0.08646\n",
            "[90]\ttrain-logloss:0.01259\teval-logloss:0.08583\n",
            "[91]\ttrain-logloss:0.01240\teval-logloss:0.08583\n",
            "[92]\ttrain-logloss:0.01227\teval-logloss:0.08564\n",
            "[93]\ttrain-logloss:0.01207\teval-logloss:0.08669\n",
            "[94]\ttrain-logloss:0.01192\teval-logloss:0.08692\n",
            "[95]\ttrain-logloss:0.01180\teval-logloss:0.08687\n",
            "[96]\ttrain-logloss:0.01163\teval-logloss:0.08641\n",
            "[97]\ttrain-logloss:0.01153\teval-logloss:0.08584\n",
            "[98]\ttrain-logloss:0.01142\teval-logloss:0.08568\n",
            "[99]\ttrain-logloss:0.01130\teval-logloss:0.08552\n",
            "[100]\ttrain-logloss:0.01118\teval-logloss:0.08548\n",
            "[101]\ttrain-logloss:0.01102\teval-logloss:0.08630\n",
            "[102]\ttrain-logloss:0.01092\teval-logloss:0.08658\n",
            "[103]\ttrain-logloss:0.01081\teval-logloss:0.08656\n",
            "[104]\ttrain-logloss:0.01066\teval-logloss:0.08742\n",
            "[105]\ttrain-logloss:0.01053\teval-logloss:0.08779\n",
            "[106]\ttrain-logloss:0.01045\teval-logloss:0.08777\n",
            "[107]\ttrain-logloss:0.01032\teval-logloss:0.08738\n",
            "[108]\ttrain-logloss:0.01023\teval-logloss:0.08729\n",
            "[109]\ttrain-logloss:0.01015\teval-logloss:0.08736\n",
            "[110]\ttrain-logloss:0.01006\teval-logloss:0.08722\n",
            "[111]\ttrain-logloss:0.00998\teval-logloss:0.08774\n",
            "[112]\ttrain-logloss:0.00985\teval-logloss:0.08864\n",
            "[113]\ttrain-logloss:0.00978\teval-logloss:0.08871\n",
            "[114]\ttrain-logloss:0.00966\teval-logloss:0.08836\n",
            "[115]\ttrain-logloss:0.00958\teval-logloss:0.08865\n",
            "[116]\ttrain-logloss:0.00955\teval-logloss:0.08874\n",
            "[117]\ttrain-logloss:0.00947\teval-logloss:0.08861\n",
            "[118]\ttrain-logloss:0.00940\teval-logloss:0.08819\n",
            "[119]\ttrain-logloss:0.00930\teval-logloss:0.08901\n",
            "[120]\ttrain-logloss:0.00922\teval-logloss:0.08894\n",
            "[121]\ttrain-logloss:0.00917\teval-logloss:0.08869\n",
            "[122]\ttrain-logloss:0.00910\teval-logloss:0.08880\n",
            "[123]\ttrain-logloss:0.00900\teval-logloss:0.08848\n",
            "[124]\ttrain-logloss:0.00897\teval-logloss:0.08858\n",
            "[125]\ttrain-logloss:0.00893\teval-logloss:0.08849\n",
            "[126]\ttrain-logloss:0.00884\teval-logloss:0.08909\n",
            "[127]\ttrain-logloss:0.00877\teval-logloss:0.08886\n",
            "[128]\ttrain-logloss:0.00873\teval-logloss:0.08861\n",
            "[129]\ttrain-logloss:0.00864\teval-logloss:0.08942\n",
            "[130]\ttrain-logloss:0.00861\teval-logloss:0.08934\n",
            "[131]\ttrain-logloss:0.00858\teval-logloss:0.08918\n",
            "[132]\ttrain-logloss:0.00852\teval-logloss:0.08880\n",
            "[133]\ttrain-logloss:0.00844\teval-logloss:0.08956\n",
            "[134]\ttrain-logloss:0.00841\teval-logloss:0.08949\n",
            "[135]\ttrain-logloss:0.00838\teval-logloss:0.08934\n",
            "[136]\ttrain-logloss:0.00833\teval-logloss:0.08891\n",
            "[137]\ttrain-logloss:0.00825\teval-logloss:0.08949\n",
            "[138]\ttrain-logloss:0.00822\teval-logloss:0.08962\n",
            "[139]\ttrain-logloss:0.00815\teval-logloss:0.08969\n",
            "[140]\ttrain-logloss:0.00812\teval-logloss:0.08963\n",
            "[141]\ttrain-logloss:0.00810\teval-logloss:0.08948\n",
            "[142]\ttrain-logloss:0.00807\teval-logloss:0.08961\n",
            "[143]\ttrain-logloss:0.00800\teval-logloss:0.09038\n",
            "[144]\ttrain-logloss:0.00797\teval-logloss:0.09033\n",
            "[145]\ttrain-logloss:0.00793\teval-logloss:0.08991\n",
            "[146]\ttrain-logloss:0.00789\teval-logloss:0.08955\n",
            "[147]\ttrain-logloss:0.00782\teval-logloss:0.08994\n",
            "[148]\ttrain-logloss:0.00779\teval-logloss:0.09002\n",
            "[149]\ttrain-logloss:0.00777\teval-logloss:0.09004\n",
            "[150]\ttrain-logloss:0.00775\teval-logloss:0.09000\n",
            "[151]\ttrain-logloss:0.00772\teval-logloss:0.08985\n",
            "[152]\ttrain-logloss:0.00768\teval-logloss:0.08947\n",
            "[153]\ttrain-logloss:0.00763\teval-logloss:0.08979\n",
            "[154]\ttrain-logloss:0.00757\teval-logloss:0.09010\n",
            "[155]\ttrain-logloss:0.00754\teval-logloss:0.09022\n",
            "[156]\ttrain-logloss:0.00752\teval-logloss:0.09018\n",
            "[157]\ttrain-logloss:0.00748\teval-logloss:0.08997\n",
            "[158]\ttrain-logloss:0.00746\teval-logloss:0.09000\n",
            "[159]\ttrain-logloss:0.00744\teval-logloss:0.08977\n",
            "[160]\ttrain-logloss:0.00742\teval-logloss:0.08976\n",
            "[161]\ttrain-logloss:0.00739\teval-logloss:0.08985\n",
            "[162]\ttrain-logloss:0.00737\teval-logloss:0.08988\n",
            "[163]\ttrain-logloss:0.00735\teval-logloss:0.08959\n",
            "[164]\ttrain-logloss:0.00733\teval-logloss:0.08955\n",
            "[165]\ttrain-logloss:0.00731\teval-logloss:0.08958\n",
            "[166]\ttrain-logloss:0.00729\teval-logloss:0.08930\n",
            "[167]\ttrain-logloss:0.00727\teval-logloss:0.08926\n",
            "[168]\ttrain-logloss:0.00725\teval-logloss:0.08913\n",
            "[169]\ttrain-logloss:0.00723\teval-logloss:0.08915\n",
            "[170]\ttrain-logloss:0.00721\teval-logloss:0.08893\n",
            "[171]\ttrain-logloss:0.00719\teval-logloss:0.08896\n",
            "[172]\ttrain-logloss:0.00717\teval-logloss:0.08908\n",
            "[173]\ttrain-logloss:0.00715\teval-logloss:0.08886\n",
            "[174]\ttrain-logloss:0.00713\teval-logloss:0.08886\n",
            "[175]\ttrain-logloss:0.00711\teval-logloss:0.08895\n",
            "[176]\ttrain-logloss:0.00709\teval-logloss:0.08899\n",
            "[177]\ttrain-logloss:0.00708\teval-logloss:0.08895\n",
            "[178]\ttrain-logloss:0.00706\teval-logloss:0.08867\n",
            "[179]\ttrain-logloss:0.00704\teval-logloss:0.08856\n",
            "[180]\ttrain-logloss:0.00702\teval-logloss:0.08844\n",
            "[181]\ttrain-logloss:0.00700\teval-logloss:0.08841\n",
            "[182]\ttrain-logloss:0.00698\teval-logloss:0.08849\n",
            "[183]\ttrain-logloss:0.00697\teval-logloss:0.08853\n",
            "[184]\ttrain-logloss:0.00695\teval-logloss:0.08831\n",
            "[185]\ttrain-logloss:0.00693\teval-logloss:0.08843\n",
            "[186]\ttrain-logloss:0.00691\teval-logloss:0.08847\n",
            "[187]\ttrain-logloss:0.00689\teval-logloss:0.08826\n",
            "[188]\ttrain-logloss:0.00688\teval-logloss:0.08827\n",
            "[189]\ttrain-logloss:0.00686\teval-logloss:0.08817\n",
            "[190]\ttrain-logloss:0.00684\teval-logloss:0.08826\n",
            "[191]\ttrain-logloss:0.00683\teval-logloss:0.08823\n",
            "[192]\ttrain-logloss:0.00681\teval-logloss:0.08811\n",
            "[193]\ttrain-logloss:0.00679\teval-logloss:0.08791\n",
            "[194]\ttrain-logloss:0.00678\teval-logloss:0.08795\n",
            "[195]\ttrain-logloss:0.00676\teval-logloss:0.08806\n",
            "[196]\ttrain-logloss:0.00674\teval-logloss:0.08787\n",
            "[197]\ttrain-logloss:0.00673\teval-logloss:0.08790\n",
            "[198]\ttrain-logloss:0.00671\teval-logloss:0.08792\n",
            "[199]\ttrain-logloss:0.00670\teval-logloss:0.08800\n"
          ]
        }
      ],
      "source": [
        "#train 데이터 세트는 'train',evaluation(test) 데이터 세트는 'eval'로 명기한다\n",
        "wlist=[(dtrain,'train'),(dtest,'eval')]\n",
        "#하이퍼 파라미터와 early stopping 파라미터를 train()함수의 파라미터로 전달\n",
        "xgb_model=xgb.train(params=params, dtrain=dtrain, num_boost_round=num_rounds,early_stopping_rounds=100, evals=wlist)"
      ]
    },
    {
      "cell_type": "code",
      "execution_count": null,
      "metadata": {
        "colab": {
          "base_uri": "https://localhost:8080/"
        },
        "id": "ugmifDzsn8-u",
        "outputId": "da3457c2-a29b-4f99-9a3d-672b1f062535"
      },
      "outputs": [
        {
          "name": "stdout",
          "output_type": "stream",
          "text": [
            "predict()수행 결과값을 10개만 표시, 예측 확률값으로 표시됨\n",
            "[0.904 0.004 0.908 0.267 0.992 1.    1.    0.999 0.994 0.   ]\n",
            "예측값 10갬나 표시: [1, 0, 1, 0, 1, 1, 1, 1, 1, 0]\n"
          ]
        }
      ],
      "source": [
        "pred_probs=xgb_model.predict(dtest)\n",
        "print('predict()수행 결과값을 10개만 표시, 예측 확률값으로 표시됨')\n",
        "print(np.round(pred_probs[:10],3))\n",
        "\n",
        "#예측 확률이 0.5보다 크면 1, 그렇지 않으면 0으로 예측값 결정해 리스트 객체인 preds에 저장\n",
        "preds=[1 if x>0.5 else 0 for x in pred_probs]\n",
        "print('예측값 10갬나 표시:',preds[:10])"
      ]
    },
    {
      "cell_type": "code",
      "execution_count": 17,
      "metadata": {
        "id": "lJfvQeVwpDzt"
      },
      "outputs": [],
      "source": [
        "from sklearn.metrics import confusion_matrix, precision_score,recall_score, f1_score, roc_auc_score\n",
        "def get_clf_eval(y_test, pred=None, pred_proba=None):\n",
        "    confusion = confusion_matrix(y_test, pred)\n",
        "    accuracy = accuracy_score(y_test, pred)\n",
        "    precision = precision_score(y_test, pred)\n",
        "    recall = recall_score(y_test, pred)\n",
        "    f1 = f1_score(y_test, pred)\n",
        "\n",
        "    # ROC-AUC 추가\n",
        "    roc_auc = roc_auc_score(y_test, pred_proba)\n",
        "\n",
        "    print('오차 행렬')\n",
        "    print(confusion)\n",
        "\n",
        "    # ROC-AUC print 추가\n",
        "    print('정확도: {0:.4f}, 정밀도: {1:.4f}, 재현율: {2:.4f}, F1: {3:.4f}, AUC: {4:.4f}'.format(accuracy, precision, recall, f1, roc_auc))"
      ]
    },
    {
      "cell_type": "code",
      "execution_count": null,
      "metadata": {
        "colab": {
          "base_uri": "https://localhost:8080/"
        },
        "id": "xchtZqLipLok",
        "outputId": "03914d7c-2a3d-4a18-bb36-e5f9ad25a364"
      },
      "outputs": [
        {
          "name": "stdout",
          "output_type": "stream",
          "text": [
            "오차 행렬\n",
            "[[34  3]\n",
            " [ 1 76]]\n",
            "정확도: 0.9649, 정밀도: 0.9620, 재현율: 0.9870, F1: 0.9744, AUC: 0.9951\n"
          ]
        }
      ],
      "source": [
        "get_clf_eval(y_test,preds,pred_probs)"
      ]
    },
    {
      "cell_type": "code",
      "execution_count": null,
      "metadata": {
        "colab": {
          "base_uri": "https://localhost:8080/",
          "height": 840
        },
        "id": "WOpCavSrpPrP",
        "outputId": "bbfdeb95-3bb4-4eb0-d268-ca4d90322f9e"
      },
      "outputs": [
        {
          "data": {
            "text/plain": [
              "<Axes: title={'center': 'Feature importance'}, xlabel='F score', ylabel='Features'>"
            ]
          },
          "execution_count": 26,
          "metadata": {},
          "output_type": "execute_result"
        },
        {
          "data": {
            "image/png": "[encoded data removed]",
            "text/plain": [
              "<Figure size 1000x1200 with 1 Axes>"
            ]
          },
          "metadata": {},
          "output_type": "display_data"
        }
      ],
      "source": [
        "from xgboost import plot_importance\n",
        "import matplotlib.pyplot as plt\n",
        "%matplotlib inline\n",
        "\n",
        "fig,ax=plt.subplots(figsize=(10,12))\n",
        "plot_importance(xgb_model,ax=ax)"
      ]
    },
    {
      "cell_type": "markdown",
      "metadata": {
        "id": "_2ntBbIJ0tXR"
      },
      "source": [
        "사이킷런 래퍼 XGBoost"
      ]
    },
    {
      "cell_type": "code",
      "execution_count": null,
      "metadata": {
        "colab": {
          "base_uri": "https://localhost:8080/"
        },
        "id": "KMP8qoE_0wqx",
        "outputId": "8e1e37a0-19b2-449e-f915-fc7f1bbdab82"
      },
      "outputs": [
        {
          "name": "stdout",
          "output_type": "stream",
          "text": [
            "오차 행렬\n",
            "[[35  2]\n",
            " [ 1 76]]\n",
            "정확도: 0.9737, 정밀도: 0.9744, 재현율: 0.9870, F1: 0.9806, AUC: 0.9947\n"
          ]
        }
      ],
      "source": [
        "#사이킷런 래퍼 XGBoost 클래스인 XGBClassifier 임포트\n",
        "from xgboost import XGBClassifier\n",
        "\n",
        "xgb_wrapper=XGBClassifier(n_estimators=400, learning_rate=0.1, max_depth=3)\n",
        "xgb_wrapper.fit(X_train,y_train)\n",
        "w_preds=xgb_wrapper.predict(X_test)\n",
        "w_pred_proba=xgb_wrapper.predict_proba(X_test)[:,1]\n",
        "\n",
        "get_clf_eval(y_test,w_preds,w_pred_proba)"
      ]
    },
    {
      "cell_type": "code",
      "execution_count": null,
      "metadata": {
        "id": "x8ZKUZR21UVO"
      },
      "outputs": [],
      "source": [
        "from xgboost import XGBClassifier\n",
        "xgb_wrapper=XGBClassifier(n_estimators=400,learning_rate=0.1, max_depth=3)\n",
        "evals=[(X_test,y_test)]\n",
        "xgb_wrapper.fit(X_train,y_train,early_stopping_rounds=100, eval_metric='logloss',eval_set=evals, verbose=True)\n",
        "ws100_preds=xgb_wrapper.predict(X_test)\n",
        "ws100_pred_proba=xgb_wrapper.predict_proba(X_test)[:,1]\n",
        "#버전을 낮춰야함......나중에 비주얼스튜디오로 다시 시도"
      ]
    },
    {
      "cell_type": "code",
      "execution_count": null,
      "metadata": {
        "id": "08pwjQ726Fhs"
      },
      "outputs": [],
      "source": [
        "get_clf_eval(y_test,ws100_preds,ws100_pred_proba)"
      ]
    },
    {
      "cell_type": "code",
      "execution_count": null,
      "metadata": {
        "id": "PbHA6z2R6Mww"
      },
      "outputs": [],
      "source": [
        "#early_stopping_rounds를 10으로 설정하고 재학습\n",
        "xgb_wrapper.fit(X_train,y_train,early_stopping_rounds=10, eval_metric='logloss', eval_set=evals,verbose=True)\n",
        "ws10_preds=xgb_wrapper.predict(X_test)\n",
        "ws10_pred_proba=xgb_wrapper.predict_proba(X_test)[:,1]\n",
        "get_clf_eval(y_test,ws10_preds,ws10_pred_proba)"
      ]
    },
    {
      "cell_type": "code",
      "execution_count": null,
      "metadata": {
        "id": "8kXw_jTY6yZ0"
      },
      "outputs": [],
      "source": [
        "from xgboost import plot_importance\n",
        "import matplotlib.pyplot as plt\n",
        "%matplotlib inline\n",
        "\n",
        "fig,ax=plt.subplots(figsize=(10,12))\n",
        "#사이킷런 Wrapper 클래스를 입력해도 무방\n",
        "plot_importance(xgb_wrapper,ax=ax)"
      ]
    },
    {
      "cell_type": "markdown",
      "metadata": {
        "id": "OR1P-gJ87A_I"
      },
      "source": [
        "#LightGBM"
      ]
    },
    {
      "cell_type": "code",
      "execution_count": null,
      "metadata": {
        "id": "lKQ5xlXf8JUb"
      },
      "outputs": [],
      "source": [
        "from lightgbm import LGBMClassifier\n",
        "\n",
        "import pandas as pd\n",
        "import numpy as np\n",
        "from sklearn.datasets import load_breast_cancer\n",
        "from sklearn.model_selection import train_test_split\n",
        "\n",
        "dataset=load_breast_cancer()\n",
        "ftr=dataset.data\n",
        "target=dataset.target\n",
        "\n",
        "X_train,X_test,y_train,y_test=train_test_split(ftr,target, test_size=0.2, random_state=156)\n",
        "\n",
        "lgbm_wrapper=LGBMClassifier(n_estimators=400)\n",
        "\n",
        "evals=[(X_test,y_test)]\n",
        "lgbm_wrapper.fit(X_train,y_train,early_stopping_rounds=100,eval_metric='logloss',eval_set=evals,verbose=True)\n",
        "preds=lgbm_wrapper.predict(X_test)\n",
        "pred_proba=lgbm_wrapper.predict_proba(X_test)[:,1]"
      ]
    },
    {
      "cell_type": "code",
      "execution_count": null,
      "metadata": {
        "id": "hHb1GOec87fg"
      },
      "outputs": [],
      "source": [
        "get_clf_eval(y_test,preds,pred_proba)"
      ]
    },
    {
      "cell_type": "code",
      "execution_count": null,
      "metadata": {
        "id": "FRS88o5Q8_nb"
      },
      "outputs": [],
      "source": [
        "from lightgbm import plot_importance\n",
        "import matplotlib.pyplot as plt\n",
        "%matplotlib inline\n",
        "\n",
        "fig, ax=plt.subplots(figsize=(10,12))\n",
        "plot_importance(lgbm_wrapper,ax=ax)"
      ]
    },
    {
      "cell_type": "markdown",
      "metadata": {
        "id": "YufRs-TR9R0h"
      },
      "source": [
        "#Stacking Ensemble"
      ]
    },
    {
      "cell_type": "code",
      "execution_count": null,
      "metadata": {
        "id": "R8MmZ5h1-K5U"
      },
      "outputs": [],
      "source": [
        "import numpy as np\n",
        "\n",
        "from sklearn.neighbors import KNeighborsClassifier\n",
        "from sklearn.ensemble import RandomForestClassifier\n",
        "from sklearn.ensemble import AdaBoostClassifier\n",
        "from sklearn.tree import DecisionTreeClassifier\n",
        "from sklearn.linear_model import LogisticRegression\n",
        "\n",
        "from sklearn.datasets import load_breast_cancer\n",
        "from sklearn.model_selection import train_test_split\n",
        "from sklearn.metrics import accuracy_score\n",
        "\n",
        "cancer_data = load_breast_cancer()\n",
        "\n",
        "X_data = cancer_data.data\n",
        "y_label = cancer_data.target\n",
        "\n",
        "X_train, X_test, y_train, y_test = train_test_split(X_data, y_label, test_size=0.2, random_state=0)"
      ]
    },
    {
      "cell_type": "code",
      "execution_count": null,
      "metadata": {
        "id": "s9HpvRl795nz"
      },
      "outputs": [],
      "source": [
        "#개별 ML모델 생성\n",
        "knn_clf=KNeighborsClassifier(n_neighbors=4)\n",
        "rf_clf=RandomForestClassifier(n_estimators=100,random_state=0)\n",
        "dt_clf=DecisionTreeClassifier()\n",
        "ada_clf=AdaBoostClassifier(n_estimators=100)\n",
        "\n",
        "#stacking으로 만들어진 데이터 세트를 학습, 예측할 최종 모델\n",
        "lr_final=LogisticRegression(C=10)"
      ]
    },
    {
      "cell_type": "code",
      "execution_count": null,
      "metadata": {
        "colab": {
          "base_uri": "https://localhost:8080/"
        },
        "id": "dy1gIj_n-n73",
        "outputId": "74f6ffb4-2b56-4023-b533-d00dc82e9de6"
      },
      "outputs": [
        {
          "name": "stdout",
          "output_type": "stream",
          "text": [
            "KNN 정확도: 0.9211\n",
            "랜덤 포레스트 정확도: 0.9649\n",
            "결정 트리 정확도: 0.9123\n",
            "에이다부스트 정확도: 0.9561\n"
          ]
        }
      ],
      "source": [
        "# 개별 모델 학습\n",
        "knn_clf.fit(X_train, y_train)\n",
        "rf_clf.fit(X_train, y_train)\n",
        "dt_clf.fit(X_train, y_train)\n",
        "ada_clf.fit(X_train, y_train)\n",
        "\n",
        "# 학습된 개별 모델들이 각자 반환하는 예측 데이터 세트를 생성하고 개별 모델의 정확도 측정\n",
        "knn_pred = knn_clf.predict(X_test)\n",
        "rf_pred = rf_clf.predict(X_test)\n",
        "dt_pred = dt_clf.predict(X_test)\n",
        "ada_pred = ada_clf.predict(X_test)\n",
        "\n",
        "print('KNN 정확도: {0:.4f}'.format(accuracy_score(y_test, knn_pred)))\n",
        "print('랜덤 포레스트 정확도: {0:.4f}'.format(accuracy_score(y_test, rf_pred)))\n",
        "print('결정 트리 정확도: {0:.4f}'.format(accuracy_score(y_test, dt_pred)))\n",
        "print('에이다부스트 정확도: {0:.4f}'.format(accuracy_score(y_test, ada_pred)))"
      ]
    },
    {
      "cell_type": "code",
      "execution_count": null,
      "metadata": {
        "colab": {
          "base_uri": "https://localhost:8080/"
        },
        "id": "3_zXIHkDARHC",
        "outputId": "fddd4cba-3137-48c9-dfe3-94c7e0a5a6b7"
      },
      "outputs": [
        {
          "name": "stdout",
          "output_type": "stream",
          "text": [
            "(4, 114)\n",
            "(114, 4)\n"
          ]
        }
      ],
      "source": [
        "pred=np.array([knn_pred,rf_pred,dt_pred,ada_pred])\n",
        "print(pred.shape)\n",
        "\n",
        "#transpose를 이용해 행과 열의 위치 교환. 칼럼 레벨로 각 알고리즘의 예측 결과를 피처로 만듦\n",
        "pred=np.transpose(pred)\n",
        "print(pred.shape)"
      ]
    },
    {
      "cell_type": "code",
      "execution_count": null,
      "metadata": {
        "colab": {
          "base_uri": "https://localhost:8080/"
        },
        "id": "bhkXeivrAfWj",
        "outputId": "fc0b2e28-95c3-4874-dd09-06ef75b165f1"
      },
      "outputs": [
        {
          "name": "stdout",
          "output_type": "stream",
          "text": [
            "최종 메타 모델의 예측 정확도: 0.9737\n"
          ]
        }
      ],
      "source": [
        "lr_final.fit(pred,y_test)\n",
        "final=lr_final.predict(pred)\n",
        "\n",
        "print('최종 메타 모델의 예측 정확도: {0:.4f}'.format(accuracy_score(y_test,final)))"
      ]
    },
    {
      "cell_type": "markdown",
      "metadata": {
        "id": "6AixDU_ZB_yd"
      },
      "source": [
        "cv기반 stacking"
      ]
    },
    {
      "cell_type": "code",
      "execution_count": null,
      "metadata": {
        "id": "M8wu7fCeB-0E"
      },
      "outputs": [],
      "source": [
        "from sklearn.model_selection import KFold\n",
        "from sklearn.metrics import mean_absolute_error\n",
        "\n",
        "# 개별 기반 모델에서 최종 메타 모델이 사용할 학습 및 테스트용 데이터를 생성하기 위한 함수\n",
        "def get_stacking_base_datasets(model, X_train_n, y_train_n, X_test_n, n_folds):\n",
        "    # 지정된 n_folds값으로 KFold생성\n",
        "    kf = KFold(n_splits=n_folds, shuffle=True, random_state=0)\n",
        "    # 추후에 메타 모델이 사용할 학습 데이터 반환을 위한 넘파이 배열 초기화\n",
        "    train_fold_pred = np.zeros((X_train_n.shape[0], 1))\n",
        "    test_pred = np.zeros((X_test_n.shape[0], n_folds))\n",
        "    print(model.__class__.__name__, 'model 시작')\n",
        "\n",
        "    for folder_counter, (train_index, valid_index) in enumerate(kf.split(X_train_n)):\n",
        "        # 입력된 학습 데이터에서 기반 모델이 학습/예측할 폴드 데이터 세트 추출\n",
        "        print('\\t 폴드 세트:', folder_counter, '시작')\n",
        "        X_tr = X_train_n[train_index]\n",
        "        y_tr = y_train_n[train_index]\n",
        "        X_te = X_train_n[valid_index]\n",
        "\n",
        "        # 폴드 세트 내부에서 다시 만들어진 학습 데이터로 기반 모델의 학습 수행\n",
        "        model.fit(X_tr, y_tr)\n",
        "        # 폴드 세트 내부에서 다시 만들어진 검증 데이터로 기반 모델 예측 후 데이터 저장\n",
        "        train_fold_pred[valid_index, :] = model.predict(X_te).reshape(-1, 1)\n",
        "        # 입력된 원본 테스트 데이터를 폴드 세트내 학습된 기반 모델에서 예측 후 데이터 저장\n",
        "        test_pred[:, folder_counter] = model.predict(X_test_n)\n",
        "\n",
        "    # 폴드 세트 내에서 원본 테스트 데이터를 예측한 데이터를 평균하여 테스트 데이터로 생성\n",
        "    test_pred_mean = np.mean(test_pred, axis=1).reshape(-1, 1)\n",
        "\n",
        "    # train_fold_pred는 최종 메타 모델이 사용하는 학습 데이터, test_pred_mean은 테스트 데이터\n",
        "    return train_fold_pred, test_pred_mean"
      ]
    },
    {
      "cell_type": "code",
      "execution_count": null,
      "metadata": {
        "colab": {
          "base_uri": "https://localhost:8080/"
        },
        "id": "3Z4p8-wWDP4F",
        "outputId": "d0e51da9-c276-4504-8c1b-793eb04e6808"
      },
      "outputs": [
        {
          "name": "stdout",
          "output_type": "stream",
          "text": [
            "KNeighborsClassifier model 시작\n",
            "\t 폴드 세트: 0 시작\n",
            "\t 폴드 세트: 1 시작\n",
            "\t 폴드 세트: 2 시작\n",
            "\t 폴드 세트: 3 시작\n",
            "\t 폴드 세트: 4 시작\n",
            "\t 폴드 세트: 5 시작\n",
            "\t 폴드 세트: 6 시작\n",
            "RandomForestClassifier model 시작\n",
            "\t 폴드 세트: 0 시작\n",
            "\t 폴드 세트: 1 시작\n",
            "\t 폴드 세트: 2 시작\n",
            "\t 폴드 세트: 3 시작\n",
            "\t 폴드 세트: 4 시작\n",
            "\t 폴드 세트: 5 시작\n",
            "\t 폴드 세트: 6 시작\n",
            "DecisionTreeClassifier model 시작\n",
            "\t 폴드 세트: 0 시작\n",
            "\t 폴드 세트: 1 시작\n",
            "\t 폴드 세트: 2 시작\n",
            "\t 폴드 세트: 3 시작\n",
            "\t 폴드 세트: 4 시작\n",
            "\t 폴드 세트: 5 시작\n",
            "\t 폴드 세트: 6 시작\n",
            "AdaBoostClassifier model 시작\n",
            "\t 폴드 세트: 0 시작\n",
            "\t 폴드 세트: 1 시작\n",
            "\t 폴드 세트: 2 시작\n",
            "\t 폴드 세트: 3 시작\n",
            "\t 폴드 세트: 4 시작\n",
            "\t 폴드 세트: 5 시작\n",
            "\t 폴드 세트: 6 시작\n"
          ]
        }
      ],
      "source": [
        "knn_train, knn_test = get_stacking_base_datasets(knn_clf, X_train, y_train, X_test, 7)\n",
        "rf_train, rf_test = get_stacking_base_datasets(rf_clf, X_train, y_train, X_test, 7)\n",
        "dt_train, dt_test = get_stacking_base_datasets(dt_clf, X_train, y_train, X_test, 7)\n",
        "ada_train, ada_test = get_stacking_base_datasets(ada_clf, X_train, y_train, X_test, 7)"
      ]
    },
    {
      "cell_type": "code",
      "execution_count": null,
      "metadata": {
        "colab": {
          "base_uri": "https://localhost:8080/"
        },
        "id": "ZRDQ2XpgEbX8",
        "outputId": "64718989-49f8-44b1-b729-a25cb9ebba98"
      },
      "outputs": [
        {
          "name": "stdout",
          "output_type": "stream",
          "text": [
            "원본 학습 피처 데이터 Shape: (455, 30) 원본 테스트 피처 Shape: (114, 30)\n",
            "스태킹 학습 피처 데이터 Shape: (455, 4) 스태킹 테스트 피처 데이터 Shape: (114, 4)\n"
          ]
        }
      ],
      "source": [
        "Stack_final_X_train = np.concatenate((knn_train, rf_train, dt_train, ada_train), axis=1)\n",
        "Stack_final_X_test = np.concatenate((knn_test, rf_test, dt_test, ada_test), axis=1)\n",
        "print('원본 학습 피처 데이터 Shape:', X_train.shape, '원본 테스트 피처 Shape:', X_test.shape)\n",
        "print('스태킹 학습 피처 데이터 Shape:', Stack_final_X_train.shape,\n",
        "'스태킹 테스트 피처 데이터 Shape:', Stack_final_X_test.shape)"
      ]
    },
    {
      "cell_type": "code",
      "execution_count": null,
      "metadata": {
        "colab": {
          "base_uri": "https://localhost:8080/"
        },
        "id": "Sa0k4H63Eo7D",
        "outputId": "7fa8c1d9-399b-4876-f82b-c4e946897edd"
      },
      "outputs": [
        {
          "name": "stdout",
          "output_type": "stream",
          "text": [
            "최종 메타 모델의 예측 정확도: 0.9649\n"
          ]
        }
      ],
      "source": [
        "lr_final.fit(Stack_final_X_train,y_train)\n",
        "stack_final=lr_final.predict(Stack_final_X_test)\n",
        "\n",
        "print('최종 메타 모델의 예측 정확도: {0:.4f}'.format(accuracy_score(y_test,stack_final)))"
      ]
    },
    {
      "cell_type": "markdown",
      "metadata": {
        "id": "wfupiUAwJNRO"
      },
      "source": [
        "#HyperOpt"
      ]
    },
    {
      "cell_type": "code",
      "execution_count": 1,
      "metadata": {
        "colab": {
          "base_uri": "https://localhost:8080/"
        },
        "id": "KB4ZaqCoq9AW",
        "outputId": "2f6ed6ad-5f4e-4fee-df0a-56ab4fae7cc1"
      },
      "outputs": [
        {
          "name": "stdout",
          "output_type": "stream",
          "text": [
            "Collecting hyperopt\n",
            "  Downloading hyperopt-0.2.7-py2.py3-none-any.whl (1.6 MB)\n",
            "                                              0.0/1.6 MB ? eta -:--:--\n",
            "     ----                                     0.2/1.6 MB 12.3 MB/s eta 0:00:01\n",
            "     ---------------                          0.6/1.6 MB 9.7 MB/s eta 0:00:01\n",
            "     ---------------------                    0.9/1.6 MB 7.8 MB/s eta 0:00:01\n",
            "     ---------------------------              1.1/1.6 MB 7.8 MB/s eta 0:00:01\n",
            "     ----------------------------------       1.4/1.6 MB 7.2 MB/s eta 0:00:01\n",
            "     ---------------------------------------- 1.6/1.6 MB 7.2 MB/s eta 0:00:00\n",
            "Requirement already satisfied: numpy in c:\\users\\flute\\appdata\\local\\programs\\python\\python311\\lib\\site-packages (from hyperopt) (1.24.3)\n",
            "Requirement already satisfied: scipy in c:\\users\\flute\\appdata\\local\\programs\\python\\python311\\lib\\site-packages (from hyperopt) (1.14.1)\n",
            "Requirement already satisfied: six in c:\\users\\flute\\appdata\\local\\programs\\python\\python311\\lib\\site-packages (from hyperopt) (1.16.0)\n",
            "Requirement already satisfied: networkx>=2.2 in c:\\users\\flute\\appdata\\local\\programs\\python\\python311\\lib\\site-packages (from hyperopt) (3.3)\n",
            "Collecting future (from hyperopt)\n",
            "  Downloading future-1.0.0-py3-none-any.whl (491 kB)\n",
            "                                              0.0/491.3 kB ? eta -:--:--\n",
            "     -------------------------------       419.8/491.3 kB 12.8 MB/s eta 0:00:01\n",
            "     ------------------------------------- 491.3/491.3 kB 10.2 MB/s eta 0:00:00\n",
            "Collecting tqdm (from hyperopt)\n",
            "  Downloading tqdm-4.66.5-py3-none-any.whl (78 kB)\n",
            "                                              0.0/78.4 kB ? eta -:--:--\n",
            "     ---------------------------------------- 78.4/78.4 kB 4.5 MB/s eta 0:00:00\n",
            "Collecting cloudpickle (from hyperopt)\n",
            "  Downloading cloudpickle-3.1.0-py3-none-any.whl (22 kB)\n",
            "Collecting py4j (from hyperopt)\n",
            "  Downloading py4j-0.10.9.7-py2.py3-none-any.whl (200 kB)\n",
            "                                              0.0/200.5 kB ? eta -:--:--\n",
            "     -------------------------------------- 200.5/200.5 kB 6.1 MB/s eta 0:00:00\n",
            "Requirement already satisfied: colorama in c:\\users\\flute\\appdata\\roaming\\python\\python311\\site-packages (from tqdm->hyperopt) (0.4.6)\n",
            "Installing collected packages: py4j, tqdm, future, cloudpickle, hyperopt\n",
            "Successfully installed cloudpickle-3.1.0 future-1.0.0 hyperopt-0.2.7 py4j-0.10.9.7 tqdm-4.66.5\n",
            "Note: you may need to restart the kernel to use updated packages.\n"
          ]
        }
      ],
      "source": [
        "pip install hyperopt"
      ]
    },
    {
      "cell_type": "code",
      "execution_count": 2,
      "metadata": {
        "id": "cSc1_pZxsVsE"
      },
      "outputs": [],
      "source": [
        "from hyperopt import hp\n",
        "#-10부터 10까지 1간격을 가지는 입력변수 x와 -15부터 15까지 1간격으로 입력 변수 y설정\n",
        "search_space={'x':hp.quniform('x',-10,10,1),'y':hp.quniform('y',-15,15,1)}"
      ]
    },
    {
      "cell_type": "code",
      "execution_count": 3,
      "metadata": {
        "id": "X08V62MOsrH2"
      },
      "outputs": [],
      "source": [
        "from hyperopt import STATUS_OK\n",
        "\n",
        "#목적 함수를 생성, 변수값과 변수 검색 공간을 가지는 딕셔너리를 인자로 받고, 특정 값을 반환\n",
        "def objective_func(search_space):\n",
        "  x=search_space['x']\n",
        "  y=search_space['y']\n",
        "  retval=x**2-20*y\n",
        "  return retval"
      ]
    },
    {
      "cell_type": "code",
      "execution_count": 5,
      "metadata": {
        "colab": {
          "base_uri": "https://localhost:8080/"
        },
        "id": "jNX0GJDzs-oA",
        "outputId": "d4c2548b-e03f-41fc-862b-133bf575c03f"
      },
      "outputs": [
        {
          "name": "stdout",
          "output_type": "stream",
          "text": [
            "100%|██████████| 5/5 [00:00<00:00, 903.44trial/s, best loss: -224.0]\n",
            "best: {'x': -4.0, 'y': 12.0}\n"
          ]
        }
      ],
      "source": [
        "from hyperopt import fmin, tpe, Trials\n",
        "import numpy as np\n",
        "#입력 결과값을 저장한 Trials 객체값 생성\n",
        "trial_val=Trials()\n",
        "\n",
        "#목적 함수의 최솟값을 반환하는 최적 입력 변수값을 5번의 입력값 시도(max_evals=5)로 찾아냄\n",
        "best_01=fmin(fn=objective_func, space=search_space, algo=tpe.suggest,max_evals=5, trials=trial_val, rstate=np.random.default_rng(seed=0))\n",
        "print('best:',best_01)"
      ]
    },
    {
      "cell_type": "code",
      "execution_count": 6,
      "metadata": {
        "colab": {
          "base_uri": "https://localhost:8080/"
        },
        "id": "23SmTNtPuFUI",
        "outputId": "920b1b04-d929-4c31-a662-449592c85a51"
      },
      "outputs": [
        {
          "name": "stdout",
          "output_type": "stream",
          "text": [
            "100%|██████████| 20/20 [00:00<00:00, 334.09trial/s, best loss: -296.0]\n",
            "best: {'x': -4.0, 'y': 12.0}\n"
          ]
        }
      ],
      "source": [
        "trial_val=Trials()\n",
        "\n",
        "#max_evals를 20회로 늘려서 재테스트\n",
        "best_02=fmin(fn=objective_func, space=search_space, algo=tpe.suggest,max_evals=20, trials=trial_val, rstate=np.random.default_rng(seed=0))\n",
        "print('best:',best_01)"
      ]
    },
    {
      "cell_type": "code",
      "execution_count": 7,
      "metadata": {
        "colab": {
          "base_uri": "https://localhost:8080/"
        },
        "id": "MBNGvP_9uTHx",
        "outputId": "3397dca1-452f-463e-cf13-5039ccd59bf8"
      },
      "outputs": [
        {
          "name": "stdout",
          "output_type": "stream",
          "text": [
            "[{'loss': -64.0, 'status': 'ok'}, {'loss': -184.0, 'status': 'ok'}, {'loss': 56.0, 'status': 'ok'}, {'loss': -224.0, 'status': 'ok'}, {'loss': 61.0, 'status': 'ok'}, {'loss': -296.0, 'status': 'ok'}, {'loss': -40.0, 'status': 'ok'}, {'loss': 281.0, 'status': 'ok'}, {'loss': 64.0, 'status': 'ok'}, {'loss': 100.0, 'status': 'ok'}, {'loss': 60.0, 'status': 'ok'}, {'loss': -39.0, 'status': 'ok'}, {'loss': 1.0, 'status': 'ok'}, {'loss': -164.0, 'status': 'ok'}, {'loss': 21.0, 'status': 'ok'}, {'loss': -56.0, 'status': 'ok'}, {'loss': 284.0, 'status': 'ok'}, {'loss': 176.0, 'status': 'ok'}, {'loss': -171.0, 'status': 'ok'}, {'loss': 0.0, 'status': 'ok'}]\n"
          ]
        }
      ],
      "source": [
        "print(trial_val.results)"
      ]
    },
    {
      "cell_type": "code",
      "execution_count": 8,
      "metadata": {
        "colab": {
          "base_uri": "https://localhost:8080/"
        },
        "id": "6qoIMCacuYkZ",
        "outputId": "8c2578a5-a709-4aa0-9eb9-6d3480f5de44"
      },
      "outputs": [
        {
          "name": "stdout",
          "output_type": "stream",
          "text": [
            "{'x': [-6.0, -4.0, 4.0, -4.0, 9.0, 2.0, 10.0, -9.0, -8.0, -0.0, -0.0, 1.0, 9.0, 6.0, 9.0, 2.0, -2.0, -4.0, 7.0, -0.0], 'y': [5.0, 10.0, -2.0, 12.0, 1.0, 15.0, 7.0, -10.0, 0.0, -5.0, -3.0, 2.0, 4.0, 10.0, 3.0, 3.0, -14.0, -8.0, 11.0, -0.0]}\n"
          ]
        }
      ],
      "source": [
        "print(trial_val.vals)"
      ]
    },
    {
      "cell_type": "code",
      "execution_count": 9,
      "metadata": {
        "colab": {
          "base_uri": "https://localhost:8080/",
          "height": 676
        },
        "id": "leRuJkVkub6Z",
        "outputId": "e4ab9f66-52a8-4c29-8690-fc21aa923f06"
      },
      "outputs": [
        {
          "data": {
            "text/html": [
              "<div>\n",
              "<style scoped>\n",
              "    .dataframe tbody tr th:only-of-type {\n",
              "        vertical-align: middle;\n",
              "    }\n",
              "\n",
              "    .dataframe tbody tr th {\n",
              "        vertical-align: top;\n",
              "    }\n",
              "\n",
              "    .dataframe thead th {\n",
              "        text-align: right;\n",
              "    }\n",
              "</style>\n",
              "<table border=\"1\" class=\"dataframe\">\n",
              "  <thead>\n",
              "    <tr style=\"text-align: right;\">\n",
              "      <th></th>\n",
              "      <th>x</th>\n",
              "      <th>y</th>\n",
              "      <th>losses</th>\n",
              "    </tr>\n",
              "  </thead>\n",
              "  <tbody>\n",
              "    <tr>\n",
              "      <th>0</th>\n",
              "      <td>-6.0</td>\n",
              "      <td>5.0</td>\n",
              "      <td>-64.0</td>\n",
              "    </tr>\n",
              "    <tr>\n",
              "      <th>1</th>\n",
              "      <td>-4.0</td>\n",
              "      <td>10.0</td>\n",
              "      <td>-184.0</td>\n",
              "    </tr>\n",
              "    <tr>\n",
              "      <th>2</th>\n",
              "      <td>4.0</td>\n",
              "      <td>-2.0</td>\n",
              "      <td>56.0</td>\n",
              "    </tr>\n",
              "    <tr>\n",
              "      <th>3</th>\n",
              "      <td>-4.0</td>\n",
              "      <td>12.0</td>\n",
              "      <td>-224.0</td>\n",
              "    </tr>\n",
              "    <tr>\n",
              "      <th>4</th>\n",
              "      <td>9.0</td>\n",
              "      <td>1.0</td>\n",
              "      <td>61.0</td>\n",
              "    </tr>\n",
              "    <tr>\n",
              "      <th>5</th>\n",
              "      <td>2.0</td>\n",
              "      <td>15.0</td>\n",
              "      <td>-296.0</td>\n",
              "    </tr>\n",
              "    <tr>\n",
              "      <th>6</th>\n",
              "      <td>10.0</td>\n",
              "      <td>7.0</td>\n",
              "      <td>-40.0</td>\n",
              "    </tr>\n",
              "    <tr>\n",
              "      <th>7</th>\n",
              "      <td>-9.0</td>\n",
              "      <td>-10.0</td>\n",
              "      <td>281.0</td>\n",
              "    </tr>\n",
              "    <tr>\n",
              "      <th>8</th>\n",
              "      <td>-8.0</td>\n",
              "      <td>0.0</td>\n",
              "      <td>64.0</td>\n",
              "    </tr>\n",
              "    <tr>\n",
              "      <th>9</th>\n",
              "      <td>-0.0</td>\n",
              "      <td>-5.0</td>\n",
              "      <td>100.0</td>\n",
              "    </tr>\n",
              "    <tr>\n",
              "      <th>10</th>\n",
              "      <td>-0.0</td>\n",
              "      <td>-3.0</td>\n",
              "      <td>60.0</td>\n",
              "    </tr>\n",
              "    <tr>\n",
              "      <th>11</th>\n",
              "      <td>1.0</td>\n",
              "      <td>2.0</td>\n",
              "      <td>-39.0</td>\n",
              "    </tr>\n",
              "    <tr>\n",
              "      <th>12</th>\n",
              "      <td>9.0</td>\n",
              "      <td>4.0</td>\n",
              "      <td>1.0</td>\n",
              "    </tr>\n",
              "    <tr>\n",
              "      <th>13</th>\n",
              "      <td>6.0</td>\n",
              "      <td>10.0</td>\n",
              "      <td>-164.0</td>\n",
              "    </tr>\n",
              "    <tr>\n",
              "      <th>14</th>\n",
              "      <td>9.0</td>\n",
              "      <td>3.0</td>\n",
              "      <td>21.0</td>\n",
              "    </tr>\n",
              "    <tr>\n",
              "      <th>15</th>\n",
              "      <td>2.0</td>\n",
              "      <td>3.0</td>\n",
              "      <td>-56.0</td>\n",
              "    </tr>\n",
              "    <tr>\n",
              "      <th>16</th>\n",
              "      <td>-2.0</td>\n",
              "      <td>-14.0</td>\n",
              "      <td>284.0</td>\n",
              "    </tr>\n",
              "    <tr>\n",
              "      <th>17</th>\n",
              "      <td>-4.0</td>\n",
              "      <td>-8.0</td>\n",
              "      <td>176.0</td>\n",
              "    </tr>\n",
              "    <tr>\n",
              "      <th>18</th>\n",
              "      <td>7.0</td>\n",
              "      <td>11.0</td>\n",
              "      <td>-171.0</td>\n",
              "    </tr>\n",
              "    <tr>\n",
              "      <th>19</th>\n",
              "      <td>-0.0</td>\n",
              "      <td>-0.0</td>\n",
              "      <td>0.0</td>\n",
              "    </tr>\n",
              "  </tbody>\n",
              "</table>\n",
              "</div>"
            ],
            "text/plain": [
              "       x     y  losses\n",
              "0   -6.0   5.0   -64.0\n",
              "1   -4.0  10.0  -184.0\n",
              "2    4.0  -2.0    56.0\n",
              "3   -4.0  12.0  -224.0\n",
              "4    9.0   1.0    61.0\n",
              "5    2.0  15.0  -296.0\n",
              "6   10.0   7.0   -40.0\n",
              "7   -9.0 -10.0   281.0\n",
              "8   -8.0   0.0    64.0\n",
              "9   -0.0  -5.0   100.0\n",
              "10  -0.0  -3.0    60.0\n",
              "11   1.0   2.0   -39.0\n",
              "12   9.0   4.0     1.0\n",
              "13   6.0  10.0  -164.0\n",
              "14   9.0   3.0    21.0\n",
              "15   2.0   3.0   -56.0\n",
              "16  -2.0 -14.0   284.0\n",
              "17  -4.0  -8.0   176.0\n",
              "18   7.0  11.0  -171.0\n",
              "19  -0.0  -0.0     0.0"
            ]
          },
          "execution_count": 9,
          "metadata": {},
          "output_type": "execute_result"
        }
      ],
      "source": [
        "import pandas as pd\n",
        "\n",
        "#result에서 loss 키값에 해당하는 밸류들을 추출하여 list로 생성\n",
        "losses=[loss_dict['loss']for loss_dict in trial_val.results]\n",
        "\n",
        "#DataFrame으로 생성\n",
        "result_df=pd.DataFrame({'x':trial_val.vals['x'], 'y':trial_val.vals['y'],'losses':losses})\n",
        "result_df"
      ]
    },
    {
      "cell_type": "markdown",
      "metadata": {
        "id": "_1_xFe9luzaN"
      },
      "source": [
        "HyperOpt를 이용한  XGBoost 하이퍼 파라미터 최적화"
      ]
    },
    {
      "cell_type": "code",
      "execution_count": 10,
      "metadata": {
        "colab": {
          "base_uri": "https://localhost:8080/",
          "height": 227
        },
        "id": "8QKiu0qPw-m1",
        "outputId": "3462617f-e6f2-402b-ee24-718989e39e86"
      },
      "outputs": [
        {
          "name": "stderr",
          "output_type": "stream",
          "text": [
            "c:\\Users\\flute\\AppData\\Local\\Programs\\Python\\Python311\\Lib\\site-packages\\pkg_resources\\__init__.py:123: PkgResourcesDeprecationWarning: p is an invalid version and will not be supported in a future release\n",
            "  warnings.warn(\n"
          ]
        },
        {
          "data": {
            "text/html": [
              "<div>\n",
              "<style scoped>\n",
              "    .dataframe tbody tr th:only-of-type {\n",
              "        vertical-align: middle;\n",
              "    }\n",
              "\n",
              "    .dataframe tbody tr th {\n",
              "        vertical-align: top;\n",
              "    }\n",
              "\n",
              "    .dataframe thead th {\n",
              "        text-align: right;\n",
              "    }\n",
              "</style>\n",
              "<table border=\"1\" class=\"dataframe\">\n",
              "  <thead>\n",
              "    <tr style=\"text-align: right;\">\n",
              "      <th></th>\n",
              "      <th>mean radius</th>\n",
              "      <th>mean texture</th>\n",
              "      <th>mean perimeter</th>\n",
              "      <th>mean area</th>\n",
              "      <th>mean smoothness</th>\n",
              "      <th>mean compactness</th>\n",
              "      <th>mean concavity</th>\n",
              "      <th>mean concave points</th>\n",
              "      <th>mean symmetry</th>\n",
              "      <th>mean fractal dimension</th>\n",
              "      <th>...</th>\n",
              "      <th>worst texture</th>\n",
              "      <th>worst perimeter</th>\n",
              "      <th>worst area</th>\n",
              "      <th>worst smoothness</th>\n",
              "      <th>worst compactness</th>\n",
              "      <th>worst concavity</th>\n",
              "      <th>worst concave points</th>\n",
              "      <th>worst symmetry</th>\n",
              "      <th>worst fractal dimension</th>\n",
              "      <th>target</th>\n",
              "    </tr>\n",
              "  </thead>\n",
              "  <tbody>\n",
              "    <tr>\n",
              "      <th>0</th>\n",
              "      <td>17.99</td>\n",
              "      <td>10.38</td>\n",
              "      <td>122.8</td>\n",
              "      <td>1001.0</td>\n",
              "      <td>0.11840</td>\n",
              "      <td>0.27760</td>\n",
              "      <td>0.3001</td>\n",
              "      <td>0.14710</td>\n",
              "      <td>0.2419</td>\n",
              "      <td>0.07871</td>\n",
              "      <td>...</td>\n",
              "      <td>17.33</td>\n",
              "      <td>184.6</td>\n",
              "      <td>2019.0</td>\n",
              "      <td>0.1622</td>\n",
              "      <td>0.6656</td>\n",
              "      <td>0.7119</td>\n",
              "      <td>0.2654</td>\n",
              "      <td>0.4601</td>\n",
              "      <td>0.11890</td>\n",
              "      <td>0</td>\n",
              "    </tr>\n",
              "    <tr>\n",
              "      <th>1</th>\n",
              "      <td>20.57</td>\n",
              "      <td>17.77</td>\n",
              "      <td>132.9</td>\n",
              "      <td>1326.0</td>\n",
              "      <td>0.08474</td>\n",
              "      <td>0.07864</td>\n",
              "      <td>0.0869</td>\n",
              "      <td>0.07017</td>\n",
              "      <td>0.1812</td>\n",
              "      <td>0.05667</td>\n",
              "      <td>...</td>\n",
              "      <td>23.41</td>\n",
              "      <td>158.8</td>\n",
              "      <td>1956.0</td>\n",
              "      <td>0.1238</td>\n",
              "      <td>0.1866</td>\n",
              "      <td>0.2416</td>\n",
              "      <td>0.1860</td>\n",
              "      <td>0.2750</td>\n",
              "      <td>0.08902</td>\n",
              "      <td>0</td>\n",
              "    </tr>\n",
              "    <tr>\n",
              "      <th>2</th>\n",
              "      <td>19.69</td>\n",
              "      <td>21.25</td>\n",
              "      <td>130.0</td>\n",
              "      <td>1203.0</td>\n",
              "      <td>0.10960</td>\n",
              "      <td>0.15990</td>\n",
              "      <td>0.1974</td>\n",
              "      <td>0.12790</td>\n",
              "      <td>0.2069</td>\n",
              "      <td>0.05999</td>\n",
              "      <td>...</td>\n",
              "      <td>25.53</td>\n",
              "      <td>152.5</td>\n",
              "      <td>1709.0</td>\n",
              "      <td>0.1444</td>\n",
              "      <td>0.4245</td>\n",
              "      <td>0.4504</td>\n",
              "      <td>0.2430</td>\n",
              "      <td>0.3613</td>\n",
              "      <td>0.08758</td>\n",
              "      <td>0</td>\n",
              "    </tr>\n",
              "  </tbody>\n",
              "</table>\n",
              "<p>3 rows × 31 columns</p>\n",
              "</div>"
            ],
            "text/plain": [
              "   mean radius  mean texture  mean perimeter  mean area  mean smoothness  \\\n",
              "0        17.99         10.38           122.8     1001.0          0.11840   \n",
              "1        20.57         17.77           132.9     1326.0          0.08474   \n",
              "2        19.69         21.25           130.0     1203.0          0.10960   \n",
              "\n",
              "   mean compactness  mean concavity  mean concave points  mean symmetry  \\\n",
              "0           0.27760          0.3001              0.14710         0.2419   \n",
              "1           0.07864          0.0869              0.07017         0.1812   \n",
              "2           0.15990          0.1974              0.12790         0.2069   \n",
              "\n",
              "   mean fractal dimension  ...  worst texture  worst perimeter  worst area  \\\n",
              "0                 0.07871  ...          17.33            184.6      2019.0   \n",
              "1                 0.05667  ...          23.41            158.8      1956.0   \n",
              "2                 0.05999  ...          25.53            152.5      1709.0   \n",
              "\n",
              "   worst smoothness  worst compactness  worst concavity  worst concave points  \\\n",
              "0            0.1622             0.6656           0.7119                0.2654   \n",
              "1            0.1238             0.1866           0.2416                0.1860   \n",
              "2            0.1444             0.4245           0.4504                0.2430   \n",
              "\n",
              "   worst symmetry  worst fractal dimension  target  \n",
              "0          0.4601                  0.11890       0  \n",
              "1          0.2750                  0.08902       0  \n",
              "2          0.3613                  0.08758       0  \n",
              "\n",
              "[3 rows x 31 columns]"
            ]
          },
          "execution_count": 10,
          "metadata": {},
          "output_type": "execute_result"
        }
      ],
      "source": [
        "import xgboost as xgb\n",
        "from xgboost import plot_importance\n",
        "import pandas as pd\n",
        "import numpy as np\n",
        "from sklearn.datasets import load_breast_cancer\n",
        "from sklearn.model_selection import train_test_split\n",
        "import warnings\n",
        "warnings.filterwarnings('ignore')\n",
        "\n",
        "dataset=load_breast_cancer()\n",
        "X_features=dataset.data\n",
        "y_label=dataset.target\n",
        "\n",
        "cancer_df=pd.DataFrame(data=X_features,columns=dataset.feature_names)\n",
        "cancer_df['target']=y_label\n",
        "cancer_df.head(3)"
      ]
    },
    {
      "cell_type": "code",
      "execution_count": 11,
      "metadata": {
        "id": "LziRCHY3vcpO"
      },
      "outputs": [],
      "source": [
        "from sklearn.model_selection import train_test_split\n",
        "X_train,X_test,y_train,y_test=train_test_split(X_features,y_label,test_size=0.2, random_state=156)\n",
        "X_tr,X_val,y_tr,y_val=train_test_split(X_train,y_train,test_size=0.1, random_state=156)"
      ]
    },
    {
      "cell_type": "code",
      "execution_count": 12,
      "metadata": {
        "id": "L3KfushBxCIo"
      },
      "outputs": [],
      "source": [
        "from hyperopt import hp\n",
        "\n",
        "xgb_search_space={'max_depth':hp.quniform('max_depth',5,20,1),\n",
        "                  'min_child_weight':hp.quniform('min_child_weight',1,2,1),\n",
        "                  'learning_rate':hp.uniform('learning_rate',0.01,0.2),\n",
        "                  'colsample_bytree':hp.uniform('colsample_bytree',0.5,1)}"
      ]
    },
    {
      "cell_type": "code",
      "execution_count": 13,
      "metadata": {
        "id": "pP1cGfrcxsGE"
      },
      "outputs": [],
      "source": [
        "from sklearn.model_selection import cross_val_score\n",
        "from xgboost import XGBClassifier\n",
        "from hyperopt import STATUS_OK\n",
        "#fmin()에서 입력된 search_space 값으로 입력된 모든 값은 실수형임.\n",
        "# XGBClassifier의 정수형 하이퍼 파라미터는 정수형 변환을 해줘야 함.\n",
        "#정확도는 높을수록 더 좋은 수치임. -1* 정확도를 곱해서 큰 정확도 값일수록 최소가 되도록 변환\n",
        "def objective_func(search_space):\n",
        "  #수행 시간 절약을 위해 nestimators는 100으로 축소\n",
        "  xgb_clf = XGBClassifier(n_estimators=100, max_depth=int(search_space['max_depth']), min_child_weight=int(search_space[ 'min_child_weight']), learning_rate=search_space['learning_rate'],\n",
        "  colsample_bytree=search_space['colsample_bytree'],\n",
        "  eval_metric='logloss')\n",
        "  accuracy = cross_val_score(xgb_clf, X_train, y_train, scoring='accuracy', cv=3)\n",
        "# accuracy는 cv=3 개수만큼 roc-auc 결과를 리스트로 가짐. 이를 평균해서 반환하되 -1을 곱함.\n",
        "  return {'loss':-1* np.mean(accuracy), 'status': STATUS_OK}"
      ]
    },
    {
      "cell_type": "code",
      "execution_count": 14,
      "metadata": {
        "colab": {
          "base_uri": "https://localhost:8080/"
        },
        "id": "3XtUwaReyGxX",
        "outputId": "db4cb28c-bc05-46bf-94f7-9c8690d8e6dc"
      },
      "outputs": [
        {
          "name": "stdout",
          "output_type": "stream",
          "text": [
            "100%|██████████| 50/50 [00:13<00:00,  3.58trial/s, best loss: -0.9670616939700244]\n",
            "best: {'colsample_bytree': 0.5424149213362504, 'learning_rate': 0.12601372924444681, 'max_depth': 17.0, 'min_child_weight': 2.0}\n"
          ]
        }
      ],
      "source": [
        "from hyperopt import fmin, tpe, Trials\n",
        "trial_val = Trials ()\n",
        "best = fmin(fn=objective_func,\n",
        "            space=xgb_search_space,\n",
        "            algo=tpe.suggest,\n",
        "            max_evals=50, #최대 반복 횟수를 지정합니다.\n",
        "            trials=trial_val, rstate=np.random.default_rng(seed=9))\n",
        "print('best:', best)"
      ]
    },
    {
      "cell_type": "code",
      "execution_count": 15,
      "metadata": {
        "colab": {
          "base_uri": "https://localhost:8080/"
        },
        "id": "VuRZ3jmTzLZY",
        "outputId": "4bac1252-a231-4661-f92c-92a88cdf7b4c"
      },
      "outputs": [
        {
          "name": "stdout",
          "output_type": "stream",
          "text": [
            "colsample_bytree:0.54241, learning_rate: 0.12601, max_depth: 17, min_child_weight:2\n"
          ]
        }
      ],
      "source": [
        "print('colsample_bytree:{0}, learning_rate: {1}, max_depth: {2}, min_child_weight:{3}'.format( round (best['colsample_bytree'], 5), round (best['learning_rate'], 5),\n",
        "int (best['max_depth']), int (best['min_child_weight'])))"
      ]
    },
    {
      "cell_type": "code",
      "execution_count": 20,
      "metadata": {
        "colab": {
          "base_uri": "https://localhost:8080/",
          "height": 351
        },
        "id": "0UocwEnhzhoI",
        "outputId": "ffcf70e7-36be-49c8-d4ca-4708d516dd49"
      },
      "outputs": [
        {
          "name": "stdout",
          "output_type": "stream",
          "text": [
            "[0]\tvalidation_0-logloss:0.58942\tvalidation_1-logloss:0.62048\n",
            "[1]\tvalidation_0-logloss:0.50801\tvalidation_1-logloss:0.55913\n",
            "[2]\tvalidation_0-logloss:0.44160\tvalidation_1-logloss:0.50928\n"
          ]
        },
        {
          "name": "stdout",
          "output_type": "stream",
          "text": [
            "[3]\tvalidation_0-logloss:0.38734\tvalidation_1-logloss:0.46815\n",
            "[4]\tvalidation_0-logloss:0.34224\tvalidation_1-logloss:0.43913\n",
            "[5]\tvalidation_0-logloss:0.30425\tvalidation_1-logloss:0.41570\n",
            "[6]\tvalidation_0-logloss:0.27178\tvalidation_1-logloss:0.38953\n",
            "[7]\tvalidation_0-logloss:0.24503\tvalidation_1-logloss:0.37317\n",
            "[8]\tvalidation_0-logloss:0.22050\tvalidation_1-logloss:0.35628\n",
            "[9]\tvalidation_0-logloss:0.19873\tvalidation_1-logloss:0.33798\n",
            "[10]\tvalidation_0-logloss:0.17945\tvalidation_1-logloss:0.32463\n",
            "[11]\tvalidation_0-logloss:0.16354\tvalidation_1-logloss:0.31384\n",
            "[12]\tvalidation_0-logloss:0.15032\tvalidation_1-logloss:0.30607\n",
            "[13]\tvalidation_0-logloss:0.13813\tvalidation_1-logloss:0.30143\n",
            "[14]\tvalidation_0-logloss:0.12798\tvalidation_1-logloss:0.29513\n",
            "[15]\tvalidation_0-logloss:0.11926\tvalidation_1-logloss:0.28891\n",
            "[16]\tvalidation_0-logloss:0.11111\tvalidation_1-logloss:0.28290\n",
            "[17]\tvalidation_0-logloss:0.10351\tvalidation_1-logloss:0.27835\n",
            "[18]\tvalidation_0-logloss:0.09474\tvalidation_1-logloss:0.27295\n",
            "[19]\tvalidation_0-logloss:0.08922\tvalidation_1-logloss:0.27215\n",
            "[20]\tvalidation_0-logloss:0.08406\tvalidation_1-logloss:0.27168\n",
            "[21]\tvalidation_0-logloss:0.07892\tvalidation_1-logloss:0.27093\n",
            "[22]\tvalidation_0-logloss:0.07355\tvalidation_1-logloss:0.26561\n",
            "[23]\tvalidation_0-logloss:0.06976\tvalidation_1-logloss:0.26670\n",
            "[24]\tvalidation_0-logloss:0.06569\tvalidation_1-logloss:0.26871\n",
            "[25]\tvalidation_0-logloss:0.06220\tvalidation_1-logloss:0.26484\n",
            "[26]\tvalidation_0-logloss:0.05946\tvalidation_1-logloss:0.26604\n",
            "[27]\tvalidation_0-logloss:0.05688\tvalidation_1-logloss:0.26836\n",
            "[28]\tvalidation_0-logloss:0.05457\tvalidation_1-logloss:0.26746\n",
            "[29]\tvalidation_0-logloss:0.05161\tvalidation_1-logloss:0.26410\n",
            "[30]\tvalidation_0-logloss:0.04900\tvalidation_1-logloss:0.26314\n",
            "[31]\tvalidation_0-logloss:0.04658\tvalidation_1-logloss:0.26210\n",
            "[32]\tvalidation_0-logloss:0.04442\tvalidation_1-logloss:0.25918\n",
            "[33]\tvalidation_0-logloss:0.04293\tvalidation_1-logloss:0.25575\n",
            "[34]\tvalidation_0-logloss:0.04149\tvalidation_1-logloss:0.25681\n",
            "[35]\tvalidation_0-logloss:0.03991\tvalidation_1-logloss:0.25727\n",
            "[36]\tvalidation_0-logloss:0.03849\tvalidation_1-logloss:0.25710\n",
            "[37]\tvalidation_0-logloss:0.03702\tvalidation_1-logloss:0.25274\n",
            "[38]\tvalidation_0-logloss:0.03552\tvalidation_1-logloss:0.25427\n",
            "[39]\tvalidation_0-logloss:0.03441\tvalidation_1-logloss:0.25366\n",
            "[40]\tvalidation_0-logloss:0.03335\tvalidation_1-logloss:0.25410\n",
            "[41]\tvalidation_0-logloss:0.03259\tvalidation_1-logloss:0.25415\n",
            "[42]\tvalidation_0-logloss:0.03172\tvalidation_1-logloss:0.25421\n",
            "[43]\tvalidation_0-logloss:0.03110\tvalidation_1-logloss:0.25265\n",
            "[44]\tvalidation_0-logloss:0.03025\tvalidation_1-logloss:0.24974\n",
            "[45]\tvalidation_0-logloss:0.02961\tvalidation_1-logloss:0.25033\n",
            "[46]\tvalidation_0-logloss:0.02904\tvalidation_1-logloss:0.24858\n",
            "[47]\tvalidation_0-logloss:0.02849\tvalidation_1-logloss:0.25082\n",
            "[48]\tvalidation_0-logloss:0.02802\tvalidation_1-logloss:0.24968\n",
            "[49]\tvalidation_0-logloss:0.02741\tvalidation_1-logloss:0.24913\n",
            "[50]\tvalidation_0-logloss:0.02689\tvalidation_1-logloss:0.24924\n",
            "[51]\tvalidation_0-logloss:0.02644\tvalidation_1-logloss:0.24483\n",
            "[52]\tvalidation_0-logloss:0.02593\tvalidation_1-logloss:0.24508\n",
            "[53]\tvalidation_0-logloss:0.02534\tvalidation_1-logloss:0.24153\n",
            "[54]\tvalidation_0-logloss:0.02500\tvalidation_1-logloss:0.23781\n",
            "[55]\tvalidation_0-logloss:0.02458\tvalidation_1-logloss:0.23909\n",
            "[56]\tvalidation_0-logloss:0.02422\tvalidation_1-logloss:0.23809\n",
            "[57]\tvalidation_0-logloss:0.02380\tvalidation_1-logloss:0.23843\n",
            "[58]\tvalidation_0-logloss:0.02347\tvalidation_1-logloss:0.23802\n",
            "[59]\tvalidation_0-logloss:0.02310\tvalidation_1-logloss:0.23837\n",
            "[60]\tvalidation_0-logloss:0.02275\tvalidation_1-logloss:0.23923\n",
            "[61]\tvalidation_0-logloss:0.02257\tvalidation_1-logloss:0.23813\n",
            "[62]\tvalidation_0-logloss:0.02242\tvalidation_1-logloss:0.23983\n",
            "[63]\tvalidation_0-logloss:0.02227\tvalidation_1-logloss:0.23883\n",
            "[64]\tvalidation_0-logloss:0.02186\tvalidation_1-logloss:0.23589\n",
            "[65]\tvalidation_0-logloss:0.02162\tvalidation_1-logloss:0.23630\n",
            "[66]\tvalidation_0-logloss:0.02149\tvalidation_1-logloss:0.23795\n",
            "[67]\tvalidation_0-logloss:0.02136\tvalidation_1-logloss:0.23704\n",
            "[68]\tvalidation_0-logloss:0.02123\tvalidation_1-logloss:0.23670\n",
            "[69]\tvalidation_0-logloss:0.02097\tvalidation_1-logloss:0.23745\n",
            "[70]\tvalidation_0-logloss:0.02087\tvalidation_1-logloss:0.23739\n",
            "[71]\tvalidation_0-logloss:0.02073\tvalidation_1-logloss:0.23908\n",
            "[72]\tvalidation_0-logloss:0.02062\tvalidation_1-logloss:0.24064\n",
            "[73]\tvalidation_0-logloss:0.02050\tvalidation_1-logloss:0.23973\n",
            "[74]\tvalidation_0-logloss:0.02039\tvalidation_1-logloss:0.23972\n",
            "[75]\tvalidation_0-logloss:0.02029\tvalidation_1-logloss:0.23927\n",
            "[76]\tvalidation_0-logloss:0.02019\tvalidation_1-logloss:0.24081\n",
            "[77]\tvalidation_0-logloss:0.02008\tvalidation_1-logloss:0.24054\n",
            "[78]\tvalidation_0-logloss:0.01999\tvalidation_1-logloss:0.23844\n",
            "[79]\tvalidation_0-logloss:0.01989\tvalidation_1-logloss:0.23762\n",
            "[80]\tvalidation_0-logloss:0.01979\tvalidation_1-logloss:0.23914\n",
            "[81]\tvalidation_0-logloss:0.01969\tvalidation_1-logloss:0.23907\n",
            "[82]\tvalidation_0-logloss:0.01960\tvalidation_1-logloss:0.23830\n",
            "[83]\tvalidation_0-logloss:0.01952\tvalidation_1-logloss:0.23866\n",
            "[84]\tvalidation_0-logloss:0.01943\tvalidation_1-logloss:0.23841\n",
            "[85]\tvalidation_0-logloss:0.01933\tvalidation_1-logloss:0.23992\n",
            "[86]\tvalidation_0-logloss:0.01925\tvalidation_1-logloss:0.23917\n",
            "[87]\tvalidation_0-logloss:0.01916\tvalidation_1-logloss:0.24061\n",
            "[88]\tvalidation_0-logloss:0.01908\tvalidation_1-logloss:0.23862\n",
            "[89]\tvalidation_0-logloss:0.01900\tvalidation_1-logloss:0.23858\n",
            "[90]\tvalidation_0-logloss:0.01892\tvalidation_1-logloss:0.23843\n",
            "[91]\tvalidation_0-logloss:0.01884\tvalidation_1-logloss:0.23837\n",
            "[92]\tvalidation_0-logloss:0.01876\tvalidation_1-logloss:0.23978\n",
            "[93]\tvalidation_0-logloss:0.01868\tvalidation_1-logloss:0.23787\n",
            "[94]\tvalidation_0-logloss:0.01860\tvalidation_1-logloss:0.23862\n",
            "[95]\tvalidation_0-logloss:0.01853\tvalidation_1-logloss:0.23770\n",
            "[96]\tvalidation_0-logloss:0.01845\tvalidation_1-logloss:0.23767\n",
            "[97]\tvalidation_0-logloss:0.01838\tvalidation_1-logloss:0.23840\n",
            "[98]\tvalidation_0-logloss:0.01831\tvalidation_1-logloss:0.23817\n",
            "[99]\tvalidation_0-logloss:0.01824\tvalidation_1-logloss:0.23950\n",
            "[100]\tvalidation_0-logloss:0.01817\tvalidation_1-logloss:0.23945\n",
            "[101]\tvalidation_0-logloss:0.01809\tvalidation_1-logloss:0.23848\n",
            "[102]\tvalidation_0-logloss:0.01802\tvalidation_1-logloss:0.23668\n",
            "[103]\tvalidation_0-logloss:0.01795\tvalidation_1-logloss:0.23704\n",
            "[104]\tvalidation_0-logloss:0.01789\tvalidation_1-logloss:0.23536\n",
            "[105]\tvalidation_0-logloss:0.01781\tvalidation_1-logloss:0.23465\n",
            "[106]\tvalidation_0-logloss:0.01774\tvalidation_1-logloss:0.23536\n",
            "[107]\tvalidation_0-logloss:0.01768\tvalidation_1-logloss:0.23514\n",
            "[108]\tvalidation_0-logloss:0.01762\tvalidation_1-logloss:0.23447\n",
            "[109]\tvalidation_0-logloss:0.01756\tvalidation_1-logloss:0.23281\n",
            "[110]\tvalidation_0-logloss:0.01749\tvalidation_1-logloss:0.23447\n",
            "[111]\tvalidation_0-logloss:0.01743\tvalidation_1-logloss:0.23443\n",
            "[112]\tvalidation_0-logloss:0.01737\tvalidation_1-logloss:0.23512\n",
            "[113]\tvalidation_0-logloss:0.01731\tvalidation_1-logloss:0.23465\n",
            "[114]\tvalidation_0-logloss:0.01725\tvalidation_1-logloss:0.23379\n",
            "[115]\tvalidation_0-logloss:0.01719\tvalidation_1-logloss:0.23446\n",
            "[116]\tvalidation_0-logloss:0.01714\tvalidation_1-logloss:0.23443\n",
            "[117]\tvalidation_0-logloss:0.01708\tvalidation_1-logloss:0.23360\n",
            "[118]\tvalidation_0-logloss:0.01702\tvalidation_1-logloss:0.23195\n",
            "[119]\tvalidation_0-logloss:0.01696\tvalidation_1-logloss:0.23262\n",
            "[120]\tvalidation_0-logloss:0.01691\tvalidation_1-logloss:0.23104\n",
            "[121]\tvalidation_0-logloss:0.01685\tvalidation_1-logloss:0.23145\n",
            "[122]\tvalidation_0-logloss:0.01680\tvalidation_1-logloss:0.23143\n",
            "[123]\tvalidation_0-logloss:0.01675\tvalidation_1-logloss:0.23131\n",
            "[124]\tvalidation_0-logloss:0.01670\tvalidation_1-logloss:0.23119\n",
            "[125]\tvalidation_0-logloss:0.01664\tvalidation_1-logloss:0.22965\n",
            "[126]\tvalidation_0-logloss:0.01659\tvalidation_1-logloss:0.23120\n",
            "[127]\tvalidation_0-logloss:0.01654\tvalidation_1-logloss:0.23119\n",
            "[128]\tvalidation_0-logloss:0.01649\tvalidation_1-logloss:0.23110\n",
            "[129]\tvalidation_0-logloss:0.01644\tvalidation_1-logloss:0.22957\n",
            "[130]\tvalidation_0-logloss:0.01639\tvalidation_1-logloss:0.22934\n",
            "[131]\tvalidation_0-logloss:0.01634\tvalidation_1-logloss:0.22987\n",
            "[132]\tvalidation_0-logloss:0.01629\tvalidation_1-logloss:0.22927\n",
            "[133]\tvalidation_0-logloss:0.01624\tvalidation_1-logloss:0.23076\n",
            "[134]\tvalidation_0-logloss:0.01620\tvalidation_1-logloss:0.23030\n",
            "[135]\tvalidation_0-logloss:0.01615\tvalidation_1-logloss:0.22891\n",
            "[136]\tvalidation_0-logloss:0.01610\tvalidation_1-logloss:0.22883\n",
            "[137]\tvalidation_0-logloss:0.01606\tvalidation_1-logloss:0.22882\n",
            "[138]\tvalidation_0-logloss:0.01602\tvalidation_1-logloss:0.22876\n",
            "[139]\tvalidation_0-logloss:0.01597\tvalidation_1-logloss:0.22734\n",
            "[140]\tvalidation_0-logloss:0.01592\tvalidation_1-logloss:0.22881\n",
            "[141]\tvalidation_0-logloss:0.01588\tvalidation_1-logloss:0.22935\n",
            "[142]\tvalidation_0-logloss:0.01583\tvalidation_1-logloss:0.22880\n",
            "[143]\tvalidation_0-logloss:0.01579\tvalidation_1-logloss:0.22856\n",
            "[144]\tvalidation_0-logloss:0.01575\tvalidation_1-logloss:0.22725\n",
            "[145]\tvalidation_0-logloss:0.01571\tvalidation_1-logloss:0.22739\n",
            "[146]\tvalidation_0-logloss:0.01567\tvalidation_1-logloss:0.22724\n",
            "[147]\tvalidation_0-logloss:0.01562\tvalidation_1-logloss:0.22777\n",
            "[148]\tvalidation_0-logloss:0.01558\tvalidation_1-logloss:0.22726\n",
            "[149]\tvalidation_0-logloss:0.01555\tvalidation_1-logloss:0.22721\n",
            "[150]\tvalidation_0-logloss:0.01551\tvalidation_1-logloss:0.22697\n",
            "[151]\tvalidation_0-logloss:0.01546\tvalidation_1-logloss:0.22645\n",
            "[152]\tvalidation_0-logloss:0.01543\tvalidation_1-logloss:0.22782\n",
            "[153]\tvalidation_0-logloss:0.01539\tvalidation_1-logloss:0.22790\n",
            "[154]\tvalidation_0-logloss:0.01535\tvalidation_1-logloss:0.22665\n",
            "[155]\tvalidation_0-logloss:0.01531\tvalidation_1-logloss:0.22680\n",
            "[156]\tvalidation_0-logloss:0.01528\tvalidation_1-logloss:0.22732\n",
            "[157]\tvalidation_0-logloss:0.01524\tvalidation_1-logloss:0.22709\n",
            "[158]\tvalidation_0-logloss:0.01520\tvalidation_1-logloss:0.22659\n",
            "[159]\tvalidation_0-logloss:0.01516\tvalidation_1-logloss:0.22616\n",
            "[160]\tvalidation_0-logloss:0.01513\tvalidation_1-logloss:0.22631\n",
            "[161]\tvalidation_0-logloss:0.01509\tvalidation_1-logloss:0.22510\n",
            "[162]\tvalidation_0-logloss:0.01506\tvalidation_1-logloss:0.22562\n",
            "[163]\tvalidation_0-logloss:0.01502\tvalidation_1-logloss:0.22539\n",
            "[164]\tvalidation_0-logloss:0.01499\tvalidation_1-logloss:0.22671\n",
            "[165]\tvalidation_0-logloss:0.01495\tvalidation_1-logloss:0.22625\n",
            "[166]\tvalidation_0-logloss:0.01492\tvalidation_1-logloss:0.22585\n",
            "[167]\tvalidation_0-logloss:0.01489\tvalidation_1-logloss:0.22583\n",
            "[168]\tvalidation_0-logloss:0.01485\tvalidation_1-logloss:0.22562\n",
            "[169]\tvalidation_0-logloss:0.01482\tvalidation_1-logloss:0.22520\n",
            "[170]\tvalidation_0-logloss:0.01479\tvalidation_1-logloss:0.22570\n",
            "[171]\tvalidation_0-logloss:0.01476\tvalidation_1-logloss:0.22587\n",
            "[172]\tvalidation_0-logloss:0.01472\tvalidation_1-logloss:0.22466\n",
            "[173]\tvalidation_0-logloss:0.01469\tvalidation_1-logloss:0.22592\n",
            "[174]\tvalidation_0-logloss:0.01466\tvalidation_1-logloss:0.22599\n",
            "[175]\tvalidation_0-logloss:0.01463\tvalidation_1-logloss:0.22556\n",
            "[176]\tvalidation_0-logloss:0.01460\tvalidation_1-logloss:0.22535\n",
            "[177]\tvalidation_0-logloss:0.01457\tvalidation_1-logloss:0.22655\n",
            "[178]\tvalidation_0-logloss:0.01454\tvalidation_1-logloss:0.22674\n",
            "[179]\tvalidation_0-logloss:0.01451\tvalidation_1-logloss:0.22565\n",
            "[180]\tvalidation_0-logloss:0.01448\tvalidation_1-logloss:0.22565\n",
            "[181]\tvalidation_0-logloss:0.01445\tvalidation_1-logloss:0.22526\n",
            "[182]\tvalidation_0-logloss:0.01442\tvalidation_1-logloss:0.22545\n",
            "[183]\tvalidation_0-logloss:0.01439\tvalidation_1-logloss:0.22504\n",
            "[184]\tvalidation_0-logloss:0.01436\tvalidation_1-logloss:0.22554\n",
            "[185]\tvalidation_0-logloss:0.01433\tvalidation_1-logloss:0.22533\n",
            "[186]\tvalidation_0-logloss:0.01431\tvalidation_1-logloss:0.22426\n",
            "[187]\tvalidation_0-logloss:0.01428\tvalidation_1-logloss:0.22545\n",
            "[188]\tvalidation_0-logloss:0.01425\tvalidation_1-logloss:0.22563\n",
            "[189]\tvalidation_0-logloss:0.01422\tvalidation_1-logloss:0.22525\n",
            "[190]\tvalidation_0-logloss:0.01419\tvalidation_1-logloss:0.22504\n",
            "[191]\tvalidation_0-logloss:0.01417\tvalidation_1-logloss:0.22523\n",
            "[192]\tvalidation_0-logloss:0.01414\tvalidation_1-logloss:0.22529\n",
            "[193]\tvalidation_0-logloss:0.01411\tvalidation_1-logloss:0.22492\n",
            "[194]\tvalidation_0-logloss:0.01409\tvalidation_1-logloss:0.22472\n",
            "[195]\tvalidation_0-logloss:0.01406\tvalidation_1-logloss:0.22589\n",
            "[196]\tvalidation_0-logloss:0.01403\tvalidation_1-logloss:0.22595\n",
            "[197]\tvalidation_0-logloss:0.01401\tvalidation_1-logloss:0.22646\n",
            "[198]\tvalidation_0-logloss:0.01399\tvalidation_1-logloss:0.22665\n",
            "[199]\tvalidation_0-logloss:0.01396\tvalidation_1-logloss:0.22628\n",
            "[200]\tvalidation_0-logloss:0.01393\tvalidation_1-logloss:0.22609\n",
            "[201]\tvalidation_0-logloss:0.01391\tvalidation_1-logloss:0.22572\n",
            "[202]\tvalidation_0-logloss:0.01388\tvalidation_1-logloss:0.22536\n",
            "[203]\tvalidation_0-logloss:0.01386\tvalidation_1-logloss:0.22586\n",
            "[204]\tvalidation_0-logloss:0.01384\tvalidation_1-logloss:0.22568\n",
            "[205]\tvalidation_0-logloss:0.01381\tvalidation_1-logloss:0.22678\n",
            "[206]\tvalidation_0-logloss:0.01379\tvalidation_1-logloss:0.22642\n",
            "[207]\tvalidation_0-logloss:0.01377\tvalidation_1-logloss:0.22690\n",
            "[208]\tvalidation_0-logloss:0.01375\tvalidation_1-logloss:0.22710\n",
            "[209]\tvalidation_0-logloss:0.01373\tvalidation_1-logloss:0.22676\n",
            "[210]\tvalidation_0-logloss:0.01371\tvalidation_1-logloss:0.22643\n",
            "[211]\tvalidation_0-logloss:0.01368\tvalidation_1-logloss:0.22624\n",
            "[212]\tvalidation_0-logloss:0.01366\tvalidation_1-logloss:0.22727\n",
            "[213]\tvalidation_0-logloss:0.01364\tvalidation_1-logloss:0.22693\n",
            "[214]\tvalidation_0-logloss:0.01362\tvalidation_1-logloss:0.22675\n",
            "[215]\tvalidation_0-logloss:0.01360\tvalidation_1-logloss:0.22644\n",
            "[216]\tvalidation_0-logloss:0.01357\tvalidation_1-logloss:0.22665\n",
            "[217]\tvalidation_0-logloss:0.01355\tvalidation_1-logloss:0.22685\n",
            "[218]\tvalidation_0-logloss:0.01353\tvalidation_1-logloss:0.22653\n",
            "[219]\tvalidation_0-logloss:0.01351\tvalidation_1-logloss:0.22622\n",
            "[220]\tvalidation_0-logloss:0.01350\tvalidation_1-logloss:0.22642\n",
            "[221]\tvalidation_0-logloss:0.01348\tvalidation_1-logloss:0.22612\n",
            "[222]\tvalidation_0-logloss:0.01346\tvalidation_1-logloss:0.22594\n",
            "[223]\tvalidation_0-logloss:0.01344\tvalidation_1-logloss:0.22641\n",
            "[224]\tvalidation_0-logloss:0.01342\tvalidation_1-logloss:0.22623\n",
            "[225]\tvalidation_0-logloss:0.01340\tvalidation_1-logloss:0.22668\n",
            "[226]\tvalidation_0-logloss:0.01338\tvalidation_1-logloss:0.22766\n",
            "[227]\tvalidation_0-logloss:0.01336\tvalidation_1-logloss:0.22736\n",
            "[228]\tvalidation_0-logloss:0.01334\tvalidation_1-logloss:0.22706\n",
            "[229]\tvalidation_0-logloss:0.01333\tvalidation_1-logloss:0.22727\n",
            "[230]\tvalidation_0-logloss:0.01331\tvalidation_1-logloss:0.22709\n",
            "[231]\tvalidation_0-logloss:0.01329\tvalidation_1-logloss:0.22694\n",
            "[232]\tvalidation_0-logloss:0.01327\tvalidation_1-logloss:0.22706\n",
            "[233]\tvalidation_0-logloss:0.01325\tvalidation_1-logloss:0.22676\n",
            "[234]\tvalidation_0-logloss:0.01324\tvalidation_1-logloss:0.22773\n",
            "[235]\tvalidation_0-logloss:0.01322\tvalidation_1-logloss:0.22743\n",
            "오차 행렬\n",
            "[[35  2]\n",
            " [ 2 75]]\n",
            "정확도: 0.9649, 정밀도: 0.9740, 재현율: 0.9740, F1: 0.9740, AUC: 0.9944\n"
          ]
        }
      ],
      "source": [
        "xgb_wrapper = XGBClassifier(n_estimators=400,\n",
        "                            learning_rate=round (best['learning_rate'], 5),\n",
        "                            max_depth=int(best['max_depth']),\n",
        "                            min_child_weight=int (best['min_child_weight']),\n",
        "                            colsample_bytree=round (best['colsample_bytree'], 5)\n",
        ")\n",
        "evals = [(X_tr, y_tr), (X_val, y_val)]\n",
        "xgb_wrapper.fit(X_tr, y_tr, early_stopping_rounds=50, eval_metric='logloss', eval_set=evals, verbose=True)\n",
        "preds = xgb_wrapper.predict(X_test)\n",
        "pred_proba = xgb_wrapper.predict_proba (X_test)[:, 1]\n",
        "get_clf_eval(y_test, preds, pred_proba)"
      ]
    }
  ],
  "metadata": {
    "colab": {
      "provenance": []
    },
    "kernelspec": {
      "display_name": "Python 3",
      "name": "python3"
    },
    "language_info": {
      "codemirror_mode": {
        "name": "ipython",
        "version": 3
      },
      "file_extension": ".py",
      "mimetype": "text/x-python",
      "name": "python",
      "nbconvert_exporter": "python",
      "pygments_lexer": "ipython3",
      "version": "3.11.3"
    }
  },
  "nbformat": 4,
  "nbformat_minor": 0
}
