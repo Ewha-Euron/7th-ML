{
 "cells": [
  {
   "cell_type": "markdown",
   "id": "c3f787b2-44f5-4482-b6e9-77a00b4a9181",
   "metadata": {},
   "source": [
    "5-9. 회귀 실습 - 자전거 대여 수요 예측"
   ]
  },
  {
   "cell_type": "markdown",
   "id": "45deb6e3-8261-4da2-87cb-b6bb5abbf927",
   "metadata": {},
   "source": [
    "1.데이터 클렌징 및 가공"
   ]
  },
  {
   "cell_type": "code",
   "execution_count": 1,
   "id": "c9e20e69-e325-4ac6-a4ac-6cb15b60b3b4",
   "metadata": {},
   "outputs": [
    {
     "name": "stdout",
     "output_type": "stream",
     "text": [
      "(10886, 12)\n"
     ]
    },
    {
     "data": {
      "text/html": [
       "<div>\n",
       "<style scoped>\n",
       "    .dataframe tbody tr th:only-of-type {\n",
       "        vertical-align: middle;\n",
       "    }\n",
       "\n",
       "    .dataframe tbody tr th {\n",
       "        vertical-align: top;\n",
       "    }\n",
       "\n",
       "    .dataframe thead th {\n",
       "        text-align: right;\n",
       "    }\n",
       "</style>\n",
       "<table border=\"1\" class=\"dataframe\">\n",
       "  <thead>\n",
       "    <tr style=\"text-align: right;\">\n",
       "      <th></th>\n",
       "      <th>datetime</th>\n",
       "      <th>season</th>\n",
       "      <th>holiday</th>\n",
       "      <th>workingday</th>\n",
       "      <th>weather</th>\n",
       "      <th>temp</th>\n",
       "      <th>atemp</th>\n",
       "      <th>humidity</th>\n",
       "      <th>windspeed</th>\n",
       "      <th>casual</th>\n",
       "      <th>registered</th>\n",
       "      <th>count</th>\n",
       "    </tr>\n",
       "  </thead>\n",
       "  <tbody>\n",
       "    <tr>\n",
       "      <th>0</th>\n",
       "      <td>2011-01-01 00:00:00</td>\n",
       "      <td>1</td>\n",
       "      <td>0</td>\n",
       "      <td>0</td>\n",
       "      <td>1</td>\n",
       "      <td>9.84</td>\n",
       "      <td>14.395</td>\n",
       "      <td>81</td>\n",
       "      <td>0.0</td>\n",
       "      <td>3</td>\n",
       "      <td>13</td>\n",
       "      <td>16</td>\n",
       "    </tr>\n",
       "    <tr>\n",
       "      <th>1</th>\n",
       "      <td>2011-01-01 01:00:00</td>\n",
       "      <td>1</td>\n",
       "      <td>0</td>\n",
       "      <td>0</td>\n",
       "      <td>1</td>\n",
       "      <td>9.02</td>\n",
       "      <td>13.635</td>\n",
       "      <td>80</td>\n",
       "      <td>0.0</td>\n",
       "      <td>8</td>\n",
       "      <td>32</td>\n",
       "      <td>40</td>\n",
       "    </tr>\n",
       "    <tr>\n",
       "      <th>2</th>\n",
       "      <td>2011-01-01 02:00:00</td>\n",
       "      <td>1</td>\n",
       "      <td>0</td>\n",
       "      <td>0</td>\n",
       "      <td>1</td>\n",
       "      <td>9.02</td>\n",
       "      <td>13.635</td>\n",
       "      <td>80</td>\n",
       "      <td>0.0</td>\n",
       "      <td>5</td>\n",
       "      <td>27</td>\n",
       "      <td>32</td>\n",
       "    </tr>\n",
       "    <tr>\n",
       "      <th>3</th>\n",
       "      <td>2011-01-01 03:00:00</td>\n",
       "      <td>1</td>\n",
       "      <td>0</td>\n",
       "      <td>0</td>\n",
       "      <td>1</td>\n",
       "      <td>9.84</td>\n",
       "      <td>14.395</td>\n",
       "      <td>75</td>\n",
       "      <td>0.0</td>\n",
       "      <td>3</td>\n",
       "      <td>10</td>\n",
       "      <td>13</td>\n",
       "    </tr>\n",
       "    <tr>\n",
       "      <th>4</th>\n",
       "      <td>2011-01-01 04:00:00</td>\n",
       "      <td>1</td>\n",
       "      <td>0</td>\n",
       "      <td>0</td>\n",
       "      <td>1</td>\n",
       "      <td>9.84</td>\n",
       "      <td>14.395</td>\n",
       "      <td>75</td>\n",
       "      <td>0.0</td>\n",
       "      <td>0</td>\n",
       "      <td>1</td>\n",
       "      <td>1</td>\n",
       "    </tr>\n",
       "  </tbody>\n",
       "</table>\n",
       "</div>"
      ],
      "text/plain": [
       "              datetime  season  holiday  ...  casual  registered  count\n",
       "0  2011-01-01 00:00:00       1        0  ...       3          13     16\n",
       "1  2011-01-01 01:00:00       1        0  ...       8          32     40\n",
       "2  2011-01-01 02:00:00       1        0  ...       5          27     32\n",
       "3  2011-01-01 03:00:00       1        0  ...       3          10     13\n",
       "4  2011-01-01 04:00:00       1        0  ...       0           1      1\n",
       "\n",
       "[5 rows x 12 columns]"
      ]
     },
     "execution_count": 1,
     "metadata": {},
     "output_type": "execute_result"
    }
   ],
   "source": [
    "import numpy as np\n",
    "import pandas as pd\n",
    "import seaborn as sns\n",
    "import matplotlib.pyplot as plt\n",
    "%matplotlib inline\n",
    "\n",
    "import warnings\n",
    "warnings.filterwarnings(\"ignore\",category=RuntimeWarning)\n",
    "\n",
    "bike_df=pd.read_csv('/Users/bluecloud/Documents/대학/유런/데이터셋/bike_train.csv')\n",
    "print(bike_df.shape)\n",
    "bike_df.head()"
   ]
  },
  {
   "cell_type": "code",
   "execution_count": 3,
   "id": "dd0a826d-5deb-46a3-8b80-a466359580ba",
   "metadata": {},
   "outputs": [
    {
     "name": "stdout",
     "output_type": "stream",
     "text": [
      "<class 'pandas.core.frame.DataFrame'>\n",
      "RangeIndex: 10886 entries, 0 to 10885\n",
      "Data columns (total 12 columns):\n",
      " #   Column      Non-Null Count  Dtype  \n",
      "---  ------      --------------  -----  \n",
      " 0   datetime    10886 non-null  object \n",
      " 1   season      10886 non-null  int64  \n",
      " 2   holiday     10886 non-null  int64  \n",
      " 3   workingday  10886 non-null  int64  \n",
      " 4   weather     10886 non-null  int64  \n",
      " 5   temp        10886 non-null  float64\n",
      " 6   atemp       10886 non-null  float64\n",
      " 7   humidity    10886 non-null  int64  \n",
      " 8   windspeed   10886 non-null  float64\n",
      " 9   casual      10886 non-null  int64  \n",
      " 10  registered  10886 non-null  int64  \n",
      " 11  count       10886 non-null  int64  \n",
      "dtypes: float64(3), int64(8), object(1)\n",
      "memory usage: 1020.7+ KB\n"
     ]
    }
   ],
   "source": [
    "bike_df.info()"
   ]
  },
  {
   "cell_type": "code",
   "execution_count": 5,
   "id": "98b4d509-2210-491a-9268-65e6816b446e",
   "metadata": {},
   "outputs": [
    {
     "data": {
      "text/html": [
       "<div>\n",
       "<style scoped>\n",
       "    .dataframe tbody tr th:only-of-type {\n",
       "        vertical-align: middle;\n",
       "    }\n",
       "\n",
       "    .dataframe tbody tr th {\n",
       "        vertical-align: top;\n",
       "    }\n",
       "\n",
       "    .dataframe thead th {\n",
       "        text-align: right;\n",
       "    }\n",
       "</style>\n",
       "<table border=\"1\" class=\"dataframe\">\n",
       "  <thead>\n",
       "    <tr style=\"text-align: right;\">\n",
       "      <th></th>\n",
       "      <th>datetime</th>\n",
       "      <th>season</th>\n",
       "      <th>holiday</th>\n",
       "      <th>workingday</th>\n",
       "      <th>weather</th>\n",
       "      <th>temp</th>\n",
       "      <th>atemp</th>\n",
       "      <th>humidity</th>\n",
       "      <th>windspeed</th>\n",
       "      <th>casual</th>\n",
       "      <th>registered</th>\n",
       "      <th>count</th>\n",
       "      <th>year</th>\n",
       "      <th>month</th>\n",
       "      <th>day</th>\n",
       "      <th>hour</th>\n",
       "    </tr>\n",
       "  </thead>\n",
       "  <tbody>\n",
       "    <tr>\n",
       "      <th>0</th>\n",
       "      <td>2011-01-01 00:00:00</td>\n",
       "      <td>1</td>\n",
       "      <td>0</td>\n",
       "      <td>0</td>\n",
       "      <td>1</td>\n",
       "      <td>9.84</td>\n",
       "      <td>14.395</td>\n",
       "      <td>81</td>\n",
       "      <td>0.0</td>\n",
       "      <td>3</td>\n",
       "      <td>13</td>\n",
       "      <td>16</td>\n",
       "      <td>2011</td>\n",
       "      <td>1</td>\n",
       "      <td>1</td>\n",
       "      <td>0</td>\n",
       "    </tr>\n",
       "    <tr>\n",
       "      <th>1</th>\n",
       "      <td>2011-01-01 01:00:00</td>\n",
       "      <td>1</td>\n",
       "      <td>0</td>\n",
       "      <td>0</td>\n",
       "      <td>1</td>\n",
       "      <td>9.02</td>\n",
       "      <td>13.635</td>\n",
       "      <td>80</td>\n",
       "      <td>0.0</td>\n",
       "      <td>8</td>\n",
       "      <td>32</td>\n",
       "      <td>40</td>\n",
       "      <td>2011</td>\n",
       "      <td>1</td>\n",
       "      <td>1</td>\n",
       "      <td>1</td>\n",
       "    </tr>\n",
       "    <tr>\n",
       "      <th>2</th>\n",
       "      <td>2011-01-01 02:00:00</td>\n",
       "      <td>1</td>\n",
       "      <td>0</td>\n",
       "      <td>0</td>\n",
       "      <td>1</td>\n",
       "      <td>9.02</td>\n",
       "      <td>13.635</td>\n",
       "      <td>80</td>\n",
       "      <td>0.0</td>\n",
       "      <td>5</td>\n",
       "      <td>27</td>\n",
       "      <td>32</td>\n",
       "      <td>2011</td>\n",
       "      <td>1</td>\n",
       "      <td>1</td>\n",
       "      <td>2</td>\n",
       "    </tr>\n",
       "  </tbody>\n",
       "</table>\n",
       "</div>"
      ],
      "text/plain": [
       "             datetime  season  holiday  workingday  ...  year  month  day  hour\n",
       "0 2011-01-01 00:00:00       1        0           0  ...  2011      1    1     0\n",
       "1 2011-01-01 01:00:00       1        0           0  ...  2011      1    1     1\n",
       "2 2011-01-01 02:00:00       1        0           0  ...  2011      1    1     2\n",
       "\n",
       "[3 rows x 16 columns]"
      ]
     },
     "execution_count": 5,
     "metadata": {},
     "output_type": "execute_result"
    }
   ],
   "source": [
    "# datetime 칼럼만 object형식  >> 문자열을 년도, 월, 일, 시간, 분, 초로 변환하기 위해'datetime' 타입으로 변경\n",
    "bike_df['datetime']=bike_df.datetime.apply(pd.to_datetime)\n",
    "\n",
    "#datetime 타입에서 년월일시간 추출\n",
    "bike_df['year']=bike_df.datetime.apply(lambda x:x.year)\n",
    "bike_df['month']=bike_df.datetime.apply(lambda x:x.month)\n",
    "bike_df['day']=bike_df.datetime.apply(lambda x:x.day)\n",
    "bike_df['hour']=bike_df.datetime.apply(lambda x:x.hour)\n",
    "bike_df.head(3)"
   ]
  },
  {
   "cell_type": "code",
   "execution_count": 7,
   "id": "d0e56857-ed5b-4129-83d6-c028c5db52c5",
   "metadata": {},
   "outputs": [],
   "source": [
    "# 기존 datetime 칼럼 삭제\n",
    "# 상관도가 높은 registered, casual 칼럼 삭제(등록x와 등록, 둘이 합치면 count)\n",
    "drop_columns=['datetime','registered','casual']\n",
    "bike_df.drop(drop_columns,axis=1,inplace=True)"
   ]
  },
  {
   "cell_type": "markdown",
   "id": "1fe1b83a-662e-41ef-83b5-a9867438f7c6",
   "metadata": {},
   "source": [
    "*오버플로우 오류 발생때문에 log()& mean_squared_error()보다는 log1p()으로"
   ]
  },
  {
   "cell_type": "code",
   "execution_count": 11,
   "id": "bc865bd4-c499-43ae-b7b5-3efa92709243",
   "metadata": {},
   "outputs": [],
   "source": [
    "#회귀 모델 적용하여 성능 평가 해보기 > RMSLE,MSE, RMSE\n",
    "from sklearn.metrics import mean_squared_error, mean_absolute_error\n",
    "\n",
    "# log 변환 값 변환 시 NaN 등의 이슈로 log()가 이닌 log1p()로 RMSLE 계산\n",
    "def rmsle(y,pred):\n",
    "    log_y=np.log1p(y)\n",
    "    log_pred=np.log1p(pred)\n",
    "    squared_error=(log_y-log_pred)**2\n",
    "    rmsle=np.sqrt(np.mean(squared_error))\n",
    "    return rmsle\n",
    "\n",
    "#사이킷런의 mean_squared_error()를 이용해 RMSE 계산\n",
    "def rmse(y,pred):\n",
    "    return np.sqrt(mean_squared_error(y,pred))\n",
    "\n",
    "#RMSLE,MSE,RMSE 계산\n",
    "def evaluate_regr(y,pred):\n",
    "    rmsle_val=rmsle(y,pred)\n",
    "    rmse_val=rmse(y,pred)\n",
    "    mae_val=mean_absolute_error(y,pred)\n",
    "    print('RMSLE: {0:.3f}, RMSE: {1:.3f}, MAE: {2:.3f}'.format(rmsle_val,rmse_val,mae_val))"
   ]
  },
  {
   "cell_type": "markdown",
   "id": "8332753d-66d9-4eb6-83ef-8657b4c52c9b",
   "metadata": {},
   "source": [
    "2. 로그 변환, 피처 인코딩과 모델 학습/예측/평가\n",
    "   - 결괏값이 정규 분포로 돼 있는지\n",
    "   - 카테고리형 회귀 모델의 경우 원-핫 인코딩으로 피처 인코딩"
   ]
  },
  {
   "cell_type": "code",
   "execution_count": 13,
   "id": "5aeacd05-60c1-4a81-b9ca-1b4db3e0a1b7",
   "metadata": {},
   "outputs": [
    {
     "name": "stdout",
     "output_type": "stream",
     "text": [
      "RMSLE: 1.165, RMSE: 140.900, MAE: 105.924\n"
     ]
    }
   ],
   "source": [
    "from sklearn.model_selection import train_test_split, GridSearchCV\n",
    "from sklearn.linear_model import LinearRegression,Ridge,Lasso\n",
    "\n",
    "y_target=bike_df['count']\n",
    "X_features=bike_df.drop(['count'],axis=1,inplace=False)\n",
    "X_train,X_test,y_train,y_test=train_test_split(X_features,y_target,test_size=0.3,random_state=0)\n",
    "\n",
    "lr_reg=LinearRegression()\n",
    "lr_reg.fit(X_train,y_train)\n",
    "pred=lr_reg.predict(X_test)\n",
    "\n",
    "evaluate_regr(y_test,pred)"
   ]
  },
  {
   "cell_type": "code",
   "execution_count": 15,
   "id": "af05f808-d327-441e-865a-e140b3f2e63a",
   "metadata": {},
   "outputs": [
    {
     "name": "stdout",
     "output_type": "stream",
     "text": [
      "      real_count  predicted_count   diff\n",
      "1618         890            322.0  568.0\n",
      "3151         798            241.0  557.0\n",
      "966          884            327.0  557.0\n",
      "412          745            194.0  551.0\n",
      "2817         856            310.0  546.0\n"
     ]
    }
   ],
   "source": [
    "#df의 칼럼으로 실제 대여 횟수와 예측값을 서로 비교할 수 있도록 생성\n",
    "def get_top_error_data(y_test,pred,n_tops=5):\n",
    "    result_df=pd.DataFrame(y_test.values,columns=['real_count'])\n",
    "    result_df['predicted_count']=np.round(pred)\n",
    "    result_df['diff']=np.abs(result_df['real_count']-result_df['predicted_count'])\n",
    "    # 예측값과 실제 값이 가장 큰 데이터 순으로 출력\n",
    "    print(result_df.sort_values('diff',ascending=False)[:n_tops])\n",
    "\n",
    "get_top_error_data(y_test,pred,n_tops=5)"
   ]
  },
  {
   "cell_type": "code",
   "execution_count": 17,
   "id": "64aafe06-dc43-4a2f-9844-8123165076a8",
   "metadata": {},
   "outputs": [
    {
     "data": {
      "text/plain": [
       "<Axes: >"
      ]
     },
     "execution_count": 17,
     "metadata": {},
     "output_type": "execute_result"
    },
    {
     "data": {
      "image/png": "[encoded data removed]",
      "text/plain": [
       "<Figure size 640x480 with 1 Axes>"
      ]
     },
     "metadata": {},
     "output_type": "display_data"
    }
   ],
   "source": [
    "#if 왜곡, 예측 성능 저하됨 > target값이 정규 분포를 이루고 있는지 확인\n",
    "y_target.hist()"
   ]
  },
  {
   "cell_type": "markdown",
   "id": "48c0d771-4034-4b2c-8fc8-bf802ff25f2d",
   "metadata": {},
   "source": [
    ">> 정규 분포가 아닌 0~200 사이에 왜곡됨 >> log1p()변환 사용"
   ]
  },
  {
   "cell_type": "code",
   "execution_count": 21,
   "id": "58309cf2-0b9b-46a1-869a-30b3286e54d5",
   "metadata": {},
   "outputs": [
    {
     "data": {
      "text/plain": [
       "<Axes: >"
      ]
     },
     "execution_count": 21,
     "metadata": {},
     "output_type": "execute_result"
    },
    {
     "data": {
      "image/png": "[encoded data removed]",
      "text/plain": [
       "<Figure size 640x480 with 1 Axes>"
      ]
     },
     "metadata": {},
     "output_type": "display_data"
    }
   ],
   "source": [
    "y_log_transform=np.log1p(y_target)\n",
    "y_log_transform.hist()"
   ]
  },
  {
   "cell_type": "code",
   "execution_count": 25,
   "id": "0b13228f-0a1e-4d45-88a4-7c28bf15cddd",
   "metadata": {},
   "outputs": [
    {
     "name": "stdout",
     "output_type": "stream",
     "text": [
      "RMSLE: 1.017, RMSE: 162.594, MAE: 109.286\n"
     ]
    }
   ],
   "source": [
    "# 로그로 target 값 변환 후(왜곡 정도가 향상) 학습한 후 평가\n",
    "\n",
    "# 타깃 칼럼인 count 값을 log1p로 로그 변환\n",
    "y_target_log=np.log1p(y_target)\n",
    "\n",
    "# 로그 변환된 y_target_log를 반영해 학습/테스트 데이터 세트 분할\n",
    "X_train,X_test,y_train,y_test=train_test_split(X_features,y_target_log,test_size=0.3,random_state=0)\n",
    "lr_reg=LinearRegression()\n",
    "lr_reg.fit(X_train,y_train)\n",
    "pred=lr_reg.predict(X_test)\n",
    "\n",
    "# 테스트 데이터 세트의 타깃값은 로그 변환됐으므로 expm1으로 원래 스케일 변환\n",
    "y_test_exp=np.expm1(y_test)\n",
    "\n",
    "# 예측값 역시 다시 expm1으로 원래 스케일 변환\n",
    "pred_exp=np.expm1(pred)\n",
    "\n",
    "evaluate_regr(y_test_exp,pred_exp)"
   ]
  },
  {
   "cell_type": "markdown",
   "id": "9c5ab585-b889-4011-9b7a-e90cd81adf71",
   "metadata": {},
   "source": [
    ">> RMSLE 오류는 줄어들었지만, RMSE는 늘어남"
   ]
  },
  {
   "cell_type": "code",
   "execution_count": 27,
   "id": "c07dcb99-6426-452f-8a88-5074f3016162",
   "metadata": {},
   "outputs": [
    {
     "data": {
      "text/plain": [
       "<Axes: ylabel='None'>"
      ]
     },
     "execution_count": 27,
     "metadata": {},
     "output_type": "execute_result"
    },
    {
     "data": {
      "image/png": "[encoded data removed]",
      "text/plain": [
       "<Figure size 640x480 with 1 Axes>"
      ]
     },
     "metadata": {},
     "output_type": "display_data"
    }
   ],
   "source": [
    "coef=pd.Series(lr_reg.coef_,index=X_features.columns)\n",
    "coef_sort=coef.sort_values(ascending=False)\n",
    "sns.barplot(x=coef_sort.values,y=coef_sort.index)"
   ]
  },
  {
   "cell_type": "markdown",
   "id": "a7377af9-ee6f-43ca-b2ed-31792cf06963",
   "metadata": {},
   "source": [
    ">> year의 회귀 계수 값이 독보적으로 큼 >> 2011,2012년 두 개의 값인데 대여 횟수에 크게 영향...을 줄리가\n",
    ">> 연도는 카테고리만을 위한 데이터 타입으로... 원-핫 인코딩\n"
   ]
  },
  {
   "cell_type": "code",
   "execution_count": 29,
   "id": "497a006a-d427-46ad-9792-9a8ac66b8898",
   "metadata": {},
   "outputs": [],
   "source": [
    "# 연도, 월, 일, 시간을 원 핫 인코딩\n",
    "X_features_ohe=pd.get_dummies(X_features,columns=['year', 'month', 'day', 'hour', 'holiday', 'workingday', 'season', 'weather'])\n"
   ]
  },
  {
   "cell_type": "code",
   "execution_count": 33,
   "id": "5cdcf0f1-9b6c-4239-9d1e-a7d3aca0edad",
   "metadata": {},
   "outputs": [
    {
     "name": "stdout",
     "output_type": "stream",
     "text": [
      "### LinearRegression ###\n",
      "RMSLE: 0.590, RMSE: 97.689, MAE: 63.382\n",
      "### Ridge ###\n",
      "RMSLE: 0.590, RMSE: 98.529, MAE: 63.893\n",
      "### Lasso ###\n",
      "RMSLE: 0.635, RMSE: 113.219, MAE: 72.803\n"
     ]
    }
   ],
   "source": [
    "# 원-핫 인코딩이 적용된 데이터 세트 기반으로 학습/예측 데이터 분할\n",
    "X_train,X_test,y_train,y_test=train_test_split(X_features_ohe,y_target_log,test_size=0.3,random_state=0)\n",
    "\n",
    "# 성능 수치를 반환하는 get_model_predict()함수를 만들기\n",
    "def get_model_predict(model,X_train,X_test,y_train,y_test,is_expm1=False):\n",
    "    model.fit(X_train,y_train)\n",
    "    pred=model.predict(X_test)\n",
    "    if is_expm1:\n",
    "        y_test=np.expm1(y_test)\n",
    "        pred=np.expm1(pred)\n",
    "    print(\"###\",model.__class__.__name__,\"###\")\n",
    "    evaluate_regr(y_test,pred)\n",
    "\n",
    "# 모델별로 평가 수행\n",
    "lr_reg=LinearRegression()\n",
    "ridge_reg=Ridge(alpha=10)\n",
    "lasso_reg=Lasso(alpha=0.01)\n",
    "\n",
    "for model in [lr_reg,ridge_reg,lasso_reg]:\n",
    "    get_model_predict(model,X_train,X_test,y_train,y_test,is_expm1=True)"
   ]
  },
  {
   "cell_type": "code",
   "execution_count": 35,
   "id": "a8f7b412-cf7c-455d-a989-04948dfa1cab",
   "metadata": {},
   "outputs": [
    {
     "data": {
      "text/plain": [
       "<Axes: ylabel='None'>"
      ]
     },
     "execution_count": 35,
     "metadata": {},
     "output_type": "execute_result"
    },
    {
     "data": {
      "image/png": "[encoded data removed]",
      "text/plain": [
       "<Figure size 640x480 with 1 Axes>"
      ]
     },
     "metadata": {},
     "output_type": "display_data"
    }
   ],
   "source": [
    "# 회귀 계수 상위 25개 피처 추출\n",
    "coef=pd.Series(lr_reg.coef_,index=X_features_ohe.columns)\n",
    "coef_sort=coef.sort_values(ascending=False)[:20]\n",
    "sns.barplot(x=coef_sort.values,y=coef_sort.index)"
   ]
  },
  {
   "cell_type": "markdown",
   "id": "ff480d16-cda2-44e4-8238-c5b38cc2ef65",
   "metadata": {},
   "source": [
    ">> 월과 관련 피처들과 workingday 관련 피처, hour 관련 피처들의 회귀 계수가 높다\n",
    ">> 피처의 인코딩이 성능에 큰 영향을 미친다..!"
   ]
  },
  {
   "cell_type": "code",
   "execution_count": 37,
   "id": "46dd2bdf-ad35-487b-8333-cdac944e9c5b",
   "metadata": {},
   "outputs": [
    {
     "name": "stdout",
     "output_type": "stream",
     "text": [
      "### RandomForestRegressor ###\n",
      "RMSLE: 0.355, RMSE: 50.374, MAE: 31.142\n",
      "### GradientBoostingRegressor ###\n",
      "RMSLE: 0.330, RMSE: 53.334, MAE: 32.746\n",
      "### XGBRegressor ###\n",
      "RMSLE: 0.339, RMSE: 51.475, MAE: 31.357\n",
      "[LightGBM] [Info] Auto-choosing row-wise multi-threading, the overhead of testing was 0.000650 seconds.\n",
      "You can set `force_row_wise=true` to remove the overhead.\n",
      "And if memory is not enough, you can set `force_col_wise=true`.\n",
      "[LightGBM] [Info] Total Bins 348\n",
      "[LightGBM] [Info] Number of data points in the train set: 7620, number of used features: 72\n",
      "[LightGBM] [Info] Start training from score 4.582043\n",
      "### LGBMRegressor ###\n",
      "RMSLE: 0.319, RMSE: 47.215, MAE: 29.029\n"
     ]
    }
   ],
   "source": [
    "# 회귀 트리로, 로그 변환과 원-핫 인코딩된 데이터 세트를 그대로 이용\n",
    "from sklearn.ensemble import RandomForestRegressor, GradientBoostingRegressor\n",
    "from xgboost import XGBRegressor\n",
    "from lightgbm import LGBMRegressor\n",
    "\n",
    "# 각 모델별로 평가 수행\n",
    "rf_reg=RandomForestRegressor(n_estimators=500)\n",
    "gbm_reg=GradientBoostingRegressor(n_estimators=500)\n",
    "xgb_reg=XGBRegressor(n_estimators=500)\n",
    "lgbm_reg=LGBMRegressor(n_estimators=500)\n",
    "\n",
    "for model in [rf_reg,gbm_reg,xgb_reg,lgbm_reg]:\n",
    "    get_model_predict(model,X_train.values,X_test.values,y_train.values,y_test.values,is_expm1=True)"
   ]
  },
  {
   "cell_type": "markdown",
   "id": "7ac79622-fac7-43c1-8aca-bb8f8472a8c8",
   "metadata": {},
   "source": [
    "5-10. 회귀 실습 - 캐글 주택 가격 : 고급 회귀 기법\n",
    "- 성능평가는 오류값을 로그 변환한 RMSLE를 기반으로"
   ]
  },
  {
   "cell_type": "markdown",
   "id": "05dc2b69-eff8-4a8e-8dac-b9735cfcb258",
   "metadata": {},
   "source": [
    "1. 데이터 사전 처리"
   ]
  },
  {
   "cell_type": "code",
   "execution_count": 39,
   "id": "6ed5a07c-129d-417f-9692-72bdcd66c714",
   "metadata": {},
   "outputs": [
    {
     "data": {
      "text/html": [
       "<div>\n",
       "<style scoped>\n",
       "    .dataframe tbody tr th:only-of-type {\n",
       "        vertical-align: middle;\n",
       "    }\n",
       "\n",
       "    .dataframe tbody tr th {\n",
       "        vertical-align: top;\n",
       "    }\n",
       "\n",
       "    .dataframe thead th {\n",
       "        text-align: right;\n",
       "    }\n",
       "</style>\n",
       "<table border=\"1\" class=\"dataframe\">\n",
       "  <thead>\n",
       "    <tr style=\"text-align: right;\">\n",
       "      <th></th>\n",
       "      <th>Id</th>\n",
       "      <th>MSSubClass</th>\n",
       "      <th>MSZoning</th>\n",
       "      <th>LotFrontage</th>\n",
       "      <th>LotArea</th>\n",
       "      <th>Street</th>\n",
       "      <th>Alley</th>\n",
       "      <th>LotShape</th>\n",
       "      <th>LandContour</th>\n",
       "      <th>Utilities</th>\n",
       "      <th>LotConfig</th>\n",
       "      <th>LandSlope</th>\n",
       "      <th>Neighborhood</th>\n",
       "      <th>Condition1</th>\n",
       "      <th>Condition2</th>\n",
       "      <th>BldgType</th>\n",
       "      <th>HouseStyle</th>\n",
       "      <th>OverallQual</th>\n",
       "      <th>OverallCond</th>\n",
       "      <th>YearBuilt</th>\n",
       "      <th>YearRemodAdd</th>\n",
       "      <th>RoofStyle</th>\n",
       "      <th>RoofMatl</th>\n",
       "      <th>Exterior1st</th>\n",
       "      <th>Exterior2nd</th>\n",
       "      <th>MasVnrType</th>\n",
       "      <th>MasVnrArea</th>\n",
       "      <th>ExterQual</th>\n",
       "      <th>ExterCond</th>\n",
       "      <th>Foundation</th>\n",
       "      <th>BsmtQual</th>\n",
       "      <th>BsmtCond</th>\n",
       "      <th>BsmtExposure</th>\n",
       "      <th>BsmtFinType1</th>\n",
       "      <th>BsmtFinSF1</th>\n",
       "      <th>BsmtFinType2</th>\n",
       "      <th>BsmtFinSF2</th>\n",
       "      <th>BsmtUnfSF</th>\n",
       "      <th>TotalBsmtSF</th>\n",
       "      <th>Heating</th>\n",
       "      <th>...</th>\n",
       "      <th>CentralAir</th>\n",
       "      <th>Electrical</th>\n",
       "      <th>1stFlrSF</th>\n",
       "      <th>2ndFlrSF</th>\n",
       "      <th>LowQualFinSF</th>\n",
       "      <th>GrLivArea</th>\n",
       "      <th>BsmtFullBath</th>\n",
       "      <th>BsmtHalfBath</th>\n",
       "      <th>FullBath</th>\n",
       "      <th>HalfBath</th>\n",
       "      <th>BedroomAbvGr</th>\n",
       "      <th>KitchenAbvGr</th>\n",
       "      <th>KitchenQual</th>\n",
       "      <th>TotRmsAbvGrd</th>\n",
       "      <th>Functional</th>\n",
       "      <th>Fireplaces</th>\n",
       "      <th>FireplaceQu</th>\n",
       "      <th>GarageType</th>\n",
       "      <th>GarageYrBlt</th>\n",
       "      <th>GarageFinish</th>\n",
       "      <th>GarageCars</th>\n",
       "      <th>GarageArea</th>\n",
       "      <th>GarageQual</th>\n",
       "      <th>GarageCond</th>\n",
       "      <th>PavedDrive</th>\n",
       "      <th>WoodDeckSF</th>\n",
       "      <th>OpenPorchSF</th>\n",
       "      <th>EnclosedPorch</th>\n",
       "      <th>3SsnPorch</th>\n",
       "      <th>ScreenPorch</th>\n",
       "      <th>PoolArea</th>\n",
       "      <th>PoolQC</th>\n",
       "      <th>Fence</th>\n",
       "      <th>MiscFeature</th>\n",
       "      <th>MiscVal</th>\n",
       "      <th>MoSold</th>\n",
       "      <th>YrSold</th>\n",
       "      <th>SaleType</th>\n",
       "      <th>SaleCondition</th>\n",
       "      <th>SalePrice</th>\n",
       "    </tr>\n",
       "  </thead>\n",
       "  <tbody>\n",
       "    <tr>\n",
       "      <th>0</th>\n",
       "      <td>1</td>\n",
       "      <td>60</td>\n",
       "      <td>RL</td>\n",
       "      <td>65.0</td>\n",
       "      <td>8450</td>\n",
       "      <td>Pave</td>\n",
       "      <td>NaN</td>\n",
       "      <td>Reg</td>\n",
       "      <td>Lvl</td>\n",
       "      <td>AllPub</td>\n",
       "      <td>Inside</td>\n",
       "      <td>Gtl</td>\n",
       "      <td>CollgCr</td>\n",
       "      <td>Norm</td>\n",
       "      <td>Norm</td>\n",
       "      <td>1Fam</td>\n",
       "      <td>2Story</td>\n",
       "      <td>7</td>\n",
       "      <td>5</td>\n",
       "      <td>2003</td>\n",
       "      <td>2003</td>\n",
       "      <td>Gable</td>\n",
       "      <td>CompShg</td>\n",
       "      <td>VinylSd</td>\n",
       "      <td>VinylSd</td>\n",
       "      <td>BrkFace</td>\n",
       "      <td>196.0</td>\n",
       "      <td>Gd</td>\n",
       "      <td>TA</td>\n",
       "      <td>PConc</td>\n",
       "      <td>Gd</td>\n",
       "      <td>TA</td>\n",
       "      <td>No</td>\n",
       "      <td>GLQ</td>\n",
       "      <td>706</td>\n",
       "      <td>Unf</td>\n",
       "      <td>0</td>\n",
       "      <td>150</td>\n",
       "      <td>856</td>\n",
       "      <td>GasA</td>\n",
       "      <td>...</td>\n",
       "      <td>Y</td>\n",
       "      <td>SBrkr</td>\n",
       "      <td>856</td>\n",
       "      <td>854</td>\n",
       "      <td>0</td>\n",
       "      <td>1710</td>\n",
       "      <td>1</td>\n",
       "      <td>0</td>\n",
       "      <td>2</td>\n",
       "      <td>1</td>\n",
       "      <td>3</td>\n",
       "      <td>1</td>\n",
       "      <td>Gd</td>\n",
       "      <td>8</td>\n",
       "      <td>Typ</td>\n",
       "      <td>0</td>\n",
       "      <td>NaN</td>\n",
       "      <td>Attchd</td>\n",
       "      <td>2003.0</td>\n",
       "      <td>RFn</td>\n",
       "      <td>2</td>\n",
       "      <td>548</td>\n",
       "      <td>TA</td>\n",
       "      <td>TA</td>\n",
       "      <td>Y</td>\n",
       "      <td>0</td>\n",
       "      <td>61</td>\n",
       "      <td>0</td>\n",
       "      <td>0</td>\n",
       "      <td>0</td>\n",
       "      <td>0</td>\n",
       "      <td>NaN</td>\n",
       "      <td>NaN</td>\n",
       "      <td>NaN</td>\n",
       "      <td>0</td>\n",
       "      <td>2</td>\n",
       "      <td>2008</td>\n",
       "      <td>WD</td>\n",
       "      <td>Normal</td>\n",
       "      <td>208500</td>\n",
       "    </tr>\n",
       "    <tr>\n",
       "      <th>1</th>\n",
       "      <td>2</td>\n",
       "      <td>20</td>\n",
       "      <td>RL</td>\n",
       "      <td>80.0</td>\n",
       "      <td>9600</td>\n",
       "      <td>Pave</td>\n",
       "      <td>NaN</td>\n",
       "      <td>Reg</td>\n",
       "      <td>Lvl</td>\n",
       "      <td>AllPub</td>\n",
       "      <td>FR2</td>\n",
       "      <td>Gtl</td>\n",
       "      <td>Veenker</td>\n",
       "      <td>Feedr</td>\n",
       "      <td>Norm</td>\n",
       "      <td>1Fam</td>\n",
       "      <td>1Story</td>\n",
       "      <td>6</td>\n",
       "      <td>8</td>\n",
       "      <td>1976</td>\n",
       "      <td>1976</td>\n",
       "      <td>Gable</td>\n",
       "      <td>CompShg</td>\n",
       "      <td>MetalSd</td>\n",
       "      <td>MetalSd</td>\n",
       "      <td>NaN</td>\n",
       "      <td>0.0</td>\n",
       "      <td>TA</td>\n",
       "      <td>TA</td>\n",
       "      <td>CBlock</td>\n",
       "      <td>Gd</td>\n",
       "      <td>TA</td>\n",
       "      <td>Gd</td>\n",
       "      <td>ALQ</td>\n",
       "      <td>978</td>\n",
       "      <td>Unf</td>\n",
       "      <td>0</td>\n",
       "      <td>284</td>\n",
       "      <td>1262</td>\n",
       "      <td>GasA</td>\n",
       "      <td>...</td>\n",
       "      <td>Y</td>\n",
       "      <td>SBrkr</td>\n",
       "      <td>1262</td>\n",
       "      <td>0</td>\n",
       "      <td>0</td>\n",
       "      <td>1262</td>\n",
       "      <td>0</td>\n",
       "      <td>1</td>\n",
       "      <td>2</td>\n",
       "      <td>0</td>\n",
       "      <td>3</td>\n",
       "      <td>1</td>\n",
       "      <td>TA</td>\n",
       "      <td>6</td>\n",
       "      <td>Typ</td>\n",
       "      <td>1</td>\n",
       "      <td>TA</td>\n",
       "      <td>Attchd</td>\n",
       "      <td>1976.0</td>\n",
       "      <td>RFn</td>\n",
       "      <td>2</td>\n",
       "      <td>460</td>\n",
       "      <td>TA</td>\n",
       "      <td>TA</td>\n",
       "      <td>Y</td>\n",
       "      <td>298</td>\n",
       "      <td>0</td>\n",
       "      <td>0</td>\n",
       "      <td>0</td>\n",
       "      <td>0</td>\n",
       "      <td>0</td>\n",
       "      <td>NaN</td>\n",
       "      <td>NaN</td>\n",
       "      <td>NaN</td>\n",
       "      <td>0</td>\n",
       "      <td>5</td>\n",
       "      <td>2007</td>\n",
       "      <td>WD</td>\n",
       "      <td>Normal</td>\n",
       "      <td>181500</td>\n",
       "    </tr>\n",
       "    <tr>\n",
       "      <th>2</th>\n",
       "      <td>3</td>\n",
       "      <td>60</td>\n",
       "      <td>RL</td>\n",
       "      <td>68.0</td>\n",
       "      <td>11250</td>\n",
       "      <td>Pave</td>\n",
       "      <td>NaN</td>\n",
       "      <td>IR1</td>\n",
       "      <td>Lvl</td>\n",
       "      <td>AllPub</td>\n",
       "      <td>Inside</td>\n",
       "      <td>Gtl</td>\n",
       "      <td>CollgCr</td>\n",
       "      <td>Norm</td>\n",
       "      <td>Norm</td>\n",
       "      <td>1Fam</td>\n",
       "      <td>2Story</td>\n",
       "      <td>7</td>\n",
       "      <td>5</td>\n",
       "      <td>2001</td>\n",
       "      <td>2002</td>\n",
       "      <td>Gable</td>\n",
       "      <td>CompShg</td>\n",
       "      <td>VinylSd</td>\n",
       "      <td>VinylSd</td>\n",
       "      <td>BrkFace</td>\n",
       "      <td>162.0</td>\n",
       "      <td>Gd</td>\n",
       "      <td>TA</td>\n",
       "      <td>PConc</td>\n",
       "      <td>Gd</td>\n",
       "      <td>TA</td>\n",
       "      <td>Mn</td>\n",
       "      <td>GLQ</td>\n",
       "      <td>486</td>\n",
       "      <td>Unf</td>\n",
       "      <td>0</td>\n",
       "      <td>434</td>\n",
       "      <td>920</td>\n",
       "      <td>GasA</td>\n",
       "      <td>...</td>\n",
       "      <td>Y</td>\n",
       "      <td>SBrkr</td>\n",
       "      <td>920</td>\n",
       "      <td>866</td>\n",
       "      <td>0</td>\n",
       "      <td>1786</td>\n",
       "      <td>1</td>\n",
       "      <td>0</td>\n",
       "      <td>2</td>\n",
       "      <td>1</td>\n",
       "      <td>3</td>\n",
       "      <td>1</td>\n",
       "      <td>Gd</td>\n",
       "      <td>6</td>\n",
       "      <td>Typ</td>\n",
       "      <td>1</td>\n",
       "      <td>TA</td>\n",
       "      <td>Attchd</td>\n",
       "      <td>2001.0</td>\n",
       "      <td>RFn</td>\n",
       "      <td>2</td>\n",
       "      <td>608</td>\n",
       "      <td>TA</td>\n",
       "      <td>TA</td>\n",
       "      <td>Y</td>\n",
       "      <td>0</td>\n",
       "      <td>42</td>\n",
       "      <td>0</td>\n",
       "      <td>0</td>\n",
       "      <td>0</td>\n",
       "      <td>0</td>\n",
       "      <td>NaN</td>\n",
       "      <td>NaN</td>\n",
       "      <td>NaN</td>\n",
       "      <td>0</td>\n",
       "      <td>9</td>\n",
       "      <td>2008</td>\n",
       "      <td>WD</td>\n",
       "      <td>Normal</td>\n",
       "      <td>223500</td>\n",
       "    </tr>\n",
       "  </tbody>\n",
       "</table>\n",
       "<p>3 rows × 81 columns</p>\n",
       "</div>"
      ],
      "text/plain": [
       "   Id  MSSubClass MSZoning  ...  SaleType  SaleCondition SalePrice\n",
       "0   1          60       RL  ...        WD         Normal    208500\n",
       "1   2          20       RL  ...        WD         Normal    181500\n",
       "2   3          60       RL  ...        WD         Normal    223500\n",
       "\n",
       "[3 rows x 81 columns]"
      ]
     },
     "execution_count": 39,
     "metadata": {},
     "output_type": "execute_result"
    }
   ],
   "source": [
    "import numpy as np\n",
    "import pandas as pd\n",
    "import seaborn as sns\n",
    "import matplotlib.pyplot as plt\n",
    "%matplotlib inline\n",
    "\n",
    "import warnings\n",
    "warnings.filterwarnings('ignore')\n",
    "\n",
    "house_df_org=pd.read_csv('/Users/bluecloud/Documents/대학/유런/데이터셋/house_price.csv')\n",
    "house_df=house_df_org.copy()\n",
    "house_df.head(3)"
   ]
  },
  {
   "cell_type": "code",
   "execution_count": 45,
   "id": "8bb870ab-894b-4e5d-89f0-be78a6c32209",
   "metadata": {},
   "outputs": [
    {
     "name": "stdout",
     "output_type": "stream",
     "text": [
      "데이터 세트의 Shape : (1460, 81)\n",
      "\n",
      "전체 피처의 type\n",
      " : object     43\n",
      "int64      35\n",
      "float64     3\n",
      "Name: count, dtype: int64\n",
      "\n",
      "Null 칼럼과 그 건수 : \n",
      " PoolQC          1453\n",
      "MiscFeature     1406\n",
      "Alley           1369\n",
      "Fence           1179\n",
      "MasVnrType       872\n",
      "FireplaceQu      690\n",
      "LotFrontage      259\n",
      "GarageType        81\n",
      "GarageYrBlt       81\n",
      "GarageFinish      81\n",
      "GarageQual        81\n",
      "GarageCond        81\n",
      "BsmtFinType2      38\n",
      "BsmtExposure      38\n",
      "BsmtFinType1      37\n",
      "BsmtCond          37\n",
      "BsmtQual          37\n",
      "MasVnrArea         8\n",
      "Electrical         1\n",
      "dtype: int64\n"
     ]
    }
   ],
   "source": [
    "# target값은 SalePrice, Null이 있는 칼럼과 건수를 내림차순으로 출력\n",
    "print('데이터 세트의 Shape :',house_df.shape)\n",
    "print('\\n전체 피처의 type\\n :',house_df.dtypes.value_counts())\n",
    "isnull_series=house_df.isnull().sum()\n",
    "print('\\nNull 칼럼과 그 건수 : \\n',isnull_series[isnull_series>0].sort_values(ascending=False))"
   ]
  },
  {
   "cell_type": "markdown",
   "id": "2377b432-8d77-4450-bd40-22fb887cc4c7",
   "metadata": {},
   "source": [
    ">> target 제외한 80개의 피처중 43개가 문자형\n",
    ">> Null 값이 많은 피처는 drop"
   ]
  },
  {
   "cell_type": "code",
   "execution_count": 49,
   "id": "54ab7d3d-90a2-4889-89ca-aab5873f1dda",
   "metadata": {},
   "outputs": [
    {
     "data": {
      "text/plain": [
       "<Axes: title={'center': 'Original Sale Price Histogram'}, xlabel='SalePrice', ylabel='Density'>"
      ]
     },
     "execution_count": 49,
     "metadata": {},
     "output_type": "execute_result"
    },
    {
     "data": {
      "image/png": "[encoded data removed]",
      "text/plain": [
       "<Figure size 640x480 with 1 Axes>"
      ]
     },
     "metadata": {},
     "output_type": "display_data"
    }
   ],
   "source": [
    "# 타깃값의 분포도가 정규분포인지 확인\n",
    "plt.title('Original Sale Price Histogram')\n",
    "sns.distplot(house_df['SalePrice'])"
   ]
  },
  {
   "cell_type": "code",
   "execution_count": 51,
   "id": "5df0cb73-8e7b-4984-b096-d0b1f5859e0d",
   "metadata": {},
   "outputs": [
    {
     "data": {
      "text/plain": [
       "<Axes: title={'center': 'Log Transformed Sale Price Histogram'}, xlabel='SalePrice', ylabel='Density'>"
      ]
     },
     "execution_count": 51,
     "metadata": {},
     "output_type": "execute_result"
    },
    {
     "data": {
      "image/png": "[encoded data removed]",
      "text/plain": [
       "<Figure size 640x480 with 1 Axes>"
      ]
     },
     "metadata": {},
     "output_type": "display_data"
    }
   ],
   "source": [
    "# 정규 분포 형태로 변환하기 위해 log1p()로 고르 변환, 결괏값은 expm1으로 환원\n",
    "plt.title('Log Transformed Sale Price Histogram')\n",
    "log_SalePrice=np.log1p(house_df['SalePrice'])\n",
    "sns.distplot(log_SalePrice)"
   ]
  },
  {
   "cell_type": "code",
   "execution_count": 55,
   "id": "c812fe22-17d4-4dab-9ebc-832fa930aec8",
   "metadata": {},
   "outputs": [
    {
     "name": "stdout",
     "output_type": "stream",
     "text": [
      "## Null 피처의 type :\n",
      " MasVnrType      object\n",
      "BsmtQual        object\n",
      "BsmtCond        object\n",
      "BsmtExposure    object\n",
      "BsmtFinType1    object\n",
      "BsmtFinType2    object\n",
      "Electrical      object\n",
      "GarageType      object\n",
      "GarageFinish    object\n",
      "GarageQual      object\n",
      "GarageCond      object\n",
      "dtype: object\n"
     ]
    }
   ],
   "source": [
    "# SalePrice 로그 변환\n",
    "original_SalePrice=house_df['SalePrice']\n",
    "house_df['SalePrice']=np.log1p(house_df['SalePrice'])\n",
    "\n",
    "#Null이 너무 많은 칼럼과 불필요한 칼럼 삭제\n",
    "house_df.drop(['Id','PoolQC','MiscFeature','Alley','Fence','FireplaceQu'], axis = 1 , inplace = True)\n",
    "\n",
    "#드롭하지 않은 숫자형 Null 칼럼은 평균값으로\n",
    "house_df.fillna(house_df.mean(numeric_only=True),inplace=True)\n",
    "\n",
    "#Null 값이 있는 피처명과 타입을 추출\n",
    "null_column_count=house_df.isnull().sum()[house_df.isnull().sum()>0]\n",
    "print(\"## Null 피처의 type :\\n\",house_df.dtypes[null_column_count.index])"
   ]
  },
  {
   "cell_type": "code",
   "execution_count": 59,
   "id": "bedb6e52-bb8e-40bb-bf7f-1abfc93b9fff",
   "metadata": {},
   "outputs": [
    {
     "name": "stdout",
     "output_type": "stream",
     "text": [
      "get_dummies() 수행 전 데이터 shape : (1460, 75)\n",
      "get_dummies() 수행 후 데이터 shape : (1460, 270)\n",
      "## Null 피처의 type :\n",
      " Series([], dtype: object)\n"
     ]
    }
   ],
   "source": [
    "#get_dummies로 원핫 인코딩 변환하기\n",
    "print('get_dummies() 수행 전 데이터 shape :',house_df.shape)\n",
    "house_df_ohe=pd.get_dummies(house_df)\n",
    "print('get_dummies() 수행 후 데이터 shape :',house_df_ohe.shape)\n",
    "\n",
    "#Null 값이 있는 피처명과 타입을 추출\n",
    "null_column_count=house_df_ohe.isnull().sum()[house_df_ohe.isnull().sum()>0]\n",
    "print(\"## Null 피처의 type :\\n\",house_df_ohe.dtypes[null_column_count.index])"
   ]
  },
  {
   "cell_type": "markdown",
   "id": "73f49a6e-292d-4382-8b6c-76c13358dee9",
   "metadata": {},
   "source": [
    "2. 선형 회귀 모델 학습/예측/평가\n",
    "- 예측값 >> 이미 로그 변환된 SalePrice 값을 기반으로 예측\n",
    ">> 예측 결과 오류에 RMSE만 적용하면 RMSLE는 자동으로 측정"
   ]
  },
  {
   "cell_type": "code",
   "execution_count": 61,
   "id": "6061a5e5-5c70-4af0-9392-e38504af67ad",
   "metadata": {},
   "outputs": [],
   "source": [
    "def get_rmse(model):\n",
    "    pred = model.predict(x_test)\n",
    "    mse  = mean_squared_error(y_test, pred)\n",
    "    rmse = np.sqrt(mse)\n",
    "    print(model.__class__.__name__,' 로그 변환된 RMSE:', np.round(rmse,3))\n",
    "    return rmse\n",
    "\n",
    "def get_rmses(models):\n",
    "    rmses = []\n",
    "    for model in models:\n",
    "        rmse = get_rmse(model)\n",
    "        rmses.append(rmse)\n",
    "    return rmses"
   ]
  },
  {
   "cell_type": "code",
   "execution_count": 86,
   "id": "2a60938c-2a40-40f2-ab24-322c3616b9aa",
   "metadata": {},
   "outputs": [
    {
     "name": "stdout",
     "output_type": "stream",
     "text": [
      "LinearRegression  로그 변환된 RMSE: 0.138\n",
      "Ridge  로그 변환된 RMSE: 0.141\n",
      "Lasso  로그 변환된 RMSE: 0.199\n"
     ]
    },
    {
     "data": {
      "text/plain": [
       "[0.13820313916742563, 0.1411103820313566, 0.1985573211729677]"
      ]
     },
     "execution_count": 86,
     "metadata": {},
     "output_type": "execute_result"
    }
   ],
   "source": [
    "# 선형 회귀 모델을 학습예측평가 ㄱ\n",
    "from sklearn.linear_model import LinearRegression, Ridge, Lasso\n",
    "from sklearn.metrics import mean_squared_error\n",
    "from sklearn.model_selection import train_test_split\n",
    "\n",
    "y_target = house_df_ohe['SalePrice']\n",
    "x_data = house_df_ohe.drop('SalePrice', axis = 1, inplace = False)\n",
    "x_train, x_test, y_train, y_test = train_test_split(x_data, y_target, test_size = 0.3, random_state = 1)\n",
    "\n",
    "# LinearRegression, Ridge, Lasso 학습, 예측, 평가\n",
    "lr_reg=LinearRegression()\n",
    "lr_reg.fit(x_train, y_train)\n",
    "lasso_reg= Lasso()\n",
    "lasso_reg.fit(x_train, y_train)\n",
    "ridge_reg= Ridge()\n",
    "ridge_reg.fit(x_train, y_train)\n",
    "\n",
    "models=[lr_reg,ridge_reg,lasso_reg]\n",
    "get_rmses(models)"
   ]
  },
  {
   "cell_type": "markdown",
   "id": "198e4729-beea-461b-b3b5-57dae85f30e9",
   "metadata": {},
   "source": [
    ">> 라쏘 회귀는 성능이 떨어져보임 >> 최적화 하이퍼 파라미터(alpha) 튜닝 필요"
   ]
  },
  {
   "cell_type": "code",
   "execution_count": 88,
   "id": "bafc10bb-5b4e-4e0e-bb19-3981b3f0d346",
   "metadata": {},
   "outputs": [
    {
     "ename": "ValueError",
     "evalue": "Length of values (269) does not match length of index (12)",
     "output_type": "error",
     "traceback": [
      "\u001b[0;31m---------------------------------------------------------------------------\u001b[0m",
      "\u001b[0;31mValueError\u001b[0m                                Traceback (most recent call last)",
      "Cell \u001b[0;32mIn[88], line 30\u001b[0m\n\u001b[1;32m     28\u001b[0m \u001b[38;5;66;03m# 시각화 \u001b[39;00m\n\u001b[1;32m     29\u001b[0m models\u001b[38;5;241m=\u001b[39m[lr_reg,lasso_reg,ridge_reg]\n\u001b[0;32m---> 30\u001b[0m visualize_coefficient(models)\n",
      "Cell \u001b[0;32mIn[88], line 19\u001b[0m, in \u001b[0;36mvisualize_coefficient\u001b[0;34m(models)\u001b[0m\n\u001b[1;32m     16\u001b[0m \u001b[38;5;66;03m# 입력인자로 받은 models에서 차례로 적용해서 회귀 계수 시각화\u001b[39;00m\n\u001b[1;32m     17\u001b[0m \u001b[38;5;28;01mfor\u001b[39;00m i_num, model \u001b[38;5;129;01min\u001b[39;00m \u001b[38;5;28menumerate\u001b[39m(models):\n\u001b[1;32m     18\u001b[0m     \u001b[38;5;66;03m# 상하위 10개를 회귀 계수 구하고 판다스 concat으로 결합\u001b[39;00m\n\u001b[0;32m---> 19\u001b[0m     coef_high,coef_low \u001b[38;5;241m=\u001b[39m get_top_bottom_coef(model)\n\u001b[1;32m     20\u001b[0m     coef_concat \u001b[38;5;241m=\u001b[39m pd\u001b[38;5;241m.\u001b[39mconcat([coef_high,coef_low])\n\u001b[1;32m     21\u001b[0m     \u001b[38;5;66;03m# 조절\u001b[39;00m\n",
      "Cell \u001b[0;32mIn[88], line 4\u001b[0m, in \u001b[0;36mget_top_bottom_coef\u001b[0;34m(model, n)\u001b[0m\n\u001b[1;32m      2\u001b[0m \u001b[38;5;28;01mdef\u001b[39;00m \u001b[38;5;21mget_top_bottom_coef\u001b[39m(model,n\u001b[38;5;241m=\u001b[39m\u001b[38;5;241m10\u001b[39m):\n\u001b[1;32m      3\u001b[0m     \u001b[38;5;66;03m#coef_ 속성을 기반으로 Series 객체 생성, index는 칼럼명\u001b[39;00m\n\u001b[0;32m----> 4\u001b[0m     coef\u001b[38;5;241m=\u001b[39mpd\u001b[38;5;241m.\u001b[39mSeries(model\u001b[38;5;241m.\u001b[39mcoef_,index\u001b[38;5;241m=\u001b[39mX_features\u001b[38;5;241m.\u001b[39mcolumns)\n\u001b[1;32m      6\u001b[0m     \u001b[38;5;66;03m#상하위 10개의 회귀 계수를 추출해 반환\u001b[39;00m\n\u001b[1;32m      7\u001b[0m     coef_high\u001b[38;5;241m=\u001b[39mcoef\u001b[38;5;241m.\u001b[39msort_values(ascending\u001b[38;5;241m=\u001b[39m\u001b[38;5;28;01mFalse\u001b[39;00m)\u001b[38;5;241m.\u001b[39mhead(n)\n",
      "File \u001b[0;32m/opt/anaconda3/lib/python3.12/site-packages/pandas/core/series.py:575\u001b[0m, in \u001b[0;36mSeries.__init__\u001b[0;34m(self, data, index, dtype, name, copy, fastpath)\u001b[0m\n\u001b[1;32m    573\u001b[0m     index \u001b[38;5;241m=\u001b[39m default_index(\u001b[38;5;28mlen\u001b[39m(data))\n\u001b[1;32m    574\u001b[0m \u001b[38;5;28;01melif\u001b[39;00m is_list_like(data):\n\u001b[0;32m--> 575\u001b[0m     com\u001b[38;5;241m.\u001b[39mrequire_length_match(data, index)\n\u001b[1;32m    577\u001b[0m \u001b[38;5;66;03m# create/copy the manager\u001b[39;00m\n\u001b[1;32m    578\u001b[0m \u001b[38;5;28;01mif\u001b[39;00m \u001b[38;5;28misinstance\u001b[39m(data, (SingleBlockManager, SingleArrayManager)):\n",
      "File \u001b[0;32m/opt/anaconda3/lib/python3.12/site-packages/pandas/core/common.py:573\u001b[0m, in \u001b[0;36mrequire_length_match\u001b[0;34m(data, index)\u001b[0m\n\u001b[1;32m    569\u001b[0m \u001b[38;5;250m\u001b[39m\u001b[38;5;124;03m\"\"\"\u001b[39;00m\n\u001b[1;32m    570\u001b[0m \u001b[38;5;124;03mCheck the length of data matches the length of the index.\u001b[39;00m\n\u001b[1;32m    571\u001b[0m \u001b[38;5;124;03m\"\"\"\u001b[39;00m\n\u001b[1;32m    572\u001b[0m \u001b[38;5;28;01mif\u001b[39;00m \u001b[38;5;28mlen\u001b[39m(data) \u001b[38;5;241m!=\u001b[39m \u001b[38;5;28mlen\u001b[39m(index):\n\u001b[0;32m--> 573\u001b[0m     \u001b[38;5;28;01mraise\u001b[39;00m \u001b[38;5;167;01mValueError\u001b[39;00m(\n\u001b[1;32m    574\u001b[0m         \u001b[38;5;124m\"\u001b[39m\u001b[38;5;124mLength of values \u001b[39m\u001b[38;5;124m\"\u001b[39m\n\u001b[1;32m    575\u001b[0m         \u001b[38;5;124mf\u001b[39m\u001b[38;5;124m\"\u001b[39m\u001b[38;5;124m(\u001b[39m\u001b[38;5;132;01m{\u001b[39;00m\u001b[38;5;28mlen\u001b[39m(data)\u001b[38;5;132;01m}\u001b[39;00m\u001b[38;5;124m) \u001b[39m\u001b[38;5;124m\"\u001b[39m\n\u001b[1;32m    576\u001b[0m         \u001b[38;5;124m\"\u001b[39m\u001b[38;5;124mdoes not match length of index \u001b[39m\u001b[38;5;124m\"\u001b[39m\n\u001b[1;32m    577\u001b[0m         \u001b[38;5;124mf\u001b[39m\u001b[38;5;124m\"\u001b[39m\u001b[38;5;124m(\u001b[39m\u001b[38;5;132;01m{\u001b[39;00m\u001b[38;5;28mlen\u001b[39m(index)\u001b[38;5;132;01m}\u001b[39;00m\u001b[38;5;124m)\u001b[39m\u001b[38;5;124m\"\u001b[39m\n\u001b[1;32m    578\u001b[0m     )\n",
      "\u001b[0;31mValueError\u001b[0m: Length of values (269) does not match length of index (12)"
     ]
    },
    {
     "data": {
      "image/png": "[encoded data removed]",
      "text/plain": [
       "<Figure size 2400x1000 with 3 Axes>"
      ]
     },
     "metadata": {},
     "output_type": "display_data"
    }
   ],
   "source": [
    "# 먼저 피처별 회귀 계수를 시각화, 모델별로 어떠한 회귀 계수로 구성되었는지 확인\n",
    "def get_top_bottom_coef(model,n=10):\n",
    "    #coef_ 속성을 기반으로 Series 객체 생성, index는 칼럼명\n",
    "    coef=pd.Series(model.coef_,index=X_features.columns)\n",
    "\n",
    "    #상하위 10개의 회귀 계수를 추출해 반환\n",
    "    coef_high=coef.sort_values(ascending=False).head(n)\n",
    "    coef_low=coef.sort_values(ascending=False).tail(n)\n",
    "    return coef_high,coef_low\n",
    "\n",
    "# 시각화 함수 \n",
    "def visualize_coefficient(models):\n",
    "    # 3개의 회귀 모델을 위해 3개의 칼럼을 갖는 subplot\n",
    "    fig, axs = plt.subplots(figsize=(24,10), nrows=1, ncols=3)\n",
    "    fig.tight_layout()\n",
    "    # 입력인자로 받은 models에서 차례로 적용해서 회귀 계수 시각화\n",
    "    for i_num, model in enumerate(models):\n",
    "        # 상하위 10개를 회귀 계수 구하고 판다스 concat으로 결합\n",
    "        coef_high,coef_low = get_top_bottom_coef(model)\n",
    "        coef_concat = pd.concat([coef_high,coef_low])\n",
    "        # 조절\n",
    "        axs[i_num].set_title(model.__class__.__name__+'Coefficients', size = 25)\n",
    "        axs[i_num].tick_params(axis=\"y\", direction=\"in\", pad =-120)\n",
    "        for label in (axs[i_num].get_xticklabels()+axs[i_num].get_yticklabels()):\n",
    "            label.set_fontsize(22)\n",
    "        sns.barplot(x=coef_concat.values, y=coef_concat.index, ax=axs[i_num])\n",
    "\n",
    "# 시각화 \n",
    "models=[lr_reg,lasso_reg,ridge_reg]\n",
    "visualize_coefficient(models)"
   ]
  },
  {
   "cell_type": "code",
   "execution_count": 90,
   "id": "dc78f257-e7b3-42da-926d-cd851857157e",
   "metadata": {},
   "outputs": [
    {
     "ename": "ValueError",
     "evalue": "Found input variables with inconsistent numbers of samples: [10886, 1460]",
     "output_type": "error",
     "traceback": [
      "\u001b[0;31m---------------------------------------------------------------------------\u001b[0m",
      "\u001b[0;31mValueError\u001b[0m                                Traceback (most recent call last)",
      "Cell \u001b[0;32mIn[90], line 13\u001b[0m\n\u001b[1;32m     10\u001b[0m         \u001b[38;5;28mprint\u001b[39m(\u001b[38;5;124m'\u001b[39m\u001b[38;5;130;01m\\n\u001b[39;00m\u001b[38;5;132;01m{}\u001b[39;00m\u001b[38;5;124m CV 평균 RMSE 값 : \u001b[39m\u001b[38;5;132;01m{}\u001b[39;00m\u001b[38;5;124m'\u001b[39m\u001b[38;5;241m.\u001b[39mformat(model\u001b[38;5;241m.\u001b[39m\u001b[38;5;18m__class__\u001b[39m\u001b[38;5;241m.\u001b[39m\u001b[38;5;18m__name__\u001b[39m,np\u001b[38;5;241m.\u001b[39mround(rmse_avg,\u001b[38;5;241m3\u001b[39m)))\n\u001b[1;32m     12\u001b[0m models\u001b[38;5;241m=\u001b[39m[lr_reg,lasso_reg,ridge_reg]\n\u001b[0;32m---> 13\u001b[0m get_avg_rmse_cv(models)\n",
      "Cell \u001b[0;32mIn[90], line 7\u001b[0m, in \u001b[0;36mget_avg_rmse_cv\u001b[0;34m(models)\u001b[0m\n\u001b[1;32m      4\u001b[0m \u001b[38;5;28;01mdef\u001b[39;00m \u001b[38;5;21mget_avg_rmse_cv\u001b[39m(models):\n\u001b[1;32m      6\u001b[0m     \u001b[38;5;28;01mfor\u001b[39;00m model \u001b[38;5;129;01min\u001b[39;00m models:\n\u001b[0;32m----> 7\u001b[0m         rmse_list \u001b[38;5;241m=\u001b[39m np\u001b[38;5;241m.\u001b[39msqrt(\u001b[38;5;241m-\u001b[39mcross_val_score(model, X_features, y_target, scoring \u001b[38;5;241m=\u001b[39m \u001b[38;5;124m\"\u001b[39m\u001b[38;5;124mneg_mean_squared_error\u001b[39m\u001b[38;5;124m\"\u001b[39m, cv\u001b[38;5;241m=\u001b[39m\u001b[38;5;241m5\u001b[39m))\n\u001b[1;32m      8\u001b[0m         rmse_avg \u001b[38;5;241m=\u001b[39m np\u001b[38;5;241m.\u001b[39mmean(rmse_list)\n\u001b[1;32m      9\u001b[0m         \u001b[38;5;28mprint\u001b[39m(\u001b[38;5;124m'\u001b[39m\u001b[38;5;130;01m\\n\u001b[39;00m\u001b[38;5;132;01m{}\u001b[39;00m\u001b[38;5;124m CV RMSE 값 리스트: \u001b[39m\u001b[38;5;132;01m{}\u001b[39;00m\u001b[38;5;124m'\u001b[39m\u001b[38;5;241m.\u001b[39mformat(model\u001b[38;5;241m.\u001b[39m\u001b[38;5;18m__class__\u001b[39m\u001b[38;5;241m.\u001b[39m\u001b[38;5;18m__name__\u001b[39m,np\u001b[38;5;241m.\u001b[39mround(rmse_list,\u001b[38;5;241m3\u001b[39m)))\n",
      "File \u001b[0;32m/opt/anaconda3/lib/python3.12/site-packages/sklearn/utils/_param_validation.py:213\u001b[0m, in \u001b[0;36mvalidate_params.<locals>.decorator.<locals>.wrapper\u001b[0;34m(*args, **kwargs)\u001b[0m\n\u001b[1;32m    207\u001b[0m \u001b[38;5;28;01mtry\u001b[39;00m:\n\u001b[1;32m    208\u001b[0m     \u001b[38;5;28;01mwith\u001b[39;00m config_context(\n\u001b[1;32m    209\u001b[0m         skip_parameter_validation\u001b[38;5;241m=\u001b[39m(\n\u001b[1;32m    210\u001b[0m             prefer_skip_nested_validation \u001b[38;5;129;01mor\u001b[39;00m global_skip_validation\n\u001b[1;32m    211\u001b[0m         )\n\u001b[1;32m    212\u001b[0m     ):\n\u001b[0;32m--> 213\u001b[0m         \u001b[38;5;28;01mreturn\u001b[39;00m func(\u001b[38;5;241m*\u001b[39margs, \u001b[38;5;241m*\u001b[39m\u001b[38;5;241m*\u001b[39mkwargs)\n\u001b[1;32m    214\u001b[0m \u001b[38;5;28;01mexcept\u001b[39;00m InvalidParameterError \u001b[38;5;28;01mas\u001b[39;00m e:\n\u001b[1;32m    215\u001b[0m     \u001b[38;5;66;03m# When the function is just a wrapper around an estimator, we allow\u001b[39;00m\n\u001b[1;32m    216\u001b[0m     \u001b[38;5;66;03m# the function to delegate validation to the estimator, but we replace\u001b[39;00m\n\u001b[1;32m    217\u001b[0m     \u001b[38;5;66;03m# the name of the estimator by the name of the function in the error\u001b[39;00m\n\u001b[1;32m    218\u001b[0m     \u001b[38;5;66;03m# message to avoid confusion.\u001b[39;00m\n\u001b[1;32m    219\u001b[0m     msg \u001b[38;5;241m=\u001b[39m re\u001b[38;5;241m.\u001b[39msub(\n\u001b[1;32m    220\u001b[0m         \u001b[38;5;124mr\u001b[39m\u001b[38;5;124m\"\u001b[39m\u001b[38;5;124mparameter of \u001b[39m\u001b[38;5;124m\\\u001b[39m\u001b[38;5;124mw+ must be\u001b[39m\u001b[38;5;124m\"\u001b[39m,\n\u001b[1;32m    221\u001b[0m         \u001b[38;5;124mf\u001b[39m\u001b[38;5;124m\"\u001b[39m\u001b[38;5;124mparameter of \u001b[39m\u001b[38;5;132;01m{\u001b[39;00mfunc\u001b[38;5;241m.\u001b[39m\u001b[38;5;18m__qualname__\u001b[39m\u001b[38;5;132;01m}\u001b[39;00m\u001b[38;5;124m must be\u001b[39m\u001b[38;5;124m\"\u001b[39m,\n\u001b[1;32m    222\u001b[0m         \u001b[38;5;28mstr\u001b[39m(e),\n\u001b[1;32m    223\u001b[0m     )\n",
      "File \u001b[0;32m/opt/anaconda3/lib/python3.12/site-packages/sklearn/model_selection/_validation.py:719\u001b[0m, in \u001b[0;36mcross_val_score\u001b[0;34m(estimator, X, y, groups, scoring, cv, n_jobs, verbose, fit_params, params, pre_dispatch, error_score)\u001b[0m\n\u001b[1;32m    716\u001b[0m \u001b[38;5;66;03m# To ensure multimetric format is not supported\u001b[39;00m\n\u001b[1;32m    717\u001b[0m scorer \u001b[38;5;241m=\u001b[39m check_scoring(estimator, scoring\u001b[38;5;241m=\u001b[39mscoring)\n\u001b[0;32m--> 719\u001b[0m cv_results \u001b[38;5;241m=\u001b[39m cross_validate(\n\u001b[1;32m    720\u001b[0m     estimator\u001b[38;5;241m=\u001b[39mestimator,\n\u001b[1;32m    721\u001b[0m     X\u001b[38;5;241m=\u001b[39mX,\n\u001b[1;32m    722\u001b[0m     y\u001b[38;5;241m=\u001b[39my,\n\u001b[1;32m    723\u001b[0m     groups\u001b[38;5;241m=\u001b[39mgroups,\n\u001b[1;32m    724\u001b[0m     scoring\u001b[38;5;241m=\u001b[39m{\u001b[38;5;124m\"\u001b[39m\u001b[38;5;124mscore\u001b[39m\u001b[38;5;124m\"\u001b[39m: scorer},\n\u001b[1;32m    725\u001b[0m     cv\u001b[38;5;241m=\u001b[39mcv,\n\u001b[1;32m    726\u001b[0m     n_jobs\u001b[38;5;241m=\u001b[39mn_jobs,\n\u001b[1;32m    727\u001b[0m     verbose\u001b[38;5;241m=\u001b[39mverbose,\n\u001b[1;32m    728\u001b[0m     fit_params\u001b[38;5;241m=\u001b[39mfit_params,\n\u001b[1;32m    729\u001b[0m     params\u001b[38;5;241m=\u001b[39mparams,\n\u001b[1;32m    730\u001b[0m     pre_dispatch\u001b[38;5;241m=\u001b[39mpre_dispatch,\n\u001b[1;32m    731\u001b[0m     error_score\u001b[38;5;241m=\u001b[39merror_score,\n\u001b[1;32m    732\u001b[0m )\n\u001b[1;32m    733\u001b[0m \u001b[38;5;28;01mreturn\u001b[39;00m cv_results[\u001b[38;5;124m\"\u001b[39m\u001b[38;5;124mtest_score\u001b[39m\u001b[38;5;124m\"\u001b[39m]\n",
      "File \u001b[0;32m/opt/anaconda3/lib/python3.12/site-packages/sklearn/utils/_param_validation.py:213\u001b[0m, in \u001b[0;36mvalidate_params.<locals>.decorator.<locals>.wrapper\u001b[0;34m(*args, **kwargs)\u001b[0m\n\u001b[1;32m    207\u001b[0m \u001b[38;5;28;01mtry\u001b[39;00m:\n\u001b[1;32m    208\u001b[0m     \u001b[38;5;28;01mwith\u001b[39;00m config_context(\n\u001b[1;32m    209\u001b[0m         skip_parameter_validation\u001b[38;5;241m=\u001b[39m(\n\u001b[1;32m    210\u001b[0m             prefer_skip_nested_validation \u001b[38;5;129;01mor\u001b[39;00m global_skip_validation\n\u001b[1;32m    211\u001b[0m         )\n\u001b[1;32m    212\u001b[0m     ):\n\u001b[0;32m--> 213\u001b[0m         \u001b[38;5;28;01mreturn\u001b[39;00m func(\u001b[38;5;241m*\u001b[39margs, \u001b[38;5;241m*\u001b[39m\u001b[38;5;241m*\u001b[39mkwargs)\n\u001b[1;32m    214\u001b[0m \u001b[38;5;28;01mexcept\u001b[39;00m InvalidParameterError \u001b[38;5;28;01mas\u001b[39;00m e:\n\u001b[1;32m    215\u001b[0m     \u001b[38;5;66;03m# When the function is just a wrapper around an estimator, we allow\u001b[39;00m\n\u001b[1;32m    216\u001b[0m     \u001b[38;5;66;03m# the function to delegate validation to the estimator, but we replace\u001b[39;00m\n\u001b[1;32m    217\u001b[0m     \u001b[38;5;66;03m# the name of the estimator by the name of the function in the error\u001b[39;00m\n\u001b[1;32m    218\u001b[0m     \u001b[38;5;66;03m# message to avoid confusion.\u001b[39;00m\n\u001b[1;32m    219\u001b[0m     msg \u001b[38;5;241m=\u001b[39m re\u001b[38;5;241m.\u001b[39msub(\n\u001b[1;32m    220\u001b[0m         \u001b[38;5;124mr\u001b[39m\u001b[38;5;124m\"\u001b[39m\u001b[38;5;124mparameter of \u001b[39m\u001b[38;5;124m\\\u001b[39m\u001b[38;5;124mw+ must be\u001b[39m\u001b[38;5;124m\"\u001b[39m,\n\u001b[1;32m    221\u001b[0m         \u001b[38;5;124mf\u001b[39m\u001b[38;5;124m\"\u001b[39m\u001b[38;5;124mparameter of \u001b[39m\u001b[38;5;132;01m{\u001b[39;00mfunc\u001b[38;5;241m.\u001b[39m\u001b[38;5;18m__qualname__\u001b[39m\u001b[38;5;132;01m}\u001b[39;00m\u001b[38;5;124m must be\u001b[39m\u001b[38;5;124m\"\u001b[39m,\n\u001b[1;32m    222\u001b[0m         \u001b[38;5;28mstr\u001b[39m(e),\n\u001b[1;32m    223\u001b[0m     )\n",
      "File \u001b[0;32m/opt/anaconda3/lib/python3.12/site-packages/sklearn/model_selection/_validation.py:351\u001b[0m, in \u001b[0;36mcross_validate\u001b[0;34m(estimator, X, y, groups, scoring, cv, n_jobs, verbose, fit_params, params, pre_dispatch, return_train_score, return_estimator, return_indices, error_score)\u001b[0m\n\u001b[1;32m    140\u001b[0m \u001b[38;5;250m\u001b[39m\u001b[38;5;124;03m\"\"\"Evaluate metric(s) by cross-validation and also record fit/score times.\u001b[39;00m\n\u001b[1;32m    141\u001b[0m \n\u001b[1;32m    142\u001b[0m \u001b[38;5;124;03mRead more in the :ref:`User Guide <multimetric_cross_validation>`.\u001b[39;00m\n\u001b[0;32m   (...)\u001b[0m\n\u001b[1;32m    347\u001b[0m \u001b[38;5;124;03m[0.28009951 0.3908844  0.22784907]\u001b[39;00m\n\u001b[1;32m    348\u001b[0m \u001b[38;5;124;03m\"\"\"\u001b[39;00m\n\u001b[1;32m    349\u001b[0m params \u001b[38;5;241m=\u001b[39m _check_params_groups_deprecation(fit_params, params, groups)\n\u001b[0;32m--> 351\u001b[0m X, y \u001b[38;5;241m=\u001b[39m indexable(X, y)\n\u001b[1;32m    353\u001b[0m cv \u001b[38;5;241m=\u001b[39m check_cv(cv, y, classifier\u001b[38;5;241m=\u001b[39mis_classifier(estimator))\n\u001b[1;32m    355\u001b[0m \u001b[38;5;28;01mif\u001b[39;00m \u001b[38;5;28mcallable\u001b[39m(scoring):\n",
      "File \u001b[0;32m/opt/anaconda3/lib/python3.12/site-packages/sklearn/utils/validation.py:514\u001b[0m, in \u001b[0;36mindexable\u001b[0;34m(*iterables)\u001b[0m\n\u001b[1;32m    484\u001b[0m \u001b[38;5;250m\u001b[39m\u001b[38;5;124;03m\"\"\"Make arrays indexable for cross-validation.\u001b[39;00m\n\u001b[1;32m    485\u001b[0m \n\u001b[1;32m    486\u001b[0m \u001b[38;5;124;03mChecks consistent length, passes through None, and ensures that everything\u001b[39;00m\n\u001b[0;32m   (...)\u001b[0m\n\u001b[1;32m    510\u001b[0m \u001b[38;5;124;03m[[1, 2, 3], array([2, 3, 4]), None, <3x1 sparse matrix ...>]\u001b[39;00m\n\u001b[1;32m    511\u001b[0m \u001b[38;5;124;03m\"\"\"\u001b[39;00m\n\u001b[1;32m    513\u001b[0m result \u001b[38;5;241m=\u001b[39m [_make_indexable(X) \u001b[38;5;28;01mfor\u001b[39;00m X \u001b[38;5;129;01min\u001b[39;00m iterables]\n\u001b[0;32m--> 514\u001b[0m check_consistent_length(\u001b[38;5;241m*\u001b[39mresult)\n\u001b[1;32m    515\u001b[0m \u001b[38;5;28;01mreturn\u001b[39;00m result\n",
      "File \u001b[0;32m/opt/anaconda3/lib/python3.12/site-packages/sklearn/utils/validation.py:457\u001b[0m, in \u001b[0;36mcheck_consistent_length\u001b[0;34m(*arrays)\u001b[0m\n\u001b[1;32m    455\u001b[0m uniques \u001b[38;5;241m=\u001b[39m np\u001b[38;5;241m.\u001b[39munique(lengths)\n\u001b[1;32m    456\u001b[0m \u001b[38;5;28;01mif\u001b[39;00m \u001b[38;5;28mlen\u001b[39m(uniques) \u001b[38;5;241m>\u001b[39m \u001b[38;5;241m1\u001b[39m:\n\u001b[0;32m--> 457\u001b[0m     \u001b[38;5;28;01mraise\u001b[39;00m \u001b[38;5;167;01mValueError\u001b[39;00m(\n\u001b[1;32m    458\u001b[0m         \u001b[38;5;124m\"\u001b[39m\u001b[38;5;124mFound input variables with inconsistent numbers of samples: \u001b[39m\u001b[38;5;132;01m%r\u001b[39;00m\u001b[38;5;124m\"\u001b[39m\n\u001b[1;32m    459\u001b[0m         \u001b[38;5;241m%\u001b[39m [\u001b[38;5;28mint\u001b[39m(l) \u001b[38;5;28;01mfor\u001b[39;00m l \u001b[38;5;129;01min\u001b[39;00m lengths]\n\u001b[1;32m    460\u001b[0m     )\n",
      "\u001b[0;31mValueError\u001b[0m: Found input variables with inconsistent numbers of samples: [10886, 1460]"
     ]
    }
   ],
   "source": [
    "#분활하지 않고 5개의 교차 검증 폴드 세트로 분할해 평균 RmSE 측정\n",
    "from sklearn.model_selection import cross_val_score\n",
    "\n",
    "def get_avg_rmse_cv(models):\n",
    "    \n",
    "    for model in models:\n",
    "        rmse_list = np.sqrt(-cross_val_score(model, X_features, y_target, scoring = \"neg_mean_squared_error\", cv=5))\n",
    "        rmse_avg = np.mean(rmse_list)\n",
    "        print('\\n{} CV RMSE 값 리스트: {}'.format(model.__class__.__name__,np.round(rmse_list,3)))\n",
    "        print('\\n{} CV 평균 RMSE 값 : {}'.format(model.__class__.__name__,np.round(rmse_avg,3)))\n",
    "        \n",
    "models=[lr_reg,lasso_reg,ridge_reg]\n",
    "get_avg_rmse_cv(models)"
   ]
  },
  {
   "cell_type": "code",
   "execution_count": 96,
   "id": "236036dd-9eb2-4dd5-a1b1-50e4df700026",
   "metadata": {},
   "outputs": [
    {
     "ename": "ValueError",
     "evalue": "Found input variables with inconsistent numbers of samples: [10886, 1460]",
     "output_type": "error",
     "traceback": [
      "\u001b[0;31m---------------------------------------------------------------------------\u001b[0m",
      "\u001b[0;31mValueError\u001b[0m                                Traceback (most recent call last)",
      "Cell \u001b[0;32mIn[96], line 11\u001b[0m\n\u001b[1;32m      9\u001b[0m ridge_params \u001b[38;5;241m=\u001b[39m {\u001b[38;5;124m'\u001b[39m\u001b[38;5;124malpha\u001b[39m\u001b[38;5;124m'\u001b[39m:[\u001b[38;5;241m0.05\u001b[39m,\u001b[38;5;241m0.1\u001b[39m,\u001b[38;5;241m1\u001b[39m,\u001b[38;5;241m5\u001b[39m,\u001b[38;5;241m8\u001b[39m,\u001b[38;5;241m10\u001b[39m,\u001b[38;5;241m12\u001b[39m,\u001b[38;5;241m15\u001b[39m,\u001b[38;5;241m20\u001b[39m]}\n\u001b[1;32m     10\u001b[0m lasso_params \u001b[38;5;241m=\u001b[39m {\u001b[38;5;124m'\u001b[39m\u001b[38;5;124malpha\u001b[39m\u001b[38;5;124m'\u001b[39m:[\u001b[38;5;241m0.001\u001b[39m,\u001b[38;5;241m0.005\u001b[39m,\u001b[38;5;241m0.008\u001b[39m,\u001b[38;5;241m0.05\u001b[39m,\u001b[38;5;241m0.03\u001b[39m,\u001b[38;5;241m0.1\u001b[39m,\u001b[38;5;241m0.5\u001b[39m,\u001b[38;5;241m1\u001b[39m,\u001b[38;5;241m5\u001b[39m,\u001b[38;5;241m10\u001b[39m]}\n\u001b[0;32m---> 11\u001b[0m print_best_params(ridge_reg,ridge_params)\n\u001b[1;32m     12\u001b[0m print_best_params(lasso_reg,lasso_params)\n",
      "Cell \u001b[0;32mIn[96], line 6\u001b[0m, in \u001b[0;36mprint_best_params\u001b[0;34m(model, params)\u001b[0m\n\u001b[1;32m      4\u001b[0m \u001b[38;5;28;01mdef\u001b[39;00m \u001b[38;5;21mprint_best_params\u001b[39m(model, params):\n\u001b[1;32m      5\u001b[0m     grid_model \u001b[38;5;241m=\u001b[39m GridSearchCV(model, param_grid \u001b[38;5;241m=\u001b[39m params, scoring \u001b[38;5;241m=\u001b[39m \u001b[38;5;124m\"\u001b[39m\u001b[38;5;124mneg_mean_squared_error\u001b[39m\u001b[38;5;124m\"\u001b[39m, cv\u001b[38;5;241m=\u001b[39m\u001b[38;5;241m5\u001b[39m)\n\u001b[0;32m----> 6\u001b[0m     grid_model\u001b[38;5;241m.\u001b[39mfit(X_features, y_target)\n\u001b[1;32m      7\u001b[0m     rmse \u001b[38;5;241m=\u001b[39m np\u001b[38;5;241m.\u001b[39msqrt(\u001b[38;5;241m-\u001b[39m\u001b[38;5;241m1\u001b[39m \u001b[38;5;241m*\u001b[39m grid_model\u001b[38;5;241m.\u001b[39mbest_score_)\n\u001b[1;32m      8\u001b[0m     \u001b[38;5;28mprint\u001b[39m(\u001b[38;5;124m'\u001b[39m\u001b[38;5;132;01m{0}\u001b[39;00m\u001b[38;5;124m 5 CV 시 최적 평균 RMSE 값 : \u001b[39m\u001b[38;5;132;01m{1}\u001b[39;00m\u001b[38;5;124m, 최적 alpha : \u001b[39m\u001b[38;5;132;01m{2}\u001b[39;00m\u001b[38;5;124m'\u001b[39m\u001b[38;5;241m.\u001b[39mformat(model\u001b[38;5;241m.\u001b[39m\u001b[38;5;18m__class__\u001b[39m\u001b[38;5;241m.\u001b[39m\u001b[38;5;18m__name__\u001b[39m,np\u001b[38;5;241m.\u001b[39mround(rmse,\u001b[38;5;241m4\u001b[39m),grid_model\u001b[38;5;241m.\u001b[39mbest_params_))\n",
      "File \u001b[0;32m/opt/anaconda3/lib/python3.12/site-packages/sklearn/base.py:1474\u001b[0m, in \u001b[0;36m_fit_context.<locals>.decorator.<locals>.wrapper\u001b[0;34m(estimator, *args, **kwargs)\u001b[0m\n\u001b[1;32m   1467\u001b[0m     estimator\u001b[38;5;241m.\u001b[39m_validate_params()\n\u001b[1;32m   1469\u001b[0m \u001b[38;5;28;01mwith\u001b[39;00m config_context(\n\u001b[1;32m   1470\u001b[0m     skip_parameter_validation\u001b[38;5;241m=\u001b[39m(\n\u001b[1;32m   1471\u001b[0m         prefer_skip_nested_validation \u001b[38;5;129;01mor\u001b[39;00m global_skip_validation\n\u001b[1;32m   1472\u001b[0m     )\n\u001b[1;32m   1473\u001b[0m ):\n\u001b[0;32m-> 1474\u001b[0m     \u001b[38;5;28;01mreturn\u001b[39;00m fit_method(estimator, \u001b[38;5;241m*\u001b[39margs, \u001b[38;5;241m*\u001b[39m\u001b[38;5;241m*\u001b[39mkwargs)\n",
      "File \u001b[0;32m/opt/anaconda3/lib/python3.12/site-packages/sklearn/model_selection/_search.py:874\u001b[0m, in \u001b[0;36mBaseSearchCV.fit\u001b[0;34m(self, X, y, **params)\u001b[0m\n\u001b[1;32m    869\u001b[0m \u001b[38;5;66;03m# Here we keep a dict of scorers as is, and only convert to a\u001b[39;00m\n\u001b[1;32m    870\u001b[0m \u001b[38;5;66;03m# _MultimetricScorer at a later stage. Issue:\u001b[39;00m\n\u001b[1;32m    871\u001b[0m \u001b[38;5;66;03m# https://github.com/scikit-learn/scikit-learn/issues/27001\u001b[39;00m\n\u001b[1;32m    872\u001b[0m scorers, refit_metric \u001b[38;5;241m=\u001b[39m \u001b[38;5;28mself\u001b[39m\u001b[38;5;241m.\u001b[39m_get_scorers(convert_multimetric\u001b[38;5;241m=\u001b[39m\u001b[38;5;28;01mFalse\u001b[39;00m)\n\u001b[0;32m--> 874\u001b[0m X, y \u001b[38;5;241m=\u001b[39m indexable(X, y)\n\u001b[1;32m    875\u001b[0m params \u001b[38;5;241m=\u001b[39m _check_method_params(X, params\u001b[38;5;241m=\u001b[39mparams)\n\u001b[1;32m    877\u001b[0m routed_params \u001b[38;5;241m=\u001b[39m \u001b[38;5;28mself\u001b[39m\u001b[38;5;241m.\u001b[39m_get_routed_params_for_fit(params)\n",
      "File \u001b[0;32m/opt/anaconda3/lib/python3.12/site-packages/sklearn/utils/validation.py:514\u001b[0m, in \u001b[0;36mindexable\u001b[0;34m(*iterables)\u001b[0m\n\u001b[1;32m    484\u001b[0m \u001b[38;5;250m\u001b[39m\u001b[38;5;124;03m\"\"\"Make arrays indexable for cross-validation.\u001b[39;00m\n\u001b[1;32m    485\u001b[0m \n\u001b[1;32m    486\u001b[0m \u001b[38;5;124;03mChecks consistent length, passes through None, and ensures that everything\u001b[39;00m\n\u001b[0;32m   (...)\u001b[0m\n\u001b[1;32m    510\u001b[0m \u001b[38;5;124;03m[[1, 2, 3], array([2, 3, 4]), None, <3x1 sparse matrix ...>]\u001b[39;00m\n\u001b[1;32m    511\u001b[0m \u001b[38;5;124;03m\"\"\"\u001b[39;00m\n\u001b[1;32m    513\u001b[0m result \u001b[38;5;241m=\u001b[39m [_make_indexable(X) \u001b[38;5;28;01mfor\u001b[39;00m X \u001b[38;5;129;01min\u001b[39;00m iterables]\n\u001b[0;32m--> 514\u001b[0m check_consistent_length(\u001b[38;5;241m*\u001b[39mresult)\n\u001b[1;32m    515\u001b[0m \u001b[38;5;28;01mreturn\u001b[39;00m result\n",
      "File \u001b[0;32m/opt/anaconda3/lib/python3.12/site-packages/sklearn/utils/validation.py:457\u001b[0m, in \u001b[0;36mcheck_consistent_length\u001b[0;34m(*arrays)\u001b[0m\n\u001b[1;32m    455\u001b[0m uniques \u001b[38;5;241m=\u001b[39m np\u001b[38;5;241m.\u001b[39munique(lengths)\n\u001b[1;32m    456\u001b[0m \u001b[38;5;28;01mif\u001b[39;00m \u001b[38;5;28mlen\u001b[39m(uniques) \u001b[38;5;241m>\u001b[39m \u001b[38;5;241m1\u001b[39m:\n\u001b[0;32m--> 457\u001b[0m     \u001b[38;5;28;01mraise\u001b[39;00m \u001b[38;5;167;01mValueError\u001b[39;00m(\n\u001b[1;32m    458\u001b[0m         \u001b[38;5;124m\"\u001b[39m\u001b[38;5;124mFound input variables with inconsistent numbers of samples: \u001b[39m\u001b[38;5;132;01m%r\u001b[39;00m\u001b[38;5;124m\"\u001b[39m\n\u001b[1;32m    459\u001b[0m         \u001b[38;5;241m%\u001b[39m [\u001b[38;5;28mint\u001b[39m(l) \u001b[38;5;28;01mfor\u001b[39;00m l \u001b[38;5;129;01min\u001b[39;00m lengths]\n\u001b[1;32m    460\u001b[0m     )\n",
      "\u001b[0;31mValueError\u001b[0m: Found input variables with inconsistent numbers of samples: [10886, 1460]"
     ]
    }
   ],
   "source": [
    "# 최적의 하이퍼 파라미터 값 출력\n",
    "from sklearn.model_selection import GridSearchCV\n",
    "\n",
    "def print_best_params(model, params):\n",
    "    grid_model = GridSearchCV(model, param_grid = params, scoring = \"neg_mean_squared_error\", cv=5)\n",
    "    grid_model.fit(X_features, y_target)\n",
    "    rmse = np.sqrt(-1 * grid_model.best_score_)\n",
    "    print('{0} 5 CV 시 최적 평균 RMSE 값 : {1}, 최적 alpha : {2}'.format(model.__class__.__name__,np.round(rmse,4),grid_model.best_params_))\n",
    "ridge_params = {'alpha':[0.05,0.1,1,5,8,10,12,15,20]}\n",
    "lasso_params = {'alpha':[0.001,0.005,0.008,0.05,0.03,0.1,0.5,1,5,10]}\n",
    "print_best_params(ridge_reg,ridge_params)\n",
    "print_best_params(lasso_reg,lasso_params)  "
   ]
  },
  {
   "cell_type": "code",
   "execution_count": 98,
   "id": "67f3bfb4-9f66-42d7-8ed9-6250d4618d48",
   "metadata": {},
   "outputs": [
    {
     "ename": "ValueError",
     "evalue": "Found input variables with inconsistent numbers of samples: [7620, 1022]",
     "output_type": "error",
     "traceback": [
      "\u001b[0;31m---------------------------------------------------------------------------\u001b[0m",
      "\u001b[0;31mValueError\u001b[0m                                Traceback (most recent call last)",
      "Cell \u001b[0;32mIn[98], line 3\u001b[0m\n\u001b[1;32m      1\u001b[0m \u001b[38;5;66;03m# 앞의 최적화 alpha 값으로 학습 데이터로 학습, 테스트 데이터로 예측 및 평가 수행\u001b[39;00m\n\u001b[1;32m      2\u001b[0m lr_reg\u001b[38;5;241m=\u001b[39mLinearRegression()\n\u001b[0;32m----> 3\u001b[0m lr_reg\u001b[38;5;241m.\u001b[39mfit(X_train, y_train)\n\u001b[1;32m      4\u001b[0m ridge_reg\u001b[38;5;241m=\u001b[39m Ridge(alpha \u001b[38;5;241m=\u001b[39m \u001b[38;5;241m12\u001b[39m)\n\u001b[1;32m      5\u001b[0m ridge_reg\u001b[38;5;241m.\u001b[39mfit(X_train, y_train)\n",
      "File \u001b[0;32m/opt/anaconda3/lib/python3.12/site-packages/sklearn/base.py:1474\u001b[0m, in \u001b[0;36m_fit_context.<locals>.decorator.<locals>.wrapper\u001b[0;34m(estimator, *args, **kwargs)\u001b[0m\n\u001b[1;32m   1467\u001b[0m     estimator\u001b[38;5;241m.\u001b[39m_validate_params()\n\u001b[1;32m   1469\u001b[0m \u001b[38;5;28;01mwith\u001b[39;00m config_context(\n\u001b[1;32m   1470\u001b[0m     skip_parameter_validation\u001b[38;5;241m=\u001b[39m(\n\u001b[1;32m   1471\u001b[0m         prefer_skip_nested_validation \u001b[38;5;129;01mor\u001b[39;00m global_skip_validation\n\u001b[1;32m   1472\u001b[0m     )\n\u001b[1;32m   1473\u001b[0m ):\n\u001b[0;32m-> 1474\u001b[0m     \u001b[38;5;28;01mreturn\u001b[39;00m fit_method(estimator, \u001b[38;5;241m*\u001b[39margs, \u001b[38;5;241m*\u001b[39m\u001b[38;5;241m*\u001b[39mkwargs)\n",
      "File \u001b[0;32m/opt/anaconda3/lib/python3.12/site-packages/sklearn/linear_model/_base.py:578\u001b[0m, in \u001b[0;36mLinearRegression.fit\u001b[0;34m(self, X, y, sample_weight)\u001b[0m\n\u001b[1;32m    574\u001b[0m n_jobs_ \u001b[38;5;241m=\u001b[39m \u001b[38;5;28mself\u001b[39m\u001b[38;5;241m.\u001b[39mn_jobs\n\u001b[1;32m    576\u001b[0m accept_sparse \u001b[38;5;241m=\u001b[39m \u001b[38;5;28;01mFalse\u001b[39;00m \u001b[38;5;28;01mif\u001b[39;00m \u001b[38;5;28mself\u001b[39m\u001b[38;5;241m.\u001b[39mpositive \u001b[38;5;28;01melse\u001b[39;00m [\u001b[38;5;124m\"\u001b[39m\u001b[38;5;124mcsr\u001b[39m\u001b[38;5;124m\"\u001b[39m, \u001b[38;5;124m\"\u001b[39m\u001b[38;5;124mcsc\u001b[39m\u001b[38;5;124m\"\u001b[39m, \u001b[38;5;124m\"\u001b[39m\u001b[38;5;124mcoo\u001b[39m\u001b[38;5;124m\"\u001b[39m]\n\u001b[0;32m--> 578\u001b[0m X, y \u001b[38;5;241m=\u001b[39m \u001b[38;5;28mself\u001b[39m\u001b[38;5;241m.\u001b[39m_validate_data(\n\u001b[1;32m    579\u001b[0m     X, y, accept_sparse\u001b[38;5;241m=\u001b[39maccept_sparse, y_numeric\u001b[38;5;241m=\u001b[39m\u001b[38;5;28;01mTrue\u001b[39;00m, multi_output\u001b[38;5;241m=\u001b[39m\u001b[38;5;28;01mTrue\u001b[39;00m\n\u001b[1;32m    580\u001b[0m )\n\u001b[1;32m    582\u001b[0m has_sw \u001b[38;5;241m=\u001b[39m sample_weight \u001b[38;5;129;01mis\u001b[39;00m \u001b[38;5;129;01mnot\u001b[39;00m \u001b[38;5;28;01mNone\u001b[39;00m\n\u001b[1;32m    583\u001b[0m \u001b[38;5;28;01mif\u001b[39;00m has_sw:\n",
      "File \u001b[0;32m/opt/anaconda3/lib/python3.12/site-packages/sklearn/base.py:650\u001b[0m, in \u001b[0;36mBaseEstimator._validate_data\u001b[0;34m(self, X, y, reset, validate_separately, cast_to_ndarray, **check_params)\u001b[0m\n\u001b[1;32m    648\u001b[0m         y \u001b[38;5;241m=\u001b[39m check_array(y, input_name\u001b[38;5;241m=\u001b[39m\u001b[38;5;124m\"\u001b[39m\u001b[38;5;124my\u001b[39m\u001b[38;5;124m\"\u001b[39m, \u001b[38;5;241m*\u001b[39m\u001b[38;5;241m*\u001b[39mcheck_y_params)\n\u001b[1;32m    649\u001b[0m     \u001b[38;5;28;01melse\u001b[39;00m:\n\u001b[0;32m--> 650\u001b[0m         X, y \u001b[38;5;241m=\u001b[39m check_X_y(X, y, \u001b[38;5;241m*\u001b[39m\u001b[38;5;241m*\u001b[39mcheck_params)\n\u001b[1;32m    651\u001b[0m     out \u001b[38;5;241m=\u001b[39m X, y\n\u001b[1;32m    653\u001b[0m \u001b[38;5;28;01mif\u001b[39;00m \u001b[38;5;129;01mnot\u001b[39;00m no_val_X \u001b[38;5;129;01mand\u001b[39;00m check_params\u001b[38;5;241m.\u001b[39mget(\u001b[38;5;124m\"\u001b[39m\u001b[38;5;124mensure_2d\u001b[39m\u001b[38;5;124m\"\u001b[39m, \u001b[38;5;28;01mTrue\u001b[39;00m):\n",
      "File \u001b[0;32m/opt/anaconda3/lib/python3.12/site-packages/sklearn/utils/validation.py:1281\u001b[0m, in \u001b[0;36mcheck_X_y\u001b[0;34m(X, y, accept_sparse, accept_large_sparse, dtype, order, copy, force_all_finite, ensure_2d, allow_nd, multi_output, ensure_min_samples, ensure_min_features, y_numeric, estimator)\u001b[0m\n\u001b[1;32m   1263\u001b[0m X \u001b[38;5;241m=\u001b[39m check_array(\n\u001b[1;32m   1264\u001b[0m     X,\n\u001b[1;32m   1265\u001b[0m     accept_sparse\u001b[38;5;241m=\u001b[39maccept_sparse,\n\u001b[0;32m   (...)\u001b[0m\n\u001b[1;32m   1276\u001b[0m     input_name\u001b[38;5;241m=\u001b[39m\u001b[38;5;124m\"\u001b[39m\u001b[38;5;124mX\u001b[39m\u001b[38;5;124m\"\u001b[39m,\n\u001b[1;32m   1277\u001b[0m )\n\u001b[1;32m   1279\u001b[0m y \u001b[38;5;241m=\u001b[39m _check_y(y, multi_output\u001b[38;5;241m=\u001b[39mmulti_output, y_numeric\u001b[38;5;241m=\u001b[39my_numeric, estimator\u001b[38;5;241m=\u001b[39mestimator)\n\u001b[0;32m-> 1281\u001b[0m check_consistent_length(X, y)\n\u001b[1;32m   1283\u001b[0m \u001b[38;5;28;01mreturn\u001b[39;00m X, y\n",
      "File \u001b[0;32m/opt/anaconda3/lib/python3.12/site-packages/sklearn/utils/validation.py:457\u001b[0m, in \u001b[0;36mcheck_consistent_length\u001b[0;34m(*arrays)\u001b[0m\n\u001b[1;32m    455\u001b[0m uniques \u001b[38;5;241m=\u001b[39m np\u001b[38;5;241m.\u001b[39munique(lengths)\n\u001b[1;32m    456\u001b[0m \u001b[38;5;28;01mif\u001b[39;00m \u001b[38;5;28mlen\u001b[39m(uniques) \u001b[38;5;241m>\u001b[39m \u001b[38;5;241m1\u001b[39m:\n\u001b[0;32m--> 457\u001b[0m     \u001b[38;5;28;01mraise\u001b[39;00m \u001b[38;5;167;01mValueError\u001b[39;00m(\n\u001b[1;32m    458\u001b[0m         \u001b[38;5;124m\"\u001b[39m\u001b[38;5;124mFound input variables with inconsistent numbers of samples: \u001b[39m\u001b[38;5;132;01m%r\u001b[39;00m\u001b[38;5;124m\"\u001b[39m\n\u001b[1;32m    459\u001b[0m         \u001b[38;5;241m%\u001b[39m [\u001b[38;5;28mint\u001b[39m(l) \u001b[38;5;28;01mfor\u001b[39;00m l \u001b[38;5;129;01min\u001b[39;00m lengths]\n\u001b[1;32m    460\u001b[0m     )\n",
      "\u001b[0;31mValueError\u001b[0m: Found input variables with inconsistent numbers of samples: [7620, 1022]"
     ]
    }
   ],
   "source": [
    "# 앞의 최적화 alpha 값으로 학습 데이터로 학습, 테스트 데이터로 예측 및 평가 수행\n",
    "lr_reg=LinearRegression()\n",
    "lr_reg.fit(X_train, y_train)\n",
    "ridge_reg= Ridge(alpha = 12)\n",
    "ridge_reg.fit(X_train, y_train)\n",
    "lasso_reg= Lasso(alpha = 0.001)\n",
    "lasso_reg.fit(X_train, y_train)\n",
    "\n",
    "#모든 모델의 RMSE 출력\n",
    "models = [lr_reg,ridge_reg,lasso_reg]\n",
    "get_rmses(models)\n",
    "\n",
    "#모든 모델의 회귀 계수 시각화\n",
    "models = [lr_reg,ridge_reg,lasso_reg]\n",
    "visualize_coefficient(models)"
   ]
  },
  {
   "cell_type": "code",
   "execution_count": 100,
   "id": "36635a0c-e497-4824-bf09-ff3000b753a2",
   "metadata": {},
   "outputs": [
    {
     "name": "stdout",
     "output_type": "stream",
     "text": [
      "MiscVal          24.451640\n",
      "PoolArea         14.813135\n",
      "LotArea          12.195142\n",
      "3SsnPorch        10.293752\n",
      "LowQualFinSF      9.002080\n",
      "KitchenAbvGr      4.483784\n",
      "BsmtFinSF2        4.250888\n",
      "ScreenPorch       4.117977\n",
      "BsmtHalfBath      4.099186\n",
      "EnclosedPorch     3.086696\n",
      "MasVnrArea        2.673661\n",
      "LotFrontage       2.382499\n",
      "OpenPorchSF       2.361912\n",
      "BsmtFinSF1        1.683771\n",
      "WoodDeckSF        1.539792\n",
      "TotalBsmtSF       1.522688\n",
      "MSSubClass        1.406210\n",
      "1stFlrSF          1.375342\n",
      "GrLivArea         1.365156\n",
      "dtype: float64\n"
     ]
    }
   ],
   "source": [
    "from scipy.stats import skew\n",
    "\n",
    "# 숫자형 칼럼 index 객체 추출\n",
    "features_index = house_df.dtypes[house_df.dtypes != 'object'].index\n",
    "# house_df에 칼럼 index를 입력하면 해당 칼럼 데이터 세트 반환\n",
    "skew_features = house_df[features_index].apply(lambda x : skew(x))\n",
    "# skew 왜곡 정도가 1이상인 칼럼만 추출\n",
    "skew_features_top = skew_features[skew_features > 1]\n",
    "print(skew_features_top.sort_values(ascending = False))"
   ]
  },
  {
   "cell_type": "code",
   "execution_count": 102,
   "id": "063b91a3-346c-4be2-b48a-2f9da8e665c6",
   "metadata": {},
   "outputs": [],
   "source": [
    "# 높은 피처를 로그 변환\n",
    "house_df[skew_features_top.index] = np.log1p(house_df[skew_features_top.index])"
   ]
  },
  {
   "cell_type": "code",
   "execution_count": 104,
   "id": "035a2069-03b8-4ab5-a9be-c88d25233f8f",
   "metadata": {},
   "outputs": [
    {
     "name": "stdout",
     "output_type": "stream",
     "text": [
      "Ridge 5 CV 시 최적 평균 RMSE 값 : 0.1275, 최적 alpha : {'alpha': 10}\n",
      "Lasso 5 CV 시 최적 평균 RMSE 값 : 0.1252, 최적 alpha : {'alpha': 0.001}\n"
     ]
    }
   ],
   "source": [
    "# 원핫 인코딩 적용하고 피처/타킷 데이터 세트 생성\n",
    "house_df_ohe = pd.get_dummies(house_df)\n",
    "y_target = house_df_ohe['SalePrice']\n",
    "X_features = house_df_ohe.drop('SalePrice', axis = 1, inplace = False)\n",
    "X_train, X_test, y_train, y_test = train_test_split(X_features , y_target, test_size = 0.2, random_state = 156)\n",
    "\n",
    "# 피처를 로그 변환한 후 최적 하이퍼 파라미터와 RMSE 출력\n",
    "\n",
    "ridge_params = {'alpha':[0.05,0.1,1,5,8,10,12,15,20]}\n",
    "lasso_params = {'alpha' : [0.001,0.005,0.008,0.05,0.03,0.1,0.5,1,5,10]}\n",
    "\n",
    "print_best_params(ridge, ridge_params)\n",
    "print_best_params(lasso, lasso_params)"
   ]
  },
  {
   "cell_type": "code",
   "execution_count": 106,
   "id": "c76f5671-e146-4476-87df-d45a70fec38c",
   "metadata": {},
   "outputs": [
    {
     "data": {
      "text/plain": [
       "Text(0.5, 0, 'GrLivArea')"
      ]
     },
     "execution_count": 106,
     "metadata": {},
     "output_type": "execute_result"
    },
    {
     "data": {
      "image/png": "[encoded data removed]",
      "text/plain": [
       "<Figure size 640x480 with 1 Axes>"
      ]
     },
     "metadata": {},
     "output_type": "display_data"
    }
   ],
   "source": [
    "# 이상치 데이터 분포 살펴보기\n",
    "plt.scatter(x=house_df_org['GrLivArea'],y=house_df_org['SalePrice'])\n",
    "plt.ylabel('SalePrice',fontsize=15)\n",
    "plt.xlabel('GrLivArea',fontsize=15)"
   ]
  },
  {
   "cell_type": "code",
   "execution_count": 110,
   "id": "99da7cde-5891-42df-be5d-7a6acca725b9",
   "metadata": {},
   "outputs": [
    {
     "name": "stdout",
     "output_type": "stream",
     "text": [
      "이상치 레코드 index : [ 523 1298]\n",
      "이상치 삭제 전 house_df_oh shape : (1460, 270)\n",
      "이상치 삭제 후 house_df_oh shape : (1458, 270)\n"
     ]
    }
   ],
   "source": [
    "# 4000평방피트 이상임에도 가격이 500,000달로 이하 데이터는 이상치로 간주\n",
    "\n",
    "# 로그변환되었으므로 이를 반영한 조건 생성\n",
    "cond1 = house_df_ohe['GrLivArea'] > np.log1p(4000)\n",
    "cond2 = house_df_ohe['SalePrice'] <= np.log1p(500000)\n",
    "outlier_index= house_df_ohe[cond1&cond2].index\n",
    "print('이상치 레코드 index :',outlier_index.values)\n",
    "print('이상치 삭제 전 house_df_oh shape :',house_df_ohe.shape)\n",
    "\n",
    "# 이상치 레코드 삭제\n",
    "house_df_ohe.drop(drop_index, axis=0, inplace=True)\n",
    "print('이상치 삭제 후 house_df_oh shape :',house_df_ohe.shape)"
   ]
  },
  {
   "cell_type": "code",
   "execution_count": 112,
   "id": "c793564b-2a72-4e2d-991b-30393700cdfd",
   "metadata": {},
   "outputs": [
    {
     "name": "stdout",
     "output_type": "stream",
     "text": [
      "Ridge 5 CV 시 최적 평균 RMSE 값 : 0.1125, 최적 alpha : {'alpha': 8}\n",
      "Lasso 5 CV 시 최적 평균 RMSE 값 : 0.1122, 최적 alpha : {'alpha': 0.001}\n"
     ]
    }
   ],
   "source": [
    "# 릿지와 라쏘 모델 최적화 수행\n",
    "#이상치가 제거된 데이터를 통해서 다시 데이터 분할\n",
    "\n",
    "y_target = house_df_ohe['SalePrice']\n",
    "X_features = house_df_ohe.drop('SalePrice', axis = 1, inplace = False)\n",
    "\n",
    "X_train, X_test, y_train, y_test = train_test_split(X_features, y_target, test_size = 0.2, random_state = 156)\n",
    "\n",
    "ridge_params = {'alpha':[0.05,0.1,1,5,8,10,12,15,20]}\n",
    "lasso_params = {'alpha':[0.001,0.005,0.008,0.05,0.03,0.1,0.5,1,5,10]}\n",
    "print_best_params(ridge_reg,ridge_params)\n",
    "print_best_params(lasso_reg,lasso_params)"
   ]
  },
  {
   "cell_type": "markdown",
   "id": "699c49f8-0ab6-4e59-befb-beff21c8138f",
   "metadata": {},
   "source": [
    "3. 회귀 트리 모델 학예평"
   ]
  },
  {
   "cell_type": "code",
   "execution_count": 114,
   "id": "f1d90d98-7fa4-4c1f-808e-13fb4c80410d",
   "metadata": {},
   "outputs": [
    {
     "name": "stdout",
     "output_type": "stream",
     "text": [
      "XGBRegressor 5 CV 시 최적 평균 RMSE 값 : 0.1181, 최적 alpha : {'n_estimators': 1000}\n"
     ]
    }
   ],
   "source": [
    "from xgboost import XGBRegressor\n",
    "\n",
    "xgb_params = {'n_estimators':[1000]}\n",
    "xgb_reg = XGBRegressor(n_estimators=1000, learning_rate=0.05, \n",
    "                       colsample_bytree=0.5, subsample=0.8)\n",
    "print_best_params(xgb_reg, xgb_params)"
   ]
  },
  {
   "cell_type": "code",
   "execution_count": 116,
   "id": "78e6825a-647c-4c67-9875-be9efa7c0971",
   "metadata": {},
   "outputs": [
    {
     "name": "stdout",
     "output_type": "stream",
     "text": [
      "[LightGBM] [Warning] Found whitespace in feature_names, replace with underlines\n",
      "[LightGBM] [Info] Auto-choosing row-wise multi-threading, the overhead of testing was 0.003905 seconds.\n",
      "You can set `force_row_wise=true` to remove the overhead.\n",
      "And if memory is not enough, you can set `force_col_wise=true`.\n",
      "[LightGBM] [Info] Total Bins 3155\n",
      "[LightGBM] [Info] Number of data points in the train set: 1166, number of used features: 171\n",
      "[LightGBM] [Info] Start training from score 12.021352\n",
      "[LightGBM] [Warning] Found whitespace in feature_names, replace with underlines\n",
      "[LightGBM] [Info] Auto-choosing row-wise multi-threading, the overhead of testing was 0.003058 seconds.\n",
      "You can set `force_row_wise=true` to remove the overhead.\n",
      "And if memory is not enough, you can set `force_col_wise=true`.\n",
      "[LightGBM] [Info] Total Bins 3167\n",
      "[LightGBM] [Info] Number of data points in the train set: 1166, number of used features: 168\n",
      "[LightGBM] [Info] Start training from score 12.023516\n",
      "[LightGBM] [Warning] Found whitespace in feature_names, replace with underlines\n",
      "[LightGBM] [Info] Auto-choosing row-wise multi-threading, the overhead of testing was 0.003057 seconds.\n",
      "You can set `force_row_wise=true` to remove the overhead.\n",
      "And if memory is not enough, you can set `force_col_wise=true`.\n",
      "[LightGBM] [Info] Total Bins 3161\n",
      "[LightGBM] [Info] Number of data points in the train set: 1166, number of used features: 171\n",
      "[LightGBM] [Info] Start training from score 12.020683\n",
      "[LightGBM] [Warning] Found whitespace in feature_names, replace with underlines\n",
      "[LightGBM] [Info] Auto-choosing row-wise multi-threading, the overhead of testing was 0.002697 seconds.\n",
      "You can set `force_row_wise=true` to remove the overhead.\n",
      "And if memory is not enough, you can set `force_col_wise=true`.\n",
      "[LightGBM] [Info] Total Bins 3179\n",
      "[LightGBM] [Info] Number of data points in the train set: 1167, number of used features: 168\n",
      "[LightGBM] [Info] Start training from score 12.032713\n",
      "[LightGBM] [Warning] Found whitespace in feature_names, replace with underlines\n",
      "[LightGBM] [Info] Auto-choosing row-wise multi-threading, the overhead of testing was 0.002812 seconds.\n",
      "You can set `force_row_wise=true` to remove the overhead.\n",
      "And if memory is not enough, you can set `force_col_wise=true`.\n",
      "[LightGBM] [Info] Total Bins 3166\n",
      "[LightGBM] [Info] Number of data points in the train set: 1167, number of used features: 171\n",
      "[LightGBM] [Info] Start training from score 12.021807\n",
      "[LightGBM] [Warning] Found whitespace in feature_names, replace with underlines\n",
      "[LightGBM] [Info] Auto-choosing row-wise multi-threading, the overhead of testing was 0.002977 seconds.\n",
      "You can set `force_row_wise=true` to remove the overhead.\n",
      "And if memory is not enough, you can set `force_col_wise=true`.\n",
      "[LightGBM] [Info] Total Bins 3434\n",
      "[LightGBM] [Info] Number of data points in the train set: 1458, number of used features: 177\n",
      "[LightGBM] [Info] Start training from score 12.024015\n",
      "LGBMRegressor 5 CV 시 최적 평균 RMSE 값 : 0.1179, 최적 alpha : {'n_estimators': 1000}\n"
     ]
    }
   ],
   "source": [
    "# lightgbm 회귀 트리 적용\n",
    "from lightgbm import LGBMRegressor\n",
    "\n",
    "lgbm_params = {'n_estimators':[1000]}\n",
    "lgbm_reg = LGBMRegressor(n_estimators=1000, learning_rate=0.05, num_leaves=4, \n",
    "                         subsample=0.6, colsample_bytree=0.4, reg_lambda=10, n_jobs=-1)\n",
    "print_best_params(lgbm_reg, lgbm_params)"
   ]
  },
  {
   "cell_type": "code",
   "execution_count": 120,
   "id": "e32bee94-b5d6-4873-98cf-4489ebc1f708",
   "metadata": {},
   "outputs": [
    {
     "name": "stdout",
     "output_type": "stream",
     "text": [
      "XGBRegressor 5 CV 시 최적 평균 RMSE 값 : 0.1181, 최적 alpha : {'n_estimators': 1000}\n",
      "[LightGBM] [Warning] Found whitespace in feature_names, replace with underlines\n",
      "[LightGBM] [Info] Auto-choosing row-wise multi-threading, the overhead of testing was 0.002867 seconds.\n",
      "You can set `force_row_wise=true` to remove the overhead.\n",
      "And if memory is not enough, you can set `force_col_wise=true`.\n",
      "[LightGBM] [Info] Total Bins 3155\n",
      "[LightGBM] [Info] Number of data points in the train set: 1166, number of used features: 171\n",
      "[LightGBM] [Info] Start training from score 12.021352\n",
      "[LightGBM] [Warning] Found whitespace in feature_names, replace with underlines\n",
      "[LightGBM] [Info] Auto-choosing row-wise multi-threading, the overhead of testing was 0.003411 seconds.\n",
      "You can set `force_row_wise=true` to remove the overhead.\n",
      "And if memory is not enough, you can set `force_col_wise=true`.\n",
      "[LightGBM] [Info] Total Bins 3167\n",
      "[LightGBM] [Info] Number of data points in the train set: 1166, number of used features: 168\n",
      "[LightGBM] [Info] Start training from score 12.023516\n",
      "[LightGBM] [Warning] Found whitespace in feature_names, replace with underlines\n",
      "[LightGBM] [Info] Auto-choosing row-wise multi-threading, the overhead of testing was 0.002871 seconds.\n",
      "You can set `force_row_wise=true` to remove the overhead.\n",
      "And if memory is not enough, you can set `force_col_wise=true`.\n",
      "[LightGBM] [Info] Total Bins 3161\n",
      "[LightGBM] [Info] Number of data points in the train set: 1166, number of used features: 171\n",
      "[LightGBM] [Info] Start training from score 12.020683\n",
      "[LightGBM] [Warning] Found whitespace in feature_names, replace with underlines\n",
      "[LightGBM] [Info] Auto-choosing row-wise multi-threading, the overhead of testing was 0.002761 seconds.\n",
      "You can set `force_row_wise=true` to remove the overhead.\n",
      "And if memory is not enough, you can set `force_col_wise=true`.\n",
      "[LightGBM] [Info] Total Bins 3179\n",
      "[LightGBM] [Info] Number of data points in the train set: 1167, number of used features: 168\n",
      "[LightGBM] [Info] Start training from score 12.032713\n",
      "[LightGBM] [Warning] Found whitespace in feature_names, replace with underlines\n",
      "[LightGBM] [Info] Auto-choosing row-wise multi-threading, the overhead of testing was 0.002760 seconds.\n",
      "You can set `force_row_wise=true` to remove the overhead.\n",
      "And if memory is not enough, you can set `force_col_wise=true`.\n",
      "[LightGBM] [Info] Total Bins 3166\n",
      "[LightGBM] [Info] Number of data points in the train set: 1167, number of used features: 171\n",
      "[LightGBM] [Info] Start training from score 12.021807\n",
      "[LightGBM] [Warning] Found whitespace in feature_names, replace with underlines\n",
      "[LightGBM] [Info] Auto-choosing row-wise multi-threading, the overhead of testing was 0.003076 seconds.\n",
      "You can set `force_row_wise=true` to remove the overhead.\n",
      "And if memory is not enough, you can set `force_col_wise=true`.\n",
      "[LightGBM] [Info] Total Bins 3434\n",
      "[LightGBM] [Info] Number of data points in the train set: 1458, number of used features: 177\n",
      "[LightGBM] [Info] Start training from score 12.024015\n",
      "LGBMRegressor 5 CV 시 최적 평균 RMSE 값 : 0.1179, 최적 alpha : {'n_estimators': 1000}\n"
     ]
    },
    {
     "ename": "AttributeError",
     "evalue": "'NoneType' object has no attribute 'feature_importances_'",
     "output_type": "error",
     "traceback": [
      "\u001b[0;31m---------------------------------------------------------------------------\u001b[0m",
      "\u001b[0;31mAttributeError\u001b[0m                            Traceback (most recent call last)",
      "Cell \u001b[0;32mIn[120], line 27\u001b[0m\n\u001b[1;32m     25\u001b[0m \u001b[38;5;66;03m# 앞 예제에서 print_best_params( )가 반환한 GridSearchCV로 최적화된 모델의 피처 중요도 시각화    \u001b[39;00m\n\u001b[1;32m     26\u001b[0m models \u001b[38;5;241m=\u001b[39m [best_xgb, best_lgbm]\n\u001b[0;32m---> 27\u001b[0m visualize_ftr_importances(models)\n",
      "Cell \u001b[0;32mIn[120], line 18\u001b[0m, in \u001b[0;36mvisualize_ftr_importances\u001b[0;34m(models)\u001b[0m\n\u001b[1;32m     15\u001b[0m \u001b[38;5;66;03m# 입력인자로 받은 list객체인 models에서 차례로 model을 추출하여 피처 중요도 시각화. \u001b[39;00m\n\u001b[1;32m     16\u001b[0m \u001b[38;5;28;01mfor\u001b[39;00m i_num, model \u001b[38;5;129;01min\u001b[39;00m \u001b[38;5;28menumerate\u001b[39m(models):\n\u001b[1;32m     17\u001b[0m     \u001b[38;5;66;03m# 중요도 상위 20개의 피처명과 그때의 중요도값 추출 \u001b[39;00m\n\u001b[0;32m---> 18\u001b[0m     ftr_top20 \u001b[38;5;241m=\u001b[39m get_top_features(model)\n\u001b[1;32m     19\u001b[0m     axs[i_num]\u001b[38;5;241m.\u001b[39mset_title(model\u001b[38;5;241m.\u001b[39m\u001b[38;5;18m__class__\u001b[39m\u001b[38;5;241m.\u001b[39m\u001b[38;5;18m__name__\u001b[39m\u001b[38;5;241m+\u001b[39m\u001b[38;5;124m'\u001b[39m\u001b[38;5;124m Feature Importances\u001b[39m\u001b[38;5;124m'\u001b[39m, size\u001b[38;5;241m=\u001b[39m\u001b[38;5;241m25\u001b[39m)\n\u001b[1;32m     20\u001b[0m     \u001b[38;5;66;03m#font 크기 조정.\u001b[39;00m\n",
      "Cell \u001b[0;32mIn[120], line 6\u001b[0m, in \u001b[0;36mget_top_features\u001b[0;34m(model)\u001b[0m\n\u001b[1;32m      5\u001b[0m \u001b[38;5;28;01mdef\u001b[39;00m \u001b[38;5;21mget_top_features\u001b[39m(model):\n\u001b[0;32m----> 6\u001b[0m     ftr_importances_values \u001b[38;5;241m=\u001b[39m model\u001b[38;5;241m.\u001b[39mfeature_importances_\n\u001b[1;32m      7\u001b[0m     ftr_importances \u001b[38;5;241m=\u001b[39m pd\u001b[38;5;241m.\u001b[39mSeries(ftr_importances_values, index\u001b[38;5;241m=\u001b[39mX_features\u001b[38;5;241m.\u001b[39mcolumns  )\n\u001b[1;32m      8\u001b[0m     ftr_top20 \u001b[38;5;241m=\u001b[39m ftr_importances\u001b[38;5;241m.\u001b[39msort_values(ascending\u001b[38;5;241m=\u001b[39m\u001b[38;5;28;01mFalse\u001b[39;00m)[:\u001b[38;5;241m20\u001b[39m]\n",
      "\u001b[0;31mAttributeError\u001b[0m: 'NoneType' object has no attribute 'feature_importances_'"
     ]
    },
    {
     "data": {
      "image/png": "[encoded data removed]",
      "text/plain": [
       "<Figure size 2400x1000 with 2 Axes>"
      ]
     },
     "metadata": {},
     "output_type": "display_data"
    }
   ],
   "source": [
    "# 모델의 피처 중요도 시각화\n",
    "# 모델의 중요도 상위 20개의 피처명과 그때의 중요도값을 Series로 반환.\n",
    "best_xgb = print_best_params(xgb_reg, xgb_params)\n",
    "best_lgbm = print_best_params(lgbm_reg, lgbm_params)\n",
    "def get_top_features(model):\n",
    "    ftr_importances_values = model.feature_importances_\n",
    "    ftr_importances = pd.Series(ftr_importances_values, index=X_features.columns  )\n",
    "    ftr_top20 = ftr_importances.sort_values(ascending=False)[:20]\n",
    "    return ftr_top20\n",
    "\n",
    "def visualize_ftr_importances(models):\n",
    "    # 2개 회귀 모델의 시각화를 위해 2개의 컬럼을 가지는 subplot 생성\n",
    "    fig, axs = plt.subplots(figsize=(24,10),nrows=1, ncols=2)\n",
    "    fig.tight_layout() \n",
    "    # 입력인자로 받은 list객체인 models에서 차례로 model을 추출하여 피처 중요도 시각화. \n",
    "    for i_num, model in enumerate(models):\n",
    "        # 중요도 상위 20개의 피처명과 그때의 중요도값 추출 \n",
    "        ftr_top20 = get_top_features(model)\n",
    "        axs[i_num].set_title(model.__class__.__name__+' Feature Importances', size=25)\n",
    "        #font 크기 조정.\n",
    "        for label in (axs[i_num].get_xticklabels() + axs[i_num].get_yticklabels()):\n",
    "            label.set_fontsize(22)\n",
    "        sns.barplot(x=ftr_top20.values, y=ftr_top20.index , ax=axs[i_num])\n",
    "\n",
    "# 앞 예제에서 print_best_params( )가 반환한 GridSearchCV로 최적화된 모델의 피처 중요도 시각화    \n",
    "models = [best_xgb, best_lgbm]\n",
    "visualize_ftr_importances(models)"
   ]
  },
  {
   "cell_type": "markdown",
   "id": "82400ac6-cc1c-4bf6-9eae-55096e472d4a",
   "metadata": {},
   "source": [
    "4. 회귀 모델의 예측 결과 혼합을 통한 최종 예측"
   ]
  },
  {
   "cell_type": "code",
   "execution_count": 122,
   "id": "ff2f0fce-2dd9-4627-bacd-41f3f3891ebd",
   "metadata": {},
   "outputs": [
    {
     "name": "stdout",
     "output_type": "stream",
     "text": [
      "최종 혼합 모델의 RMSE: 0.1000607551761522\n",
      "Ridge 모델의 RMSE: 0.10340697165289371\n",
      "Lasso 모델의 RMSE: 0.10024171179335356\n"
     ]
    }
   ],
   "source": [
    "# 각 모델의 예측갓 계산후 개별 모델과 최종 혼합 모델의 RMSE\n",
    "def get_rmse_pred(preds):\n",
    "    for key in preds.keys():\n",
    "        pred_value = preds[key]\n",
    "        mse = mean_squared_error(y_test , pred_value)\n",
    "        rmse = np.sqrt(mse)\n",
    "        print('{0} 모델의 RMSE: {1}'.format(key, rmse))\n",
    "\n",
    "# 개별 모델의 학습\n",
    "ridge_reg = Ridge(alpha=8)\n",
    "ridge_reg.fit(X_train, y_train)\n",
    "lasso_reg = Lasso(alpha=0.001)\n",
    "lasso_reg.fit(X_train, y_train)\n",
    "# 개별 모델 예측\n",
    "ridge_pred = ridge_reg.predict(X_test)\n",
    "lasso_pred = lasso_reg.predict(X_test)\n",
    "\n",
    "# 개별 모델 예측값 혼합으로 최종 예측값 도출\n",
    "pred = 0.4 * ridge_pred + 0.6 * lasso_pred\n",
    "preds = {'최종 혼합': pred,\n",
    "         'Ridge': ridge_pred,\n",
    "         'Lasso': lasso_pred}\n",
    "#최종 혼합 모델, 개별모델의 RMSE 값 출력\n",
    "get_rmse_pred(preds)"
   ]
  },
  {
   "cell_type": "code",
   "execution_count": 124,
   "id": "9ff4a5ac-e0ca-4e90-8e00-2f9b627bd785",
   "metadata": {},
   "outputs": [
    {
     "name": "stdout",
     "output_type": "stream",
     "text": [
      "[LightGBM] [Warning] Found whitespace in feature_names, replace with underlines\n",
      "[LightGBM] [Info] Auto-choosing row-wise multi-threading, the overhead of testing was 0.002912 seconds.\n",
      "You can set `force_row_wise=true` to remove the overhead.\n",
      "And if memory is not enough, you can set `force_col_wise=true`.\n",
      "[LightGBM] [Info] Total Bins 3174\n",
      "[LightGBM] [Info] Number of data points in the train set: 1166, number of used features: 172\n",
      "[LightGBM] [Info] Start training from score 12.025343\n",
      "최종 혼합 모델의 RMSE: 0.10309935843204109\n",
      "XGBM 모델의 RMSE: 0.10881175300528614\n",
      "LGBM 모델의 RMSE: 0.10363891833477148\n"
     ]
    }
   ],
   "source": [
    "#XGBoost와 LightGBM을 혼합\n",
    "xgb_reg = XGBRegressor(n_estimators=1000, learning_rate=0.05, \n",
    "                       colsample_bytree=0.5, subsample=0.8)\n",
    "lgbm_reg = LGBMRegressor(n_estimators=1000, learning_rate=0.05, num_leaves=4, \n",
    "                         subsample=0.6, colsample_bytree=0.4, reg_lambda=10, n_jobs=-1)\n",
    "xgb_reg.fit(X_train, y_train)\n",
    "lgbm_reg.fit(X_train, y_train)\n",
    "xgb_pred = xgb_reg.predict(X_test)\n",
    "lgbm_pred = lgbm_reg.predict(X_test)\n",
    "\n",
    "pred = 0.5 * xgb_pred + 0.5 * lgbm_pred\n",
    "preds = {'최종 혼합': pred,\n",
    "         'XGBM': xgb_pred,\n",
    "         'LGBM': lgbm_pred}\n",
    "  \n",
    "get_rmse_pred(preds)"
   ]
  },
  {
   "cell_type": "markdown",
   "id": "1ae6907f-3d3f-4de9-8b75-03582e6a282a",
   "metadata": {},
   "source": [
    "5.스태킹 앙상블 모델을 통한 회귀 예측"
   ]
  },
  {
   "cell_type": "code",
   "execution_count": 127,
   "id": "3d360363-0795-4b4b-9bc3-b49b4ea625ad",
   "metadata": {},
   "outputs": [
    {
     "ename": "ValueError",
     "evalue": "Setting a random_state has no effect since shuffle is False. You should leave random_state to its default (None), or set shuffle=True.",
     "output_type": "error",
     "traceback": [
      "\u001b[0;31m---------------------------------------------------------------------------\u001b[0m",
      "\u001b[0;31mValueError\u001b[0m                                Traceback (most recent call last)",
      "Cell \u001b[0;32mIn[127], line 39\u001b[0m\n\u001b[1;32m     36\u001b[0m y_train_n \u001b[38;5;241m=\u001b[39m y_train\u001b[38;5;241m.\u001b[39mvalues\n\u001b[1;32m     38\u001b[0m \u001b[38;5;66;03m# 각 개별 기반(Base)모델이 생성한 학습용/테스트용 데이터 반환. \u001b[39;00m\n\u001b[0;32m---> 39\u001b[0m ridge_train, ridge_test \u001b[38;5;241m=\u001b[39m get_stacking_base_datasets(ridge_reg, X_train_n, y_train_n, X_test_n, \u001b[38;5;241m5\u001b[39m)\n\u001b[1;32m     40\u001b[0m lasso_train, lasso_test \u001b[38;5;241m=\u001b[39m get_stacking_base_datasets(lasso_reg, X_train_n, y_train_n, X_test_n, \u001b[38;5;241m5\u001b[39m)\n\u001b[1;32m     41\u001b[0m xgb_train, xgb_test \u001b[38;5;241m=\u001b[39m get_stacking_base_datasets(xgb_reg, X_train_n, y_train_n, X_test_n, \u001b[38;5;241m5\u001b[39m)  \n",
      "Cell \u001b[0;32mIn[127], line 7\u001b[0m, in \u001b[0;36mget_stacking_base_datasets\u001b[0;34m(model, X_train_n, y_train_n, X_test_n, n_folds)\u001b[0m\n\u001b[1;32m      5\u001b[0m \u001b[38;5;28;01mdef\u001b[39;00m \u001b[38;5;21mget_stacking_base_datasets\u001b[39m(model, X_train_n, y_train_n, X_test_n, n_folds):\n\u001b[1;32m      6\u001b[0m     \u001b[38;5;66;03m# 지정된 n_folds값으로 KFold 생성.\u001b[39;00m\n\u001b[0;32m----> 7\u001b[0m     kf \u001b[38;5;241m=\u001b[39m KFold(n_splits\u001b[38;5;241m=\u001b[39mn_folds, shuffle\u001b[38;5;241m=\u001b[39m\u001b[38;5;28;01mFalse\u001b[39;00m, random_state\u001b[38;5;241m=\u001b[39m\u001b[38;5;241m0\u001b[39m)\n\u001b[1;32m      8\u001b[0m     \u001b[38;5;66;03m#추후에 메타 모델이 사용할 학습 데이터 반환을 위한 넘파이 배열 초기화 \u001b[39;00m\n\u001b[1;32m      9\u001b[0m     train_fold_pred \u001b[38;5;241m=\u001b[39m np\u001b[38;5;241m.\u001b[39mzeros((X_train_n\u001b[38;5;241m.\u001b[39mshape[\u001b[38;5;241m0\u001b[39m] ,\u001b[38;5;241m1\u001b[39m ))\n",
      "File \u001b[0;32m/opt/anaconda3/lib/python3.12/site-packages/sklearn/model_selection/_split.py:480\u001b[0m, in \u001b[0;36mKFold.__init__\u001b[0;34m(self, n_splits, shuffle, random_state)\u001b[0m\n\u001b[1;32m    479\u001b[0m \u001b[38;5;28;01mdef\u001b[39;00m \u001b[38;5;21m__init__\u001b[39m(\u001b[38;5;28mself\u001b[39m, n_splits\u001b[38;5;241m=\u001b[39m\u001b[38;5;241m5\u001b[39m, \u001b[38;5;241m*\u001b[39m, shuffle\u001b[38;5;241m=\u001b[39m\u001b[38;5;28;01mFalse\u001b[39;00m, random_state\u001b[38;5;241m=\u001b[39m\u001b[38;5;28;01mNone\u001b[39;00m):\n\u001b[0;32m--> 480\u001b[0m     \u001b[38;5;28msuper\u001b[39m()\u001b[38;5;241m.\u001b[39m\u001b[38;5;21m__init__\u001b[39m(n_splits\u001b[38;5;241m=\u001b[39mn_splits, shuffle\u001b[38;5;241m=\u001b[39mshuffle, random_state\u001b[38;5;241m=\u001b[39mrandom_state)\n",
      "File \u001b[0;32m/opt/anaconda3/lib/python3.12/site-packages/sklearn/model_selection/_split.py:331\u001b[0m, in \u001b[0;36m_BaseKFold.__init__\u001b[0;34m(self, n_splits, shuffle, random_state)\u001b[0m\n\u001b[1;32m    328\u001b[0m     \u001b[38;5;28;01mraise\u001b[39;00m \u001b[38;5;167;01mTypeError\u001b[39;00m(\u001b[38;5;124m\"\u001b[39m\u001b[38;5;124mshuffle must be True or False; got \u001b[39m\u001b[38;5;132;01m{0}\u001b[39;00m\u001b[38;5;124m\"\u001b[39m\u001b[38;5;241m.\u001b[39mformat(shuffle))\n\u001b[1;32m    330\u001b[0m \u001b[38;5;28;01mif\u001b[39;00m \u001b[38;5;129;01mnot\u001b[39;00m shuffle \u001b[38;5;129;01mand\u001b[39;00m random_state \u001b[38;5;129;01mis\u001b[39;00m \u001b[38;5;129;01mnot\u001b[39;00m \u001b[38;5;28;01mNone\u001b[39;00m:  \u001b[38;5;66;03m# None is the default\u001b[39;00m\n\u001b[0;32m--> 331\u001b[0m     \u001b[38;5;28;01mraise\u001b[39;00m \u001b[38;5;167;01mValueError\u001b[39;00m(\n\u001b[1;32m    332\u001b[0m         (\n\u001b[1;32m    333\u001b[0m             \u001b[38;5;124m\"\u001b[39m\u001b[38;5;124mSetting a random_state has no effect since shuffle is \u001b[39m\u001b[38;5;124m\"\u001b[39m\n\u001b[1;32m    334\u001b[0m             \u001b[38;5;124m\"\u001b[39m\u001b[38;5;124mFalse. You should leave \u001b[39m\u001b[38;5;124m\"\u001b[39m\n\u001b[1;32m    335\u001b[0m             \u001b[38;5;124m\"\u001b[39m\u001b[38;5;124mrandom_state to its default (None), or set shuffle=True.\u001b[39m\u001b[38;5;124m\"\u001b[39m\n\u001b[1;32m    336\u001b[0m         ),\n\u001b[1;32m    337\u001b[0m     )\n\u001b[1;32m    339\u001b[0m \u001b[38;5;28mself\u001b[39m\u001b[38;5;241m.\u001b[39mn_splits \u001b[38;5;241m=\u001b[39m n_splits\n\u001b[1;32m    340\u001b[0m \u001b[38;5;28mself\u001b[39m\u001b[38;5;241m.\u001b[39mshuffle \u001b[38;5;241m=\u001b[39m shuffle\n",
      "\u001b[0;31mValueError\u001b[0m: Setting a random_state has no effect since shuffle is False. You should leave random_state to its default (None), or set shuffle=True."
     ]
    }
   ],
   "source": [
    "from sklearn.model_selection import KFold\n",
    "from sklearn.metrics import mean_absolute_error\n",
    "\n",
    "# 개별 기반 모델에서 최종 메타 모델이 사용할 학습 및 테스트용 데이터를 생성하기 위한 함수. \n",
    "def get_stacking_base_datasets(model, X_train_n, y_train_n, X_test_n, n_folds):\n",
    "    # 지정된 n_folds값으로 KFold 생성.\n",
    "    kf = KFold(n_splits=n_folds, shuffle=False, random_state=0)\n",
    "    #추후에 메타 모델이 사용할 학습 데이터 반환을 위한 넘파이 배열 초기화 \n",
    "    train_fold_pred = np.zeros((X_train_n.shape[0] ,1 ))\n",
    "    test_pred = np.zeros((X_test_n.shape[0],n_folds))\n",
    "    print(model.__class__.__name__,'모델 시작')\n",
    "    \n",
    "    for folder_counter,(train_index, valid_index) in enumerate(kf.split(X_train_n)):\n",
    "        # 입력된 학습 데이터에서 기반 모델이 학습/예측할 폴드 데이터 셋 추출\n",
    "        print('\\t 폴드 세트 :',folder_counter,'시작')\n",
    "        X_tr = X_train_n[train_index] \n",
    "        y_tr = y_train_n[train_index] \n",
    "        X_te = X_train_n[valid_index]  \n",
    "\n",
    "        #폴드 세트 내부에서 다시 만들어진 학습 데이터로 기반 모델의 학습 수행.\n",
    "        model.fit(X_tr , y_tr)       \n",
    "        #폴드 세트 내부에서 다시 만들어진 검증 데이터로 기반 모델 예측 후 데이터 저장.\n",
    "        train_fold_pred[valid_index, :] = model.predict(X_te).reshape(-1,1)\n",
    "        #입력된 원본 테스트 데이터를 폴드 세트내 학습된 기반 모델에서 예측 후 데이터 저장. \n",
    "        test_pred[:, folder_counter] = model.predict(X_test_n)\n",
    "       \n",
    "    # 폴드 세트 내에서 원본 테스트 데이터를 예측한 데이터를 평균하여 테스트 데이터로 생성 \n",
    "    test_pred_mean = np.mean(test_pred, axis=1).reshape(-1,1)    \n",
    "   \n",
    "    #train_fold_pred는 최종 메타 모델이 사용하는 학습 데이터, test_pred_mean은 테스트 데이터\n",
    "    return train_fold_pred , test_pred_mean\n",
    "\n",
    "# get_stacking_base_datasets( )은 넘파이 ndarray를 인자로 사용하므로 DataFrame을 넘파이로 변환. \n",
    "X_train_n = X_train.values\n",
    "X_test_n = X_test.values\n",
    "y_train_n = y_train.values\n",
    "\n",
    "# 각 개별 기반(Base)모델이 생성한 학습용/테스트용 데이터 반환. \n",
    "ridge_train, ridge_test = get_stacking_base_datasets(ridge_reg, X_train_n, y_train_n, X_test_n, 5)\n",
    "lasso_train, lasso_test = get_stacking_base_datasets(lasso_reg, X_train_n, y_train_n, X_test_n, 5)\n",
    "xgb_train, xgb_test = get_stacking_base_datasets(xgb_reg, X_train_n, y_train_n, X_test_n, 5)  \n",
    "lgbm_train, lgbm_test = get_stacking_base_datasets(lgbm_reg, X_train_n, y_train_n, X_test_n, 5)\n",
    "\n",
    "# 개별 모델이 반환한 학습 및 테스트용 데이터 세트를 Stacking 형태로 결합.  \n",
    "Stack_final_X_train = np.concatenate((ridge_train, lasso_train, \n",
    "                                      xgb_train, lgbm_train), axis=1)\n",
    "Stack_final_X_test = np.concatenate((ridge_test, lasso_test, \n",
    "                                     xgb_test, lgbm_test), axis=1)\n",
    "\n",
    "# 최종 메타 모델은 라쏘 모델을 적용. \n",
    "meta_model_lasso = Lasso(alpha=0.0005)\n",
    "\n",
    "#기반 모델의 예측값을 기반으로 새롭게 만들어진 학습 및 테스트용 데이터로 예측하고 RMSE 측정.\n",
    "meta_model_lasso.fit(Stack_final_X_train, y_train)\n",
    "final = meta_model_lasso.predict(Stack_final_X_test)\n",
    "mse = mean_squared_error(y_test , final)\n",
    "rmse = np.sqrt(mse)\n",
    "print('스태킹 회귀 모델의 최종 RMSE 값은:', rmse)"
   ]
  },
  {
   "cell_type": "code",
   "execution_count": null,
   "id": "43cb275c-1eb9-489a-bae0-efa19676d24d",
   "metadata": {},
   "outputs": [],
   "source": []
  }
 ],
 "metadata": {
  "kernelspec": {
   "display_name": "Python 3 (ipykernel)",
   "language": "python",
   "name": "python3"
  },
  "language_info": {
   "codemirror_mode": {
    "name": "ipython",
    "version": 3
   },
   "file_extension": ".py",
   "mimetype": "text/x-python",
   "name": "python",
   "nbconvert_exporter": "python",
   "pygments_lexer": "ipython3",
   "version": "3.12.2"
  }
 },
 "nbformat": 4,
 "nbformat_minor": 5
}
