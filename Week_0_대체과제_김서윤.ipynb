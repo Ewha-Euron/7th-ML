{
  "nbformat": 4,
  "nbformat_minor": 0,
  "metadata": {
    "colab": {
      "provenance": []
    },
    "kernelspec": {
      "name": "python3",
      "display_name": "Python 3"
    },
    "language_info": {
      "name": "python"
    }
  },
  "cells": [
    {
      "cell_type": "markdown",
      "source": [
        "# **연휴 대체과제**\n",
        "- 추석 연휴 대체과제는 **파이썬 연습과제**입니다.\n",
        "- 코드 작성하시고, 출력 결과까지 나오도록 실행 부탁드립니다.\n",
        "  - 제출 시 파일명 본인 이름으로 변경해 주세요. ex) Week 0_대체과제_OOO\n",
        "  - 해당 파일에 문제 푸신 후 제출해 주시면 됩니다.\n",
        "- 과제는 팀원들과 같이 풀이하셔도 좋고, 책을 참고해도 좋고, ChatGPT를 써도 좋고, 구글링을 해도 되고 다 좋습니다.\n",
        "  - 정규 세션 전 가볍게 파이썬 기본 문법 연습하는 느낌으로 공부해주세요 :)\n",
        "  - 백지만 내지 말아주세요..😥"
      ],
      "metadata": {
        "id": "YSwl6siWeYkQ"
      }
    },
    {
      "cell_type": "markdown",
      "metadata": {
        "id": "7l08bTZPhidm"
      },
      "source": [
        "## **1. 파이썬 자료구조**"
      ]
    },
    {
      "cell_type": "markdown",
      "metadata": {
        "id": "sJT1Gng9hidm"
      },
      "source": [
        "다음과 같이 출력 되도록 코드를 작성하세요"
      ]
    },
    {
      "cell_type": "markdown",
      "metadata": {
        "id": "GAV7xXighidm"
      },
      "source": [
        "### Q1: Type 확인"
      ]
    },
    {
      "cell_type": "code",
      "execution_count": null,
      "metadata": {
        "id": "BzaK11Vnhidn"
      },
      "outputs": [],
      "source": [
        "a = 3.14"
      ]
    },
    {
      "cell_type": "markdown",
      "metadata": {
        "id": "GK5xM6hvhidn"
      },
      "source": [
        "타입을 확인해 주세요"
      ]
    },
    {
      "cell_type": "code",
      "execution_count": null,
      "metadata": {
        "id": "YyAB3oWDhidn",
        "colab": {
          "base_uri": "https://localhost:8080/"
        },
        "outputId": "3c0aff29-3f52-475a-8683-2417e2ef6fb2"
      },
      "outputs": [
        {
          "output_type": "execute_result",
          "data": {
            "text/plain": [
              "float"
            ]
          },
          "metadata": {},
          "execution_count": 2
        }
      ],
      "source": [
        "# 코드를 입력해 주세요\n",
        "type(a)"
      ]
    },
    {
      "cell_type": "markdown",
      "metadata": {
        "id": "tAcAQ1cohidn"
      },
      "source": [
        "<p><strong>[출력 결과]</strong></p><pre>float</pre>"
      ]
    },
    {
      "cell_type": "markdown",
      "metadata": {
        "id": "D7frrQnqhido"
      },
      "source": [
        "### Q2: Type 변경"
      ]
    },
    {
      "cell_type": "code",
      "execution_count": null,
      "metadata": {
        "id": "T462_hCfhido"
      },
      "outputs": [],
      "source": [
        "a = 1"
      ]
    },
    {
      "cell_type": "markdown",
      "metadata": {
        "id": "qvbUmiZ5hido"
      },
      "source": [
        "타입을 변경해 주세요"
      ]
    },
    {
      "cell_type": "code",
      "execution_count": null,
      "metadata": {
        "id": "G0NpIkO-hido",
        "colab": {
          "base_uri": "https://localhost:8080/"
        },
        "outputId": "252d0e12-efb5-4bfe-9d94-5e2ff80dc560"
      },
      "outputs": [
        {
          "output_type": "execute_result",
          "data": {
            "text/plain": [
              "1.0"
            ]
          },
          "metadata": {},
          "execution_count": 8
        }
      ],
      "source": [
        "# 코드를 입력해 주세요\n",
        "a= float(a)\n",
        "a"
      ]
    },
    {
      "cell_type": "markdown",
      "metadata": {
        "id": "5inFI_23hido"
      },
      "source": [
        "<p><strong>[출력 결과]</strong></p><pre>1.0</pre>"
      ]
    },
    {
      "cell_type": "markdown",
      "metadata": {
        "id": "W_wKBPkmhidp"
      },
      "source": [
        "### Q3: Type 변경"
      ]
    },
    {
      "cell_type": "code",
      "execution_count": null,
      "metadata": {
        "id": "532tQhvjhidp"
      },
      "outputs": [],
      "source": [
        "a = 1"
      ]
    },
    {
      "cell_type": "markdown",
      "metadata": {
        "id": "FMZ-30_Nhidp"
      },
      "source": [
        "타입을 변경해 주세요"
      ]
    },
    {
      "cell_type": "code",
      "execution_count": null,
      "metadata": {
        "id": "qvgZt-Sqhidp",
        "colab": {
          "base_uri": "https://localhost:8080/"
        },
        "outputId": "495bbf07-e47a-40ec-e2f9-4705d8728091"
      },
      "outputs": [
        {
          "output_type": "execute_result",
          "data": {
            "text/plain": [
              "True"
            ]
          },
          "metadata": {},
          "execution_count": 10
        }
      ],
      "source": [
        "# 코드를 입력해 주세요\n",
        "a= bool(a)\n",
        "a"
      ]
    },
    {
      "cell_type": "markdown",
      "metadata": {
        "id": "yVvhHR0Ghidp"
      },
      "source": [
        "<p><strong>[출력 결과]</strong></p><pre>True</pre>"
      ]
    },
    {
      "cell_type": "markdown",
      "metadata": {
        "id": "uEy7TBRthidq"
      },
      "source": [
        "### Q4: 타입 변경"
      ]
    },
    {
      "cell_type": "code",
      "execution_count": null,
      "metadata": {
        "id": "Q4HZoSUthidq"
      },
      "outputs": [],
      "source": [
        "a = False"
      ]
    },
    {
      "cell_type": "markdown",
      "metadata": {
        "id": "Q6BLs0Xbhidq"
      },
      "source": [
        "타입을 변경해 주세요"
      ]
    },
    {
      "cell_type": "code",
      "execution_count": null,
      "metadata": {
        "id": "EVGJHCwqhidq",
        "colab": {
          "base_uri": "https://localhost:8080/"
        },
        "outputId": "3371f8c9-5e7c-4d17-9661-0bdd12246148"
      },
      "outputs": [
        {
          "output_type": "execute_result",
          "data": {
            "text/plain": [
              "0"
            ]
          },
          "metadata": {},
          "execution_count": 3
        }
      ],
      "source": [
        "# 코드를 입력해 주세요\n",
        "a= int(a)\n",
        "a"
      ]
    },
    {
      "cell_type": "markdown",
      "metadata": {
        "id": "FXmyQfI6hidr"
      },
      "source": [
        "<p><strong>[출력 결과]</strong></p><pre>0</pre>"
      ]
    },
    {
      "cell_type": "markdown",
      "metadata": {
        "id": "Rt2yHVyXhidr"
      },
      "source": [
        "### Q5: 타입 변경"
      ]
    },
    {
      "cell_type": "code",
      "execution_count": null,
      "metadata": {
        "id": "OA69QYmrhidr"
      },
      "outputs": [],
      "source": [
        "a = 123"
      ]
    },
    {
      "cell_type": "markdown",
      "metadata": {
        "id": "Yxrao3Eshidr"
      },
      "source": [
        "타입을 변경해 주세요"
      ]
    },
    {
      "cell_type": "code",
      "execution_count": null,
      "metadata": {
        "id": "TEvsCVWlhidr",
        "colab": {
          "base_uri": "https://localhost:8080/",
          "height": 35
        },
        "outputId": "26a4a1a9-946d-4df5-aa9c-ebe51b8af778"
      },
      "outputs": [
        {
          "output_type": "execute_result",
          "data": {
            "text/plain": [
              "'123'"
            ],
            "application/vnd.google.colaboratory.intrinsic+json": {
              "type": "string"
            }
          },
          "metadata": {},
          "execution_count": 6
        }
      ],
      "source": [
        "# 코드를 입력해 주세요\n",
        "a=str(a)\n",
        "a"
      ]
    },
    {
      "cell_type": "markdown",
      "metadata": {
        "id": "m-Mq9Djehids"
      },
      "source": [
        "<p><strong>[출력 결과]</strong></p><pre>'123'</pre>"
      ]
    },
    {
      "cell_type": "markdown",
      "metadata": {
        "id": "Do2Bc3YEhv7k"
      },
      "source": [
        "## **2. ⭐ 리스트, 튜플**"
      ]
    },
    {
      "cell_type": "markdown",
      "metadata": {
        "id": "fMAdPD_zkFZm"
      },
      "source": [
        "### 연습문제 1"
      ]
    },
    {
      "cell_type": "code",
      "execution_count": null,
      "metadata": {
        "id": "Kh3ZEKT0kIqA"
      },
      "outputs": [],
      "source": [
        "movie = ['어벤져스', '아이언맨', '토르', '스파이더맨']"
      ]
    },
    {
      "cell_type": "markdown",
      "metadata": {
        "id": "tyOTHPsMkzCo"
      },
      "source": [
        "`movie`에 맨 끝에 `엑스맨` 을 추가하세요."
      ]
    },
    {
      "cell_type": "code",
      "execution_count": null,
      "metadata": {
        "id": "PKEtjNIvlBek",
        "colab": {
          "base_uri": "https://localhost:8080/"
        },
        "outputId": "a2afac60-b0f0-4a63-98ab-ef197fa88f16"
      },
      "outputs": [
        {
          "output_type": "execute_result",
          "data": {
            "text/plain": [
              "['어벤져스', '아이언맨', '토르', '스파이더맨', '엑스맨']"
            ]
          },
          "metadata": {},
          "execution_count": 22
        }
      ],
      "source": [
        "# 코드를 입력해 주세요\n",
        "movie.append('엑스맨')\n",
        "movie"
      ]
    },
    {
      "cell_type": "markdown",
      "metadata": {
        "id": "cSGK1G1rhv7L"
      },
      "source": [
        "<p><strong>[출력 결과]</strong></p><pre>['어벤져스', '아이언맨', '토르', '스파이더맨', '엑스맨']</pre>"
      ]
    },
    {
      "cell_type": "markdown",
      "metadata": {
        "id": "iel_W4C6ofKa"
      },
      "source": [
        "`movie`의 1번 index에 `데드풀`을 추가하세요"
      ]
    },
    {
      "cell_type": "code",
      "execution_count": null,
      "metadata": {
        "id": "yGyNESOdorFN",
        "colab": {
          "base_uri": "https://localhost:8080/"
        },
        "outputId": "29e47d75-ba9b-4b2c-e1e7-275e5aa3445e"
      },
      "outputs": [
        {
          "output_type": "execute_result",
          "data": {
            "text/plain": [
              "['어벤져스', '데드폴', '아이언맨', '토르', '스파이더맨', '엑스맨']"
            ]
          },
          "metadata": {},
          "execution_count": 23
        }
      ],
      "source": [
        "# 코드를 입력해 주세요\n",
        "movie.insert(1,'데드폴')\n",
        "movie"
      ]
    },
    {
      "cell_type": "markdown",
      "metadata": {
        "id": "amQatg_hhv7M"
      },
      "source": [
        "<p><strong>[출력 결과]</strong></p><pre>['어벤져스', '데드풀', '아이언맨', '토르', '스파이더맨', '엑스맨']</pre>"
      ]
    },
    {
      "cell_type": "markdown",
      "metadata": {
        "id": "SyMuSUDFlICP"
      },
      "source": [
        "`movie`에서 `아이언맨`을 삭제 하세요.\n",
        "\n",
        "- remove() 사용"
      ]
    },
    {
      "cell_type": "code",
      "execution_count": null,
      "metadata": {
        "id": "y95NJRYSlQJb",
        "colab": {
          "base_uri": "https://localhost:8080/"
        },
        "outputId": "d9378642-55f6-4dfe-f7a6-1fe52ea666d7"
      },
      "outputs": [
        {
          "output_type": "execute_result",
          "data": {
            "text/plain": [
              "['어벤져스', '데드폴', '토르', '스파이더맨', '엑스맨']"
            ]
          },
          "metadata": {},
          "execution_count": 24
        }
      ],
      "source": [
        "# 코드를 입력해 주세요\n",
        "movie.remove('아이언맨')\n",
        "movie"
      ]
    },
    {
      "cell_type": "markdown",
      "metadata": {
        "id": "Tb-kXiE8hv7N"
      },
      "source": [
        "<p><strong>[출력 결과]</strong></p><pre>['어벤져스', '데드풀', '토르', '스파이더맨', '엑스맨']</pre>"
      ]
    },
    {
      "cell_type": "markdown",
      "metadata": {
        "id": "G6sOcIL-hv7N"
      },
      "source": [
        "`movie`에서 1번째 index를 삭제하세요"
      ]
    },
    {
      "cell_type": "code",
      "execution_count": null,
      "metadata": {
        "id": "C5Eis_-7hv7O",
        "colab": {
          "base_uri": "https://localhost:8080/"
        },
        "outputId": "d3e2f3d7-b8f5-4500-db66-c17a0f0f6689"
      },
      "outputs": [
        {
          "output_type": "execute_result",
          "data": {
            "text/plain": [
              "['어벤져스', '토르', '스파이더맨', '엑스맨']"
            ]
          },
          "metadata": {},
          "execution_count": 26
        }
      ],
      "source": [
        "# 코드를 입력해 주세요\n",
        "del movie[1]\n",
        "movie"
      ]
    },
    {
      "cell_type": "markdown",
      "metadata": {
        "id": "nctxiusFhv7O"
      },
      "source": [
        "<p><strong>[출력 결과]</strong></p><pre>['어벤져스', '토르', '스파이더맨', '엑스맨']</pre>"
      ]
    },
    {
      "cell_type": "code",
      "execution_count": null,
      "metadata": {
        "id": "WKosiML9hv7P"
      },
      "outputs": [],
      "source": [
        "kr_movie = ['승리호', '신세계', '타짜']"
      ]
    },
    {
      "cell_type": "markdown",
      "metadata": {
        "id": "UxG_miFzhv7P"
      },
      "source": [
        "`kr_movie`를 `movie`에 추가해 주세요"
      ]
    },
    {
      "cell_type": "code",
      "execution_count": null,
      "metadata": {
        "id": "zQNQDPX1hv7Q",
        "colab": {
          "base_uri": "https://localhost:8080/"
        },
        "outputId": "e383f284-9b30-4cd5-d2e3-bcf6fb60de52"
      },
      "outputs": [
        {
          "output_type": "execute_result",
          "data": {
            "text/plain": [
              "['어벤져스', '토르', '스파이더맨', '엑스맨', '승리호', '신세계', '타짜']"
            ]
          },
          "metadata": {},
          "execution_count": 29
        }
      ],
      "source": [
        "# 코드를 입력해 주세요\n",
        "movie.extend(kr_movie)\n",
        "movie"
      ]
    },
    {
      "cell_type": "markdown",
      "metadata": {
        "id": "ZO99CpAEhv7Q"
      },
      "source": [
        "<p><strong>[출력 결과]</strong></p><pre>['어벤져스', '토르', '스파이더맨', '엑스맨', '승리호', '신세계', '타짜']</pre>"
      ]
    },
    {
      "cell_type": "markdown",
      "metadata": {
        "id": "vtguJzjphv7Q"
      },
      "source": [
        "`movie`를 가나다 순으로 정렬하세요"
      ]
    },
    {
      "cell_type": "code",
      "execution_count": null,
      "metadata": {
        "id": "QR6YmRSOhv7R",
        "colab": {
          "base_uri": "https://localhost:8080/"
        },
        "outputId": "0d5cae0f-a999-4bea-9f80-03a97a60b1fd"
      },
      "outputs": [
        {
          "output_type": "execute_result",
          "data": {
            "text/plain": [
              "['스파이더맨', '승리호', '신세계', '어벤져스', '엑스맨', '타짜', '토르']"
            ]
          },
          "metadata": {},
          "execution_count": 30
        }
      ],
      "source": [
        "# 코드를 입력해 주세요\n",
        "movie.sort()\n",
        "movie"
      ]
    },
    {
      "cell_type": "markdown",
      "metadata": {
        "id": "VnBvdGAPhv7R"
      },
      "source": [
        "<p><strong>[출력 결과]</strong></p><pre>['스파이더맨', '승리호', '신세계', '어벤져스', '엑스맨', '타짜', '토르']</pre>"
      ]
    },
    {
      "cell_type": "markdown",
      "source": [
        "### 연습문제 2"
      ],
      "metadata": {
        "id": "M6ZMgorGid7f"
      }
    },
    {
      "cell_type": "code",
      "execution_count": null,
      "metadata": {
        "id": "vZtzFJtOlQGA"
      },
      "outputs": [],
      "source": [
        "fruit = ['사과', '바나나', '파인애플', '배', '수박', '키위', '오렌지', '망고', '딸기']"
      ]
    },
    {
      "cell_type": "markdown",
      "metadata": {
        "id": "ZO9-b0FXlQB_"
      },
      "source": [
        "list **인덱싱** & **슬라이싱**을 사용하여 다음과 같이 출력 하세요"
      ]
    },
    {
      "cell_type": "code",
      "execution_count": null,
      "metadata": {
        "id": "ag-1JlpllPyM",
        "colab": {
          "base_uri": "https://localhost:8080/"
        },
        "outputId": "6b51df5f-50fb-4703-8dca-f50bca63a934"
      },
      "outputs": [
        {
          "output_type": "execute_result",
          "data": {
            "text/plain": [
              "['파인애플', '배', '수박']"
            ]
          },
          "metadata": {},
          "execution_count": 33
        }
      ],
      "source": [
        "# 코드를 입력해 주세요\n",
        "fruit[2:5]"
      ]
    },
    {
      "cell_type": "markdown",
      "metadata": {
        "id": "Cp7wCeXdhv7l"
      },
      "source": [
        "<p><strong>[출력 결과]</strong></p><pre>['파인애플', '배', '수박']</pre>"
      ]
    },
    {
      "cell_type": "code",
      "execution_count": null,
      "metadata": {
        "id": "0LRqKruin8YG",
        "colab": {
          "base_uri": "https://localhost:8080/"
        },
        "outputId": "7bce06cb-3b81-459c-a4e6-7306b081e4b3"
      },
      "outputs": [
        {
          "output_type": "execute_result",
          "data": {
            "text/plain": [
              "['망고', '딸기']"
            ]
          },
          "metadata": {},
          "execution_count": 34
        }
      ],
      "source": [
        "# 코드를 입력해 주세요\n",
        "fruit[7:]"
      ]
    },
    {
      "cell_type": "markdown",
      "metadata": {
        "id": "Z5MZjZHshv7m"
      },
      "source": [
        "<p><strong>[출력 결과]</strong></p><pre>['망고', '딸기']</pre>"
      ]
    },
    {
      "cell_type": "code",
      "execution_count": null,
      "metadata": {
        "id": "M2FntdLxoCN4",
        "colab": {
          "base_uri": "https://localhost:8080/"
        },
        "outputId": "f778ad77-cd23-42b8-b161-e06e89c352dc"
      },
      "outputs": [
        {
          "output_type": "execute_result",
          "data": {
            "text/plain": [
              "['사과', '바나나', '파인애플']"
            ]
          },
          "metadata": {},
          "execution_count": 35
        }
      ],
      "source": [
        "# 코드를 입력해 주세요\n",
        "fruit[0:3]"
      ]
    },
    {
      "cell_type": "markdown",
      "metadata": {
        "id": "_1VB_Vpfhv7n"
      },
      "source": [
        "<p><strong>[출력 결과]</strong></p><pre>['사과', '바나나', '파인애플']</pre>"
      ]
    },
    {
      "cell_type": "code",
      "execution_count": null,
      "metadata": {
        "id": "8tdoEreLoC7Y",
        "colab": {
          "base_uri": "https://localhost:8080/"
        },
        "outputId": "821f6772-601d-4472-a575-003076fd3500"
      },
      "outputs": [
        {
          "output_type": "execute_result",
          "data": {
            "text/plain": [
              "['배', '수박', '키위', '오렌지', '망고', '딸기']"
            ]
          },
          "metadata": {},
          "execution_count": 36
        }
      ],
      "source": [
        "# 코드를 입력해 주세요\n",
        "fruit[3:]"
      ]
    },
    {
      "cell_type": "markdown",
      "metadata": {
        "id": "Qa3yO3dOhv7n"
      },
      "source": [
        "<p><strong>[출력 결과]</strong></p><pre>['배', '수박', '키위', '오렌지', '망고', '딸기']</pre>"
      ]
    },
    {
      "cell_type": "markdown",
      "metadata": {
        "id": "IyHJYJC8hv7p"
      },
      "source": [
        "### 연습문제 3"
      ]
    },
    {
      "cell_type": "markdown",
      "metadata": {
        "id": "UVBSFJ_Ghv7p"
      },
      "source": [
        "슬라이싱을 활용하여 **짝수**만 출력해 주세요"
      ]
    },
    {
      "cell_type": "code",
      "execution_count": null,
      "metadata": {
        "id": "PRlnF49Ihv7q"
      },
      "outputs": [],
      "source": [
        "nums = [1, 2, 3, 4, 5, 6, 7, 8, 9, 10]"
      ]
    },
    {
      "cell_type": "code",
      "execution_count": null,
      "metadata": {
        "id": "sOi2o7dDhv7q",
        "outputId": "297e0672-fc5e-4887-f0ff-21b795ec6694",
        "colab": {
          "base_uri": "https://localhost:8080/"
        }
      },
      "outputs": [
        {
          "output_type": "execute_result",
          "data": {
            "text/plain": [
              "[2, 4, 6, 8, 10]"
            ]
          },
          "metadata": {},
          "execution_count": 44
        }
      ],
      "source": [
        "# 코드를 입력해 주세요\n",
        "even_nums = [x for x in nums if x % 2 == 0]\n",
        "even_nums\n"
      ]
    },
    {
      "cell_type": "markdown",
      "metadata": {
        "id": "NHJDovdrhv7r"
      },
      "source": [
        "<p><strong>[출력 결과]</strong></p><pre>[2, 4, 6, 8, 10]\n",
        "</pre>"
      ]
    },
    {
      "cell_type": "markdown",
      "metadata": {
        "id": "HPz0NXM1hv7u"
      },
      "source": [
        "### 연습문제 4\n",
        "\n",
        "sample = [1, 2, 3, 4, 5, 6, 7, 8] 리스트를 슬라이싱을 이용하여 출력과 같이 나올수 있도록 코드를 채워주세요."
      ]
    },
    {
      "cell_type": "code",
      "execution_count": null,
      "metadata": {
        "id": "tx5In4_Bhv7u"
      },
      "outputs": [],
      "source": [
        "sample = [1, 2, 3, 4, 5, 6, 7, 8]"
      ]
    },
    {
      "cell_type": "markdown",
      "metadata": {
        "id": "wO1-J6ejhv7v"
      },
      "source": [
        "슬라이싱을 사용해 다음과 같이 출력해 주세요"
      ]
    },
    {
      "cell_type": "code",
      "execution_count": null,
      "metadata": {
        "id": "WEMY-ViYhv7v",
        "colab": {
          "base_uri": "https://localhost:8080/"
        },
        "outputId": "70c434a6-bd86-44df-c8d2-520c110dee09"
      },
      "outputs": [
        {
          "output_type": "execute_result",
          "data": {
            "text/plain": [
              "[8, 7, 6, 5, 4, 3, 2, 1]"
            ]
          },
          "metadata": {},
          "execution_count": 52
        }
      ],
      "source": [
        "# 코드를 입력해 주세요\n",
        "sample.sort(reverse=True)\n",
        "sample"
      ]
    },
    {
      "cell_type": "markdown",
      "metadata": {
        "id": "sA6XrRQBhv7w"
      },
      "source": [
        "<p><strong>[출력 결과]</strong></p><pre>[8, 7, 6, 5, 4, 3, 2, 1]</pre>"
      ]
    },
    {
      "cell_type": "markdown",
      "metadata": {
        "id": "cMHFXXRKhv7x"
      },
      "source": [
        "슬라이싱을 사용해 다음과 같이 출력해 주세요"
      ]
    },
    {
      "cell_type": "code",
      "execution_count": null,
      "metadata": {
        "id": "rpScJbGehv7x",
        "colab": {
          "base_uri": "https://localhost:8080/"
        },
        "outputId": "5943afc4-ce08-4293-ea09-843cfe746f47"
      },
      "outputs": [
        {
          "output_type": "execute_result",
          "data": {
            "text/plain": [
              "[3, 5, 7]"
            ]
          },
          "metadata": {},
          "execution_count": 53
        }
      ],
      "source": [
        "# 코드를 입력해 주세요\n",
        "sample.sort()\n",
        "sample1=[x for x in sample if x % 2 !=0 and x!=1]\n",
        "sample1"
      ]
    },
    {
      "cell_type": "markdown",
      "metadata": {
        "id": "6Fv5cnR9hv7y"
      },
      "source": [
        "<p><strong>[출력 결과]</strong></p><pre>[3, 5, 7]</pre>"
      ]
    },
    {
      "cell_type": "markdown",
      "metadata": {
        "id": "wJgm3yT2hv7y"
      },
      "source": [
        "슬라이싱을 사용해 다음과 같이 출력해 주세요"
      ]
    },
    {
      "cell_type": "code",
      "execution_count": null,
      "metadata": {
        "id": "BqdgHKushv7y",
        "colab": {
          "base_uri": "https://localhost:8080/"
        },
        "outputId": "83dfceea-eb81-4a5a-f99d-daa600e34ad4"
      },
      "outputs": [
        {
          "output_type": "execute_result",
          "data": {
            "text/plain": [
              "[2, 5, 8]"
            ]
          },
          "metadata": {},
          "execution_count": 54
        }
      ],
      "source": [
        "# 코드를 입력해 주세요\n",
        "sample2=[sample[x] for x in range(8) if x % 3 ==1 ]\n",
        "sample2"
      ]
    },
    {
      "cell_type": "markdown",
      "metadata": {
        "id": "rbqTX49Ehv7z"
      },
      "source": [
        "<p><strong>[출력 결과]</strong></p><pre>[2, 5, 8]</pre>"
      ]
    },
    {
      "cell_type": "markdown",
      "metadata": {
        "id": "0_mJjKgJ3PXj"
      },
      "source": [
        "### 연습문제 5\n",
        "\n",
        "- 아래의 값을 저장하고 있는 `myList` 변수를 생성하세요.\n",
        "- [[1,2,3],[4,5,6],[7,8]]"
      ]
    },
    {
      "cell_type": "code",
      "execution_count": null,
      "metadata": {
        "id": "cYw8v3Wc3PXj",
        "colab": {
          "base_uri": "https://localhost:8080/"
        },
        "outputId": "fa8193a8-714b-4931-9289-bdea867b7cea"
      },
      "outputs": [
        {
          "output_type": "execute_result",
          "data": {
            "text/plain": [
              "[[1, 2, 3], [4, 5, 6], [7, 8]]"
            ]
          },
          "metadata": {},
          "execution_count": 55
        }
      ],
      "source": [
        "myList = [[1,2,3],[4,5,6],[7,8]]\n",
        "myList"
      ]
    },
    {
      "cell_type": "markdown",
      "metadata": {
        "id": "huln3pHGqluk"
      },
      "source": [
        "- 9를 `myList`에 추가하여 아래의 값을 저장할 수 있도록 하세요.\n",
        "    - [[1,2,3],[4,5,6],[7,8,9]]"
      ]
    },
    {
      "cell_type": "code",
      "execution_count": null,
      "metadata": {
        "id": "fQwG-KLiq_Aq",
        "colab": {
          "base_uri": "https://localhost:8080/"
        },
        "outputId": "9663ad85-4b86-4450-dd46-2affdfaf97d5"
      },
      "outputs": [
        {
          "output_type": "execute_result",
          "data": {
            "text/plain": [
              "[[1, 2, 3], [4, 5, 6], [7, 8, 9, 9]]"
            ]
          },
          "metadata": {},
          "execution_count": 57
        }
      ],
      "source": [
        "# 코드를 입력해 주세요\n",
        "myList[-1].append(9)\n",
        "myList"
      ]
    },
    {
      "cell_type": "markdown",
      "metadata": {
        "id": "Rw3QlYGXhv70"
      },
      "source": [
        "<p><strong>[출력 결과]</strong></p><pre>[[1, 2, 3], [4, 5, 6], [7, 8, 9]]</pre>"
      ]
    },
    {
      "cell_type": "markdown",
      "metadata": {
        "id": "mNvNhTnDhv7_"
      },
      "source": [
        "### 연습문제 6"
      ]
    },
    {
      "cell_type": "markdown",
      "metadata": {
        "id": "Le4dq5Amhv7_"
      },
      "source": [
        "주어진 tuple `a`를 (1, 100, 2, 3, 4)의 요소를 가지도록 변경해 주세요"
      ]
    },
    {
      "cell_type": "code",
      "execution_count": null,
      "metadata": {
        "id": "omVO_0PFhv7_"
      },
      "outputs": [],
      "source": [
        "a = (1, 2, 3, 4)"
      ]
    },
    {
      "cell_type": "code",
      "execution_count": null,
      "metadata": {
        "id": "A3X3Ahr1hv7_",
        "colab": {
          "base_uri": "https://localhost:8080/"
        },
        "outputId": "8c97a238-2fc9-4079-9989-17221de448d1"
      },
      "outputs": [
        {
          "output_type": "execute_result",
          "data": {
            "text/plain": [
              "(1, 100, 100, 2, 3, 4)"
            ]
          },
          "metadata": {},
          "execution_count": 62
        }
      ],
      "source": [
        "# 코드를 입력해 주세요\n",
        "a= list(a)\n",
        "a.insert(1,100)\n",
        "a=tuple(a)\n",
        "a"
      ]
    },
    {
      "cell_type": "markdown",
      "metadata": {
        "id": "8uGgJMbfhv8A"
      },
      "source": [
        "<p><strong>[출력 결과]</strong></p><pre>(1, 100, 2, 3, 4)</pre>"
      ]
    },
    {
      "cell_type": "markdown",
      "source": [
        "## **3. 셋, 딕셔너리**"
      ],
      "metadata": {
        "id": "NGwr4D2_i00e"
      }
    },
    {
      "cell_type": "markdown",
      "metadata": {
        "id": "sF9Bo7rQi5dh"
      },
      "source": [
        "### 연습문제 1"
      ]
    },
    {
      "cell_type": "code",
      "execution_count": null,
      "metadata": {
        "id": "_-WSt8vdi5di",
        "colab": {
          "base_uri": "https://localhost:8080/"
        },
        "outputId": "d91823ab-b894-45a7-dc08-41520e5df936"
      },
      "outputs": [
        {
          "output_type": "stream",
          "name": "stdout",
          "text": [
            "sample1: {1, 2, 3, 4, 5}\n",
            "sample2: {2, 4, 5, 6, 7}\n"
          ]
        }
      ],
      "source": [
        "sample1 = {1, 2, 3, 4, 5}\n",
        "sample2 = {2, 4, 5, 6, 7}\n",
        "\n",
        "print(f'sample1: {sample1}')\n",
        "print(f'sample2: {sample2}')"
      ]
    },
    {
      "cell_type": "markdown",
      "metadata": {
        "id": "1olPUcMhi5dk"
      },
      "source": [
        "`sample1` 에 6를 추가합니다."
      ]
    },
    {
      "cell_type": "code",
      "execution_count": null,
      "metadata": {
        "id": "dFnTHCz7i5dl",
        "colab": {
          "base_uri": "https://localhost:8080/"
        },
        "outputId": "002d5ab6-996b-457f-a570-0f745fd8d90e"
      },
      "outputs": [
        {
          "output_type": "stream",
          "name": "stdout",
          "text": [
            "{1, 2, 3, 4, 5, 6}\n"
          ]
        }
      ],
      "source": [
        "# 코드를 입력해 주세요\n",
        "sample1.add(6)\n",
        "print(f'{sample1}')"
      ]
    },
    {
      "cell_type": "markdown",
      "metadata": {
        "id": "AROMiBy7i5dl"
      },
      "source": [
        "<p><strong>[출력 결과]</strong></p><pre>{1, 2, 3, 4, 5, 6}</pre>"
      ]
    },
    {
      "cell_type": "markdown",
      "metadata": {
        "id": "m3PW8T1Ji5dm"
      },
      "source": [
        "`sample2`에 2를 제거합니다."
      ]
    },
    {
      "cell_type": "code",
      "execution_count": null,
      "metadata": {
        "id": "ZtRBIvP8i5dm",
        "colab": {
          "base_uri": "https://localhost:8080/"
        },
        "outputId": "5e05a5ee-329d-4af0-e05c-30ac3a61174c"
      },
      "outputs": [
        {
          "output_type": "stream",
          "name": "stdout",
          "text": [
            "{4, 5, 6, 7}\n"
          ]
        }
      ],
      "source": [
        "# 코드를 입력해 주세요\n",
        "sample2.remove(2)\n",
        "print(f'{sample2}')"
      ]
    },
    {
      "cell_type": "markdown",
      "metadata": {
        "id": "m7ENi8HRi5dn"
      },
      "source": [
        "<p><strong>[출력 결과]</strong></p><pre>{4, 5, 6, 7}</pre>"
      ]
    },
    {
      "cell_type": "markdown",
      "metadata": {
        "id": "kdPeFuzSi5dn"
      },
      "source": [
        "`sample1`과 `sample2`의 **교집합**을 출력합니다."
      ]
    },
    {
      "cell_type": "code",
      "execution_count": null,
      "metadata": {
        "id": "7l2mzXfdi5do",
        "colab": {
          "base_uri": "https://localhost:8080/"
        },
        "outputId": "8d93c3d1-563e-4644-e40b-40f6cc79e82a"
      },
      "outputs": [
        {
          "output_type": "stream",
          "name": "stdout",
          "text": [
            "{4, 5, 6}\n"
          ]
        }
      ],
      "source": [
        "# 코드를 입력해 주세요\n",
        "intersection = sample1 & sample2\n",
        "print(f'{intersection}')"
      ]
    },
    {
      "cell_type": "markdown",
      "metadata": {
        "id": "qgT_MyHCi5dp"
      },
      "source": [
        "<p><strong>[출력 결과]</strong></p><pre>{4, 5, 6}</pre>"
      ]
    },
    {
      "cell_type": "markdown",
      "metadata": {
        "id": "7rdrBqv8i5dp"
      },
      "source": [
        "`sample1`과 `sample2`의 **합집합**을 출력합니다."
      ]
    },
    {
      "cell_type": "code",
      "execution_count": null,
      "metadata": {
        "id": "TOtQWgXti5dq",
        "colab": {
          "base_uri": "https://localhost:8080/"
        },
        "outputId": "c397fe26-7993-4b77-f3af-dc4af05d49c1"
      },
      "outputs": [
        {
          "output_type": "stream",
          "name": "stdout",
          "text": [
            "{1, 2, 3, 4, 5, 6, 7}\n"
          ]
        }
      ],
      "source": [
        "# 코드를 입력해 주세요\n",
        "union = sample1 | sample2\n",
        "print(f'{union}')"
      ]
    },
    {
      "cell_type": "markdown",
      "metadata": {
        "id": "Jx6iipcXi5dq"
      },
      "source": [
        "<p><strong>[출력 결과]</strong></p><pre>{1, 2, 3, 4, 5, 6, 7}</pre>"
      ]
    },
    {
      "cell_type": "markdown",
      "metadata": {
        "id": "1r_uoyUOi5dr"
      },
      "source": [
        "`sample1`과 `sample2`의 **차집합**을 활용하여 다음과 같이 출력합니다."
      ]
    },
    {
      "cell_type": "code",
      "execution_count": null,
      "metadata": {
        "id": "_fUVnwTIi5dr",
        "colab": {
          "base_uri": "https://localhost:8080/"
        },
        "outputId": "b1f566d8-75dd-4c12-dc57-e88e319768f3"
      },
      "outputs": [
        {
          "output_type": "stream",
          "name": "stdout",
          "text": [
            "{1, 2, 3}\n"
          ]
        }
      ],
      "source": [
        "# 코드를 입력해 주세요\n",
        "diff= sample1 - sample2\n",
        "print(f'{diff}')"
      ]
    },
    {
      "cell_type": "markdown",
      "metadata": {
        "id": "cPNBxq8Qi5ds"
      },
      "source": [
        "<p><strong>[출력 결과]</strong></p><pre>{1, 2, 3}</pre>"
      ]
    },
    {
      "cell_type": "markdown",
      "metadata": {
        "id": "24pLdsBX3PXx"
      },
      "source": [
        "### 연습문제 2\n",
        "\n",
        "- 다음 리스트에서 중복된 항목을 제거하세요\n",
        "- 최종 출력 값은 list 형태로 출력하세요"
      ]
    },
    {
      "cell_type": "code",
      "execution_count": null,
      "metadata": {
        "id": "7KXSVoYDi5dt"
      },
      "outputs": [],
      "source": [
        "numList = [1, 3, 2, 3, 7, 6, 8, 4, 10, 5, 3, 8, 9]"
      ]
    },
    {
      "cell_type": "code",
      "execution_count": null,
      "metadata": {
        "id": "lLEILpf03PXx",
        "colab": {
          "base_uri": "https://localhost:8080/"
        },
        "outputId": "39e5d6d6-7cdc-4186-a2ba-c8bd8214532e"
      },
      "outputs": [
        {
          "output_type": "execute_result",
          "data": {
            "text/plain": [
              "[1, 2, 3, 4, 5, 6, 7, 8, 9, 10]"
            ]
          },
          "metadata": {},
          "execution_count": 73
        }
      ],
      "source": [
        "# 코드를 입력해 주세요\n",
        "uniqueList = list(set(numList))\n",
        "uniqueList"
      ]
    },
    {
      "cell_type": "markdown",
      "metadata": {
        "id": "4z63jCj8i5du"
      },
      "source": [
        "<p><strong>[출력 결과]</strong></p><pre>[1, 2, 3, 4, 5, 6, 7, 8, 9, 10]</pre>"
      ]
    },
    {
      "cell_type": "markdown",
      "metadata": {
        "id": "pPl7y7cWsMYB"
      },
      "source": [
        "### 연습문제 3"
      ]
    },
    {
      "cell_type": "markdown",
      "metadata": {
        "id": "1ZsgKVeV3PXp"
      },
      "source": [
        "- 학생들의 이름과 점수를 key와 value로 가지는 `score` 변수를 생성하세요.\n",
        "    - 하준 90점, 서윤 86점, 지아 80점"
      ]
    },
    {
      "cell_type": "code",
      "execution_count": null,
      "metadata": {
        "id": "UWLF-tRb3PXq",
        "colab": {
          "base_uri": "https://localhost:8080/"
        },
        "outputId": "f708fb9d-591c-461a-ed20-413925c8ab75"
      },
      "outputs": [
        {
          "output_type": "execute_result",
          "data": {
            "text/plain": [
              "{'하준': 90, '서윤': 86, '지아': 80}"
            ]
          },
          "metadata": {},
          "execution_count": 74
        }
      ],
      "source": [
        "# 코드를 입력해 주세요\n",
        "score = {\n",
        "    '하준': 90,\n",
        "    '서윤': 86,\n",
        "    '지아': 80\n",
        "}\n",
        "score"
      ]
    },
    {
      "cell_type": "markdown",
      "metadata": {
        "id": "4AkTqSeDi5eR"
      },
      "source": [
        "<p><strong>[출력 결과]</strong></p><pre>{'하준': 90, '서윤': 86, '지아': 80}</pre>"
      ]
    },
    {
      "cell_type": "markdown",
      "metadata": {
        "id": "jM32b3t2qbax"
      },
      "source": [
        "score 변수에 수지 95점을 추가하세요."
      ]
    },
    {
      "cell_type": "code",
      "execution_count": null,
      "metadata": {
        "id": "KsOqR1HtCtex",
        "colab": {
          "base_uri": "https://localhost:8080/"
        },
        "outputId": "644b743c-bec6-4738-dcf4-8c7c80b4947c"
      },
      "outputs": [
        {
          "output_type": "execute_result",
          "data": {
            "text/plain": [
              "{'하준': 90, '서윤': 86, '지아': 80, '수지': 95}"
            ]
          },
          "metadata": {},
          "execution_count": 75
        }
      ],
      "source": [
        "# 코드를 입력해 주세요\n",
        "score['수지'] = 95\n",
        "score"
      ]
    },
    {
      "cell_type": "markdown",
      "metadata": {
        "id": "dVjYvvzNi5eT"
      },
      "source": [
        "<p><strong>[출력 결과]</strong></p><pre>{'하준': 90, '서윤': 86, '지아': 80, '수지': 95}</pre>"
      ]
    },
    {
      "cell_type": "markdown",
      "metadata": {
        "id": "UcmPMPS8qeBX"
      },
      "source": [
        "score 변수에서 지아를 삭제하세요."
      ]
    },
    {
      "cell_type": "code",
      "execution_count": null,
      "metadata": {
        "id": "r1Xec5mX3PXs",
        "colab": {
          "base_uri": "https://localhost:8080/"
        },
        "outputId": "40591a92-0cea-4a0d-d56e-f9b5d7771030"
      },
      "outputs": [
        {
          "output_type": "execute_result",
          "data": {
            "text/plain": [
              "{'하준': 90, '서윤': 86, '수지': 95}"
            ]
          },
          "metadata": {},
          "execution_count": 76
        }
      ],
      "source": [
        "# 코드를 입력해 주세요\n",
        "del score['지아']\n",
        "score"
      ]
    },
    {
      "cell_type": "markdown",
      "metadata": {
        "id": "ggjF9gJgi5eU"
      },
      "source": [
        "<p><strong>[출력 결과]</strong></p><pre>{'하준': 90, '서윤': 86, '수지': 95}</pre>"
      ]
    },
    {
      "cell_type": "markdown",
      "metadata": {
        "id": "apYvbt9kqhFo"
      },
      "source": [
        "score 변수에 기창 98점, 남철 60점, 기성 75점을 **한번에** 추가하세요.\n",
        "- update() 를 사용하세요"
      ]
    },
    {
      "cell_type": "code",
      "execution_count": null,
      "metadata": {
        "id": "y2_7I4ZWrF5-",
        "colab": {
          "base_uri": "https://localhost:8080/"
        },
        "outputId": "635ab483-24c5-4d23-99bb-5a7c39458c51"
      },
      "outputs": [
        {
          "output_type": "execute_result",
          "data": {
            "text/plain": [
              "{'하준': 90, '서윤': 86, '수지': 95, '기창': 98, '남철': 60, '기성': 75}"
            ]
          },
          "metadata": {},
          "execution_count": 77
        }
      ],
      "source": [
        "# 코드를 입력해 주세요\n",
        "score.update({\n",
        "    '기창': 98,\n",
        "    '남철': 60,\n",
        "    '기성': 75\n",
        "})\n",
        "score"
      ]
    },
    {
      "cell_type": "markdown",
      "metadata": {
        "id": "rZe79zCUi5eW"
      },
      "source": [
        "<p><strong>[출력 결과]</strong></p><pre>{'하준': 90, '서윤': 86, '수지': 95, '기창': 98, '남철': 60, '기성': 75}</pre>"
      ]
    },
    {
      "cell_type": "markdown",
      "source": [
        "## **4. 문자열**"
      ],
      "metadata": {
        "id": "NXPZyABKjvtm"
      }
    },
    {
      "cell_type": "markdown",
      "metadata": {
        "id": "K6zjGLlAjKWL"
      },
      "source": [
        "### 연습문제 1\n",
        "\n",
        "- 변수 `a`를 활용하여 문자열 포맷팅으로 출력하세요\n",
        "- print() 를 사용합니다."
      ]
    },
    {
      "cell_type": "code",
      "execution_count": null,
      "metadata": {
        "id": "x2yy9L3KjKWM"
      },
      "outputs": [],
      "source": [
        "a = 1234"
      ]
    },
    {
      "cell_type": "code",
      "execution_count": null,
      "metadata": {
        "id": "Hp9Wq-bJjKWN",
        "outputId": "b093a533-1f1e-43d8-ca1e-767b7c568100",
        "colab": {
          "base_uri": "https://localhost:8080/"
        }
      },
      "outputs": [
        {
          "output_type": "stream",
          "name": "stdout",
          "text": [
            "a의 값은 1234입니다.\n"
          ]
        }
      ],
      "source": [
        "# 코드를 입력해 주세요\n",
        "a = 1234\n",
        "print('a의 값은 {}입니다.'.format(a))"
      ]
    },
    {
      "cell_type": "markdown",
      "metadata": {
        "id": "2d5XR5p4jKWQ"
      },
      "source": [
        "<p><strong>[출력 결과]</strong></p><pre>a의 값은 1234입니다\n",
        "</pre>"
      ]
    },
    {
      "cell_type": "markdown",
      "metadata": {
        "id": "Lbt495GhjKWR"
      },
      "source": [
        "- 변수 `a`, `b`를 활용하여 문자열 포맷팅으로 출력하세요\n",
        "- 단, `a`, `b`의 값은 소수 3째짜리까지 출력하고, 그 이하는 반올림합니다."
      ]
    },
    {
      "cell_type": "code",
      "execution_count": null,
      "metadata": {
        "id": "raLPMU2-jKWR"
      },
      "outputs": [],
      "source": [
        "a = 3.141592\n",
        "b = 6.181112"
      ]
    },
    {
      "cell_type": "code",
      "execution_count": null,
      "metadata": {
        "id": "t_obAyn0jKWS",
        "outputId": "ab87e782-526b-40b9-af28-972a19b3217e",
        "colab": {
          "base_uri": "https://localhost:8080/"
        }
      },
      "outputs": [
        {
          "output_type": "stream",
          "name": "stdout",
          "text": [
            "a의 값은 3.142입니다.\n",
            "b의 값은 6.181입니다.\n"
          ]
        }
      ],
      "source": [
        "# 코드를 입력해 주세요\n",
        "print('a의 값은 {:.3f}입니다.'.format(a))\n",
        "print('b의 값은 {:.3f}입니다.'.format(b))"
      ]
    },
    {
      "cell_type": "markdown",
      "metadata": {
        "id": "vXDWlMUKjKWT"
      },
      "source": [
        "<p><strong>[출력 결과]</strong></p><pre>a의 값은 3.142, b의 값은 6.181입니다\n",
        "</pre>"
      ]
    },
    {
      "cell_type": "markdown",
      "metadata": {
        "id": "8y1u8E9UjKWx"
      },
      "source": [
        "### 연습문제 2"
      ]
    },
    {
      "cell_type": "markdown",
      "metadata": {
        "id": "aQFXKvrKjKWy"
      },
      "source": [
        "문자열 \"210101-1234567\"을 인덱싱 하여 성별을 나타내는 숫자를 출력 하세요"
      ]
    },
    {
      "cell_type": "code",
      "execution_count": null,
      "metadata": {
        "id": "UW2gEvmGjKWy"
      },
      "outputs": [],
      "source": [
        "registration_number =  '210101-1234567'"
      ]
    },
    {
      "cell_type": "code",
      "execution_count": null,
      "metadata": {
        "id": "x5tpa3dJjKWz",
        "colab": {
          "base_uri": "https://localhost:8080/",
          "height": 35
        },
        "outputId": "91ad3b76-3986-4a4e-8223-0afe94ec0d07"
      },
      "outputs": [
        {
          "output_type": "execute_result",
          "data": {
            "text/plain": [
              "'1'"
            ],
            "application/vnd.google.colaboratory.intrinsic+json": {
              "type": "string"
            }
          },
          "metadata": {},
          "execution_count": 84
        }
      ],
      "source": [
        "# 코드를 입력해 주세요\n",
        "registration_number[7]"
      ]
    },
    {
      "cell_type": "markdown",
      "metadata": {
        "id": "xYKEoJyUjKW0"
      },
      "source": [
        "<p><strong>[출력 결과]</strong></p><pre>'1'</pre>"
      ]
    },
    {
      "cell_type": "markdown",
      "metadata": {
        "id": "E40FocS3jKXN"
      },
      "source": [
        "### 연습문제 3"
      ]
    },
    {
      "cell_type": "markdown",
      "metadata": {
        "id": "J9w_AfOUjKXN"
      },
      "source": [
        "문자열 '20210101Sunny'를 슬라이싱하여 날짜는 `date`변수에 날씨는 `weather` 변수에 저장 후 출력 하세요"
      ]
    },
    {
      "cell_type": "code",
      "execution_count": null,
      "metadata": {
        "id": "1bmyGuTNjKXP"
      },
      "outputs": [],
      "source": [
        "sample = '20210101Sunny'"
      ]
    },
    {
      "cell_type": "code",
      "execution_count": null,
      "metadata": {
        "id": "Hwmt0VzMjKXQ",
        "outputId": "e356dc82-f599-470a-a7c8-4885e3e85431",
        "colab": {
          "base_uri": "https://localhost:8080/"
        }
      },
      "outputs": [
        {
          "output_type": "stream",
          "name": "stdout",
          "text": [
            "date: 20210101,weather: Sunny\n"
          ]
        }
      ],
      "source": [
        "# 코드를 입력해 주세요\n",
        "date = sample[:8]\n",
        "weather = sample[8:]\n",
        "\n",
        "# 결과 출력\n",
        "print(f'date: {date},weather: {weather}')\n"
      ]
    },
    {
      "cell_type": "markdown",
      "metadata": {
        "id": "6H5qrIUijKXR"
      },
      "source": [
        "<p><strong>[출력 결과]</strong></p><pre>date: 20210101, weather: Sunny\n",
        "</pre>"
      ]
    },
    {
      "cell_type": "markdown",
      "metadata": {
        "id": "_UfGA8sVjKXR"
      },
      "source": [
        "(문자열 슬라이싱을 활용)자동차 번호가 다음과 같을 때 뒤에 4자리만 출력하세요."
      ]
    },
    {
      "cell_type": "code",
      "execution_count": null,
      "metadata": {
        "id": "jHldiLZdjKXS"
      },
      "outputs": [],
      "source": [
        "license_plate = \"13나 5645\""
      ]
    },
    {
      "cell_type": "code",
      "execution_count": null,
      "metadata": {
        "id": "EtueBEuNjKXT",
        "outputId": "bcb34de5-2ce1-4d71-a58a-0fa40ecd8edb",
        "colab": {
          "base_uri": "https://localhost:8080/",
          "height": 35
        }
      },
      "outputs": [
        {
          "output_type": "execute_result",
          "data": {
            "text/plain": [
              "'5645'"
            ],
            "application/vnd.google.colaboratory.intrinsic+json": {
              "type": "string"
            }
          },
          "metadata": {},
          "execution_count": 89
        }
      ],
      "source": [
        "# 코드를 입력해 주세요\n",
        "license_plate[-4:]"
      ]
    },
    {
      "cell_type": "markdown",
      "metadata": {
        "id": "XQ5s5aqDjKXU"
      },
      "source": [
        "<p><strong>[출력 결과]</strong></p><pre>5645\n",
        "</pre>"
      ]
    },
    {
      "cell_type": "markdown",
      "metadata": {
        "id": "kNQGbTDvjKXh"
      },
      "source": [
        "### 연습문제 4\n",
        "\n",
        "- 다음 중 a, b, c에서 공통으로 사용된 알파벳(공백 포함)을 출력하세요.\n",
        "- list 형식으로 출력하세요."
      ]
    },
    {
      "cell_type": "code",
      "execution_count": null,
      "metadata": {
        "id": "d2P65TNCjKXi"
      },
      "outputs": [],
      "source": [
        "a = 'Hello, World'\n",
        "b = 'World To World'\n",
        "c = 'world to world'"
      ]
    },
    {
      "cell_type": "code",
      "execution_count": null,
      "metadata": {
        "id": "aQijdNq4jKXi",
        "colab": {
          "base_uri": "https://localhost:8080/"
        },
        "outputId": "3f9e29df-e441-4e37-e388-ba0413fd98c7"
      },
      "outputs": [
        {
          "output_type": "execute_result",
          "data": {
            "text/plain": [
              "['d', 'l', 'r', 'o', ' ']"
            ]
          },
          "metadata": {},
          "execution_count": 92
        }
      ],
      "source": [
        "# 코드를 입력해 주세요\n",
        "set_a = set(a)\n",
        "set_b = set(b)\n",
        "set_c = set(c)\n",
        "common_chars = set_a & set_b & set_c\n",
        "common_chars= list(common_chars)\n",
        "common_chars"
      ]
    },
    {
      "cell_type": "markdown",
      "metadata": {
        "id": "eeDrO82UjKXj"
      },
      "source": [
        "<p><strong>[출력 결과]</strong></p><pre>[' ', 'd', 'l', 'o', 'r']</pre>"
      ]
    },
    {
      "cell_type": "markdown",
      "metadata": {
        "id": "sX8mOZ82jKX3"
      },
      "source": [
        "### 연습문제 5"
      ]
    },
    {
      "cell_type": "markdown",
      "metadata": {
        "id": "oI3XNYgOjKX3"
      },
      "source": [
        "sample = ['Python', 'is', 'too', 'interesting']\n",
        "\n",
        "리스트를 'Python * is * too * interesting' 이라는 문자열로 출력하세요."
      ]
    },
    {
      "cell_type": "code",
      "execution_count": null,
      "metadata": {
        "id": "TsaOu5PrjKX4"
      },
      "outputs": [],
      "source": [
        "sample = ['Python', 'is', 'too', 'interesting']"
      ]
    },
    {
      "cell_type": "code",
      "execution_count": null,
      "metadata": {
        "id": "PhKL3LwBjKX4",
        "colab": {
          "base_uri": "https://localhost:8080/",
          "height": 35
        },
        "outputId": "46a07c80-2e1b-46fa-dd3a-59f736243203"
      },
      "outputs": [
        {
          "output_type": "execute_result",
          "data": {
            "text/plain": [
              "'Python * is * too * interesting'"
            ],
            "application/vnd.google.colaboratory.intrinsic+json": {
              "type": "string"
            }
          },
          "metadata": {},
          "execution_count": 95
        }
      ],
      "source": [
        "# 코드를 입력해 주세요\n",
        "result = ' * '.join(sample)\n",
        "result"
      ]
    },
    {
      "cell_type": "markdown",
      "metadata": {
        "id": "awrFEELBjKX5"
      },
      "source": [
        "<p><strong>[출력 결과]</strong></p><pre>'Python * is * too * interesting'</pre>"
      ]
    },
    {
      "cell_type": "markdown",
      "source": [
        "phone_number = ['010', '1234', '5678']\n",
        "\n",
        "리스트를 '010-1234-5678' 이라는 문자열로 출력하세요."
      ],
      "metadata": {
        "id": "MeWUSj-wYJtd"
      }
    },
    {
      "cell_type": "code",
      "execution_count": null,
      "metadata": {
        "id": "ZR9Y4vwSjKX6"
      },
      "outputs": [],
      "source": [
        "phone_number = ['010', '1234', '5678']"
      ]
    },
    {
      "cell_type": "code",
      "execution_count": null,
      "metadata": {
        "id": "FQ-N-aL3jKX6",
        "colab": {
          "base_uri": "https://localhost:8080/",
          "height": 35
        },
        "outputId": "2bb901eb-04e1-4a41-e85f-3743129feb55"
      },
      "outputs": [
        {
          "output_type": "execute_result",
          "data": {
            "text/plain": [
              "'010 - 1234 - 5678'"
            ],
            "application/vnd.google.colaboratory.intrinsic+json": {
              "type": "string"
            }
          },
          "metadata": {},
          "execution_count": 97
        }
      ],
      "source": [
        "# 코드를 입력해 주세요\n",
        "result = ' - '.join(phone_number)\n",
        "result"
      ]
    },
    {
      "cell_type": "markdown",
      "metadata": {
        "id": "RfUjs68ojKX7"
      },
      "source": [
        "<p><strong>[출력 결과]</strong></p><pre>'010-1234-5678'</pre>"
      ]
    },
    {
      "cell_type": "markdown",
      "source": [
        "## **5. 연산**"
      ],
      "metadata": {
        "id": "U_yF2saHkag1"
      }
    },
    {
      "cell_type": "markdown",
      "metadata": {
        "id": "fRXGW-tXkdPS"
      },
      "source": [
        "### 연습문제\n",
        "\n",
        "`a`와 `b`를 덧셈하여 다음의 결과가 나오도록 코드를 입력해 주세요\n",
        "\n",
        "- 단, `a`와 `b`의 값을 수정하지 않습니다."
      ]
    },
    {
      "cell_type": "code",
      "execution_count": null,
      "metadata": {
        "id": "K3CW7xYlkdPT"
      },
      "outputs": [],
      "source": [
        "a = '10'\n",
        "b = 20"
      ]
    },
    {
      "cell_type": "code",
      "execution_count": null,
      "metadata": {
        "id": "WpTUr2hFkdPT",
        "colab": {
          "base_uri": "https://localhost:8080/"
        },
        "outputId": "a2d144b3-4651-4204-dc7c-2365114ad3f2"
      },
      "outputs": [
        {
          "output_type": "execute_result",
          "data": {
            "text/plain": [
              "30"
            ]
          },
          "metadata": {},
          "execution_count": 100
        }
      ],
      "source": [
        "# 코드를 입력해 주세요\n",
        "result = int(a) + b\n",
        "result"
      ]
    },
    {
      "cell_type": "markdown",
      "metadata": {
        "id": "_zOLe0rVkdPT"
      },
      "source": [
        "<p><strong>[출력 결과]</strong></p><pre>30</pre>"
      ]
    },
    {
      "cell_type": "code",
      "execution_count": null,
      "metadata": {
        "id": "XCZtHbnDkdPU",
        "colab": {
          "base_uri": "https://localhost:8080/",
          "height": 35
        },
        "outputId": "0d13a985-a005-493f-88ea-8d4b7ee5803a"
      },
      "outputs": [
        {
          "output_type": "execute_result",
          "data": {
            "text/plain": [
              "'1020'"
            ],
            "application/vnd.google.colaboratory.intrinsic+json": {
              "type": "string"
            }
          },
          "metadata": {},
          "execution_count": 101
        }
      ],
      "source": [
        "# 코드를 입력해 주세요\n",
        "result = a + str(b)\n",
        "result"
      ]
    },
    {
      "cell_type": "markdown",
      "metadata": {
        "id": "qVf5NlDmkdPU"
      },
      "source": [
        "<p><strong>[출력 결과]</strong></p><pre>'1020'</pre>"
      ]
    },
    {
      "cell_type": "markdown",
      "source": [
        "## **6. 비교/논리/삼항연산자, ⭐⭐조건문**"
      ],
      "metadata": {
        "id": "q9wd3W5_khxK"
      }
    },
    {
      "cell_type": "markdown",
      "metadata": {
        "id": "cYzW5KXmkkgX"
      },
      "source": [
        "### 연습문제 1"
      ]
    },
    {
      "cell_type": "markdown",
      "metadata": {
        "id": "FclhoABZkkgX"
      },
      "source": [
        "사용자에게 몸무게를 입력 받아 과체중인지 정상 체중인지 출력하는 프로그램을 만드세요.\n",
        "\n",
        "- 몸무게가 100kg 초과이면 '귀하는 과체중 입니다.' 메시지를 출력하세요\n",
        "- 몸무게가 100kg 이하이면 '귀하는 정상체중 입니다.' 메시지를 출력하세요\n",
        "- 몸무게 입력은 input() 함수를 사용하여 입력 받습니다.\n",
        "- 반드시 **삼항연산자를 활용**하세요"
      ]
    },
    {
      "cell_type": "code",
      "execution_count": null,
      "metadata": {
        "id": "XxA8LBcHkkgY",
        "colab": {
          "base_uri": "https://localhost:8080/"
        },
        "outputId": "07748fa7-cd5d-4d57-a2c2-40670ff4807f"
      },
      "outputs": [
        {
          "name": "stdout",
          "output_type": "stream",
          "text": [
            "몸무게를 입력해 주세요: 105\n"
          ]
        }
      ],
      "source": [
        "# 입력 예시 (105로 입력한 경우)\n",
        "weight = input('몸무게를 입력해 주세요: ')"
      ]
    },
    {
      "cell_type": "code",
      "execution_count": null,
      "metadata": {
        "id": "3tDWiaBakkgY",
        "colab": {
          "base_uri": "https://localhost:8080/",
          "height": 35
        },
        "outputId": "9b8998a0-5310-459e-ba2e-16ff02009c25"
      },
      "outputs": [
        {
          "output_type": "execute_result",
          "data": {
            "text/plain": [
              "'귀하는 과체중 입니다.'"
            ],
            "application/vnd.google.colaboratory.intrinsic+json": {
              "type": "string"
            }
          },
          "metadata": {},
          "execution_count": 105
        }
      ],
      "source": [
        "# 코드를 입력해 주세요\n",
        "message = '귀하는 과체중 입니다.' if int(weight) > 100 else '귀하는 정상체중 입니다.'\n",
        "message"
      ]
    },
    {
      "cell_type": "markdown",
      "metadata": {
        "id": "93TyjKtSkkgZ"
      },
      "source": [
        "<p><strong>[출력 결과]</strong></p><pre>'귀하는 과체중 입니다.'</pre>"
      ]
    },
    {
      "cell_type": "markdown",
      "metadata": {
        "id": "l93nms65kkge"
      },
      "source": [
        "### 연습문제 2"
      ]
    },
    {
      "cell_type": "markdown",
      "metadata": {
        "id": "gKVYxUT8kkge"
      },
      "source": [
        "#### Q1"
      ]
    },
    {
      "cell_type": "markdown",
      "metadata": {
        "id": "CXnE2aC0kkge"
      },
      "source": [
        "- (몸무게 + 100 - 키)를 비만 수치 공식이라고 가정합니다.\n",
        "- 키와 몸무게를 입력받아 첫 번째 줄에 비만 수치를 출력합니다.\n",
        "- 비만 수치가 0보다 크면 비만이라는 메시지를 출력하세요.\n",
        "\n",
        "```\n",
        "입력 예) info =[155, 60] (키, 몸무게 순)\n",
        "출력[1]: 비만수치는 5 입니다.\n",
        "출력[2]: 당신은 비만입니다.\n",
        "```"
      ]
    },
    {
      "cell_type": "code",
      "execution_count": null,
      "metadata": {
        "id": "KAjx_Fgikkgf"
      },
      "outputs": [],
      "source": [
        "info = [155, 60]"
      ]
    },
    {
      "cell_type": "code",
      "execution_count": null,
      "metadata": {
        "id": "HVOu_yaBkkgf",
        "outputId": "70bbefc6-2bc4-44b7-bd33-21a558a8cdd5",
        "colab": {
          "base_uri": "https://localhost:8080/"
        }
      },
      "outputs": [
        {
          "output_type": "stream",
          "name": "stdout",
          "text": [
            "비만수치는 5 입니다\n",
            "당신은 비만입니다.\n"
          ]
        }
      ],
      "source": [
        "# 코드를 입력해 주세요\n",
        "rate= info[1]+100-info[0]\n",
        "if rate > 0:\n",
        "  message='당신은 비만입니다.'\n",
        "else:\n",
        "  message='아닙니다'\n",
        "print(f'비만수치는 {rate} 입니다')\n",
        "print(message)"
      ]
    },
    {
      "cell_type": "markdown",
      "metadata": {
        "id": "OmgZv07Ykkgg"
      },
      "source": [
        "<p><strong>[출력 결과]</strong></p><pre>비만수치는 5입니다\n",
        "당신은 비만입니다.\n",
        "</pre>"
      ]
    },
    {
      "cell_type": "markdown",
      "metadata": {
        "id": "3bmZEHfGkkgg"
      },
      "source": [
        "#### Q2"
      ]
    },
    {
      "cell_type": "markdown",
      "metadata": {
        "id": "AzbSpGRpkkgg"
      },
      "source": [
        "성적을 입력받아 90점 이상이면 A, 80점이상이면 B, 70점 이상이면 C, 70점 미만이면 D를 출력하세요\n",
        "- 단, 점수가 음수이거나 100점을 초과하는 경우에는 '에러'를 출력하세요\n",
        "\n",
        "힌트) input() 함수를 사용합니다.\n",
        "- input() 함수는 사용자로부터 입력 값을 받을 수 있습니다."
      ]
    },
    {
      "cell_type": "code",
      "execution_count": null,
      "metadata": {
        "id": "onOf3fCKkkgh",
        "outputId": "7d7eab35-96ac-40d2-f7cf-6c31bfa878b1",
        "colab": {
          "base_uri": "https://localhost:8080/"
        }
      },
      "outputs": [
        {
          "output_type": "stream",
          "name": "stdout",
          "text": [
            "성적을 입력하세요: 95\n",
            "A\n"
          ]
        }
      ],
      "source": [
        "# 코드를 입력해 주세요\n",
        "score = float(input(\"성적을 입력하세요: \"))\n",
        "\n",
        "# 점수 검증 및 등급 결정\n",
        "if score < 0 or score > 100:\n",
        "    message = '에러'\n",
        "elif score >= 90:\n",
        "    message = 'A'\n",
        "elif score >= 80:\n",
        "    message = 'B'\n",
        "elif score >= 70:\n",
        "    message = 'C'\n",
        "else:\n",
        "    message = 'D'\n",
        "\n",
        "# 결과 출력\n",
        "print(message)"
      ]
    },
    {
      "cell_type": "markdown",
      "metadata": {
        "id": "OQntgoxVkkgh"
      },
      "source": [
        "<p><strong>[출력 결과]</strong></p><pre>점수를 입력해 주세요: 95\n",
        "A\n",
        "</pre>"
      ]
    },
    {
      "cell_type": "markdown",
      "metadata": {
        "id": "Al9oYvm9kkgh"
      },
      "source": [
        "- 95점 입력시: A\n",
        "- 75점 입력시: C\n",
        "- -10점 입력시: 에러\n",
        "- 105점 입력시: 에러"
      ]
    },
    {
      "cell_type": "markdown",
      "metadata": {
        "id": "GWKB7Zjnkkgi"
      },
      "source": [
        "#### Q3"
      ]
    },
    {
      "cell_type": "markdown",
      "metadata": {
        "id": "azLc2fp8kkgi"
      },
      "source": [
        "사용자로부터 `달러`, `엔`, `유로`, 또는 `위안` 금액을 입력받은 후 이를 `원`으로 변환하는 프로그램을 작성해 주세요.\n",
        "\n",
        "각 통화별 환율은 다음과 같다.\n",
        "\n",
        "- 달러: 1237.0\n",
        "- 엔: 105.4\n",
        "- 유로: 1349.69\n",
        "- 위안: 194.57\n",
        "\n",
        "사용자는 10 달러, 200 엔, 30 유로, 100 위안과 같이 금액과 통화명 사이에 **공백**을 넣어 입력한다고 가정합니다.\n",
        "\n",
        "입력 예시) `10 달러`\n",
        "\n",
        "결과 예시) `11670.0원`"
      ]
    },
    {
      "cell_type": "code",
      "execution_count": null,
      "metadata": {
        "id": "Tz0boBBwkkgi",
        "outputId": "83f59ead-d54a-4a7b-fa4b-2a36c258c30a",
        "colab": {
          "base_uri": "https://localhost:8080/"
        }
      },
      "outputs": [
        {
          "output_type": "stream",
          "name": "stdout",
          "text": [
            "입력: 10 달러\n",
            "12370.0원\n"
          ]
        }
      ],
      "source": [
        "# 코드를 입력해 주세요\n",
        "exchange_rates = {\n",
        "    '달러': 1237.0,\n",
        "    '엔': 105.4,\n",
        "    '유로': 1349.69,\n",
        "    '위안': 194.57\n",
        "}\n",
        "\n",
        "# 사용자 입력 받기\n",
        "user_input = input(\"입력: \")\n",
        "\n",
        "# 입력값을 공백을 기준으로 분리\n",
        "amount_str, currency = user_input.split()\n",
        "\n",
        "# 금액을 실수형으로 변환\n",
        "amount = float(amount_str)\n",
        "\n",
        "# 환율에 따라 원화로 변환\n",
        "if currency in exchange_rates:\n",
        "    converted_amount = amount * exchange_rates[currency]\n",
        "    print(f'{converted_amount:.1f}원')\n"
      ]
    },
    {
      "cell_type": "markdown",
      "metadata": {
        "id": "jYIW4530kkgj"
      },
      "source": [
        "<p><strong>[출력 결과]</strong></p><pre>입력: 10 달러\n",
        "12370.0 원\n",
        "</pre>"
      ]
    },
    {
      "cell_type": "markdown",
      "source": [
        "## **⭐⭐ 7. 반복문**"
      ],
      "metadata": {
        "id": "oywhCGQOlDx1"
      }
    },
    {
      "cell_type": "markdown",
      "metadata": {
        "id": "rLJP9M4xlFQx"
      },
      "source": [
        "### 연습문제 1"
      ]
    },
    {
      "cell_type": "markdown",
      "metadata": {
        "id": "Eyi4f2yMlFQy"
      },
      "source": [
        "반복문과 조건문을 활용하여 `sample` 에서 음수 값만 출력해 주세요"
      ]
    },
    {
      "cell_type": "code",
      "execution_count": null,
      "metadata": {
        "id": "JToNXncQlFQy"
      },
      "outputs": [],
      "source": [
        "sample = [1, 11, 22, -20, 55, -33, 0, -5, 12, 35, 19, -9, -1, -100, 90]"
      ]
    },
    {
      "cell_type": "code",
      "execution_count": null,
      "metadata": {
        "id": "cQ8gQTpZlFQz",
        "outputId": "e3c04e64-e69b-4ca4-8968-8a73a3ae83b9",
        "colab": {
          "base_uri": "https://localhost:8080/"
        }
      },
      "outputs": [
        {
          "output_type": "stream",
          "name": "stdout",
          "text": [
            "-20\n",
            "-33\n",
            "-5\n",
            "-9\n",
            "-1\n",
            "-100\n"
          ]
        }
      ],
      "source": [
        "# 코드를 입력해 주세요\n",
        "for number in sample:\n",
        "    if number < 0:\n",
        "        print(number)"
      ]
    },
    {
      "cell_type": "markdown",
      "metadata": {
        "id": "6mYskr4slFQ0"
      },
      "source": [
        "<p><strong>[출력 결과]</strong></p><pre>-20\n",
        "-33\n",
        "-5\n",
        "-9\n",
        "-1\n",
        "-100\n",
        "</pre>"
      ]
    },
    {
      "cell_type": "markdown",
      "metadata": {
        "id": "3ouKPO0-lFQ1"
      },
      "source": [
        "반복문과 조건문을 활용하여 `sample`의 요소 중 10보다 크고 50보다 작은 요소만 출력해 주세요"
      ]
    },
    {
      "cell_type": "code",
      "execution_count": null,
      "metadata": {
        "id": "kf9nRxH5lFQ1",
        "outputId": "f14e7b3c-6abe-4cbd-fe22-6deedd92aa19",
        "colab": {
          "base_uri": "https://localhost:8080/"
        }
      },
      "outputs": [
        {
          "output_type": "stream",
          "name": "stdout",
          "text": [
            "11\n",
            "22\n",
            "12\n",
            "35\n",
            "19\n"
          ]
        }
      ],
      "source": [
        "# 코드를 입력해 주세요\n",
        "for number in sample:\n",
        "    if 10 < number < 50:\n",
        "        print(number)"
      ]
    },
    {
      "cell_type": "markdown",
      "metadata": {
        "id": "Sm8I6GHklFQ2"
      },
      "source": [
        "<p><strong>[출력 결과]</strong></p><pre>11\n",
        "22\n",
        "12\n",
        "35\n",
        "19\n",
        "</pre>"
      ]
    },
    {
      "cell_type": "markdown",
      "metadata": {
        "id": "O_W5SK5NlFRA"
      },
      "source": [
        "### 연습문제 2"
      ]
    },
    {
      "cell_type": "markdown",
      "metadata": {
        "id": "5qm6I82zlFRB"
      },
      "source": [
        "다음의 문자열을 **반복문**을 활용하여 출력하되, **모음('a', 'e', 'i', 'o', 'u')만 대문자**로 자음은 소문자로 출력해 주세요."
      ]
    },
    {
      "cell_type": "code",
      "execution_count": null,
      "metadata": {
        "id": "odmO_mDYlFRQ"
      },
      "outputs": [],
      "source": [
        "sample = \"PyThoN Is fUn\""
      ]
    },
    {
      "cell_type": "code",
      "execution_count": null,
      "metadata": {
        "id": "2Y9qE5EflFRQ",
        "outputId": "fd4fd6ae-0dcb-4f44-f535-e11d738859ec",
        "colab": {
          "base_uri": "https://localhost:8080/"
        }
      },
      "outputs": [
        {
          "output_type": "stream",
          "name": "stdout",
          "text": [
            "p\n",
            "y\n",
            "t\n",
            "h\n",
            "(모음)O\n",
            "n\n",
            " \n",
            "(모음)I\n",
            "s\n",
            " \n",
            "f\n",
            "(모음)U\n",
            "n\n"
          ]
        }
      ],
      "source": [
        "# 코드를 입력해 주세요\n",
        "#     if i.lower() in ['a', 'e', 'i', 'o', 'u']:\n",
        "for c in sample:\n",
        "    if c.lower() in ['a', 'e', 'i', 'o', 'u']:\n",
        "        # 모음인 경우 대문자로 변환\n",
        "        print(f\"(모음){c.upper()}\")\n",
        "    else:\n",
        "        # 자음인 경우 소문자로 변환\n",
        "        print(c.lower())\n"
      ]
    },
    {
      "cell_type": "markdown",
      "metadata": {
        "id": "yzB2ntWilFRR"
      },
      "source": [
        "<p><strong>[출력 결과]</strong></p><pre> p\n",
        " y\n",
        " t\n",
        " h\n",
        "(모음) O\n",
        " n\n",
        "(공백)\n",
        "(모음) I\n",
        " s\n",
        "(공백)\n",
        " f\n",
        "(모음) U\n",
        " n\n",
        "</pre>"
      ]
    },
    {
      "cell_type": "markdown",
      "metadata": {
        "id": "1_h_EkchFbU4"
      },
      "source": [
        "### 연습문제 3\n",
        "\n",
        "- 구구단을 반복문을 사용하여 만들어 보세요!\n",
        "- 구구단은 2단 부터 9단까지 있습니다."
      ]
    },
    {
      "cell_type": "code",
      "execution_count": null,
      "metadata": {
        "colab": {
          "base_uri": "https://localhost:8080/"
        },
        "id": "ENWT9y5RFgaJ",
        "outputId": "82c0359f-d67a-4d4a-d8de-97869a4171ad"
      },
      "outputs": [
        {
          "output_type": "stream",
          "name": "stdout",
          "text": [
            "2 x 1 = 2\n",
            "2 x 2 = 4\n",
            "2 x 3 = 6\n",
            "2 x 4 = 8\n",
            "2 x 5 = 10\n",
            "2 x 6 = 12\n",
            "2 x 7 = 14\n",
            "2 x 8 = 16\n",
            "2 x 9 = 18\n",
            "\n",
            "3 x 1 = 3\n",
            "3 x 2 = 6\n",
            "3 x 3 = 9\n",
            "3 x 4 = 12\n",
            "3 x 5 = 15\n",
            "3 x 6 = 18\n",
            "3 x 7 = 21\n",
            "3 x 8 = 24\n",
            "3 x 9 = 27\n",
            "\n",
            "4 x 1 = 4\n",
            "4 x 2 = 8\n",
            "4 x 3 = 12\n",
            "4 x 4 = 16\n",
            "4 x 5 = 20\n",
            "4 x 6 = 24\n",
            "4 x 7 = 28\n",
            "4 x 8 = 32\n",
            "4 x 9 = 36\n",
            "\n",
            "5 x 1 = 5\n",
            "5 x 2 = 10\n",
            "5 x 3 = 15\n",
            "5 x 4 = 20\n",
            "5 x 5 = 25\n",
            "5 x 6 = 30\n",
            "5 x 7 = 35\n",
            "5 x 8 = 40\n",
            "5 x 9 = 45\n",
            "\n",
            "6 x 1 = 6\n",
            "6 x 2 = 12\n",
            "6 x 3 = 18\n",
            "6 x 4 = 24\n",
            "6 x 5 = 30\n",
            "6 x 6 = 36\n",
            "6 x 7 = 42\n",
            "6 x 8 = 48\n",
            "6 x 9 = 54\n",
            "\n",
            "7 x 1 = 7\n",
            "7 x 2 = 14\n",
            "7 x 3 = 21\n",
            "7 x 4 = 28\n",
            "7 x 5 = 35\n",
            "7 x 6 = 42\n",
            "7 x 7 = 49\n",
            "7 x 8 = 56\n",
            "7 x 9 = 63\n",
            "\n",
            "8 x 1 = 8\n",
            "8 x 2 = 16\n",
            "8 x 3 = 24\n",
            "8 x 4 = 32\n",
            "8 x 5 = 40\n",
            "8 x 6 = 48\n",
            "8 x 7 = 56\n",
            "8 x 8 = 64\n",
            "8 x 9 = 72\n",
            "\n",
            "9 x 1 = 9\n",
            "9 x 2 = 18\n",
            "9 x 3 = 27\n",
            "9 x 4 = 36\n",
            "9 x 5 = 45\n",
            "9 x 6 = 54\n",
            "9 x 7 = 63\n",
            "9 x 8 = 72\n",
            "9 x 9 = 81\n",
            "\n"
          ]
        }
      ],
      "source": [
        "# 코드를 입력해 주세요\n",
        "for i in range(2, 10):  # 2단부터 9단까지 반복\n",
        "\n",
        "    for j in range(1, 10):  # 1부터 9까지 곱셈\n",
        "        print(f\"{i} x {j} = {i * j}\")\n",
        "    print()  # 각 단 사이에 빈 줄 추가"
      ]
    },
    {
      "cell_type": "markdown",
      "metadata": {
        "id": "gh-4iIWflFRd"
      },
      "source": [
        "<p><strong>[출력 결과]</strong></p><pre>2 X 1 = 2\n",
        "2 X 2 = 4\n",
        "2 X 3 = 6\n",
        "2 X 4 = 8\n",
        "2 X 5 = 10\n",
        "2 X 6 = 12\n",
        "2 X 7 = 14\n",
        "2 X 8 = 16\n",
        "2 X 9 = 18\n",
        "\n",
        "3 X 1 = 3\n",
        "3 X 2 = 6\n",
        "3 X 3 = 9\n",
        "3 X 4 = 12\n",
        "3 X 5 = 15\n",
        "3 X 6 = 18\n",
        "3 X 7 = 21\n",
        "3 X 8 = 24\n",
        "3 X 9 = 27\n",
        "\n",
        "4 X 1 = 4\n",
        "4 X 2 = 8\n",
        "4 X 3 = 12\n",
        "4 X 4 = 16\n",
        "4 X 5 = 20\n",
        "4 X 6 = 24\n",
        "4 X 7 = 28\n",
        "4 X 8 = 32\n",
        "4 X 9 = 36\n",
        "\n",
        "5 X 1 = 5\n",
        "5 X 2 = 10\n",
        "5 X 3 = 15\n",
        "5 X 4 = 20\n",
        "5 X 5 = 25\n",
        "5 X 6 = 30\n",
        "5 X 7 = 35\n",
        "5 X 8 = 40\n",
        "5 X 9 = 45\n",
        "\n",
        "6 X 1 = 6\n",
        "6 X 2 = 12\n",
        "6 X 3 = 18\n",
        "6 X 4 = 24\n",
        "6 X 5 = 30\n",
        "6 X 6 = 36\n",
        "6 X 7 = 42\n",
        "6 X 8 = 48\n",
        "6 X 9 = 54\n",
        "\n",
        "7 X 1 = 7\n",
        "7 X 2 = 14\n",
        "7 X 3 = 21\n",
        "7 X 4 = 28\n",
        "7 X 5 = 35\n",
        "7 X 6 = 42\n",
        "7 X 7 = 49\n",
        "7 X 8 = 56\n",
        "7 X 9 = 63\n",
        "\n",
        "8 X 1 = 8\n",
        "8 X 2 = 16\n",
        "8 X 3 = 24\n",
        "8 X 4 = 32\n",
        "8 X 5 = 40\n",
        "8 X 6 = 48\n",
        "8 X 7 = 56\n",
        "8 X 8 = 64\n",
        "8 X 9 = 72\n",
        "\n",
        "9 X 1 = 9\n",
        "9 X 2 = 18\n",
        "9 X 3 = 27\n",
        "9 X 4 = 36\n",
        "9 X 5 = 45\n",
        "9 X 6 = 54\n",
        "9 X 7 = 63\n",
        "9 X 8 = 72\n",
        "9 X 9 = 81\n",
        "\n",
        "</pre>"
      ]
    },
    {
      "cell_type": "markdown",
      "metadata": {
        "id": "SYSnEUgZlFRr"
      },
      "source": [
        "### 연습문제 4"
      ]
    },
    {
      "cell_type": "markdown",
      "metadata": {
        "id": "BAioGGfilFRs"
      },
      "source": [
        "사용자의 입력이 'MALE', 'FEMALE'인 경우는 while 문을 종료하고, 그렇지 않으면 \"잘못된 입력 값입니다.\"를 출력하세요\n",
        "\n",
        "- input() 함수로 사용자로부터 입력을 받습니다."
      ]
    },
    {
      "cell_type": "code",
      "execution_count": null,
      "metadata": {
        "id": "_dIvCf1wTwC8",
        "outputId": "cf294fb6-837d-408e-cbce-93cdb4858e59"
      },
      "outputs": [
        {
          "name": "stdout",
          "output_type": "stream",
          "text": []
        }
      ],
      "source": [
        "# 코드를 입력해 주세요\n"
      ]
    },
    {
      "cell_type": "markdown",
      "metadata": {
        "id": "NOipAGrtlFRu"
      },
      "source": [
        "<p><strong>[출력 결과]</strong></p><pre>male\n",
        "잘못된 입력 값입니다.\n",
        "animal\n",
        "잘못된 입력 값입니다.\n",
        "FEMALE\n",
        "====\n",
        "프로그램 종료\n",
        "</pre>"
      ]
    },
    {
      "cell_type": "markdown",
      "metadata": {
        "id": "-K427KJjTwC-"
      },
      "source": [
        "### 연습 문제 5"
      ]
    },
    {
      "cell_type": "markdown",
      "metadata": {
        "id": "ee-VmO97TwC-"
      },
      "source": [
        "1부터 50까지의 숫자 중에서 짝수의 합을 구하세요 (while 사용)"
      ]
    },
    {
      "cell_type": "code",
      "execution_count": null,
      "metadata": {
        "colab": {
          "base_uri": "https://localhost:8080/"
        },
        "id": "9Wtkpa8JTwC-",
        "outputId": "ffdee2a3-13c3-43e2-facc-41e65924b0ca"
      },
      "outputs": [
        {
          "output_type": "stream",
          "name": "stdout",
          "text": [
            "count: 2, total: 2\n",
            "count: 4, total: 6\n",
            "count: 6, total: 12\n",
            "count: 8, total: 20\n",
            "count: 10, total: 30\n",
            "count: 12, total: 42\n",
            "count: 14, total: 56\n",
            "count: 16, total: 72\n",
            "count: 18, total: 90\n",
            "count: 20, total: 110\n",
            "count: 22, total: 132\n",
            "count: 24, total: 156\n",
            "count: 26, total: 182\n",
            "count: 28, total: 210\n",
            "count: 30, total: 240\n",
            "count: 32, total: 272\n",
            "count: 34, total: 306\n",
            "count: 36, total: 342\n",
            "count: 38, total: 380\n",
            "count: 40, total: 420\n",
            "count: 42, total: 462\n",
            "count: 44, total: 506\n",
            "count: 46, total: 552\n",
            "count: 48, total: 600\n",
            "count: 50, total: 650\n"
          ]
        }
      ],
      "source": [
        "# 코드를 입력해 주세요\n",
        "# 초기값 설정\n",
        "count = 2\n",
        "total = 0\n",
        "\n",
        "# 1부터 50까지의 짝수 합계 출력\n",
        "while count <= 50:\n",
        "    total += count  # 짝수의 합계를 누적\n",
        "    print(f\"count: {count}, total: {total}\")  # 현재 count와 total 출력\n",
        "    count += 2  # count를 2씩 증가"
      ]
    },
    {
      "cell_type": "markdown",
      "metadata": {
        "id": "xZwiJ1HdlFRx"
      },
      "source": [
        "<p><strong>[출력 결과]</strong></p><pre>count: 2, total: 2\n",
        "count: 4, total: 6\n",
        "count: 6, total: 12\n",
        "count: 8, total: 20\n",
        "count: 10, total: 30\n",
        "count: 12, total: 42\n",
        "count: 14, total: 56\n",
        "count: 16, total: 72\n",
        "count: 18, total: 90\n",
        "count: 20, total: 110\n",
        "count: 22, total: 132\n",
        "count: 24, total: 156\n",
        "count: 26, total: 182\n",
        "count: 28, total: 210\n",
        "count: 30, total: 240\n",
        "count: 32, total: 272\n",
        "count: 34, total: 306\n",
        "count: 36, total: 342\n",
        "count: 38, total: 380\n",
        "count: 40, total: 420\n",
        "count: 42, total: 462\n",
        "count: 44, total: 506\n",
        "count: 46, total: 552\n",
        "count: 48, total: 600\n",
        "count: 50, total: 650\n",
        "</pre>"
      ]
    },
    {
      "cell_type": "markdown",
      "metadata": {
        "id": "N__LNdqPTwDA"
      },
      "source": [
        "### 연습 문제 6"
      ]
    },
    {
      "cell_type": "markdown",
      "metadata": {
        "id": "ZyCbL-IxTwDB"
      },
      "source": [
        "**while**을 이용하여 다음과 같이 @ 찍기에 도전해 보세요!"
      ]
    },
    {
      "cell_type": "code",
      "execution_count": null,
      "metadata": {
        "id": "qX1sgUIuTwDB",
        "outputId": "24dca94c-54eb-457e-b2b5-9a20fa8a7704",
        "colab": {
          "base_uri": "https://localhost:8080/"
        }
      },
      "outputs": [
        {
          "output_type": "stream",
          "name": "stdout",
          "text": [
            "@\n",
            "@@\n",
            "@@@\n",
            "@@@@\n",
            "@@@@@\n"
          ]
        }
      ],
      "source": [
        "# 코드를 입력해 주세요\n",
        "row=1\n",
        "while row <= 5:\n",
        "    # 현재 행에 해당하는 @ 기호 출력\n",
        "    print('@' * row)\n",
        "    # 다음 행으로 이동\n",
        "    row += 1"
      ]
    },
    {
      "cell_type": "markdown",
      "metadata": {
        "id": "AUxJPfXqlFR1"
      },
      "source": [
        "<p><strong>[출력 결과]</strong></p><pre>@\n",
        "@@\n",
        "@@@\n",
        "@@@@\n",
        "@@@@@\n",
        "</pre>"
      ]
    },
    {
      "cell_type": "code",
      "execution_count": null,
      "metadata": {
        "id": "1i2vHG0iVND2",
        "outputId": "56ebe1f2-1aab-44b3-b5f0-ed79539a583b",
        "colab": {
          "base_uri": "https://localhost:8080/"
        }
      },
      "outputs": [
        {
          "output_type": "stream",
          "name": "stdout",
          "text": [
            "@\n",
            "@@\n",
            "@@@\n",
            "@@\n",
            "@\n"
          ]
        }
      ],
      "source": [
        "# 코드를 입력해 주세요\n",
        "count = 1\n",
        "\n",
        "# 증가하는 패턴 출력\n",
        "while count <= 3:\n",
        "    print('@' * count)\n",
        "    count += 1\n",
        "\n",
        "# 감소하는 패턴 출력\n",
        "count = 2\n",
        "while count >= 1:\n",
        "    print('@' * count)\n",
        "    count -= 1"
      ]
    },
    {
      "cell_type": "markdown",
      "metadata": {
        "id": "kNInXwYalFR-"
      },
      "source": [
        "<p><strong>[출력 결과]</strong></p><pre>@\n",
        "@@\n",
        "@@@\n",
        "@@\n",
        "@\n",
        "</pre>"
      ]
    },
    {
      "cell_type": "markdown",
      "source": [
        "## **⭐ 8. Comprehension**\n",
        "- 별도의 연습문제는 없지만 중요한 파트이니 실습파일 공부하시는 걸 !적극! 추천드립니다😊"
      ],
      "metadata": {
        "id": "tHP9q4pMm1XD"
      }
    },
    {
      "cell_type": "markdown",
      "source": [
        "## **⭐⭐⭐ 9. 함수**"
      ],
      "metadata": {
        "id": "B2DpHW2TnKri"
      }
    },
    {
      "cell_type": "markdown",
      "metadata": {
        "id": "bwUu38DTnSDE"
      },
      "source": [
        "### 연습문제 1"
      ]
    },
    {
      "cell_type": "markdown",
      "metadata": {
        "id": "Jv70d4K9nSDE"
      },
      "source": [
        "알파벳 문자열을 인수로 넣으면  함수를 구현하세요\n",
        "\n",
        "- 함수의 이름은 `capital_letter` 로 선언합니다.\n",
        "- 함수는 **letter**라는 위치인수를 가집니다.\n",
        "- 함수는 **letter**인수에 받은 문자열을 모두 대문자로 바꾸고, 바꾼 값을 `return` 합니다."
      ]
    },
    {
      "cell_type": "code",
      "execution_count": null,
      "metadata": {
        "id": "VZamErV7nSDE",
        "colab": {
          "base_uri": "https://localhost:8080/"
        },
        "outputId": "b4b0edbd-e6c8-4fc0-dc63-2bda99d54f07"
      },
      "outputs": [
        {
          "output_type": "stream",
          "name": "stdout",
          "text": [
            "MY NAME IS ELSA\n"
          ]
        }
      ],
      "source": [
        "# 코드를 입력해 주세요\n",
        "def capital_letter(letter):\n",
        "    # 입력된 문자열을 대문자로 변환하고 반환\n",
        "    return letter.upper()\n",
        "\n",
        "# 함수 사용 예시\n",
        "result = capital_letter(\"my name is elsa\")\n",
        "print(result)  # 출력: HELLO WORLD"
      ]
    },
    {
      "cell_type": "markdown",
      "metadata": {
        "id": "G4bqSSW4nSDE"
      },
      "source": [
        "<p><strong>[출력 결과]</strong></p><pre>'MY NAME IS ELSA'</pre>"
      ]
    },
    {
      "cell_type": "markdown",
      "metadata": {
        "id": "pq3QCVvtnSDE"
      },
      "source": [
        "### 연습문제 2"
      ]
    },
    {
      "cell_type": "markdown",
      "metadata": {
        "id": "e4luTG_ZnSDF"
      },
      "source": [
        "def calc_many(choice, *args) 함수에서\n",
        "- choice가 `sum` 이면 **합**을 구해서 return 합니다.\n",
        "- choice 가 `mul` 이면 **곱**한 결과를 return 합니다.\n",
        "\n",
        "함수를 구현하세요"
      ]
    },
    {
      "cell_type": "code",
      "execution_count": null,
      "metadata": {
        "id": "J8I4Kb3mnSDF"
      },
      "outputs": [],
      "source": [
        "# 코드를 입력해 주세요\n",
        "def calc_many(choice, *args):\n",
        "    if choice == 'sum':\n",
        "        # 합계를 계산\n",
        "        return sum(args)\n",
        "    elif choice == 'mul':\n",
        "        # 곱셈 결과를 계산\n",
        "        result = 1\n",
        "        for number in args:\n",
        "            result *= number\n",
        "        return result"
      ]
    },
    {
      "cell_type": "code",
      "execution_count": null,
      "metadata": {
        "id": "peMt3Sw4nSDF",
        "colab": {
          "base_uri": "https://localhost:8080/"
        },
        "outputId": "2a8b0768-8cb4-407f-dc24-6d784c10cabc"
      },
      "outputs": [
        {
          "output_type": "stream",
          "name": "stdout",
          "text": [
            "10\n",
            "120\n"
          ]
        }
      ],
      "source": [
        "# 결과: 10\n",
        "print(calc_many('sum', 0, 1, 2, 3, 4))\n",
        "# 결과: 120\n",
        "print(calc_many('mul', 1, 2, 3, 4, 5))"
      ]
    },
    {
      "cell_type": "markdown",
      "source": [
        "## **10. 파이썬 내장함수**"
      ],
      "metadata": {
        "id": "N2NMjUDsnl-h"
      }
    },
    {
      "cell_type": "markdown",
      "metadata": {
        "id": "EjJ8V_Aent7r"
      },
      "source": [
        "### 연습문제"
      ]
    },
    {
      "cell_type": "markdown",
      "metadata": {
        "id": "SaL74V2dnt7r"
      },
      "source": [
        "`zip()`과 반복문을 활용하여 다음과 같이 출력해 주세요"
      ]
    },
    {
      "cell_type": "code",
      "source": [
        "fruit = ['사과', '자두', '딸기', '망고']\n",
        "price = [1000, 3000, 2500, 6000]"
      ],
      "metadata": {
        "id": "PMqTGduTBIAw"
      },
      "execution_count": 134,
      "outputs": []
    },
    {
      "cell_type": "code",
      "execution_count": 136,
      "metadata": {
        "id": "P-wERGbFnt7s",
        "outputId": "8b9c6cb4-0e32-4a48-aaba-958e9a5b86d7",
        "colab": {
          "base_uri": "https://localhost:8080/"
        }
      },
      "outputs": [
        {
          "output_type": "stream",
          "name": "stdout",
          "text": [
            "(사과 / 1000 원)\n",
            "(자두 / 3000 원)\n",
            "(딸기 / 2500 원)\n",
            "(망고 / 6000 원)\n"
          ]
        }
      ],
      "source": [
        "# 코드를 입력해 주세요\n",
        "for f, p in zip(fruit, price):\n",
        "    print(f\"({f} / {p} 원)\")"
      ]
    },
    {
      "cell_type": "markdown",
      "metadata": {
        "id": "_42JX4Eant7v"
      },
      "source": [
        "<p><strong>[출력 결과]</strong></p><pre>(사과 / 1000 원)\n",
        "(자두 / 3000 원)\n",
        "(딸기 / 2500 원)\n",
        "(망고 / 6000 원)\n",
        "</pre>"
      ]
    }
  ]
}