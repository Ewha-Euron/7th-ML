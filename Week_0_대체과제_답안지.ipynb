{
  "nbformat": 4,
  "nbformat_minor": 0,
  "metadata": {
    "colab": {
      "provenance": []
    },
    "kernelspec": {
      "name": "python3",
      "display_name": "Python 3"
    },
    "language_info": {
      "name": "python"
    }
  },
  "cells": [
    {
      "cell_type": "markdown",
      "metadata": {
        "id": "mX62TCbZFhhx"
      },
      "source": [
        "## **1. 파이썬 자료구조**"
      ]
    },
    {
      "cell_type": "markdown",
      "metadata": {
        "id": "5776LLdgFhhx"
      },
      "source": [
        "다음과 같이 출력 되도록 코드를 작성하세요"
      ]
    },
    {
      "cell_type": "markdown",
      "metadata": {
        "id": "qDyu5qdAFhhx"
      },
      "source": [
        "### Q1: Type 확인"
      ]
    },
    {
      "cell_type": "code",
      "execution_count": null,
      "metadata": {
        "id": "Mt1yNzJDFhhx"
      },
      "outputs": [],
      "source": [
        "a = 3.14"
      ]
    },
    {
      "cell_type": "markdown",
      "metadata": {
        "id": "MUzAJRJIFhhx"
      },
      "source": [
        "타입을 확인해 주세요"
      ]
    },
    {
      "cell_type": "code",
      "execution_count": null,
      "metadata": {
        "id": "EDGQAoVMFhhy",
        "outputId": "05baa38e-298f-413a-fb43-aea8e0e71bbc"
      },
      "outputs": [
        {
          "data": {
            "text/plain": [
              "float"
            ]
          },
          "execution_count": 49,
          "metadata": {},
          "output_type": "execute_result"
        }
      ],
      "source": [
        "# 코드를 입력해 주세요\n",
        "type(a)"
      ]
    },
    {
      "cell_type": "markdown",
      "metadata": {
        "id": "3sd_NJ7CFhhy"
      },
      "source": [
        "### Q2: Type 변경"
      ]
    },
    {
      "cell_type": "code",
      "execution_count": null,
      "metadata": {
        "id": "VuDBSmqWFhhy"
      },
      "outputs": [],
      "source": [
        "a = 1"
      ]
    },
    {
      "cell_type": "markdown",
      "metadata": {
        "id": "95j5T77ZFhhy"
      },
      "source": [
        "타입을 변경해 주세요"
      ]
    },
    {
      "cell_type": "code",
      "execution_count": null,
      "metadata": {
        "id": "NAaKUICmFhhy",
        "outputId": "cecae727-f739-4eea-c91f-acf0a53bdcc7"
      },
      "outputs": [
        {
          "data": {
            "text/plain": [
              "1.0"
            ]
          },
          "execution_count": 51,
          "metadata": {},
          "output_type": "execute_result"
        }
      ],
      "source": [
        "# 코드를 입력해 주세요\n",
        "float(a)"
      ]
    },
    {
      "cell_type": "markdown",
      "metadata": {
        "id": "RVl7w33MFhhy"
      },
      "source": [
        "### Q3: Type 변경"
      ]
    },
    {
      "cell_type": "code",
      "execution_count": null,
      "metadata": {
        "id": "4DGC5fv7Fhhy"
      },
      "outputs": [],
      "source": [
        "a = 1"
      ]
    },
    {
      "cell_type": "markdown",
      "metadata": {
        "id": "0fDpgS0wFhhz"
      },
      "source": [
        "타입을 변경해 주세요"
      ]
    },
    {
      "cell_type": "code",
      "execution_count": null,
      "metadata": {
        "id": "qaHl6X-uFhhz",
        "outputId": "c03862cf-8848-4114-a4a7-9ac6662bb338"
      },
      "outputs": [
        {
          "data": {
            "text/plain": [
              "True"
            ]
          },
          "execution_count": 53,
          "metadata": {},
          "output_type": "execute_result"
        }
      ],
      "source": [
        "# 코드를 입력해 주세요\n",
        "bool(a)"
      ]
    },
    {
      "cell_type": "markdown",
      "metadata": {
        "id": "L-TFDWPxFhhz"
      },
      "source": [
        "### Q4: 타입 변경"
      ]
    },
    {
      "cell_type": "code",
      "execution_count": null,
      "metadata": {
        "id": "NkInCNlgFhhz"
      },
      "outputs": [],
      "source": [
        "a = False"
      ]
    },
    {
      "cell_type": "markdown",
      "metadata": {
        "id": "axEeBhwzFhhz"
      },
      "source": [
        "타입을 변경해 주세요"
      ]
    },
    {
      "cell_type": "code",
      "execution_count": null,
      "metadata": {
        "id": "vjRkbtlIFhhz",
        "outputId": "d814894d-ae5c-46ff-89ff-ccd6d7b00929"
      },
      "outputs": [
        {
          "data": {
            "text/plain": [
              "0"
            ]
          },
          "execution_count": 55,
          "metadata": {},
          "output_type": "execute_result"
        }
      ],
      "source": [
        "# 코드를 입력해 주세요\n",
        "int(a)"
      ]
    },
    {
      "cell_type": "markdown",
      "metadata": {
        "id": "wk8YHIQUFhhz"
      },
      "source": [
        "### Q5: 타입 변경"
      ]
    },
    {
      "cell_type": "code",
      "execution_count": null,
      "metadata": {
        "id": "Dwg04y25Fhh0"
      },
      "outputs": [],
      "source": [
        "a = 123"
      ]
    },
    {
      "cell_type": "markdown",
      "metadata": {
        "id": "T36xkluAFhh0"
      },
      "source": [
        "타입을 변경해 주세요"
      ]
    },
    {
      "cell_type": "code",
      "execution_count": null,
      "metadata": {
        "id": "4uHqXhd2Fhh0",
        "outputId": "988fadf1-ce6b-4ba2-fe70-b37d12e069aa"
      },
      "outputs": [
        {
          "data": {
            "text/plain": [
              "'123'"
            ]
          },
          "execution_count": 57,
          "metadata": {},
          "output_type": "execute_result"
        }
      ],
      "source": [
        "# 코드를 입력해 주세요\n",
        "str(a)"
      ]
    },
    {
      "cell_type": "markdown",
      "source": [
        "## **2. ⭐ 리스트, 튜플**"
      ],
      "metadata": {
        "id": "sQmuZkcSF53p"
      }
    },
    {
      "cell_type": "markdown",
      "metadata": {
        "id": "fMAdPD_zkFZm"
      },
      "source": [
        "### 연습문제 1"
      ]
    },
    {
      "cell_type": "code",
      "execution_count": null,
      "metadata": {
        "id": "Kh3ZEKT0kIqA"
      },
      "outputs": [],
      "source": [
        "movie = ['어벤져스', '아이언맨', '토르', '스파이더맨']"
      ]
    },
    {
      "cell_type": "markdown",
      "metadata": {
        "id": "tyOTHPsMkzCo"
      },
      "source": [
        "`movie`에 맨 끝에 `엑스맨` 을 추가하세요."
      ]
    },
    {
      "cell_type": "code",
      "execution_count": null,
      "metadata": {
        "colab": {
          "base_uri": "https://localhost:8080/",
          "height": 35
        },
        "id": "PKEtjNIvlBek",
        "outputId": "c902f0d0-93fb-4778-d05f-7c0c7323e4fc"
      },
      "outputs": [
        {
          "data": {
            "text/plain": [
              "['어벤져스', '아이언맨', '토르', '스파이더맨', '엑스맨']"
            ]
          },
          "execution_count": 30,
          "metadata": {},
          "output_type": "execute_result"
        }
      ],
      "source": [
        "# 코드를 입력해 주세요\n",
        "movie.append('엑스맨')\n",
        "movie"
      ]
    },
    {
      "cell_type": "markdown",
      "metadata": {
        "id": "iel_W4C6ofKa"
      },
      "source": [
        "`movie`의 1번 index에 `데드풀`을 추가하세요"
      ]
    },
    {
      "cell_type": "code",
      "execution_count": null,
      "metadata": {
        "colab": {
          "base_uri": "https://localhost:8080/",
          "height": 35
        },
        "id": "yGyNESOdorFN",
        "outputId": "d3d0d84a-cfda-4209-f1cf-8f39f306551a"
      },
      "outputs": [
        {
          "data": {
            "text/plain": [
              "['어벤져스', '데드풀', '아이언맨', '토르', '스파이더맨', '엑스맨']"
            ]
          },
          "execution_count": 31,
          "metadata": {},
          "output_type": "execute_result"
        }
      ],
      "source": [
        "# 코드를 입력해 주세요\n",
        "movie.insert(1, '데드풀')\n",
        "movie"
      ]
    },
    {
      "cell_type": "markdown",
      "metadata": {
        "id": "SyMuSUDFlICP"
      },
      "source": [
        "`movie`에서 `아이언맨`을 삭제 하세요.\n",
        "\n",
        "- remove() 사용"
      ]
    },
    {
      "cell_type": "code",
      "execution_count": null,
      "metadata": {
        "colab": {
          "base_uri": "https://localhost:8080/",
          "height": 35
        },
        "id": "y95NJRYSlQJb",
        "outputId": "d299b4b7-4914-46c8-cecd-c50701f75215"
      },
      "outputs": [
        {
          "data": {
            "text/plain": [
              "['어벤져스', '데드풀', '토르', '스파이더맨', '엑스맨']"
            ]
          },
          "execution_count": 32,
          "metadata": {},
          "output_type": "execute_result"
        }
      ],
      "source": [
        "# 코드를 입력해 주세요\n",
        "movie.remove('아이언맨')\n",
        "movie"
      ]
    },
    {
      "cell_type": "markdown",
      "metadata": {
        "id": "oxM-XJrUGIAs"
      },
      "source": [
        "`movie`에서 1번째 index를 삭제하세요"
      ]
    },
    {
      "cell_type": "code",
      "execution_count": null,
      "metadata": {
        "id": "Wev7TphQGIAs",
        "outputId": "ae756c9c-1381-464a-bb1d-132e93a74a3a"
      },
      "outputs": [
        {
          "data": {
            "text/plain": [
              "['어벤져스', '토르', '스파이더맨', '엑스맨']"
            ]
          },
          "execution_count": 33,
          "metadata": {},
          "output_type": "execute_result"
        }
      ],
      "source": [
        "# 코드를 입력해 주세요\n",
        "movie.pop(1)\n",
        "movie"
      ]
    },
    {
      "cell_type": "code",
      "execution_count": null,
      "metadata": {
        "id": "Sjh1TeAsGIAs"
      },
      "outputs": [],
      "source": [
        "kr_movie = ['승리호', '신세계', '타짜']"
      ]
    },
    {
      "cell_type": "markdown",
      "metadata": {
        "id": "5jPGI0p1GIAs"
      },
      "source": [
        "`kr_movie`를 `movie`에 추가해 주세요"
      ]
    },
    {
      "cell_type": "code",
      "execution_count": null,
      "metadata": {
        "id": "_S1IYX6TGIAs",
        "outputId": "540e2fd0-9854-48fe-8860-1363ccf67191"
      },
      "outputs": [
        {
          "data": {
            "text/plain": [
              "['어벤져스', '토르', '스파이더맨', '엑스맨', '승리호', '신세계', '타짜']"
            ]
          },
          "execution_count": 35,
          "metadata": {},
          "output_type": "execute_result"
        }
      ],
      "source": [
        "# 코드를 입력해 주세요\n",
        "movie = movie + kr_movie\n",
        "movie"
      ]
    },
    {
      "cell_type": "markdown",
      "metadata": {
        "id": "Q6Iv7eIeGIAs"
      },
      "source": [
        "`movie`를 가나다 순으로 정렬하세요"
      ]
    },
    {
      "cell_type": "code",
      "execution_count": null,
      "metadata": {
        "id": "LFdJ5_uPGIAt",
        "outputId": "5cf4cc17-9766-444d-a08a-ce7db5e398d2"
      },
      "outputs": [
        {
          "data": {
            "text/plain": [
              "['스파이더맨', '승리호', '신세계', '어벤져스', '엑스맨', '타짜', '토르']"
            ]
          },
          "execution_count": 36,
          "metadata": {},
          "output_type": "execute_result"
        }
      ],
      "source": [
        "# 코드를 입력해 주세요\n",
        "sorted(movie)"
      ]
    },
    {
      "cell_type": "markdown",
      "metadata": {
        "id": "OBzFnqHGGIAy"
      },
      "source": [
        "### 연습문제 2"
      ]
    },
    {
      "cell_type": "code",
      "execution_count": null,
      "metadata": {
        "id": "vZtzFJtOlQGA"
      },
      "outputs": [],
      "source": [
        "fruit = ['사과', '바나나', '파인애플', '배', '수박', '키위', '오렌지', '망고', '딸기']"
      ]
    },
    {
      "cell_type": "markdown",
      "metadata": {
        "id": "ZO9-b0FXlQB_"
      },
      "source": [
        "list **인덱싱** & **슬라이싱**을 사용하여 다음과 같이 출력 하세요"
      ]
    },
    {
      "cell_type": "code",
      "execution_count": null,
      "metadata": {
        "colab": {
          "base_uri": "https://localhost:8080/",
          "height": 35
        },
        "id": "ag-1JlpllPyM",
        "outputId": "116c3405-bd29-47ab-80ac-f7332652d419"
      },
      "outputs": [
        {
          "data": {
            "text/plain": [
              "['파인애플', '배', '수박']"
            ]
          },
          "execution_count": 62,
          "metadata": {},
          "output_type": "execute_result"
        }
      ],
      "source": [
        "# 코드를 입력해 주세요\n",
        "fruit[2:5]"
      ]
    },
    {
      "cell_type": "code",
      "execution_count": null,
      "metadata": {
        "colab": {
          "base_uri": "https://localhost:8080/",
          "height": 35
        },
        "id": "0LRqKruin8YG",
        "outputId": "d9d12ed0-2186-4159-c229-fc8b7f29cc98"
      },
      "outputs": [
        {
          "data": {
            "text/plain": [
              "['망고', '딸기']"
            ]
          },
          "execution_count": 63,
          "metadata": {},
          "output_type": "execute_result"
        }
      ],
      "source": [
        "# 코드를 입력해 주세요\n",
        "fruit[-2:]"
      ]
    },
    {
      "cell_type": "code",
      "execution_count": null,
      "metadata": {
        "colab": {
          "base_uri": "https://localhost:8080/",
          "height": 35
        },
        "id": "M2FntdLxoCN4",
        "outputId": "ab011f4e-2221-4fe4-d8bc-7dfeb0fd0a2d"
      },
      "outputs": [
        {
          "data": {
            "text/plain": [
              "['사과', '바나나', '파인애플']"
            ]
          },
          "execution_count": 64,
          "metadata": {},
          "output_type": "execute_result"
        }
      ],
      "source": [
        "# 코드를 입력해 주세요\n",
        "fruit[:3]"
      ]
    },
    {
      "cell_type": "code",
      "execution_count": null,
      "metadata": {
        "colab": {
          "base_uri": "https://localhost:8080/",
          "height": 35
        },
        "id": "8tdoEreLoC7Y",
        "outputId": "8470d3c1-630c-4b08-f0f9-566161a37486"
      },
      "outputs": [
        {
          "data": {
            "text/plain": [
              "['배', '수박', '키위', '오렌지', '망고', '딸기']"
            ]
          },
          "execution_count": 65,
          "metadata": {},
          "output_type": "execute_result"
        }
      ],
      "source": [
        "# 코드를 입력해 주세요\n",
        "fruit[3:]"
      ]
    },
    {
      "cell_type": "markdown",
      "metadata": {
        "id": "PNVbtCreGIA0"
      },
      "source": [
        "### 연습문제 3"
      ]
    },
    {
      "cell_type": "markdown",
      "metadata": {
        "id": "5t5igSfAGIA0"
      },
      "source": [
        "슬라이싱을 활용하여 **짝수**만 출력해 주세요"
      ]
    },
    {
      "cell_type": "code",
      "execution_count": null,
      "metadata": {
        "id": "zHXcZkbmGIA0"
      },
      "outputs": [],
      "source": [
        "nums = [1, 2, 3, 4, 5, 6, 7, 8, 9, 10]"
      ]
    },
    {
      "cell_type": "code",
      "execution_count": null,
      "metadata": {
        "id": "yM3-OQW4GIA0",
        "outputId": "4137ac61-4d59-4912-a134-085139354a07"
      },
      "outputs": [
        {
          "name": "stdout",
          "output_type": "stream",
          "text": [
            "[2, 4, 6, 8, 10]\n"
          ]
        }
      ],
      "source": [
        "# 코드를 입력해 주세요\n",
        "print(nums[1::2])"
      ]
    },
    {
      "cell_type": "markdown",
      "metadata": {
        "id": "OsGwwmtMGIA2"
      },
      "source": [
        "### 연습문제 4\n",
        "\n",
        "sample = [1, 2, 3, 4, 5, 6, 7, 8] 리스트를 슬라이싱을 이용하여 출력과 같이 나올수 있도록 코드를 채워주세요."
      ]
    },
    {
      "cell_type": "code",
      "execution_count": null,
      "metadata": {
        "id": "UCLqwNHyGIA2"
      },
      "outputs": [],
      "source": [
        "sample = [1, 2, 3, 4, 5, 6, 7, 8]"
      ]
    },
    {
      "cell_type": "markdown",
      "metadata": {
        "id": "pOVcOG5HGIA2"
      },
      "source": [
        "슬라이싱을 사용해 다음과 같이 출력해 주세요"
      ]
    },
    {
      "cell_type": "code",
      "execution_count": null,
      "metadata": {
        "id": "TA3eo9A1GIA2",
        "outputId": "4f8300ce-18a4-444e-f6d3-948d4eeab1d1"
      },
      "outputs": [
        {
          "data": {
            "text/plain": [
              "[8, 7, 6, 5, 4, 3, 2, 1]"
            ]
          },
          "execution_count": 80,
          "metadata": {},
          "output_type": "execute_result"
        }
      ],
      "source": [
        "# 코드를 입력해 주세요\n",
        "sample[::-1]"
      ]
    },
    {
      "cell_type": "markdown",
      "metadata": {
        "id": "FfguVAwFGIA2"
      },
      "source": [
        "슬라이싱을 사용해 다음과 같이 출력해 주세요"
      ]
    },
    {
      "cell_type": "code",
      "execution_count": null,
      "metadata": {
        "id": "Gg_MV2dxGIA2",
        "outputId": "ba413553-c0de-4f76-b038-48b956e04f7d"
      },
      "outputs": [
        {
          "data": {
            "text/plain": [
              "[3, 5, 7]"
            ]
          },
          "execution_count": 81,
          "metadata": {},
          "output_type": "execute_result"
        }
      ],
      "source": [
        "# 코드를 입력해 주세요\n",
        "sample[2::2]"
      ]
    },
    {
      "cell_type": "markdown",
      "metadata": {
        "id": "esSOABySGIA3"
      },
      "source": [
        "슬라이싱을 사용해 다음과 같이 출력해 주세요"
      ]
    },
    {
      "cell_type": "code",
      "execution_count": null,
      "metadata": {
        "id": "UorcAo5oGIA3",
        "outputId": "fc0c644a-33c7-4e1c-943d-d4ca8801bc7f"
      },
      "outputs": [
        {
          "data": {
            "text/plain": [
              "[2, 5, 8]"
            ]
          },
          "execution_count": 82,
          "metadata": {},
          "output_type": "execute_result"
        }
      ],
      "source": [
        "# 코드를 입력해 주세요\n",
        "sample[1::3]"
      ]
    },
    {
      "cell_type": "markdown",
      "metadata": {
        "id": "0_mJjKgJ3PXj"
      },
      "source": [
        "### 연습문제 5\n",
        "\n",
        "- 아래의 값을 저장하고 있는 `myList` 변수를 생성하세요.\n",
        "- [[1,2,3],[4,5,6],[7,8]]"
      ]
    },
    {
      "cell_type": "code",
      "execution_count": null,
      "metadata": {
        "id": "cYw8v3Wc3PXj",
        "outputId": "9ec00fb5-022b-4039-e6f6-ba4fd5c53701"
      },
      "outputs": [
        {
          "data": {
            "text/plain": [
              "[[1, 2, 3], [4, 5, 6], [7, 8]]"
            ]
          },
          "execution_count": 83,
          "metadata": {},
          "output_type": "execute_result"
        }
      ],
      "source": [
        "myList = [[1,2,3],[4,5,6],[7,8]]\n",
        "myList"
      ]
    },
    {
      "cell_type": "markdown",
      "metadata": {
        "id": "huln3pHGqluk"
      },
      "source": [
        "- 9를 `myList`에 추가하여 아래의 값을 저장할 수 있도록 하세요.\n",
        "    - [[1,2,3],[4,5,6],[7,8,9]]"
      ]
    },
    {
      "cell_type": "code",
      "execution_count": null,
      "metadata": {
        "colab": {
          "base_uri": "https://localhost:8080/",
          "height": 35
        },
        "id": "fQwG-KLiq_Aq",
        "outputId": "19c8d8c9-fef1-4f50-886c-c5b408cefc0c"
      },
      "outputs": [
        {
          "data": {
            "text/plain": [
              "[[1, 2, 3], [4, 5, 6], [7, 8, 9]]"
            ]
          },
          "execution_count": 84,
          "metadata": {},
          "output_type": "execute_result"
        }
      ],
      "source": [
        "# 코드를 입력해 주세요\n",
        "myList[2].append(9)\n",
        "myList"
      ]
    },
    {
      "cell_type": "markdown",
      "metadata": {
        "id": "D1RMh_1JGIA9"
      },
      "source": [
        "### 연습문제 6"
      ]
    },
    {
      "cell_type": "markdown",
      "metadata": {
        "id": "fRkFHlkeGIA9"
      },
      "source": [
        "주어진 tuple `a`를 (1, 100, 2, 3, 4)의 요소를 가지도록 변경해 주세요"
      ]
    },
    {
      "cell_type": "code",
      "execution_count": null,
      "metadata": {
        "id": "FoWw2rp_GIA-"
      },
      "outputs": [],
      "source": [
        "a = (1, 2, 3, 4)"
      ]
    },
    {
      "cell_type": "code",
      "execution_count": null,
      "metadata": {
        "id": "2bHb8VjcGIA-",
        "outputId": "652ab255-8831-4865-9e3b-d07e21b0f5be"
      },
      "outputs": [
        {
          "data": {
            "text/plain": [
              "(1, 100, 2, 3, 4)"
            ]
          },
          "execution_count": 114,
          "metadata": {},
          "output_type": "execute_result"
        }
      ],
      "source": [
        "# 코드를 입력해 주세요\n",
        "a = list(a)\n",
        "a.insert(1, 100)\n",
        "tuple(a)"
      ]
    },
    {
      "cell_type": "markdown",
      "source": [
        "## **3. 셋, 딕셔너리**"
      ],
      "metadata": {
        "id": "QVgMxpR2Gyfq"
      }
    },
    {
      "cell_type": "markdown",
      "metadata": {
        "id": "P5LIDWYZG4Ha"
      },
      "source": [
        "### 연습문제 1"
      ]
    },
    {
      "cell_type": "code",
      "execution_count": null,
      "metadata": {
        "id": "aQzuTM1OG4Ha",
        "outputId": "fe65ad92-485a-4f96-ab2c-dd2c21bb3603"
      },
      "outputs": [
        {
          "name": "stdout",
          "output_type": "stream",
          "text": [
            "sample1: {1, 2, 3, 4, 5}\n",
            "sample2: {2, 4, 5, 6, 7}\n"
          ]
        }
      ],
      "source": [
        "sample1 = {1, 2, 3, 4, 5}\n",
        "sample2 = {2, 4, 5, 6, 7}\n",
        "\n",
        "print(f'sample1: {sample1}')\n",
        "print(f'sample2: {sample2}')"
      ]
    },
    {
      "cell_type": "markdown",
      "metadata": {
        "id": "1ZYied0bG4Ha"
      },
      "source": [
        "`sample1` 에 6를 추가합니다."
      ]
    },
    {
      "cell_type": "code",
      "execution_count": null,
      "metadata": {
        "id": "zfRSoeTIG4Ha",
        "outputId": "e9825a22-adeb-4b8b-ee76-75759dbeac18"
      },
      "outputs": [
        {
          "data": {
            "text/plain": [
              "{1, 2, 3, 4, 5, 6}"
            ]
          },
          "execution_count": 38,
          "metadata": {},
          "output_type": "execute_result"
        }
      ],
      "source": [
        "# 코드를 입력해 주세요\n",
        "sample1.add(6)\n",
        "sample1"
      ]
    },
    {
      "cell_type": "markdown",
      "metadata": {
        "id": "rGQ8qVukG4Hb"
      },
      "source": [
        "`sample2`에 2를 제거합니다."
      ]
    },
    {
      "cell_type": "code",
      "execution_count": null,
      "metadata": {
        "id": "SzYCfdApG4Hb",
        "outputId": "6fda74d3-fb98-4045-cf5d-f9c51906900a"
      },
      "outputs": [
        {
          "data": {
            "text/plain": [
              "{4, 5, 6, 7}"
            ]
          },
          "execution_count": 39,
          "metadata": {},
          "output_type": "execute_result"
        }
      ],
      "source": [
        "# 코드를 입력해 주세요\n",
        "sample2.remove(2)\n",
        "sample2"
      ]
    },
    {
      "cell_type": "markdown",
      "metadata": {
        "id": "lxvX9BS1G4Hb"
      },
      "source": [
        "`sample1`과 `sample2`의 **교집합**을 출력합니다."
      ]
    },
    {
      "cell_type": "code",
      "execution_count": null,
      "metadata": {
        "id": "Vzkyw93aG4Hb",
        "outputId": "99f66c3e-9841-452c-acc1-e4d7c60aaa16"
      },
      "outputs": [
        {
          "data": {
            "text/plain": [
              "{4, 5, 6}"
            ]
          },
          "execution_count": 40,
          "metadata": {},
          "output_type": "execute_result"
        }
      ],
      "source": [
        "# 코드를 입력해 주세요\n",
        "sample1 & sample2"
      ]
    },
    {
      "cell_type": "markdown",
      "metadata": {
        "id": "MRsYhjugG4Hb"
      },
      "source": [
        "`sample1`과 `sample2`의 **합집합**을 출력합니다."
      ]
    },
    {
      "cell_type": "code",
      "execution_count": null,
      "metadata": {
        "id": "HaHkhihhG4Hb",
        "outputId": "c00ae9d8-432f-495c-8d9b-a15476dbc6bd"
      },
      "outputs": [
        {
          "data": {
            "text/plain": [
              "{1, 2, 3, 4, 5, 6, 7}"
            ]
          },
          "execution_count": 41,
          "metadata": {},
          "output_type": "execute_result"
        }
      ],
      "source": [
        "# 코드를 입력해 주세요\n",
        "sample1 | sample2"
      ]
    },
    {
      "cell_type": "markdown",
      "metadata": {
        "id": "BGgt9HLRG4Hc"
      },
      "source": [
        "`sample1`과 `sample2`의 **차집합**을 활용하여 다음과 같이 출력합니다."
      ]
    },
    {
      "cell_type": "code",
      "execution_count": null,
      "metadata": {
        "id": "h9-mpyCmG4Hc",
        "outputId": "8153e14c-c510-4bd7-b260-672ffb50e310"
      },
      "outputs": [
        {
          "data": {
            "text/plain": [
              "{1, 2, 3}"
            ]
          },
          "execution_count": 42,
          "metadata": {},
          "output_type": "execute_result"
        }
      ],
      "source": [
        "# 코드를 입력해 주세요\n",
        "(sample1 - sample2)"
      ]
    },
    {
      "cell_type": "markdown",
      "metadata": {
        "id": "24pLdsBX3PXx"
      },
      "source": [
        "### 연습문제 2\n",
        "\n",
        "- 다음 리스트에서 중복된 항목을 제거하세요\n",
        "- 최종 출력 값은 list 형태로 출력하세요"
      ]
    },
    {
      "cell_type": "code",
      "execution_count": null,
      "metadata": {
        "id": "8vz3OJHtG4Hc"
      },
      "outputs": [],
      "source": [
        "numList = [1, 3, 2, 3, 7, 6, 8, 4, 10, 5, 3, 8, 9]"
      ]
    },
    {
      "cell_type": "code",
      "execution_count": null,
      "metadata": {
        "colab": {
          "base_uri": "https://localhost:8080/",
          "height": 35
        },
        "id": "lLEILpf03PXx",
        "outputId": "9bfbe7e7-a6aa-4e44-9375-a226727c9e9c"
      },
      "outputs": [
        {
          "data": {
            "text/plain": [
              "[1, 2, 3, 4, 5, 6, 7, 8, 9, 10]"
            ]
          },
          "execution_count": 44,
          "metadata": {},
          "output_type": "execute_result"
        }
      ],
      "source": [
        "# 코드를 입력해 주세요\n",
        "list(set(numList))"
      ]
    },
    {
      "cell_type": "markdown",
      "metadata": {
        "id": "pPl7y7cWsMYB"
      },
      "source": [
        "### 연습문제 3"
      ]
    },
    {
      "cell_type": "markdown",
      "metadata": {
        "id": "1ZsgKVeV3PXp"
      },
      "source": [
        "- 학생들의 이름과 점수를 key와 value로 가지는 `score` 변수를 생성하세요.\n",
        "    - 하준 90점, 서윤 86점, 지아 80점"
      ]
    },
    {
      "cell_type": "code",
      "execution_count": null,
      "metadata": {
        "colab": {
          "base_uri": "https://localhost:8080/",
          "height": 35
        },
        "id": "UWLF-tRb3PXq",
        "outputId": "37b889ab-c54d-4c35-f197-a7da5411b07e"
      },
      "outputs": [
        {
          "data": {
            "text/plain": [
              "{'하준': 90, '서윤': 86, '지아': 80}"
            ]
          },
          "execution_count": 79,
          "metadata": {},
          "output_type": "execute_result"
        }
      ],
      "source": [
        "# 코드를 입력해 주세요\n",
        "score = {\n",
        "    '하준': 90,\n",
        "    '서윤': 86,\n",
        "    '지아': 80\n",
        "}\n",
        "score"
      ]
    },
    {
      "cell_type": "markdown",
      "metadata": {
        "id": "jM32b3t2qbax"
      },
      "source": [
        "score 변수에 수지 95점을 추가하세요."
      ]
    },
    {
      "cell_type": "code",
      "execution_count": null,
      "metadata": {
        "colab": {
          "base_uri": "https://localhost:8080/",
          "height": 35
        },
        "id": "KsOqR1HtCtex",
        "outputId": "e03d2ebb-39b8-4e31-9e62-94ea78f30e38"
      },
      "outputs": [
        {
          "data": {
            "text/plain": [
              "{'하준': 90, '서윤': 86, '지아': 80, '수지': 95}"
            ]
          },
          "execution_count": 80,
          "metadata": {},
          "output_type": "execute_result"
        }
      ],
      "source": [
        "# 코드를 입력해 주세요\n",
        "score['수지'] = 95\n",
        "score"
      ]
    },
    {
      "cell_type": "markdown",
      "metadata": {
        "id": "UcmPMPS8qeBX"
      },
      "source": [
        "score 변수에서 지아를 삭제하세요."
      ]
    },
    {
      "cell_type": "code",
      "execution_count": null,
      "metadata": {
        "id": "r1Xec5mX3PXs",
        "outputId": "1a4f1ebd-9fbd-4c0c-82b5-5ad1fd624375"
      },
      "outputs": [
        {
          "data": {
            "text/plain": [
              "{'하준': 90, '서윤': 86, '수지': 95}"
            ]
          },
          "execution_count": 81,
          "metadata": {},
          "output_type": "execute_result"
        }
      ],
      "source": [
        "# 코드를 입력해 주세요\n",
        "score.pop('지아')\n",
        "score"
      ]
    },
    {
      "cell_type": "markdown",
      "metadata": {
        "id": "apYvbt9kqhFo"
      },
      "source": [
        "score 변수에 기창 98점, 남철 60점, 기성 75점을 **한번에** 추가하세요.\n",
        "- update() 를 사용하세요"
      ]
    },
    {
      "cell_type": "code",
      "execution_count": null,
      "metadata": {
        "id": "y2_7I4ZWrF5-",
        "outputId": "766a8e7c-e8a6-46c4-b111-5a7ebc9d34cf"
      },
      "outputs": [
        {
          "data": {
            "text/plain": [
              "{'하준': 90, '서윤': 86, '수지': 95, '기창': 98, '남철': 60, '기성': 75}"
            ]
          },
          "execution_count": 82,
          "metadata": {},
          "output_type": "execute_result"
        }
      ],
      "source": [
        "# 코드를 입력해 주세요\n",
        "score.update({\n",
        "    '기창': 98,\n",
        "    '남철': 60,\n",
        "    '기성': 75\n",
        "})\n",
        "score"
      ]
    },
    {
      "cell_type": "markdown",
      "source": [
        "## **4. 문자열**"
      ],
      "metadata": {
        "id": "nhEERnZ7HIPg"
      }
    },
    {
      "cell_type": "markdown",
      "metadata": {
        "id": "uBGFCf6RHMNf"
      },
      "source": [
        "### 연습문제 1\n",
        "\n",
        "- 변수 `a`를 활용하여 문자열 포맷팅으로 출력하세요\n",
        "- print() 를 사용합니다."
      ]
    },
    {
      "cell_type": "code",
      "execution_count": null,
      "metadata": {
        "id": "kZ6_ybhbHMNf"
      },
      "outputs": [],
      "source": [
        "a = 1234"
      ]
    },
    {
      "cell_type": "code",
      "execution_count": null,
      "metadata": {
        "id": "BsUyLj-GHMNf",
        "outputId": "6f7d733a-27ba-4c52-b499-ff23d8e82b6e"
      },
      "outputs": [
        {
          "name": "stdout",
          "output_type": "stream",
          "text": [
            "a의 값은 1234입니다\n"
          ]
        }
      ],
      "source": [
        "# 코드를 입력해 주세요\n",
        "print(f'a의 값은 {a}입니다')"
      ]
    },
    {
      "cell_type": "markdown",
      "metadata": {
        "id": "r-CwvOO4HMNf"
      },
      "source": [
        "- 변수 `a`, `b`를 활용하여 문자열 포맷팅으로 출력하세요\n",
        "- 단, `a`, `b`의 값은 소수 3째짜리까지 출력하고, 그 이하는 반올림합니다."
      ]
    },
    {
      "cell_type": "code",
      "execution_count": null,
      "metadata": {
        "id": "uhyhTba4HMNf"
      },
      "outputs": [],
      "source": [
        "a = 3.141592\n",
        "b = 6.181112"
      ]
    },
    {
      "cell_type": "code",
      "execution_count": null,
      "metadata": {
        "id": "p6u1D_JQHMNg",
        "outputId": "ccdaccca-8b18-421e-b141-1bd279a53b29"
      },
      "outputs": [
        {
          "name": "stdout",
          "output_type": "stream",
          "text": [
            "a의 값은 3.142, b의 값은 6.181입니다\n"
          ]
        }
      ],
      "source": [
        "# 코드를 입력해 주세요\n",
        "print(f'a의 값은 {a:.3f}, b의 값은 {b:.3f}입니다')"
      ]
    },
    {
      "cell_type": "markdown",
      "metadata": {
        "id": "Zh_vDasUVmTe"
      },
      "source": [
        "### 연습문제 2"
      ]
    },
    {
      "cell_type": "markdown",
      "metadata": {
        "id": "1fGeb3aVVmTf"
      },
      "source": [
        "문자열 \"210101-1234567\"을 인덱싱 하여 성별을 나타내는 숫자를 출력 하세요"
      ]
    },
    {
      "cell_type": "code",
      "execution_count": null,
      "metadata": {
        "id": "eMpOfUArVmTf"
      },
      "outputs": [],
      "source": [
        "registration_number =  '210101-1234567'"
      ]
    },
    {
      "cell_type": "code",
      "execution_count": null,
      "metadata": {
        "id": "rMz87or7VmTf",
        "outputId": "d0ee7796-1e22-4ff8-c009-7fd058f02648"
      },
      "outputs": [
        {
          "data": {
            "text/plain": [
              "'1'"
            ]
          },
          "execution_count": 32,
          "metadata": {},
          "output_type": "execute_result"
        }
      ],
      "source": [
        "# 코드를 입력해 주세요\n",
        "registration_number[-7]"
      ]
    },
    {
      "cell_type": "markdown",
      "metadata": {
        "id": "WKoSrGtgVmTn"
      },
      "source": [
        "### 연습문제 3"
      ]
    },
    {
      "cell_type": "markdown",
      "metadata": {
        "id": "aWZ-eO4RVmTo"
      },
      "source": [
        "문자열 '20210101Sunny'를 슬라이싱하여 날짜는 `date`변수에 날씨는 `weather` 변수에 저장 후 출력 하세요"
      ]
    },
    {
      "cell_type": "code",
      "execution_count": null,
      "metadata": {
        "id": "XF0Stj93VmTo"
      },
      "outputs": [],
      "source": [
        "sample = '20210101Sunny'"
      ]
    },
    {
      "cell_type": "code",
      "execution_count": null,
      "metadata": {
        "id": "11hWJG9tVmTo",
        "outputId": "8885fc30-3e56-4886-a9f3-dc7811ab2d08"
      },
      "outputs": [
        {
          "name": "stdout",
          "output_type": "stream",
          "text": [
            "date: 20210101, weather: Sunny\n"
          ]
        }
      ],
      "source": [
        "# 코드를 입력해 주세요\n",
        "date = sample[:-5]\n",
        "weather = sample[-5:]\n",
        "\n",
        "print(f'date: {date}, weather: {weather}')"
      ]
    },
    {
      "cell_type": "markdown",
      "metadata": {
        "id": "ykw_dtmrVmTo"
      },
      "source": [
        "(문자열 슬라이싱을 활용)자동차 번호가 다음과 같을 때 뒤에 4자리만 출력하세요."
      ]
    },
    {
      "cell_type": "code",
      "execution_count": null,
      "metadata": {
        "id": "p6L_ZpaHVmTp"
      },
      "outputs": [],
      "source": [
        "license_plate = \"13나 5645\""
      ]
    },
    {
      "cell_type": "code",
      "execution_count": null,
      "metadata": {
        "id": "3fBUGQ4bVmTp",
        "outputId": "e4ede668-9bc7-462d-f844-24083120a173"
      },
      "outputs": [
        {
          "name": "stdout",
          "output_type": "stream",
          "text": [
            "5645\n"
          ]
        }
      ],
      "source": [
        "# 코드를 입력해 주세요\n",
        "print(license_plate[-4:])"
      ]
    },
    {
      "cell_type": "markdown",
      "metadata": {
        "id": "sxmSY5jpVmTu"
      },
      "source": [
        "### 연습문제 4\n",
        "\n",
        "- 다음 중 a, b, c에서 공통으로 사용된 알파벳(공백 포함)을 출력하세요.\n",
        "- list 형식으로 출력하세요."
      ]
    },
    {
      "cell_type": "code",
      "execution_count": null,
      "metadata": {
        "id": "bJF0mbFGVmTu"
      },
      "outputs": [],
      "source": [
        "a = 'Hello, World'\n",
        "b = 'World To World'\n",
        "c = 'world to world'"
      ]
    },
    {
      "cell_type": "code",
      "execution_count": null,
      "metadata": {
        "id": "rWvNdKrCVmTu",
        "outputId": "5b7bd688-5384-4f67-be02-df8217b81e35"
      },
      "outputs": [
        {
          "data": {
            "text/plain": [
              "[' ', 'd', 'l', 'o', 'r']"
            ]
          },
          "execution_count": 54,
          "metadata": {},
          "output_type": "execute_result"
        }
      ],
      "source": [
        "# 코드를 입력해 주세요\n",
        "result = list(set(a) & set(b) & set(c))\n",
        "result.sort()\n",
        "result"
      ]
    },
    {
      "cell_type": "markdown",
      "metadata": {
        "id": "FLyp_3PQVmT1"
      },
      "source": [
        "### 연습문제 5"
      ]
    },
    {
      "cell_type": "markdown",
      "metadata": {
        "id": "UxhzWtXaVmT1"
      },
      "source": [
        "sample = ['Python', 'is', 'too', 'interesting']\n",
        "\n",
        "리스트를 'Python * is * too * interesting *' 이라는 문자열로 출력하세요"
      ]
    },
    {
      "cell_type": "code",
      "execution_count": null,
      "metadata": {
        "id": "GwkISssUVmT1"
      },
      "outputs": [],
      "source": [
        "sample = ['Python', 'is', 'too', 'interesting']"
      ]
    },
    {
      "cell_type": "code",
      "execution_count": null,
      "metadata": {
        "id": "OKyQso4aVmT2",
        "outputId": "94f5ec6e-6cb2-4508-bac3-e718175f96db"
      },
      "outputs": [
        {
          "data": {
            "text/plain": [
              "'Python * is * too * interesting'"
            ]
          },
          "execution_count": 7,
          "metadata": {},
          "output_type": "execute_result"
        }
      ],
      "source": [
        "# 코드를 입력해 주세요\n",
        "' * '.join(sample)"
      ]
    },
    {
      "cell_type": "markdown",
      "source": [
        "phone_number = ['010', '1234', '5678']\n",
        "\n",
        "리스트를 '010-1234-5678' 이라는 문자열로 출력하세요."
      ],
      "metadata": {
        "id": "Hf-kX_dmYw-H"
      }
    },
    {
      "cell_type": "code",
      "execution_count": null,
      "metadata": {
        "id": "Qrc0CbyWVmT2"
      },
      "outputs": [],
      "source": [
        "phone_number = ['010', '1234', '5678']"
      ]
    },
    {
      "cell_type": "code",
      "execution_count": null,
      "metadata": {
        "id": "U6s8oB4qVmT3",
        "outputId": "151b080a-bbbf-4b3d-c21e-db87bfcfc564"
      },
      "outputs": [
        {
          "data": {
            "text/plain": [
              "'010-1234-5678'"
            ]
          },
          "execution_count": 9,
          "metadata": {},
          "output_type": "execute_result"
        }
      ],
      "source": [
        "# 코드를 입력해 주세요\n",
        "'-'.join(phone_number)"
      ]
    },
    {
      "cell_type": "markdown",
      "source": [
        "## **5. 연산**"
      ],
      "metadata": {
        "id": "WMfRhZeKWSZ5"
      }
    },
    {
      "cell_type": "markdown",
      "metadata": {
        "id": "zW9OpM7jWYhT"
      },
      "source": [
        "### 연습문제\n",
        "\n",
        "`a`와 `b`를 덧셈하여 다음의 결과가 나오도록 코드를 입력해 주세요\n",
        "\n",
        "- 단, `a`와 `b`의 값을 수정하지 않습니다."
      ]
    },
    {
      "cell_type": "code",
      "execution_count": null,
      "metadata": {
        "id": "aRDcvrYDWYhU"
      },
      "outputs": [],
      "source": [
        "a = '10'\n",
        "b = 20"
      ]
    },
    {
      "cell_type": "code",
      "execution_count": null,
      "metadata": {
        "id": "mpZHePz0WYhU",
        "outputId": "ff1d56c9-680d-4f24-8b4a-6be33a60b370"
      },
      "outputs": [
        {
          "data": {
            "text/plain": [
              "30"
            ]
          },
          "execution_count": 28,
          "metadata": {},
          "output_type": "execute_result"
        }
      ],
      "source": [
        "# 코드를 입력해 주세요\n",
        "int(a) + b"
      ]
    },
    {
      "cell_type": "code",
      "execution_count": null,
      "metadata": {
        "id": "2ksaBNmgWYhU",
        "outputId": "a336a997-c5e9-44ca-b0e5-bbd5a994a801"
      },
      "outputs": [
        {
          "data": {
            "text/plain": [
              "'1020'"
            ]
          },
          "execution_count": 29,
          "metadata": {},
          "output_type": "execute_result"
        }
      ],
      "source": [
        "# 코드를 입력해 주세요\n",
        "a + str(b)"
      ]
    },
    {
      "cell_type": "markdown",
      "source": [
        "## **6. 비교/논리/삼항연산자, ⭐⭐조건문**"
      ],
      "metadata": {
        "id": "q9wd3W5_khxK"
      }
    },
    {
      "cell_type": "markdown",
      "metadata": {
        "id": "G7e94LKeWhla"
      },
      "source": [
        "### 연습문제 1"
      ]
    },
    {
      "cell_type": "markdown",
      "metadata": {
        "id": "vekzi5CKWhla"
      },
      "source": [
        "사용자에게 몸무게를 입력 받아 과체중인지 정상 체중인지 출력하는 프로그램을 만드세요.\n",
        "\n",
        "- 몸무게가 100kg 초과이면 '귀하는 과체중 입니다.' 메시지를 출력하세요\n",
        "- 몸무게가 100kg 이하이면 '귀하는 정상체중 입니다.' 메시지를 출력하세요\n",
        "- 몸무게 입력은 input() 함수를 사용하여 입력 받습니다.\n",
        "- 반드시 **삼항연산자를 활용**하세요"
      ]
    },
    {
      "cell_type": "code",
      "execution_count": null,
      "metadata": {
        "id": "avOR9kyjWhla",
        "outputId": "18018664-1607-45c8-d16e-f249d7324c70"
      },
      "outputs": [
        {
          "name": "stdout",
          "output_type": "stream",
          "text": [
            "몸무게를 입력해 주세요: 105\n"
          ]
        }
      ],
      "source": [
        "# 입력 예시 (105로 입력한 경우)\n",
        "weight = input('몸무게를 입력해 주세요: ')"
      ]
    },
    {
      "cell_type": "code",
      "execution_count": null,
      "metadata": {
        "id": "ocf0g9ecWhlb",
        "outputId": "7b40c441-c893-491c-ca49-386710f70528"
      },
      "outputs": [
        {
          "data": {
            "text/plain": [
              "'귀하는 과체중 입니다.'"
            ]
          },
          "execution_count": 24,
          "metadata": {},
          "output_type": "execute_result"
        }
      ],
      "source": [
        "# 코드를 입력해 주세요\n",
        "\"귀하는 과체중 입니다.\" if int(weight) > 100 else \"귀하는 정상체중 입니다.\""
      ]
    },
    {
      "cell_type": "markdown",
      "metadata": {
        "id": "hAchnqOiWhlh"
      },
      "source": [
        "### 연습문제 2"
      ]
    },
    {
      "cell_type": "markdown",
      "metadata": {
        "id": "lqHmYnk2Whlh"
      },
      "source": [
        "#### Q1"
      ]
    },
    {
      "cell_type": "markdown",
      "metadata": {
        "id": "MqKFbCkFWhlh"
      },
      "source": [
        "- (몸무게 + 100 - 키)를 비만 수치 공식이라고 가정합니다.\n",
        "- 키와 몸무게를 입력받아 첫 번째 줄에 비만 수치를 출력합니다.\n",
        "- 비만 수치가 0보다 크면 비만이라는 메시지를 출력하세요.\n",
        "\n",
        "```\n",
        "입력 예) info =[155, 60] (키, 몸무게 순)\n",
        "출력[1]: 비만수치는 5 입니다.\n",
        "출력[2]: 당신은 비만입니다.\n",
        "```"
      ]
    },
    {
      "cell_type": "code",
      "execution_count": null,
      "metadata": {
        "id": "y7L20sf9Whlh"
      },
      "outputs": [],
      "source": [
        "info = [155, 60]"
      ]
    },
    {
      "cell_type": "code",
      "execution_count": null,
      "metadata": {
        "id": "UPjwx1v7Whli",
        "outputId": "4df14729-ce3a-4f7e-a7bb-075048b81f0b"
      },
      "outputs": [
        {
          "name": "stdout",
          "output_type": "stream",
          "text": [
            "비만수치는 5입니다\n",
            "당신은 비만입니다.\n"
          ]
        }
      ],
      "source": [
        "# 코드를 입력해 주세요\n",
        "score = info[1] + 100 - info[0]\n",
        "print(f'비만수치는 {score}입니다')\n",
        "if score > 0:\n",
        "    print(f'당신은 비만입니다.')\n",
        "else:\n",
        "    print(f'당신은 정상입니다.')"
      ]
    },
    {
      "cell_type": "markdown",
      "metadata": {
        "id": "lTwSnUvQWhli"
      },
      "source": [
        "#### Q2"
      ]
    },
    {
      "cell_type": "markdown",
      "metadata": {
        "id": "VkDUnAH2Whli"
      },
      "source": [
        "성적을 입력받아 90점 이상이면 A, 80점이상이면 B, 70점 이상이면 C, 70점 미만이면 D를 출력하세요\n",
        "- 단, 점수가 음수이거나 100점을 초과하는 경우에는 '에러'를 출력하세요\n",
        "\n",
        "힌트) input() 함수를 사용합니다.\n",
        "- input() 함수는 사용자로부터 입력 값을 받을 수 있습니다."
      ]
    },
    {
      "cell_type": "markdown",
      "metadata": {
        "id": "kL3ZqnKvWhlj"
      },
      "source": [
        "- 95점 입력시: A\n",
        "- 75점 입력시: C\n",
        "- -10점 입력시: 에러\n",
        "- 105점 입력시: 에러"
      ]
    },
    {
      "cell_type": "code",
      "execution_count": null,
      "metadata": {
        "id": "PQKLhgVkWhlj",
        "outputId": "7b35413f-fe8f-4066-c0e2-11302ed45cfc"
      },
      "outputs": [
        {
          "name": "stdout",
          "output_type": "stream",
          "text": [
            "점수를 입력해 주세요: 95\n",
            "A\n"
          ]
        }
      ],
      "source": [
        "# 코드를 입력해 주세요\n",
        "score = int(input('점수를 입력해 주세요: '))\n",
        "if score < 0 or score > 100:\n",
        "    print('에러')\n",
        "elif score >= 90:\n",
        "    print('A')\n",
        "elif score >= 80:\n",
        "    print('B')\n",
        "elif score >= 70:\n",
        "    print('C')\n",
        "else:\n",
        "    print('D')"
      ]
    },
    {
      "cell_type": "markdown",
      "metadata": {
        "id": "FslHpZqmWhlj"
      },
      "source": [
        "#### Q3"
      ]
    },
    {
      "cell_type": "markdown",
      "metadata": {
        "id": "6uZLA73TWhlj"
      },
      "source": [
        "사용자로부터 `달러`, `엔`, `유로`, 또는 `위안` 금액을 입력받은 후 이를 `원`으로 변환하는 프로그램을 작성해 주세요.\n",
        "\n",
        "각 통화별 환율은 다음과 같다.\n",
        "\n",
        "- 달러: 1237.0\n",
        "- 엔: 105.4\n",
        "- 유로: 1349.69\n",
        "- 위안: 194.57\n",
        "\n",
        "사용자는 10 달러, 200 엔, 30 유로, 100 위안과 같이 금액과 통화명 사이에 **공백**을 넣어 입력한다고 가정합니다.\n",
        "\n",
        "입력 예시) `10 달러`\n",
        "\n",
        "결과 예시) `12370.0원`"
      ]
    },
    {
      "cell_type": "code",
      "execution_count": null,
      "metadata": {
        "id": "1ufTSdbwWhlk",
        "outputId": "abc70ad0-4110-47b0-9f1a-63f23978bd49"
      },
      "outputs": [
        {
          "name": "stdout",
          "output_type": "stream",
          "text": [
            "입력: 10 달러\n",
            "12370.0 원\n"
          ]
        }
      ],
      "source": [
        "# 코드를 입력해 주세요\n",
        "환율 = {\"달러\": 1237,\n",
        "        \"엔\": 1096,\n",
        "        \"유로\": 1349.69,\n",
        "        \"위안\": 194.57}\n",
        "user = input(\"입력: \")\n",
        "num, currency = user.split()\n",
        "print(float(num) * 환율[currency], \"원\")"
      ]
    },
    {
      "cell_type": "markdown",
      "source": [
        "## **⭐⭐ 7. 반복문**"
      ],
      "metadata": {
        "id": "oywhCGQOlDx1"
      }
    },
    {
      "cell_type": "markdown",
      "metadata": {
        "id": "ZQA69PpwXJ-c"
      },
      "source": [
        "### 연습문제 1"
      ]
    },
    {
      "cell_type": "markdown",
      "metadata": {
        "id": "UkWTs8jeXJ-c"
      },
      "source": [
        "반복문과 조건문을 활용하여 `sample` 에서 음수 값만 출력해 주세요"
      ]
    },
    {
      "cell_type": "code",
      "execution_count": null,
      "metadata": {
        "id": "xB74Ag3OXJ-c"
      },
      "outputs": [],
      "source": [
        "sample = [1, 11, 22, -20, 55, -33, 0, -5, 12, 35, 19, -9, -1, -100, 90]"
      ]
    },
    {
      "cell_type": "code",
      "execution_count": null,
      "metadata": {
        "id": "TupDwgzrXJ-d",
        "outputId": "cd47651f-52d4-4b49-8253-4aa566676f90"
      },
      "outputs": [
        {
          "name": "stdout",
          "output_type": "stream",
          "text": [
            "-20\n",
            "-33\n",
            "-5\n",
            "-9\n",
            "-1\n",
            "-100\n"
          ]
        }
      ],
      "source": [
        "# 코드를 입력해 주세요\n",
        "for i in sample:\n",
        "    if i < 0:\n",
        "        print(i)"
      ]
    },
    {
      "cell_type": "markdown",
      "metadata": {
        "id": "R9w3uHhRXJ-d"
      },
      "source": [
        "반복문과 조건문을 활용하여 `sample`의 요소 중 10보다 크고 50보다 작은 요소만 출력해 주세요"
      ]
    },
    {
      "cell_type": "code",
      "execution_count": null,
      "metadata": {
        "id": "Yr6NsCXhXJ-d",
        "outputId": "82128422-f6d1-410c-d456-19ecbcf4e43c"
      },
      "outputs": [
        {
          "name": "stdout",
          "output_type": "stream",
          "text": [
            "11\n",
            "22\n",
            "12\n",
            "35\n",
            "19\n"
          ]
        }
      ],
      "source": [
        "# 코드를 입력해 주세요\n",
        "for i in sample:\n",
        "    if i > 10 and i < 50:\n",
        "        print(i)"
      ]
    },
    {
      "cell_type": "markdown",
      "metadata": {
        "id": "LyFv19k0XJ-j"
      },
      "source": [
        "### 연습문제 2"
      ]
    },
    {
      "cell_type": "markdown",
      "metadata": {
        "id": "fCaOvX0CXJ-j"
      },
      "source": [
        "다음의 문자열을 **반복문**을 활용하여 출력하되, **모음('a', 'e', 'i', 'o', 'u')만 대문자**로 자음은 소문자로 출력해 주세요."
      ]
    },
    {
      "cell_type": "code",
      "execution_count": null,
      "metadata": {
        "id": "vWuPxyIrXJ-k"
      },
      "outputs": [],
      "source": [
        "sample = \"PyThoN Is fUn\""
      ]
    },
    {
      "cell_type": "code",
      "execution_count": null,
      "metadata": {
        "id": "cgwn_jPUXJ-k",
        "outputId": "7f8899b9-600d-4ef4-8624-b677ca623b22"
      },
      "outputs": [
        {
          "name": "stdout",
          "output_type": "stream",
          "text": [
            " p\n",
            " y\n",
            " t\n",
            " h\n",
            "(모음) O\n",
            " n\n",
            "(공백) \n",
            "(모음) I\n",
            " s\n",
            "(공백) \n",
            " f\n",
            "(모음) U\n",
            " n\n"
          ]
        }
      ],
      "source": [
        "# 코드를 입력해 주세요\n",
        "for i in sample:\n",
        "#     if i.lower() in ['a', 'e', 'i', 'o', 'u']:\n",
        "    if i.lower() in 'aeiou':\n",
        "        print(f'(모음) {i.upper()}')\n",
        "    elif i == ' ':\n",
        "        print('(공백) ')\n",
        "    else:\n",
        "        print(f' {i.lower()}')"
      ]
    },
    {
      "cell_type": "markdown",
      "metadata": {
        "id": "1_h_EkchFbU4"
      },
      "source": [
        "### 연습문제 3\n",
        "\n",
        "- 구구단을 반복문을 사용하여 만들어 보세요!\n",
        "- 구구단은 2단 부터 9단까지 있습니다."
      ]
    },
    {
      "cell_type": "code",
      "execution_count": null,
      "metadata": {
        "colab": {
          "base_uri": "https://localhost:8080/",
          "height": 1000
        },
        "id": "ENWT9y5RFgaJ",
        "outputId": "ab0d5a6d-de79-4f63-b055-78f36f12fd1f"
      },
      "outputs": [
        {
          "name": "stdout",
          "output_type": "stream",
          "text": [
            "2 X 1 = 2\n",
            "2 X 2 = 4\n",
            "2 X 3 = 6\n",
            "2 X 4 = 8\n",
            "2 X 5 = 10\n",
            "2 X 6 = 12\n",
            "2 X 7 = 14\n",
            "2 X 8 = 16\n",
            "2 X 9 = 18\n",
            "\n",
            "3 X 1 = 3\n",
            "3 X 2 = 6\n",
            "3 X 3 = 9\n",
            "3 X 4 = 12\n",
            "3 X 5 = 15\n",
            "3 X 6 = 18\n",
            "3 X 7 = 21\n",
            "3 X 8 = 24\n",
            "3 X 9 = 27\n",
            "\n",
            "4 X 1 = 4\n",
            "4 X 2 = 8\n",
            "4 X 3 = 12\n",
            "4 X 4 = 16\n",
            "4 X 5 = 20\n",
            "4 X 6 = 24\n",
            "4 X 7 = 28\n",
            "4 X 8 = 32\n",
            "4 X 9 = 36\n",
            "\n",
            "5 X 1 = 5\n",
            "5 X 2 = 10\n",
            "5 X 3 = 15\n",
            "5 X 4 = 20\n",
            "5 X 5 = 25\n",
            "5 X 6 = 30\n",
            "5 X 7 = 35\n",
            "5 X 8 = 40\n",
            "5 X 9 = 45\n",
            "\n",
            "6 X 1 = 6\n",
            "6 X 2 = 12\n",
            "6 X 3 = 18\n",
            "6 X 4 = 24\n",
            "6 X 5 = 30\n",
            "6 X 6 = 36\n",
            "6 X 7 = 42\n",
            "6 X 8 = 48\n",
            "6 X 9 = 54\n",
            "\n",
            "7 X 1 = 7\n",
            "7 X 2 = 14\n",
            "7 X 3 = 21\n",
            "7 X 4 = 28\n",
            "7 X 5 = 35\n",
            "7 X 6 = 42\n",
            "7 X 7 = 49\n",
            "7 X 8 = 56\n",
            "7 X 9 = 63\n",
            "\n",
            "8 X 1 = 8\n",
            "8 X 2 = 16\n",
            "8 X 3 = 24\n",
            "8 X 4 = 32\n",
            "8 X 5 = 40\n",
            "8 X 6 = 48\n",
            "8 X 7 = 56\n",
            "8 X 8 = 64\n",
            "8 X 9 = 72\n",
            "\n",
            "9 X 1 = 9\n",
            "9 X 2 = 18\n",
            "9 X 3 = 27\n",
            "9 X 4 = 36\n",
            "9 X 5 = 45\n",
            "9 X 6 = 54\n",
            "9 X 7 = 63\n",
            "9 X 8 = 72\n",
            "9 X 9 = 81\n",
            "\n"
          ]
        }
      ],
      "source": [
        "# 코드를 입력해 주세요\n",
        "for i in range(2, 10):\n",
        "    for j in range(1, 10):\n",
        "        print(f'{i} X {j} = {i*j}')\n",
        "    print()"
      ]
    },
    {
      "cell_type": "markdown",
      "metadata": {
        "id": "DQzn4u7OXJ-0"
      },
      "source": [
        "### 연습문제 4"
      ]
    },
    {
      "cell_type": "markdown",
      "metadata": {
        "id": "BMlIHXR6XJ-0"
      },
      "source": [
        "사용자의 입력이 'MALE', 'FEMALE'인 경우는 while 문을 종료하고, 그렇지 않으면 \"잘못된 입력 값입니다.\"를 출력하세요\n",
        "\n",
        "- input() 함수로 사용자로부터 입력을 받습니다."
      ]
    },
    {
      "cell_type": "code",
      "execution_count": null,
      "metadata": {
        "id": "_dIvCf1wTwC8",
        "outputId": "c60a2b31-ac83-47cb-9aef-d6fe8393c39d"
      },
      "outputs": [
        {
          "name": "stdout",
          "output_type": "stream",
          "text": [
            "male\n",
            "잘못된 입력 값입니다.\n",
            "animal\n",
            "잘못된 입력 값입니다.\n",
            "FEMALE\n",
            "====\n",
            "프로그램 종료\n"
          ]
        }
      ],
      "source": [
        "# 코드를 입력해 주세요\n",
        "gender = ''\n",
        "\n",
        "while(gender != 'MALE' and gender != 'FEMALE'):\n",
        "    gender = input()\n",
        "    if gender != 'MALE' and gender != 'FEMALE':\n",
        "        print('잘못된 입력 값입니다.')\n",
        "\n",
        "print('====\\n프로그램 종료')"
      ]
    },
    {
      "cell_type": "markdown",
      "metadata": {
        "id": "-K427KJjTwC-"
      },
      "source": [
        "### 연습 문제 5"
      ]
    },
    {
      "cell_type": "markdown",
      "metadata": {
        "id": "ee-VmO97TwC-"
      },
      "source": [
        "1부터 50까지의 숫자 중에서 짝수의 합을 구하세요 (while 사용)"
      ]
    },
    {
      "cell_type": "code",
      "execution_count": null,
      "metadata": {
        "colab": {
          "base_uri": "https://localhost:8080/",
          "height": 484
        },
        "id": "9Wtkpa8JTwC-",
        "outputId": "f71fe2e9-56a6-441b-f5af-cdc321c9b332"
      },
      "outputs": [
        {
          "name": "stdout",
          "output_type": "stream",
          "text": [
            "count: 2, total: 2\n",
            "count: 4, total: 6\n",
            "count: 6, total: 12\n",
            "count: 8, total: 20\n",
            "count: 10, total: 30\n",
            "count: 12, total: 42\n",
            "count: 14, total: 56\n",
            "count: 16, total: 72\n",
            "count: 18, total: 90\n",
            "count: 20, total: 110\n",
            "count: 22, total: 132\n",
            "count: 24, total: 156\n",
            "count: 26, total: 182\n",
            "count: 28, total: 210\n",
            "count: 30, total: 240\n",
            "count: 32, total: 272\n",
            "count: 34, total: 306\n",
            "count: 36, total: 342\n",
            "count: 38, total: 380\n",
            "count: 40, total: 420\n",
            "count: 42, total: 462\n",
            "count: 44, total: 506\n",
            "count: 46, total: 552\n",
            "count: 48, total: 600\n",
            "count: 50, total: 650\n"
          ]
        }
      ],
      "source": [
        "# 코드를 입력해 주세요\n",
        "count = 1\n",
        "total = 0\n",
        "while count <= 50:\n",
        "    if count % 2 == 0:\n",
        "        total += count\n",
        "        print('count: %d, total: %d' % (count, total))\n",
        "    count += 1"
      ]
    },
    {
      "cell_type": "markdown",
      "metadata": {
        "id": "N__LNdqPTwDA"
      },
      "source": [
        "### 연습 문제 6"
      ]
    },
    {
      "cell_type": "markdown",
      "metadata": {
        "id": "ZyCbL-IxTwDB"
      },
      "source": [
        "**while**을 이용하여 다음과 같이 @ 찍기에 도전해 보세요!"
      ]
    },
    {
      "cell_type": "code",
      "execution_count": null,
      "metadata": {
        "id": "qX1sgUIuTwDB",
        "outputId": "23d59d0e-7d24-48cf-d214-a1db6cc17a56"
      },
      "outputs": [
        {
          "name": "stdout",
          "output_type": "stream",
          "text": [
            "@\n",
            "@@\n",
            "@@@\n",
            "@@@@\n",
            "@@@@@\n"
          ]
        }
      ],
      "source": [
        "# 코드를 입력해 주세요\n",
        "num = 1\n",
        "while num<=5:\n",
        "    print('@'*num)\n",
        "    num += 1"
      ]
    },
    {
      "cell_type": "code",
      "execution_count": null,
      "metadata": {
        "id": "1i2vHG0iVND2",
        "outputId": "87c4909f-73b1-4f79-f726-5114639fa4f6"
      },
      "outputs": [
        {
          "name": "stdout",
          "output_type": "stream",
          "text": [
            "@\n",
            "@@\n",
            "@@@\n",
            "@@\n",
            "@\n"
          ]
        }
      ],
      "source": [
        "# 코드를 입력해 주세요\n",
        "num = 1\n",
        "while num<=5:\n",
        "    if num <=3:\n",
        "        print('@' * num)\n",
        "    else:\n",
        "        print('@' * (6-num))\n",
        "    num += 1"
      ]
    },
    {
      "cell_type": "markdown",
      "source": [
        "## **⭐ 8. Comprehension**\n",
        "- 별도의 연습문제는 없지만 중요한 파트이니 실습파일 공부하시는 걸 !적극! 추천드립니다😊"
      ],
      "metadata": {
        "id": "tHP9q4pMm1XD"
      }
    },
    {
      "cell_type": "markdown",
      "source": [
        "## **⭐⭐⭐ 9. 함수**"
      ],
      "metadata": {
        "id": "B2DpHW2TnKri"
      }
    },
    {
      "cell_type": "markdown",
      "metadata": {
        "id": "TSKSRHwRX_78"
      },
      "source": [
        "### 연습문제 1"
      ]
    },
    {
      "cell_type": "markdown",
      "metadata": {
        "id": "7hdiQXhoX_78"
      },
      "source": [
        "알파벳 문자열을 인수로 넣으면  함수를 구현하세요\n",
        "\n",
        "- 함수의 이름은 `capital_letter` 로 선언합니다.\n",
        "- 함수는 **letter**라는 위치인수를 가집니다.\n",
        "- 함수는 **letter**인수에 받은 문자열을 모두 대문자로 바꾸고, 바꾼 값을 `return` 합니다."
      ]
    },
    {
      "cell_type": "code",
      "execution_count": null,
      "metadata": {
        "id": "SukqPHPiX_79",
        "outputId": "0043a905-a235-40be-9fc1-3ec892efbf1f"
      },
      "outputs": [
        {
          "data": {
            "text/plain": [
              "'MY NAME IS ELSA'"
            ]
          },
          "execution_count": 58,
          "metadata": {},
          "output_type": "execute_result"
        }
      ],
      "source": [
        "# 코드를 입력해 주세요\n",
        "def capital_letter(letter):\n",
        "    # 코드입력\n",
        "    return letter.upper()\n",
        "\n",
        "capital_letter(\"My Name is Elsa\")"
      ]
    },
    {
      "cell_type": "markdown",
      "metadata": {
        "id": "kUJBgzmZX_7_"
      },
      "source": [
        "### 연습문제 2"
      ]
    },
    {
      "cell_type": "markdown",
      "metadata": {
        "id": "OzKPEXlPX_7_"
      },
      "source": [
        "def calc_many(choice, *args) 함수에서\n",
        "- choice가 `sum` 이면 **합**을 구해서 return 합니다.\n",
        "- choice 가 `mul` 이면 **곱**한 결과를 return 합니다.\n",
        "\n",
        "함수를 구현하세요"
      ]
    },
    {
      "cell_type": "code",
      "execution_count": null,
      "metadata": {
        "id": "tmwgnMhNX_8A"
      },
      "outputs": [],
      "source": [
        "# 코드를 입력해 주세요\n",
        "def calc_many(choice, *args):\n",
        "    # 코드입력\n",
        "    ret = 0\n",
        "    if choice == 'mul':\n",
        "        ret = 1\n",
        "    for i in args:\n",
        "        if choice == 'sum':\n",
        "            ret += i\n",
        "        elif choice == 'mul':\n",
        "            ret *= i\n",
        "    return ret"
      ]
    },
    {
      "cell_type": "code",
      "execution_count": null,
      "metadata": {
        "id": "ZjUhx4iZX_8B",
        "outputId": "bf45f82d-2161-4a22-cee4-cf94a7b6c0e2"
      },
      "outputs": [
        {
          "name": "stdout",
          "output_type": "stream",
          "text": [
            "10\n",
            "120\n"
          ]
        }
      ],
      "source": [
        "# 결과: 10\n",
        "print(calc_many('sum', 0, 1, 2, 3, 4))\n",
        "# 결과: 120\n",
        "print(calc_many('mul', 1, 2, 3, 4, 5))"
      ]
    },
    {
      "cell_type": "markdown",
      "source": [
        "## **10. 파이썬 내장함수**"
      ],
      "metadata": {
        "id": "N2NMjUDsnl-h"
      }
    },
    {
      "cell_type": "markdown",
      "metadata": {
        "id": "tiG_rglQYiJk"
      },
      "source": [
        "### 연습문제"
      ]
    },
    {
      "cell_type": "markdown",
      "metadata": {
        "id": "Zvdr7qhzYiJk"
      },
      "source": [
        "`zip()`과 반복문을 활용하여 다음과 같이 출력해 주세요"
      ]
    },
    {
      "cell_type": "code",
      "execution_count": null,
      "metadata": {
        "id": "qnjrZABuYiJl"
      },
      "outputs": [],
      "source": [
        "fruit = ['사과', '자두', '딸기', '망고']\n",
        "price = [1000, 3000, 2500, 6000]"
      ]
    },
    {
      "cell_type": "code",
      "execution_count": null,
      "metadata": {
        "id": "2vtyYaa2YiJl",
        "outputId": "32502736-745a-49b8-e36a-697e040390dd"
      },
      "outputs": [
        {
          "name": "stdout",
          "output_type": "stream",
          "text": [
            "(사과 / 1000 원)\n",
            "(자두 / 3000 원)\n",
            "(딸기 / 2500 원)\n",
            "(망고 / 6000 원)\n"
          ]
        }
      ],
      "source": [
        "# 코드를 입력해 주세요\n",
        "for f, p in zip(fruit, price):\n",
        "    print(f'({f} / {p} 원)')"
      ]
    }
  ]
}