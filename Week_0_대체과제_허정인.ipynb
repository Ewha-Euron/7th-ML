{
  "nbformat": 4,
  "nbformat_minor": 0,
  "metadata": {
    "colab": {
      "provenance": []
    },
    "kernelspec": {
      "name": "python3",
      "display_name": "Python 3"
    },
    "language_info": {
      "name": "python"
    }
  },
  "cells": [
    {
      "cell_type": "markdown",
      "source": [
        "# **연휴 대체과제**\n",
        "- 추석 연휴 대체과제는 **파이썬 연습과제**입니다.\n",
        "- 코드 작성하시고, 출력 결과까지 나오도록 실행 부탁드립니다.\n",
        "  - 제출 시 파일명 본인 이름으로 변경해 주세요. ex) Week 0_대체과제_OOO\n",
        "  - 해당 파일에 문제 푸신 후 제출해 주시면 됩니다.\n",
        "- 과제는 팀원들과 같이 풀이하셔도 좋고, 책을 참고해도 좋고, ChatGPT를 써도 좋고, 구글링을 해도 되고 다 좋습니다.\n",
        "  - 정규 세션 전 가볍게 파이썬 기본 문법 연습하는 느낌으로 공부해주세요 :)\n",
        "  - 백지만 내지 말아주세요..😥"
      ],
      "metadata": {
        "id": "YSwl6siWeYkQ"
      }
    },
    {
      "cell_type": "markdown",
      "metadata": {
        "id": "7l08bTZPhidm"
      },
      "source": [
        "## **1. 파이썬 자료구조**"
      ]
    },
    {
      "cell_type": "markdown",
      "metadata": {
        "id": "sJT1Gng9hidm"
      },
      "source": [
        "다음과 같이 출력 되도록 코드를 작성하세요"
      ]
    },
    {
      "cell_type": "markdown",
      "metadata": {
        "id": "GAV7xXighidm"
      },
      "source": [
        "### Q1: Type 확인"
      ]
    },
    {
      "cell_type": "code",
      "execution_count": null,
      "metadata": {
        "id": "BzaK11Vnhidn"
      },
      "outputs": [],
      "source": [
        "a = 3.14"
      ]
    },
    {
      "cell_type": "markdown",
      "metadata": {
        "id": "GK5xM6hvhidn"
      },
      "source": [
        "타입을 확인해 주세요"
      ]
    },
    {
      "cell_type": "code",
      "execution_count": null,
      "metadata": {
        "id": "YyAB3oWDhidn",
        "colab": {
          "base_uri": "https://localhost:8080/"
        },
        "outputId": "af0536d9-e380-4871-98f5-a1dc5932ddf2"
      },
      "outputs": [
        {
          "output_type": "execute_result",
          "data": {
            "text/plain": [
              "float"
            ]
          },
          "metadata": {},
          "execution_count": 2
        }
      ],
      "source": [
        "# 코드를 입력해 주세요\n",
        "type(a)"
      ]
    },
    {
      "cell_type": "markdown",
      "metadata": {
        "id": "tAcAQ1cohidn"
      },
      "source": [
        "<p><strong>[출력 결과]</strong></p><pre>float</pre>"
      ]
    },
    {
      "cell_type": "markdown",
      "metadata": {
        "id": "D7frrQnqhido"
      },
      "source": [
        "### Q2: Type 변경"
      ]
    },
    {
      "cell_type": "code",
      "execution_count": null,
      "metadata": {
        "id": "T462_hCfhido"
      },
      "outputs": [],
      "source": [
        "a = 1"
      ]
    },
    {
      "cell_type": "markdown",
      "metadata": {
        "id": "qvbUmiZ5hido"
      },
      "source": [
        "타입을 변경해 주세요"
      ]
    },
    {
      "cell_type": "code",
      "execution_count": null,
      "metadata": {
        "id": "G0NpIkO-hido",
        "colab": {
          "base_uri": "https://localhost:8080/"
        },
        "outputId": "c86f46ce-4256-44ab-aa0e-f5e0b1f64c0e"
      },
      "outputs": [
        {
          "output_type": "execute_result",
          "data": {
            "text/plain": [
              "1.0"
            ]
          },
          "metadata": {},
          "execution_count": 4
        }
      ],
      "source": [
        "# 코드를 입력해 주세요\n",
        "float(a)"
      ]
    },
    {
      "cell_type": "markdown",
      "metadata": {
        "id": "5inFI_23hido"
      },
      "source": [
        "<p><strong>[출력 결과]</strong></p><pre>1.0</pre>"
      ]
    },
    {
      "cell_type": "markdown",
      "metadata": {
        "id": "W_wKBPkmhidp"
      },
      "source": [
        "### Q3: Type 변경"
      ]
    },
    {
      "cell_type": "code",
      "execution_count": null,
      "metadata": {
        "id": "532tQhvjhidp"
      },
      "outputs": [],
      "source": [
        "a = 1"
      ]
    },
    {
      "cell_type": "markdown",
      "metadata": {
        "id": "FMZ-30_Nhidp"
      },
      "source": [
        "타입을 변경해 주세요"
      ]
    },
    {
      "cell_type": "code",
      "execution_count": null,
      "metadata": {
        "id": "qvgZt-Sqhidp",
        "colab": {
          "base_uri": "https://localhost:8080/"
        },
        "outputId": "ad1091ba-5fb4-4104-84ef-064171891a43"
      },
      "outputs": [
        {
          "output_type": "execute_result",
          "data": {
            "text/plain": [
              "True"
            ]
          },
          "metadata": {},
          "execution_count": 7
        }
      ],
      "source": [
        "# 코드를 입력해 주세요\n",
        "bool(a)"
      ]
    },
    {
      "cell_type": "markdown",
      "metadata": {
        "id": "yVvhHR0Ghidp"
      },
      "source": [
        "<p><strong>[출력 결과]</strong></p><pre>True</pre>"
      ]
    },
    {
      "cell_type": "markdown",
      "metadata": {
        "id": "uEy7TBRthidq"
      },
      "source": [
        "### Q4: 타입 변경"
      ]
    },
    {
      "cell_type": "code",
      "execution_count": null,
      "metadata": {
        "id": "Q4HZoSUthidq"
      },
      "outputs": [],
      "source": [
        "a = False"
      ]
    },
    {
      "cell_type": "markdown",
      "metadata": {
        "id": "Q6BLs0Xbhidq"
      },
      "source": [
        "타입을 변경해 주세요"
      ]
    },
    {
      "cell_type": "code",
      "execution_count": null,
      "metadata": {
        "id": "EVGJHCwqhidq",
        "colab": {
          "base_uri": "https://localhost:8080/"
        },
        "outputId": "d5a7a186-62fc-4faa-d84f-522cd4bbf264"
      },
      "outputs": [
        {
          "output_type": "execute_result",
          "data": {
            "text/plain": [
              "0"
            ]
          },
          "metadata": {},
          "execution_count": 10
        }
      ],
      "source": [
        "# 코드를 입력해 주세요\n",
        "int(a)"
      ]
    },
    {
      "cell_type": "markdown",
      "metadata": {
        "id": "FXmyQfI6hidr"
      },
      "source": [
        "<p><strong>[출력 결과]</strong></p><pre>0</pre>"
      ]
    },
    {
      "cell_type": "markdown",
      "metadata": {
        "id": "Rt2yHVyXhidr"
      },
      "source": [
        "### Q5: 타입 변경"
      ]
    },
    {
      "cell_type": "code",
      "execution_count": null,
      "metadata": {
        "id": "OA69QYmrhidr"
      },
      "outputs": [],
      "source": [
        "a = 123"
      ]
    },
    {
      "cell_type": "markdown",
      "metadata": {
        "id": "Yxrao3Eshidr"
      },
      "source": [
        "타입을 변경해 주세요"
      ]
    },
    {
      "cell_type": "code",
      "execution_count": null,
      "metadata": {
        "id": "TEvsCVWlhidr",
        "colab": {
          "base_uri": "https://localhost:8080/",
          "height": 35
        },
        "outputId": "4d750766-958b-4256-8724-cd3a98c215d5"
      },
      "outputs": [
        {
          "output_type": "execute_result",
          "data": {
            "text/plain": [
              "'123'"
            ],
            "application/vnd.google.colaboratory.intrinsic+json": {
              "type": "string"
            }
          },
          "metadata": {},
          "execution_count": 14
        }
      ],
      "source": [
        "# 코드를 입력해 주세요\n",
        "str(a)"
      ]
    },
    {
      "cell_type": "markdown",
      "metadata": {
        "id": "m-Mq9Djehids"
      },
      "source": [
        "<p><strong>[출력 결과]</strong></p><pre>'123'</pre>"
      ]
    },
    {
      "cell_type": "markdown",
      "metadata": {
        "id": "Do2Bc3YEhv7k"
      },
      "source": [
        "## **2. ⭐ 리스트, 튜플**"
      ]
    },
    {
      "cell_type": "markdown",
      "metadata": {
        "id": "fMAdPD_zkFZm"
      },
      "source": [
        "### 연습문제 1"
      ]
    },
    {
      "cell_type": "code",
      "execution_count": null,
      "metadata": {
        "id": "Kh3ZEKT0kIqA"
      },
      "outputs": [],
      "source": [
        "movie = ['어벤져스', '아이언맨', '토르', '스파이더맨']"
      ]
    },
    {
      "cell_type": "markdown",
      "metadata": {
        "id": "tyOTHPsMkzCo"
      },
      "source": [
        "`movie`에 맨 끝에 `엑스맨` 을 추가하세요."
      ]
    },
    {
      "cell_type": "code",
      "execution_count": null,
      "metadata": {
        "id": "PKEtjNIvlBek",
        "colab": {
          "base_uri": "https://localhost:8080/"
        },
        "outputId": "7bb5a594-fb1a-4e1b-fafc-b65e087f4d63"
      },
      "outputs": [
        {
          "output_type": "stream",
          "name": "stdout",
          "text": [
            "['어벤져스', '아이언맨', '토르', '스파이더맨', '엑스맨']\n"
          ]
        }
      ],
      "source": [
        "# 코드를 입력해 주세요\n",
        "movie.append('엑스맨')\n",
        "print(movie)"
      ]
    },
    {
      "cell_type": "markdown",
      "metadata": {
        "id": "cSGK1G1rhv7L"
      },
      "source": [
        "<p><strong>[출력 결과]</strong></p><pre>['어벤져스', '아이언맨', '토르', '스파이더맨', '엑스맨']</pre>"
      ]
    },
    {
      "cell_type": "markdown",
      "metadata": {
        "id": "iel_W4C6ofKa"
      },
      "source": [
        "`movie`의 1번 index에 `데드풀`을 추가하세요"
      ]
    },
    {
      "cell_type": "code",
      "execution_count": null,
      "metadata": {
        "id": "yGyNESOdorFN",
        "colab": {
          "base_uri": "https://localhost:8080/"
        },
        "outputId": "847a777c-f84b-4a54-993c-0eabcb6e2d24"
      },
      "outputs": [
        {
          "output_type": "stream",
          "name": "stdout",
          "text": [
            "['어벤져스', '데드풀', '아이언맨', '토르', '스파이더맨', '엑스맨']\n"
          ]
        }
      ],
      "source": [
        "# 코드를 입력해 주세요\n",
        "movie.insert(1,'데드풀')\n",
        "print(movie)"
      ]
    },
    {
      "cell_type": "markdown",
      "metadata": {
        "id": "amQatg_hhv7M"
      },
      "source": [
        "<p><strong>[출력 결과]</strong></p><pre>['어벤져스', '데드풀', '아이언맨', '토르', '스파이더맨', '엑스맨']</pre>"
      ]
    },
    {
      "cell_type": "markdown",
      "metadata": {
        "id": "SyMuSUDFlICP"
      },
      "source": [
        "`movie`에서 `아이언맨`을 삭제 하세요.\n",
        "\n",
        "- remove() 사용"
      ]
    },
    {
      "cell_type": "code",
      "execution_count": null,
      "metadata": {
        "id": "y95NJRYSlQJb",
        "colab": {
          "base_uri": "https://localhost:8080/"
        },
        "outputId": "fb3db09a-7700-428b-b881-2bbea6362a64"
      },
      "outputs": [
        {
          "output_type": "stream",
          "name": "stdout",
          "text": [
            "['어벤져스', '데드풀', '토르', '스파이더맨', '엑스맨']\n"
          ]
        }
      ],
      "source": [
        "# 코드를 입력해 주세요\n",
        "movie.remove('아이언맨')\n",
        "print(movie)"
      ]
    },
    {
      "cell_type": "markdown",
      "metadata": {
        "id": "Tb-kXiE8hv7N"
      },
      "source": [
        "<p><strong>[출력 결과]</strong></p><pre>['어벤져스', '데드풀', '토르', '스파이더맨', '엑스맨']</pre>"
      ]
    },
    {
      "cell_type": "markdown",
      "metadata": {
        "id": "G6sOcIL-hv7N"
      },
      "source": [
        "`movie`에서 1번째 index를 삭제하세요"
      ]
    },
    {
      "cell_type": "code",
      "execution_count": null,
      "metadata": {
        "id": "C5Eis_-7hv7O",
        "colab": {
          "base_uri": "https://localhost:8080/"
        },
        "outputId": "30b5f9f1-7975-4832-9de0-7a9d152193ef"
      },
      "outputs": [
        {
          "output_type": "stream",
          "name": "stdout",
          "text": [
            "['어벤져스', '토르', '스파이더맨', '엑스맨']\n"
          ]
        }
      ],
      "source": [
        "# 코드를 입력해 주세요\n",
        "movie.pop(1)\n",
        "print(movie)"
      ]
    },
    {
      "cell_type": "markdown",
      "metadata": {
        "id": "nctxiusFhv7O"
      },
      "source": [
        "<p><strong>[출력 결과]</strong></p><pre>['어벤져스', '토르', '스파이더맨', '엑스맨']</pre>"
      ]
    },
    {
      "cell_type": "code",
      "execution_count": null,
      "metadata": {
        "id": "WKosiML9hv7P"
      },
      "outputs": [],
      "source": [
        "kr_movie = ['승리호', '신세계', '타짜']"
      ]
    },
    {
      "cell_type": "markdown",
      "metadata": {
        "id": "UxG_miFzhv7P"
      },
      "source": [
        "`kr_movie`를 `movie`에 추가해 주세요"
      ]
    },
    {
      "cell_type": "code",
      "execution_count": null,
      "metadata": {
        "id": "zQNQDPX1hv7Q",
        "colab": {
          "base_uri": "https://localhost:8080/"
        },
        "outputId": "b67deada-18d7-484b-a2d8-ec121ef5fa0f"
      },
      "outputs": [
        {
          "output_type": "stream",
          "name": "stdout",
          "text": [
            "['어벤져스', '토르', '스파이더맨', '엑스맨', '승리호', '신세계', '타짜']\n"
          ]
        }
      ],
      "source": [
        "# 코드를 입력해 주세요\n",
        "movie.extend(kr_movie)\n",
        "print(movie)"
      ]
    },
    {
      "cell_type": "markdown",
      "metadata": {
        "id": "ZO99CpAEhv7Q"
      },
      "source": [
        "<p><strong>[출력 결과]</strong></p><pre>['어벤져스', '토르', '스파이더맨', '엑스맨', '승리호', '신세계', '타짜']</pre>"
      ]
    },
    {
      "cell_type": "markdown",
      "metadata": {
        "id": "vtguJzjphv7Q"
      },
      "source": [
        "`movie`를 가나다 순으로 정렬하세요"
      ]
    },
    {
      "cell_type": "code",
      "execution_count": null,
      "metadata": {
        "id": "QR6YmRSOhv7R",
        "colab": {
          "base_uri": "https://localhost:8080/"
        },
        "outputId": "5f6a3dcb-eb81-4f5e-dbbf-384efa290b08"
      },
      "outputs": [
        {
          "output_type": "stream",
          "name": "stdout",
          "text": [
            "['스파이더맨', '승리호', '신세계', '어벤져스', '엑스맨', '타짜', '토르']\n"
          ]
        }
      ],
      "source": [
        "# 코드를 입력해 주세요\n",
        "movie.sort()\n",
        "print(movie)"
      ]
    },
    {
      "cell_type": "markdown",
      "metadata": {
        "id": "VnBvdGAPhv7R"
      },
      "source": [
        "<p><strong>[출력 결과]</strong></p><pre>['스파이더맨', '승리호', '신세계', '어벤져스', '엑스맨', '타짜', '토르']</pre>"
      ]
    },
    {
      "cell_type": "markdown",
      "source": [
        "### 연습문제 2"
      ],
      "metadata": {
        "id": "M6ZMgorGid7f"
      }
    },
    {
      "cell_type": "code",
      "execution_count": null,
      "metadata": {
        "id": "vZtzFJtOlQGA"
      },
      "outputs": [],
      "source": [
        "fruit = ['사과', '바나나', '파인애플', '배', '수박', '키위', '오렌지', '망고', '딸기']"
      ]
    },
    {
      "cell_type": "markdown",
      "metadata": {
        "id": "ZO9-b0FXlQB_"
      },
      "source": [
        "list **인덱싱** & **슬라이싱**을 사용하여 다음과 같이 출력 하세요"
      ]
    },
    {
      "cell_type": "code",
      "execution_count": null,
      "metadata": {
        "id": "ag-1JlpllPyM",
        "colab": {
          "base_uri": "https://localhost:8080/"
        },
        "outputId": "696b5929-713b-44e0-8ebb-59676ea7ad3e"
      },
      "outputs": [
        {
          "output_type": "stream",
          "name": "stdout",
          "text": [
            "['파인애플', '배', '수박']\n"
          ]
        }
      ],
      "source": [
        "# 코드를 입력해 주세요\n",
        "print(fruit[2:5])"
      ]
    },
    {
      "cell_type": "markdown",
      "metadata": {
        "id": "Cp7wCeXdhv7l"
      },
      "source": [
        "<p><strong>[출력 결과]</strong></p><pre>['파인애플', '배', '수박']</pre>"
      ]
    },
    {
      "cell_type": "code",
      "execution_count": null,
      "metadata": {
        "id": "0LRqKruin8YG",
        "colab": {
          "base_uri": "https://localhost:8080/"
        },
        "outputId": "19dfc452-58f4-4e55-b41d-579c1f1256c7"
      },
      "outputs": [
        {
          "output_type": "stream",
          "name": "stdout",
          "text": [
            "['망고', '딸기']\n"
          ]
        }
      ],
      "source": [
        "# 코드를 입력해 주세요\n",
        "print(fruit[7:])"
      ]
    },
    {
      "cell_type": "markdown",
      "metadata": {
        "id": "Z5MZjZHshv7m"
      },
      "source": [
        "<p><strong>[출력 결과]</strong></p><pre>['망고', '딸기']</pre>"
      ]
    },
    {
      "cell_type": "code",
      "execution_count": null,
      "metadata": {
        "id": "M2FntdLxoCN4",
        "colab": {
          "base_uri": "https://localhost:8080/"
        },
        "outputId": "82475912-ffc5-4c26-f141-15eca304c380"
      },
      "outputs": [
        {
          "output_type": "stream",
          "name": "stdout",
          "text": [
            "['사과', '바나나', '파인애플']\n"
          ]
        }
      ],
      "source": [
        "# 코드를 입력해 주세요\n",
        "print(fruit[:3])"
      ]
    },
    {
      "cell_type": "markdown",
      "metadata": {
        "id": "_1VB_Vpfhv7n"
      },
      "source": [
        "<p><strong>[출력 결과]</strong></p><pre>['사과', '바나나', '파인애플']</pre>"
      ]
    },
    {
      "cell_type": "code",
      "execution_count": null,
      "metadata": {
        "id": "8tdoEreLoC7Y",
        "colab": {
          "base_uri": "https://localhost:8080/"
        },
        "outputId": "4160414b-744c-4bf8-aac8-845e512801f3"
      },
      "outputs": [
        {
          "output_type": "stream",
          "name": "stdout",
          "text": [
            "['배', '수박', '키위', '오렌지', '망고', '딸기']\n"
          ]
        }
      ],
      "source": [
        "# 코드를 입력해 주세요\n",
        "print(fruit[3:])"
      ]
    },
    {
      "cell_type": "markdown",
      "metadata": {
        "id": "Qa3yO3dOhv7n"
      },
      "source": [
        "<p><strong>[출력 결과]</strong></p><pre>['배', '수박', '키위', '오렌지', '망고', '딸기']</pre>"
      ]
    },
    {
      "cell_type": "markdown",
      "metadata": {
        "id": "IyHJYJC8hv7p"
      },
      "source": [
        "### 연습문제 3"
      ]
    },
    {
      "cell_type": "markdown",
      "metadata": {
        "id": "UVBSFJ_Ghv7p"
      },
      "source": [
        "슬라이싱을 활용하여 **짝수**만 출력해 주세요"
      ]
    },
    {
      "cell_type": "code",
      "execution_count": null,
      "metadata": {
        "id": "PRlnF49Ihv7q"
      },
      "outputs": [],
      "source": [
        "nums = [1, 2, 3, 4, 5, 6, 7, 8, 9, 10]"
      ]
    },
    {
      "cell_type": "code",
      "execution_count": null,
      "metadata": {
        "id": "sOi2o7dDhv7q",
        "outputId": "e4e5d85e-658c-4ade-bb75-111d0a78968e",
        "colab": {
          "base_uri": "https://localhost:8080/"
        }
      },
      "outputs": [
        {
          "output_type": "stream",
          "name": "stdout",
          "text": [
            "[2, 4, 6, 8, 10]\n"
          ]
        }
      ],
      "source": [
        "# 코드를 입력해 주세요\n",
        "print(nums[1::2])"
      ]
    },
    {
      "cell_type": "markdown",
      "metadata": {
        "id": "NHJDovdrhv7r"
      },
      "source": [
        "<p><strong>[출력 결과]</strong></p><pre>[2, 4, 6, 8, 10]\n",
        "</pre>"
      ]
    },
    {
      "cell_type": "markdown",
      "metadata": {
        "id": "HPz0NXM1hv7u"
      },
      "source": [
        "### 연습문제 4\n",
        "\n",
        "sample = [1, 2, 3, 4, 5, 6, 7, 8] 리스트를 슬라이싱을 이용하여 출력과 같이 나올수 있도록 코드를 채워주세요."
      ]
    },
    {
      "cell_type": "code",
      "execution_count": null,
      "metadata": {
        "id": "tx5In4_Bhv7u"
      },
      "outputs": [],
      "source": [
        "sample = [1, 2, 3, 4, 5, 6, 7, 8]"
      ]
    },
    {
      "cell_type": "markdown",
      "metadata": {
        "id": "wO1-J6ejhv7v"
      },
      "source": [
        "슬라이싱을 사용해 다음과 같이 출력해 주세요"
      ]
    },
    {
      "cell_type": "code",
      "execution_count": null,
      "metadata": {
        "id": "WEMY-ViYhv7v",
        "colab": {
          "base_uri": "https://localhost:8080/"
        },
        "outputId": "b6fc7bfa-3cb4-43a8-b1c1-98b48176c572"
      },
      "outputs": [
        {
          "output_type": "stream",
          "name": "stdout",
          "text": [
            "[8, 7, 6, 5, 4, 3, 2, 1]\n"
          ]
        }
      ],
      "source": [
        "# 코드를 입력해 주세요\n",
        "print(sample[::-1])"
      ]
    },
    {
      "cell_type": "markdown",
      "metadata": {
        "id": "sA6XrRQBhv7w"
      },
      "source": [
        "<p><strong>[출력 결과]</strong></p><pre>[8, 7, 6, 5, 4, 3, 2, 1]</pre>"
      ]
    },
    {
      "cell_type": "markdown",
      "metadata": {
        "id": "cMHFXXRKhv7x"
      },
      "source": [
        "슬라이싱을 사용해 다음과 같이 출력해 주세요"
      ]
    },
    {
      "cell_type": "code",
      "execution_count": null,
      "metadata": {
        "id": "rpScJbGehv7x",
        "colab": {
          "base_uri": "https://localhost:8080/"
        },
        "outputId": "f44aeda3-9517-4af8-de8b-5f5aba189566"
      },
      "outputs": [
        {
          "output_type": "stream",
          "name": "stdout",
          "text": [
            "[3, 5, 7]\n"
          ]
        }
      ],
      "source": [
        "# 코드를 입력해 주세요\n",
        "print(sample[2::2])"
      ]
    },
    {
      "cell_type": "markdown",
      "metadata": {
        "id": "6Fv5cnR9hv7y"
      },
      "source": [
        "<p><strong>[출력 결과]</strong></p><pre>[3, 5, 7]</pre>"
      ]
    },
    {
      "cell_type": "markdown",
      "metadata": {
        "id": "wJgm3yT2hv7y"
      },
      "source": [
        "슬라이싱을 사용해 다음과 같이 출력해 주세요"
      ]
    },
    {
      "cell_type": "code",
      "execution_count": null,
      "metadata": {
        "id": "BqdgHKushv7y",
        "colab": {
          "base_uri": "https://localhost:8080/"
        },
        "outputId": "1762cd7f-6cc5-4719-8fec-3b9159b52d14"
      },
      "outputs": [
        {
          "output_type": "stream",
          "name": "stdout",
          "text": [
            "[2, 5, 8]\n"
          ]
        }
      ],
      "source": [
        "# 코드를 입력해 주세요\n",
        "print(sample[1::3])"
      ]
    },
    {
      "cell_type": "markdown",
      "metadata": {
        "id": "rbqTX49Ehv7z"
      },
      "source": [
        "<p><strong>[출력 결과]</strong></p><pre>[2, 5, 8]</pre>"
      ]
    },
    {
      "cell_type": "markdown",
      "metadata": {
        "id": "0_mJjKgJ3PXj"
      },
      "source": [
        "### 연습문제 5\n",
        "\n",
        "- 아래의 값을 저장하고 있는 `myList` 변수를 생성하세요.\n",
        "- [[1,2,3],[4,5,6],[7,8]]"
      ]
    },
    {
      "cell_type": "code",
      "execution_count": null,
      "metadata": {
        "id": "cYw8v3Wc3PXj",
        "colab": {
          "base_uri": "https://localhost:8080/"
        },
        "outputId": "32c9223a-3c96-4baa-bab8-cb402e8af97f"
      },
      "outputs": [
        {
          "output_type": "execute_result",
          "data": {
            "text/plain": [
              "[[1, 2, 3], [4, 5, 6], [7, 8]]"
            ]
          },
          "metadata": {},
          "execution_count": 55
        }
      ],
      "source": [
        "myList = [[1,2,3],[4,5,6],[7,8]]\n",
        "myList"
      ]
    },
    {
      "cell_type": "markdown",
      "metadata": {
        "id": "huln3pHGqluk"
      },
      "source": [
        "- 9를 `myList`에 추가하여 아래의 값을 저장할 수 있도록 하세요.\n",
        "    - [[1,2,3],[4,5,6],[7,8,9]]"
      ]
    },
    {
      "cell_type": "code",
      "execution_count": null,
      "metadata": {
        "id": "fQwG-KLiq_Aq",
        "colab": {
          "base_uri": "https://localhost:8080/"
        },
        "outputId": "35acf43f-d3c2-4229-edd1-b881735e75f3"
      },
      "outputs": [
        {
          "output_type": "stream",
          "name": "stdout",
          "text": [
            "[[1, 2, 3], [4, 5, 6], [7, 8, 9]]\n"
          ]
        }
      ],
      "source": [
        "# 코드를 입력해 주세요\n",
        "myList[-1].append(9)\n",
        "print(myList)"
      ]
    },
    {
      "cell_type": "markdown",
      "metadata": {
        "id": "Rw3QlYGXhv70"
      },
      "source": [
        "<p><strong>[출력 결과]</strong></p><pre>[[1, 2, 3], [4, 5, 6], [7, 8, 9]]</pre>"
      ]
    },
    {
      "cell_type": "markdown",
      "metadata": {
        "id": "mNvNhTnDhv7_"
      },
      "source": [
        "### 연습문제 6"
      ]
    },
    {
      "cell_type": "markdown",
      "metadata": {
        "id": "Le4dq5Amhv7_"
      },
      "source": [
        "주어진 tuple `a`를 (1, 100, 2, 3, 4)의 요소를 가지도록 변경해 주세요"
      ]
    },
    {
      "cell_type": "code",
      "execution_count": null,
      "metadata": {
        "id": "omVO_0PFhv7_"
      },
      "outputs": [],
      "source": [
        "a = (1, 2, 3, 4)"
      ]
    },
    {
      "cell_type": "code",
      "execution_count": null,
      "metadata": {
        "id": "A3X3Ahr1hv7_",
        "colab": {
          "base_uri": "https://localhost:8080/"
        },
        "outputId": "e3efb28c-0715-4f2a-cf0b-0dc8201a8fb8"
      },
      "outputs": [
        {
          "output_type": "stream",
          "name": "stdout",
          "text": [
            "(1, 100, 2, 3, 4)\n"
          ]
        }
      ],
      "source": [
        "# 코드를 입력해 주세요\n",
        "a = (1, 100, 2, 3, 4)\n",
        "print(a)"
      ]
    },
    {
      "cell_type": "markdown",
      "metadata": {
        "id": "8uGgJMbfhv8A"
      },
      "source": [
        "<p><strong>[출력 결과]</strong></p><pre>(1, 100, 2, 3, 4)</pre>"
      ]
    },
    {
      "cell_type": "markdown",
      "source": [
        "## **3. 셋, 딕셔너리**"
      ],
      "metadata": {
        "id": "NGwr4D2_i00e"
      }
    },
    {
      "cell_type": "markdown",
      "metadata": {
        "id": "sF9Bo7rQi5dh"
      },
      "source": [
        "### 연습문제 1"
      ]
    },
    {
      "cell_type": "code",
      "execution_count": null,
      "metadata": {
        "id": "_-WSt8vdi5di",
        "colab": {
          "base_uri": "https://localhost:8080/"
        },
        "outputId": "7c003a9f-2188-40fc-94c1-b7d48adf83f0"
      },
      "outputs": [
        {
          "output_type": "stream",
          "name": "stdout",
          "text": [
            "sample1: {1, 2, 3, 4, 5}\n",
            "sample2: {2, 4, 5, 6, 7}\n"
          ]
        }
      ],
      "source": [
        "sample1 = {1, 2, 3, 4, 5}\n",
        "sample2 = {2, 4, 5, 6, 7}\n",
        "\n",
        "print(f'sample1: {sample1}')\n",
        "print(f'sample2: {sample2}')"
      ]
    },
    {
      "cell_type": "markdown",
      "metadata": {
        "id": "1olPUcMhi5dk"
      },
      "source": [
        "`sample1` 에 6를 추가합니다."
      ]
    },
    {
      "cell_type": "code",
      "execution_count": null,
      "metadata": {
        "id": "dFnTHCz7i5dl",
        "colab": {
          "base_uri": "https://localhost:8080/"
        },
        "outputId": "04015b43-db12-4411-b7a4-646f910b37b7"
      },
      "outputs": [
        {
          "output_type": "stream",
          "name": "stdout",
          "text": [
            "{1, 2, 3, 4, 5, 6}\n"
          ]
        }
      ],
      "source": [
        "# 코드를 입력해 주세요\n",
        "sample1.add(6)\n",
        "print(sample1)"
      ]
    },
    {
      "cell_type": "markdown",
      "metadata": {
        "id": "AROMiBy7i5dl"
      },
      "source": [
        "<p><strong>[출력 결과]</strong></p><pre>{1, 2, 3, 4, 5, 6}</pre>"
      ]
    },
    {
      "cell_type": "markdown",
      "metadata": {
        "id": "m3PW8T1Ji5dm"
      },
      "source": [
        "`sample2`에 2를 제거합니다."
      ]
    },
    {
      "cell_type": "code",
      "execution_count": null,
      "metadata": {
        "id": "ZtRBIvP8i5dm",
        "colab": {
          "base_uri": "https://localhost:8080/"
        },
        "outputId": "e8a83c97-c4be-4f5d-dbbe-c11b6ef8cbd4"
      },
      "outputs": [
        {
          "output_type": "stream",
          "name": "stdout",
          "text": [
            "{4, 5, 6, 7}\n"
          ]
        }
      ],
      "source": [
        "# 코드를 입력해 주세요\n",
        "sample2.remove(2)\n",
        "print(sample2)"
      ]
    },
    {
      "cell_type": "markdown",
      "metadata": {
        "id": "m7ENi8HRi5dn"
      },
      "source": [
        "<p><strong>[출력 결과]</strong></p><pre>{4, 5, 6, 7}</pre>"
      ]
    },
    {
      "cell_type": "markdown",
      "metadata": {
        "id": "kdPeFuzSi5dn"
      },
      "source": [
        "`sample1`과 `sample2`의 **교집합**을 출력합니다."
      ]
    },
    {
      "cell_type": "code",
      "execution_count": null,
      "metadata": {
        "id": "7l2mzXfdi5do",
        "colab": {
          "base_uri": "https://localhost:8080/"
        },
        "outputId": "923366d7-97c2-4123-bda4-248bff80a240"
      },
      "outputs": [
        {
          "output_type": "stream",
          "name": "stdout",
          "text": [
            "{4, 5, 6}\n"
          ]
        }
      ],
      "source": [
        "# 코드를 입력해 주세요\n",
        "print(sample1 & sample2)"
      ]
    },
    {
      "cell_type": "markdown",
      "metadata": {
        "id": "qgT_MyHCi5dp"
      },
      "source": [
        "<p><strong>[출력 결과]</strong></p><pre>{4, 5, 6}</pre>"
      ]
    },
    {
      "cell_type": "markdown",
      "metadata": {
        "id": "7rdrBqv8i5dp"
      },
      "source": [
        "`sample1`과 `sample2`의 **합집합**을 출력합니다."
      ]
    },
    {
      "cell_type": "code",
      "execution_count": null,
      "metadata": {
        "id": "TOtQWgXti5dq",
        "colab": {
          "base_uri": "https://localhost:8080/"
        },
        "outputId": "5a9c666c-d2d8-4dc7-e84d-ee4748b70fd0"
      },
      "outputs": [
        {
          "output_type": "stream",
          "name": "stdout",
          "text": [
            "{1, 2, 3, 4, 5, 6, 7}\n"
          ]
        }
      ],
      "source": [
        "# 코드를 입력해 주세요\n",
        "print(sample1 | sample2)"
      ]
    },
    {
      "cell_type": "markdown",
      "metadata": {
        "id": "Jx6iipcXi5dq"
      },
      "source": [
        "<p><strong>[출력 결과]</strong></p><pre>{1, 2, 3, 4, 5, 6, 7}</pre>"
      ]
    },
    {
      "cell_type": "markdown",
      "metadata": {
        "id": "1r_uoyUOi5dr"
      },
      "source": [
        "`sample1`과 `sample2`의 **차집합**을 활용하여 다음과 같이 출력합니다."
      ]
    },
    {
      "cell_type": "code",
      "execution_count": null,
      "metadata": {
        "id": "_fUVnwTIi5dr",
        "colab": {
          "base_uri": "https://localhost:8080/"
        },
        "outputId": "a0f42ab1-de73-428e-c308-8e59af8cc09c"
      },
      "outputs": [
        {
          "output_type": "stream",
          "name": "stdout",
          "text": [
            "{1, 2, 3}\n"
          ]
        }
      ],
      "source": [
        "# 코드를 입력해 주세요\n",
        "print(sample1 - sample2)"
      ]
    },
    {
      "cell_type": "markdown",
      "metadata": {
        "id": "cPNBxq8Qi5ds"
      },
      "source": [
        "<p><strong>[출력 결과]</strong></p><pre>{1, 2, 3}</pre>"
      ]
    },
    {
      "cell_type": "markdown",
      "metadata": {
        "id": "24pLdsBX3PXx"
      },
      "source": [
        "### 연습문제 2\n",
        "\n",
        "- 다음 리스트에서 중복된 항목을 제거하세요\n",
        "- 최종 출력 값은 list 형태로 출력하세요"
      ]
    },
    {
      "cell_type": "code",
      "execution_count": null,
      "metadata": {
        "id": "7KXSVoYDi5dt"
      },
      "outputs": [],
      "source": [
        "numList = [1, 3, 2, 3, 7, 6, 8, 4, 10, 5, 3, 8, 9]"
      ]
    },
    {
      "cell_type": "code",
      "execution_count": null,
      "metadata": {
        "id": "lLEILpf03PXx",
        "colab": {
          "base_uri": "https://localhost:8080/"
        },
        "outputId": "92d7cb1e-c129-48da-f025-593983aada86"
      },
      "outputs": [
        {
          "output_type": "stream",
          "name": "stdout",
          "text": [
            "[1, 2, 3, 4, 5, 6, 7, 8, 9, 10]\n"
          ]
        }
      ],
      "source": [
        "# 코드를 입력해 주세요\n",
        "print(list(set(numList)))"
      ]
    },
    {
      "cell_type": "markdown",
      "metadata": {
        "id": "4z63jCj8i5du"
      },
      "source": [
        "<p><strong>[출력 결과]</strong></p><pre>[1, 2, 3, 4, 5, 6, 7, 8, 9, 10]</pre>"
      ]
    },
    {
      "cell_type": "markdown",
      "metadata": {
        "id": "pPl7y7cWsMYB"
      },
      "source": [
        "### 연습문제 3"
      ]
    },
    {
      "cell_type": "markdown",
      "metadata": {
        "id": "1ZsgKVeV3PXp"
      },
      "source": [
        "- 학생들의 이름과 점수를 key와 value로 가지는 `score` 변수를 생성하세요.\n",
        "    - 하준 90점, 서윤 86점, 지아 80점"
      ]
    },
    {
      "cell_type": "code",
      "execution_count": null,
      "metadata": {
        "id": "UWLF-tRb3PXq",
        "colab": {
          "base_uri": "https://localhost:8080/"
        },
        "outputId": "32b06bd7-b71d-49ec-9b38-c2eaececaaf2"
      },
      "outputs": [
        {
          "output_type": "stream",
          "name": "stdout",
          "text": [
            "{'하준': 90, '서윤': 86, '지아': 80}\n"
          ]
        }
      ],
      "source": [
        "# 코드를 입력해 주세요\n",
        "score = {\n",
        "    '하준': 90,\n",
        "    '서윤': 86,\n",
        "    '지아':80\n",
        "}\n",
        "print(score)"
      ]
    },
    {
      "cell_type": "markdown",
      "metadata": {
        "id": "4AkTqSeDi5eR"
      },
      "source": [
        "<p><strong>[출력 결과]</strong></p><pre>{'하준': 90, '서윤': 86, '지아': 80}</pre>"
      ]
    },
    {
      "cell_type": "markdown",
      "metadata": {
        "id": "jM32b3t2qbax"
      },
      "source": [
        "score 변수에 수지 95점을 추가하세요."
      ]
    },
    {
      "cell_type": "code",
      "execution_count": null,
      "metadata": {
        "id": "KsOqR1HtCtex",
        "colab": {
          "base_uri": "https://localhost:8080/"
        },
        "outputId": "88bdefb1-ba9d-4c27-d65d-70864e8f08d5"
      },
      "outputs": [
        {
          "output_type": "stream",
          "name": "stdout",
          "text": [
            "{'하준': 90, '서윤': 86, '지아': 80, '수지': 95}\n"
          ]
        }
      ],
      "source": [
        "# 코드를 입력해 주세요\n",
        "score['수지'] = 95\n",
        "print(score)"
      ]
    },
    {
      "cell_type": "markdown",
      "metadata": {
        "id": "dVjYvvzNi5eT"
      },
      "source": [
        "<p><strong>[출력 결과]</strong></p><pre>{'하준': 90, '서윤': 86, '지아': 80, '수지': 95}</pre>"
      ]
    },
    {
      "cell_type": "markdown",
      "metadata": {
        "id": "UcmPMPS8qeBX"
      },
      "source": [
        "score 변수에서 지아를 삭제하세요."
      ]
    },
    {
      "cell_type": "code",
      "execution_count": null,
      "metadata": {
        "id": "r1Xec5mX3PXs",
        "colab": {
          "base_uri": "https://localhost:8080/"
        },
        "outputId": "1f34715c-dfb0-4986-c3c0-1449ddff9ee1"
      },
      "outputs": [
        {
          "output_type": "stream",
          "name": "stdout",
          "text": [
            "{'하준': 90, '서윤': 86, '수지': 95}\n"
          ]
        }
      ],
      "source": [
        "# 코드를 입력해 주세요\n",
        "del score['지아']\n",
        "print(score)"
      ]
    },
    {
      "cell_type": "markdown",
      "metadata": {
        "id": "ggjF9gJgi5eU"
      },
      "source": [
        "<p><strong>[출력 결과]</strong></p><pre>{'하준': 90, '서윤': 86, '수지': 95}</pre>"
      ]
    },
    {
      "cell_type": "markdown",
      "metadata": {
        "id": "apYvbt9kqhFo"
      },
      "source": [
        "score 변수에 기창 98점, 남철 60점, 기성 75점을 **한번에** 추가하세요.\n",
        "- update() 를 사용하세요"
      ]
    },
    {
      "cell_type": "code",
      "execution_count": null,
      "metadata": {
        "id": "y2_7I4ZWrF5-",
        "colab": {
          "base_uri": "https://localhost:8080/"
        },
        "outputId": "d5e6ccf6-80b7-4f7e-b282-2d41a089d238"
      },
      "outputs": [
        {
          "output_type": "stream",
          "name": "stdout",
          "text": [
            "{'하준': 90, '서윤': 86, '수지': 95, '기창': 98, '남철': 60, '기성': 75}\n"
          ]
        }
      ],
      "source": [
        "# 코드를 입력해 주세요\n",
        "score.update({'기창':98, '남철':60, '기성':75})\n",
        "print(score)"
      ]
    },
    {
      "cell_type": "markdown",
      "metadata": {
        "id": "rZe79zCUi5eW"
      },
      "source": [
        "<p><strong>[출력 결과]</strong></p><pre>{'하준': 90, '서윤': 86, '수지': 95, '기창': 98, '남철': 60, '기성': 75}</pre>"
      ]
    },
    {
      "cell_type": "markdown",
      "source": [
        "## **4. 문자열**"
      ],
      "metadata": {
        "id": "NXPZyABKjvtm"
      }
    },
    {
      "cell_type": "markdown",
      "metadata": {
        "id": "K6zjGLlAjKWL"
      },
      "source": [
        "### 연습문제 1\n",
        "\n",
        "- 변수 `a`를 활용하여 문자열 포맷팅으로 출력하세요\n",
        "- print() 를 사용합니다."
      ]
    },
    {
      "cell_type": "code",
      "execution_count": null,
      "metadata": {
        "id": "x2yy9L3KjKWM"
      },
      "outputs": [],
      "source": [
        "a = 1234"
      ]
    },
    {
      "cell_type": "code",
      "execution_count": null,
      "metadata": {
        "id": "Hp9Wq-bJjKWN",
        "outputId": "ebb58a6b-a4a1-48b1-96be-7cb6dafab59b",
        "colab": {
          "base_uri": "https://localhost:8080/"
        }
      },
      "outputs": [
        {
          "output_type": "stream",
          "name": "stdout",
          "text": [
            "변수 a의 값은 1234입니다.\n"
          ]
        }
      ],
      "source": [
        "# 코드를 입력해 주세요\n",
        "print('변수 a의 값은 {}입니다.'.format(a))"
      ]
    },
    {
      "cell_type": "markdown",
      "metadata": {
        "id": "2d5XR5p4jKWQ"
      },
      "source": [
        "<p><strong>[출력 결과]</strong></p><pre>a의 값은 1234입니다\n",
        "</pre>"
      ]
    },
    {
      "cell_type": "markdown",
      "metadata": {
        "id": "Lbt495GhjKWR"
      },
      "source": [
        "- 변수 `a`, `b`를 활용하여 문자열 포맷팅으로 출력하세요\n",
        "- 단, `a`, `b`의 값은 소수 3째짜리까지 출력하고, 그 이하는 반올림합니다."
      ]
    },
    {
      "cell_type": "code",
      "execution_count": null,
      "metadata": {
        "id": "raLPMU2-jKWR"
      },
      "outputs": [],
      "source": [
        "a = 3.141592\n",
        "b = 6.181112"
      ]
    },
    {
      "cell_type": "code",
      "execution_count": null,
      "metadata": {
        "id": "t_obAyn0jKWS",
        "outputId": "d3d5fe12-a39d-4edd-a778-027f5a3a0d52",
        "colab": {
          "base_uri": "https://localhost:8080/"
        }
      },
      "outputs": [
        {
          "output_type": "stream",
          "name": "stdout",
          "text": [
            "a의 값은 3.142, b의 값은 6.181입니다.\n"
          ]
        }
      ],
      "source": [
        "# 코드를 입력해 주세요\n",
        "print('a의 값은 {:.3f}, b의 값은 {:.3f}입니다.'.format(a,b))"
      ]
    },
    {
      "cell_type": "markdown",
      "metadata": {
        "id": "vXDWlMUKjKWT"
      },
      "source": [
        "<p><strong>[출력 결과]</strong></p><pre>a의 값은 3.142, b의 값은 6.181입니다\n",
        "</pre>"
      ]
    },
    {
      "cell_type": "markdown",
      "metadata": {
        "id": "8y1u8E9UjKWx"
      },
      "source": [
        "### 연습문제 2"
      ]
    },
    {
      "cell_type": "markdown",
      "metadata": {
        "id": "aQFXKvrKjKWy"
      },
      "source": [
        "문자열 \"210101-1234567\"을 인덱싱 하여 성별을 나타내는 숫자를 출력 하세요"
      ]
    },
    {
      "cell_type": "code",
      "execution_count": null,
      "metadata": {
        "id": "UW2gEvmGjKWy"
      },
      "outputs": [],
      "source": [
        "registration_number =  '210101-1234567'"
      ]
    },
    {
      "cell_type": "code",
      "execution_count": null,
      "metadata": {
        "id": "x5tpa3dJjKWz",
        "colab": {
          "base_uri": "https://localhost:8080/"
        },
        "outputId": "72424409-64fa-4277-b8f1-523544f0b8ce"
      },
      "outputs": [
        {
          "output_type": "stream",
          "name": "stdout",
          "text": [
            "1\n"
          ]
        }
      ],
      "source": [
        "# 코드를 입력해 주세요\n",
        "print(registration_number[7])"
      ]
    },
    {
      "cell_type": "markdown",
      "metadata": {
        "id": "xYKEoJyUjKW0"
      },
      "source": [
        "<p><strong>[출력 결과]</strong></p><pre>'1'</pre>"
      ]
    },
    {
      "cell_type": "markdown",
      "metadata": {
        "id": "E40FocS3jKXN"
      },
      "source": [
        "### 연습문제 3"
      ]
    },
    {
      "cell_type": "markdown",
      "metadata": {
        "id": "J9w_AfOUjKXN"
      },
      "source": [
        "문자열 '20210101Sunny'를 슬라이싱하여 날짜는 `date`변수에 날씨는 `weather` 변수에 저장 후 출력 하세요"
      ]
    },
    {
      "cell_type": "code",
      "execution_count": null,
      "metadata": {
        "id": "1bmyGuTNjKXP"
      },
      "outputs": [],
      "source": [
        "sample = '20210101Sunny'"
      ]
    },
    {
      "cell_type": "code",
      "execution_count": null,
      "metadata": {
        "id": "Hwmt0VzMjKXQ",
        "outputId": "44fcc097-f9be-4877-9814-a6aa2e6ef66b",
        "colab": {
          "base_uri": "https://localhost:8080/"
        }
      },
      "outputs": [
        {
          "output_type": "stream",
          "name": "stdout",
          "text": [
            "date: 20210101, weather: Sunny\n"
          ]
        }
      ],
      "source": [
        "# 코드를 입력해 주세요\n",
        "date = sample[:8]\n",
        "weather = sample[8:]\n",
        "print(\"date: {}, weather: {}\".format(date,weather))"
      ]
    },
    {
      "cell_type": "markdown",
      "metadata": {
        "id": "6H5qrIUijKXR"
      },
      "source": [
        "<p><strong>[출력 결과]</strong></p><pre>date: 20210101, weather: Sunny\n",
        "</pre>"
      ]
    },
    {
      "cell_type": "markdown",
      "metadata": {
        "id": "_UfGA8sVjKXR"
      },
      "source": [
        "(문자열 슬라이싱을 활용)자동차 번호가 다음과 같을 때 뒤에 4자리만 출력하세요."
      ]
    },
    {
      "cell_type": "code",
      "execution_count": null,
      "metadata": {
        "id": "jHldiLZdjKXS"
      },
      "outputs": [],
      "source": [
        "license_plate = \"13나 5645\""
      ]
    },
    {
      "cell_type": "code",
      "execution_count": null,
      "metadata": {
        "id": "EtueBEuNjKXT",
        "outputId": "d561f6f0-4a87-4926-bf0c-7b21b6d18ca9",
        "colab": {
          "base_uri": "https://localhost:8080/"
        }
      },
      "outputs": [
        {
          "output_type": "stream",
          "name": "stdout",
          "text": [
            "5645\n"
          ]
        }
      ],
      "source": [
        "# 코드를 입력해 주세요\n",
        "print(license_plate[-4:])"
      ]
    },
    {
      "cell_type": "markdown",
      "metadata": {
        "id": "XQ5s5aqDjKXU"
      },
      "source": [
        "<p><strong>[출력 결과]</strong></p><pre>5645\n",
        "</pre>"
      ]
    },
    {
      "cell_type": "markdown",
      "metadata": {
        "id": "kNQGbTDvjKXh"
      },
      "source": [
        "### 연습문제 4\n",
        "\n",
        "- 다음 중 a, b, c에서 공통으로 사용된 알파벳(공백 포함)을 출력하세요.\n",
        "- list 형식으로 출력하세요."
      ]
    },
    {
      "cell_type": "code",
      "execution_count": null,
      "metadata": {
        "id": "d2P65TNCjKXi"
      },
      "outputs": [],
      "source": [
        "a = 'Hello, World'\n",
        "b = 'World To World'\n",
        "c = 'world to world'"
      ]
    },
    {
      "cell_type": "code",
      "execution_count": null,
      "metadata": {
        "id": "aQijdNq4jKXi",
        "colab": {
          "base_uri": "https://localhost:8080/"
        },
        "outputId": "cfc09784-d9bc-4d21-a430-e9b31e0ffa8d"
      },
      "outputs": [
        {
          "output_type": "stream",
          "name": "stdout",
          "text": [
            "[' ', 'd', 'l', 'o', 'r']\n"
          ]
        }
      ],
      "source": [
        "# 코드를 입력해 주세요\n",
        "common = set(a) & set(b) & set(c)\n",
        "print(sorted(list(common)))"
      ]
    },
    {
      "cell_type": "markdown",
      "metadata": {
        "id": "eeDrO82UjKXj"
      },
      "source": [
        "<p><strong>[출력 결과]</strong></p><pre>[' ', 'd', 'l', 'o', 'r']</pre>"
      ]
    },
    {
      "cell_type": "markdown",
      "metadata": {
        "id": "sX8mOZ82jKX3"
      },
      "source": [
        "### 연습문제 5"
      ]
    },
    {
      "cell_type": "markdown",
      "metadata": {
        "id": "oI3XNYgOjKX3"
      },
      "source": [
        "sample = ['Python', 'is', 'too', 'interesting']\n",
        "\n",
        "리스트를 'Python * is * too * interesting' 이라는 문자열로 출력하세요."
      ]
    },
    {
      "cell_type": "code",
      "execution_count": null,
      "metadata": {
        "id": "TsaOu5PrjKX4"
      },
      "outputs": [],
      "source": [
        "sample = ['Python', 'is', 'too', 'interesting']"
      ]
    },
    {
      "cell_type": "code",
      "execution_count": null,
      "metadata": {
        "id": "PhKL3LwBjKX4",
        "colab": {
          "base_uri": "https://localhost:8080/"
        },
        "outputId": "a0f1cb48-eac7-46d4-acd7-7d9f9a3307ee"
      },
      "outputs": [
        {
          "output_type": "stream",
          "name": "stdout",
          "text": [
            "Python * is * too * interesting\n"
          ]
        }
      ],
      "source": [
        "# 코드를 입력해 주세요\n",
        "print(' * '.join(sample))"
      ]
    },
    {
      "cell_type": "markdown",
      "metadata": {
        "id": "awrFEELBjKX5"
      },
      "source": [
        "<p><strong>[출력 결과]</strong></p><pre>'Python * is * too * interesting'</pre>"
      ]
    },
    {
      "cell_type": "markdown",
      "source": [
        "phone_number = ['010', '1234', '5678']\n",
        "\n",
        "리스트를 '010-1234-5678' 이라는 문자열로 출력하세요."
      ],
      "metadata": {
        "id": "MeWUSj-wYJtd"
      }
    },
    {
      "cell_type": "code",
      "execution_count": null,
      "metadata": {
        "id": "ZR9Y4vwSjKX6"
      },
      "outputs": [],
      "source": [
        "phone_number = ['010', '1234', '5678']"
      ]
    },
    {
      "cell_type": "code",
      "execution_count": null,
      "metadata": {
        "id": "FQ-N-aL3jKX6",
        "colab": {
          "base_uri": "https://localhost:8080/"
        },
        "outputId": "e5286cbc-d9e2-4588-d032-f86d198d4df9"
      },
      "outputs": [
        {
          "output_type": "stream",
          "name": "stdout",
          "text": [
            "010-1234-5678\n"
          ]
        }
      ],
      "source": [
        "# 코드를 입력해 주세요\n",
        "print('-'.join(phone_number))"
      ]
    },
    {
      "cell_type": "markdown",
      "metadata": {
        "id": "RfUjs68ojKX7"
      },
      "source": [
        "<p><strong>[출력 결과]</strong></p><pre>'010-1234-5678'</pre>"
      ]
    },
    {
      "cell_type": "markdown",
      "source": [
        "## **5. 연산**"
      ],
      "metadata": {
        "id": "U_yF2saHkag1"
      }
    },
    {
      "cell_type": "markdown",
      "metadata": {
        "id": "fRXGW-tXkdPS"
      },
      "source": [
        "### 연습문제\n",
        "\n",
        "`a`와 `b`를 덧셈하여 다음의 결과가 나오도록 코드를 입력해 주세요\n",
        "\n",
        "- 단, `a`와 `b`의 값을 수정하지 않습니다."
      ]
    },
    {
      "cell_type": "code",
      "execution_count": null,
      "metadata": {
        "id": "K3CW7xYlkdPT"
      },
      "outputs": [],
      "source": [
        "a = '10'\n",
        "b = 20"
      ]
    },
    {
      "cell_type": "code",
      "execution_count": null,
      "metadata": {
        "id": "WpTUr2hFkdPT",
        "colab": {
          "base_uri": "https://localhost:8080/"
        },
        "outputId": "45ca36ca-7271-4eab-ac82-6d03ebb1eeb5"
      },
      "outputs": [
        {
          "output_type": "stream",
          "name": "stdout",
          "text": [
            "30\n"
          ]
        }
      ],
      "source": [
        "# 코드를 입력해 주세요\n",
        "print(int(a)+b)"
      ]
    },
    {
      "cell_type": "markdown",
      "metadata": {
        "id": "_zOLe0rVkdPT"
      },
      "source": [
        "<p><strong>[출력 결과]</strong></p><pre>30</pre>"
      ]
    },
    {
      "cell_type": "code",
      "execution_count": null,
      "metadata": {
        "id": "XCZtHbnDkdPU",
        "colab": {
          "base_uri": "https://localhost:8080/"
        },
        "outputId": "0c413e90-b62e-4567-94cc-b2263250d469"
      },
      "outputs": [
        {
          "output_type": "stream",
          "name": "stdout",
          "text": [
            "1020\n"
          ]
        }
      ],
      "source": [
        "# 코드를 입력해 주세요\n",
        "print(a+str(20))"
      ]
    },
    {
      "cell_type": "markdown",
      "metadata": {
        "id": "qVf5NlDmkdPU"
      },
      "source": [
        "<p><strong>[출력 결과]</strong></p><pre>'1020'</pre>"
      ]
    },
    {
      "cell_type": "markdown",
      "source": [
        "## **6. 비교/논리/삼항연산자, ⭐⭐조건문**"
      ],
      "metadata": {
        "id": "q9wd3W5_khxK"
      }
    },
    {
      "cell_type": "markdown",
      "metadata": {
        "id": "cYzW5KXmkkgX"
      },
      "source": [
        "### 연습문제 1"
      ]
    },
    {
      "cell_type": "markdown",
      "metadata": {
        "id": "FclhoABZkkgX"
      },
      "source": [
        "사용자에게 몸무게를 입력 받아 과체중인지 정상 체중인지 출력하는 프로그램을 만드세요.\n",
        "\n",
        "- 몸무게가 100kg 초과이면 '귀하는 과체중 입니다.' 메시지를 출력하세요\n",
        "- 몸무게가 100kg 이하이면 '귀하는 정상체중 입니다.' 메시지를 출력하세요\n",
        "- 몸무게 입력은 input() 함수를 사용하여 입력 받습니다.\n",
        "- 반드시 **삼항연산자를 활용**하세요"
      ]
    },
    {
      "cell_type": "code",
      "execution_count": null,
      "metadata": {
        "id": "XxA8LBcHkkgY",
        "colab": {
          "base_uri": "https://localhost:8080/"
        },
        "outputId": "b37bf78b-1b40-4ba7-d505-09949233a681"
      },
      "outputs": [
        {
          "name": "stdout",
          "output_type": "stream",
          "text": [
            "몸무게를 입력해 주세요: 105\n"
          ]
        }
      ],
      "source": [
        "# 입력 예시 (105로 입력한 경우)\n",
        "weight = input('몸무게를 입력해 주세요: ')"
      ]
    },
    {
      "cell_type": "code",
      "execution_count": null,
      "metadata": {
        "id": "3tDWiaBakkgY",
        "colab": {
          "base_uri": "https://localhost:8080/"
        },
        "outputId": "913ed636-b8f0-4a68-8393-65f1cce2e068"
      },
      "outputs": [
        {
          "output_type": "stream",
          "name": "stdout",
          "text": [
            "'귀하는 과체중입니다.'\n"
          ]
        }
      ],
      "source": [
        "# 코드를 입력해 주세요\n",
        "print(\"'귀하는 과체중입니다.'\") if int(weight) > 100 else print(\"'귀하는 정상체중입니다.\")"
      ]
    },
    {
      "cell_type": "markdown",
      "metadata": {
        "id": "93TyjKtSkkgZ"
      },
      "source": [
        "<p><strong>[출력 결과]</strong></p><pre>'귀하는 과체중 입니다.'</pre>"
      ]
    },
    {
      "cell_type": "markdown",
      "metadata": {
        "id": "l93nms65kkge"
      },
      "source": [
        "### 연습문제 2"
      ]
    },
    {
      "cell_type": "markdown",
      "metadata": {
        "id": "gKVYxUT8kkge"
      },
      "source": [
        "#### Q1"
      ]
    },
    {
      "cell_type": "markdown",
      "metadata": {
        "id": "CXnE2aC0kkge"
      },
      "source": [
        "- (몸무게 + 100 - 키)를 비만 수치 공식이라고 가정합니다.\n",
        "- 키와 몸무게를 입력받아 첫 번째 줄에 비만 수치를 출력합니다.\n",
        "- 비만 수치가 0보다 크면 비만이라는 메시지를 출력하세요.\n",
        "\n",
        "```\n",
        "입력 예) info =[155, 60] (키, 몸무게 순)\n",
        "출력[1]: 비만수치는 5 입니다.\n",
        "출력[2]: 당신은 비만입니다.\n",
        "```"
      ]
    },
    {
      "cell_type": "code",
      "execution_count": null,
      "metadata": {
        "id": "KAjx_Fgikkgf"
      },
      "outputs": [],
      "source": [
        "info = [155, 60]"
      ]
    },
    {
      "cell_type": "code",
      "execution_count": null,
      "metadata": {
        "id": "HVOu_yaBkkgf",
        "outputId": "9b37033c-070c-4948-cd43-8decdcdee984",
        "colab": {
          "base_uri": "https://localhost:8080/"
        }
      },
      "outputs": [
        {
          "output_type": "stream",
          "name": "stdout",
          "text": [
            "비만수치는 5입니다.\n",
            "당신은 비만입니다.\n"
          ]
        }
      ],
      "source": [
        "# 코드를 입력해 주세요\n",
        "weight = info[1]\n",
        "height = info[0]\n",
        "fat = weight + 100 - height\n",
        "print(\"비만수치는 {}입니다.\".format(fat))\n",
        "if fat > 0:\n",
        "  print(\"당신은 비만입니다.\")"
      ]
    },
    {
      "cell_type": "markdown",
      "metadata": {
        "id": "OmgZv07Ykkgg"
      },
      "source": [
        "<p><strong>[출력 결과]</strong></p><pre>비만수치는 5입니다\n",
        "당신은 비만입니다.\n",
        "</pre>"
      ]
    },
    {
      "cell_type": "markdown",
      "metadata": {
        "id": "3bmZEHfGkkgg"
      },
      "source": [
        "#### Q2"
      ]
    },
    {
      "cell_type": "markdown",
      "metadata": {
        "id": "AzbSpGRpkkgg"
      },
      "source": [
        "성적을 입력받아 90점 이상이면 A, 80점이상이면 B, 70점 이상이면 C, 70점 미만이면 D를 출력하세요\n",
        "- 단, 점수가 음수이거나 100점을 초과하는 경우에는 '에러'를 출력하세요\n",
        "\n",
        "힌트) input() 함수를 사용합니다.\n",
        "- input() 함수는 사용자로부터 입력 값을 받을 수 있습니다."
      ]
    },
    {
      "cell_type": "code",
      "execution_count": null,
      "metadata": {
        "id": "onOf3fCKkkgh",
        "outputId": "7b55050a-910e-4f57-8b2a-7d5f7e95d809",
        "colab": {
          "base_uri": "https://localhost:8080/"
        }
      },
      "outputs": [
        {
          "output_type": "stream",
          "name": "stdout",
          "text": [
            "점수를 입력해 주세요: 75\n",
            "C\n"
          ]
        }
      ],
      "source": [
        "# 코드를 입력해 주세요\n",
        "score = int(input(\"점수를 입력해 주세요: \"))\n",
        "\n",
        "#점수 범위 체크\n",
        "if score >= 0 and score <= 100:\n",
        "  # 등급 판별\n",
        "  if score >= 90:\n",
        "    print(\"A\")\n",
        "  elif score >= 80:\n",
        "    print(\"B\")\n",
        "  elif score >= 70:\n",
        "    print(\"C\")\n",
        "  else:\n",
        "    print(\"D\")\n",
        "else:\n",
        "  print(\"에러\")"
      ]
    },
    {
      "cell_type": "markdown",
      "metadata": {
        "id": "OQntgoxVkkgh"
      },
      "source": [
        "<p><strong>[출력 결과]</strong></p><pre>점수를 입력해 주세요: 95\n",
        "A\n",
        "</pre>"
      ]
    },
    {
      "cell_type": "markdown",
      "metadata": {
        "id": "Al9oYvm9kkgh"
      },
      "source": [
        "- 95점 입력시: A\n",
        "- 75점 입력시: C\n",
        "- -10점 입력시: 에러\n",
        "- 105점 입력시: 에러"
      ]
    },
    {
      "cell_type": "markdown",
      "metadata": {
        "id": "GWKB7Zjnkkgi"
      },
      "source": [
        "#### Q3"
      ]
    },
    {
      "cell_type": "markdown",
      "metadata": {
        "id": "azLc2fp8kkgi"
      },
      "source": [
        "사용자로부터 `달러`, `엔`, `유로`, 또는 `위안` 금액을 입력받은 후 이를 `원`으로 변환하는 프로그램을 작성해 주세요.\n",
        "\n",
        "각 통화별 환율은 다음과 같다.\n",
        "\n",
        "- 달러: 1237.0\n",
        "- 엔: 105.4\n",
        "- 유로: 1349.69\n",
        "- 위안: 194.57\n",
        "\n",
        "사용자는 10 달러, 200 엔, 30 유로, 100 위안과 같이 금액과 통화명 사이에 **공백**을 넣어 입력한다고 가정합니다.\n",
        "\n",
        "입력 예시) `10 달러`\n",
        "\n",
        "결과 예시) `11670.0원`"
      ]
    },
    {
      "cell_type": "code",
      "execution_count": null,
      "metadata": {
        "id": "Tz0boBBwkkgi",
        "outputId": "021a12bd-64b5-4a5d-96f7-4d30c09cc493",
        "colab": {
          "base_uri": "https://localhost:8080/"
        }
      },
      "outputs": [
        {
          "output_type": "stream",
          "name": "stdout",
          "text": [
            "입력:10 달러\n",
            "12370.0원\n"
          ]
        }
      ],
      "source": [
        "# 코드를 입력해 주세요\n",
        "\n",
        "#환율\n",
        "exchange_rate = {\n",
        "    \"달러\": 1237.0,\n",
        "    \"엔\": 105.4,\n",
        "    \"유로\": 1349.69,\n",
        "    \"위안\": 194.57\n",
        "}\n",
        "\n",
        "money = input(\"입력:\")\n",
        "\n",
        "amount, currency = money.split()\n",
        "\n",
        "amount = float(amount)\n",
        "\n",
        "if currency in exchange_rate:\n",
        "  won = amount * exchange_rate[currency]\n",
        "  print(\"{}원\".format(won))"
      ]
    },
    {
      "cell_type": "markdown",
      "metadata": {
        "id": "jYIW4530kkgj"
      },
      "source": [
        "<p><strong>[출력 결과]</strong></p><pre>입력: 10 달러\n",
        "12370.0 원\n",
        "</pre>"
      ]
    },
    {
      "cell_type": "markdown",
      "source": [
        "## **⭐⭐ 7. 반복문**"
      ],
      "metadata": {
        "id": "oywhCGQOlDx1"
      }
    },
    {
      "cell_type": "markdown",
      "metadata": {
        "id": "rLJP9M4xlFQx"
      },
      "source": [
        "### 연습문제 1"
      ]
    },
    {
      "cell_type": "markdown",
      "metadata": {
        "id": "Eyi4f2yMlFQy"
      },
      "source": [
        "반복문과 조건문을 활용하여 `sample` 에서 음수 값만 출력해 주세요"
      ]
    },
    {
      "cell_type": "code",
      "execution_count": null,
      "metadata": {
        "id": "JToNXncQlFQy"
      },
      "outputs": [],
      "source": [
        "sample = [1, 11, 22, -20, 55, -33, 0, -5, 12, 35, 19, -9, -1, -100, 90]"
      ]
    },
    {
      "cell_type": "code",
      "execution_count": null,
      "metadata": {
        "id": "cQ8gQTpZlFQz",
        "outputId": "18ed004b-e7cf-4ad9-a9bf-db93624ec5e2",
        "colab": {
          "base_uri": "https://localhost:8080/"
        }
      },
      "outputs": [
        {
          "output_type": "stream",
          "name": "stdout",
          "text": [
            "-20\n",
            "-33\n",
            "-5\n",
            "-9\n",
            "-1\n",
            "-100\n"
          ]
        }
      ],
      "source": [
        "# 코드를 입력해 주세요\n",
        "for i in sample:\n",
        "  if i < 0:\n",
        "    print(i)"
      ]
    },
    {
      "cell_type": "markdown",
      "metadata": {
        "id": "6mYskr4slFQ0"
      },
      "source": [
        "<p><strong>[출력 결과]</strong></p><pre>-20\n",
        "-33\n",
        "-5\n",
        "-9\n",
        "-1\n",
        "-100\n",
        "</pre>"
      ]
    },
    {
      "cell_type": "markdown",
      "metadata": {
        "id": "3ouKPO0-lFQ1"
      },
      "source": [
        "반복문과 조건문을 활용하여 `sample`의 요소 중 10보다 크고 50보다 작은 요소만 출력해 주세요"
      ]
    },
    {
      "cell_type": "code",
      "execution_count": null,
      "metadata": {
        "id": "kf9nRxH5lFQ1",
        "outputId": "73941927-2c06-4e50-c0e7-a40b82df6d9c",
        "colab": {
          "base_uri": "https://localhost:8080/"
        }
      },
      "outputs": [
        {
          "output_type": "stream",
          "name": "stdout",
          "text": [
            "11\n",
            "22\n",
            "12\n",
            "35\n",
            "19\n"
          ]
        }
      ],
      "source": [
        "# 코드를 입력해 주세요\n",
        "for i in sample:\n",
        "  if i > 10 and i < 50:\n",
        "    print(i)"
      ]
    },
    {
      "cell_type": "markdown",
      "metadata": {
        "id": "Sm8I6GHklFQ2"
      },
      "source": [
        "<p><strong>[출력 결과]</strong></p><pre>11\n",
        "22\n",
        "12\n",
        "35\n",
        "19\n",
        "</pre>"
      ]
    },
    {
      "cell_type": "markdown",
      "metadata": {
        "id": "O_W5SK5NlFRA"
      },
      "source": [
        "### 연습문제 2"
      ]
    },
    {
      "cell_type": "markdown",
      "metadata": {
        "id": "5qm6I82zlFRB"
      },
      "source": [
        "다음의 문자열을 **반복문**을 활용하여 출력하되, **모음('a', 'e', 'i', 'o', 'u')만 대문자**로 자음은 소문자로 출력해 주세요."
      ]
    },
    {
      "cell_type": "code",
      "execution_count": null,
      "metadata": {
        "id": "odmO_mDYlFRQ"
      },
      "outputs": [],
      "source": [
        "sample = \"PyThoN Is fUn\""
      ]
    },
    {
      "cell_type": "code",
      "execution_count": null,
      "metadata": {
        "id": "2Y9qE5EflFRQ",
        "outputId": "516b6eb2-b5c5-41f4-8ad6-212b50697295",
        "colab": {
          "base_uri": "https://localhost:8080/"
        }
      },
      "outputs": [
        {
          "output_type": "stream",
          "name": "stdout",
          "text": [
            "p\n",
            "y\n",
            "t\n",
            "h\n",
            "O\n",
            "n\n",
            " \n",
            "I\n",
            "s\n",
            " \n",
            "f\n",
            "U\n",
            "n\n"
          ]
        }
      ],
      "source": [
        "# 코드를 입력해 주세요\n",
        "#     if i.lower() in ['a', 'e', 'i', 'o', 'u']:\n",
        "for i in sample:\n",
        "  if i in ['a','e','i','o','u','A','E','I','O','U']:\n",
        "    print(i.upper())\n",
        "  else:\n",
        "    print(i.lower())"
      ]
    },
    {
      "cell_type": "markdown",
      "metadata": {
        "id": "yzB2ntWilFRR"
      },
      "source": [
        "<p><strong>[출력 결과]</strong></p><pre> p\n",
        " y\n",
        " t\n",
        " h\n",
        "(모음) O\n",
        " n\n",
        "(공백)\n",
        "(모음) I\n",
        " s\n",
        "(공백)\n",
        " f\n",
        "(모음) U\n",
        " n\n",
        "</pre>"
      ]
    },
    {
      "cell_type": "markdown",
      "metadata": {
        "id": "1_h_EkchFbU4"
      },
      "source": [
        "### 연습문제 3\n",
        "\n",
        "- 구구단을 반복문을 사용하여 만들어 보세요!\n",
        "- 구구단은 2단 부터 9단까지 있습니다."
      ]
    },
    {
      "cell_type": "code",
      "execution_count": null,
      "metadata": {
        "colab": {
          "base_uri": "https://localhost:8080/"
        },
        "id": "ENWT9y5RFgaJ",
        "outputId": "8b06e246-b8d9-41e2-e77e-3577ca95c4bb"
      },
      "outputs": [
        {
          "output_type": "stream",
          "name": "stdout",
          "text": [
            "2 X 1 = 2\n",
            "2 X 2 = 4\n",
            "2 X 3 = 6\n",
            "2 X 4 = 8\n",
            "2 X 5 = 10\n",
            "2 X 6 = 12\n",
            "2 X 7 = 14\n",
            "2 X 8 = 16\n",
            "2 X 9 = 18\n",
            "\n",
            "\n",
            "3 X 1 = 3\n",
            "3 X 2 = 6\n",
            "3 X 3 = 9\n",
            "3 X 4 = 12\n",
            "3 X 5 = 15\n",
            "3 X 6 = 18\n",
            "3 X 7 = 21\n",
            "3 X 8 = 24\n",
            "3 X 9 = 27\n",
            "\n",
            "\n",
            "4 X 1 = 4\n",
            "4 X 2 = 8\n",
            "4 X 3 = 12\n",
            "4 X 4 = 16\n",
            "4 X 5 = 20\n",
            "4 X 6 = 24\n",
            "4 X 7 = 28\n",
            "4 X 8 = 32\n",
            "4 X 9 = 36\n",
            "\n",
            "\n",
            "5 X 1 = 5\n",
            "5 X 2 = 10\n",
            "5 X 3 = 15\n",
            "5 X 4 = 20\n",
            "5 X 5 = 25\n",
            "5 X 6 = 30\n",
            "5 X 7 = 35\n",
            "5 X 8 = 40\n",
            "5 X 9 = 45\n",
            "\n",
            "\n",
            "6 X 1 = 6\n",
            "6 X 2 = 12\n",
            "6 X 3 = 18\n",
            "6 X 4 = 24\n",
            "6 X 5 = 30\n",
            "6 X 6 = 36\n",
            "6 X 7 = 42\n",
            "6 X 8 = 48\n",
            "6 X 9 = 54\n",
            "\n",
            "\n",
            "7 X 1 = 7\n",
            "7 X 2 = 14\n",
            "7 X 3 = 21\n",
            "7 X 4 = 28\n",
            "7 X 5 = 35\n",
            "7 X 6 = 42\n",
            "7 X 7 = 49\n",
            "7 X 8 = 56\n",
            "7 X 9 = 63\n",
            "\n",
            "\n",
            "8 X 1 = 8\n",
            "8 X 2 = 16\n",
            "8 X 3 = 24\n",
            "8 X 4 = 32\n",
            "8 X 5 = 40\n",
            "8 X 6 = 48\n",
            "8 X 7 = 56\n",
            "8 X 8 = 64\n",
            "8 X 9 = 72\n",
            "\n",
            "\n",
            "9 X 1 = 9\n",
            "9 X 2 = 18\n",
            "9 X 3 = 27\n",
            "9 X 4 = 36\n",
            "9 X 5 = 45\n",
            "9 X 6 = 54\n",
            "9 X 7 = 63\n",
            "9 X 8 = 72\n",
            "9 X 9 = 81\n",
            "\n",
            "\n"
          ]
        }
      ],
      "source": [
        "# 코드를 입력해 주세요\n",
        "for i in range(2,9+1):\n",
        "  for j in range(1, 9+1):\n",
        "    print(i,\"X\",j,\"=\",i*j)\n",
        "  print(\"\\n\")"
      ]
    },
    {
      "cell_type": "markdown",
      "metadata": {
        "id": "gh-4iIWflFRd"
      },
      "source": [
        "<p><strong>[출력 결과]</strong></p><pre>2 X 1 = 2\n",
        "2 X 2 = 4\n",
        "2 X 3 = 6\n",
        "2 X 4 = 8\n",
        "2 X 5 = 10\n",
        "2 X 6 = 12\n",
        "2 X 7 = 14\n",
        "2 X 8 = 16\n",
        "2 X 9 = 18\n",
        "\n",
        "3 X 1 = 3\n",
        "3 X 2 = 6\n",
        "3 X 3 = 9\n",
        "3 X 4 = 12\n",
        "3 X 5 = 15\n",
        "3 X 6 = 18\n",
        "3 X 7 = 21\n",
        "3 X 8 = 24\n",
        "3 X 9 = 27\n",
        "\n",
        "4 X 1 = 4\n",
        "4 X 2 = 8\n",
        "4 X 3 = 12\n",
        "4 X 4 = 16\n",
        "4 X 5 = 20\n",
        "4 X 6 = 24\n",
        "4 X 7 = 28\n",
        "4 X 8 = 32\n",
        "4 X 9 = 36\n",
        "\n",
        "5 X 1 = 5\n",
        "5 X 2 = 10\n",
        "5 X 3 = 15\n",
        "5 X 4 = 20\n",
        "5 X 5 = 25\n",
        "5 X 6 = 30\n",
        "5 X 7 = 35\n",
        "5 X 8 = 40\n",
        "5 X 9 = 45\n",
        "\n",
        "6 X 1 = 6\n",
        "6 X 2 = 12\n",
        "6 X 3 = 18\n",
        "6 X 4 = 24\n",
        "6 X 5 = 30\n",
        "6 X 6 = 36\n",
        "6 X 7 = 42\n",
        "6 X 8 = 48\n",
        "6 X 9 = 54\n",
        "\n",
        "7 X 1 = 7\n",
        "7 X 2 = 14\n",
        "7 X 3 = 21\n",
        "7 X 4 = 28\n",
        "7 X 5 = 35\n",
        "7 X 6 = 42\n",
        "7 X 7 = 49\n",
        "7 X 8 = 56\n",
        "7 X 9 = 63\n",
        "\n",
        "8 X 1 = 8\n",
        "8 X 2 = 16\n",
        "8 X 3 = 24\n",
        "8 X 4 = 32\n",
        "8 X 5 = 40\n",
        "8 X 6 = 48\n",
        "8 X 7 = 56\n",
        "8 X 8 = 64\n",
        "8 X 9 = 72\n",
        "\n",
        "9 X 1 = 9\n",
        "9 X 2 = 18\n",
        "9 X 3 = 27\n",
        "9 X 4 = 36\n",
        "9 X 5 = 45\n",
        "9 X 6 = 54\n",
        "9 X 7 = 63\n",
        "9 X 8 = 72\n",
        "9 X 9 = 81\n",
        "\n",
        "</pre>"
      ]
    },
    {
      "cell_type": "markdown",
      "metadata": {
        "id": "SYSnEUgZlFRr"
      },
      "source": [
        "### 연습문제 4"
      ]
    },
    {
      "cell_type": "markdown",
      "metadata": {
        "id": "BAioGGfilFRs"
      },
      "source": [
        "사용자의 입력이 'MALE', 'FEMALE'인 경우는 while 문을 종료하고, 그렇지 않으면 \"잘못된 입력 값입니다.\"를 출력하세요\n",
        "\n",
        "- input() 함수로 사용자로부터 입력을 받습니다."
      ]
    },
    {
      "cell_type": "code",
      "execution_count": null,
      "metadata": {
        "id": "_dIvCf1wTwC8",
        "outputId": "f04cf7d1-3b54-4b7e-9679-e31d64e12ab6",
        "colab": {
          "base_uri": "https://localhost:8080/"
        }
      },
      "outputs": [
        {
          "output_type": "stream",
          "name": "stdout",
          "text": [
            " male\n",
            "잘못된 입력 값입니다.\n",
            " animal\n",
            "잘못된 입력 값입니다.\n",
            " FEMALE\n",
            "====\n",
            "프로그램 종료\n"
          ]
        }
      ],
      "source": [
        "# 코드를 입력해 주세요\n",
        "\n",
        "while(True):\n",
        "  user_input = input(\" \")\n",
        "  if user_input in ['MALE','FEMALE']:\n",
        "    print(\"====\\n프로그램 종료\")\n",
        "    break\n",
        "  else:\n",
        "    print(\"잘못된 입력 값입니다.\")"
      ]
    },
    {
      "cell_type": "markdown",
      "metadata": {
        "id": "NOipAGrtlFRu"
      },
      "source": [
        "<p><strong>[출력 결과]</strong></p><pre>male\n",
        "잘못된 입력 값입니다.\n",
        "animal\n",
        "잘못된 입력 값입니다.\n",
        "FEMALE\n",
        "====\n",
        "프로그램 종료\n",
        "</pre>"
      ]
    },
    {
      "cell_type": "markdown",
      "metadata": {
        "id": "-K427KJjTwC-"
      },
      "source": [
        "### 연습 문제 5"
      ]
    },
    {
      "cell_type": "markdown",
      "metadata": {
        "id": "ee-VmO97TwC-"
      },
      "source": [
        "1부터 50까지의 숫자 중에서 짝수의 합을 구하세요 (while 사용)"
      ]
    },
    {
      "cell_type": "code",
      "execution_count": null,
      "metadata": {
        "colab": {
          "base_uri": "https://localhost:8080/"
        },
        "id": "9Wtkpa8JTwC-",
        "outputId": "294eadfc-8a58-46a0-e25e-4a483186f7ae"
      },
      "outputs": [
        {
          "output_type": "stream",
          "name": "stdout",
          "text": [
            "count: 2, total: 2\n",
            "count: 4, total: 6\n",
            "count: 6, total: 12\n",
            "count: 8, total: 20\n",
            "count: 10, total: 30\n",
            "count: 12, total: 42\n",
            "count: 14, total: 56\n",
            "count: 16, total: 72\n",
            "count: 18, total: 90\n",
            "count: 20, total: 110\n",
            "count: 22, total: 132\n",
            "count: 24, total: 156\n",
            "count: 26, total: 182\n",
            "count: 28, total: 210\n",
            "count: 30, total: 240\n",
            "count: 32, total: 272\n",
            "count: 34, total: 306\n",
            "count: 36, total: 342\n",
            "count: 38, total: 380\n",
            "count: 40, total: 420\n",
            "count: 42, total: 462\n",
            "count: 44, total: 506\n",
            "count: 46, total: 552\n",
            "count: 48, total: 600\n",
            "count: 50, total: 650\n"
          ]
        }
      ],
      "source": [
        "# 코드를 입력해 주세요\n",
        "count = 1\n",
        "total = 0\n",
        "while count <= 50:\n",
        "  if count % 2 == 0:\n",
        "    total += count\n",
        "    print(\"count: {}, total: {}\".format(count, total))\n",
        "  count += 1"
      ]
    },
    {
      "cell_type": "markdown",
      "metadata": {
        "id": "xZwiJ1HdlFRx"
      },
      "source": [
        "<p><strong>[출력 결과]</strong></p><pre>count: 2, total: 2\n",
        "count: 4, total: 6\n",
        "count: 6, total: 12\n",
        "count: 8, total: 20\n",
        "count: 10, total: 30\n",
        "count: 12, total: 42\n",
        "count: 14, total: 56\n",
        "count: 16, total: 72\n",
        "count: 18, total: 90\n",
        "count: 20, total: 110\n",
        "count: 22, total: 132\n",
        "count: 24, total: 156\n",
        "count: 26, total: 182\n",
        "count: 28, total: 210\n",
        "count: 30, total: 240\n",
        "count: 32, total: 272\n",
        "count: 34, total: 306\n",
        "count: 36, total: 342\n",
        "count: 38, total: 380\n",
        "count: 40, total: 420\n",
        "count: 42, total: 462\n",
        "count: 44, total: 506\n",
        "count: 46, total: 552\n",
        "count: 48, total: 600\n",
        "count: 50, total: 650\n",
        "</pre>"
      ]
    },
    {
      "cell_type": "markdown",
      "metadata": {
        "id": "N__LNdqPTwDA"
      },
      "source": [
        "### 연습 문제 6"
      ]
    },
    {
      "cell_type": "markdown",
      "metadata": {
        "id": "ZyCbL-IxTwDB"
      },
      "source": [
        "**while**을 이용하여 다음과 같이 @ 찍기에 도전해 보세요!"
      ]
    },
    {
      "cell_type": "code",
      "execution_count": null,
      "metadata": {
        "id": "qX1sgUIuTwDB",
        "outputId": "9a1eb480-f9cd-4dcf-924a-afc20f8e8d88",
        "colab": {
          "base_uri": "https://localhost:8080/"
        }
      },
      "outputs": [
        {
          "output_type": "stream",
          "name": "stdout",
          "text": [
            "@\n",
            "@@\n",
            "@@@\n",
            "@@@@\n",
            "@@@@@\n"
          ]
        }
      ],
      "source": [
        "# 코드를 입력해 주세요\n",
        "i = 1\n",
        "while i <= 5:\n",
        "  print(\"@\"*i)\n",
        "  i+=1"
      ]
    },
    {
      "cell_type": "markdown",
      "metadata": {
        "id": "AUxJPfXqlFR1"
      },
      "source": [
        "<p><strong>[출력 결과]</strong></p><pre>@\n",
        "@@\n",
        "@@@\n",
        "@@@@\n",
        "@@@@@\n",
        "</pre>"
      ]
    },
    {
      "cell_type": "code",
      "execution_count": null,
      "metadata": {
        "id": "1i2vHG0iVND2",
        "outputId": "9065176b-ec94-4c79-d2b7-49a3dd926b3b",
        "colab": {
          "base_uri": "https://localhost:8080/"
        }
      },
      "outputs": [
        {
          "output_type": "stream",
          "name": "stdout",
          "text": [
            "@\n",
            "@@\n",
            "@@@\n",
            "@@\n",
            "@\n"
          ]
        }
      ],
      "source": [
        "# 코드를 입력해 주세요\n",
        "i = 1\n",
        "while i <= 3:\n",
        "  print(\"@\"*i)\n",
        "  i += 1\n",
        "\n",
        "i = 2\n",
        "while i>= 1:\n",
        "  print(\"@\"*i)\n",
        "  i -= 1"
      ]
    },
    {
      "cell_type": "markdown",
      "metadata": {
        "id": "kNInXwYalFR-"
      },
      "source": [
        "<p><strong>[출력 결과]</strong></p><pre>@\n",
        "@@\n",
        "@@@\n",
        "@@\n",
        "@\n",
        "</pre>"
      ]
    },
    {
      "cell_type": "markdown",
      "source": [
        "## **⭐ 8. Comprehension**\n",
        "- 별도의 연습문제는 없지만 중요한 파트이니 실습파일 공부하시는 걸 !적극! 추천드립니다😊"
      ],
      "metadata": {
        "id": "tHP9q4pMm1XD"
      }
    },
    {
      "cell_type": "markdown",
      "source": [
        "## **⭐⭐⭐ 9. 함수**"
      ],
      "metadata": {
        "id": "B2DpHW2TnKri"
      }
    },
    {
      "cell_type": "markdown",
      "metadata": {
        "id": "bwUu38DTnSDE"
      },
      "source": [
        "### 연습문제 1"
      ]
    },
    {
      "cell_type": "markdown",
      "metadata": {
        "id": "Jv70d4K9nSDE"
      },
      "source": [
        "알파벳 문자열을 인수로 넣으면  함수를 구현하세요\n",
        "\n",
        "- 함수의 이름은 `capital_letter` 로 선언합니다.\n",
        "- 함수는 **letter**라는 위치인수를 가집니다.\n",
        "- 함수는 **letter**인수에 받은 문자열을 모두 대문자로 바꾸고, 바꾼 값을 `return` 합니다."
      ]
    },
    {
      "cell_type": "code",
      "execution_count": null,
      "metadata": {
        "id": "VZamErV7nSDE",
        "colab": {
          "base_uri": "https://localhost:8080/"
        },
        "outputId": "52336b8c-a63d-45d6-e8f3-433169118ee1"
      },
      "outputs": [
        {
          "output_type": "stream",
          "name": "stdout",
          "text": [
            "my name is elsa\n",
            "MY NAME IS ELSA\n"
          ]
        }
      ],
      "source": [
        "# 코드를 입력해 주세요\n",
        "def capital_letter(letter):\n",
        "  return letter.upper()\n",
        "\n",
        "sentence = input(\"\")\n",
        "print(capital_letter(sentence))"
      ]
    },
    {
      "cell_type": "markdown",
      "metadata": {
        "id": "G4bqSSW4nSDE"
      },
      "source": [
        "<p><strong>[출력 결과]</strong></p><pre>'MY NAME IS ELSA'</pre>"
      ]
    },
    {
      "cell_type": "markdown",
      "metadata": {
        "id": "pq3QCVvtnSDE"
      },
      "source": [
        "### 연습문제 2"
      ]
    },
    {
      "cell_type": "markdown",
      "metadata": {
        "id": "e4luTG_ZnSDF"
      },
      "source": [
        "def calc_many(choice, *args) 함수에서\n",
        "- choice가 `sum` 이면 **합**을 구해서 return 합니다.\n",
        "- choice 가 `mul` 이면 **곱**한 결과를 return 합니다.\n",
        "\n",
        "함수를 구현하세요"
      ]
    },
    {
      "cell_type": "code",
      "execution_count": null,
      "metadata": {
        "id": "J8I4Kb3mnSDF"
      },
      "outputs": [],
      "source": [
        "# 코드를 입력해 주세요\n",
        "def calc_many(choice, *args):\n",
        "  if choice == 'sum':\n",
        "    return sum(args)\n",
        "  elif choice == 'mul':\n",
        "    result = 1\n",
        "    for num in args:\n",
        "      result *= num\n",
        "    return result\n",
        "  else:\n",
        "    return \"에러\""
      ]
    },
    {
      "cell_type": "code",
      "execution_count": null,
      "metadata": {
        "id": "peMt3Sw4nSDF",
        "colab": {
          "base_uri": "https://localhost:8080/"
        },
        "outputId": "efe66666-0fac-429e-deea-6d284369d515"
      },
      "outputs": [
        {
          "output_type": "stream",
          "name": "stdout",
          "text": [
            "10\n",
            "120\n"
          ]
        }
      ],
      "source": [
        "# 결과: 10\n",
        "print(calc_many('sum', 0, 1, 2, 3, 4))\n",
        "# 결과: 120\n",
        "print(calc_many('mul', 1, 2, 3, 4, 5))"
      ]
    },
    {
      "cell_type": "markdown",
      "source": [
        "## **10. 파이썬 내장함수**"
      ],
      "metadata": {
        "id": "N2NMjUDsnl-h"
      }
    },
    {
      "cell_type": "markdown",
      "metadata": {
        "id": "EjJ8V_Aent7r"
      },
      "source": [
        "### 연습문제"
      ]
    },
    {
      "cell_type": "markdown",
      "metadata": {
        "id": "SaL74V2dnt7r"
      },
      "source": [
        "`zip()`과 반복문을 활용하여 다음과 같이 출력해 주세요"
      ]
    },
    {
      "cell_type": "code",
      "execution_count": null,
      "metadata": {
        "id": "7aGCYNl4nt7s"
      },
      "outputs": [],
      "source": [
        "fruit = ['사과', '자두', '딸기', '망고']\n",
        "price = [1000, 3000, 2500, 6000]"
      ]
    },
    {
      "cell_type": "code",
      "execution_count": null,
      "metadata": {
        "id": "P-wERGbFnt7s",
        "outputId": "7261bfa5-057a-4fb4-9ca8-cde5f3573018",
        "colab": {
          "base_uri": "https://localhost:8080/"
        }
      },
      "outputs": [
        {
          "output_type": "stream",
          "name": "stdout",
          "text": [
            "(사과 / 1000 원)\n",
            "(자두 / 3000 원)\n",
            "(딸기 / 2500 원)\n",
            "(망고 / 6000 원)\n"
          ]
        }
      ],
      "source": [
        "# 코드를 입력해 주세요\n",
        "for a, b in zip(fruit, price):\n",
        "  print(\"({} / {} 원)\".format(a,b))"
      ]
    },
    {
      "cell_type": "markdown",
      "metadata": {
        "id": "_42JX4Eant7v"
      },
      "source": [
        "<p><strong>[출력 결과]</strong></p><pre>(사과 / 1000 원)\n",
        "(자두 / 3000 원)\n",
        "(딸기 / 2500 원)\n",
        "(망고 / 6000 원)\n",
        "</pre>"
      ]
    }
  ]
}